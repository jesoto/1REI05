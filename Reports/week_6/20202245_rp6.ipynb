{
 "cells": [
  {
   "cell_type": "code",
   "execution_count": null,
   "id": "511a95ee",
   "metadata": {},
   "outputs": [],
   "source": [
    "# REPORT 6"
   ]
  },
  {
   "cell_type": "code",
   "execution_count": null,
   "id": "ed1c43e9",
   "metadata": {},
   "outputs": [],
   "source": [
    "# 20202245"
   ]
  },
  {
   "cell_type": "code",
   "execution_count": null,
   "id": "8ded2276",
   "metadata": {},
   "outputs": [],
   "source": [
    "# Melany Rodriguez"
   ]
  },
  {
   "cell_type": "code",
   "execution_count": null,
   "id": "533fc77c",
   "metadata": {},
   "outputs": [],
   "source": [
    "# Reading part"
   ]
  },
  {
   "cell_type": "markdown",
   "id": "2f0c881a",
   "metadata": {},
   "source": [
    "It is known that Peru has gone through various recessions and economic contractions throughout its history. Many of these are related to external factors that directly or indirectly affect Peru. It is also known that economic policies have been used to resist these external recessions, however little is known about what these have been or if they have been effective or not in their objective.\n",
    "\n",
    "The objective of this document is to show how Peruvian economic policies have been executed and implemented in periods of recession, unemployment, lower private investment and low prices of raw materials, that is, times of \"lean cows\". Specifically, the study focuses on analyzing the period between 2013-2015, characterized by a sharp drop in economic growth. For this, the author, in a first section, proposes to explain the adverse external shock suffered by the Peruvian economy. Second, he discusses the inflationary impact caused by this external shock, especially linked to the exchange rate. Third, he explains the monetary and fiscal policies used during 2013 and 2015 and why they have not been fully effective in resisting the adverse shock. Finally, it shows the macroeconomic challenges inherited for the government of Pedro Pablo Kuchinzky as well as some recommendations to face future crises.\n",
    "\n",
    "Some of the advantages of the article lie in the ease of presentation of ideas due to the graphics provided that enrich the understanding of the document and illustrate the results that the author wants to show to enrich his research. For example, the graphs referring to the slowdown in GDP, the fall in the value of exports, the reduction in private investment, the effects of adverse shocks on the exchange rate, etc.\n",
    "\n",
    "Many economic articles focus on criticism or to refute some controversial points, however few are those that provide a framework of solutions to the problem raised. In this case, the author writes about the criticisms of the economic policies carried out during 2013 and 2015 and why many of them did not work. In addition to this, he proposes possible solutions to face the problem later, in this case, the government of Pedro Pablo Kuczynski external shocks in possible recessions. Some of them are to reactivate the urban productive apparatus and create jobs during a time of lean cows; diversify the Peruvian economy; and, mitigate the latent conflict between a high real exchange rate and low inflation.\n",
    "\n",
    "Finally, the document has an appendix in which it shows the mathematical results such as inflation, the salary increase, so the document provides a quantitative base, which for many readers can be very attractive. This same shows some formulas and equations that in this case, favors his argument and refutes some formulations such as the incomplete Taylor rule used by the central bank.\n",
    "\n",
    "Among the disadvantages of the article, it can be mentioned that the section of the appendix should be more involved with the text or have more mentions in the document itself since being separated and little mentioned, it can often be ignored. On the other hand, I believe that more space should have been given regarding fiscal policy, since in the section on monetary and fiscal policy, the first occupies almost the entire chapter and the second barely a few paragraphs, so the understanding of this is more limited.\n",
    "Finally, an observation that I have found is that it is not very clear how it is that the cycle of reductions in the reference rate during the mentioned years worked for the years 2008 and 2009 but in 2013 and 2015. Two factors are mentioned, but these only they are mentioned and not explained by what is left in the air. For example, that the BCRP allowed the interbank market interest rate to move away from the reference interest rate, which surprised commercial banks. It is not explained why this factor could have diminished the effectiveness of the reductions in the reference rate.\n",
    "\n",
    "The greatest contribution of the article that I can mention lies in the historicity and experience of economic policy in the face of other crises that the Peruvian economy has gone through. This, in the sense in which this is used as a tool that helps and guides the future behavior of economic policies in the face of external shocks. In this sense, the document summarizes, in some way, some mistakes made in economic policy in the years mentioned. This serves, first of all, to avoid making those mistakes and in the same way, to use this experience to learn from it.\n",
    "\n",
    "Finally, some of the next steps that I consider pertinent are, first of all,\n",
    "cover the study referring to the policies used between 2020 and 2022. Especially referring to the pandemic and evaluate in which points it has been different from the possible solutions proposed at the end of the document, and also, compare the policies used in this updated study with some previous crises and suggest some policies to improve the situation in future years.\n",
    "\n",
    "Second, the study could be extended to the Latin American sphere. By depending heavily on the export of raw materials, some similarities could be found and a study could be made that considers more countries, during the years of the study. In addition, compare how countries such as Chile, Colombia or Mexico, with a lower inflation target range than Peru, have been able to cope with the decrease in export prices of raw materials and if this strategy has had any economic consequence different from that of Peru. . And finally, to propose some solutions for the Latin American situation and to use the previous experience as a guide to resist future crises."
   ]
  },
  {
   "cell_type": "code",
   "execution_count": null,
   "id": "6687bbbc",
   "metadata": {},
   "outputs": [],
   "source": [
    "# Coding part"
   ]
  },
  {
   "cell_type": "markdown",
   "id": "78f74435",
   "metadata": {},
   "source": [
    "Función Consumo:C= C0+ bY^d\n",
    "Función Inversión:I= I0 - hr\n",
    "Gasto del Gobierno:G= G0\n",
    "Tributacion: T= tY\n",
    "Exportaciones:X= X0\n",
    "Importaciones:M= mY^d\n",
    "Gasto o Demanda Agregada:DA=C+I+G+X-M\n",
    "Condición de equilibrio:Y=C+I+G+X-M\n"
   ]
  },
  {
   "cell_type": "markdown",
   "id": "e803aea0",
   "metadata": {},
   "source": [
    "DERIVAR DEMANDA AGREGADA\n",
    "DA= C + I + G + X - M\n",
    "DA= C0 + bY^d + I0 - hr + G0 + X0 - mY^d\n",
    "DA= C0 + I0 - hr + G0 + X0 + bY^d - mY^d\n",
    "DA= C0 + I0 - hr + G0 + X0 + (b - m)Y^d\n",
    "DA= C0 + I0 - hr + G0 + X0 + (b - m)(1-t)Y\n",
    "[C0 + I0 - hr + G0 + X0]= α0-->intercepto\n",
    "[(b - m)(1-t)]= α1------------>pendiente\n",
    "\n",
    "DA= (α0) + (α1)Y"
   ]
  },
  {
   "cell_type": "markdown",
   "id": "98659114",
   "metadata": {},
   "source": [
    "DERIVAR INGRESO DE EQUILIBRIO\n",
    "Y= C + I + G + X - M\n",
    "Y= C0 + I0 - hr + G0 + X0 + (b - m)(1-t)Y\n",
    "Y-(b - m)(1-t)Y= C0 + I0 - hr + G0 + X0\n",
    "[1-(b - m)(1-t)]Y=[C0 + I0 - hr + G0 + X0]\n",
    "Y*= (1/[1-(b - m)(1-t)])[C0 + I0 - hr + G0 + X0]"
   ]
  },
  {
   "cell_type": "code",
   "execution_count": 14,
   "id": "b35116cb",
   "metadata": {},
   "outputs": [
    {
     "data": {
      "image/png": "[encoded data removed]",
      "text/plain": [
       "<Figure size 720x576 with 1 Axes>"
      ]
     },
     "metadata": {},
     "output_type": "display_data"
    }
   ],
   "source": [
    "import numpy as np               \n",
    "import matplotlib.pyplot as plt  \n",
    "\n",
    "Y_size = 100\n",
    "a = 20                \n",
    "b = 0.2               \n",
    "alpha = 5              \n",
    "beta  = 0.2            \n",
    "T = 1                  \n",
    "I_bar = 10             \n",
    "G_bar = 8              \n",
    "X_bar = 2              \n",
    "d = 5                  \n",
    "\n",
    "Y = np.arange(Y_size)  \n",
    "\n",
    "def i_IS(a, alpha, b, beta, T, I_bar, G_bar, X_bar, d, Y):\n",
    "    i_IS = ((a-alpha)-(b-beta)*T + I_bar + G_bar + X_bar - (1-b+beta)*Y)/d\n",
    "    return i_IS\n",
    "\n",
    "def Y_IS(a, alpha, b, beta, T, I_bar, G_bar, X_bar, d, i):\n",
    "    Y_IS = ((a-alpha)-(b-beta)*T + I_bar + G_bar + X_bar - d*i)/(1-b+beta)\n",
    "    return Y_IS\n",
    "\n",
    "i = i_IS(a, alpha, b, beta, T, I_bar, G_bar, X_bar, d, Y)\n",
    "\n",
    "y_max = np.max(i)\n",
    "x_max = Y_IS(a, alpha, b, beta, T, I_bar, G_bar, X_bar, d, 0)\n",
    "\n",
    "v = [0, x_max,0, y_max]                        \n",
    "fig, ax = plt.subplots(figsize=(10, 8))\n",
    "ax.set(title=\"The Income-Expenditure Model: the IS Curve\", xlabel=r'Y', ylabel=r'D')\n",
    "ax.plot(Y, i, \"k-\")\n",
    "ax.yaxis.set_major_locator(plt.NullLocator())   \n",
    "ax.xaxis.set_major_locator(plt.NullLocator())   \n",
    "plt.axis(v)                                     \n",
    "plt.show()"
   ]
  },
  {
   "cell_type": "code",
   "execution_count": null,
   "id": "56a091cf",
   "metadata": {},
   "outputs": [],
   "source": []
  }
 ],
 "metadata": {
  "kernelspec": {
   "display_name": "Python 3 (ipykernel)",
   "language": "python",
   "name": "python3"
  },
  "language_info": {
   "codemirror_mode": {
    "name": "ipython",
    "version": 3
   },
   "file_extension": ".py",
   "mimetype": "text/x-python",
   "name": "python",
   "nbconvert_exporter": "python",
   "pygments_lexer": "ipython3",
   "version": "3.9.7"
  }
 },
 "nbformat": 4,
 "nbformat_minor": 5
}
