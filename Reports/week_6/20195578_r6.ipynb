{
 "cells": [
  {
   "cell_type": "markdown",
   "id": "81ccc10b",
   "metadata": {},
   "source": [
    "#### Student: Jorge Sebastián Castro Schebesta"
   ]
  },
  {
   "cell_type": "markdown",
   "id": "bfc39477",
   "metadata": {},
   "source": [
    "#### Code: 20195578"
   ]
  },
  {
   "cell_type": "markdown",
   "id": "144cfc71",
   "metadata": {},
   "source": [
    "# Part 1"
   ]
  },
  {
   "cell_type": "markdown",
   "id": "297e78d8",
   "metadata": {},
   "source": [
    "## Fat or skinny cows? The macroeconomic challenges from the second half of the 2010s in Peru"
   ]
  },
  {
   "cell_type": "markdown",
   "id": "9dd408f3",
   "metadata": {},
   "source": [
    "The research work \" Las vacas flacas en la economía peruana \" aims to describe the adverse external shock of the Peruvian economy and its recessive and inflationary impact during 2014 and 2015; analyze the monetary and fiscal policies applied in response to the external shock; and conclude the macroeconomic challenges of the Pedro Pablo Kuczynski government. Prior to the development of these steps, two key terms for macroeconomics and for this research are emphasized in the text: fat and skinny cows. In times of \"fat cows\", employment expands and private investment increases. In times of \"skinny cows\", the prices of raw materials show a decrease."
   ]
  },
  {
   "cell_type": "markdown",
   "id": "5d11185f",
   "metadata": {},
   "source": [
    "The contribution of the work lies in the proposal of suggestions to improve the relatively critical economic scenario in which the country was immersed at the end of Ollanta Humala's mandate, translated into a paralyzed urban economy, inflation above the target range of the monetary authority for a prolonged period, and a fiscal deficit of 3% of GDP (at that time, the highest in the last five-year period in Peru). Considering the above, the first task of the government of Pedro Pablo Kuczynski should have been the reactivation of the urban productive apparatus and the creation of jobs during a time of lean cows that could have lasted his entire mandate. This previously required positive monetary and fiscal impulses that move the urban economy. The second task should have consisted in the diversification of the Peruvian economy, for which a previous plan is necessary that, supported by public investment, develops new non-traditional exports, incorporating tourism, and replaces imports. A third and final task should have been to mitigate the latent conflict between a high real exchange rate and low inflation."
   ]
  },
  {
   "cell_type": "markdown",
   "id": "5b41a7cd",
   "metadata": {},
   "source": [
    "The two main strengths of this document are the following: the first is based on the person who prepared it. The identity of the author corresponds to Oscar Alfonso Bernardo Dancourt Masías, former President of the Central Reserve Bank of Peru, and, therefore, an expert and broad connoisseur in Economics and Research, topics required for this academic proposal. The second strength consists of three main observations from the joint work of theory and graphs: the first observation is that adverse external shocks, that is, falling exports and/or capital outflows, can cause deep and prolonged recessions while raising the exchange rate and inflation. The second is that monetary and fiscal policies can prevent major recessions by keeping inflation low. The recipe to obtain the correct dose is to sell dollars, lower the interest rate, and increase public investment. The last observation is that expansionary macroeconomic policy requires two macro “piggy banks”: foreign exchange reserves in the Central Reserve Bank and stabilization funds in the Ministry of Economy and Finance. These are broken in skinny cows and filled in fat cows."
   ]
  },
  {
   "cell_type": "markdown",
   "id": "d9623fc0",
   "metadata": {},
   "source": [
    "The weakness of this research may lie in the dichotomy that, on the one hand, it is relatively young and it is probably due to this that there is an absence of academic sources that provide constructive criticism or specific next steps to develop the research question. On the other hand, it is a work that has lost validity, since from 2016 to the present there have been changes in the political-economic framework due to factors such as the institutional crisis and the covid 19 pandemic. Although this new situation can be interpreted as a limit, it can also be interpreted as a valuable opportunity to develop an upcoming academic work in line with the projection of the Peruvian economy, which, for example, analyzes in depth the series of macroeconomic challenges that the country faces and will face in the government of Pedro Castillo."
   ]
  },
  {
   "cell_type": "markdown",
   "id": "8bcb8608",
   "metadata": {},
   "source": [
    "# Part 2"
   ]
  },
  {
   "cell_type": "markdown",
   "id": "93ae4e3a",
   "metadata": {},
   "source": [
    "## IS model"
   ]
  },
  {
   "cell_type": "markdown",
   "id": "83f7cffb",
   "metadata": {},
   "source": [
    "### What do we call the “IS” model?\n",
    "\n",
    "The IS model represents the goods market. It is important to specify that \"I\" refers to the Investment; and “S”, to saving."
   ]
  },
  {
   "cell_type": "markdown",
   "id": "16be8b0e",
   "metadata": {},
   "source": [
    "The IS schedule is derived from the equilbrium condition where output ($Y$) equals spending: $Y$=$C$+$I$+$G$+($X$−$M$)\n",
    "\n",
    "$C$ is household consumption; $I$ is private investment; $G$ is the level of government spending; $X$ is exports; and $M$ is imports. "
   ]
  },
  {
   "cell_type": "markdown",
   "id": "05b559cb",
   "metadata": {},
   "source": [
    "### Household's consumption\n",
    "\n",
    "$C$=$C_{0}$+$b$$y^{d}$\n",
    "\n",
    "It can also be represented as follows: $C$=$C_{0}$+$b(1-t)y$\n",
    "\n",
    "$C_{0}$ is the level of autonomous consumption (indepenent of the level of income); $b$ is the marginal propensity to consume; and $t$ is the dollar-amount of taxes."
   ]
  },
  {
   "cell_type": "markdown",
   "id": "8f63368a",
   "metadata": {},
   "source": [
    "### Investment\n",
    "\n",
    "$I$=$I_{0}$-$h_{r}$\n",
    "\n",
    "$I_{0}$ represents autonomous investment; and $h_{r}$ represents the interest rate. Both have an inverse relationship."
   ]
  },
  {
   "cell_type": "markdown",
   "id": "747b429c",
   "metadata": {},
   "source": [
    "### Government spending\n",
    "\n",
    "$G$=$G_{0}$\n",
    "\n",
    "$G_{0}$ represents autonomous spending."
   ]
  },
  {
   "cell_type": "markdown",
   "id": "b84cc6c7",
   "metadata": {},
   "source": [
    "### Export\n",
    "\n",
    "$X$=$X_{0}$\n",
    "\n",
    "$X_{0}$ represents autonomous export."
   ]
  },
  {
   "cell_type": "markdown",
   "id": "c3875f5f",
   "metadata": {},
   "source": [
    "### Import\n",
    "\n",
    "$M$=$m$$y^{d}$\n",
    "\n",
    "$m$ is the marginal propensity to import."
   ]
  },
  {
   "cell_type": "markdown",
   "id": "23ef8864",
   "metadata": {},
   "source": [
    "### The aggregate demand \n",
    "\n",
    "Let's represent it as \"$DA$\"...\n",
    "\n",
    "$DA$=$C$+$I$+$G$+($X$−$M$)\n",
    "\n",
    "$DA$=$C_{0}$+$b$$(y-ty)$+$I_{0}$-$h_{r}$+$G_{0}$+$X_{0}$-$m(y-xy)$\n",
    "\n",
    "$DA$=$(C_{0}+I_{0}+G_{0}+X_{0}-h_{r})$+$(b-m)(1-t)Y$\n",
    "\n",
    "$DA$=$α_{0}$+$α_{1}Y$ \n",
    "\n",
    "$α_{0}$ is the intercept; and $α_{1}$, the slope."
   ]
  },
  {
   "cell_type": "markdown",
   "id": "3573ed5d",
   "metadata": {},
   "source": [
    "### Taxation (not included in the aggregate demand formula)\n",
    "\n",
    "$T$=$tY$"
   ]
  },
  {
   "cell_type": "markdown",
   "id": "f8dbb64e",
   "metadata": {},
   "source": [
    "### On the way to a balance: the equilibrium economy formula\n",
    "\n",
    "Let's represent it as \"$Y$\"...\n",
    "\n",
    "$Y$=$(C_{0}+I_{0}+G_{0}+X_{0}-h_{r})$+$(b-m)(1-t)Y$\n",
    "\n",
    "$Y$-$(b-m)(1-t)Y$=$[C_{0}+I_{0}+G_{0}+X_{0}-h_{r}]$\n",
    "\n",
    "$[1-(b-m)(1-t)]Y$=$[C_{0}+I_{0}+G_{0}+X_{0}-h_{r}]$\n",
    "\n",
    "$Y$=$[1-(b-m)(1-t)]^{-1}$$[C_{0}+I_{0}+G_{0}+X_{0}-h_{r}]$ \n",
    "\n",
    "The part of the equation \"$[1-(b-m)(1-t)]^{-1}$\" is called the Keynesian multiplier, which must be greater than zero, and can be represented as $k$."
   ]
  },
  {
   "cell_type": "markdown",
   "id": "c90762a0",
   "metadata": {},
   "source": [
    "### IS graphic"
   ]
  },
  {
   "cell_type": "code",
   "execution_count": 24,
   "id": "1d0f1dc9",
   "metadata": {},
   "outputs": [
    {
     "data": {
      "image/png": "[encoded data removed]",
      "text/plain": [
       "<Figure size 720x576 with 1 Axes>"
      ]
     },
     "metadata": {},
     "output_type": "display_data"
    }
   ],
   "source": [
    "import numpy as np               \n",
    "import matplotlib.pyplot as plt  \n",
    "\n",
    "Y_size = 200\n",
    "a = 40                 \n",
    "b = 0.4                \n",
    "alpha = 10              \n",
    "beta  = 0.4           \n",
    "T = 2                  \n",
    "I_bar = 20             \n",
    "G_bar = 16              \n",
    "X_bar = 4            \n",
    "d = 10                  \n",
    "\n",
    "Y = np.arange(Y_size)  \n",
    "\n",
    "\n",
    "def i_IS(a, alpha, b, beta, T, I_bar, G_bar, X_bar, d, Y):\n",
    "    i_IS = ((a-alpha)-(b-beta)*T + I_bar + G_bar + X_bar - (1-b+beta)*Y)/d\n",
    "    return i_IS\n",
    "\n",
    "def Y_IS(a, alpha, b, beta, T, I_bar, G_bar, X_bar, d, i):\n",
    "    Y_IS = ((a-alpha)-(b-beta)*T + I_bar + G_bar + X_bar - d*i)/(1-b+beta)\n",
    "    return Y_IS\n",
    "\n",
    "i = i_IS(a, alpha, b, beta, T, I_bar, G_bar, X_bar, d, Y)\n",
    "\n",
    "\n",
    "y_max = np.max(i)\n",
    "x_max = Y_IS(a, alpha, b, beta, T, I_bar, G_bar, X_bar, d, 0)\n",
    "\n",
    "v = [0, x_max, 0, y_max]                        \n",
    "fig, ax = plt.subplots(figsize=(10, 8))\n",
    "ax.set(title=\"Investment and Saving graphic\", xlabel=r'Y', ylabel=r'r')\n",
    "ax.plot(Y, i, \"k-\")\n",
    "ax.yaxis.set_major_locator(plt.NullLocator())   \n",
    "ax.xaxis.set_major_locator(plt.NullLocator())   \n",
    "plt.axis(v)                                    \n",
    "plt.show()"
   ]
  }
 ],
 "metadata": {
  "kernelspec": {
   "display_name": "Python 3 (ipykernel)",
   "language": "python",
   "name": "python3"
  },
  "language_info": {
   "codemirror_mode": {
    "name": "ipython",
    "version": 3
   },
   "file_extension": ".py",
   "mimetype": "text/x-python",
   "name": "python",
   "nbconvert_exporter": "python",
   "pygments_lexer": "ipython3",
   "version": "3.9.7"
  }
 },
 "nbformat": 4,
 "nbformat_minor": 5
}
