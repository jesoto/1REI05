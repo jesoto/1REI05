{
 "cells": [
  {
   "cell_type": "markdown",
   "id": "9a48d25b",
   "metadata": {},
   "source": [
    "# REPORT Nº6:\n",
    "### Name: Valeria Albarracín Garcés \n",
    "### Code: 20191096\n",
    "\n",
    "## PART 1: REPORT"
   ]
  },
  {
   "cell_type": "markdown",
   "id": "a4c3d86d",
   "metadata": {},
   "source": [
    "Rather than asking a research question, the article analyzes in depth the adverse external shock suffered by the Peruvian economy since 2014, its consequences, the monetary and fiscal policies adopted at the time, and the situation that awaited the incoming government. In this way, Dancourt's work not only contributes to the literature and theory on macroeconomic responses to external shocks, but also provides recommendations on fiscal policy (increasing public investment and reducing taxes) and monetary policy (reducing the interest rate) that can be useful both for the studied period and in future recessive periods.\n",
    "\n",
    "To achieve this goal, the article uses a methodology focused on history, the \"vacas gordos\" and \"vacas flacas\" eras, and the assumptions of Keynesian theory. Although it does not use statistical or mathematical methods beyond graphs, the historical review and the constant comparison with periods such as the 1980s or the 2008 crisis, allow to understand the criticism and the macroeconomic recommendations raised.\n",
    "\n",
    "This less scientific and more normative methodology, although it may be biased by certain ideological or moral preferences, is more direct and understandable to understand a social phenomenon that affected all Peruvians. For this reason, the previous explanations about stabilizing policies (expansive in the midst of a recession and contractionary in the boom), are not presented in a model that pretends to represent reality, but are contrasted with real situations.\n",
    "\n",
    "Despite this historical emphasis, a weakness of the article is not explaining where the negative external shock originates from; in other words, no background was provided on the end of the external boom. Although it is understood that Peru, being an exporter of commodities, is affected by fluctuations at the international level, the article could be able to analyze the world context of 2012-2015 to understand the \"vacas flacas\" times. Because the demand from China was and is fundamental in the increase in prices. However, it must be noted that, since 2012, the Chinese economy was growing less and was moving from an export-based model to a more consumption-focused one.\n",
    "\n",
    "A second strength of the article is linked to the emphasis on non-primary GDP and the slowdown it has experienced since 2012. Following Waldo Mendoza, the significant recovery of the primary sector of the economy since 2015 (thanks to the resumption of mining projects), has overshadowed the crisis in the non-primary sector. In this sense, Dancourt shows the impact of the fall in metal prices on urban employment in companies with more than 10 workers and begins his analysis from this concern. Hence, he also criticizes measures that violate labor rights and environmental protection using economic reactivation as a justification.\n",
    "\n",
    "Thus, the difficulty lies in the inflation target range (1-3% per year). Although this might seem like a biased statement, even liberal economists have recognized that the current inflation band is an obstacle for the BCRP to reduce the interest rate to cushion the recessive impact of the external shock. What is the point of maintaining an inflation target that in practice is systematically not met? For this reason, future research should focus not only on the possibility of reducing this range and comparing it with the experience of other Latin American countries, but also on understanding whether the reduction in the target range in 2007 was due to the burden of hyperinflation or to other substantiated reasons.\n"
   ]
  },
  {
   "cell_type": "markdown",
   "id": "9c9864df",
   "metadata": {},
   "source": [
    "## PART 2: IS schedule (investment-saving)"
   ]
  },
  {
   "cell_type": "markdown",
   "id": "5f5b7da2",
   "metadata": {},
   "source": [
    "The equilibrium between saving and investment is derived form the equilibrium condition where income equals aggregate demand: $ DA = Y $\n",
    "\n",
    "$$ Y = C + I + G + X - M $$\n",
    "\n",
    "where $C$ is household consumption, $I$ private investment, $G$ government spending, $X$ exports, and $M$ is imports."
   ]
  },
  {
   "cell_type": "markdown",
   "id": "62d78b33",
   "metadata": {},
   "source": [
    "OBS: considerar that\n",
    "$$ C = C_0 + bY^d $$\n",
    "$$ I = I_0 - hr $$\n",
    "$$ G = G_0 $$\n",
    "$$ T = tY $$\n",
    "$$ X = X_0 $$\n",
    "$$ M = mY^d $$"
   ]
  },
  {
   "cell_type": "markdown",
   "id": "b4143c2e",
   "metadata": {},
   "source": [
    "Back to the equilibrium condition, $$ Y = C + I + G + X - M $$ the disposable income equation $ (Y^d) $ is obtained by subtracting the taxation $ (T) $ from both sides:\n",
    "\n",
    "$$ Y - T = C + I - T + G + X - M $$\n",
    "\n",
    "$$ Y^d = C + I - T + G + X - M $$"
   ]
  },
  {
   "cell_type": "markdown",
   "id": "1e856707",
   "metadata": {},
   "source": [
    "By ordering the equality as follows, it is observed that total saving is equal to investment:\n",
    "\n",
    "$$ (Y^d - C) + (T - G) + (M - X) = I $$"
   ]
  },
  {
   "cell_type": "markdown",
   "id": "0eba8fe7",
   "metadata": {},
   "source": [
    "The three parts on the right constitute the three components of total saving $ (S) $: private saving $ (S_p) $, government saving $ (S_g) $, and foreign saving $ (S_e) $\n",
    "\n",
    "$$ S = S_p + S_g + S_e $$\n"
   ]
  },
  {
   "cell_type": "markdown",
   "id": "053cbbcf",
   "metadata": {},
   "source": [
    "Therefore,\n",
    "\n",
    "$$ S_p + S_g + S_e = I $$\n",
    "\n",
    "the equality between saving and investment is obtained\n",
    "\n",
    "$$ S(Y) = I(r) $$"
   ]
  },
  {
   "cell_type": "markdown",
   "id": "ad5a37f5",
   "metadata": {},
   "source": [
    "By making some substitutions, it is obtain:\n",
    "$$ S_p + S_g + S_e = I_0 - hr $$\n",
    "\n",
    "$$ (Y^d - C_0 - bY^d) + (T - G_0) + (mY^d - X_0) = I_0 - hr $$"
   ]
  },
  {
   "cell_type": "markdown",
   "id": "8aa602e0",
   "metadata": {},
   "source": [
    "And then, by considering the previous observations about the components of the equilibrium condition $(Y)$:\n",
    "\n",
    "$$ [1 - (b - m)(1 - t)]Y - (C_0 + G_0 + X_0) = I_0 - hr $$"
   ]
  },
  {
   "cell_type": "markdown",
   "id": "338778da",
   "metadata": {},
   "source": [
    "The IS curve can be expressed with an equation where the interest rate is a function of income:\n",
    "\n",
    "$$ hr = (C_0 + G_0 + I_0 + X_0) - (1 - (b - m)(1 - t))Y $$\n",
    "\n",
    "$$ r = \\frac{1}{h}(C_0 + G_0 + I_0 + X_0) - \\frac{1 - (b - m)(1 - t)}{h}Y $$"
   ]
  },
  {
   "cell_type": "markdown",
   "id": "ffc31ef8",
   "metadata": {},
   "source": [
    "And can be simplified to:\n",
    "\n",
    "$$ r = \\frac{B_0}{h} - \\frac{B_1}{h}Y $$\n",
    "\n",
    "Where $ B_0 = C_0 + G_0 + I_0 + X_0  $ and $  B_1 = 1 - (b - m)(1 - t) $"
   ]
  },
  {
   "cell_type": "code",
   "execution_count": 1,
   "id": "491de554",
   "metadata": {},
   "outputs": [],
   "source": [
    "import numpy as np\n",
    "import matplotlib.pyplot as plt"
   ]
  },
  {
   "cell_type": "code",
   "execution_count": 2,
   "id": "1e6cca90",
   "metadata": {},
   "outputs": [],
   "source": [
    "#Parameters\n",
    "Y_size = 100 \n",
    "b = 0.2                 #propensión marginal a consumir\n",
    "m = 0.2                 #propensión a importar\n",
    "t = 1                   #tasa impositiva\n",
    "Co = 20                 #consumo autónomo\n",
    "Io = 10                 #inversión autónoma\n",
    "Go = 8                  #gasto gobierno \n",
    "Xo = 2                  #exportación \n",
    "h =  5                  #constante de decisión a invertir\n",
    "\n",
    "Y = np.arange(Y_size)"
   ]
  },
  {
   "cell_type": "code",
   "execution_count": 22,
   "id": "1cba9fc4",
   "metadata": {
    "scrolled": true
   },
   "outputs": [
    {
     "data": {
      "text/plain": [
       "array([  7. ,   6.8,   6.6,   6.4,   6.2,   6. ,   5.8,   5.6,   5.4,\n",
       "         5.2,   5. ,   4.8,   4.6,   4.4,   4.2,   4. ,   3.8,   3.6,\n",
       "         3.4,   3.2,   3. ,   2.8,   2.6,   2.4,   2.2,   2. ,   1.8,\n",
       "         1.6,   1.4,   1.2,   1. ,   0.8,   0.6,   0.4,   0.2,   0. ,\n",
       "        -0.2,  -0.4,  -0.6,  -0.8,  -1. ,  -1.2,  -1.4,  -1.6,  -1.8,\n",
       "        -2. ,  -2.2,  -2.4,  -2.6,  -2.8,  -3. ,  -3.2,  -3.4,  -3.6,\n",
       "        -3.8,  -4. ,  -4.2,  -4.4,  -4.6,  -4.8,  -5. ,  -5.2,  -5.4,\n",
       "        -5.6,  -5.8,  -6. ,  -6.2,  -6.4,  -6.6,  -6.8,  -7. ,  -7.2,\n",
       "        -7.4,  -7.6,  -7.8,  -8. ,  -8.2,  -8.4,  -8.6,  -8.8,  -9. ,\n",
       "        -9.2,  -9.4,  -9.6,  -9.8, -10. , -10.2, -10.4, -10.6, -10.8,\n",
       "       -11. , -11.2, -11.4, -11.6, -11.8, -12. , -12.2, -12.4, -12.6,\n",
       "       -12.8])"
      ]
     },
     "execution_count": 22,
     "metadata": {},
     "output_type": "execute_result"
    }
   ],
   "source": [
    "def r_IS(b, m, t, Co, Io, Go, Xo, h, Y):\n",
    "    r_IS = (Co + Io + Go + Xo - Y * (1-(b-m)*(1-t)))/h\n",
    "    return r_IS\n",
    "\n",
    "def Y_IS(b, m, t, Co, Io, Go, Xo, h, r):\n",
    "    Y_IS = (Co + Io + Go + Xo - h*r)/(1-(b-m)*(1-t))\n",
    "    return Y_IS\n",
    "\n",
    "r = r_IS(b, m, t, Co, Io, Go, Xo, h, Y)\n",
    "r"
   ]
  },
  {
   "cell_type": "code",
   "execution_count": 27,
   "id": "132d613d",
   "metadata": {},
   "outputs": [
    {
     "data": {
      "image/png": "[encoded data removed]",
      "text/plain": [
       "<Figure size 720x576 with 1 Axes>"
      ]
     },
     "metadata": {},
     "output_type": "display_data"
    }
   ],
   "source": [
    "y_max = np.max(r)\n",
    "x_max = Y_IS(b, m, t, Co, Io, Go, Xo, h, 0)\n",
    "\n",
    "v = [0, x_max, 0, y_max]                        \n",
    "fig, ax = plt.subplots(figsize=(10, 8))\n",
    "ax.set(title=\"IS SCHEDULE\", xlabel=r'Y', ylabel=r'r')\n",
    "ax.plot(Y, r, \"k-\")\n",
    "ax.yaxis.set_major_locator(plt.NullLocator())   \n",
    "ax.xaxis.set_major_locator(plt.NullLocator())   \n",
    "plt.axis(v)                                    \n",
    "plt.show()\n"
   ]
  }
 ],
 "metadata": {
  "kernelspec": {
   "display_name": "Python 3 (ipykernel)",
   "language": "python",
   "name": "python3"
  },
  "language_info": {
   "codemirror_mode": {
    "name": "ipython",
    "version": 3
   },
   "file_extension": ".py",
   "mimetype": "text/x-python",
   "name": "python",
   "nbconvert_exporter": "python",
   "pygments_lexer": "ipython3",
   "version": "3.9.7"
  }
 },
 "nbformat": 4,
 "nbformat_minor": 5
}
