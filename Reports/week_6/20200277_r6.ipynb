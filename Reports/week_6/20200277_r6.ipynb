{
 "cells": [
  {
   "cell_type": "markdown",
   "id": "974b89cd",
   "metadata": {},
   "source": [
    "# Report section"
   ]
  },
  {
   "cell_type": "markdown",
   "id": "b11c9360",
   "metadata": {},
   "source": [
    "The main topic of this article is the evaluation of the external shock suffered by the Peruvian economy and its recessive and inflationary impact during 2014-15. To assess this impact, it analyzes the monetary and fiscal policies applied in response to the external shock. Finally, it ends by mentioning some challenges to be considered for the measures taken during the government of Pedro Pablo Kuczynski.\n",
    "\n",
    "The strengths found in this article, it is that starting from a conceptualization of what is meant by skinny cows and fat cows, explaining how they manifest themselves in the national economic activity. This allows to have a clearer idea about the topic addressed and at the same time by pointing out certain essential characteristics during the presence of these phenomena, it allows the reader to be positioned in an approximate context to the one that the author will address. Although it does not finish explaining why he selected from the seven major recessions, those that occurred between 2014-15. What is interesting is that, throughout the analysis of the data obtained from his equations and the graphs presented, he constantly makes a contrast with the case of the 2008-09 recession. From this, it follows that the recession of 2008-09 is a negative case for the subject studied, which allows reinforces the validity of the results obtained in the investigation. Moreover, by having similar variables to the case of the 2008-09 recession, it is about emphasizing why the results ended up being different and subsequently, the monetary and fiscal policies applied.\n",
    "\n",
    "It makes a contrast between the theory of Keynesian economics and its veracity when implementing it in the Peruvian context. It shows us how the national economy should work with the support of adequate monetary and fiscal policies, and makes reflections on how the implementation of these policies is managed in our nation. In this sense, an important strength is that their reflections or stimulations of their results have theoretical support, which allows for finding more adequate ways for a correct economic activation after a period of lean cows. Even, it is from the literary revision and its reflection in the Peruvian case, that alternatives emerge that could be chosen instead of the political decisions chosen by the government of that time and that would give more favorable results for our economy.\n",
    "\n",
    "However, the article also has certain weaknesses. Regarding the equations used, there is a lack of the use of error tests that allow assessing the robustness of the results obtained. In this sense, the margin of error regarding the influence of other explanatory factors for the results is not invalidated and makes the results and estimates presented for the year 2016 unreliable. In parallel, a control group was not considered for the investigation. that could be found in the other major recessions that were mentioned in the introduction, nor a contrast of how monetary and fiscal policies influenced, for example, the great recovery after the 2008-09 crisis. On the other hand, when approaching total inflation from the consumer price index of Metropolitan Lima, there is a great bias toward the true reality of the cost of acquiring products from a basic basket. There is no consideration of the variation of prices in the provincial and rural areas, which increases the margins of error of the results obtained. And the understanding of the Peruvian reality.\n",
    "\n",
    "Likewise, the Taylor rule is literary support for the examination of the deviation of inflation with respect to the inflation target imposed by the central bank. Within its proposed equation, there is no consideration of a variable that tries to include the alternative external explanatory factors or internal elements that could influence the impact of the external shock. In this way, there was no intention of trying to adapt the theory geographically and temporally to apply it in the evaluation of the Peruvian economy and the effects of external shocks on it.\n",
    "\n",
    "One of his main contributions is to describe the external shocks suffered by the Peruvian economy from the impact of price variations on mineral exports. Enormous emphasis is placed on the importance of the mining sector for the development of the Peruvian economy and the development of other industries that depend on the expansion or growth of mining companies. This granting of relevance to the mining sector and the reflections on how the diversification of Peruvian economic activities should be promoted has allowed the development of research on the factors that condition this centrality in the extractive activity of minerals. Among the works resulting from the approach given in this research are the works of Jan Lust \"The emergence of a capitalist subsistence economy in Peru\" and \"The continuity of the extractivist model of development in Peru\".\n",
    "Another contribution is that, at the time of giving the results obtained, it includes reflections on the consequences of the erroneous decisions made by the central bank and the Ministry of Economy during the lean times. Within these reflections, it includes methodologies or hypotheses of answers that would have been favored in a lean situation. Although these are too focused on a theoretical approach and a kind of causalities, it is from them that solutions can be outlined that both in the short and long term would be adaptable in order to maintain a more favorable scenario for economic growth despite going through recessions and allows projections to be made in case the political decisions of 2014-15 persist.\n",
    "\n",
    "Within the investigation, an increase in the goal of economic inflation is proposed, so that in times of lean times the exchange rate can rise. In this sense, as mentioned in the case of Chile, Mexico and Colombia, it should be evaluated whether in their case, having a higher estimated inflation rate, has allowed that in recessions or lean times there is a relative increase in the rate of change from local currency to dollars. If the proposed hypothesis is verified, incentives and a history of successful cases will be generated that allow the change of the monetary and fiscal policies of the Peruvian economy. On the other hand, it would be the examination of the reasons that justify that, in 6 of the 7 major recessions, the central bank ran out of foreign exchange reserves and could not play its role of selling dollars to moderate the rise in the exchange rate. In other words, to evaluate the reasons that accompanied the insertion of monetary and fiscal policies that did not favor maintaining a stable economy during the lean times. Therefore, it is important to identify the internal elements that could affect the decisions that tried to counter external shocks."
   ]
  },
  {
   "cell_type": "markdown",
   "id": "1d441683",
   "metadata": {},
   "source": [
    "# Codification section"
   ]
  },
  {
   "cell_type": "markdown",
   "id": "3ba22e3f",
   "metadata": {},
   "source": [
    "# The IS curve or the Savings-Investment balance\n",
    "\n",
    "For this model, the equilibrium condition between total savings and investment is assumed. That is, the value of the total savings will be equivalent to the value of the investment. The same situation occurs between income and aggregate demand. \n",
    "\n",
    "Starting from this equivalence, it is assumed: $$ \\ DA = Y\\ $$ \n",
    "\n",
    "$$ \\ Y=C+I+G+X-M\\ $$\n",
    "\n",
    "Where: \n",
    " - Consumption function: $$ \\ C\\ $$ \n",
    " - Inversion function:  $$ \\ I\\ $$ \n",
    " - Government spending: $$ \\ G\\ $$ \n",
    " - Exportation: $$ \\ X\\ $$\n",
    " - Importation: $$ \\ M\\ $$"
   ]
  },
  {
   "cell_type": "markdown",
   "id": "1799437e",
   "metadata": {},
   "source": [
    "So that from these variables that are part of Y, it is possible to obtain the Aggregate Demand function, from the elements previously exposed, their equations must be found:\n",
    "\n",
    "- Consumption fuction:\n",
    "$$ \\ C= Co + b*Y^d\\ $$  or $$ \\ C= Co + b (1-t)Y\\ $$\n",
    "\n",
    "Where Go is the amount basic of autonomous consumption (indepenent of the income thar evereyone receive),  Yd is the incomes available. Finally,  b is the marginal propensity to consume and t is the dollar-amount of taxes. Both b and Y have a value between 0 and 1.\n",
    "\n",
    "- Inversion function:\n",
    "$$ \\ I = Io − hr\\ $$\n",
    "\n",
    "Io is the autonomous inversion.There is a negative relationship, since r is the real interest rate. So, during the increase in r, the autonomous investment decreases. \n",
    "\n",
    "- Government spending: \n",
    "$$ \\ G = Go\\ $$ \n",
    "Go, is the expenditure of the autonomous government. The money the government spends comes from taxes.\n",
    "\n",
    "- Exportation: \n",
    " $$ \\ X = Xo\\ $$\n",
    " \n",
    "- Importation: \n",
    " $$ \\ M = m*Y^d\\ $$"
   ]
  },
  {
   "cell_type": "markdown",
   "id": "5cadd1b8",
   "metadata": {},
   "source": [
    "Then, the Aggregate Demand function will be:\n",
    "\n",
    "$$ \\ DA = C+I+G+X-M\\ $$\n",
    "$$ \\ DA = Co + bY^d + Io - hr + Go + Xo − mY^d \\ $$\n",
    "$$ \\ DA = Co + Io - hr + Go + Xo + (b-m)(1-t)Y \\ $$\n",
    "$$ \\ DA = α0 + (α1)*Y\\ $$"
   ]
  },
  {
   "cell_type": "markdown",
   "id": "0e6ccb81",
   "metadata": {},
   "source": [
    "In the Income-Expenditure model, the balance between Income and AD represents the equilibrium in the goods market. So, the equilibrium income equation is:\n",
    "\n",
    "$$ \\ DA = Co + Io - hr + Go + Xo + (b-m)(1-t)Y \\ $$\n",
    "$$ \\ Y = Co + Io - hr + Go + Xo + (b-m)(1-t)Y \\ $$\n",
    "$$ \\ Y - (b-m)(1-t)Y = (Co + Io - hr + Go + Xo) \\ $$\n",
    "$$ \\ Y [1 - (b-m)(1-t)] = (Co + Io - hr + Go + Xo) \\ $$\n",
    "$$ \\ Y = (Co + Io - hr + Go + Xo) * 1 / [1 - (b-m)(1-t)] \\ $$"
   ]
  },
  {
   "cell_type": "markdown",
   "id": "464c85da",
   "metadata": {},
   "source": [
    "From this point, one can proceed to understand the equation that models the IS equation. Total savings includes Private Savings, Government Savings and External Savings. \n",
    "\n",
    "$$ \\ S = Sp + Sg + Se\\ $$\n",
    "\n",
    "With the equivalence condition that the total savings is the same as the investment, the following equation is proposed.\n",
    "\n",
    "$$ \\ Sp + Sg + Se = Io − hr\\ $$\n",
    "\n",
    "Then we get the equation that models the IS curve\n",
    "$$ \\ S(Y) = I(r)\\ $$"
   ]
  },
  {
   "cell_type": "markdown",
   "id": "b86727b9",
   "metadata": {},
   "source": [
    "Replacing this equation with the equations and functions previously found, we obtain:\n",
    "\n",
    "$$ \\ Sp + Sg + Se = Io − hr\\ $$\n",
    "$$ \\ (Yd - Co - bY) + (T - Go) + (mY^d - Xo) = Io − hr\\ $$\n",
    "$$ \\ Y [1- (b -m) (1-t)]- (Co + Go + Xo)  = Io − hr\\ $$\n",
    "$$ \\ hr = Y [1- (b -m) (1-t)]- (Co + Go + Xo + Io)\\ $$\n",
    "$$ \\ r = [1/h *[1- (b -m) (1-t)]] * Y- [1/h*(Co + Go + Xo + Io)]\\ $$\n",
    "\n",
    "The IS curve can be expressed with an equation where the interest rate is based on income. In short, this would be a new way of expressing.\n",
    "\n",
    "$$ \\ r = [1/h *[1- (b -m) (1-t)]] * Y- [1/h*(Co + Go + Xo + Io)]\\ $$\n",
    "$$ \\ r = βo/h - (β1/h)*Y\\ $$"
   ]
  },
  {
   "cell_type": "markdown",
   "id": "fe0134c2",
   "metadata": {},
   "source": [
    "# The IS curve"
   ]
  },
  {
   "cell_type": "code",
   "execution_count": 8,
   "id": "efc110e5",
   "metadata": {},
   "outputs": [
    {
     "data": {
      "image/png": "[encoded data removed]",
      "text/plain": [
       "<Figure size 1008x864 with 1 Axes>"
      ]
     },
     "metadata": {},
     "output_type": "display_data"
    }
   ],
   "source": [
    "import numpy as np              \n",
    "import matplotlib.pyplot as plt  \n",
    "\n",
    "\"2|DEFINE PARAMETERS AND ARRAYS\"\n",
    "# Parameters\n",
    "Y_size = 100\n",
    "Co = 20                 # Autonomous consumption\n",
    "b = 0.2                # Marginal propensity to consume\n",
    "alpha = 5              # Autonomous imports\n",
    "m = 0.2            # Marginal propensity to import\n",
    "T = 1                  # Taxes\n",
    "Io = 10             # Investment intercept (when r = 0)\n",
    "Go = 8              # Government spending\n",
    "Xo = 2              # Exports (given)\n",
    "h = 5                  # Investment slope wrt to i\n",
    "\n",
    "Y = np.arange(Y_size)  # Array values of Y\n",
    "\n",
    "\"3|DEFINE AND POPULATE THE IS-SCHEDULE\"\n",
    "def r_IS(Co, alpha, b, m, T, Io, Go, Xo, h, Y):\n",
    "    r_IS = ((Co + Io + Go + Xo) - (1-(b-m)*(1-T))*Y)/h\n",
    "    return r_IS\n",
    "\n",
    "def Y_IS(Co, alpha, b, m, T, I0, G0, X0, h, r):\n",
    "    Y_IS = (Co + Io + Go + Xo)/1-(b-m)*(1-T) - h*r/(1-(b-m)*(1-T))\n",
    "    return Y_IS\n",
    "\n",
    "r = r_IS(Co, alpha, b, m, T, Io, Go, Xo, h, Y)\n",
    "\n",
    "\"4|PLOT THE IS-SCHEDULE\"\n",
    "y_max = np.max(r)\n",
    "x_max = Y_IS(Co, alpha, b, m, T, Io, Go, Xo, h, 0)\n",
    "\n",
    "v = [0, x_max, 0, y_max]                        # Set the axes range\n",
    "fig, ax = plt.subplots(figsize=(14, 12))\n",
    "ax.set(title=\"The IS curve\", xlabel=r'Y', ylabel=r'r')\n",
    "ax.plot(Y, r, \"k-\")\n",
    "ax.yaxis.set_major_locator(plt.NullLocator())   # Hide ticks\n",
    "ax.xaxis.set_major_locator(plt.NullLocator())   # Hide ticks\n",
    "plt.axis(v)                                     # Use 'v' as the axes range\n",
    "plt.show()"
   ]
  },
  {
   "cell_type": "code",
   "execution_count": null,
   "id": "3aee1b13",
   "metadata": {},
   "outputs": [],
   "source": []
  }
 ],
 "metadata": {
  "kernelspec": {
   "display_name": "Python 3 (ipykernel)",
   "language": "python",
   "name": "python3"
  },
  "language_info": {
   "codemirror_mode": {
    "name": "ipython",
    "version": 3
   },
   "file_extension": ".py",
   "mimetype": "text/x-python",
   "name": "python",
   "nbconvert_exporter": "python",
   "pygments_lexer": "ipython3",
   "version": "3.9.7"
  }
 },
 "nbformat": 4,
 "nbformat_minor": 5
}
