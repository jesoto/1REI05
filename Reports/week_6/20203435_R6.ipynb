{
 "cells": [
  {
   "cell_type": "markdown",
   "id": "f19779be",
   "metadata": {},
   "source": [
    "# Name: Alexandra Brun Coronado\n",
    "# Code: 20203435"
   ]
  },
  {
   "cell_type": "markdown",
   "id": "42c36e04",
   "metadata": {},
   "source": [
    "## I.  REPORT"
   ]
  },
  {
   "cell_type": "markdown",
   "id": "49772ec0",
   "metadata": {},
   "source": [
    "The article describes the negative external shock suffered by the Peruvian economy in the period 2014-2015. During that period, non-primary GDP fell to 3.6% and 2.4% respectively, figures well below the expected 7.3%. This slowdown was mainly due to the collapse of world metal prices, the fall in private and public investment and the credit drought in dollars. This external shock had a recessive and inflationary impact on the country, which for 2016 was already projected to be the third consecutive year of lean times in the economy. The paper delves into the analysis of the monetary and fiscal policies that were implemented in response to the recession, and whether they were the most appropriate. The author argues that the BCRP exceeded its sales of dollars, which compromised future monetary policy by halving the foreign exchange reserve (especially since it did not seem that the adverse external shock had been reversed). Also, he argues that his policy regarding the reference interest rate was inadequate because instead of responding with an aggressive reduction cycle, it did so moderately, diminishing its positive impact. On the fiscal policy side, the author is also critical. He argues that there should have been greater public investment and the tax reduction package should not have been launched. Finally, the paper concludes with a list of the challenges that the government of Pedro Pablo Kuczynski had to face to counteract the lean times. "
   ]
  },
  {
   "cell_type": "markdown",
   "id": "fbb98894",
   "metadata": {},
   "source": [
    "As for the strengths, two can be found. On the one hand, it is noteworthy that the article offers a list of alternative measures that should have been implemented. Most of the investigations remain in the analysis, which does not have to be bad. However, it is an added value that the author has offered a list of alternative measures that he recommends for the next government, such as changing the inflation target to a higher one, diversifying the economy and regulating the price of fuel and electricity. On the other hand, I emphasize that an analysis of the historical patterns of the variables involved is carried out. The author not only focuses on that lean period (2013-2015), but also uses graphs to analyze the trajectory of exports and their prices, credit to the private sector, inflation and the exchange rate, among others. \n",
    "\n",
    "As for the weaknesses, two could also be found. On the one hand, the leaning towards Keynesian theory in the article is clear. This does not necessarily have to be bad, but in order to have a more robust article, other theories could have been included to contrast the author's proposals. On the other hand, the article overlooked the characteristics of the country's state bodies. The author is critical of the reduction in investment, particularly that made by local and regional governments. Although it is true that the studies indicate the effects of public investment to cushion the recessive impact, the author ignores the situation of the regional and local governments of the country, where more than 20% of their projects do not register any progress, and more than a third do not exceed 30% execution (Gonzales 2021). These types of situations occur due to the lack of trained personnel and corruption, among other factors, that afflict our regional and local governments. Therefore, it is a weak point of the research not to take into account the characteristics of those who implement public investment in our regions, which can reduce the effect of public investment on economic recovery. "
   ]
  },
  {
   "cell_type": "markdown",
   "id": "59f56755",
   "metadata": {},
   "source": [
    "Two strong contributions of this article can be identified regarding the Peruvian economy. First, the author's research demonstrates that the measures traditionally used in the country to counteract a time of lean cows do not have the expected effect and should be changed. The critical tone regarding the conservative measures of the monetary and fiscal authorities is perceptible. It is pointed out that despite the fact that lowering the interest rate and increasing public investment are effective responses (according to Keynesian theory) to cushion the recessive impact of the adverse external shock, in 6 of the last 7 recessions (up to that date) the contrary. The aforementioned and, in addition, the strong sale of foreign exchange reserves, end up favoring the large debtors and their creditors in foreign currency, instead of favoring the national economy. Second, this article demonstrates that our times of fat cows are based on the high prices of raw materials, that is, our periods of growth in economic activity are due to external factors and not due to our productivity. This is especially important because it makes us aware of the high degree of dependency that we have and the little development of our economy (features that are currently working against us due to the global crisis), which should promote initiatives and policies to boost the economy and expose ourselves less to external shocks. "
   ]
  },
  {
   "cell_type": "markdown",
   "id": "8c3ecdc4",
   "metadata": {},
   "source": [
    "Based on the findings presented in the article, three next steps are necessary to move forward on this question. First, conduct research to determine which would be the best sectors to diversify our economy and their viability. Second, carry out an analysis of the costs and benefits of reducing the dollarization of the economy and, based on that, proceed with a plan. Finally, implement measures and incentives to promote greater tax collection from citizens; In this way, tax revenues could have a lower level of dependence on companies. Likewise, an interesting next step could be to update the study for the particular current period characterized by: negative external shock, high commodity prices and internal political instability. Finally, it would be interesting to carry out the same study at the regional level to see if there are similar patterns in LATAM. "
   ]
  },
  {
   "cell_type": "code",
   "execution_count": null,
   "id": "8e5e8556",
   "metadata": {},
   "outputs": [],
   "source": []
  },
  {
   "cell_type": "markdown",
   "id": "ce3b6f4f",
   "metadata": {},
   "source": [
    "## II. CODE SECTION"
   ]
  },
  {
   "cell_type": "markdown",
   "id": "4f6c3aeb",
   "metadata": {},
   "source": [
    "In equilibrium, investment must be equal to total saving in the economy. This equality between saving and investment represents the IS curve:"
   ]
  },
  {
   "cell_type": "markdown",
   "id": "3a3afb7a",
   "metadata": {},
   "source": [
    "$S(Y) = I(r)$"
   ]
  },
  {
   "cell_type": "markdown",
   "id": "eac2cc4e",
   "metadata": {},
   "source": [
    "Total saving is made up of private saving $(S_p)$, government saving $(S_g)$ and foreign saving $(S_e)$:"
   ]
  },
  {
   "cell_type": "markdown",
   "id": "275f4583",
   "metadata": {},
   "source": [
    "- $S_p$ = $Y^d$ - ($C_0$ + $bY^d$)"
   ]
  },
  {
   "cell_type": "markdown",
   "id": "689be680",
   "metadata": {},
   "source": [
    "Where $Y^d$ represents the disposable income of the economy, $C_0$ represents autonomous consumption and $b$ ∈ ]0, 1[ is the marginal propensity to consume."
   ]
  },
  {
   "cell_type": "markdown",
   "id": "b0a219a0",
   "metadata": {},
   "source": [
    "- $S_g$ = $T$ - $G_0$"
   ]
  },
  {
   "cell_type": "markdown",
   "id": "a7b0e332",
   "metadata": {},
   "source": [
    "Where $T$ is taxation and $G_0$ is government spending."
   ]
  },
  {
   "cell_type": "markdown",
   "id": "9c01b3ce",
   "metadata": {},
   "source": [
    "- $S_e$ = $mY^d$ - $X_0$"
   ]
  },
  {
   "cell_type": "markdown",
   "id": "00309ae1",
   "metadata": {},
   "source": [
    "Where $m$ ∈ ]0, 1[ es la propensión marginal a consumir y $X_0$ representa la exportaciones."
   ]
  },
  {
   "cell_type": "markdown",
   "id": "3c0eabe8",
   "metadata": {},
   "source": [
    "Total investment is made up of:"
   ]
  },
  {
   "cell_type": "markdown",
   "id": "b6a7f87d",
   "metadata": {},
   "source": [
    "$I(r)$ = $I_0$ - $hr$"
   ]
  },
  {
   "cell_type": "markdown",
   "id": "0dbf740a",
   "metadata": {},
   "source": [
    "Where $I_0$ is the autonomous investment, $h$ is the marginal effect of the interest rate on the decision to invest and $r$ is the interest rate."
   ]
  },
  {
   "cell_type": "markdown",
   "id": "a4a4acb9",
   "metadata": {},
   "source": [
    "Substituting you get:"
   ]
  },
  {
   "cell_type": "markdown",
   "id": "b665b25a",
   "metadata": {},
   "source": [
    "$Y^d$ - ($C_0$ + $bY^d$) + ($T$ - $G_0$) + ($mY^d$ - $X_0$) = $I_0$ - $hr$ "
   ]
  },
  {
   "cell_type": "markdown",
   "id": "2cd87808",
   "metadata": {},
   "source": [
    "After doing some operations, the IS Curve can be expressed with an equation where the interest rate is found as a function of income:"
   ]
  },
  {
   "cell_type": "markdown",
   "id": "4204dc22",
   "metadata": {},
   "source": [
    "$r$ = (1/$h$) * ($C_0$ + $G_0$ + $X_0$ + $I_0$) - (1/$h$) * [1 - ($b$ - $m$) (1 -$t$)]$y$"
   ]
  },
  {
   "cell_type": "code",
   "execution_count": 22,
   "id": "2578b87c",
   "metadata": {},
   "outputs": [
    {
     "data": {
      "image/png": "[encoded data removed]",
      "text/plain": [
       "<Figure size 720x576 with 1 Axes>"
      ]
     },
     "metadata": {},
     "output_type": "display_data"
    }
   ],
   "source": [
    "import numpy as np               \n",
    "import matplotlib.pyplot as plt  \n",
    "\n",
    "\"2|DEFINE PARAMETERS AND ARRAYS\"\n",
    "# Parameters\n",
    "Y_size = 100\n",
    "C_0 = 20                 # Autonomous consumption\n",
    "b = 0.2                  # Marginal propensity to consume\n",
    "alpha = 5                # Autonomous imports\n",
    "m  = 0.2                 # Marginal propensity to import\n",
    "T = 1                    # Taxes\n",
    "I_0 = 10                 # Investment intercept (when i = 0)\n",
    "G_0 = 8                  # Government spending\n",
    "X_0 = 2                  # Exports (given)\n",
    "h = 5                    # Investment slope wrt to i\n",
    "# Arrays\n",
    "Y = np.arange(Y_size)  # Array values of Y\n",
    "\n",
    "\"3|DEFINE AND POPULATE THE IS-SCHEDULE\"\n",
    "def r_IS(C_0, alpha, b, m, T, I_0, G_0, X_0, h, Y):\n",
    "    r_IS = ((C_0-alpha)-(b-m)*T + I_0 + G_0 + X_0 - (1-b+m)*Y)/h\n",
    "    return r_IS\n",
    "\n",
    "def Y_IS(a, alpha, b, m, T, I_0, G_0, X_0, d, i):\n",
    "    Y_IS = ((C_0-alpha)-(b-m)*T + I_0 + G_0 + X_0 - h*r)/(1-b+m)\n",
    "    return Y_IS\n",
    "\n",
    "r = r_IS(C_0, alpha, b, m, T, I_0, G_0, X_0, h, Y)\n",
    "\n",
    "\"4|PLOT THE IS-SCHEDULE\"\n",
    "y_max = np.max(r)\n",
    "x_max = Y_IS(C_0, alpha, b, m, T, I_0, G_0, X_0, h, 0)\n",
    "\n",
    "v = [0, x_max, 0, y_max]                        \n",
    "fig, ax = plt.subplots(figsize=(10, 8))\n",
    "ax.set(title=\"IS SCHEDULE\", xlabel=r'Y', ylabel=r'r')\n",
    "ax.plot(Y, r, \"k-\")\n",
    "ax.yaxis.set_major_locator(plt.NullLocator())   \n",
    "ax.xaxis.set_major_locator(plt.NullLocator())   \n",
    "plt.axis()                                     \n",
    "plt.show()"
   ]
  },
  {
   "cell_type": "code",
   "execution_count": null,
   "id": "7b1b475a",
   "metadata": {},
   "outputs": [],
   "source": []
  }
 ],
 "metadata": {
  "kernelspec": {
   "display_name": "Python 3 (ipykernel)",
   "language": "python",
   "name": "python3"
  },
  "language_info": {
   "codemirror_mode": {
    "name": "ipython",
    "version": 3
   },
   "file_extension": ".py",
   "mimetype": "text/x-python",
   "name": "python",
   "nbconvert_exporter": "python",
   "pygments_lexer": "ipython3",
   "version": "3.9.7"
  }
 },
 "nbformat": 4,
 "nbformat_minor": 5
}
