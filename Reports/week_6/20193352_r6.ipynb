{
 "cells": [
  {
   "cell_type": "markdown",
   "id": "89703fd4",
   "metadata": {},
   "source": [
    "# Report 6"
   ]
  },
  {
   "cell_type": "markdown",
   "id": "9e0a5198",
   "metadata": {},
   "source": [
    "Name: María Fernanda Carrasco Sebastian "
   ]
  },
  {
   "cell_type": "markdown",
   "id": "85940000",
   "metadata": {},
   "source": [
    "Code: 20193352"
   ]
  },
  {
   "cell_type": "markdown",
   "id": "132dcfd0",
   "metadata": {},
   "source": [
    "### Report Section "
   ]
  },
  {
   "cell_type": "markdown",
   "id": "cce10e97",
   "metadata": {},
   "source": [
    "This text by Oscar Dancurt, published in 2016, appropriately explores the monetary and fiscal policies that were applied in response to the external shock that Peru faced in the years 2014-15, years in which the growth rate of non-primary GDP fell. 3.6% and 2.4% respectively.Figures below the 7.3% annual average registered during the previous decade. In addition, the recessive and inflationary impact that this shock had during those years is analyzed. In this sense, this period is described as a time of lean cows, since there was an intense recession in which the economic activity ended and with it, low prices of raw materials were presented. Likewise, the author seeks to explore those macroeconomic challenges faced by the government of Pedro Pablo Kuczynski to deal with the shock.\n",
    "\n",
    "The document contributed to the knowledge of the subject by making an exhaustive analysis of the external shock that Peru faced and the dimension of the damage that it had in the country, and, in the same way, the author presented us with a series of tasks that the government of Pedro Pablo Kuczynski had to continue to face this instability in the Peruvian economy with success. Indeed, the article explains that the PPK government inherited an urban economy that has been paralyzed since 2014, that it did not create formal jobs, that inflation was low but higher than the BCRP target, that it had a fiscal deficit greater than the average of the last decade , and that it had half the foreign exchange reserves it had in 2013. In the face of these events, only a well-planned plan could contribute. It was proposed that the government should reactivate the urban productive apparatus and create jobs during a time of lean times that could last its entire mandate. However, this required both monetary and fiscal impulses. Another task presented is that the government needed to diversify the Peruvian economy, not only focus on industries such as mining, but to successfully complete this purpose it was necessary to rely on public investment in order to develop new non-traditional exports. Likewise, another contribution is demonstrated, since Dancurt added that the stagnation of the economy of urban Peru would continue if the new government persisted in the combination of monetary and fiscal policies applied during 2014-15, a fact that occurred in the following months and caused the leaders could not mitigate the conflict.\n",
    "\n",
    "It is important to highlight that this work has different strengths. It is shown that a rigorous study of previous times was made to contrast the effect of other recessions in our country. In this sense, we can find a comparative and historical factor that is crucial when facing future crises. Likewise, the work presents a large amount of graphic help that collaborates for the understanding of the subject. However, there are also some weaknesses such as the lack of assessment and investigation of the international situation in those years, which would help to understand a little more the effect on metal prices. For example, it was possible to explain that the prices of these had risen since Trump's election and the periphery had had to implement policies to adjust to this fact. This would have helped to understand the Peruvian reality. On the other hand, there is a centralized study of the country, focused on the department of Lima. This event causes the provincial and rural reality to be left aside.\n",
    "\n",
    "In the same way, as a way of advancing his research, the author could ask himself if after assuming the mandate, the PPK government knew how to handle this critical economic scenario. To achieve this goal, in 2017, the author analyzed how former President Pedro Pablo Kuczynsk faced this period of \"lean cows\" during his first year in office. To do this, he mentions that the external context during his first year in office did not change substantially, since metal prices had risen since Trump's election but monetary policies in the central countries began to gradually adjust. In this sense, contrary to what was thought, after this first year of PPK in power, the situation of the urban economy worsened. The non-primary GDP grew on a large scale, because the PPK government maintained Humala's restrictive monetary policy and, in addition, applied an \"unfair\" fiscal adjustment to reduce the budget deficit. Fact that was recognized as wrong by the premier and the economy minister. Likewise, there were effects on non-primary GDP due to the PPK government due to the relationship between economic reactivation and private investment, especially that linked to the system of government concessions (APPs) in infrastructure, a task previously analyzed by the researcher. Such was PPK's confidence that this was going to be the privileged engine of economic reactivation that its government, in order to prevent the expansion of public investment in favor of PPPs, maintained an unjustifiable cap of 30% of GDP for the public debt imposed by the Humala government with a limit of 4% of GDP to the fiscal stabilization fund. The truth is that in the first year of its mandate, the PPK government did very little to fight against the recession of the urban economy.\n",
    "\n",
    "Dancurt, O. (2017). Las vacas flacas y el primer año del gobierno de PPK. En: Otra Mirada."
   ]
  },
  {
   "cell_type": "markdown",
   "id": "06ecfc95",
   "metadata": {},
   "source": [
    "### Code section"
   ]
  },
  {
   "cell_type": "markdown",
   "id": "0df9db8e",
   "metadata": {},
   "source": [
    "Instruction: In your Jupyter notebook step by step you have to derivate the IS equation using the formulas in the figure below, as I explained last lecture. You can use the tutorial above but you will have to change the name of some variables for instance instead of d*i you have to use h*r."
   ]
  },
  {
   "cell_type": "markdown",
   "id": "dc9fe65c",
   "metadata": {},
   "source": [
    "### IS-LM model"
   ]
  },
  {
   "cell_type": "markdown",
   "id": "3d6dae34",
   "metadata": {},
   "source": [
    "In this case, IS schedule represents equilibrium in the goods market, I describes the investment and S the saving. "
   ]
  },
  {
   "cell_type": "markdown",
   "id": "8e67f801",
   "metadata": {},
   "source": [
    "In that way, the IS schedule is derived from the equilbrium condition where output ( $Y$)equals spending: "
   ]
  },
  {
   "cell_type": "markdown",
   "id": "b5c70aa7",
   "metadata": {},
   "source": [
    "$Y=C+I+G+(X−M)$"
   ]
  },
  {
   "cell_type": "markdown",
   "id": "3458d59b",
   "metadata": {},
   "source": [
    "It refers:\n",
    "\n",
    "- $C$ : household consumption ($C_{0}$+$b$$y^{d}$)\n",
    "\n",
    "- $I$ : private investment ($I_{0}$-$h_{r}$)\n",
    "\n",
    "- $G$ : level of government spending ($G_{0}$)\n",
    "\n",
    "- $E$ : exports ($X_{0}$)\n",
    "\n",
    "- $M$ : imports ( $m$$y^{d}$). "
   ]
  },
  {
   "cell_type": "markdown",
   "id": "2d53ac2e",
   "metadata": {},
   "source": [
    "###  Also, we have the aggregate demand. \"DA\" fuction:"
   ]
  },
  {
   "cell_type": "markdown",
   "id": "da121a55",
   "metadata": {},
   "source": [
    "\n",
    "- $DA$=$C$+$I$+$G$+($X$−$M$)\n",
    "\n",
    "$DA$=$C_{0}$+$b$$(y-ty)$+$I_{0}$-$h_{r}$+$G_{0}$+$X_{0}$-$m(y-xy)$\n",
    "\n",
    "$DA$=$(C_{0}+I_{0}+G_{0}+X_{0}-h_{r})$+$(b-m)(1-t)Y$\n",
    "\n",
    "$DA$=$α_{0}$+$α_{1}Y$ \n",
    "\n",
    "where:\n",
    "\n",
    "- $α_{0}$ is the intercept\n",
    "\n",
    "\n",
    "- $α_{1}$, the slope"
   ]
  },
  {
   "cell_type": "markdown",
   "id": "ab399d9a",
   "metadata": {},
   "source": [
    "### Equilibrium Income equation: DA--Y"
   ]
  },
  {
   "cell_type": "markdown",
   "id": "c2b1fad0",
   "metadata": {},
   "source": [
    "- $Y$=$(C_{0}+I_{0}+G_{0}+X_{0}-h_{r})$+$(b-m)(1-t)Y$\n",
    "\n",
    "- $Y$-$(b-m)(1-t)Y$=$[C_{0}+I_{0}+G_{0}-h_{r}+X_{0}]$\n",
    "\n",
    "- $ Y[1-(b-m)(1-t)]Y$=$[C_{0}+I_{0}+-h_{r}G_{0}+X_{0}]$\n",
    "\n",
    "\n",
    "Substitute values:\n",
    "\n",
    "$Y$=$[\\frac{1}{1-(b-m)(1-T)}]$$[C_{0}+I_{0}+G_{0}+X_{0}-h_{r}]$ \n"
   ]
  },
  {
   "cell_type": "markdown",
   "id": "ec7d9e15",
   "metadata": {},
   "source": [
    "### In addition, we must include the private, public and external sectors. (Sp), (Sg) and (Se)."
   ]
  },
  {
   "cell_type": "markdown",
   "id": "ef56ff92",
   "metadata": {},
   "source": [
    "Formula: $Sp + Sg + Se$"
   ]
  },
  {
   "cell_type": "markdown",
   "id": "1bf749e6",
   "metadata": {},
   "source": [
    "Important: Total of Savings = investment\n",
    "\n",
    "So, $Sp + Sg + Se = I = I0 - hr$\n",
    "\n",
    "what represents: $S(Y) = I(r)$\n"
   ]
  },
  {
   "cell_type": "markdown",
   "id": "1e11f2bf",
   "metadata": {},
   "source": [
    "### Replacing these values:"
   ]
  },
  {
   "cell_type": "markdown",
   "id": "d0997d29",
   "metadata": {},
   "source": [
    "- $Y^d - (C0 + bY^d) + (T - G) + (mY^d -  X0) = I0 - hr$\n",
    "- $[1-(b-m)(1-t)] - (C0 + G0 + X0) = I0 - hr$\n",
    "- $hr = (C0 + G0 + I0 + X0) - (1-(b-m)(1-T))*Y$"
   ]
  },
  {
   "cell_type": "markdown",
   "id": "ee347b0f",
   "metadata": {},
   "source": [
    "### After that, the Equilibrium economic formula would be represented as: "
   ]
  },
  {
   "cell_type": "markdown",
   "id": "cc385f58",
   "metadata": {},
   "source": [
    "$r = \\frac{1}{h}(C0 + G0 + I0 + X0) - \\frac{1-(b-m)*(1-T)}{h}*Y$"
   ]
  },
  {
   "cell_type": "markdown",
   "id": "bee33d3c",
   "metadata": {},
   "source": [
    "### GRAPHIC: IS curve"
   ]
  },
  {
   "cell_type": "code",
   "execution_count": 15,
   "id": "16d25ef7",
   "metadata": {},
   "outputs": [],
   "source": [
    "import numpy as np               \n",
    "import matplotlib.pyplot as plt  "
   ]
  },
  {
   "cell_type": "code",
   "execution_count": 17,
   "id": "0fac4f04",
   "metadata": {},
   "outputs": [],
   "source": [
    "\n",
    "Y_size = 100\n",
    "a = 20                \n",
    "b = 0.2               \n",
    "alpha = 5              \n",
    "beta  = 0.2            \n",
    "T = 1                  \n",
    "I_bar = 10             \n",
    "G_bar = 8              \n",
    "X_bar = 2              \n",
    "d = 5                 \n",
    "\n",
    "Y = np.arange(Y_size)  \n",
    "\n",
    "def i_IS(a, alpha, b, beta, T, I_bar, G_bar, X_bar, d, Y):\n",
    "    i_IS = ((a-alpha)-(b-beta)*T + I_bar + G_bar + X_bar - (1-b+beta)*Y)/d\n",
    "    return i_IS\n",
    "\n",
    "def Y_IS(a, alpha, b, beta, T, I_bar, G_bar, X_bar, d, i):\n",
    "    Y_IS = ((a-alpha)-(b-beta)*T + I_bar + G_bar + X_bar - d*i)/(1-b+beta)\n",
    "    return Y_IS\n",
    "\n",
    "i = i_IS(a, alpha, b, beta, T, I_bar, G_bar, X_bar, d, Y)\n"
   ]
  },
  {
   "cell_type": "code",
   "execution_count": 18,
   "id": "17346e87",
   "metadata": {},
   "outputs": [
    {
     "data": {
      "image/png": "[encoded data removed]",
      "text/plain": [
       "<Figure size 720x576 with 1 Axes>"
      ]
     },
     "metadata": {},
     "output_type": "display_data"
    }
   ],
   "source": [
    "y_max = np.max(i)\n",
    "x_max = Y_IS(a, alpha, b, beta, T, I_bar, G_bar, X_bar, d, 0)\n",
    "\n",
    "v = [0, x_max,0, y_max]                        \n",
    "fig, ax = plt.subplots(figsize=(10, 8))\n",
    "ax.set(title=\"IS graphic\", xlabel=r'Y', ylabel=r'r')\n",
    "ax.plot(Y, i, \"k-\")\n",
    "ax.yaxis.set_major_locator(plt.NullLocator())   \n",
    "ax.xaxis.set_major_locator(plt.NullLocator())   \n",
    "plt.axis(v)                                     \n",
    "plt.show()"
   ]
  }
 ],
 "metadata": {
  "kernelspec": {
   "display_name": "Python 3 (ipykernel)",
   "language": "python",
   "name": "python3"
  },
  "language_info": {
   "codemirror_mode": {
    "name": "ipython",
    "version": 3
   },
   "file_extension": ".py",
   "mimetype": "text/x-python",
   "name": "python",
   "nbconvert_exporter": "python",
   "pygments_lexer": "ipython3",
   "version": "3.9.7"
  }
 },
 "nbformat": 4,
 "nbformat_minor": 5
}
