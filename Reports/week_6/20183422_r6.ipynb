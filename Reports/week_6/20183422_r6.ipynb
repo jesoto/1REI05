{
 "cells": [
  {
   "cell_type": "code",
   "execution_count": null,
   "id": "a80c0cd6",
   "metadata": {},
   "outputs": [],
   "source": [
    "#Report6"
   ]
  },
  {
   "cell_type": "code",
   "execution_count": null,
   "id": "33dcfefe",
   "metadata": {},
   "outputs": [],
   "source": [
    "#20183422"
   ]
  },
  {
   "cell_type": "code",
   "execution_count": null,
   "id": "e8c52154",
   "metadata": {},
   "outputs": [],
   "source": [
    "#Fiorella Lazo"
   ]
  },
  {
   "cell_type": "markdown",
   "id": "ea332e2f",
   "metadata": {},
   "source": [
    "THE PERUVIAN ECONOMY'S LEAN TIMES\n",
    " \n",
    "Given certain economic aspects that can be demonstrated historically, that if the new government of Pedro Pablo Kuczynski continues with the same combination of monetary and fiscal policies the stagnation of the urban Peruvian economy will persist; then what tasks or procedures should this new government follow?\n",
    "One of the weaknesses of this document in order to be able to carry out the tasks or procedures of the new government is that previously the MEF proposed, before macroeconomic stabilization, a structural reform to lower environmental protection standards. This proposal was successful and therefore it was used as a pretext that in order to increase private investment and reactivate the economy, it was necessary to reduce both labour costs and environmental pollution. This may be a precedent that distorts the new government's future decisions. Despite this, many strengths can be found that support the historically successful procedures for economic revival; increasing private investment, reducing inflation, increasing export diversification, etc. One of these strengths is the banking crisis of 1988-2000, which demonstrates that a dollarised banking system such as the Peruvian banking system can be very unstable if there are not enough dollars, and therefore generate a crisis. \n",
    "In this paper one can find contributions such as the interaction of fiscal rules, fiscal or monetary policies, and decisions in the face of an adverse external shock with reality. And how the decisions of policy makers influence the Peruvian economy as a whole. For example, the decision to lower the inflation target affected investment, as inflation remained mostly outside the target range, which discouraged investors, because there was no constant stability. So, given these historical arguments, it would be possible to establish the tasks that the new government should follow to reactivate the Peruvian economy.\n",
    " \n",
    "However, I believe that the editor and the referees decided to publish the article, motivated both by the intention of informing the population and by the intention that good decisions could be taken in the face of the economic conditions in which the country found itself in those years. It can be shown historically that certain processes can have a negative effect on the economy and paralyze it even more than it already was. The new government of Pedro Pablo Kuczynski inherited a paralysed economy, low inflation but above the target range and a high fiscal deficit compared to the last 15 years. \n",
    "A specific next step to advance in the development of the question would be the observation of what happened in this government of Pedro Pablo Kuczynski and the next one, since his government could not finish due to a vacancy. In addition, some estimates or predictions could be made about the state of the Peruvian economy and the ideal measures that should have been taken. In the same way, a similar analysis to this document could be made with data from the government of both Pedro Pablo Kuczynski and the Vizcarra government until before the pandemic. \n"
   ]
  },
  {
   "cell_type": "markdown",
   "id": "03f68292",
   "metadata": {},
   "source": [
    "\n",
    "obtaining the equilibrium condition"
   ]
  },
  {
   "cell_type": "markdown",
   "id": "ec3be5c6",
   "metadata": {},
   "source": [
    "\tY^d=Y-T=(1-t)Y\n",
    "\n",
    "    Y=C+I+G+X-M  …….. equilibrium condition Y=DA\n",
    "    Y=c_0+b(1-t)Y+I_0-hr+G_0+X_0-m(1-t)Y\n",
    "\n",
    "\tclearance Y:\n",
    "\n",
    "    Y(1-b(1-t)+m(1-t))=c_0+I_0-hr+G_0+X_0\n",
    "    Y(1+(1-t)(m-b))=c_0+I_0+G_0+X_0-hr"
   ]
  },
  {
   "cell_type": "markdown",
   "id": "a6f1cbff",
   "metadata": {},
   "source": [
    "Y=((c_0+I_0+G_0+X_0))/((1+(1-t)(m-b)) )-hr/((1+(1-t)(m-b)) )"
   ]
  },
  {
   "cell_type": "markdown",
   "id": "d97e22a9",
   "metadata": {},
   "source": [
    "which ia the same as\n",
    "hr/((1+(1-t)(m-b)) )=((c_0+I_0+G_0+X_0))/((1+(1-t)(m-b)) )-Y"
   ]
  },
  {
   "cell_type": "markdown",
   "id": "c93f88a5",
   "metadata": {},
   "source": [
    "r=((c_0+I_0+G_0+X_0))/h-(1+(1-t)(m-b))Y/h"
   ]
  },
  {
   "cell_type": "code",
   "execution_count": null,
   "id": "a15dbade",
   "metadata": {},
   "outputs": [],
   "source": [
    "manifesting equation for IS curve"
   ]
  },
  {
   "cell_type": "code",
   "execution_count": null,
   "id": "73cbc148",
   "metadata": {},
   "outputs": [],
   "source": [
    "#Part2"
   ]
  },
  {
   "cell_type": "code",
   "execution_count": 3,
   "id": "d656b2ff",
   "metadata": {},
   "outputs": [],
   "source": [
    "import numpy as np               \n",
    "import matplotlib.pyplot as plt  \n",
    "\n",
    "\"2|DEFINE PARAMETERS AND ARRAYS\"\n",
    "Y_size  =  100\n",
    "C0 =  20                   \n",
    "b  =  0.2                  \n",
    "m   =  0.2             \n",
    "t  =  0.2                    \n",
    "I_bar  =  10              \n",
    "G_bar  =  8               \n",
    "X_bar  =  2                \n",
    "h  =  5                   \n",
    "# Arreglos \n",
    "Y  =  np . arange ( Y_size )   # valores de matriz de Y\n",
    "\n",
    "\"3|DEFINE AND POPULATE THE IS-SCHEDULE\"\n",
    "def i_IS(C0 ,  b ,  m ,  t ,  I_bar ,  G_bar ,  X_bar ,  h ,  Y):\n",
    "    i_IS = (C0+I_bar+G_bar+X_bar)/h - ((1+(1-t)*(m-b))*Y)/h\n",
    "    return i_IS\n",
    "\n",
    "def Y_IS(C0 ,  b ,  m ,  t ,  I_bar ,  G_bar ,  X_bar ,  h ,  i):\n",
    "    Y_IS = ((C0+I_bar+G_bar+X_bar)/(1+(m-b)*(1-t))) - (h*i/(1+(m-b)*(1-t)))\n",
    "    return Y_IS\n",
    "\n",
    "i = i_IS(C0 ,  b ,  m ,  t ,  I_bar ,  G_bar ,  X_bar ,  h ,  Y)\n"
   ]
  },
  {
   "cell_type": "code",
   "execution_count": 5,
   "id": "d0a643e8",
   "metadata": {},
   "outputs": [
    {
     "data": {
      "image/png": "[encoded data removed]",
      "text/plain": [
       "<Figure size 720x576 with 1 Axes>"
      ]
     },
     "metadata": {},
     "output_type": "display_data"
    }
   ],
   "source": [
    "y_max = np.max(i)\n",
    "x_max = Y_IS(C0 ,  b ,  m ,  t ,  I_bar ,  G_bar ,  X_bar ,  h ,  0)\n",
    "\n",
    "v = [0, x_max, 0, y_max]                        \n",
    "fig, ax = plt.subplots(figsize=(10, 8))\n",
    "ax.set(title=\"Income-Expenditure model: the IS curve\", xlabel=r'Y', ylabel=r'r')\n",
    "ax.plot(Y, i, \"k-\")\n",
    "ax.yaxis.set_major_locator(plt.NullLocator())   \n",
    "ax.xaxis.set_major_locator(plt.NullLocator())   \n",
    "plt.axis(v)                                     \n",
    "plt.show()"
   ]
  },
  {
   "cell_type": "code",
   "execution_count": null,
   "id": "5826ff99",
   "metadata": {},
   "outputs": [],
   "source": []
  }
 ],
 "metadata": {
  "kernelspec": {
   "display_name": "Python 3 (ipykernel)",
   "language": "python",
   "name": "python3"
  },
  "language_info": {
   "codemirror_mode": {
    "name": "ipython",
    "version": 3
   },
   "file_extension": ".py",
   "mimetype": "text/x-python",
   "name": "python",
   "nbconvert_exporter": "python",
   "pygments_lexer": "ipython3",
   "version": "3.9.7"
  }
 },
 "nbformat": 4,
 "nbformat_minor": 5
}
