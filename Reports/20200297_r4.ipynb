{
 "cells": [
  {
   "cell_type": "markdown",
   "id": "c7073623",
   "metadata": {},
   "source": [
    "NAME: Alexandra Gonzalez\n",
    "Code:20200297"
   ]
  },
  {
   "cell_type": "markdown",
   "id": "2af971be",
   "metadata": {},
   "source": [
    "FIRST PART: CODE"
   ]
  },
  {
   "cell_type": "markdown",
   "id": "16ba00ca",
   "metadata": {},
   "source": [
    "-Import"
   ]
  },
  {
   "cell_type": "code",
   "execution_count": 1,
   "id": "46d4069c",
   "metadata": {},
   "outputs": [],
   "source": [
    "import numpy as no\n",
    "import pandas as pd\n",
    "import matplotlib.pyplot as plt\n",
    "import seaborn as sns"
   ]
  },
  {
   "cell_type": "markdown",
   "id": "c8aa1ecb",
   "metadata": {},
   "source": [
    "FIRST GRAPHIC"
   ]
  },
  {
   "cell_type": "code",
   "execution_count": 2,
   "id": "3c889a7c",
   "metadata": {},
   "outputs": [],
   "source": [
    "data=pd.io.excel.read_excel(\"C:/Users/ALEXANDRA/Downloads/Anuales-20220430-114428.xlsx\")"
   ]
  },
  {
   "cell_type": "code",
   "execution_count": 3,
   "id": "eb1d239e",
   "metadata": {
    "scrolled": true
   },
   "outputs": [
    {
     "data": {
      "text/html": [
       "<div>\n",
       "<style scoped>\n",
       "    .dataframe tbody tr th:only-of-type {\n",
       "        vertical-align: middle;\n",
       "    }\n",
       "\n",
       "    .dataframe tbody tr th {\n",
       "        vertical-align: top;\n",
       "    }\n",
       "\n",
       "    .dataframe thead th {\n",
       "        text-align: right;\n",
       "    }\n",
       "</style>\n",
       "<table border=\"1\" class=\"dataframe\">\n",
       "  <thead>\n",
       "    <tr style=\"text-align: right;\">\n",
       "      <th></th>\n",
       "      <th>Year</th>\n",
       "      <th>GDP per capita</th>\n",
       "    </tr>\n",
       "  </thead>\n",
       "  <tbody>\n",
       "    <tr>\n",
       "      <th>count</th>\n",
       "      <td>100.000000</td>\n",
       "      <td>100.000000</td>\n",
       "    </tr>\n",
       "    <tr>\n",
       "      <th>mean</th>\n",
       "      <td>1971.500000</td>\n",
       "      <td>7958.953173</td>\n",
       "    </tr>\n",
       "    <tr>\n",
       "      <th>std</th>\n",
       "      <td>29.011492</td>\n",
       "      <td>3717.412737</td>\n",
       "    </tr>\n",
       "    <tr>\n",
       "      <th>min</th>\n",
       "      <td>1922.000000</td>\n",
       "      <td>2778.025142</td>\n",
       "    </tr>\n",
       "    <tr>\n",
       "      <th>25%</th>\n",
       "      <td>1946.750000</td>\n",
       "      <td>4625.533501</td>\n",
       "    </tr>\n",
       "    <tr>\n",
       "      <th>50%</th>\n",
       "      <td>1971.500000</td>\n",
       "      <td>8105.716338</td>\n",
       "    </tr>\n",
       "    <tr>\n",
       "      <th>75%</th>\n",
       "      <td>1996.250000</td>\n",
       "      <td>9421.980241</td>\n",
       "    </tr>\n",
       "    <tr>\n",
       "      <th>max</th>\n",
       "      <td>2021.000000</td>\n",
       "      <td>17011.552562</td>\n",
       "    </tr>\n",
       "  </tbody>\n",
       "</table>\n",
       "</div>"
      ],
      "text/plain": [
       "              Year  GDP per capita\n",
       "count   100.000000      100.000000\n",
       "mean   1971.500000     7958.953173\n",
       "std      29.011492     3717.412737\n",
       "min    1922.000000     2778.025142\n",
       "25%    1946.750000     4625.533501\n",
       "50%    1971.500000     8105.716338\n",
       "75%    1996.250000     9421.980241\n",
       "max    2021.000000    17011.552562"
      ]
     },
     "execution_count": 3,
     "metadata": {},
     "output_type": "execute_result"
    }
   ],
   "source": [
    "data.describe()"
   ]
  },
  {
   "cell_type": "code",
   "execution_count": 4,
   "id": "acdbfd56",
   "metadata": {},
   "outputs": [
    {
     "data": {
      "text/html": [
       "<div>\n",
       "<style scoped>\n",
       "    .dataframe tbody tr th:only-of-type {\n",
       "        vertical-align: middle;\n",
       "    }\n",
       "\n",
       "    .dataframe tbody tr th {\n",
       "        vertical-align: top;\n",
       "    }\n",
       "\n",
       "    .dataframe thead th {\n",
       "        text-align: right;\n",
       "    }\n",
       "</style>\n",
       "<table border=\"1\" class=\"dataframe\">\n",
       "  <thead>\n",
       "    <tr style=\"text-align: right;\">\n",
       "      <th></th>\n",
       "      <th>Year</th>\n",
       "      <th>GDP per capita</th>\n",
       "    </tr>\n",
       "  </thead>\n",
       "  <tbody>\n",
       "    <tr>\n",
       "      <th>0</th>\n",
       "      <td>1922</td>\n",
       "      <td>2778.025142</td>\n",
       "    </tr>\n",
       "    <tr>\n",
       "      <th>1</th>\n",
       "      <td>1923</td>\n",
       "      <td>2897.349520</td>\n",
       "    </tr>\n",
       "    <tr>\n",
       "      <th>2</th>\n",
       "      <td>1924</td>\n",
       "      <td>3127.012830</td>\n",
       "    </tr>\n",
       "    <tr>\n",
       "      <th>3</th>\n",
       "      <td>1925</td>\n",
       "      <td>3155.437756</td>\n",
       "    </tr>\n",
       "    <tr>\n",
       "      <th>4</th>\n",
       "      <td>1926</td>\n",
       "      <td>3409.287635</td>\n",
       "    </tr>\n",
       "  </tbody>\n",
       "</table>\n",
       "</div>"
      ],
      "text/plain": [
       "   Year  GDP per capita\n",
       "0  1922     2778.025142\n",
       "1  1923     2897.349520\n",
       "2  1924     3127.012830\n",
       "3  1925     3155.437756\n",
       "4  1926     3409.287635"
      ]
     },
     "execution_count": 4,
     "metadata": {},
     "output_type": "execute_result"
    }
   ],
   "source": [
    "data.head()"
   ]
  },
  {
   "cell_type": "code",
   "execution_count": 5,
   "id": "8949d3ed",
   "metadata": {
    "scrolled": false
   },
   "outputs": [
    {
     "data": {
      "text/plain": [
       "Text(0.5, 1.0, 'Graphic 1: Real GDP per Capita in Peru 1922-2021')"
      ]
     },
     "execution_count": 5,
     "metadata": {},
     "output_type": "execute_result"
    },
    {
     "data": {
      "image/png": "[encoded data removed]",
      "text/plain": [
       "<Figure size 720x432 with 1 Axes>"
      ]
     },
     "metadata": {
      "needs_background": "light"
     },
     "output_type": "display_data"
    }
   ],
   "source": [
    "plt.figure(figsize=(10,6))\n",
    "sns.lineplot(x = 'Year', y= 'GDP per capita', data=data, color = 'orange')\n",
    "plt.title('Graphic 1: Real GDP per Capita in Peru 1922-2021')"
   ]
  },
  {
   "cell_type": "markdown",
   "id": "bbbbf00a",
   "metadata": {},
   "source": [
    "We can see that there is a trend of progressive growth in the graph presented, that means that the gdp per capita had a constant increase in Peru. Between the 1980s and the end of the 1990s, Peru's GDP per capita fell sharply, the most serious being during the years studied with a decrease of at least 6,500. On the contrary, during the first years of the 1930s until the end of 1970, the GDP per capita of Peru had a constant growth with few situations of decrease of the GDP per capita.\n",
    "Since 2000 -after the end of the internal armed conflict in Peru- the country's GDP per capita has shown sustained growth until 2020. However, for this year, with the appearance of a pandemic, the graph shows the drastic drop in GDP per capita due to this health crisis. However, in 2021 we can see an improvement."
   ]
  },
  {
   "cell_type": "markdown",
   "id": "76789fab",
   "metadata": {},
   "source": [
    "SECOND GRAPHIC"
   ]
  },
  {
   "cell_type": "code",
   "execution_count": 6,
   "id": "71fa82ef",
   "metadata": {},
   "outputs": [],
   "source": [
    "data['growth_rate'] = data['GDP per capita'].pct_change()*100"
   ]
  },
  {
   "cell_type": "code",
   "execution_count": 7,
   "id": "6ba7a052",
   "metadata": {},
   "outputs": [
    {
     "data": {
      "text/html": [
       "<div>\n",
       "<style scoped>\n",
       "    .dataframe tbody tr th:only-of-type {\n",
       "        vertical-align: middle;\n",
       "    }\n",
       "\n",
       "    .dataframe tbody tr th {\n",
       "        vertical-align: top;\n",
       "    }\n",
       "\n",
       "    .dataframe thead th {\n",
       "        text-align: right;\n",
       "    }\n",
       "</style>\n",
       "<table border=\"1\" class=\"dataframe\">\n",
       "  <thead>\n",
       "    <tr style=\"text-align: right;\">\n",
       "      <th></th>\n",
       "      <th>Year</th>\n",
       "      <th>GDP per capita</th>\n",
       "      <th>growth_rate</th>\n",
       "    </tr>\n",
       "  </thead>\n",
       "  <tbody>\n",
       "    <tr>\n",
       "      <th>count</th>\n",
       "      <td>100.000000</td>\n",
       "      <td>100.000000</td>\n",
       "      <td>99.000000</td>\n",
       "    </tr>\n",
       "    <tr>\n",
       "      <th>mean</th>\n",
       "      <td>1971.500000</td>\n",
       "      <td>7958.953173</td>\n",
       "      <td>1.949594</td>\n",
       "    </tr>\n",
       "    <tr>\n",
       "      <th>std</th>\n",
       "      <td>29.011492</td>\n",
       "      <td>3717.412737</td>\n",
       "      <td>4.914848</td>\n",
       "    </tr>\n",
       "    <tr>\n",
       "      <th>min</th>\n",
       "      <td>1922.000000</td>\n",
       "      <td>2778.025142</td>\n",
       "      <td>-14.174635</td>\n",
       "    </tr>\n",
       "    <tr>\n",
       "      <th>25%</th>\n",
       "      <td>1946.750000</td>\n",
       "      <td>4625.533501</td>\n",
       "      <td>0.430676</td>\n",
       "    </tr>\n",
       "    <tr>\n",
       "      <th>50%</th>\n",
       "      <td>1971.500000</td>\n",
       "      <td>8105.716338</td>\n",
       "      <td>2.052807</td>\n",
       "    </tr>\n",
       "    <tr>\n",
       "      <th>75%</th>\n",
       "      <td>1996.250000</td>\n",
       "      <td>9421.980241</td>\n",
       "      <td>5.135291</td>\n",
       "    </tr>\n",
       "    <tr>\n",
       "      <th>max</th>\n",
       "      <td>2021.000000</td>\n",
       "      <td>17011.552562</td>\n",
       "      <td>11.857715</td>\n",
       "    </tr>\n",
       "  </tbody>\n",
       "</table>\n",
       "</div>"
      ],
      "text/plain": [
       "              Year  GDP per capita  growth_rate\n",
       "count   100.000000      100.000000    99.000000\n",
       "mean   1971.500000     7958.953173     1.949594\n",
       "std      29.011492     3717.412737     4.914848\n",
       "min    1922.000000     2778.025142   -14.174635\n",
       "25%    1946.750000     4625.533501     0.430676\n",
       "50%    1971.500000     8105.716338     2.052807\n",
       "75%    1996.250000     9421.980241     5.135291\n",
       "max    2021.000000    17011.552562    11.857715"
      ]
     },
     "execution_count": 7,
     "metadata": {},
     "output_type": "execute_result"
    }
   ],
   "source": [
    "data.describe()"
   ]
  },
  {
   "cell_type": "code",
   "execution_count": 8,
   "id": "ec280a11",
   "metadata": {},
   "outputs": [
    {
     "data": {
      "text/plain": [
       "Text(0.5, 1.0, 'Graphic 2: The Annual Growth Rate of real GDP per Capita in PERU Between 1922 and 2021')"
      ]
     },
     "execution_count": 8,
     "metadata": {},
     "output_type": "execute_result"
    },
    {
     "data": {
      "image/png": "[encoded data removed]",
      "text/plain": [
       "<Figure size 936x432 with 1 Axes>"
      ]
     },
     "metadata": {
      "needs_background": "light"
     },
     "output_type": "display_data"
    }
   ],
   "source": [
    "plt.figure(figsize=(13,6))\n",
    "sns.lineplot(x = 'Year', y = 'growth_rate', data=data, color = 'blue')\n",
    "plt.ylabel('Anual Growth Rate of Real GDP per Capita in Peru')\n",
    "plt.axhline(y=1.95, color = 'red',linestyle=\"-\")\n",
    "plt.axhline(y=0, color = 'black',linestyle=\"--\")\n",
    "plt.title('Graphic 2: The Annual Growth Rate of real GDP per Capita in PERU Between 1922 and 2021')"
   ]
  },
  {
   "cell_type": "markdown",
   "id": "f5665708",
   "metadata": {},
   "source": [
    "The graph shows that between the 1940s and the 1970s, the annual growth rate of GDP per capita in Peru had a stable range of -5% to 10%. This means that during this period the annual growth rate of GDP per capita increased had constant changes between these values, not exceeding neither the minimum nor the maximum percentage of the interval shown. On the other hand, from the 1980s to the end of the 1990s, we can see the highest annual growth rate of GDP per capita (almost 10%). On the other hand, within those years the lowest annual growth rate was also recorded with a figure close to -15%. And as a consequence of the pandemic we have a low growth rate in 2020 that reaches almost -15%."
   ]
  },
  {
   "cell_type": "markdown",
   "id": "0982fcc7",
   "metadata": {},
   "source": [
    "SECOND PART: REPORT"
   ]
  },
  {
   "cell_type": "markdown",
   "id": "1b8fc267",
   "metadata": {},
   "source": [
    "Colonialism as a determinant of the differences in GDP per capita around the world:\n",
    "\n",
    "Currently, we know that economic dynamics have become so complex that many researchers seek to explain certain phenomena in different ways, giving rise to multiple explanations for a single event. In this article, the author investigates the determining factor for the differences in per capita income between the various countries of the world. He initially talks about the role of institutions, property rights, and economic policies as independent variables that are often used to predict the variability of per capita income. However, the proposal given in the paper focuses on an exogenous variable, which is the processes of political colonization that created sets of institutions and the feasibility of these processes as something favorable for the current success of the institutions.\n",
    "\n",
    "This article has an important contribution to the extent that it puts into debate the issue of colonization within the issue of current per capita income. Although it is true that at first glance it may not make much sense, it is extremely important to involve different historical periods within the understanding of the current economy. In the same way, a strength is the management of the use of data, through linear regressions we can identify the relationships between different variables more accurately, and even predictive data that are comparable with the year of publication of the article.\n",
    "\n",
    "However, they also have weaknesses, one of them being the way in which the term institution is approached. It is too biased, and tends to generate confusion in certain fields of study with the IR since it statizes the word too much. The analysis is also a bit reduced because it only considers countries where colonialism did not bear fruit due to the marginality of certain countries and the other group is the one that had a colonialism that managed to endure due to its constant growth as a metropolis, however, There are also semi-peripheral countries that are not included in this study because they do not fit the standards proposed by the authors.\n",
    "\n",
    "In this way, based on these weaknesses, we can propose new steps to take this research further, and although we can speak of \"current\" due to the year of publication (2002), we know that it is relative. This means that by 2022, it is possible to improve and expand the database, in addition to giving it a better distribution, it is also important to theorize the variables that are used in order to establish the conceptual limits of each one and not fall into relativism. Similarly, the regression study could be established by separating the states from the institutions and understanding both as variables that can explain these differences in GDP per capita together with the exogenous variable.\n"
   ]
  }
 ],
 "metadata": {
  "kernelspec": {
   "display_name": "Python 3 (ipykernel)",
   "language": "python",
   "name": "python3"
  },
  "language_info": {
   "codemirror_mode": {
    "name": "ipython",
    "version": 3
   },
   "file_extension": ".py",
   "mimetype": "text/x-python",
   "name": "python",
   "nbconvert_exporter": "python",
   "pygments_lexer": "ipython3",
   "version": "3.9.7"
  }
 },
 "nbformat": 4,
 "nbformat_minor": 5
}
