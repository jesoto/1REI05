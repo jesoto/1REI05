{
 "cells": [
  {
   "cell_type": "markdown",
   "id": "df522297",
   "metadata": {},
   "source": [
    "# REPORT 5: MARIA FERNANDA CARRASCO"
   ]
  },
  {
   "cell_type": "markdown",
   "id": "b6c3b930",
   "metadata": {},
   "source": [
    "#Report Section\n",
    "\n",
    "The Colonial Origins of Comparative Development is an article written by Daron Acemoglu, Simon Johnson, and James A. Robinson and published in the American Economic Review in 2001. This work primarily contributes to development economics through its use of settler mortality. Europeans as an instrumental variable of institutional development in former colonies. In this sense, the theory proposed in the article is that Europeans will only have growth inducers in areas where the environment of the disease was favorable to establish. Likewise, in areas with an unfavorable disease environment for Europeans, such as Central Africa, there will be extractive institutions that persist to the present day and that, in turn, explain much of the variation in income between countries.\n",
    "\n",
    "The research question that the authors seek to answer is: How do you explain the\n",
    "differences in European mortality rates the effect that institutions have on economic performance? Similarly, it is proposed to resolve the fundamentals are the main causes that justify the great differences in per capita income between countries. An important part to answer such questions are the institutions, although the authors have not yet reached a clear consensus to resolve such a question. However, this article offers the theory of the variation of the institutions among the former colonies of European countries. This is based on 3 premises: different types of European colonial policies, viability of settlements and persistence of those institutions. Within this context, due to the diversity of colonization policies, the authors manage to understand the nature and degree of various policies in a different way, with the presence of European colonizers being an essential factor influencing the form of colonialism. In this line, the states with little protection of property rights and expropriation by the government are labeled by the authors as “extractive states”. Especially in the Spanish and Portuguese American colonies, the main objective was to extract as much metal and other goods as possible. As in the British colonies in West Africa. Similarly, the viability of settlements is related to the presence of various diseases in potential colonies.\n",
    "\n",
    "Mortality rate was also one of the important factors influencing the development of new settlements: a higher chance of survival was more attractive to potential new settlers. The persistence of institutions works on the concept that the institutions introduced by the settlers prevailed in the countries even after they declared their independence from their colonizers. Under this premise, the authors manage to find a negative relationship between the current GDP per capita and the mortality rate per thousand of the former settlers in these countries. The authors state that the lethality of settlers in the past explains more than 25% of the variety of institutions in the present. In addition, it is worth mentioning the exclusion of the correlation between the disease environment and current economic performance.\n",
    "\n",
    "Regarding the strengths of the document, the authors make an important contribution to the area. Both mark their approach as new, as no one before had specifically examined the relationship between mortality, settlement, and institutions. Economists such as von Hayek, La Porta, studied the importance of colonial origins, but these works focused mainly on the differences based on the nationality of the settlers who colonized the countries; however, this analysis is based exclusively on the conditions of the colonies, without considering the origin of the settlers. Furthermore, another strength of the article is that the proposed hypothesis is statistically significant and that outliers did not change the result. For example, the exclusion of developed countries such as Australia or New Zealand has no effect, nor does the exclusion of African countries. Another important observation is that the estimates hardly changed when controls for other variables such as main settler, religion, legal origin or culture were included.\n",
    "\n",
    "Regarding the weaknesses that are expressed in the development of the article, the authors admit that there are still many unanswered questions and are subject to further study. For example, the result that the authors examined was that there is a high correlation between the rates of mortality and the settlements, between the settlements and the first institutions, and between the first institutions and the current ones. They also point out that institutions and economic performance are not preordained and therefore can be changed (as in the case of the Republic of Korea in the 1960s). However, not all the results are achieved. In this sense, important problems with the data and analysis were identified, which raised some doubts about the accuracy of these results.\n",
    "\n",
    "Finally, a specific and valuable step to advance on this question would be to clarify the replica of the study that was published in the same journal eleven years later by David Y. Albouy, who argued that 36 of the 64 countries in the sample are assigned rates of mortality from other countries, often based on erroneous or contradictory evidence and incomparable mortality, to favor the hypothesis. Although the original authors rejected the criticism in their response, the research showed gaps due to data problems. With all this, it can be argued that the relationship between mortality and the risk of expropriation lacks strength. In turn, progress can be made by developing that human capital, not institutions, is the most basic engine of economic growth. Glaeser et al., using the same settler mortality instrument for human capital, found that it performs better econometrically than institutional quality."
   ]
  },
  {
   "cell_type": "code",
   "execution_count": null,
   "id": "8fd21236",
   "metadata": {},
   "outputs": [],
   "source": [
    "# Code Section"
   ]
  },
  {
   "cell_type": "code",
   "execution_count": null,
   "id": "99c7cc2e",
   "metadata": {},
   "outputs": [],
   "source": [
    "import pandas as pd\n",
    "import matplotlib.pyplot as plt\n",
    "import seaborn as sns"
   ]
  },
  {
   "cell_type": "code",
   "execution_count": null,
   "id": "cede6583",
   "metadata": {},
   "outputs": [],
   "source": [
    "data = pd.read_excel('gdp(1922-2022).xlsx')"
   ]
  },
  {
   "cell_type": "markdown",
   "id": "3885d8dd",
   "metadata": {},
   "source": [
    "GDP per capita percentage change (1922-2022)"
   ]
  },
  {
   "cell_type": "code",
   "execution_count": null,
   "id": "e17eb872",
   "metadata": {},
   "outputs": [],
   "source": [
    "data.head()"
   ]
  },
  {
   "cell_type": "code",
   "execution_count": null,
   "id": "5ffad1ad",
   "metadata": {},
   "outputs": [],
   "source": [
    "data['growth_rate'] = data[\"GDP\"].pct_change()*100"
   ]
  },
  {
   "cell_type": "code",
   "execution_count": null,
   "id": "1ee2fc7d",
   "metadata": {},
   "outputs": [],
   "source": [
    "data.describe()"
   ]
  },
  {
   "cell_type": "code",
   "execution_count": null,
   "id": "55cbfd38",
   "metadata": {},
   "outputs": [],
   "source": [
    "plt.figure(figsize=(14,10))\n",
    "sns.lineplot(x = 'Years', y= 'growth_rate', data=data, color = \"green\")\n",
    "plt.xlabel(\"Year\")\n",
    "plt.ylabel(\"Annual variation rate of GDP per capita\")\n",
    "plt.title(\"The Annual varation GDP per Capita Peru 1922- 2022\")\n",
    "plt.axhline(y=0, color = 'yellow',linestyle=\"-\")\n",
    "plt.axhline(y=1.95, color = 'grey',linestyle=\"-\")"
   ]
  },
  {
   "cell_type": "markdown",
   "id": "78439176",
   "metadata": {},
   "source": [
    "Peru's GDP has varied over the years as its values have not been static. According to the statistics observed and the graphs shown, it can be inferred that as of the year 2000, the GDP per capita in Peru had a significant growth, however this was stopped by the pandemic caused by covid 19. In turn, it is shown that In recent months there has been a growth in GDP that coincides with the recovery from the global crisis and economic activities."
   ]
  }
 ],
 "metadata": {
  "kernelspec": {
   "display_name": "Python 3 (ipykernel)",
   "language": "python",
   "name": "python3"
  },
  "language_info": {
   "codemirror_mode": {
    "name": "ipython",
    "version": 3
   },
   "file_extension": ".py",
   "mimetype": "text/x-python",
   "name": "python",
   "nbconvert_exporter": "python",
   "pygments_lexer": "ipython3",
   "version": "3.9.7"
  }
 },
 "nbformat": 4,
 "nbformat_minor": 5
}
