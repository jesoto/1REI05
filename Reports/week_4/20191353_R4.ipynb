{
 "cells": [
  {
   "cell_type": "markdown",
   "id": "2b2328dc",
   "metadata": {},
   "source": [
    "# Report 4"
   ]
  },
  {
   "cell_type": "markdown",
   "id": "72695019",
   "metadata": {},
   "source": [
    "### 1. CODE SECTION "
   ]
  },
  {
   "cell_type": "markdown",
   "id": "afc6a850",
   "metadata": {},
   "source": [
    "Abrimos las librerias por utilizar"
   ]
  },
  {
   "cell_type": "code",
   "execution_count": null,
   "id": "bf7761bc",
   "metadata": {},
   "outputs": [],
   "source": [
    "import pandas as pd\n",
    "import matplotlib.pyplot as plt\n",
    "import warnings \n",
    "import seaborn as sns"
   ]
  },
  {
   "cell_type": "markdown",
   "id": "f33aa40c",
   "metadata": {},
   "source": [
    "Importamos y editamos la base de datos"
   ]
  },
  {
   "cell_type": "code",
   "execution_count": 2,
   "id": "2017fda3",
   "metadata": {},
   "outputs": [],
   "source": [
    "url = \"https://raw.githubusercontent.com/Alejangro19/Macro/main/peru_gdp_1922_2021.csv\""
   ]
  },
  {
   "cell_type": "code",
   "execution_count": 3,
   "id": "77a1560b",
   "metadata": {},
   "outputs": [],
   "source": [
    "base = pd.read_csv(url)"
   ]
  },
  {
   "cell_type": "code",
   "execution_count": 4,
   "id": "3f30447a",
   "metadata": {},
   "outputs": [
    {
     "data": {
      "text/html": [
       "<div>\n",
       "<style scoped>\n",
       "    .dataframe tbody tr th:only-of-type {\n",
       "        vertical-align: middle;\n",
       "    }\n",
       "\n",
       "    .dataframe tbody tr th {\n",
       "        vertical-align: top;\n",
       "    }\n",
       "\n",
       "    .dataframe thead th {\n",
       "        text-align: right;\n",
       "    }\n",
       "</style>\n",
       "<table border=\"1\" class=\"dataframe\">\n",
       "  <thead>\n",
       "    <tr style=\"text-align: right;\">\n",
       "      <th></th>\n",
       "      <th>Unnamed: 0</th>\n",
       "      <th>PM04862AA</th>\n",
       "    </tr>\n",
       "  </thead>\n",
       "  <tbody>\n",
       "    <tr>\n",
       "      <th>0</th>\n",
       "      <td>1922</td>\n",
       "      <td>2778.025142</td>\n",
       "    </tr>\n",
       "    <tr>\n",
       "      <th>1</th>\n",
       "      <td>1923</td>\n",
       "      <td>2897.349520</td>\n",
       "    </tr>\n",
       "    <tr>\n",
       "      <th>2</th>\n",
       "      <td>1924</td>\n",
       "      <td>3127.012830</td>\n",
       "    </tr>\n",
       "    <tr>\n",
       "      <th>3</th>\n",
       "      <td>1925</td>\n",
       "      <td>3155.437756</td>\n",
       "    </tr>\n",
       "    <tr>\n",
       "      <th>4</th>\n",
       "      <td>1926</td>\n",
       "      <td>3409.287635</td>\n",
       "    </tr>\n",
       "  </tbody>\n",
       "</table>\n",
       "</div>"
      ],
      "text/plain": [
       "   Unnamed: 0    PM04862AA\n",
       "0        1922  2778.025142\n",
       "1        1923  2897.349520\n",
       "2        1924  3127.012830\n",
       "3        1925  3155.437756\n",
       "4        1926  3409.287635"
      ]
     },
     "execution_count": 4,
     "metadata": {},
     "output_type": "execute_result"
    }
   ],
   "source": [
    "base.head()"
   ]
  },
  {
   "cell_type": "code",
   "execution_count": 5,
   "id": "142330d4",
   "metadata": {},
   "outputs": [],
   "source": [
    "base = base.rename( columns = { \"Unnamed: 0\":'Year', \"PM04862AA\": 'GDP per capita'})"
   ]
  },
  {
   "cell_type": "code",
   "execution_count": 6,
   "id": "9954a293",
   "metadata": {
    "scrolled": true
   },
   "outputs": [
    {
     "data": {
      "text/html": [
       "<div>\n",
       "<style scoped>\n",
       "    .dataframe tbody tr th:only-of-type {\n",
       "        vertical-align: middle;\n",
       "    }\n",
       "\n",
       "    .dataframe tbody tr th {\n",
       "        vertical-align: top;\n",
       "    }\n",
       "\n",
       "    .dataframe thead th {\n",
       "        text-align: right;\n",
       "    }\n",
       "</style>\n",
       "<table border=\"1\" class=\"dataframe\">\n",
       "  <thead>\n",
       "    <tr style=\"text-align: right;\">\n",
       "      <th></th>\n",
       "      <th>Year</th>\n",
       "      <th>GDP per capita</th>\n",
       "    </tr>\n",
       "  </thead>\n",
       "  <tbody>\n",
       "    <tr>\n",
       "      <th>0</th>\n",
       "      <td>1922</td>\n",
       "      <td>2778.025142</td>\n",
       "    </tr>\n",
       "    <tr>\n",
       "      <th>1</th>\n",
       "      <td>1923</td>\n",
       "      <td>2897.349520</td>\n",
       "    </tr>\n",
       "    <tr>\n",
       "      <th>2</th>\n",
       "      <td>1924</td>\n",
       "      <td>3127.012830</td>\n",
       "    </tr>\n",
       "    <tr>\n",
       "      <th>3</th>\n",
       "      <td>1925</td>\n",
       "      <td>3155.437756</td>\n",
       "    </tr>\n",
       "    <tr>\n",
       "      <th>4</th>\n",
       "      <td>1926</td>\n",
       "      <td>3409.287635</td>\n",
       "    </tr>\n",
       "  </tbody>\n",
       "</table>\n",
       "</div>"
      ],
      "text/plain": [
       "   Year  GDP per capita\n",
       "0  1922     2778.025142\n",
       "1  1923     2897.349520\n",
       "2  1924     3127.012830\n",
       "3  1925     3155.437756\n",
       "4  1926     3409.287635"
      ]
     },
     "execution_count": 6,
     "metadata": {},
     "output_type": "execute_result"
    }
   ],
   "source": [
    "base.head()"
   ]
  },
  {
   "cell_type": "markdown",
   "id": "52f41834",
   "metadata": {},
   "source": [
    "#### Graficamos el PBI per capita del Perú entre los años 1922 al 2021"
   ]
  },
  {
   "cell_type": "code",
   "execution_count": 7,
   "id": "65c25d14",
   "metadata": {
    "scrolled": true
   },
   "outputs": [
    {
     "data": {
      "text/plain": [
       "Text(0.5, 1.0, 'GDP per capita Perú (1922-2021)')"
      ]
     },
     "execution_count": 7,
     "metadata": {},
     "output_type": "execute_result"
    },
    {
     "data": {
      "image/png": "[encoded data removed]",
      "text/plain": [
       "<Figure size 864x432 with 1 Axes>"
      ]
     },
     "metadata": {
      "needs_background": "light"
     },
     "output_type": "display_data"
    }
   ],
   "source": [
    "plt.figure(figsize=(12,6))\n",
    "sns.lineplot(x = \"Year\",y = \"GDP per capita\", data = base)\n",
    "plt.title(\"GDP per capita Perú (1922-2021)\")"
   ]
  },
  {
   "cell_type": "markdown",
   "id": "73ec87ba",
   "metadata": {},
   "source": [
    "Based on the grafic, it is seemed a constat growth in Peru's GDP per capita since 1920 to aproximaly lates 80s, with just little decreases in the GDP per capita. On lates 80s Peru suffered the worst economic crise in its history, that could explain the high decrease observed in the graffic. In this way, it is not until 90s when the country recovered that the GDP per capita start a growth tendency again. Finally, it is important to highlight 2020's drop as it the most afectted year by the covid 19 as most of the economic activities were parallyzed. "
   ]
  },
  {
   "cell_type": "markdown",
   "id": "928beb0e",
   "metadata": {},
   "source": [
    "Agregamos la variable \"growth rate\""
   ]
  },
  {
   "cell_type": "code",
   "execution_count": 8,
   "id": "09ef205c",
   "metadata": {},
   "outputs": [],
   "source": [
    "base['growth_rate'] = base[\"GDP per capita\"].pct_change()*100"
   ]
  },
  {
   "cell_type": "code",
   "execution_count": 9,
   "id": "326714b9",
   "metadata": {},
   "outputs": [
    {
     "data": {
      "text/html": [
       "<div>\n",
       "<style scoped>\n",
       "    .dataframe tbody tr th:only-of-type {\n",
       "        vertical-align: middle;\n",
       "    }\n",
       "\n",
       "    .dataframe tbody tr th {\n",
       "        vertical-align: top;\n",
       "    }\n",
       "\n",
       "    .dataframe thead th {\n",
       "        text-align: right;\n",
       "    }\n",
       "</style>\n",
       "<table border=\"1\" class=\"dataframe\">\n",
       "  <thead>\n",
       "    <tr style=\"text-align: right;\">\n",
       "      <th></th>\n",
       "      <th>Year</th>\n",
       "      <th>GDP per capita</th>\n",
       "      <th>growth_rate</th>\n",
       "    </tr>\n",
       "  </thead>\n",
       "  <tbody>\n",
       "    <tr>\n",
       "      <th>0</th>\n",
       "      <td>1922</td>\n",
       "      <td>2778.025142</td>\n",
       "      <td>NaN</td>\n",
       "    </tr>\n",
       "    <tr>\n",
       "      <th>1</th>\n",
       "      <td>1923</td>\n",
       "      <td>2897.349520</td>\n",
       "      <td>4.295295</td>\n",
       "    </tr>\n",
       "    <tr>\n",
       "      <th>2</th>\n",
       "      <td>1924</td>\n",
       "      <td>3127.012830</td>\n",
       "      <td>7.926669</td>\n",
       "    </tr>\n",
       "    <tr>\n",
       "      <th>3</th>\n",
       "      <td>1925</td>\n",
       "      <td>3155.437756</td>\n",
       "      <td>0.909012</td>\n",
       "    </tr>\n",
       "    <tr>\n",
       "      <th>4</th>\n",
       "      <td>1926</td>\n",
       "      <td>3409.287635</td>\n",
       "      <td>8.044839</td>\n",
       "    </tr>\n",
       "  </tbody>\n",
       "</table>\n",
       "</div>"
      ],
      "text/plain": [
       "   Year  GDP per capita  growth_rate\n",
       "0  1922     2778.025142          NaN\n",
       "1  1923     2897.349520     4.295295\n",
       "2  1924     3127.012830     7.926669\n",
       "3  1925     3155.437756     0.909012\n",
       "4  1926     3409.287635     8.044839"
      ]
     },
     "execution_count": 9,
     "metadata": {},
     "output_type": "execute_result"
    }
   ],
   "source": [
    "base.head()"
   ]
  },
  {
   "cell_type": "markdown",
   "id": "8de96f87",
   "metadata": {},
   "source": [
    "#### Graficamos el crecimiento anual del GDP per capita real"
   ]
  },
  {
   "cell_type": "code",
   "execution_count": 18,
   "id": "1db8e19e",
   "metadata": {},
   "outputs": [
    {
     "data": {
      "text/plain": [
       "Text(0.5, 1.0, \"Peru's GDP growth rate (1922-2021)\")"
      ]
     },
     "execution_count": 18,
     "metadata": {},
     "output_type": "execute_result"
    },
    {
     "data": {
      "image/png": "[encoded data removed]",
      "text/plain": [
       "<Figure size 864x432 with 1 Axes>"
      ]
     },
     "metadata": {
      "needs_background": "light"
     },
     "output_type": "display_data"
    }
   ],
   "source": [
    "plt.figure(figsize=(12,6))\n",
    "plt.axhline(y = base.growth_rate.mean(), linestyle = ':', color = \"red\")\n",
    "sns.lineplot(x = 'Year', y= 'growth_rate', data=base, color = \"grey\")\n",
    "plt.xlabel(\"Year\")\n",
    "plt.ylabel(\"GDP growth rate\")\n",
    "plt.title(\"Peru's GDP growth rate (1922-2021)\")"
   ]
  },
  {
   "cell_type": "markdown",
   "id": "f53e250c",
   "metadata": {},
   "source": [
    "As we can see in the graph, there were ups and downs in the peruvian GDP growth rate. But there were also significant drops that are important to highlight. These drops were caused by different economics crises: first, the Great Depression in 1929. Then the worst peruvian economic crisis in last 80s and, finally, the current covid-19 pandemic.   "
   ]
  },
  {
   "cell_type": "markdown",
   "id": "b604fa48",
   "metadata": {},
   "source": [
    "### 2. Report"
   ]
  },
  {
   "cell_type": "markdown",
   "id": "76306fe9",
   "metadata": {},
   "source": [
    "\n",
    "Acemoglu, Jhonson and Robinson recognized a great question in the academy: “ What are the fundamental causes of the large differences in income per capita across countries?”. Based on that and the previous investigations about the relationship between institutions and incomes, the authors formulated a “theory of institutional differences among countries colonized by Europeans”.  This theory could be explained as the next relation’s chain: First, according to the mortality rates for Europeans in the ex colonies, the metropolis decided to settle down in the new territory or to not and instead used the area just with extractive objectives. Second, this decision created different types of colonies with different types of institutions. Finally, these institutions were the base of the modern institutiones of each country which plays a vital role in their respective economies. \n",
    "As the authors proved in their study, the hypotheses were confirmed. However, they also recognized, the investigation around the topic will need more research about the steps and the development of these institutions. This is one of the weaknesses of the paper, do not go deeper in the investigation. Moreover, I believe that the authors do not consider the difference betweens colonies in Africa and America. There were high differences in the institutions and objectives of Europeans  in each continent. \n",
    "However, there was also a strength in the text. They made lots of controls to their variables in orden to prove that they do not present a spurious relation in the study. They demonstrated that institutiones were the variable that will explain GDP rather than mortality directly - this could explain settlements-. Moreover, just to introduce an explanation to types of colonies is a great advance on the knowledge, especially for that year (2001). \n",
    "Finally, it is important to mention that a next step toward the topic will be to broaden the knowledge of how those colonial institutions’ outcomes worked as the basis of the modern institutiones in different regions but taking account time, geography and context.\n"
   ]
  }
 ],
 "metadata": {
  "kernelspec": {
   "display_name": "Python 3 (ipykernel)",
   "language": "python",
   "name": "python3"
  },
  "language_info": {
   "codemirror_mode": {
    "name": "ipython",
    "version": 3
   },
   "file_extension": ".py",
   "mimetype": "text/x-python",
   "name": "python",
   "nbconvert_exporter": "python",
   "pygments_lexer": "ipython3",
   "version": "3.9.7"
  }
 },
 "nbformat": 4,
 "nbformat_minor": 5
}
