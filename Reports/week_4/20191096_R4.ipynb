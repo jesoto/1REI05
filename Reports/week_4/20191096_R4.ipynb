{
 "cells": [
  {
   "cell_type": "markdown",
   "id": "44e5b4cd",
   "metadata": {},
   "source": [
    "## REPORT Nº4:\n",
    "\n",
    "#### Name: Valeria Albarracín Garcés\n",
    "\n",
    "#### Code: 20191096\n",
    "\n",
    "\n",
    "### 1) Report:\n",
    "\n",
    "The authors aim at responding which are the causes of the large differences in income per capita across countries. Although they go in search of current differences, the paper goes back to colonial times, setting out the following reasoning: taking the impact of institutions on economic growth into account, the European colonizers adopted very different colonization strategies according to the feasibility of settlements (developed Neo-Europes where the disease environment was favorable and extractive states where it was not) and, consequently, set up different institutions. And these institutions were not only fundamental to investment and economic progress, but have a strong correlation with institutions today. \n",
    "\n",
    "In Social Sciences, nowadays it is known that differences in institutions lead to variety of outcomes in economic performance, but the authors identify the colonial experience as an explanatory variable in construction and development of institutions. To use the European mortality rate, allowed to understand the reason behind of the extremely different type of settlements and the associated institutions. In order to achieve this, the given historical background is one of the paper strengths. Moreover, the data set and the proposed theory of institutional differences among colonized countries, deny the widespread thesis that the identity of the colonizer or its legal origin as a crucial determinant of colonization patterns (supported by von Hayek and La Porta). \n",
    "\n",
    "Besides, even though at first the employed data set seems to be small, the paper’s year of publishing and the antiquity of the studied period must be kept in mind. The data on potential settler mortality since 1500 (Philp Curtin’s works and Hector Gutierrez’s records) therefore entail a deep and difficult research for a 2001 article. In this line, additional controls applied on the obtained linear regressions, strengthened the proposed thesis and controlled many of the variables that could be correlated with settler mortality and economic outcomes (like religion, ethnolinguistic fragmentation, among others). \n",
    "\n",
    "However, the authors could be leaving aside substantial differences from historical process by grouping colonies located in Latin America and Africa together: the former were conquered since 1500, while the latter were settled after 1885 in the imperialist pre-WWI period. Despite of the fact that imperialist power’s intentions could be the same, the new technology and the very development of these territories were not even similar at the time when they were conquered. \n",
    "\n",
    "Another weakness of the paper must be related with the understanding of institutions. It seems, and probably is considering other author’s researchers, that institutions can only be measured in terms of property rights and expropriation risk, ignoring its social and cultural side.\n",
    "\n",
    "Nevertheless, “The Colonia Origins of Comparative Development: An Empirical Investigation” is an interesting starting point to understand first institutions legacy and, later, to investigate how could some extractive states managed to improve its colonial institutions to achieve economic progress.\n",
    "\n",
    "\n",
    "\n",
    "### 2) Code section:"
   ]
  },
  {
   "cell_type": "code",
   "execution_count": 60,
   "id": "ec586582",
   "metadata": {},
   "outputs": [],
   "source": [
    "import pandas as pd\n",
    "import matplotlib.pyplot as plt\n",
    "import warnings \n",
    "import seaborn as sns"
   ]
  },
  {
   "cell_type": "code",
   "execution_count": 141,
   "id": "de290bd2",
   "metadata": {},
   "outputs": [
    {
     "data": {
      "text/html": [
       "<div>\n",
       "<style scoped>\n",
       "    .dataframe tbody tr th:only-of-type {\n",
       "        vertical-align: middle;\n",
       "    }\n",
       "\n",
       "    .dataframe tbody tr th {\n",
       "        vertical-align: top;\n",
       "    }\n",
       "\n",
       "    .dataframe thead th {\n",
       "        text-align: right;\n",
       "    }\n",
       "</style>\n",
       "<table border=\"1\" class=\"dataframe\">\n",
       "  <thead>\n",
       "    <tr style=\"text-align: right;\">\n",
       "      <th></th>\n",
       "      <th>Unnamed: 0</th>\n",
       "      <th>PM04862AA</th>\n",
       "    </tr>\n",
       "  </thead>\n",
       "  <tbody>\n",
       "    <tr>\n",
       "      <th>0</th>\n",
       "      <td>1922</td>\n",
       "      <td>2778.025142</td>\n",
       "    </tr>\n",
       "    <tr>\n",
       "      <th>1</th>\n",
       "      <td>1923</td>\n",
       "      <td>2897.349520</td>\n",
       "    </tr>\n",
       "    <tr>\n",
       "      <th>2</th>\n",
       "      <td>1924</td>\n",
       "      <td>3127.012830</td>\n",
       "    </tr>\n",
       "    <tr>\n",
       "      <th>3</th>\n",
       "      <td>1925</td>\n",
       "      <td>3155.437756</td>\n",
       "    </tr>\n",
       "    <tr>\n",
       "      <th>4</th>\n",
       "      <td>1926</td>\n",
       "      <td>3409.287635</td>\n",
       "    </tr>\n",
       "    <tr>\n",
       "      <th>...</th>\n",
       "      <td>...</td>\n",
       "      <td>...</td>\n",
       "    </tr>\n",
       "    <tr>\n",
       "      <th>95</th>\n",
       "      <td>2017</td>\n",
       "      <td>16601.508775</td>\n",
       "    </tr>\n",
       "    <tr>\n",
       "      <th>96</th>\n",
       "      <td>2018</td>\n",
       "      <td>16940.079773</td>\n",
       "    </tr>\n",
       "    <tr>\n",
       "      <th>97</th>\n",
       "      <td>2019</td>\n",
       "      <td>17011.552562</td>\n",
       "    </tr>\n",
       "    <tr>\n",
       "      <th>98</th>\n",
       "      <td>2020</td>\n",
       "      <td>14918.708263</td>\n",
       "    </tr>\n",
       "    <tr>\n",
       "      <th>99</th>\n",
       "      <td>2021</td>\n",
       "      <td>16687.726228</td>\n",
       "    </tr>\n",
       "  </tbody>\n",
       "</table>\n",
       "<p>100 rows × 2 columns</p>\n",
       "</div>"
      ],
      "text/plain": [
       "    Unnamed: 0     PM04862AA\n",
       "0         1922   2778.025142\n",
       "1         1923   2897.349520\n",
       "2         1924   3127.012830\n",
       "3         1925   3155.437756\n",
       "4         1926   3409.287635\n",
       "..         ...           ...\n",
       "95        2017  16601.508775\n",
       "96        2018  16940.079773\n",
       "97        2019  17011.552562\n",
       "98        2020  14918.708263\n",
       "99        2021  16687.726228\n",
       "\n",
       "[100 rows x 2 columns]"
      ]
     },
     "execution_count": 141,
     "metadata": {},
     "output_type": "execute_result"
    }
   ],
   "source": [
    "base = pd.read_excel(\"peru_gdp_1922_2021.xlsx\")\n",
    "base"
   ]
  },
  {
   "cell_type": "code",
   "execution_count": 142,
   "id": "94c18e1f",
   "metadata": {},
   "outputs": [
    {
     "data": {
      "text/html": [
       "<div>\n",
       "<style scoped>\n",
       "    .dataframe tbody tr th:only-of-type {\n",
       "        vertical-align: middle;\n",
       "    }\n",
       "\n",
       "    .dataframe tbody tr th {\n",
       "        vertical-align: top;\n",
       "    }\n",
       "\n",
       "    .dataframe thead th {\n",
       "        text-align: right;\n",
       "    }\n",
       "</style>\n",
       "<table border=\"1\" class=\"dataframe\">\n",
       "  <thead>\n",
       "    <tr style=\"text-align: right;\">\n",
       "      <th></th>\n",
       "      <th>Año</th>\n",
       "      <th>PBI</th>\n",
       "    </tr>\n",
       "  </thead>\n",
       "  <tbody>\n",
       "    <tr>\n",
       "      <th>0</th>\n",
       "      <td>1922</td>\n",
       "      <td>2778.025142</td>\n",
       "    </tr>\n",
       "    <tr>\n",
       "      <th>1</th>\n",
       "      <td>1923</td>\n",
       "      <td>2897.349520</td>\n",
       "    </tr>\n",
       "    <tr>\n",
       "      <th>2</th>\n",
       "      <td>1924</td>\n",
       "      <td>3127.012830</td>\n",
       "    </tr>\n",
       "    <tr>\n",
       "      <th>3</th>\n",
       "      <td>1925</td>\n",
       "      <td>3155.437756</td>\n",
       "    </tr>\n",
       "    <tr>\n",
       "      <th>4</th>\n",
       "      <td>1926</td>\n",
       "      <td>3409.287635</td>\n",
       "    </tr>\n",
       "    <tr>\n",
       "      <th>...</th>\n",
       "      <td>...</td>\n",
       "      <td>...</td>\n",
       "    </tr>\n",
       "    <tr>\n",
       "      <th>95</th>\n",
       "      <td>2017</td>\n",
       "      <td>16601.508775</td>\n",
       "    </tr>\n",
       "    <tr>\n",
       "      <th>96</th>\n",
       "      <td>2018</td>\n",
       "      <td>16940.079773</td>\n",
       "    </tr>\n",
       "    <tr>\n",
       "      <th>97</th>\n",
       "      <td>2019</td>\n",
       "      <td>17011.552562</td>\n",
       "    </tr>\n",
       "    <tr>\n",
       "      <th>98</th>\n",
       "      <td>2020</td>\n",
       "      <td>14918.708263</td>\n",
       "    </tr>\n",
       "    <tr>\n",
       "      <th>99</th>\n",
       "      <td>2021</td>\n",
       "      <td>16687.726228</td>\n",
       "    </tr>\n",
       "  </tbody>\n",
       "</table>\n",
       "<p>100 rows × 2 columns</p>\n",
       "</div>"
      ],
      "text/plain": [
       "     Año           PBI\n",
       "0   1922   2778.025142\n",
       "1   1923   2897.349520\n",
       "2   1924   3127.012830\n",
       "3   1925   3155.437756\n",
       "4   1926   3409.287635\n",
       "..   ...           ...\n",
       "95  2017  16601.508775\n",
       "96  2018  16940.079773\n",
       "97  2019  17011.552562\n",
       "98  2020  14918.708263\n",
       "99  2021  16687.726228\n",
       "\n",
       "[100 rows x 2 columns]"
      ]
     },
     "execution_count": 142,
     "metadata": {},
     "output_type": "execute_result"
    }
   ],
   "source": [
    "base = base.rename( columns = { \"Unnamed: 0\":'Año', \"PM04862AA\": 'PBI'})\n",
    "base"
   ]
  },
  {
   "cell_type": "code",
   "execution_count": 146,
   "id": "4d1863c0",
   "metadata": {
    "scrolled": true
   },
   "outputs": [
    {
     "data": {
      "text/plain": [
       "Text(0.5, 1.0, 'PBI per capita Perú 1922-2021')"
      ]
     },
     "execution_count": 146,
     "metadata": {},
     "output_type": "execute_result"
    },
    {
     "data": {
      "image/png": "[encoded data removed]",
      "text/plain": [
       "<Figure size 864x432 with 1 Axes>"
      ]
     },
     "metadata": {
      "needs_background": "light"
     },
     "output_type": "display_data"
    }
   ],
   "source": [
    "plt.figure(figsize=(12,6))\n",
    "sns.lineplot(x = \"Año\",y = \"PBI\", data = base, color = \"green\")\n",
    "plt.title(\"PBI per capita Perú 1922-2021\")"
   ]
  },
  {
   "cell_type": "markdown",
   "id": "81823695",
   "metadata": {},
   "source": [
    "#### Patterns:\n",
    "##### - Constant GDP growth and the largest in entire history of republican Perú from 1990, with the economic liberalization of  Fujimori government, until 2019.\n",
    "##### - Drop in 2020 due to the COVID-19 pandemic, but a subsequent recovery that almost reaches pre-pandemic GDP levels"
   ]
  },
  {
   "cell_type": "code",
   "execution_count": 144,
   "id": "777b9de7",
   "metadata": {},
   "outputs": [
    {
     "data": {
      "text/html": [
       "<div>\n",
       "<style scoped>\n",
       "    .dataframe tbody tr th:only-of-type {\n",
       "        vertical-align: middle;\n",
       "    }\n",
       "\n",
       "    .dataframe tbody tr th {\n",
       "        vertical-align: top;\n",
       "    }\n",
       "\n",
       "    .dataframe thead th {\n",
       "        text-align: right;\n",
       "    }\n",
       "</style>\n",
       "<table border=\"1\" class=\"dataframe\">\n",
       "  <thead>\n",
       "    <tr style=\"text-align: right;\">\n",
       "      <th></th>\n",
       "      <th>Año</th>\n",
       "      <th>PBI</th>\n",
       "      <th>Crecimiento_anual</th>\n",
       "    </tr>\n",
       "  </thead>\n",
       "  <tbody>\n",
       "    <tr>\n",
       "      <th>0</th>\n",
       "      <td>1922</td>\n",
       "      <td>2778.025142</td>\n",
       "      <td>NaN</td>\n",
       "    </tr>\n",
       "    <tr>\n",
       "      <th>1</th>\n",
       "      <td>1923</td>\n",
       "      <td>2897.349520</td>\n",
       "      <td>4.295295</td>\n",
       "    </tr>\n",
       "    <tr>\n",
       "      <th>2</th>\n",
       "      <td>1924</td>\n",
       "      <td>3127.012830</td>\n",
       "      <td>7.926669</td>\n",
       "    </tr>\n",
       "    <tr>\n",
       "      <th>3</th>\n",
       "      <td>1925</td>\n",
       "      <td>3155.437756</td>\n",
       "      <td>0.909012</td>\n",
       "    </tr>\n",
       "    <tr>\n",
       "      <th>4</th>\n",
       "      <td>1926</td>\n",
       "      <td>3409.287635</td>\n",
       "      <td>8.044839</td>\n",
       "    </tr>\n",
       "    <tr>\n",
       "      <th>...</th>\n",
       "      <td>...</td>\n",
       "      <td>...</td>\n",
       "      <td>...</td>\n",
       "    </tr>\n",
       "    <tr>\n",
       "      <th>95</th>\n",
       "      <td>2017</td>\n",
       "      <td>16601.508775</td>\n",
       "      <td>0.694583</td>\n",
       "    </tr>\n",
       "    <tr>\n",
       "      <th>96</th>\n",
       "      <td>2018</td>\n",
       "      <td>16940.079773</td>\n",
       "      <td>2.039399</td>\n",
       "    </tr>\n",
       "    <tr>\n",
       "      <th>97</th>\n",
       "      <td>2019</td>\n",
       "      <td>17011.552562</td>\n",
       "      <td>0.421915</td>\n",
       "    </tr>\n",
       "    <tr>\n",
       "      <th>98</th>\n",
       "      <td>2020</td>\n",
       "      <td>14918.708263</td>\n",
       "      <td>-12.302489</td>\n",
       "    </tr>\n",
       "    <tr>\n",
       "      <th>99</th>\n",
       "      <td>2021</td>\n",
       "      <td>16687.726228</td>\n",
       "      <td>11.857715</td>\n",
       "    </tr>\n",
       "  </tbody>\n",
       "</table>\n",
       "<p>100 rows × 3 columns</p>\n",
       "</div>"
      ],
      "text/plain": [
       "     Año           PBI  Crecimiento_anual\n",
       "0   1922   2778.025142                NaN\n",
       "1   1923   2897.349520           4.295295\n",
       "2   1924   3127.012830           7.926669\n",
       "3   1925   3155.437756           0.909012\n",
       "4   1926   3409.287635           8.044839\n",
       "..   ...           ...                ...\n",
       "95  2017  16601.508775           0.694583\n",
       "96  2018  16940.079773           2.039399\n",
       "97  2019  17011.552562           0.421915\n",
       "98  2020  14918.708263         -12.302489\n",
       "99  2021  16687.726228          11.857715\n",
       "\n",
       "[100 rows x 3 columns]"
      ]
     },
     "execution_count": 144,
     "metadata": {},
     "output_type": "execute_result"
    }
   ],
   "source": [
    "base[\"Crecimiento_anual\"] = base[\"PBI\"].pct_change()*100\n",
    "base"
   ]
  },
  {
   "cell_type": "code",
   "execution_count": 154,
   "id": "96e26efe",
   "metadata": {},
   "outputs": [
    {
     "data": {
      "text/plain": [
       "2.052806809896479"
      ]
     },
     "execution_count": 154,
     "metadata": {},
     "output_type": "execute_result"
    }
   ],
   "source": [
    "media = base.Crecimiento_anual.median()\n",
    "media"
   ]
  },
  {
   "cell_type": "code",
   "execution_count": 155,
   "id": "d373229c",
   "metadata": {},
   "outputs": [
    {
     "data": {
      "text/plain": [
       "<matplotlib.lines.Line2D at 0x7fb7e40be0a0>"
      ]
     },
     "execution_count": 155,
     "metadata": {},
     "output_type": "execute_result"
    },
    {
     "data": {
      "image/png": "[encoded data removed]",
      "text/plain": [
       "<Figure size 864x432 with 1 Axes>"
      ]
     },
     "metadata": {
      "needs_background": "light"
     },
     "output_type": "display_data"
    }
   ],
   "source": [
    "plt.figure(figsize=(12,6))\n",
    "sns.lineplot(x = \"Año\", y = \"Crecimiento_anual\", data= base, color = \"skyblue\")\n",
    "plt.xlabel(\"Año\")\n",
    "plt.ylabel(\"Tasa de crecimiento del PBI\")\n",
    "plt.title(\"Tasa de crecimiento del PBI Perú 1922-2021\")\n",
    "plt.axhline(y = media, linestyle = ':', label = \"PBI per Capita promedio\", color =\"red\")"
   ]
  },
  {
   "cell_type": "markdown",
   "id": "9d99c771",
   "metadata": {},
   "source": [
    "#### Patterns\n",
    "##### - Three significant falls in the annual growth rate are observed, which are probably due to three events or periods in Peruvian history: 1) due to the great depression of 1929, 2) two falls between the decades of the internal armed conflict (1980-1990) and 3) as a consequence of the current pandemic."
   ]
  }
 ],
 "metadata": {
  "kernelspec": {
   "display_name": "Python 3 (ipykernel)",
   "language": "python",
   "name": "python3"
  },
  "language_info": {
   "codemirror_mode": {
    "name": "ipython",
    "version": 3
   },
   "file_extension": ".py",
   "mimetype": "text/x-python",
   "name": "python",
   "nbconvert_exporter": "python",
   "pygments_lexer": "ipython3",
   "version": "3.9.7"
  }
 },
 "nbformat": 4,
 "nbformat_minor": 5
}
