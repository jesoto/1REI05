{
 "cells": [
  {
   "cell_type": "code",
   "execution_count": null,
   "id": "f8d429a6",
   "metadata": {},
   "outputs": [],
   "source": [
    "#READING PART"
   ]
  },
  {
   "cell_type": "code",
   "execution_count": null,
   "id": "4aa5eb9c",
   "metadata": {},
   "outputs": [],
   "source": [
    "# Melany Victoria Rodríguez Vargas"
   ]
  },
  {
   "cell_type": "code",
   "execution_count": null,
   "id": "d5451165",
   "metadata": {},
   "outputs": [],
   "source": [
    "# 20202245"
   ]
  },
  {
   "cell_type": "markdown",
   "id": "75a39eca",
   "metadata": {},
   "source": [
    "What is the research question of the article?\n",
    "\n",
    "The main question of the article guides his research to argue that the institutional differences and state policies, which are the origin of the differences between income per capita for the countries, can find the origin of their performance effect in the exogenous differences from the influence of European colonization on institutions. Under this argument, the author bases his position on the basis of three premises related to the initial question.\n",
    "The first refers to the fact that the Europeans established institutions based on two different colonization strategies. On the one hand, “extractive states” were established which consist of not giving much protection to private property and not providing checks and balances against government expropriation. The main purpose is to transfer most of the resources to the settler's colony. The latter are very dangerous for investment and economic progress. On the other hand, other colonies tried to replicate European institutions with a strong emphasis on private property and checks against government power. In so doing, they enforced the rule of law and encouraged investment.\n",
    "The second is related to the viability of the settlements, which influenced the colonization strategy. In places where the disease environment was not favorable for European settlement, the formation of an “extractive state was more likely”. That is, as long as the mortality rate is higher, the probability of producing an extractive state is higher, so they are today substantially poorer than the colonies that were healthy for Europeans. In the same way, the lower the death rate, the higher the GDP per capita, as the author shows in the first graph. However, with the exclusion restriction, the author states that the mortality rate has no effect on current GDP, only on institutional development. Using a regression model, the author answers that the mortality rates faced by Europeans in colonial times explain more than 25% of the variation in current institutions, which is related to the last premise.\n",
    "And finally, the third premise focuses on the fact that the institutions created in the colonial state persisted even after independence. Having been formed based on the previous premises and converted as an origin in early institutions.\n"
   ]
  },
  {
   "cell_type": "markdown",
   "id": "b112f9df",
   "metadata": {},
   "source": [
    "What are the strengths and weaknesses of the document's approach to responding to that question?\n",
    "\n",
    "Among the disadvantages found are, first of all, the differences in the estimates when including controls for the identity of the main settler, the legal origin, the climate, the religion, the geography, the natural sources, the quality of the soil and the measures of ethnolinguistic fragmentation in the exclusion restriction.\n",
    "Second, the authors mention that one of the main concerns in the exclusion restriction model is that colonist mortality rates could be correlated with the current disease setting, which may have a direct effect on  economic performance. So the results of this may not be entirely correct and even contradictory. There may be an important factor in diseases in poor countries in Africa and Asia, in addition to the fact that not all indigenous adults may have developed antibodies to European diseases and this may have had an effect on economic development.\n",
    "Among the strengths of the article we can find is that the authors involve alternative measures to deal with the problems of the effect of mortality rates on economic performance. It uses an over-identification test to measure the direct effect of mortality rates in settlers as a response to the exclusion restriction problem, related to diseases in settlers.\n",
    "Another of the strengths lies in the theoretical framework covered for the research, it has a strong historical base that gives legitimacy and credibility to the work, as well as containing regression models and graphs to represent its findings and work.\n",
    "Finally, the last strength found refers to the data used to validate the research. Extensive data is used to extend the investigation. What for the time can be new and interesting. However, the latter can also be a disadvantage due to the generalization that can be made. By joining data from two different realities and taking them as one, it can result in biased and even wrong results.\n"
   ]
  },
  {
   "cell_type": "markdown",
   "id": "69e4f7c3",
   "metadata": {},
   "source": [
    "How does this document advance knowledge about the question, i.e., what is the contribution? (If you can't find any contributions, ask yourself why the editor and the referees decided to publish the article).\n",
    "\n",
    "The article correctly answers the research question. The contribution that the author achieves with his research is the answer to the question of the difference at the root of the differences in per capita income between countries. It is clear that the latter lies in the exogenous differences of the state institutions and policies taken by the leaders, but the differences between them are not clear in today's society. That is where the article presents his proposal by arguing that the institutional differences have their origin in the influence of European colonization. So he presents a firm answer and argues his position to defend it. He attributes a novel origin in the research to function as a basis for this by using extensive data. Arguing the reason for these differences and their origin gives the research question a substantial contribution to a problem already raised but with no answer."
   ]
  },
  {
   "cell_type": "markdown",
   "id": "7bc0c64f",
   "metadata": {},
   "source": [
    "What would be one or two specific and valuable next steps to move forward on this question?\n",
    "\n",
    "The first step in advancing research is to consider and not ignore the role of disease in the economic development of poor countries. The author mentions in the exclusion restriction that indigenous adults from poor countries developed antibodies to European diseases so there is no effect on current GDP per capita apart from institutional development. However, he considers that ignoring this factor and generalizing it could have had consequences on the results. By considering this type of variable and expanding the research based on it, it would be possible to advance in the research with more representative results.\n",
    "The second step is to add suggestion measures. The article is focused on the criticism, the institutions and the origin of the differences, however, in addition to the criticism, a series of solutions are not offered to strengthen the current institutions. There is an origin but not an end. Therefore, to advance research, the proposal of mechanisms and practical solutions to improve current institutions is essential.\n",
    "And finally, a third step would be to extend the data processed and cover more countries to obtain better results. Latin America could be a very good point. Together with this added variable, it could have a broader scope and reduce the error that research tends to have in terms of data generalization."
   ]
  },
  {
   "cell_type": "code",
   "execution_count": null,
   "id": "3d47f9f0",
   "metadata": {},
   "outputs": [],
   "source": []
  },
  {
   "cell_type": "code",
   "execution_count": null,
   "id": "ca73320f",
   "metadata": {},
   "outputs": [],
   "source": [
    "#CODE PART"
   ]
  },
  {
   "cell_type": "code",
   "execution_count": 1,
   "id": "3887335e",
   "metadata": {},
   "outputs": [],
   "source": [
    "import pandas as pd\n",
    "import matplotlib.pyplot as plt\n",
    "import warnings\n",
    "import seaborn as sns"
   ]
  },
  {
   "cell_type": "code",
   "execution_count": 60,
   "id": "2250fec6",
   "metadata": {},
   "outputs": [],
   "source": [
    "data1 = pd.read_excel('peru_gdp_1922_2021.xlsx')"
   ]
  },
  {
   "cell_type": "code",
   "execution_count": 66,
   "id": "e20a7e68",
   "metadata": {},
   "outputs": [
    {
     "data": {
      "text/html": [
       "<div>\n",
       "<style scoped>\n",
       "    .dataframe tbody tr th:only-of-type {\n",
       "        vertical-align: middle;\n",
       "    }\n",
       "\n",
       "    .dataframe tbody tr th {\n",
       "        vertical-align: top;\n",
       "    }\n",
       "\n",
       "    .dataframe thead th {\n",
       "        text-align: right;\n",
       "    }\n",
       "</style>\n",
       "<table border=\"1\" class=\"dataframe\">\n",
       "  <thead>\n",
       "    <tr style=\"text-align: right;\">\n",
       "      <th></th>\n",
       "      <th>Year</th>\n",
       "      <th>GDP_PC</th>\n",
       "    </tr>\n",
       "  </thead>\n",
       "  <tbody>\n",
       "    <tr>\n",
       "      <th>0</th>\n",
       "      <td>NaN</td>\n",
       "      <td>Producto bruto interno y otros indicadores - P...</td>\n",
       "    </tr>\n",
       "    <tr>\n",
       "      <th>1</th>\n",
       "      <td>1922.0</td>\n",
       "      <td>2778.025142</td>\n",
       "    </tr>\n",
       "    <tr>\n",
       "      <th>2</th>\n",
       "      <td>1923.0</td>\n",
       "      <td>2897.34952</td>\n",
       "    </tr>\n",
       "    <tr>\n",
       "      <th>3</th>\n",
       "      <td>1924.0</td>\n",
       "      <td>3127.01283</td>\n",
       "    </tr>\n",
       "    <tr>\n",
       "      <th>4</th>\n",
       "      <td>1925.0</td>\n",
       "      <td>3155.437756</td>\n",
       "    </tr>\n",
       "    <tr>\n",
       "      <th>...</th>\n",
       "      <td>...</td>\n",
       "      <td>...</td>\n",
       "    </tr>\n",
       "    <tr>\n",
       "      <th>96</th>\n",
       "      <td>2017.0</td>\n",
       "      <td>16601.508775</td>\n",
       "    </tr>\n",
       "    <tr>\n",
       "      <th>97</th>\n",
       "      <td>2018.0</td>\n",
       "      <td>16940.079773</td>\n",
       "    </tr>\n",
       "    <tr>\n",
       "      <th>98</th>\n",
       "      <td>2019.0</td>\n",
       "      <td>17011.552562</td>\n",
       "    </tr>\n",
       "    <tr>\n",
       "      <th>99</th>\n",
       "      <td>2020.0</td>\n",
       "      <td>14918.708263</td>\n",
       "    </tr>\n",
       "    <tr>\n",
       "      <th>100</th>\n",
       "      <td>2021.0</td>\n",
       "      <td>16687.726228</td>\n",
       "    </tr>\n",
       "  </tbody>\n",
       "</table>\n",
       "<p>101 rows × 2 columns</p>\n",
       "</div>"
      ],
      "text/plain": [
       "       Year                                             GDP_PC\n",
       "0       NaN  Producto bruto interno y otros indicadores - P...\n",
       "1    1922.0                                        2778.025142\n",
       "2    1923.0                                         2897.34952\n",
       "3    1924.0                                         3127.01283\n",
       "4    1925.0                                        3155.437756\n",
       "..      ...                                                ...\n",
       "96   2017.0                                       16601.508775\n",
       "97   2018.0                                       16940.079773\n",
       "98   2019.0                                       17011.552562\n",
       "99   2020.0                                       14918.708263\n",
       "100  2021.0                                       16687.726228\n",
       "\n",
       "[101 rows x 2 columns]"
      ]
     },
     "execution_count": 66,
     "metadata": {},
     "output_type": "execute_result"
    }
   ],
   "source": [
    "data1"
   ]
  },
  {
   "cell_type": "code",
   "execution_count": 69,
   "id": "3e00dfd0",
   "metadata": {},
   "outputs": [],
   "source": [
    "data2 = data1.drop([0], axis = 0)"
   ]
  },
  {
   "cell_type": "code",
   "execution_count": 70,
   "id": "52ed2047",
   "metadata": {},
   "outputs": [
    {
     "data": {
      "text/html": [
       "<div>\n",
       "<style scoped>\n",
       "    .dataframe tbody tr th:only-of-type {\n",
       "        vertical-align: middle;\n",
       "    }\n",
       "\n",
       "    .dataframe tbody tr th {\n",
       "        vertical-align: top;\n",
       "    }\n",
       "\n",
       "    .dataframe thead th {\n",
       "        text-align: right;\n",
       "    }\n",
       "</style>\n",
       "<table border=\"1\" class=\"dataframe\">\n",
       "  <thead>\n",
       "    <tr style=\"text-align: right;\">\n",
       "      <th></th>\n",
       "      <th>Year</th>\n",
       "      <th>GDP_PC</th>\n",
       "    </tr>\n",
       "  </thead>\n",
       "  <tbody>\n",
       "    <tr>\n",
       "      <th>1</th>\n",
       "      <td>1922.0</td>\n",
       "      <td>2778.025142</td>\n",
       "    </tr>\n",
       "    <tr>\n",
       "      <th>2</th>\n",
       "      <td>1923.0</td>\n",
       "      <td>2897.34952</td>\n",
       "    </tr>\n",
       "    <tr>\n",
       "      <th>3</th>\n",
       "      <td>1924.0</td>\n",
       "      <td>3127.01283</td>\n",
       "    </tr>\n",
       "    <tr>\n",
       "      <th>4</th>\n",
       "      <td>1925.0</td>\n",
       "      <td>3155.437756</td>\n",
       "    </tr>\n",
       "    <tr>\n",
       "      <th>5</th>\n",
       "      <td>1926.0</td>\n",
       "      <td>3409.287635</td>\n",
       "    </tr>\n",
       "  </tbody>\n",
       "</table>\n",
       "</div>"
      ],
      "text/plain": [
       "     Year       GDP_PC\n",
       "1  1922.0  2778.025142\n",
       "2  1923.0   2897.34952\n",
       "3  1924.0   3127.01283\n",
       "4  1925.0  3155.437756\n",
       "5  1926.0  3409.287635"
      ]
     },
     "execution_count": 70,
     "metadata": {},
     "output_type": "execute_result"
    }
   ],
   "source": [
    "data2.head()"
   ]
  },
  {
   "cell_type": "code",
   "execution_count": 72,
   "id": "694fab21",
   "metadata": {},
   "outputs": [
    {
     "data": {
      "text/html": [
       "<div>\n",
       "<style scoped>\n",
       "    .dataframe tbody tr th:only-of-type {\n",
       "        vertical-align: middle;\n",
       "    }\n",
       "\n",
       "    .dataframe tbody tr th {\n",
       "        vertical-align: top;\n",
       "    }\n",
       "\n",
       "    .dataframe thead th {\n",
       "        text-align: right;\n",
       "    }\n",
       "</style>\n",
       "<table border=\"1\" class=\"dataframe\">\n",
       "  <thead>\n",
       "    <tr style=\"text-align: right;\">\n",
       "      <th></th>\n",
       "      <th>Year</th>\n",
       "      <th>GDP_PC</th>\n",
       "    </tr>\n",
       "  </thead>\n",
       "  <tbody>\n",
       "    <tr>\n",
       "      <th>96</th>\n",
       "      <td>2017.0</td>\n",
       "      <td>16601.508775</td>\n",
       "    </tr>\n",
       "    <tr>\n",
       "      <th>97</th>\n",
       "      <td>2018.0</td>\n",
       "      <td>16940.079773</td>\n",
       "    </tr>\n",
       "    <tr>\n",
       "      <th>98</th>\n",
       "      <td>2019.0</td>\n",
       "      <td>17011.552562</td>\n",
       "    </tr>\n",
       "    <tr>\n",
       "      <th>99</th>\n",
       "      <td>2020.0</td>\n",
       "      <td>14918.708263</td>\n",
       "    </tr>\n",
       "    <tr>\n",
       "      <th>100</th>\n",
       "      <td>2021.0</td>\n",
       "      <td>16687.726228</td>\n",
       "    </tr>\n",
       "  </tbody>\n",
       "</table>\n",
       "</div>"
      ],
      "text/plain": [
       "       Year        GDP_PC\n",
       "96   2017.0  16601.508775\n",
       "97   2018.0  16940.079773\n",
       "98   2019.0  17011.552562\n",
       "99   2020.0  14918.708263\n",
       "100  2021.0  16687.726228"
      ]
     },
     "execution_count": 72,
     "metadata": {},
     "output_type": "execute_result"
    }
   ],
   "source": [
    "data2.tail()"
   ]
  },
  {
   "cell_type": "code",
   "execution_count": 73,
   "id": "9a1e515b",
   "metadata": {},
   "outputs": [
    {
     "data": {
      "text/html": [
       "<div>\n",
       "<style scoped>\n",
       "    .dataframe tbody tr th:only-of-type {\n",
       "        vertical-align: middle;\n",
       "    }\n",
       "\n",
       "    .dataframe tbody tr th {\n",
       "        vertical-align: top;\n",
       "    }\n",
       "\n",
       "    .dataframe thead th {\n",
       "        text-align: right;\n",
       "    }\n",
       "</style>\n",
       "<table border=\"1\" class=\"dataframe\">\n",
       "  <thead>\n",
       "    <tr style=\"text-align: right;\">\n",
       "      <th></th>\n",
       "      <th>Year</th>\n",
       "      <th>GDP_PC</th>\n",
       "    </tr>\n",
       "  </thead>\n",
       "  <tbody>\n",
       "    <tr>\n",
       "      <th>1</th>\n",
       "      <td>1922.0</td>\n",
       "      <td>2778.025142</td>\n",
       "    </tr>\n",
       "    <tr>\n",
       "      <th>2</th>\n",
       "      <td>1923.0</td>\n",
       "      <td>2897.34952</td>\n",
       "    </tr>\n",
       "    <tr>\n",
       "      <th>3</th>\n",
       "      <td>1924.0</td>\n",
       "      <td>3127.01283</td>\n",
       "    </tr>\n",
       "    <tr>\n",
       "      <th>4</th>\n",
       "      <td>1925.0</td>\n",
       "      <td>3155.437756</td>\n",
       "    </tr>\n",
       "    <tr>\n",
       "      <th>5</th>\n",
       "      <td>1926.0</td>\n",
       "      <td>3409.287635</td>\n",
       "    </tr>\n",
       "    <tr>\n",
       "      <th>...</th>\n",
       "      <td>...</td>\n",
       "      <td>...</td>\n",
       "    </tr>\n",
       "    <tr>\n",
       "      <th>96</th>\n",
       "      <td>2017.0</td>\n",
       "      <td>16601.508775</td>\n",
       "    </tr>\n",
       "    <tr>\n",
       "      <th>97</th>\n",
       "      <td>2018.0</td>\n",
       "      <td>16940.079773</td>\n",
       "    </tr>\n",
       "    <tr>\n",
       "      <th>98</th>\n",
       "      <td>2019.0</td>\n",
       "      <td>17011.552562</td>\n",
       "    </tr>\n",
       "    <tr>\n",
       "      <th>99</th>\n",
       "      <td>2020.0</td>\n",
       "      <td>14918.708263</td>\n",
       "    </tr>\n",
       "    <tr>\n",
       "      <th>100</th>\n",
       "      <td>2021.0</td>\n",
       "      <td>16687.726228</td>\n",
       "    </tr>\n",
       "  </tbody>\n",
       "</table>\n",
       "<p>100 rows × 2 columns</p>\n",
       "</div>"
      ],
      "text/plain": [
       "       Year        GDP_PC\n",
       "1    1922.0   2778.025142\n",
       "2    1923.0    2897.34952\n",
       "3    1924.0    3127.01283\n",
       "4    1925.0   3155.437756\n",
       "5    1926.0   3409.287635\n",
       "..      ...           ...\n",
       "96   2017.0  16601.508775\n",
       "97   2018.0  16940.079773\n",
       "98   2019.0  17011.552562\n",
       "99   2020.0  14918.708263\n",
       "100  2021.0  16687.726228\n",
       "\n",
       "[100 rows x 2 columns]"
      ]
     },
     "execution_count": 73,
     "metadata": {},
     "output_type": "execute_result"
    }
   ],
   "source": [
    "data2 = data2.rename( columns = { \"Unnamed: 0\":'Year', \"PM04862AA\":'GDP_PC'}  )\n",
    "data2"
   ]
  },
  {
   "cell_type": "code",
   "execution_count": 75,
   "id": "57033355",
   "metadata": {},
   "outputs": [
    {
     "data": {
      "text/plain": [
       "Year      0\n",
       "GDP_PC    0\n",
       "dtype: int64"
      ]
     },
     "execution_count": 75,
     "metadata": {},
     "output_type": "execute_result"
    }
   ],
   "source": [
    "data2.isna().sum()"
   ]
  },
  {
   "cell_type": "code",
   "execution_count": 76,
   "id": "328f619c",
   "metadata": {},
   "outputs": [
    {
     "data": {
      "text/plain": [
       "2778.025142     1\n",
       "8467.719904     1\n",
       "8065.802484     1\n",
       "7647.082433     1\n",
       "6937.049230     1\n",
       "               ..\n",
       "5783.288937     1\n",
       "5603.533142     1\n",
       "5261.366616     1\n",
       "5031.953023     1\n",
       "16687.726228    1\n",
       "Name: GDP_PC, Length: 100, dtype: int64"
      ]
     },
     "execution_count": 76,
     "metadata": {},
     "output_type": "execute_result"
    }
   ],
   "source": [
    "data2['GDP_PC'].value_counts()"
   ]
  },
  {
   "cell_type": "code",
   "execution_count": 77,
   "id": "08bdc5e5",
   "metadata": {},
   "outputs": [
    {
     "data": {
      "text/plain": [
       "<bound method IndexOpsMixin.value_counts of 1       2778.025142\n",
       "2        2897.34952\n",
       "3        3127.01283\n",
       "4       3155.437756\n",
       "5       3409.287635\n",
       "           ...     \n",
       "96     16601.508775\n",
       "97     16940.079773\n",
       "98     17011.552562\n",
       "99     14918.708263\n",
       "100    16687.726228\n",
       "Name: GDP_PC, Length: 100, dtype: object>"
      ]
     },
     "execution_count": 77,
     "metadata": {},
     "output_type": "execute_result"
    }
   ],
   "source": [
    "data2.GDP_PC.value_counts"
   ]
  },
  {
   "cell_type": "code",
   "execution_count": null,
   "id": "37b65f7d",
   "metadata": {},
   "outputs": [],
   "source": [
    "#Figure 1. PERU GDP percapita from 1922-2021."
   ]
  },
  {
   "cell_type": "code",
   "execution_count": 79,
   "id": "f7ce10bb",
   "metadata": {},
   "outputs": [
    {
     "data": {
      "text/plain": [
       "Text(0, 0.5, 'GDP_PC')"
      ]
     },
     "execution_count": 79,
     "metadata": {},
     "output_type": "execute_result"
    },
    {
     "data": {
      "image/png": "[encoded data removed]",
      "text/plain": [
       "<Figure size 1152x576 with 1 Axes>"
      ]
     },
     "metadata": {
      "needs_background": "light"
     },
     "output_type": "display_data"
    }
   ],
   "source": [
    "plt.figure(figsize=(16,8))\n",
    "plt.plot(data2.Year, data2.GDP_PC)\n",
    "plt.title('PERU GDP percapita from 1922-2021')\n",
    "plt.xlabel('Year')\n",
    "plt.ylabel('GDP_PC')"
   ]
  },
  {
   "cell_type": "markdown",
   "id": "7e2bf033",
   "metadata": {},
   "source": [
    "# INTERPRETATION\n",
    "\n",
    "Based on the graph we can estimate the GDP per capita and its growth in this last century. According to the results, GDP per capita has been growing continuously with the exception of around 1934 and 35s. After that, GDP per capita grew to a low point after 1980. After 2000, growth has been exponential and rapid, However, in 2020 there is evidence of a drop, this may be due to the pandemic.\n"
   ]
  },
  {
   "cell_type": "code",
   "execution_count": 90,
   "id": "f3ab5696",
   "metadata": {},
   "outputs": [],
   "source": [
    "data2['growth_rate'] = data2[\"GDP_PC\"].pct_change()*100"
   ]
  },
  {
   "cell_type": "code",
   "execution_count": 91,
   "id": "9d045f05",
   "metadata": {},
   "outputs": [
    {
     "data": {
      "text/html": [
       "<div>\n",
       "<style scoped>\n",
       "    .dataframe tbody tr th:only-of-type {\n",
       "        vertical-align: middle;\n",
       "    }\n",
       "\n",
       "    .dataframe tbody tr th {\n",
       "        vertical-align: top;\n",
       "    }\n",
       "\n",
       "    .dataframe thead th {\n",
       "        text-align: right;\n",
       "    }\n",
       "</style>\n",
       "<table border=\"1\" class=\"dataframe\">\n",
       "  <thead>\n",
       "    <tr style=\"text-align: right;\">\n",
       "      <th></th>\n",
       "      <th>Year</th>\n",
       "      <th>GDP_PC</th>\n",
       "      <th>growth_rate</th>\n",
       "    </tr>\n",
       "  </thead>\n",
       "  <tbody>\n",
       "    <tr>\n",
       "      <th>1</th>\n",
       "      <td>1922.0</td>\n",
       "      <td>2778.025142</td>\n",
       "      <td>NaN</td>\n",
       "    </tr>\n",
       "    <tr>\n",
       "      <th>2</th>\n",
       "      <td>1923.0</td>\n",
       "      <td>2897.34952</td>\n",
       "      <td>4.295295</td>\n",
       "    </tr>\n",
       "    <tr>\n",
       "      <th>3</th>\n",
       "      <td>1924.0</td>\n",
       "      <td>3127.01283</td>\n",
       "      <td>7.926669</td>\n",
       "    </tr>\n",
       "    <tr>\n",
       "      <th>4</th>\n",
       "      <td>1925.0</td>\n",
       "      <td>3155.437756</td>\n",
       "      <td>0.909012</td>\n",
       "    </tr>\n",
       "    <tr>\n",
       "      <th>5</th>\n",
       "      <td>1926.0</td>\n",
       "      <td>3409.287635</td>\n",
       "      <td>8.044839</td>\n",
       "    </tr>\n",
       "    <tr>\n",
       "      <th>...</th>\n",
       "      <td>...</td>\n",
       "      <td>...</td>\n",
       "      <td>...</td>\n",
       "    </tr>\n",
       "    <tr>\n",
       "      <th>96</th>\n",
       "      <td>2017.0</td>\n",
       "      <td>16601.508775</td>\n",
       "      <td>0.694583</td>\n",
       "    </tr>\n",
       "    <tr>\n",
       "      <th>97</th>\n",
       "      <td>2018.0</td>\n",
       "      <td>16940.079773</td>\n",
       "      <td>2.039399</td>\n",
       "    </tr>\n",
       "    <tr>\n",
       "      <th>98</th>\n",
       "      <td>2019.0</td>\n",
       "      <td>17011.552562</td>\n",
       "      <td>0.421915</td>\n",
       "    </tr>\n",
       "    <tr>\n",
       "      <th>99</th>\n",
       "      <td>2020.0</td>\n",
       "      <td>14918.708263</td>\n",
       "      <td>-12.302489</td>\n",
       "    </tr>\n",
       "    <tr>\n",
       "      <th>100</th>\n",
       "      <td>2021.0</td>\n",
       "      <td>16687.726228</td>\n",
       "      <td>11.857715</td>\n",
       "    </tr>\n",
       "  </tbody>\n",
       "</table>\n",
       "<p>100 rows × 3 columns</p>\n",
       "</div>"
      ],
      "text/plain": [
       "       Year        GDP_PC  growth_rate\n",
       "1    1922.0   2778.025142          NaN\n",
       "2    1923.0    2897.34952     4.295295\n",
       "3    1924.0    3127.01283     7.926669\n",
       "4    1925.0   3155.437756     0.909012\n",
       "5    1926.0   3409.287635     8.044839\n",
       "..      ...           ...          ...\n",
       "96   2017.0  16601.508775     0.694583\n",
       "97   2018.0  16940.079773     2.039399\n",
       "98   2019.0  17011.552562     0.421915\n",
       "99   2020.0  14918.708263   -12.302489\n",
       "100  2021.0  16687.726228    11.857715\n",
       "\n",
       "[100 rows x 3 columns]"
      ]
     },
     "execution_count": 91,
     "metadata": {},
     "output_type": "execute_result"
    }
   ],
   "source": [
    "data2"
   ]
  },
  {
   "cell_type": "code",
   "execution_count": 112,
   "id": "82d76825",
   "metadata": {},
   "outputs": [
    {
     "data": {
      "text/plain": [
       "1.9495935154692738"
      ]
     },
     "execution_count": 112,
     "metadata": {},
     "output_type": "execute_result"
    }
   ],
   "source": [
    "data2.growth_rate.mean()"
   ]
  },
  {
   "cell_type": "code",
   "execution_count": null,
   "id": "8b57c0b2",
   "metadata": {},
   "outputs": [],
   "source": [
    "#FIGURE 2 The Annual Growth Rate of real GDP per Capita in PERU Between 1922 and 2021."
   ]
  },
  {
   "cell_type": "code",
   "execution_count": 117,
   "id": "204a2ebf",
   "metadata": {},
   "outputs": [
    {
     "data": {
      "text/plain": [
       "Text(0.5, 1.0, 'The Annual Growth Rate of real GDP per Capita in PERU Between 1922 and 2021')"
      ]
     },
     "execution_count": 117,
     "metadata": {},
     "output_type": "execute_result"
    },
    {
     "data": {
      "image/png": "[encoded data removed]",
      "text/plain": [
       "<Figure size 864x432 with 1 Axes>"
      ]
     },
     "metadata": {
      "needs_background": "light"
     },
     "output_type": "display_data"
    }
   ],
   "source": [
    "plt.figure(figsize=(12,6))\n",
    "plt.axhline(y = data2.growth_rate.mean(), linestyle = ':', label = \"The average growth rate\")\n",
    "sns.lineplot(x = 'Year', y= 'growth_rate', data = data2, color = \"green\")\n",
    "plt.xlabel(\"Years\")\n",
    "plt.ylabel(\"The Annual Growth Rate of real GDP per Capita in PERU\")\n",
    "plt.title(\"The Annual Growth Rate of real GDP per Capita in PERU Between 1922 and 2021\")"
   ]
  },
  {
   "cell_type": "markdown",
   "id": "4be85535",
   "metadata": {},
   "source": [
    "#INTERPRETATION\n",
    "\n",
    "The figure shows the annual growth of real GDP in Peru between the years 1922 and 2021. Based on this, we can interpret that the annual growth rate of GDP in the country has been growing and decreasing very quickly and sharply. The first big drop in the real GDP growth rate occurred around the 1930s, which is consistent with the above analysis. Then a recovery occurs to that drop quickly in the same years. Another of the fastest declines occurs after a rapid increase in the growth rate since the 1980s. This itself is the lowest decline in the growth rate. However, the recovery is rapid and close to 2000s, growth remains around the average growth line. Finally, there is a dip in 2020 similar to the dip after the 80s. But like the previous one, the growth rate recovers after 2020."
   ]
  },
  {
   "cell_type": "code",
   "execution_count": null,
   "id": "e3636f50",
   "metadata": {},
   "outputs": [],
   "source": []
  }
 ],
 "metadata": {
  "kernelspec": {
   "display_name": "Python 3 (ipykernel)",
   "language": "python",
   "name": "python3"
  },
  "language_info": {
   "codemirror_mode": {
    "name": "ipython",
    "version": 3
   },
   "file_extension": ".py",
   "mimetype": "text/x-python",
   "name": "python",
   "nbconvert_exporter": "python",
   "pygments_lexer": "ipython3",
   "version": "3.9.7"
  }
 },
 "nbformat": 4,
 "nbformat_minor": 5
}
