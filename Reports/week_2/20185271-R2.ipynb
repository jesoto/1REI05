{
 "cells": [
  {
   "cell_type": "markdown",
   "metadata": {},
   "source": [
    "#Report 2 \n",
    "####Quality matters: The expulsion of professors and the consequences for PhD student outcomes in Nazi Germany - Fabian Waldinger\n",
    "\n",
    "**Course**: Fundamentals of Macroeconomics\n",
    "**Name**: Gonzalo Quintanilla Villanueva\n",
    "**Code PUCP**: 20185271\n",
    "\n",
    "The article investigates the effect of the expulsion of mathematics professors on the educational quality of PhD students during the Nazi regime. The investigator proposes the dismissal of mathematics professors in Nazi Germany as a source of exogenous variation in university quality\n",
    "\n",
    "One of the strengths of the paper was the use of historical sources and the collection of data from students and teachers to carry out their statistical tests. Those tests show us how the different factors such as dismissal of professors in different universities, the quality of the dismissed professors, or the statistics of doctoral students in the short and medium term, end up influencing the educational quality of PhD students.\n",
    "\n",
    "On the other hand, the paper shows weaknesses regarding the measurement of the educational quality variable, since the author mentions in the first pages that obtaining evidence on the causal effect of university quality is complicated for several reasons such as the evaluation of the most talented students, which could bias Ordinary Least Squares estimates, or establish the quality of university laboratories.\n",
    "\n",
    "The contribution made by the paper, however, is valuable, since there is very little research of this type using an exogenous variable in educational quality. In addition, their contribution serves the academic field, since these cases are not exempt from the fact that they can happen again, although in other circumstances. \n",
    "\n",
    "Finally, a specific step to advance on this question would be to ask ourselves about the economic and social repercussions that the dismissal of professors from German universities brought as a consequence; economic in the sense that by having professionals with less human capital, their contribution to the improvement of the country would not be as fruitful; as well as the personal economy of each graduate in those years. And social repercussions in the sense that Germany lost a high level of educational quality, since it was educationally relegated in the years after the Third Reich"
   ]
  }
 ],
 "metadata": {
  "language_info": {
   "name": "python"
  },
  "orig_nbformat": 4
 },
 "nbformat": 4,
 "nbformat_minor": 2
}
