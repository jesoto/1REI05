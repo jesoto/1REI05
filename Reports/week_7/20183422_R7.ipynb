{
 "cells": [
  {
   "cell_type": "markdown",
   "id": "1c7f3d00",
   "metadata": {},
   "source": [
    "#Report 7\n",
    "Name: Fiorella María Lazo Gutiérrez\n",
    "Code: 20183422 \n",
    "The Monetary and Fiscal History of Peru, 1960-2017\n",
    "\n",
    "\n",
    "The paper begins by analyzing the last half century of Peru's macroeconomic activity, taking into account indicators such as fiscal deficit, inflation, GDP per capita, terms of trade, government financing, real money balances, inflationary tax, seigniorage, internal debt, external debt, devaluations, government spending, government revenues, military spending, state enterprise spending, among others. These indicators are used to analyze the economic condition of the country in different periods, so that we can ask ourselves: What were the effects of the different fiscal and monetary policies during the last half century in Peru?\n",
    "\n",
    "\n",
    "Since we can find many indicators and historical data that reveal the economic context that Peru experienced during the last century, it is a strength for this document to be able to corroborate certain data with others and with different historical contexts, and it can also be contrasted with the economic reality of neighboring countries as well as other countries in the rest of the world. However, the political and social context during the 1990s and part of the 1980s is clearly a weakness for this document, as there are strong suspicions and grounds to distrust some economic data during these decades, specifically during the government of Alberto Fujimori, because there was a context of social conflict and the state had to appear strong and stable.\n",
    "\n",
    "\n",
    "\n",
    "One could find in this paper that its contribution is to demonstrate different processes that are followed to calculate economic data and the effects of fiscal and monetary policies, with detailed formulas and graphs that complement the understanding of these formulas. However, I believe that the main objective or decision to publish this paper is to record or point out different failures in the country's economic and political decisions. Because throughout the paper we can realize or anticipate the consequences of the fiscal and monetary policies taken by the authorities at that time. From the formulas shown and together with the graphs, we can \"play\" by changing the variables. For example, by 1960 Peruvian productivity fell well below its starting point, while the total contribution of hours also falls during the recession. Most of the recession is explained by the massive productivity slowdown. So there is a direct relationship between productivity and a possible recession. We can also anticipate that because Peru's main financing was borrowing from multinational banks and foreign private banks, it would make the mistake of borrowing in foreign currency and not in domestic currency. Furthermore, Peru took longer than expected to recover, due to its historical record of instability, tendency to borrow in foreign currency and inflationary taxes. \n",
    "\n",
    "\n",
    "\n",
    "There was not much confidence that there was a commitment to follow through on the changes set out for economic recovery, so investment did not increase to any great extent.\n",
    "A valuable step to advance or complement this paper could be the interpretation of the use of different current economic models in the Peruvian context of hyperinflation. That is to say, what decisions could have been taken following other economic models and to analyse the positive and negative consequences of this process. It is well known that Peru has a dependence on exports, so it is highly dependent on foreign prices; and this dependence was much greater in the context given in the document. So a specific step that could complement the information given is that given Peru's dependence on foreign prices, what actions should be taken in the event of a sudden drop in these prices.\n",
    "\n",
    "\n",
    "Bibliography\n",
    "Martinelli, C., & Vega, M. (2018). Monetary and Fiscal History of Peru 1960-2017: Radical Policy Experiments, Inflation, and Stabilization. University of Chicago, Becker Friedman Institute for Economics Working Paper, (2018-63).\n"
   ]
  },
  {
   "cell_type": "code",
   "execution_count": null,
   "id": "a505cc90",
   "metadata": {},
   "outputs": [],
   "source": []
  },
  {
   "cell_type": "code",
   "execution_count": null,
   "id": "bba814eb",
   "metadata": {},
   "outputs": [],
   "source": []
  },
  {
   "cell_type": "code",
   "execution_count": null,
   "id": "0fb76871",
   "metadata": {},
   "outputs": [],
   "source": []
  },
  {
   "cell_type": "code",
   "execution_count": null,
   "id": "58f1b979",
   "metadata": {},
   "outputs": [],
   "source": [
    "#PART 2"
   ]
  },
  {
   "cell_type": "code",
   "execution_count": 1,
   "id": "50461b16",
   "metadata": {},
   "outputs": [],
   "source": [
    "import numpy as np               \n",
    "import matplotlib.pyplot as plt  "
   ]
  },
  {
   "cell_type": "code",
   "execution_count": null,
   "id": "cecb566c",
   "metadata": {},
   "outputs": [],
   "source": []
  },
  {
   "cell_type": "code",
   "execution_count": 89,
   "id": "5e759896",
   "metadata": {},
   "outputs": [
    {
     "name": "stderr",
     "output_type": "stream",
     "text": [
      "C:\\Users\\catono\\AppData\\Local\\Temp/ipykernel_22512/3637386325.py:61: MatplotlibDeprecationWarning: Case-insensitive properties were deprecated in 3.3 and support will be removed two minor releases later\n",
      "  ax.plot(Y, i, \"k-\",Label=\"IS_0\")\n",
      "C:\\Users\\catono\\AppData\\Local\\Temp/ipykernel_22512/3637386325.py:62: UserWarning: linestyle is redundantly defined by the 'linestyle' keyword argument and the fmt string \"b-\" (-> linestyle='-'). The keyword argument will take precedence.\n",
      "  ax.plot(Y, i_1, \"b-\",linestyle='dotted',Label=\"IS_1\")\n",
      "C:\\Users\\catono\\AppData\\Local\\Temp/ipykernel_22512/3637386325.py:62: MatplotlibDeprecationWarning: Case-insensitive properties were deprecated in 3.3 and support will be removed two minor releases later\n",
      "  ax.plot(Y, i_1, \"b-\",linestyle='dotted',Label=\"IS_1\")\n",
      "No handles with labels found to put in legend.\n"
     ]
    },
    {
     "data": {
      "image/png": "[encoded data removed]",
      "text/plain": [
       "<Figure size 720x576 with 1 Axes>"
      ]
     },
     "metadata": {},
     "output_type": "display_data"
    }
   ],
   "source": [
    "import numpy as np               \n",
    "import matplotlib.pyplot as plt  \n",
    "\n",
    "\"1|DEFINE PARAMETERS AND ARRAYS\"\n",
    "# Parameters\n",
    "Y_size = 100\n",
    "c = 20                 # Autonomous consumption\n",
    "b = 0.2                # Marginal propensity to consume\n",
    "             # Autonomous imports\n",
    "m = 0.2            # Marginal propensity to import\n",
    "T = 1                  # Taxes\n",
    "I_bar = 10             # Investment intercept (when i = 0)\n",
    "G_bar = 8              # Government spending\n",
    "X_bar = 2              # Exports (given)\n",
    "h = 5                  # Investment slope wrt to i\n",
    "# Arrays\n",
    "Y = np.arange(Y_size)  # Array values of Y\n",
    "\n",
    "\"2|DEFINE AND POPULATE THE IS-SCHEDULE\"\n",
    "def i_IS(c, b, m, T, I_bar, G_bar, X_bar, h, Y):\n",
    "    i_IS = ((c)-(b-m)*T + I_bar + G_bar + X_bar - (1-b+m)*Y)/h\n",
    "    return i_IS\n",
    "\n",
    "def Y_IS(c, b, m, T, I_bar, G_bar, X_bar, h, i):\n",
    "    Y_IS = ((c)-(b-m)*T + I_bar + G_bar + X_bar - h*i)/(1-b+m)\n",
    "    return Y_IS\n",
    "\n",
    "\n",
    "i = i_IS(c, b, m, T, I_bar, G_bar, X_bar, h, Y)\n",
    "#--------------------------------------------------------------\n",
    "Y_size = 100\n",
    "c = 20                 # Autonomous consumption\n",
    "b = 0.2                # Marginal propensity to consume\n",
    "             # Autonomous imports\n",
    "m = 0.2            # Marginal propensity to import\n",
    "T = 1                  # Taxes\n",
    "I_bar = 10             # Investment intercept (when i = 0)\n",
    "G_bar = 10              # Government spending\n",
    "X_bar = 2              # Exports (given)\n",
    "h = 5  \n",
    "\n",
    "\n",
    "\n",
    "def i_IS_1(c, b, m, T, I_bar, G_bar, X_bar, h, Y):\n",
    "    i_IS = ((c)-(b-m)*T + I_bar + G_bar + X_bar - (1-b+m)*Y)/h\n",
    "    return i_IS\n",
    "\n",
    "def Y_IS_1(c, b, m, T, I_bar, G_bar, X_bar, h, i):\n",
    "    Y_IS = ((c)-(b-m)*T + I_bar + G_bar + X_bar - h*i)/(1-b+m)\n",
    "    return Y_IS\n",
    "\n",
    "i_1 = i_IS_1(c, b, m, T, I_bar, G_bar, X_bar, h, Y)\n",
    "\n",
    "\n",
    "y_max = np.max(i)\n",
    "x_max = Y_IS(c, b, m, T, I_bar, G_bar, X_bar, h, 0)\n",
    "\n",
    "v = [0, x_max, 0, y_max]                       \n",
    "fig, ax = plt.subplots(figsize=(10, 8))\n",
    "ax.set(title=\"IS SCHEDULE\", xlabel=r'Y', ylabel=r'r')\n",
    "ax.plot(Y, i, \"k-\",Label=\"IS_0\")\n",
    "ax.plot(Y, i_1, \"b-\",linestyle='dotted',Label=\"IS_1\")\n",
    "ax.yaxis.set_major_locator(plt.NullLocator())   \n",
    "ax.xaxis.set_major_locator(plt.NullLocator())  \n",
    "\n",
    "plt.axis(v)         \n",
    "plt.legend()        \n",
    "plt.show()"
   ]
  },
  {
   "cell_type": "markdown",
   "id": "c380c422",
   "metadata": {},
   "source": [
    "After an increase in public expenditure the SI moves to the right, as its intercept increases."
   ]
  },
  {
   "cell_type": "code",
   "execution_count": null,
   "id": "b2d53e06",
   "metadata": {},
   "outputs": [],
   "source": []
  },
  {
   "cell_type": "code",
   "execution_count": null,
   "id": "3d29b046",
   "metadata": {},
   "outputs": [],
   "source": []
  },
  {
   "cell_type": "code",
   "execution_count": 95,
   "id": "07f8aeda",
   "metadata": {},
   "outputs": [
    {
     "name": "stderr",
     "output_type": "stream",
     "text": [
      "C:\\Users\\catono\\AppData\\Local\\Temp/ipykernel_22512/1415856742.py:61: MatplotlibDeprecationWarning: Case-insensitive properties were deprecated in 3.3 and support will be removed two minor releases later\n",
      "  ax.plot(Y, i, \"k-\",Label=\"IS_0\")\n",
      "C:\\Users\\catono\\AppData\\Local\\Temp/ipykernel_22512/1415856742.py:62: UserWarning: linestyle is redundantly defined by the 'linestyle' keyword argument and the fmt string \"b-\" (-> linestyle='-'). The keyword argument will take precedence.\n",
      "  ax.plot(Y, i_1, \"b-\",linestyle='dotted',Label=\"IS_1\")\n",
      "C:\\Users\\catono\\AppData\\Local\\Temp/ipykernel_22512/1415856742.py:62: MatplotlibDeprecationWarning: Case-insensitive properties were deprecated in 3.3 and support will be removed two minor releases later\n",
      "  ax.plot(Y, i_1, \"b-\",linestyle='dotted',Label=\"IS_1\")\n",
      "No handles with labels found to put in legend.\n"
     ]
    },
    {
     "data": {
      "image/png": "[encoded data removed]",
      "text/plain": [
       "<Figure size 720x576 with 1 Axes>"
      ]
     },
     "metadata": {},
     "output_type": "display_data"
    }
   ],
   "source": [
    "import numpy as np               \n",
    "import matplotlib.pyplot as plt  \n",
    "\n",
    "\"1|DEFINE PARAMETERS AND ARRAYS\"\n",
    "# Parameters\n",
    "Y_size = 100\n",
    "c = 20                 # Autonomous consumption\n",
    "b = 0.2                # Marginal propensity to consume\n",
    "             # Autonomous imports\n",
    "m = 0.2            # Marginal propensity to import\n",
    "T = 1                  # Taxes\n",
    "I_bar = 10             # Investment intercept (when i = 0)\n",
    "G_bar = 8             # Government spending\n",
    "X_bar = 2              # Exports (given)\n",
    "h = 5                  # Investment slope wrt to i\n",
    "# Arrays\n",
    "Y = np.arange(Y_size)  # Array values of Y\n",
    "\n",
    "\"2|DEFINE AND POPULATE THE IS-SCHEDULE\"\n",
    "def i_IS(c, b, m, T, I_bar, G_bar, X_bar, h, Y):\n",
    "    i_IS = ((c)-(b-m)*T + I_bar + G_bar + X_bar - (1-b+m)*Y)/h\n",
    "    return i_IS\n",
    "\n",
    "def Y_IS(c, b, m, T, I_bar, G_bar, X_bar, h, i):\n",
    "    Y_IS = ((c)-(b-m)*T + I_bar + G_bar + X_bar - h*i)/(1-b+m)\n",
    "    return Y_IS\n",
    "\n",
    "\n",
    "i = i_IS(c, b, m, T, I_bar, G_bar, X_bar, h, Y)\n",
    "#--------------------------------------------------------------\n",
    "Y_size = 100\n",
    "c = 20                 # Autonomous consumption\n",
    "b = 0.2                # Marginal propensity to consume\n",
    "             # Autonomous imports\n",
    "m = 0.4           # Marginal propensity to import\n",
    "T = 1.05                 # Taxes\n",
    "I_bar = 10             # Investment intercept (when i = 0)\n",
    "G_bar = 8            # Government spending\n",
    "X_bar = 2              # Exports (given)\n",
    "h = 5  \n",
    "\n",
    "\n",
    "\n",
    "def i_IS_1(c, b, m, T, I_bar, G_bar, X_bar, h, Y):\n",
    "    i_IS = ((c)-(b-m)*T + I_bar + G_bar + X_bar - (1-b+m)*Y)/h\n",
    "    return i_IS\n",
    "\n",
    "def Y_IS_1(c, b, m, T, I_bar, G_bar, X_bar, h, i):\n",
    "    Y_IS = ((c)-(b-m)*T + I_bar + G_bar + X_bar - h*i)/(1-b+m)\n",
    "    return Y_IS\n",
    "\n",
    "i_1 = i_IS_1(c, b, m, T, I_bar, G_bar, X_bar, h, Y)\n",
    "\n",
    "\n",
    "y_max = np.max(i)\n",
    "x_max = Y_IS(c, b, m, T, I_bar, G_bar, X_bar, h, 0)\n",
    "\n",
    "v = [0, x_max, 0, y_max]                       \n",
    "fig, ax = plt.subplots(figsize=(10, 8))\n",
    "ax.set(title=\"IS SCHEDULE\", xlabel=r'Y', ylabel=r'r')\n",
    "ax.plot(Y, i, \"k-\",Label=\"IS_0\")\n",
    "ax.plot(Y, i_1, \"b-\",linestyle='dotted',Label=\"IS_1\")\n",
    "ax.yaxis.set_major_locator(plt.NullLocator())   \n",
    "ax.xaxis.set_major_locator(plt.NullLocator())   \n",
    "\n",
    "plt.axis(v)         \n",
    "plt.legend()        \n",
    "plt.show()"
   ]
  },
  {
   "cell_type": "markdown",
   "id": "a52a00f6",
   "metadata": {},
   "source": [
    "After an increase in the tax rate the SI moves downwards, but without changing its intercept, as this variable is affecting only its slope, which becomes larger."
   ]
  },
  {
   "cell_type": "code",
   "execution_count": null,
   "id": "e30221b7",
   "metadata": {},
   "outputs": [],
   "source": []
  },
  {
   "cell_type": "code",
   "execution_count": null,
   "id": "d8562085",
   "metadata": {},
   "outputs": [],
   "source": []
  },
  {
   "cell_type": "code",
   "execution_count": null,
   "id": "b46dbb0e",
   "metadata": {},
   "outputs": [],
   "source": []
  },
  {
   "cell_type": "code",
   "execution_count": 98,
   "id": "1823c5b1",
   "metadata": {},
   "outputs": [
    {
     "name": "stderr",
     "output_type": "stream",
     "text": [
      "C:\\Users\\catono\\AppData\\Local\\Temp/ipykernel_22512/2410309405.py:61: MatplotlibDeprecationWarning: Case-insensitive properties were deprecated in 3.3 and support will be removed two minor releases later\n",
      "  ax.plot(Y, i, \"k-\",Label=\"IS_0\")\n",
      "C:\\Users\\catono\\AppData\\Local\\Temp/ipykernel_22512/2410309405.py:62: UserWarning: linestyle is redundantly defined by the 'linestyle' keyword argument and the fmt string \"b-\" (-> linestyle='-'). The keyword argument will take precedence.\n",
      "  ax.plot(Y, i_1, \"b-\",linestyle='dotted',Label=\"IS_1\")\n",
      "C:\\Users\\catono\\AppData\\Local\\Temp/ipykernel_22512/2410309405.py:62: MatplotlibDeprecationWarning: Case-insensitive properties were deprecated in 3.3 and support will be removed two minor releases later\n",
      "  ax.plot(Y, i_1, \"b-\",linestyle='dotted',Label=\"IS_1\")\n",
      "No handles with labels found to put in legend.\n"
     ]
    },
    {
     "data": {
      "image/png": "[encoded data removed]",
      "text/plain": [
       "<Figure size 720x576 with 1 Axes>"
      ]
     },
     "metadata": {},
     "output_type": "display_data"
    }
   ],
   "source": [
    "import numpy as np               \n",
    "import matplotlib.pyplot as plt \n",
    "\n",
    "\"1|DEFINE PARAMETERS AND ARRAYS\"\n",
    "# Parameters\n",
    "Y_size = 100\n",
    "c = 20                 # Autonomous consumption\n",
    "b = 0.2                # Marginal propensity to consume\n",
    "             # Autonomous imports\n",
    "m = 0.2            # Marginal propensity to import\n",
    "T = 1                  # Taxes\n",
    "I_bar = 10             # Investment intercept (when i = 0)\n",
    "G_bar = 8              # Government spending\n",
    "X_bar = 2              # Exports (given)\n",
    "h = 5                  # Investment slope wrt to i\n",
    "# Arrays\n",
    "Y = np.arange(Y_size)  # Array values of Y\n",
    "\n",
    "\"2|DEFINE AND POPULATE THE IS-SCHEDULE\"\n",
    "def i_IS(c, b, m, T, I_bar, G_bar, X_bar, h, Y):\n",
    "    i_IS = ((c)-(b-m)*T + I_bar + G_bar + X_bar - (1-b+m)*Y)/h\n",
    "    return i_IS\n",
    "\n",
    "def Y_IS(c, b, m, T, I_bar, G_bar, X_bar, h, i):\n",
    "    Y_IS = ((c)-(b-m)*T + I_bar + G_bar + X_bar - h*i)/(1-b+m)\n",
    "    return Y_IS\n",
    "\n",
    "\n",
    "i = i_IS(c, b, m, T, I_bar, G_bar, X_bar, h, Y)\n",
    "#--------------------------------------------------------------\n",
    "Y_size = 100\n",
    "c = 20                 # Autonomous consumption\n",
    "b = 0.4               # Marginal propensity to consume\n",
    "             # Autonomous imports\n",
    "m = 0.2            # Marginal propensity to import\n",
    "T = 1                  # Taxes\n",
    "I_bar = 10             # Investment intercept (when i = 0)\n",
    "G_bar = 8              # Government spending\n",
    "X_bar = 2              # Exports (given)\n",
    "h = 5  \n",
    "\n",
    "\n",
    "\n",
    "def i_IS_1(c, b, m, T, I_bar, G_bar, X_bar, h, Y):\n",
    "    i_IS = ((c)-(b-m)*T + I_bar + G_bar + X_bar - (1-b+m)*Y)/h\n",
    "    return i_IS\n",
    "\n",
    "def Y_IS_1(c, b, m, T, I_bar, G_bar, X_bar, h, i):\n",
    "    Y_IS = ((c)-(b-m)*T + I_bar + G_bar + X_bar - h*i)/(1-b+m)\n",
    "    return Y_IS\n",
    "\n",
    "i_1 = i_IS_1(c, b, m, T, I_bar, G_bar, X_bar, h, Y)\n",
    "\n",
    "\n",
    "y_max = np.max(i)\n",
    "x_max = Y_IS(c, b, m, T, I_bar, G_bar, X_bar, h, 0)\n",
    "\n",
    "v = [0, x_max, 0, y_max]                        # Set the axes range\n",
    "fig, ax = plt.subplots(figsize=(10, 8))\n",
    "ax.set(title=\"IS SCHEDULE\", xlabel=r'Y', ylabel=r'r')\n",
    "ax.plot(Y, i, \"k-\",Label=\"IS_0\")\n",
    "ax.plot(Y, i_1, \"b-\",linestyle='dotted',Label=\"IS_1\")\n",
    "ax.yaxis.set_major_locator(plt.NullLocator())   # Hide ticks\n",
    "ax.xaxis.set_major_locator(plt.NullLocator())   # Hide ticks\n",
    "\n",
    "plt.axis(v)         \n",
    "plt.legend()        \n",
    "plt.show()"
   ]
  },
  {
   "cell_type": "markdown",
   "id": "c972ab37",
   "metadata": {},
   "source": [
    "After an increase in the marginal product of consumption equal to Δb>0\n",
    "The SI moves to the right, but without changing its intercept, as the parameter b only affects its slope, which becomes smaller."
   ]
  },
  {
   "cell_type": "code",
   "execution_count": null,
   "id": "ca1cc452",
   "metadata": {},
   "outputs": [],
   "source": []
  },
  {
   "cell_type": "code",
   "execution_count": null,
   "id": "218c02bd",
   "metadata": {},
   "outputs": [],
   "source": []
  },
  {
   "cell_type": "code",
   "execution_count": null,
   "id": "f72e4450",
   "metadata": {},
   "outputs": [],
   "source": [
    "# PART3 "
   ]
  },
  {
   "cell_type": "code",
   "execution_count": 64,
   "id": "38344a6a",
   "metadata": {},
   "outputs": [
    {
     "name": "stderr",
     "output_type": "stream",
     "text": [
      "C:\\Users\\catono\\AppData\\Local\\Temp/ipykernel_22512/2770314459.py:62: MatplotlibDeprecationWarning: Case-insensitive properties were deprecated in 3.3 and support will be removed two minor releases later\n",
      "  ax.plot(Y, i, \"k-\",Label=\"IS_0\")\n",
      "C:\\Users\\catono\\AppData\\Local\\Temp/ipykernel_22512/2770314459.py:63: UserWarning: linestyle is redundantly defined by the 'linestyle' keyword argument and the fmt string \"r-\" (-> linestyle='-'). The keyword argument will take precedence.\n",
      "  ax.plot(Y, i_1, \"r-\",linestyle='dashed',Label=\"IS_1\")\n",
      "C:\\Users\\catono\\AppData\\Local\\Temp/ipykernel_22512/2770314459.py:63: MatplotlibDeprecationWarning: Case-insensitive properties were deprecated in 3.3 and support will be removed two minor releases later\n",
      "  ax.plot(Y, i_1, \"r-\",linestyle='dashed',Label=\"IS_1\")\n",
      "No handles with labels found to put in legend.\n"
     ]
    },
    {
     "data": {
      "image/png": "[encoded data removed]",
      "text/plain": [
       "<Figure size 720x576 with 1 Axes>"
      ]
     },
     "metadata": {},
     "output_type": "display_data"
    }
   ],
   "source": [
    "import numpy as np               \n",
    "import matplotlib.pyplot as plt \n",
    "\n",
    "# Parameters\n",
    "Y_size = 100\n",
    "c = 20                 \n",
    "b = 0.2                \n",
    "             \n",
    "m = 0.2            \n",
    "T = 1                  \n",
    "I_bar = 10            \n",
    "G_bar = 10            \n",
    "X_bar = 2              \n",
    "h = 5                  \n",
    "# Arrays\n",
    "Y = np.arange(Y_size)  \n",
    "\n",
    "\n",
    "def i_IS(c, b, m, T, I_bar, G_bar, X_bar, h, Y):\n",
    "    i_IS = ((c)-(b-m)*T + I_bar + G_bar + X_bar - (1-b+m)*Y)/h\n",
    "    return i_IS\n",
    "\n",
    "def Y_IS(c, b, m, T, I_bar, G_bar, X_bar, h, i):\n",
    "    Y_IS = ((c)-(b-m)*T + I_bar + G_bar + X_bar - h*i)/(1-b+m)\n",
    "    return Y_IS\n",
    "\n",
    "\n",
    "i = i_IS(c, b, m, T, I_bar, G_bar, X_bar, h, Y)\n",
    "#--------------------------------------------------------------\n",
    "# Parameters\n",
    "Y_size = 100\n",
    "c = 20                 \n",
    "b = 0.2                \n",
    "             \n",
    "m = 0.2            \n",
    "T = 1                  \n",
    "I_bar = 10            \n",
    "G_bar = 10            \n",
    "X_bar = 2              \n",
    "h = 5                  \n",
    "# Arrays\n",
    "Y = np.arange(Y_size)  \n",
    "\n",
    "\n",
    "def i_IS(c, b, m, T, I_bar, G_bar, X_bar, h, Y):\n",
    "    i_IS = ((c)-(b-m)*T + I_bar + G_bar + X_bar - (1-b+m)*Y)/h\n",
    "    return i_IS\n",
    "\n",
    "def Y_IS(c, b, m, T, I_bar, G_bar, X_bar, h, i):\n",
    "    Y_IS = ((c)-(b-m)*T + I_bar + G_bar + X_bar - h*i)/(1-b+m)\n",
    "    return Y_IS\n",
    "\n",
    "\n",
    "i = i_IS(c, b, m, T, I_bar, G_bar, X_bar, h, Y)\n",
    "\n",
    "y_max = np.max(i)\n",
    "x_max = Y_IS(C0 ,  b ,  m ,  t ,  I_bar ,  G_bar ,  X_bar ,  h ,  0)\n",
    "\n",
    "v = [0, x_max, 0, y_max]                        # Set the axes range\n",
    "fig, ax = plt.subplots(figsize=(10, 8))\n",
    "ax.set(title=\"EQUILIBRIUM IN THE MONEY MARKET\", xlabel=r'Y', ylabel=r'r')\n",
    "ax.plot(Y, i, \"k-\",Label=\"IS_0\")\n",
    "ax.plot(Y, i_1, \"r-\",linestyle='dashed',Label=\"IS_1\")\n",
    "ax.yaxis.set_major_locator(plt.NullLocator())   # Hide ticks\n",
    "ax.xaxis.set_major_locator(plt.NullLocator())   # Hide ticks\n",
    "ax.vlines(x=20, ymin=0, ymax=7, colors='blue')\n",
    "\n",
    "plt.axis(v)         \n",
    "plt.legend()        \n",
    "plt.show()"
   ]
  },
  {
   "cell_type": "code",
   "execution_count": null,
   "id": "d63d4bea",
   "metadata": {},
   "outputs": [],
   "source": []
  },
  {
   "cell_type": "code",
   "execution_count": null,
   "id": "c50235b5",
   "metadata": {},
   "outputs": [],
   "source": []
  },
  {
   "cell_type": "code",
   "execution_count": null,
   "id": "65eda85d",
   "metadata": {},
   "outputs": [],
   "source": []
  },
  {
   "cell_type": "code",
   "execution_count": null,
   "id": "4c6c28c4",
   "metadata": {},
   "outputs": [],
   "source": []
  },
  {
   "cell_type": "code",
   "execution_count": 45,
   "id": "d90f5840",
   "metadata": {},
   "outputs": [
    {
     "data": {
      "text/plain": [
       "array([-11.11111111, -10.11111111,  -9.11111111,  -8.11111111,\n",
       "        -7.11111111,  -6.11111111,  -5.11111111,  -4.11111111,\n",
       "        -3.11111111,  -2.11111111,  -1.11111111,  -0.11111111,\n",
       "         0.88888889,   1.88888889,   2.88888889,   3.88888889,\n",
       "         4.88888889,   5.88888889,   6.88888889,   7.88888889,\n",
       "         8.88888889,   9.88888889,  10.88888889,  11.88888889,\n",
       "        12.88888889,  13.88888889,  14.88888889,  15.88888889,\n",
       "        16.88888889,  17.88888889,  18.88888889,  19.88888889,\n",
       "        20.88888889,  21.88888889,  22.88888889,  23.88888889,\n",
       "        24.88888889,  25.88888889,  26.88888889,  27.88888889,\n",
       "        28.88888889,  29.88888889,  30.88888889,  31.88888889,\n",
       "        32.88888889,  33.88888889,  34.88888889,  35.88888889,\n",
       "        36.88888889,  37.88888889,  38.88888889,  39.88888889,\n",
       "        40.88888889,  41.88888889,  42.88888889,  43.88888889,\n",
       "        44.88888889,  45.88888889,  46.88888889,  47.88888889,\n",
       "        48.88888889,  49.88888889,  50.88888889,  51.88888889,\n",
       "        52.88888889,  53.88888889,  54.88888889,  55.88888889,\n",
       "        56.88888889,  57.88888889,  58.88888889,  59.88888889,\n",
       "        60.88888889,  61.88888889,  62.88888889,  63.88888889,\n",
       "        64.88888889,  65.88888889,  66.88888889,  67.88888889,\n",
       "        68.88888889,  69.88888889,  70.88888889,  71.88888889,\n",
       "        72.88888889,  73.88888889,  74.88888889,  75.88888889,\n",
       "        76.88888889,  77.88888889,  78.88888889,  79.88888889,\n",
       "        80.88888889,  81.88888889,  82.88888889,  83.88888889,\n",
       "        84.88888889,  85.88888889,  86.88888889,  87.88888889])"
      ]
     },
     "execution_count": 45,
     "metadata": {},
     "output_type": "execute_result"
    }
   ],
   "source": [
    "\"1|IMPORT PACKAGES\"\n",
    "import numpy as np               # Package for scientific computing with Python\n",
    "import matplotlib.pyplot as plt  # Matplotlib is a 2D plotting library\n",
    "import sympy as sy\n",
    "\n",
    "# Parameters\n",
    "Y_size = 100\n",
    "K = 9              # Transaction money demand\n",
    "J = 9            # Speculation money demand\n",
    "Ms = 2000         # Nominal money supply\n",
    "P  = 20                # Price level\n",
    "# Arrays\n",
    "Y = np.arange(Y_size)  # Array values of Y\n",
    "\n",
    "\n",
    "def i_LM(K, J, Ms, P, Y):\n",
    "    i_LM = (-Ms/P)/J + K/J*Y\n",
    "    return i_LM\n",
    "\n",
    "i = i_LM(K, J, Ms, P, Y)\n",
    "i"
   ]
  },
  {
   "cell_type": "code",
   "execution_count": 46,
   "id": "46fe571f",
   "metadata": {},
   "outputs": [
    {
     "name": "stderr",
     "output_type": "stream",
     "text": [
      "C:\\Users\\catono\\AppData\\Local\\Temp/ipykernel_22512/3048743398.py:7: UserWarning: color is redundantly defined by the 'color' keyword argument and the fmt string \"b-\" (-> color='b'). The keyword argument will take precedence.\n",
      "  ax.plot(Y, i, \"b-\", label=\"LM\", color = 'blue')\n"
     ]
    },
    {
     "data": {
      "image/png": "[encoded data removed]",
      "text/plain": [
       "<Figure size 720x576 with 1 Axes>"
      ]
     },
     "metadata": {},
     "output_type": "display_data"
    }
   ],
   "source": [
    "\n",
    "y_max = np.max(i)\n",
    "\n",
    "v = [0, Y_size, 0, y_max]                       \n",
    "fig, ax = plt.subplots(figsize=(10, 8))\n",
    "ax.set(title=\"LM SCHEDULE\", xlabel=r'Y', ylabel=r'r')\n",
    "ax.plot(Y, i, \"b-\", label=\"LM\", color = 'blue')\n",
    "\n",
    "ax.yaxis.set_major_locator(plt.NullLocator())   \n",
    "ax.xaxis.set_major_locator(plt.NullLocator())   \n",
    "ax.legend()\n",
    "plt.show()\n"
   ]
  },
  {
   "cell_type": "code",
   "execution_count": null,
   "id": "e533e030",
   "metadata": {},
   "outputs": [],
   "source": []
  },
  {
   "cell_type": "code",
   "execution_count": null,
   "id": "9af3e30c",
   "metadata": {},
   "outputs": [],
   "source": []
  },
  {
   "cell_type": "code",
   "execution_count": null,
   "id": "22dd2504",
   "metadata": {},
   "outputs": [],
   "source": []
  }
 ],
 "metadata": {
  "kernelspec": {
   "display_name": "Python 3 (ipykernel)",
   "language": "python",
   "name": "python3"
  },
  "language_info": {
   "codemirror_mode": {
    "name": "ipython",
    "version": 3
   },
   "file_extension": ".py",
   "mimetype": "text/x-python",
   "name": "python",
   "nbconvert_exporter": "python",
   "pygments_lexer": "ipython3",
   "version": "3.9.7"
  }
 },
 "nbformat": 4,
 "nbformat_minor": 5
}
