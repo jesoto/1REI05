{
 "cells": [
  {
   "cell_type": "code",
   "execution_count": 1,
   "id": "7fafedc1",
   "metadata": {},
   "outputs": [],
   "source": [
    "import pandas as pd\n",
    "import matplotlib.pyplot as plt\n",
    "import warnings \n",
    "import seaborn as sns\n",
    "import statsmodels.api as sm\n",
    "import statsmodels.formula.api as smf\n",
    "import numpy as np \n",
    "from statsmodels.iolib.summary2 import summary_col"
   ]
  },
  {
   "cell_type": "code",
   "execution_count": 2,
   "id": "67d13dab",
   "metadata": {},
   "outputs": [
    {
     "data": {
      "text/html": [
       "<div>\n",
       "<style scoped>\n",
       "    .dataframe tbody tr th:only-of-type {\n",
       "        vertical-align: middle;\n",
       "    }\n",
       "\n",
       "    .dataframe tbody tr th {\n",
       "        vertical-align: top;\n",
       "    }\n",
       "\n",
       "    .dataframe thead th {\n",
       "        text-align: right;\n",
       "    }\n",
       "</style>\n",
       "<table border=\"1\" class=\"dataframe\">\n",
       "  <thead>\n",
       "    <tr style=\"text-align: right;\">\n",
       "      <th></th>\n",
       "      <th>longname</th>\n",
       "      <th>shortnam</th>\n",
       "      <th>logmort0</th>\n",
       "      <th>risk</th>\n",
       "      <th>loggdp</th>\n",
       "      <th>campaign</th>\n",
       "      <th>source0</th>\n",
       "      <th>slave</th>\n",
       "      <th>latitude</th>\n",
       "      <th>neoeuro</th>\n",
       "      <th>...</th>\n",
       "      <th>logmortjam</th>\n",
       "      <th>logmortcap250</th>\n",
       "      <th>logmortjam250</th>\n",
       "      <th>wandcafrica</th>\n",
       "      <th>malfal94</th>\n",
       "      <th>wacacontested</th>\n",
       "      <th>mortnaval2250</th>\n",
       "      <th>logmortnaval2250</th>\n",
       "      <th>mortnaval1250</th>\n",
       "      <th>logmortnaval1250</th>\n",
       "    </tr>\n",
       "  </thead>\n",
       "  <tbody>\n",
       "    <tr>\n",
       "      <th>0</th>\n",
       "      <td>Bangladesh</td>\n",
       "      <td>BGD</td>\n",
       "      <td>4.268438</td>\n",
       "      <td>5.140000</td>\n",
       "      <td>6.88</td>\n",
       "      <td>1</td>\n",
       "      <td>1</td>\n",
       "      <td>0</td>\n",
       "      <td>0.2667</td>\n",
       "      <td>0</td>\n",
       "      <td>...</td>\n",
       "      <td>4.268438</td>\n",
       "      <td>4.268438</td>\n",
       "      <td>4.268438</td>\n",
       "      <td>0</td>\n",
       "      <td>0.12008</td>\n",
       "      <td>0</td>\n",
       "      <td>71.410004</td>\n",
       "      <td>4.268438</td>\n",
       "      <td>71.410004</td>\n",
       "      <td>4.268438</td>\n",
       "    </tr>\n",
       "    <tr>\n",
       "      <th>1</th>\n",
       "      <td>Canada</td>\n",
       "      <td>CAN</td>\n",
       "      <td>2.778819</td>\n",
       "      <td>9.729999</td>\n",
       "      <td>9.99</td>\n",
       "      <td>0</td>\n",
       "      <td>1</td>\n",
       "      <td>0</td>\n",
       "      <td>0.6667</td>\n",
       "      <td>1</td>\n",
       "      <td>...</td>\n",
       "      <td>2.778819</td>\n",
       "      <td>2.778819</td>\n",
       "      <td>2.778819</td>\n",
       "      <td>0</td>\n",
       "      <td>0.00000</td>\n",
       "      <td>0</td>\n",
       "      <td>16.100000</td>\n",
       "      <td>2.778819</td>\n",
       "      <td>16.100000</td>\n",
       "      <td>2.778819</td>\n",
       "    </tr>\n",
       "    <tr>\n",
       "      <th>2</th>\n",
       "      <td>Congo</td>\n",
       "      <td>COG</td>\n",
       "      <td>5.480639</td>\n",
       "      <td>4.680000</td>\n",
       "      <td>7.42</td>\n",
       "      <td>0</td>\n",
       "      <td>1</td>\n",
       "      <td>1</td>\n",
       "      <td>0.0111</td>\n",
       "      <td>0</td>\n",
       "      <td>...</td>\n",
       "      <td>5.480639</td>\n",
       "      <td>5.480639</td>\n",
       "      <td>5.480639</td>\n",
       "      <td>1</td>\n",
       "      <td>0.95000</td>\n",
       "      <td>0</td>\n",
       "      <td>240.000000</td>\n",
       "      <td>5.480639</td>\n",
       "      <td>240.000000</td>\n",
       "      <td>5.480639</td>\n",
       "    </tr>\n",
       "    <tr>\n",
       "      <th>3</th>\n",
       "      <td>Algeria</td>\n",
       "      <td>DZA</td>\n",
       "      <td>4.359270</td>\n",
       "      <td>6.500000</td>\n",
       "      <td>8.39</td>\n",
       "      <td>1</td>\n",
       "      <td>1</td>\n",
       "      <td>0</td>\n",
       "      <td>0.3111</td>\n",
       "      <td>0</td>\n",
       "      <td>...</td>\n",
       "      <td>4.359270</td>\n",
       "      <td>4.359270</td>\n",
       "      <td>4.359270</td>\n",
       "      <td>0</td>\n",
       "      <td>0.00000</td>\n",
       "      <td>0</td>\n",
       "      <td>78.199997</td>\n",
       "      <td>4.359270</td>\n",
       "      <td>78.199997</td>\n",
       "      <td>4.359270</td>\n",
       "    </tr>\n",
       "    <tr>\n",
       "      <th>4</th>\n",
       "      <td>Egypt</td>\n",
       "      <td>EGY</td>\n",
       "      <td>4.216562</td>\n",
       "      <td>6.770000</td>\n",
       "      <td>7.95</td>\n",
       "      <td>1</td>\n",
       "      <td>1</td>\n",
       "      <td>0</td>\n",
       "      <td>0.3000</td>\n",
       "      <td>0</td>\n",
       "      <td>...</td>\n",
       "      <td>4.216562</td>\n",
       "      <td>4.216562</td>\n",
       "      <td>4.216562</td>\n",
       "      <td>0</td>\n",
       "      <td>0.00000</td>\n",
       "      <td>0</td>\n",
       "      <td>67.800003</td>\n",
       "      <td>4.216562</td>\n",
       "      <td>67.800003</td>\n",
       "      <td>4.216562</td>\n",
       "    </tr>\n",
       "  </tbody>\n",
       "</table>\n",
       "<p>5 rows × 31 columns</p>\n",
       "</div>"
      ],
      "text/plain": [
       "     longname shortnam  logmort0      risk  loggdp  campaign  source0  slave  \\\n",
       "0  Bangladesh      BGD  4.268438  5.140000    6.88         1        1      0   \n",
       "1      Canada      CAN  2.778819  9.729999    9.99         0        1      0   \n",
       "2       Congo      COG  5.480639  4.680000    7.42         0        1      1   \n",
       "3     Algeria      DZA  4.359270  6.500000    8.39         1        1      0   \n",
       "4       Egypt      EGY  4.216562  6.770000    7.95         1        1      0   \n",
       "\n",
       "   latitude  neoeuro  ...  logmortjam  logmortcap250  logmortjam250  \\\n",
       "0    0.2667        0  ...    4.268438       4.268438       4.268438   \n",
       "1    0.6667        1  ...    2.778819       2.778819       2.778819   \n",
       "2    0.0111        0  ...    5.480639       5.480639       5.480639   \n",
       "3    0.3111        0  ...    4.359270       4.359270       4.359270   \n",
       "4    0.3000        0  ...    4.216562       4.216562       4.216562   \n",
       "\n",
       "   wandcafrica  malfal94  wacacontested  mortnaval2250  logmortnaval2250  \\\n",
       "0            0   0.12008              0      71.410004          4.268438   \n",
       "1            0   0.00000              0      16.100000          2.778819   \n",
       "2            1   0.95000              0     240.000000          5.480639   \n",
       "3            0   0.00000              0      78.199997          4.359270   \n",
       "4            0   0.00000              0      67.800003          4.216562   \n",
       "\n",
       "   mortnaval1250  logmortnaval1250  \n",
       "0      71.410004          4.268438  \n",
       "1      16.100000          2.778819  \n",
       "2     240.000000          5.480639  \n",
       "3      78.199997          4.359270  \n",
       "4      67.800003          4.216562  \n",
       "\n",
       "[5 rows x 31 columns]"
      ]
     },
     "execution_count": 2,
     "metadata": {},
     "output_type": "execute_result"
    }
   ],
   "source": [
    "url = \"https://raw.githubusercontent.com/jesoto/1REI05/main/Reports/data/acemoglu_2001.csv\"\n",
    "base = pd.read_csv(url)\n",
    "base.head()"
   ]
  },
  {
   "cell_type": "code",
   "execution_count": 3,
   "id": "bea5c9b4",
   "metadata": {},
   "outputs": [
    {
     "data": {
      "image/png": "[encoded data removed]",
      "text/plain": [
       "<Figure size 360x360 with 1 Axes>"
      ]
     },
     "metadata": {},
     "output_type": "display_data"
    }
   ],
   "source": [
    "sns.set_style(\"white\")\n",
    "gr1 = sns.lmplot(x=\"logmort0\", y=\"risk\",\n",
    "                     data=base, \n",
    "                     robust=True, \n",
    "                     palette='Set2',)\n",
    "plt.xlabel(\"Log of settler mortality\")\n",
    "plt.ylabel(\"Average Expropiaton Risk 1985-95\")\n",
    "plt.show()"
   ]
  },
  {
   "cell_type": "markdown",
   "id": "8603e70d",
   "metadata": {},
   "source": [
    "Based on the graphic, we can highlight some patterns as the following. Those countries that showed higher log settler mortality are the poorest nowadays, in other words, the current richer countries are those that presented lowest mortality rate. As the author developed in the paper, it might be because of the institution that were delveloped in that time based on the settlement. In this case, those who present higher log of settle mortality did not develoved institutions that respect property rights."
   ]
  },
  {
   "cell_type": "code",
   "execution_count": 4,
   "id": "34cc0c03",
   "metadata": {},
   "outputs": [
    {
     "data": {
      "text/html": [
       "<div>\n",
       "<style scoped>\n",
       "    .dataframe tbody tr th:only-of-type {\n",
       "        vertical-align: middle;\n",
       "    }\n",
       "\n",
       "    .dataframe tbody tr th {\n",
       "        vertical-align: top;\n",
       "    }\n",
       "\n",
       "    .dataframe thead th {\n",
       "        text-align: right;\n",
       "    }\n",
       "</style>\n",
       "<table border=\"1\" class=\"dataframe\">\n",
       "  <thead>\n",
       "    <tr style=\"text-align: right;\">\n",
       "      <th></th>\n",
       "      <th>shortnam</th>\n",
       "      <th>africa</th>\n",
       "      <th>lat_abst</th>\n",
       "      <th>avexpr</th>\n",
       "      <th>logpgp95</th>\n",
       "      <th>other</th>\n",
       "      <th>asia</th>\n",
       "      <th>loghjypl</th>\n",
       "      <th>baseco</th>\n",
       "    </tr>\n",
       "  </thead>\n",
       "  <tbody>\n",
       "    <tr>\n",
       "      <th>0</th>\n",
       "      <td>AFG</td>\n",
       "      <td>0</td>\n",
       "      <td>0.366667</td>\n",
       "      <td>NaN</td>\n",
       "      <td>NaN</td>\n",
       "      <td>0</td>\n",
       "      <td>1</td>\n",
       "      <td>NaN</td>\n",
       "      <td>NaN</td>\n",
       "    </tr>\n",
       "    <tr>\n",
       "      <th>1</th>\n",
       "      <td>AGO</td>\n",
       "      <td>1</td>\n",
       "      <td>0.136667</td>\n",
       "      <td>5.363637</td>\n",
       "      <td>7.770645</td>\n",
       "      <td>0</td>\n",
       "      <td>0</td>\n",
       "      <td>-3.411248</td>\n",
       "      <td>1.0</td>\n",
       "    </tr>\n",
       "    <tr>\n",
       "      <th>2</th>\n",
       "      <td>ARE</td>\n",
       "      <td>0</td>\n",
       "      <td>0.266667</td>\n",
       "      <td>7.181818</td>\n",
       "      <td>9.804219</td>\n",
       "      <td>0</td>\n",
       "      <td>1</td>\n",
       "      <td>NaN</td>\n",
       "      <td>NaN</td>\n",
       "    </tr>\n",
       "    <tr>\n",
       "      <th>3</th>\n",
       "      <td>ARG</td>\n",
       "      <td>0</td>\n",
       "      <td>0.377778</td>\n",
       "      <td>6.386363</td>\n",
       "      <td>9.133459</td>\n",
       "      <td>0</td>\n",
       "      <td>0</td>\n",
       "      <td>-0.872274</td>\n",
       "      <td>1.0</td>\n",
       "    </tr>\n",
       "    <tr>\n",
       "      <th>4</th>\n",
       "      <td>ARM</td>\n",
       "      <td>0</td>\n",
       "      <td>0.444444</td>\n",
       "      <td>NaN</td>\n",
       "      <td>7.682482</td>\n",
       "      <td>0</td>\n",
       "      <td>1</td>\n",
       "      <td>NaN</td>\n",
       "      <td>NaN</td>\n",
       "    </tr>\n",
       "  </tbody>\n",
       "</table>\n",
       "</div>"
      ],
      "text/plain": [
       "  shortnam  africa  lat_abst    avexpr  logpgp95  other  asia  loghjypl  \\\n",
       "0      AFG       0  0.366667       NaN       NaN      0     1       NaN   \n",
       "1      AGO       1  0.136667  5.363637  7.770645      0     0 -3.411248   \n",
       "2      ARE       0  0.266667  7.181818  9.804219      0     1       NaN   \n",
       "3      ARG       0  0.377778  6.386363  9.133459      0     0 -0.872274   \n",
       "4      ARM       0  0.444444       NaN  7.682482      0     1       NaN   \n",
       "\n",
       "   baseco  \n",
       "0     NaN  \n",
       "1     1.0  \n",
       "2     NaN  \n",
       "3     1.0  \n",
       "4     NaN  "
      ]
     },
     "execution_count": 4,
     "metadata": {},
     "output_type": "execute_result"
    }
   ],
   "source": [
    "url1 = \"https://raw.githubusercontent.com/jesoto/1REI05/main/Reports/data/acemoglu_2001_regression.csv\"\n",
    "base1 = pd.read_csv(url1)\n",
    "base1.head()"
   ]
  },
  {
   "cell_type": "code",
   "execution_count": 5,
   "id": "d89c87bb",
   "metadata": {},
   "outputs": [
    {
     "name": "stdout",
     "output_type": "stream",
     "text": [
      "                            OLS Regression Results                            \n",
      "==============================================================================\n",
      "Dep. Variable:               logpgp95   R-squared:                       0.611\n",
      "Model:                            OLS   Adj. R-squared:                  0.608\n",
      "Method:                 Least Squares   F-statistic:                     334.8\n",
      "Date:                Sat, 07 May 2022   Prob (F-statistic):           5.14e-35\n",
      "Time:                        17:41:37   Log-Likelihood:                -119.71\n",
      "No. Observations:                 111   AIC:                             243.4\n",
      "Df Residuals:                     109   BIC:                             248.8\n",
      "Df Model:                           1                                         \n",
      "Covariance Type:                  HC1                                         \n",
      "==============================================================================\n",
      "                 coef    std err          z      P>|z|      [0.025      0.975]\n",
      "------------------------------------------------------------------------------\n",
      "Intercept      4.6261      0.241     19.222      0.000       4.154       5.098\n",
      "avexpr         0.5319      0.029     18.297      0.000       0.475       0.589\n",
      "==============================================================================\n",
      "Omnibus:                        9.251   Durbin-Watson:                   1.689\n",
      "Prob(Omnibus):                  0.010   Jarque-Bera (JB):                9.170\n",
      "Skew:                          -0.680   Prob(JB):                       0.0102\n",
      "Kurtosis:                       3.362   Cond. No.                         33.2\n",
      "==============================================================================\n",
      "\n",
      "Notes:\n",
      "[1] Standard Errors are heteroscedasticity robust (HC1)\n"
     ]
    }
   ],
   "source": [
    "mod1= 'logpgp95 ~ avexpr'\n",
    "result1 = smf.ols(mod1, data=base1).fit(cov_type='HC1')\n",
    "print(result1.summary())"
   ]
  },
  {
   "cell_type": "code",
   "execution_count": 6,
   "id": "e79220ef",
   "metadata": {},
   "outputs": [
    {
     "name": "stdout",
     "output_type": "stream",
     "text": [
      "                            OLS Regression Results                            \n",
      "==============================================================================\n",
      "Dep. Variable:               logpgp95   R-squared:                       0.612\n",
      "Model:                            OLS   Adj. R-squared:                  0.605\n",
      "Method:                 Least Squares   F-statistic:                     185.4\n",
      "Date:                Sat, 07 May 2022   Prob (F-statistic):           1.19e-35\n",
      "Time:                        17:41:37   Log-Likelihood:                -119.54\n",
      "No. Observations:                 111   AIC:                             245.1\n",
      "Df Residuals:                     108   BIC:                             253.2\n",
      "Df Model:                           2                                         \n",
      "Covariance Type:                  HC1                                         \n",
      "=======================================================================================\n",
      "                          coef    std err          z      P>|z|      [0.025      0.975]\n",
      "---------------------------------------------------------------------------------------\n",
      "Intercept               4.7700      0.429     11.123      0.000       3.929       5.610\n",
      "baseco == 1[T.True]    -0.0901      0.187     -0.482      0.630      -0.456       0.276\n",
      "avexpr                  0.5191      0.044     11.808      0.000       0.433       0.605\n",
      "==============================================================================\n",
      "Omnibus:                        9.806   Durbin-Watson:                   1.671\n",
      "Prob(Omnibus):                  0.007   Jarque-Bera (JB):                9.868\n",
      "Skew:                          -0.710   Prob(JB):                      0.00720\n",
      "Kurtosis:                       3.346   Cond. No.                         44.8\n",
      "==============================================================================\n",
      "\n",
      "Notes:\n",
      "[1] Standard Errors are heteroscedasticity robust (HC1)\n"
     ]
    }
   ],
   "source": [
    "mod2= 'logpgp95 ~ avexpr + baseco==1'\n",
    "result2 = smf.ols(mod2, data=base1).fit(cov_type='HC1')\n",
    "print(result2.summary())"
   ]
  },
  {
   "cell_type": "code",
   "execution_count": 7,
   "id": "9ceec576",
   "metadata": {},
   "outputs": [
    {
     "name": "stdout",
     "output_type": "stream",
     "text": [
      "                            OLS Regression Results                            \n",
      "==============================================================================\n",
      "Dep. Variable:               logpgp95   R-squared:                       0.623\n",
      "Model:                            OLS   Adj. R-squared:                  0.616\n",
      "Method:                 Least Squares   F-statistic:                     183.9\n",
      "Date:                Sat, 07 May 2022   Prob (F-statistic):           1.66e-35\n",
      "Time:                        17:41:37   Log-Likelihood:                -118.09\n",
      "No. Observations:                 111   AIC:                             242.2\n",
      "Df Residuals:                     108   BIC:                             250.3\n",
      "Df Model:                           2                                         \n",
      "Covariance Type:                  HC1                                         \n",
      "==============================================================================\n",
      "                 coef    std err          z      P>|z|      [0.025      0.975]\n",
      "------------------------------------------------------------------------------\n",
      "Intercept      4.8729      0.281     17.357      0.000       4.323       5.423\n",
      "avexpr         0.4635      0.052      8.884      0.000       0.361       0.566\n",
      "lat_abst       0.8722      0.499      1.747      0.081      -0.107       1.851\n",
      "==============================================================================\n",
      "Omnibus:                        6.082   Durbin-Watson:                   1.756\n",
      "Prob(Omnibus):                  0.048   Jarque-Bera (JB):                5.950\n",
      "Skew:                          -0.567   Prob(JB):                       0.0510\n",
      "Kurtosis:                       3.037   Cond. No.                         57.4\n",
      "==============================================================================\n",
      "\n",
      "Notes:\n",
      "[1] Standard Errors are heteroscedasticity robust (HC1)\n"
     ]
    }
   ],
   "source": [
    "mod3= 'logpgp95 ~ avexpr + lat_abst'\n",
    "result3 = smf.ols(mod3, data=base1).fit(cov_type='HC1')\n",
    "print(result3.summary())"
   ]
  },
  {
   "cell_type": "code",
   "execution_count": 8,
   "id": "ed2991ec",
   "metadata": {},
   "outputs": [
    {
     "name": "stdout",
     "output_type": "stream",
     "text": [
      "                            OLS Regression Results                            \n",
      "==============================================================================\n",
      "Dep. Variable:               logpgp95   R-squared:                       0.715\n",
      "Model:                            OLS   Adj. R-squared:                  0.702\n",
      "Method:                 Least Squares   F-statistic:                     97.09\n",
      "Date:                Sat, 07 May 2022   Prob (F-statistic):           9.39e-38\n",
      "Time:                        17:41:37   Log-Likelihood:                -102.45\n",
      "No. Observations:                 111   AIC:                             216.9\n",
      "Df Residuals:                     105   BIC:                             233.2\n",
      "Df Model:                           5                                         \n",
      "Covariance Type:                  HC1                                         \n",
      "==============================================================================\n",
      "                 coef    std err          z      P>|z|      [0.025      0.975]\n",
      "------------------------------------------------------------------------------\n",
      "Intercept      5.8511      0.293     19.936      0.000       5.276       6.426\n",
      "avexpr         0.3896      0.051      7.638      0.000       0.290       0.490\n",
      "lat_abst       0.3326      0.442      0.752      0.452      -0.535       1.200\n",
      "africa        -0.9164      0.154     -5.946      0.000      -1.218      -0.614\n",
      "asia          -0.1531      0.181     -0.848      0.396      -0.507       0.201\n",
      "other          0.3035      0.174      1.741      0.082      -0.038       0.645\n",
      "==============================================================================\n",
      "Omnibus:                        4.342   Durbin-Watson:                   1.865\n",
      "Prob(Omnibus):                  0.114   Jarque-Bera (JB):                3.936\n",
      "Skew:                          -0.457   Prob(JB):                        0.140\n",
      "Kurtosis:                       3.126   Cond. No.                         58.2\n",
      "==============================================================================\n",
      "\n",
      "Notes:\n",
      "[1] Standard Errors are heteroscedasticity robust (HC1)\n"
     ]
    }
   ],
   "source": [
    "mod4= 'logpgp95 ~ avexpr + lat_abst+africa + asia + other'\n",
    "result4 = smf.ols(mod4, data=base1).fit(cov_type='HC1')\n",
    "print(result4.summary())"
   ]
  },
  {
   "cell_type": "code",
   "execution_count": 9,
   "id": "0c93d8a8",
   "metadata": {},
   "outputs": [
    {
     "name": "stdout",
     "output_type": "stream",
     "text": [
      "                            OLS Regression Results                            \n",
      "==============================================================================\n",
      "Dep. Variable:               logpgp95   R-squared:                       0.623\n",
      "Model:                            OLS   Adj. R-squared:                  0.612\n",
      "Method:                 Least Squares   F-statistic:                     124.5\n",
      "Date:                Sat, 07 May 2022   Prob (F-statistic):           9.29e-35\n",
      "Time:                        17:41:37   Log-Likelihood:                -118.06\n",
      "No. Observations:                 111   AIC:                             244.1\n",
      "Df Residuals:                     107   BIC:                             255.0\n",
      "Df Model:                           3                                         \n",
      "Covariance Type:                  HC1                                         \n",
      "=======================================================================================\n",
      "                          coef    std err          z      P>|z|      [0.025      0.975]\n",
      "---------------------------------------------------------------------------------------\n",
      "Intercept               4.8199      0.423     11.398      0.000       3.991       5.649\n",
      "baseco == 1[T.True]     0.0443      0.208      0.213      0.831      -0.363       0.451\n",
      "avexpr                  0.4649      0.054      8.596      0.000       0.359       0.571\n",
      "lat_abst                0.9346      0.561      1.665      0.096      -0.166       2.035\n",
      "==============================================================================\n",
      "Omnibus:                        5.611   Durbin-Watson:                   1.772\n",
      "Prob(Omnibus):                  0.060   Jarque-Bera (JB):                5.450\n",
      "Skew:                          -0.543   Prob(JB):                       0.0655\n",
      "Kurtosis:                       3.023   Cond. No.                         61.5\n",
      "==============================================================================\n",
      "\n",
      "Notes:\n",
      "[1] Standard Errors are heteroscedasticity robust (HC1)\n"
     ]
    }
   ],
   "source": [
    "mod5= 'logpgp95 ~ avexpr + lat_abst+ baseco ==1'\n",
    "result5 = smf.ols(mod5, data=base1).fit(cov_type='HC1')\n",
    "print(result5.summary())"
   ]
  },
  {
   "cell_type": "code",
   "execution_count": 10,
   "id": "7df48e0f",
   "metadata": {},
   "outputs": [
    {
     "name": "stdout",
     "output_type": "stream",
     "text": [
      "                            OLS Regression Results                            \n",
      "==============================================================================\n",
      "Dep. Variable:               logpgp95   R-squared:                       0.715\n",
      "Model:                            OLS   Adj. R-squared:                  0.699\n",
      "Method:                 Least Squares   F-statistic:                     80.49\n",
      "Date:                Sat, 07 May 2022   Prob (F-statistic):           8.10e-37\n",
      "Time:                        17:41:37   Log-Likelihood:                -102.43\n",
      "No. Observations:                 111   AIC:                             218.9\n",
      "Df Residuals:                     104   BIC:                             237.8\n",
      "Df Model:                           6                                         \n",
      "Covariance Type:                  HC1                                         \n",
      "=======================================================================================\n",
      "                          coef    std err          z      P>|z|      [0.025      0.975]\n",
      "---------------------------------------------------------------------------------------\n",
      "Intercept               5.8072      0.431     13.467      0.000       4.962       6.652\n",
      "baseco == 1[T.True]     0.0321      0.216      0.149      0.882      -0.391       0.455\n",
      "avexpr                  0.3907      0.052      7.448      0.000       0.288       0.494\n",
      "lat_abst                0.3817      0.542      0.705      0.481      -0.680       1.443\n",
      "africa                 -0.9141      0.154     -5.938      0.000      -1.216      -0.612\n",
      "asia                   -0.1415      0.206     -0.687      0.492      -0.545       0.262\n",
      "other                   0.2861      0.211      1.356      0.175      -0.127       0.700\n",
      "==============================================================================\n",
      "Omnibus:                        4.337   Durbin-Watson:                   1.871\n",
      "Prob(Omnibus):                  0.114   Jarque-Bera (JB):                3.931\n",
      "Skew:                          -0.457   Prob(JB):                        0.140\n",
      "Kurtosis:                       3.125   Cond. No.                         69.4\n",
      "==============================================================================\n",
      "\n",
      "Notes:\n",
      "[1] Standard Errors are heteroscedasticity robust (HC1)\n"
     ]
    }
   ],
   "source": [
    "mod6= 'logpgp95 ~ avexpr + lat_abst+ africa + asia + other + baseco ==1'\n",
    "result6 = smf.ols(mod6, data=base1).fit(cov_type='HC1')\n",
    "print(result6.summary())"
   ]
  },
  {
   "cell_type": "code",
   "execution_count": 11,
   "id": "a896d2d4",
   "metadata": {},
   "outputs": [
    {
     "name": "stdout",
     "output_type": "stream",
     "text": [
      "\n",
      "====================================================================================================\n",
      "                    logpgp95 I logpgp95 II logpgp95 III logpgp95 IIII logpgp95 IIIII logpgp95 IIIIII\n",
      "----------------------------------------------------------------------------------------------------\n",
      "Intercept           4.6261***  4.7700***   4.8729***    5.8511***     4.8199***      5.8072***      \n",
      "                    (0.2407)   (0.4288)    (0.2808)     (0.2935)      (0.4229)       (0.4312)       \n",
      "R-squared           0.6113     0.6125      0.6225       0.7152        0.6227         0.7153         \n",
      "R-squared Adj.      0.6078     0.6053      0.6155       0.7016        0.6121         0.6989         \n",
      "africa                                                  -0.9164***                   -0.9141***     \n",
      "                                                        (0.1541)                     (0.1540)       \n",
      "asia                                                    -0.1531                      -0.1415        \n",
      "                                                        (0.1805)                     (0.2060)       \n",
      "avexpr              0.5319***  0.5191***   0.4635***    0.3896***     0.4649***      0.3907***      \n",
      "                    (0.0291)   (0.0440)    (0.0522)     (0.0510)      (0.0541)       (0.0525)       \n",
      "baseco == 1[T.True]            -0.0901                                0.0443         0.0321         \n",
      "                               (0.1869)                               (0.2076)       (0.2159)       \n",
      "lat_abst                                   0.8722*      0.3326        0.9346*        0.3817         \n",
      "                                           (0.4994)     (0.4424)      (0.5614)       (0.5415)       \n",
      "other                                                   0.3035*                      0.2861         \n",
      "                                                        (0.1743)                     (0.2110)       \n",
      "====================================================================================================\n",
      "Standard errors in parentheses.\n",
      "* p<.1, ** p<.05, ***p<.01\n"
     ]
    }
   ],
   "source": [
    "table = summary_col([result1,result2,result3,result4,result5,result6],stars=True)\n",
    "print(table)"
   ]
  },
  {
   "cell_type": "markdown",
   "id": "cebf86c6",
   "metadata": {},
   "source": [
    "As we can see based on the R-squared adjust of the models, the fourth one have the higher explain capabilities of the variaton in logpgp95(70%). However, it is important to highlight also the first model as it can explain 60% of the variation of the depend variable with just one independent variable: avexpr. Based on that, we can said that is this last variable which can predict better the variation of logpgp95. "
   ]
  },
  {
   "cell_type": "code",
   "execution_count": 12,
   "id": "366cdb07",
   "metadata": {
    "scrolled": true
   },
   "outputs": [
    {
     "name": "stdout",
     "output_type": "stream",
     "text": [
      "                            OLS Regression Results                            \n",
      "==============================================================================\n",
      "Dep. Variable:               loghjypl   R-squared:                       0.554\n",
      "Model:                            OLS   Adj. R-squared:                  0.550\n",
      "Method:                 Least Squares   F-statistic:                     230.6\n",
      "Date:                Sat, 07 May 2022   Prob (F-statistic):           2.37e-28\n",
      "Time:                        17:41:37   Log-Likelihood:                -115.77\n",
      "No. Observations:                 108   AIC:                             235.5\n",
      "Df Residuals:                     106   BIC:                             240.9\n",
      "Df Model:                           1                                         \n",
      "Covariance Type:                  HC1                                         \n",
      "==============================================================================\n",
      "                 coef    std err          z      P>|z|      [0.025      0.975]\n",
      "------------------------------------------------------------------------------\n",
      "Intercept     -4.8276      0.243    -19.858      0.000      -5.304      -4.351\n",
      "avexpr         0.4462      0.029     15.184      0.000       0.389       0.504\n",
      "==============================================================================\n",
      "Omnibus:                        5.190   Durbin-Watson:                   1.480\n",
      "Prob(Omnibus):                  0.075   Jarque-Bera (JB):                5.188\n",
      "Skew:                          -0.534   Prob(JB):                       0.0747\n",
      "Kurtosis:                       2.881   Cond. No.                         31.1\n",
      "==============================================================================\n",
      "\n",
      "Notes:\n",
      "[1] Standard Errors are heteroscedasticity robust (HC1)\n"
     ]
    }
   ],
   "source": [
    "mod7= 'loghjypl ~ avexpr'\n",
    "result7 = smf.ols(mod7, data=base1).fit(cov_type='HC1')\n",
    "print(result7.summary())"
   ]
  },
  {
   "cell_type": "code",
   "execution_count": 13,
   "id": "08140123",
   "metadata": {
    "scrolled": true
   },
   "outputs": [
    {
     "name": "stdout",
     "output_type": "stream",
     "text": [
      "                            OLS Regression Results                            \n",
      "==============================================================================\n",
      "Dep. Variable:               loghjypl   R-squared:                       0.554\n",
      "Model:                            OLS   Adj. R-squared:                  0.550\n",
      "Method:                 Least Squares   F-statistic:                     230.6\n",
      "Date:                Sat, 07 May 2022   Prob (F-statistic):           2.37e-28\n",
      "Time:                        17:41:37   Log-Likelihood:                -115.77\n",
      "No. Observations:                 108   AIC:                             235.5\n",
      "Df Residuals:                     106   BIC:                             240.9\n",
      "Df Model:                           1                                         \n",
      "Covariance Type:                  HC1                                         \n",
      "==============================================================================\n",
      "                 coef    std err          z      P>|z|      [0.025      0.975]\n",
      "------------------------------------------------------------------------------\n",
      "Intercept     -4.8276      0.243    -19.858      0.000      -5.304      -4.351\n",
      "avexpr         0.4462      0.029     15.184      0.000       0.389       0.504\n",
      "==============================================================================\n",
      "Omnibus:                        5.190   Durbin-Watson:                   1.480\n",
      "Prob(Omnibus):                  0.075   Jarque-Bera (JB):                5.188\n",
      "Skew:                          -0.534   Prob(JB):                       0.0747\n",
      "Kurtosis:                       2.881   Cond. No.                         31.1\n",
      "==============================================================================\n",
      "\n",
      "Notes:\n",
      "[1] Standard Errors are heteroscedasticity robust (HC1)\n"
     ]
    }
   ],
   "source": [
    "mod8= 'loghjypl ~ avexpr + baseco ==1'\n",
    "result8 = smf.ols(mod8, data=base1).fit(cov_type='HC1')\n",
    "print(result7.summary())"
   ]
  },
  {
   "cell_type": "code",
   "execution_count": 15,
   "id": "594efb52",
   "metadata": {},
   "outputs": [
    {
     "name": "stdout",
     "output_type": "stream",
     "text": [
      "\n",
      "==========================================\n",
      "                    loghjypl I loghjypl II\n",
      "------------------------------------------\n",
      "Intercept           -4.8276*** -4.7790*** \n",
      "                    (0.2431)   (0.3923)   \n",
      "R-squared           0.5541     0.5543     \n",
      "R-squared Adj.      0.5499     0.5458     \n",
      "avexpr              0.4462***  0.4422***  \n",
      "                    (0.0294)   (0.0404)   \n",
      "baseco == 1[T.True]            -0.0357    \n",
      "                               (0.1758)   \n",
      "==========================================\n",
      "Standard errors in parentheses.\n",
      "* p<.1, ** p<.05, ***p<.01\n"
     ]
    }
   ],
   "source": [
    "table1 = summary_col([result7,result8,],stars=True)\n",
    "print(table1)"
   ]
  },
  {
   "cell_type": "markdown",
   "id": "c3d507a8",
   "metadata": {},
   "source": [
    "As we can see in the table, just the variable \"avexpr\" is estadically significant. Because of that, I considered that the model7 is better even is it have a little lower R-squared adj. "
   ]
  },
  {
   "cell_type": "code",
   "execution_count": 14,
   "id": "a107b6a0",
   "metadata": {},
   "outputs": [],
   "source": [
    "#Reporte"
   ]
  },
  {
   "cell_type": "markdown",
   "id": "a86e3e8e",
   "metadata": {},
   "source": [
    "Jaramillo, in his research, sought to answer the question of what are the effects of variations in the minimum wage in the labor market, specifically, its effects on employment and income. Therefore, he focused his research on the increases in the minimum wage in Peru in the decade of 2000-2010. And, after different tests, he concluded that these increases were not effective for the purposes of equity and social inclusion with which such public policy is carried out.\n",
    "Jaramillo's work presents an extensive review of the literature of studies on the effects of the minimum living wage or minimum salary in the labor market. From this, he finds a great pattern of reality in our region, such as the inability to enforce new policies or laws. Likewise, contrary to the myth that Peru is at the bottom of the minimum wages in the region, it shows that in reality the Peruvian minimum wage is at an average level in the region using more precise measurements such as the conversion to dollars at parity of purchasing power\n",
    "The study differs from other investigations by carrying out a cross-sectional analysis of all the variations of the minimum vital remuneration in Peru in the aforementioned decade, unlike the analyzes focused on a specific rise that has normally been seen in the literature.This allows us to see that while the minimum wage has been increasing, the effects on the formal sector have been reduced. In the same way, he innovates by adding the informal sector to the analysis, which, taking into account the levels of informality in Peru, is a great contribution to the creation and application of public policies.\n",
    "On the other hand, rather than find weakness in the research I find problems due to the nature of the minimum living wage in Peru. Just as the author recognizes and draws attention, this seems to be designed by and for Metropolitan Lima: this policy is criticized since it does not take into account the great heterogeneity present between the regions, making it difficult to achieve representative results for the country.\n",
    "Finally, and based on the above, this study could be used to promote an analysis of what should be a correct minimum wage in the different regions of the country, taking into account the type of activity, geography, cost of living and other pertinent variables. Likewise, it would be very useful to study other types of effects that the minimum wage may have. For example, it could be seen if the increases in the minimum wage have effects on the state presence perceived by Peruvians, trust in institutions or other types of effects.\n"
   ]
  }
 ],
 "metadata": {
  "kernelspec": {
   "display_name": "Python 3 (ipykernel)",
   "language": "python",
   "name": "python3"
  },
  "language_info": {
   "codemirror_mode": {
    "name": "ipython",
    "version": 3
   },
   "file_extension": ".py",
   "mimetype": "text/x-python",
   "name": "python",
   "nbconvert_exporter": "python",
   "pygments_lexer": "ipython3",
   "version": "3.9.7"
  }
 },
 "nbformat": 4,
 "nbformat_minor": 5
}
