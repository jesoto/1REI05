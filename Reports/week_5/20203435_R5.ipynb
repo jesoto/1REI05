{
 "cells": [
  {
   "cell_type": "markdown",
   "id": "ca3641fb",
   "metadata": {},
   "source": [
    "Name: Alexandra Brun Coronado\n",
    "Code: 20203435"
   ]
  },
  {
   "cell_type": "code",
   "execution_count": null,
   "id": "449e6fd0",
   "metadata": {},
   "outputs": [],
   "source": []
  },
  {
   "cell_type": "code",
   "execution_count": null,
   "id": "d6cc79a9",
   "metadata": {},
   "outputs": [],
   "source": [
    "I. CODE SECTION"
   ]
  },
  {
   "cell_type": "code",
   "execution_count": 1,
   "id": "b74bb023",
   "metadata": {},
   "outputs": [],
   "source": [
    "import pandas as pd\n",
    "import seaborn as sns"
   ]
  },
  {
   "cell_type": "markdown",
   "id": "94ef3913",
   "metadata": {},
   "source": [
    "Part 1: Replicate figure 3 of Acemoglu et al 2001"
   ]
  },
  {
   "cell_type": "code",
   "execution_count": 2,
   "id": "0c4c998f",
   "metadata": {},
   "outputs": [],
   "source": [
    "filename = 'acemoglu_2001.csv'\n",
    "data = pd.read_csv('acemoglu_2001.csv')"
   ]
  },
  {
   "cell_type": "code",
   "execution_count": 3,
   "id": "85482e50",
   "metadata": {},
   "outputs": [
    {
     "data": {
      "text/html": [
       "<div>\n",
       "<style scoped>\n",
       "    .dataframe tbody tr th:only-of-type {\n",
       "        vertical-align: middle;\n",
       "    }\n",
       "\n",
       "    .dataframe tbody tr th {\n",
       "        vertical-align: top;\n",
       "    }\n",
       "\n",
       "    .dataframe thead th {\n",
       "        text-align: right;\n",
       "    }\n",
       "</style>\n",
       "<table border=\"1\" class=\"dataframe\">\n",
       "  <thead>\n",
       "    <tr style=\"text-align: right;\">\n",
       "      <th></th>\n",
       "      <th>longname</th>\n",
       "      <th>shortnam</th>\n",
       "      <th>logmort0</th>\n",
       "      <th>risk</th>\n",
       "      <th>loggdp</th>\n",
       "      <th>campaign</th>\n",
       "      <th>source0</th>\n",
       "      <th>slave</th>\n",
       "      <th>latitude</th>\n",
       "      <th>neoeuro</th>\n",
       "      <th>...</th>\n",
       "      <th>logmortjam</th>\n",
       "      <th>logmortcap250</th>\n",
       "      <th>logmortjam250</th>\n",
       "      <th>wandcafrica</th>\n",
       "      <th>malfal94</th>\n",
       "      <th>wacacontested</th>\n",
       "      <th>mortnaval2250</th>\n",
       "      <th>logmortnaval2250</th>\n",
       "      <th>mortnaval1250</th>\n",
       "      <th>logmortnaval1250</th>\n",
       "    </tr>\n",
       "  </thead>\n",
       "  <tbody>\n",
       "    <tr>\n",
       "      <th>0</th>\n",
       "      <td>Bangladesh</td>\n",
       "      <td>BGD</td>\n",
       "      <td>4.268438</td>\n",
       "      <td>5.140000</td>\n",
       "      <td>6.88</td>\n",
       "      <td>1</td>\n",
       "      <td>1</td>\n",
       "      <td>0</td>\n",
       "      <td>0.2667</td>\n",
       "      <td>0</td>\n",
       "      <td>...</td>\n",
       "      <td>4.268438</td>\n",
       "      <td>4.268438</td>\n",
       "      <td>4.268438</td>\n",
       "      <td>0</td>\n",
       "      <td>0.12008</td>\n",
       "      <td>0</td>\n",
       "      <td>71.410004</td>\n",
       "      <td>4.268438</td>\n",
       "      <td>71.410004</td>\n",
       "      <td>4.268438</td>\n",
       "    </tr>\n",
       "    <tr>\n",
       "      <th>1</th>\n",
       "      <td>Canada</td>\n",
       "      <td>CAN</td>\n",
       "      <td>2.778819</td>\n",
       "      <td>9.729999</td>\n",
       "      <td>9.99</td>\n",
       "      <td>0</td>\n",
       "      <td>1</td>\n",
       "      <td>0</td>\n",
       "      <td>0.6667</td>\n",
       "      <td>1</td>\n",
       "      <td>...</td>\n",
       "      <td>2.778819</td>\n",
       "      <td>2.778819</td>\n",
       "      <td>2.778819</td>\n",
       "      <td>0</td>\n",
       "      <td>0.00000</td>\n",
       "      <td>0</td>\n",
       "      <td>16.100000</td>\n",
       "      <td>2.778819</td>\n",
       "      <td>16.100000</td>\n",
       "      <td>2.778819</td>\n",
       "    </tr>\n",
       "    <tr>\n",
       "      <th>2</th>\n",
       "      <td>Congo</td>\n",
       "      <td>COG</td>\n",
       "      <td>5.480639</td>\n",
       "      <td>4.680000</td>\n",
       "      <td>7.42</td>\n",
       "      <td>0</td>\n",
       "      <td>1</td>\n",
       "      <td>1</td>\n",
       "      <td>0.0111</td>\n",
       "      <td>0</td>\n",
       "      <td>...</td>\n",
       "      <td>5.480639</td>\n",
       "      <td>5.480639</td>\n",
       "      <td>5.480639</td>\n",
       "      <td>1</td>\n",
       "      <td>0.95000</td>\n",
       "      <td>0</td>\n",
       "      <td>240.000000</td>\n",
       "      <td>5.480639</td>\n",
       "      <td>240.000000</td>\n",
       "      <td>5.480639</td>\n",
       "    </tr>\n",
       "    <tr>\n",
       "      <th>3</th>\n",
       "      <td>Algeria</td>\n",
       "      <td>DZA</td>\n",
       "      <td>4.359270</td>\n",
       "      <td>6.500000</td>\n",
       "      <td>8.39</td>\n",
       "      <td>1</td>\n",
       "      <td>1</td>\n",
       "      <td>0</td>\n",
       "      <td>0.3111</td>\n",
       "      <td>0</td>\n",
       "      <td>...</td>\n",
       "      <td>4.359270</td>\n",
       "      <td>4.359270</td>\n",
       "      <td>4.359270</td>\n",
       "      <td>0</td>\n",
       "      <td>0.00000</td>\n",
       "      <td>0</td>\n",
       "      <td>78.199997</td>\n",
       "      <td>4.359270</td>\n",
       "      <td>78.199997</td>\n",
       "      <td>4.359270</td>\n",
       "    </tr>\n",
       "    <tr>\n",
       "      <th>4</th>\n",
       "      <td>Egypt</td>\n",
       "      <td>EGY</td>\n",
       "      <td>4.216562</td>\n",
       "      <td>6.770000</td>\n",
       "      <td>7.95</td>\n",
       "      <td>1</td>\n",
       "      <td>1</td>\n",
       "      <td>0</td>\n",
       "      <td>0.3000</td>\n",
       "      <td>0</td>\n",
       "      <td>...</td>\n",
       "      <td>4.216562</td>\n",
       "      <td>4.216562</td>\n",
       "      <td>4.216562</td>\n",
       "      <td>0</td>\n",
       "      <td>0.00000</td>\n",
       "      <td>0</td>\n",
       "      <td>67.800003</td>\n",
       "      <td>4.216562</td>\n",
       "      <td>67.800003</td>\n",
       "      <td>4.216562</td>\n",
       "    </tr>\n",
       "  </tbody>\n",
       "</table>\n",
       "<p>5 rows × 31 columns</p>\n",
       "</div>"
      ],
      "text/plain": [
       "     longname shortnam  logmort0      risk  loggdp  campaign  source0  slave  \\\n",
       "0  Bangladesh      BGD  4.268438  5.140000    6.88         1        1      0   \n",
       "1      Canada      CAN  2.778819  9.729999    9.99         0        1      0   \n",
       "2       Congo      COG  5.480639  4.680000    7.42         0        1      1   \n",
       "3     Algeria      DZA  4.359270  6.500000    8.39         1        1      0   \n",
       "4       Egypt      EGY  4.216562  6.770000    7.95         1        1      0   \n",
       "\n",
       "   latitude  neoeuro  ...  logmortjam  logmortcap250  logmortjam250  \\\n",
       "0    0.2667        0  ...    4.268438       4.268438       4.268438   \n",
       "1    0.6667        1  ...    2.778819       2.778819       2.778819   \n",
       "2    0.0111        0  ...    5.480639       5.480639       5.480639   \n",
       "3    0.3111        0  ...    4.359270       4.359270       4.359270   \n",
       "4    0.3000        0  ...    4.216562       4.216562       4.216562   \n",
       "\n",
       "   wandcafrica  malfal94  wacacontested  mortnaval2250  logmortnaval2250  \\\n",
       "0            0   0.12008              0      71.410004          4.268438   \n",
       "1            0   0.00000              0      16.100000          2.778819   \n",
       "2            1   0.95000              0     240.000000          5.480639   \n",
       "3            0   0.00000              0      78.199997          4.359270   \n",
       "4            0   0.00000              0      67.800003          4.216562   \n",
       "\n",
       "   mortnaval1250  logmortnaval1250  \n",
       "0      71.410004          4.268438  \n",
       "1      16.100000          2.778819  \n",
       "2     240.000000          5.480639  \n",
       "3      78.199997          4.359270  \n",
       "4      67.800003          4.216562  \n",
       "\n",
       "[5 rows x 31 columns]"
      ]
     },
     "execution_count": 3,
     "metadata": {},
     "output_type": "execute_result"
    }
   ],
   "source": [
    "data.head()"
   ]
  },
  {
   "cell_type": "code",
   "execution_count": 22,
   "id": "b1be8586",
   "metadata": {},
   "outputs": [
    {
     "name": "stdout",
     "output_type": "stream",
     "text": [
      "<class 'pandas.core.frame.DataFrame'>\n",
      "RangeIndex: 28 entries, 0 to 27\n",
      "Data columns (total 31 columns):\n",
      " #   Column            Non-Null Count  Dtype  \n",
      "---  ------            --------------  -----  \n",
      " 0   longname          28 non-null     object \n",
      " 1   shortnam          28 non-null     object \n",
      " 2   logmort0          28 non-null     float64\n",
      " 3   risk              28 non-null     float64\n",
      " 4   loggdp            28 non-null     float64\n",
      " 5   campaign          28 non-null     int64  \n",
      " 6   source0           28 non-null     int64  \n",
      " 7   slave             28 non-null     int64  \n",
      " 8   latitude          28 non-null     float64\n",
      " 9   neoeuro           28 non-null     int64  \n",
      " 10  asia              28 non-null     int64  \n",
      " 11  africa            28 non-null     int64  \n",
      " 12  other             28 non-null     int64  \n",
      " 13  edes1975          28 non-null     float64\n",
      " 14  campaignsj        28 non-null     int64  \n",
      " 15  campaignsj2       28 non-null     int64  \n",
      " 16  mortnaval1        28 non-null     float64\n",
      " 17  logmortnaval1     28 non-null     float64\n",
      " 18  mortnaval2        28 non-null     float64\n",
      " 19  logmortnaval2     28 non-null     float64\n",
      " 20  mortjam           28 non-null     float64\n",
      " 21  logmortjam        28 non-null     float64\n",
      " 22  logmortcap250     28 non-null     float64\n",
      " 23  logmortjam250     28 non-null     float64\n",
      " 24  wandcafrica       28 non-null     int64  \n",
      " 25  malfal94          27 non-null     float64\n",
      " 26  wacacontested     28 non-null     int64  \n",
      " 27  mortnaval2250     28 non-null     float64\n",
      " 28  logmortnaval2250  28 non-null     float64\n",
      " 29  mortnaval1250     28 non-null     float64\n",
      " 30  logmortnaval1250  28 non-null     float64\n",
      "dtypes: float64(18), int64(11), object(2)\n",
      "memory usage: 6.9+ KB\n"
     ]
    }
   ],
   "source": [
    "data.info()"
   ]
  },
  {
   "cell_type": "code",
   "execution_count": 90,
   "id": "dc1ea9a3",
   "metadata": {},
   "outputs": [
    {
     "data": {
      "image/png": "[encoded data removed]",
      "text/plain": [
       "<Figure size 491.25x432 with 1 Axes>"
      ]
     },
     "metadata": {},
     "output_type": "display_data"
    }
   ],
   "source": [
    "sns.set_style('white')\n",
    "gridobj = sns.lmplot(x = \"logmort0\", y = \"risk\",\n",
    "                   data = data,\n",
    "                   height = 6,\n",
    "                   robust = True,\n",
    "                   fit_reg = True,\n",
    "                   hue = \"shortnam\",\n",
    "                   scatter_kws = dict(s = 40),\n",
    "                   line_kws = dict (lw = 40),\n",
    "                   palette = 'Set1', )\n",
    "\n",
    "plt.xlabel('Log of Settler Mortality', fontsize = 14)\n",
    "plt.ylabel('Average Expropiation Risk 1985-95', fontsize = 14)\n",
    "plt.title('First-Stage Relationship Between Settler Mortality and Expropiation Risk', fontsize = 14, loc = 'center')\n",
    "\n",
    "gridobj.set(xlim=(1, 9), ylim=(3, 11))\n",
    "plt.show()"
   ]
  },
  {
   "cell_type": "markdown",
   "id": "4bc4330a",
   "metadata": {},
   "source": [
    "- Unfortunately, I was not able to show the line on the graph, but you can still see that there is a negative relationship between the two variables. This means that in the countries that were colonies where Europeans faced high mortality rates, they currently have worse institutions.\n",
    "- Likewise, it can be observed that the dispersion of the data is medium.\n",
    "- It can be seen that the highest concentration of countries occurs in a mortality rate between 4 and 6, and an average expropriation risk rate between 5 and 8.\n",
    "- The case of Gambia stands out, isolated from the rest of the countries, where the mortality rate and the average expropriation risk rate are similar, that is, it does not seem to be an example of the inverse relationship between the variables studied."
   ]
  },
  {
   "cell_type": "code",
   "execution_count": null,
   "id": "35b3524c",
   "metadata": {},
   "outputs": [],
   "source": []
  },
  {
   "cell_type": "markdown",
   "id": "82572c10",
   "metadata": {},
   "source": [
    "Part 2: Replicate table 2 of the paper"
   ]
  },
  {
   "cell_type": "code",
   "execution_count": 4,
   "id": "9e5d5a62",
   "metadata": {},
   "outputs": [],
   "source": [
    "import numpy as np\n",
    "import pandas as pd\n",
    "import matplotlib.pyplot as plt\n",
    "import seaborn as sns"
   ]
  },
  {
   "cell_type": "code",
   "execution_count": 5,
   "id": "8f6cdf64",
   "metadata": {},
   "outputs": [],
   "source": [
    "filename = 'acemoglu_2001_regression.csv'\n",
    "data2 = pd.read_csv('acemoglu_2001_regression.csv')"
   ]
  },
  {
   "cell_type": "code",
   "execution_count": 6,
   "id": "0c157760",
   "metadata": {},
   "outputs": [
    {
     "data": {
      "text/html": [
       "<div>\n",
       "<style scoped>\n",
       "    .dataframe tbody tr th:only-of-type {\n",
       "        vertical-align: middle;\n",
       "    }\n",
       "\n",
       "    .dataframe tbody tr th {\n",
       "        vertical-align: top;\n",
       "    }\n",
       "\n",
       "    .dataframe thead th {\n",
       "        text-align: right;\n",
       "    }\n",
       "</style>\n",
       "<table border=\"1\" class=\"dataframe\">\n",
       "  <thead>\n",
       "    <tr style=\"text-align: right;\">\n",
       "      <th></th>\n",
       "      <th>shortnam</th>\n",
       "      <th>africa</th>\n",
       "      <th>lat_abst</th>\n",
       "      <th>avexpr</th>\n",
       "      <th>logpgp95</th>\n",
       "      <th>other</th>\n",
       "      <th>asia</th>\n",
       "      <th>loghjypl</th>\n",
       "      <th>baseco</th>\n",
       "    </tr>\n",
       "  </thead>\n",
       "  <tbody>\n",
       "    <tr>\n",
       "      <th>0</th>\n",
       "      <td>AFG</td>\n",
       "      <td>0</td>\n",
       "      <td>0.366667</td>\n",
       "      <td>NaN</td>\n",
       "      <td>NaN</td>\n",
       "      <td>0</td>\n",
       "      <td>1</td>\n",
       "      <td>NaN</td>\n",
       "      <td>NaN</td>\n",
       "    </tr>\n",
       "    <tr>\n",
       "      <th>1</th>\n",
       "      <td>AGO</td>\n",
       "      <td>1</td>\n",
       "      <td>0.136667</td>\n",
       "      <td>5.363637</td>\n",
       "      <td>7.770645</td>\n",
       "      <td>0</td>\n",
       "      <td>0</td>\n",
       "      <td>-3.411248</td>\n",
       "      <td>1.0</td>\n",
       "    </tr>\n",
       "    <tr>\n",
       "      <th>2</th>\n",
       "      <td>ARE</td>\n",
       "      <td>0</td>\n",
       "      <td>0.266667</td>\n",
       "      <td>7.181818</td>\n",
       "      <td>9.804219</td>\n",
       "      <td>0</td>\n",
       "      <td>1</td>\n",
       "      <td>NaN</td>\n",
       "      <td>NaN</td>\n",
       "    </tr>\n",
       "    <tr>\n",
       "      <th>3</th>\n",
       "      <td>ARG</td>\n",
       "      <td>0</td>\n",
       "      <td>0.377778</td>\n",
       "      <td>6.386363</td>\n",
       "      <td>9.133459</td>\n",
       "      <td>0</td>\n",
       "      <td>0</td>\n",
       "      <td>-0.872274</td>\n",
       "      <td>1.0</td>\n",
       "    </tr>\n",
       "    <tr>\n",
       "      <th>4</th>\n",
       "      <td>ARM</td>\n",
       "      <td>0</td>\n",
       "      <td>0.444444</td>\n",
       "      <td>NaN</td>\n",
       "      <td>7.682482</td>\n",
       "      <td>0</td>\n",
       "      <td>1</td>\n",
       "      <td>NaN</td>\n",
       "      <td>NaN</td>\n",
       "    </tr>\n",
       "  </tbody>\n",
       "</table>\n",
       "</div>"
      ],
      "text/plain": [
       "  shortnam  africa  lat_abst    avexpr  logpgp95  other  asia  loghjypl  \\\n",
       "0      AFG       0  0.366667       NaN       NaN      0     1       NaN   \n",
       "1      AGO       1  0.136667  5.363637  7.770645      0     0 -3.411248   \n",
       "2      ARE       0  0.266667  7.181818  9.804219      0     1       NaN   \n",
       "3      ARG       0  0.377778  6.386363  9.133459      0     0 -0.872274   \n",
       "4      ARM       0  0.444444       NaN  7.682482      0     1       NaN   \n",
       "\n",
       "   baseco  \n",
       "0     NaN  \n",
       "1     1.0  \n",
       "2     NaN  \n",
       "3     1.0  \n",
       "4     NaN  "
      ]
     },
     "execution_count": 6,
     "metadata": {},
     "output_type": "execute_result"
    }
   ],
   "source": [
    "data2.head()"
   ]
  },
  {
   "cell_type": "code",
   "execution_count": 28,
   "id": "0ca3bc8e",
   "metadata": {},
   "outputs": [],
   "source": [
    "import statsmodels.api as sm\n",
    "import statsmodels.formula.api as smf\n",
    "\n",
    "model_1 = 'logpgp95 ~ avexpr'\n",
    "results_1= smf.ols(model_1, data=data2).fit(cov_type='HC1')"
   ]
  },
  {
   "cell_type": "code",
   "execution_count": 29,
   "id": "6090643f",
   "metadata": {},
   "outputs": [],
   "source": [
    "model_2 = 'logpgp95 ~ avexpr'\n",
    "results_2 = smf.ols(model_2, data=data2[data2['baseco'] == 1.0]).fit(cov_type='HC1')"
   ]
  },
  {
   "cell_type": "code",
   "execution_count": 30,
   "id": "49c42d0a",
   "metadata": {},
   "outputs": [],
   "source": [
    "model_3 = 'logpgp95 ~ avexpr + lat_abst'\n",
    "results_3 = smf.ols(model_3, data=data2).fit(cov_type='HC1')"
   ]
  },
  {
   "cell_type": "code",
   "execution_count": 31,
   "id": "ef0941c9",
   "metadata": {},
   "outputs": [],
   "source": [
    "model_4 = 'logpgp95 ~ avexpr + lat_abst + africa + asia + other'\n",
    "results_4 = smf.ols(model_3, data=data2).fit(cov_type='HC1')"
   ]
  },
  {
   "cell_type": "code",
   "execution_count": 32,
   "id": "1b0e823e",
   "metadata": {},
   "outputs": [],
   "source": [
    "model_5 = 'logpgp95 ~ avexpr + lat_abst'\n",
    "results_5 = smf.ols(model_2, data=data2[data2['baseco'] == 1.0]).fit(cov_type='HC1')"
   ]
  },
  {
   "cell_type": "code",
   "execution_count": 33,
   "id": "e922a54f",
   "metadata": {},
   "outputs": [],
   "source": [
    "model_6 = 'logpgp95 ~ avexpr + lat_abst + africa + asia + other'\n",
    "results_6 = smf.ols(model_3, data=data2[data2['baseco'] == 1.0]).fit(cov_type='HC1')"
   ]
  },
  {
   "cell_type": "code",
   "execution_count": 34,
   "id": "a50cc766",
   "metadata": {},
   "outputs": [],
   "source": [
    "model_7 = 'logpgp95 ~ loghjypl'\n",
    "results_7 = smf.ols(model_1, data=data2).fit(cov_type='HC1')"
   ]
  },
  {
   "cell_type": "code",
   "execution_count": 41,
   "id": "4abca803",
   "metadata": {},
   "outputs": [],
   "source": [
    "model_8 = 'logpgp95 ~ loghjypl'\n",
    "results_8 = smf.ols(model_2, data=data2[data2['baseco'] == 1.0]).fit(cov_type='HC1')"
   ]
  },
  {
   "cell_type": "code",
   "execution_count": 40,
   "id": "17790eea",
   "metadata": {},
   "outputs": [
    {
     "ename": "ModuleNotFoundError",
     "evalue": "No module named 'stargazer'",
     "output_type": "error",
     "traceback": [
      "\u001b[1;31m---------------------------------------------------------------------------\u001b[0m",
      "\u001b[1;31mModuleNotFoundError\u001b[0m                       Traceback (most recent call last)",
      "\u001b[1;32m~\\AppData\\Local\\Temp/ipykernel_12568/1572576006.py\u001b[0m in \u001b[0;36m<module>\u001b[1;34m\u001b[0m\n\u001b[0;32m      2\u001b[0m \u001b[1;32mfrom\u001b[0m \u001b[0msklearn\u001b[0m \u001b[1;32mimport\u001b[0m \u001b[0mdatasets\u001b[0m\u001b[1;33m\u001b[0m\u001b[1;33m\u001b[0m\u001b[0m\n\u001b[0;32m      3\u001b[0m \u001b[1;32mimport\u001b[0m \u001b[0mstatsmodels\u001b[0m\u001b[1;33m.\u001b[0m\u001b[0mapi\u001b[0m \u001b[1;32mas\u001b[0m \u001b[0msm\u001b[0m\u001b[1;33m\u001b[0m\u001b[1;33m\u001b[0m\u001b[0m\n\u001b[1;32m----> 4\u001b[1;33m \u001b[1;32mfrom\u001b[0m \u001b[0mstargazer\u001b[0m\u001b[1;33m.\u001b[0m\u001b[0mstargazer\u001b[0m \u001b[1;32mimport\u001b[0m \u001b[0mStargazer\u001b[0m\u001b[1;33m\u001b[0m\u001b[1;33m\u001b[0m\u001b[0m\n\u001b[0m\u001b[0;32m      5\u001b[0m \u001b[1;33m\u001b[0m\u001b[0m\n\u001b[0;32m      6\u001b[0m \u001b[0mstargazer\u001b[0m \u001b[1;33m=\u001b[0m \u001b[0mStargazer\u001b[0m\u001b[1;33m(\u001b[0m\u001b[1;33m[\u001b[0m\u001b[0mresults_1\u001b[0m\u001b[1;33m,\u001b[0m\u001b[0mresults_2\u001b[0m\u001b[1;33m,\u001b[0m\u001b[0mresults_3\u001b[0m\u001b[1;33m,\u001b[0m\u001b[0mresults_4\u001b[0m\u001b[1;33m,\u001b[0m\u001b[0mresults_5\u001b[0m\u001b[1;33m,\u001b[0m\u001b[0mresults_5\u001b[0m\u001b[1;33m,\u001b[0m\u001b[0mresults_6\u001b[0m\u001b[1;33m,\u001b[0m\u001b[0mresults_7\u001b[0m\u001b[1;33m,\u001b[0m\u001b[0mresults_8\u001b[0m\u001b[1;33m]\u001b[0m\u001b[1;33m)\u001b[0m\u001b[1;33m\u001b[0m\u001b[1;33m\u001b[0m\u001b[0m\n",
      "\u001b[1;31mModuleNotFoundError\u001b[0m: No module named 'stargazer'"
     ]
    }
   ],
   "source": [
    "import pandas as pd\n",
    "from sklearn import datasets\n",
    "import statsmodels.api as sm\n",
    "from stargazer.stargazer import Stargazer\n",
    "\n",
    "stargazer = Stargazer([results_1,results_2,results_3,results_4,results_5,results_5,results_6,results_7,results_8])\n",
    "HTML(stargazer.render_html())"
   ]
  },
  {
   "cell_type": "markdown",
   "id": "9b84cfc0",
   "metadata": {},
   "source": [
    "- There is a strong correlation between the measure of institutions (average protection against expropriation) and income per capita. \n",
    "- The R2 of the regression in the first column indicates that over 50 percent of the variation in income per capita is associated with variation in this index of institutions (average protection against expropriation risk).\n",
    "- Although protection against expropriation risk remains significant, in columns 4 and 6 we can see that the continent dummies are also statistically significant."
   ]
  },
  {
   "cell_type": "code",
   "execution_count": null,
   "id": "1b846b86",
   "metadata": {},
   "outputs": [],
   "source": []
  },
  {
   "cell_type": "markdown",
   "id": "cfec3bc8",
   "metadata": {},
   "source": [
    "II. REPORT"
   ]
  },
  {
   "cell_type": "markdown",
   "id": "24b6d634",
   "metadata": {},
   "source": []
  },
  {
   "cell_type": "markdown",
   "id": "2399b675",
   "metadata": {},
   "source": [
    "Normally, minimum wage policies are established with a distributive purpose, this is to improve the situation of low-income workers. However, at an empirical level, numerous papers around the world have shown that there is no conclusive evidence on the effects of the minimum wage on labor market variables. Despite the vast academic literature, from time to time the issue of raising the minimum wage returns to public discussion under the presumption of its supposed socially desirable effects. Peru is no stranger to this phenomenon. In the country, during the decade 2000-2010, there were five increases in the Minimum Living Remuneration. These increases occurred at different time intervals and at different rates, without any specific pattern. It is in this context that the paper seeks to assess the effects of the increase in the minimum wage on two of the most important variables in the labor market: income and employment. The researcher uses data from the 2000-2010 decade in Peru. The paper concludes that the active policy of minimum wages is not a potentially effective tool as an instrument to promote social inclusion. The effects on wages are, in the best scenario, statistically weak (great dispersion) and of minimal magnitude (30% of the increase) for formal workers who earned between 0.9 and 1.2 Minimum Vital Wages before the increase and who manage to keep their jobs. Likewise, it was observed that the higher the Minimum Vital Remuneration is, respect to the average salary, the more the rule was breached. "
   ]
  },
  {
   "cell_type": "markdown",
   "id": "ecd8cc07",
   "metadata": {},
   "source": [
    "As for the strengths, four can be found. First, the methodology used by the researcher (descriptive tabulations, salary distribution analysis and econometric analysis) allows an in-depth analysis of all the possible variations of the Minimum Living Remuneration that occurred during the 2000-2010 decade. Second, that the author has used longitudinal data, since it facilitates the observation of changes in the income and employment of individuals affected and not affected by changes in the minimum wage. Third, the fact that the effects in the formal and informal sectors have been analyzed stands out. Finally, I highlight that the paper has explained the conceptual aspects that explain the labor market model and the effects of the minimum wage on it. On the other hand, regarding the weaknesses of the research, it can be argued that the data on informality is not very reliable at a general level. This is because statisticians on informality are difficult to identify due to their mobility and lack of visibility of this phenomenon. Another possible weakness of the paper is that the analysis focuses on the Lima region. "
   ]
  },
  {
   "cell_type": "markdown",
   "id": "39c95210",
   "metadata": {},
   "source": [
    "In the first place, this document stands out because it contributes to filling an academic void in the country. This is because at the time this research was published, in Peru studies on the effects of the minimum wage were few; In addition, most of the works were focused on the increase in the Minimum Vital Remuneration that occurred in September 2003, while Jaramillo's research covers a whole decade. Secondly, another important contribution of this document is to offer evidence on the particular case of Peru, a country where the policy of improving remuneration is constantly used for political purposes. Unfortunately, the possible effects on employment and informality that an increase in the Minimum Vital Remuneration would have are not observable in the short term. For this reason, increases in the minimum wage have become a tool used by politicians to reduce popular discontent. Investigations such as Jaramillo's make evidence available to citizens to demonstrate that the policy of increasing the Minimum Vital Remuneration does not meet the purpose of social inclusion. Finally, another contribution of this document is that it exposes the country's problems that must be analyzed in greater depth. For example, it states that the people most affected by the minimum wage are rural residents, youth and women; also, that there is an enormous heterogeneity in the levels of productivity in the different regions of the country; and that there is a high rate of non-compliance throughout the territory. "
   ]
  },
  {
   "cell_type": "markdown",
   "id": "e7616444",
   "metadata": {},
   "source": [
    "In relation to what was mentioned in the previous paragraph, an important step to follow would be to evaluate whether or not a Minimum Life Remuneration differentiated by region would have effects on the variables studied in the labor market. Because in many regions of the country the RMV is not a salary floor, any increase in it becomes voluntary, that is, it has no effect. On the other hand, another step to follow could be to explore the costs that employers have to keep a worker in the formal sector, in order to analyze possible ways to reduce the level of informal sector in the country. Finally, it would be interesting to evaluate what alternatives can be applied to make young women and rural residents who are the most affected by minimum wages less vulnerable. "
   ]
  }
 ],
 "metadata": {
  "kernelspec": {
   "display_name": "Python 3 (ipykernel)",
   "language": "python",
   "name": "python3"
  },
  "language_info": {
   "codemirror_mode": {
    "name": "ipython",
    "version": 3
   },
   "file_extension": ".py",
   "mimetype": "text/x-python",
   "name": "python",
   "nbconvert_exporter": "python",
   "pygments_lexer": "ipython3",
   "version": "3.9.7"
  }
 },
 "nbformat": 4,
 "nbformat_minor": 5
}
