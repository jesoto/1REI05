{
 "cells": [
  {
   "cell_type": "markdown",
   "id": "86ef8d94",
   "metadata": {},
   "source": [
    "Yarim Kamila Gamarra Dávila - 20195573\n",
    "\n",
    "Report of the article: “Ajustes del mercado laboral peruano ante cambios en el salario mínimo: La experiencia de la década de 2000”\n",
    "\n",
    "This article seeks to determine if the fluctuations in the minimum living wage has any impact in the income and job rate. In this way, this article investigates the effects of the five changes in the minimum salary trough the last decade in four groups: salaried workers, formal salaried workers, informal salaried workers and independent workers. After all the analysis and investigations, the article concludes, in general, that there is a positive, but not significant effect of the increase or decrease of the minimum salary in the income and job rates for this four groups of workers.\n",
    "\n",
    "In my opinion, this article has, mainly, three remarkable strengths. First, it used data from “Encuesta Permanente de Empleo (EPE)”. This poll was realized in Lima Metropolitan and provides data from all the 49 districts and provinces in Lima Metropolitan and the 6 provinces in Callao. I believe this is an important strength because the sample is periodically renewed with more information; and, the author used all the panels between 2000-2010. Therefore, in this way, he used plenty and valuable information and worked with longitudinal data, which provides more reliability and confidence in the results. Second, the author used different methodological methods in this investigation. He used a descriptive analysis, a graphical analysis and an econometric analysis. Moreover, he described carefully the whole process to get the results. Both aspects allow a better comprehension for the reader and provide a more clear process to understand and trust the results exposed. Finally, the author did a robustness test using the methods used in previous investigations in order to confirm their results and prove the reliability of this investigation.\n",
    "\n",
    "However, I believe this investigation has also some weaknesses. First, despite the use of data of different regions in the descriptive analysis, the graphical and econometric analysis only center in data recollected in Lima metropolitan. In this way, the author is using Lima case to generalize the behavior in other regions. However, Yeni Paredes, in a recent investigation, applied this investigation in Puno and found significant effect of the increase in the minimum salary in the income and job rate in this region. Secondly, despite the mention of the consideration of other factors like gender, age, work experience, level of education and size if the firm they work in, I believe there is not an exhaustive analysis of the possible effect of this factors in the results of the investigation. In this way, the possible impact of these external variables is not studied, which reduces the level of reliability of this investigation.\n",
    "\n",
    "Nevertheless, in my opinion this is an important investigation because it analyzes one main factor that has been used in politics to try to reduce the wage gaps, inequalities and poverty in Peru. As the authors mentioned, the variety of methodological methods allows exploring all the variations in the minimum salary in the last decade. In addition, the investigations allows investigating the effect in different groups of workers. In this way, this article is important because it increases the knowledge about how the minimum salary works in Peru and in which way it can contribute to the objectives in equality and reduce of poverty.\n",
    "\n",
    "As a conclusion, I consider that it would be really important to use this investigation as a base in order to apply it in other regions of Peru. As I mentioned before, this investigation was used in Puno and the results were different. So, in this way, I believe it is necessary to applicate this investigation in regions like Amazonas, Moquegua, Ayacucho, and others to see how the increase or decrease of the minimum wage can affect the income and job rate. In addition, as a complementary step, I believe it is important to analyze which other factors, as gender, age, education, laboral experience, and others, could cause the variations in the results between regions. In this way, we can have an important approach to the effects in the fluctuation of the minimum salary according to the factors and necessities in each region, in order to implement differentiated politics to reduce poverty, wage gap and inequality in Peru.\n",
    "\n",
    "Referencias Bibliográficas\n",
    "\n",
    "PAREDES, Yeni\n",
    "2022   Efectos del incremento de la remuneración mínima vital en        los ingresos de los trabajadores informales en la región          de puno año 2007 - 2018. Tesis del nivel correspondiente          al título de Ingeniero Economista. Puno:Universidad              Nacional del Altiplano, Facultad de Ingerniería Económica.        Consulta: 6 de abril del 2020\n",
    "         http://repositorio.unap.edu.pe/bitstream/handle/UNAP/17710/Paredes_Condori_Yeni_Mery.pdf?sequence=1&isAllowed=y\n"
   ]
  },
  {
   "cell_type": "code",
   "execution_count": null,
   "id": "3ef19887",
   "metadata": {},
   "outputs": [],
   "source": [
    "#Code Part"
   ]
  },
  {
   "cell_type": "code",
   "execution_count": null,
   "id": "16756b86",
   "metadata": {},
   "outputs": [],
   "source": [
    "1. "
   ]
  },
  {
   "cell_type": "code",
   "execution_count": 1,
   "id": "54c332e6",
   "metadata": {},
   "outputs": [],
   "source": [
    "import warnings\n",
    "warnings.filterwarnings('ignore')\n",
    "import numpy as np\n",
    "import pandas as pd\n",
    "import matplotlib.pyplot as plt \n",
    "import seaborn as sns"
   ]
  },
  {
   "cell_type": "code",
   "execution_count": 2,
   "id": "cea7d16f",
   "metadata": {},
   "outputs": [],
   "source": [
    "data =pd.DataFrame(pd.read_csv(\"C:/Users/HP/Downloads/acemoglu_2001.csv\"))"
   ]
  },
  {
   "cell_type": "code",
   "execution_count": 3,
   "id": "bd204b99",
   "metadata": {},
   "outputs": [
    {
     "data": {
      "text/html": [
       "<div>\n",
       "<style scoped>\n",
       "    .dataframe tbody tr th:only-of-type {\n",
       "        vertical-align: middle;\n",
       "    }\n",
       "\n",
       "    .dataframe tbody tr th {\n",
       "        vertical-align: top;\n",
       "    }\n",
       "\n",
       "    .dataframe thead th {\n",
       "        text-align: right;\n",
       "    }\n",
       "</style>\n",
       "<table border=\"1\" class=\"dataframe\">\n",
       "  <thead>\n",
       "    <tr style=\"text-align: right;\">\n",
       "      <th></th>\n",
       "      <th>longname</th>\n",
       "      <th>shortnam</th>\n",
       "      <th>logmort0</th>\n",
       "      <th>risk</th>\n",
       "      <th>loggdp</th>\n",
       "      <th>campaign</th>\n",
       "      <th>source0</th>\n",
       "      <th>slave</th>\n",
       "      <th>latitude</th>\n",
       "      <th>neoeuro</th>\n",
       "      <th>...</th>\n",
       "      <th>logmortjam</th>\n",
       "      <th>logmortcap250</th>\n",
       "      <th>logmortjam250</th>\n",
       "      <th>wandcafrica</th>\n",
       "      <th>malfal94</th>\n",
       "      <th>wacacontested</th>\n",
       "      <th>mortnaval2250</th>\n",
       "      <th>logmortnaval2250</th>\n",
       "      <th>mortnaval1250</th>\n",
       "      <th>logmortnaval1250</th>\n",
       "    </tr>\n",
       "  </thead>\n",
       "  <tbody>\n",
       "    <tr>\n",
       "      <th>0</th>\n",
       "      <td>Bangladesh</td>\n",
       "      <td>BGD</td>\n",
       "      <td>4.268438</td>\n",
       "      <td>5.140000</td>\n",
       "      <td>6.88</td>\n",
       "      <td>1</td>\n",
       "      <td>1</td>\n",
       "      <td>0</td>\n",
       "      <td>0.2667</td>\n",
       "      <td>0</td>\n",
       "      <td>...</td>\n",
       "      <td>4.268438</td>\n",
       "      <td>4.268438</td>\n",
       "      <td>4.268438</td>\n",
       "      <td>0</td>\n",
       "      <td>0.12008</td>\n",
       "      <td>0</td>\n",
       "      <td>71.410004</td>\n",
       "      <td>4.268438</td>\n",
       "      <td>71.410004</td>\n",
       "      <td>4.268438</td>\n",
       "    </tr>\n",
       "    <tr>\n",
       "      <th>1</th>\n",
       "      <td>Canada</td>\n",
       "      <td>CAN</td>\n",
       "      <td>2.778819</td>\n",
       "      <td>9.729999</td>\n",
       "      <td>9.99</td>\n",
       "      <td>0</td>\n",
       "      <td>1</td>\n",
       "      <td>0</td>\n",
       "      <td>0.6667</td>\n",
       "      <td>1</td>\n",
       "      <td>...</td>\n",
       "      <td>2.778819</td>\n",
       "      <td>2.778819</td>\n",
       "      <td>2.778819</td>\n",
       "      <td>0</td>\n",
       "      <td>0.00000</td>\n",
       "      <td>0</td>\n",
       "      <td>16.100000</td>\n",
       "      <td>2.778819</td>\n",
       "      <td>16.100000</td>\n",
       "      <td>2.778819</td>\n",
       "    </tr>\n",
       "    <tr>\n",
       "      <th>2</th>\n",
       "      <td>Congo</td>\n",
       "      <td>COG</td>\n",
       "      <td>5.480639</td>\n",
       "      <td>4.680000</td>\n",
       "      <td>7.42</td>\n",
       "      <td>0</td>\n",
       "      <td>1</td>\n",
       "      <td>1</td>\n",
       "      <td>0.0111</td>\n",
       "      <td>0</td>\n",
       "      <td>...</td>\n",
       "      <td>5.480639</td>\n",
       "      <td>5.480639</td>\n",
       "      <td>5.480639</td>\n",
       "      <td>1</td>\n",
       "      <td>0.95000</td>\n",
       "      <td>0</td>\n",
       "      <td>240.000000</td>\n",
       "      <td>5.480639</td>\n",
       "      <td>240.000000</td>\n",
       "      <td>5.480639</td>\n",
       "    </tr>\n",
       "    <tr>\n",
       "      <th>3</th>\n",
       "      <td>Algeria</td>\n",
       "      <td>DZA</td>\n",
       "      <td>4.359270</td>\n",
       "      <td>6.500000</td>\n",
       "      <td>8.39</td>\n",
       "      <td>1</td>\n",
       "      <td>1</td>\n",
       "      <td>0</td>\n",
       "      <td>0.3111</td>\n",
       "      <td>0</td>\n",
       "      <td>...</td>\n",
       "      <td>4.359270</td>\n",
       "      <td>4.359270</td>\n",
       "      <td>4.359270</td>\n",
       "      <td>0</td>\n",
       "      <td>0.00000</td>\n",
       "      <td>0</td>\n",
       "      <td>78.199997</td>\n",
       "      <td>4.359270</td>\n",
       "      <td>78.199997</td>\n",
       "      <td>4.359270</td>\n",
       "    </tr>\n",
       "    <tr>\n",
       "      <th>4</th>\n",
       "      <td>Egypt</td>\n",
       "      <td>EGY</td>\n",
       "      <td>4.216562</td>\n",
       "      <td>6.770000</td>\n",
       "      <td>7.95</td>\n",
       "      <td>1</td>\n",
       "      <td>1</td>\n",
       "      <td>0</td>\n",
       "      <td>0.3000</td>\n",
       "      <td>0</td>\n",
       "      <td>...</td>\n",
       "      <td>4.216562</td>\n",
       "      <td>4.216562</td>\n",
       "      <td>4.216562</td>\n",
       "      <td>0</td>\n",
       "      <td>0.00000</td>\n",
       "      <td>0</td>\n",
       "      <td>67.800003</td>\n",
       "      <td>4.216562</td>\n",
       "      <td>67.800003</td>\n",
       "      <td>4.216562</td>\n",
       "    </tr>\n",
       "  </tbody>\n",
       "</table>\n",
       "<p>5 rows × 31 columns</p>\n",
       "</div>"
      ],
      "text/plain": [
       "     longname shortnam  logmort0      risk  loggdp  campaign  source0  slave  \\\n",
       "0  Bangladesh      BGD  4.268438  5.140000    6.88         1        1      0   \n",
       "1      Canada      CAN  2.778819  9.729999    9.99         0        1      0   \n",
       "2       Congo      COG  5.480639  4.680000    7.42         0        1      1   \n",
       "3     Algeria      DZA  4.359270  6.500000    8.39         1        1      0   \n",
       "4       Egypt      EGY  4.216562  6.770000    7.95         1        1      0   \n",
       "\n",
       "   latitude  neoeuro  ...  logmortjam  logmortcap250  logmortjam250  \\\n",
       "0    0.2667        0  ...    4.268438       4.268438       4.268438   \n",
       "1    0.6667        1  ...    2.778819       2.778819       2.778819   \n",
       "2    0.0111        0  ...    5.480639       5.480639       5.480639   \n",
       "3    0.3111        0  ...    4.359270       4.359270       4.359270   \n",
       "4    0.3000        0  ...    4.216562       4.216562       4.216562   \n",
       "\n",
       "   wandcafrica  malfal94  wacacontested  mortnaval2250  logmortnaval2250  \\\n",
       "0            0   0.12008              0      71.410004          4.268438   \n",
       "1            0   0.00000              0      16.100000          2.778819   \n",
       "2            1   0.95000              0     240.000000          5.480639   \n",
       "3            0   0.00000              0      78.199997          4.359270   \n",
       "4            0   0.00000              0      67.800003          4.216562   \n",
       "\n",
       "   mortnaval1250  logmortnaval1250  \n",
       "0      71.410004          4.268438  \n",
       "1      16.100000          2.778819  \n",
       "2     240.000000          5.480639  \n",
       "3      78.199997          4.359270  \n",
       "4      67.800003          4.216562  \n",
       "\n",
       "[5 rows x 31 columns]"
      ]
     },
     "execution_count": 3,
     "metadata": {},
     "output_type": "execute_result"
    }
   ],
   "source": [
    "data.head()"
   ]
  },
  {
   "cell_type": "code",
   "execution_count": 4,
   "id": "289b1259",
   "metadata": {},
   "outputs": [
    {
     "data": {
      "text/plain": [
       "(28, 31)"
      ]
     },
     "execution_count": 4,
     "metadata": {},
     "output_type": "execute_result"
    }
   ],
   "source": [
    "data.shape"
   ]
  },
  {
   "cell_type": "raw",
   "id": "a27e6589",
   "metadata": {},
   "source": [
    "data.info()"
   ]
  },
  {
   "cell_type": "code",
   "execution_count": 6,
   "id": "0b6787d2",
   "metadata": {},
   "outputs": [
    {
     "data": {
      "text/plain": [
       "longname            0\n",
       "shortnam            0\n",
       "logmort0            0\n",
       "risk                0\n",
       "loggdp              0\n",
       "campaign            0\n",
       "source0             0\n",
       "slave               0\n",
       "latitude            0\n",
       "neoeuro             0\n",
       "asia                0\n",
       "africa              0\n",
       "other               0\n",
       "edes1975            0\n",
       "campaignsj          0\n",
       "campaignsj2         0\n",
       "mortnaval1          0\n",
       "logmortnaval1       0\n",
       "mortnaval2          0\n",
       "logmortnaval2       0\n",
       "mortjam             0\n",
       "logmortjam          0\n",
       "logmortcap250       0\n",
       "logmortjam250       0\n",
       "wandcafrica         0\n",
       "malfal94            1\n",
       "wacacontested       0\n",
       "mortnaval2250       0\n",
       "logmortnaval2250    0\n",
       "mortnaval1250       0\n",
       "logmortnaval1250    0\n",
       "dtype: int64"
      ]
     },
     "execution_count": 6,
     "metadata": {},
     "output_type": "execute_result"
    }
   ],
   "source": [
    "data.isnull().sum()"
   ]
  },
  {
   "cell_type": "code",
   "execution_count": 38,
   "id": "b7d6b3aa",
   "metadata": {},
   "outputs": [],
   "source": [
    "X = data[\"logmort0\"]\n",
    "y = data[\"risk\"]"
   ]
  },
  {
   "cell_type": "code",
   "execution_count": 39,
   "id": "9720c0db",
   "metadata": {},
   "outputs": [],
   "source": [
    "from sklearn.model_selection import train_test_split\n",
    "X_train, X_test, y_train, y_test = train_test_split(X, y, train_size = 0.7, test_size = 0.3, random_state = 100)"
   ]
  },
  {
   "cell_type": "code",
   "execution_count": 40,
   "id": "33ee77ac",
   "metadata": {},
   "outputs": [
    {
     "data": {
      "text/plain": [
       "(28, 31)"
      ]
     },
     "execution_count": 40,
     "metadata": {},
     "output_type": "execute_result"
    }
   ],
   "source": [
    "data.shape"
   ]
  },
  {
   "cell_type": "code",
   "execution_count": 41,
   "id": "2ad50178",
   "metadata": {},
   "outputs": [
    {
     "data": {
      "text/plain": [
       "((19,), (9,))"
      ]
     },
     "execution_count": 41,
     "metadata": {},
     "output_type": "execute_result"
    }
   ],
   "source": [
    "y_train.shape, y_test.shape"
   ]
  },
  {
   "cell_type": "code",
   "execution_count": 42,
   "id": "eba345c3",
   "metadata": {},
   "outputs": [
    {
     "data": {
      "text/plain": [
       "13    6.284209\n",
       "20    4.479607\n",
       "4     4.216562\n",
       "27    2.740840\n",
       "0     4.268438\n",
       "Name: logmort0, dtype: float64"
      ]
     },
     "execution_count": 42,
     "metadata": {},
     "output_type": "execute_result"
    }
   ],
   "source": [
    "X_train.head()"
   ]
  },
  {
   "cell_type": "code",
   "execution_count": 44,
   "id": "9d46dde5",
   "metadata": {},
   "outputs": [
    {
     "data": {
      "text/plain": [
       "13    4.45\n",
       "20    4.00\n",
       "4     6.77\n",
       "27    6.86\n",
       "0     5.14\n",
       "Name: risk, dtype: float64"
      ]
     },
     "execution_count": 44,
     "metadata": {},
     "output_type": "execute_result"
    }
   ],
   "source": [
    "y_train.head()"
   ]
  },
  {
   "cell_type": "code",
   "execution_count": 45,
   "id": "51f75ec6",
   "metadata": {},
   "outputs": [],
   "source": [
    "import statsmodels.api as sm"
   ]
  },
  {
   "cell_type": "code",
   "execution_count": 46,
   "id": "a9517d5c",
   "metadata": {},
   "outputs": [],
   "source": [
    "X_train_sm = sm.add_constant(X_train)"
   ]
  },
  {
   "cell_type": "code",
   "execution_count": 47,
   "id": "c22db252",
   "metadata": {},
   "outputs": [],
   "source": [
    "lr = sm.OLS(y_train, X_train_sm).fit()"
   ]
  },
  {
   "cell_type": "code",
   "execution_count": 48,
   "id": "9c25a718",
   "metadata": {},
   "outputs": [
    {
     "data": {
      "text/plain": [
       "const       9.309412\n",
       "logmort0   -0.566502\n",
       "dtype: float64"
      ]
     },
     "execution_count": 48,
     "metadata": {},
     "output_type": "execute_result"
    }
   ],
   "source": [
    "lr.params"
   ]
  },
  {
   "cell_type": "code",
   "execution_count": 49,
   "id": "f8f72f26",
   "metadata": {},
   "outputs": [
    {
     "name": "stdout",
     "output_type": "stream",
     "text": [
      "                            OLS Regression Results                            \n",
      "==============================================================================\n",
      "Dep. Variable:                   risk   R-squared:                       0.315\n",
      "Model:                            OLS   Adj. R-squared:                  0.274\n",
      "Method:                 Least Squares   F-statistic:                     7.806\n",
      "Date:                Sat, 07 May 2022   Prob (F-statistic):             0.0125\n",
      "Time:                        08:05:39   Log-Likelihood:                -33.012\n",
      "No. Observations:                  19   AIC:                             70.02\n",
      "Df Residuals:                      17   BIC:                             71.91\n",
      "Df Model:                           1                                         \n",
      "Covariance Type:            nonrobust                                         \n",
      "==============================================================================\n",
      "                 coef    std err          t      P>|t|      [0.025      0.975]\n",
      "------------------------------------------------------------------------------\n",
      "const          9.3094      0.998      9.327      0.000       7.204      11.415\n",
      "logmort0      -0.5665      0.203     -2.794      0.012      -0.994      -0.139\n",
      "==============================================================================\n",
      "Omnibus:                        0.428   Durbin-Watson:                   1.858\n",
      "Prob(Omnibus):                  0.807   Jarque-Bera (JB):                0.157\n",
      "Skew:                           0.213   Prob(JB):                        0.924\n",
      "Kurtosis:                       2.867   Cond. No.                         15.3\n",
      "==============================================================================\n",
      "\n",
      "Notes:\n",
      "[1] Standard Errors assume that the covariance matrix of the errors is correctly specified.\n"
     ]
    }
   ],
   "source": [
    "print(lr.summary())"
   ]
  },
  {
   "cell_type": "code",
   "execution_count": 84,
   "id": "43517c2b",
   "metadata": {},
   "outputs": [
    {
     "data": {
      "image/png": "[encoded data removed]",
      "text/plain": [
       "<Figure size 707.25x432 with 1 Axes>"
      ]
     },
     "metadata": {},
     "output_type": "display_data"
    }
   ],
   "source": [
    "sns.pairplot(data, x_vars=[\"logmort0\"], y_vars=[\"risk\"] , height=6, aspect=1.5, hue = \"shortnam\", kind=\"scatter\")\n",
    "plt.xlabel('Log of Settler Mortality')\n",
    "plt.ylabel('Average Expropiation Risk 1985 - 95')\n",
    "plt.plot(X_train, 9.3094 -0.5665*X_train, 'r',)\n",
    "plt.show()"
   ]
  },
  {
   "cell_type": "markdown",
   "id": "d230987e",
   "metadata": {},
   "source": [
    "From the graphic, it can be determined that the log of settler mortality and the average Expropriation Risk has a negative relation. This relationship shows that ex-colonies where Europeans faced higher mortality rates have substantially worse institutions today. In addition, there are very interesting patters. First, countries like USA, CAN, AUS, NZL and SGD has a low log of settler mortality (between 2 and 3) which determines the high level of institutions that they have today. Second, in the middle, there are Latin American countries like COL, PER, BRA, CHL, BOL and ARG that has a similar log of settler mortality (4.5 approximately) but, they have different qualities of institutions today (between 5.7 and 8%). Finally, some African's countries as MLI, NGA and GMB have the mayor log of settler mortality. However, their quality of institutions are highly different. MLI is a at the bottom in quantity (4%), but GMB has the same level as BRA (8%) and NGA is at same level in quality of institutions with PER and BOL (5.7%)"
   ]
  },
  {
   "cell_type": "code",
   "execution_count": null,
   "id": "7c5698da",
   "metadata": {},
   "outputs": [],
   "source": [
    "2. "
   ]
  },
  {
   "cell_type": "code",
   "execution_count": 114,
   "id": "70b24807",
   "metadata": {},
   "outputs": [
    {
     "name": "stdout",
     "output_type": "stream",
     "text": [
      "Collecting package metadata (current_repodata.json): ...working... done\n",
      "Solving environment: ...working... failed with initial frozen solve. Retrying with flexible solve.\n",
      "Collecting package metadata (repodata.json): ...working... done\n",
      "Solving environment: ...working... failed with initial frozen solve. Retrying with flexible solve.\n",
      "\n",
      "Note: you may need to restart the kernel to use updated packages.\n"
     ]
    },
    {
     "name": "stderr",
     "output_type": "stream",
     "text": [
      "\n",
      "PackagesNotFoundError: The following packages are not available from current channels:\n",
      "\n",
      "  - {stargazer}\n",
      "\n",
      "Current channels:\n",
      "\n",
      "  - https://conda.anaconda.org/conda-forge/win-64\n",
      "  - https://conda.anaconda.org/conda-forge/noarch\n",
      "  - https://repo.anaconda.com/pkgs/main/win-64\n",
      "  - https://repo.anaconda.com/pkgs/main/noarch\n",
      "  - https://repo.anaconda.com/pkgs/r/win-64\n",
      "  - https://repo.anaconda.com/pkgs/r/noarch\n",
      "  - https://repo.anaconda.com/pkgs/msys2/win-64\n",
      "  - https://repo.anaconda.com/pkgs/msys2/noarch\n",
      "\n",
      "To search for alternate channels that may provide the conda package you're\n",
      "looking for, navigate to\n",
      "\n",
      "    https://anaconda.org\n",
      "\n",
      "and use the search bar at the top of the page.\n",
      "\n",
      "\n"
     ]
    }
   ],
   "source": [
    "conda install -c conda-forge {{stargazer}}"
   ]
  },
  {
   "cell_type": "code",
   "execution_count": null,
   "id": "7fc05410",
   "metadata": {},
   "outputs": [],
   "source": [
    "conda install -c conda-forge {{ipython}}"
   ]
  },
  {
   "cell_type": "code",
   "execution_count": null,
   "id": "b0711634",
   "metadata": {},
   "outputs": [],
   "source": [
    "import pandas as pd\n",
    "import statsmodels.api as sm\n",
    "import statsmodels.formula.api as smf\n",
    "from stargazer.stargazer import Stargazer\n",
    "from IPython.core.display import HTML"
   ]
  },
  {
   "cell_type": "code",
   "execution_count": 106,
   "id": "472445b9",
   "metadata": {},
   "outputs": [
    {
     "data": {
      "text/html": [
       "<div>\n",
       "<style scoped>\n",
       "    .dataframe tbody tr th:only-of-type {\n",
       "        vertical-align: middle;\n",
       "    }\n",
       "\n",
       "    .dataframe tbody tr th {\n",
       "        vertical-align: top;\n",
       "    }\n",
       "\n",
       "    .dataframe thead th {\n",
       "        text-align: right;\n",
       "    }\n",
       "</style>\n",
       "<table border=\"1\" class=\"dataframe\">\n",
       "  <thead>\n",
       "    <tr style=\"text-align: right;\">\n",
       "      <th></th>\n",
       "      <th>shortnam</th>\n",
       "      <th>africa</th>\n",
       "      <th>lat_abst</th>\n",
       "      <th>avexpr</th>\n",
       "      <th>logpgp95</th>\n",
       "      <th>other</th>\n",
       "      <th>asia</th>\n",
       "      <th>loghjypl</th>\n",
       "      <th>baseco</th>\n",
       "    </tr>\n",
       "  </thead>\n",
       "  <tbody>\n",
       "    <tr>\n",
       "      <th>0</th>\n",
       "      <td>AFG</td>\n",
       "      <td>0</td>\n",
       "      <td>0.366667</td>\n",
       "      <td>NaN</td>\n",
       "      <td>NaN</td>\n",
       "      <td>0</td>\n",
       "      <td>1</td>\n",
       "      <td>NaN</td>\n",
       "      <td>NaN</td>\n",
       "    </tr>\n",
       "    <tr>\n",
       "      <th>1</th>\n",
       "      <td>AGO</td>\n",
       "      <td>1</td>\n",
       "      <td>0.136667</td>\n",
       "      <td>5.363637</td>\n",
       "      <td>7.770645</td>\n",
       "      <td>0</td>\n",
       "      <td>0</td>\n",
       "      <td>-3.411248</td>\n",
       "      <td>1.0</td>\n",
       "    </tr>\n",
       "    <tr>\n",
       "      <th>2</th>\n",
       "      <td>ARE</td>\n",
       "      <td>0</td>\n",
       "      <td>0.266667</td>\n",
       "      <td>7.181818</td>\n",
       "      <td>9.804219</td>\n",
       "      <td>0</td>\n",
       "      <td>1</td>\n",
       "      <td>NaN</td>\n",
       "      <td>NaN</td>\n",
       "    </tr>\n",
       "    <tr>\n",
       "      <th>3</th>\n",
       "      <td>ARG</td>\n",
       "      <td>0</td>\n",
       "      <td>0.377778</td>\n",
       "      <td>6.386363</td>\n",
       "      <td>9.133459</td>\n",
       "      <td>0</td>\n",
       "      <td>0</td>\n",
       "      <td>-0.872274</td>\n",
       "      <td>1.0</td>\n",
       "    </tr>\n",
       "    <tr>\n",
       "      <th>4</th>\n",
       "      <td>ARM</td>\n",
       "      <td>0</td>\n",
       "      <td>0.444444</td>\n",
       "      <td>NaN</td>\n",
       "      <td>7.682482</td>\n",
       "      <td>0</td>\n",
       "      <td>1</td>\n",
       "      <td>NaN</td>\n",
       "      <td>NaN</td>\n",
       "    </tr>\n",
       "  </tbody>\n",
       "</table>\n",
       "</div>"
      ],
      "text/plain": [
       "  shortnam  africa  lat_abst    avexpr  logpgp95  other  asia  loghjypl  \\\n",
       "0      AFG       0  0.366667       NaN       NaN      0     1       NaN   \n",
       "1      AGO       1  0.136667  5.363637  7.770645      0     0 -3.411248   \n",
       "2      ARE       0  0.266667  7.181818  9.804219      0     1       NaN   \n",
       "3      ARG       0  0.377778  6.386363  9.133459      0     0 -0.872274   \n",
       "4      ARM       0  0.444444       NaN  7.682482      0     1       NaN   \n",
       "\n",
       "   baseco  \n",
       "0     NaN  \n",
       "1     1.0  \n",
       "2     NaN  \n",
       "3     1.0  \n",
       "4     NaN  "
      ]
     },
     "execution_count": 106,
     "metadata": {},
     "output_type": "execute_result"
    }
   ],
   "source": [
    "data2 = pd.read_csv(\"C:/Users/HP/Downloads/acemoglu_2001_regression.csv\")\n",
    "data2.head ()"
   ]
  },
  {
   "cell_type": "code",
   "execution_count": 107,
   "id": "f874fc12",
   "metadata": {},
   "outputs": [
    {
     "name": "stdout",
     "output_type": "stream",
     "text": [
      "<class 'pandas.core.frame.DataFrame'>\n",
      "RangeIndex: 163 entries, 0 to 162\n",
      "Data columns (total 9 columns):\n",
      " #   Column    Non-Null Count  Dtype  \n",
      "---  ------    --------------  -----  \n",
      " 0   shortnam  163 non-null    object \n",
      " 1   africa    163 non-null    int64  \n",
      " 2   lat_abst  162 non-null    float64\n",
      " 3   avexpr    121 non-null    float64\n",
      " 4   logpgp95  148 non-null    float64\n",
      " 5   other     163 non-null    int64  \n",
      " 6   asia      163 non-null    int64  \n",
      " 7   loghjypl  123 non-null    float64\n",
      " 8   baseco    64 non-null     float64\n",
      "dtypes: float64(5), int64(3), object(1)\n",
      "memory usage: 11.6+ KB\n"
     ]
    }
   ],
   "source": [
    "data2.info()"
   ]
  },
  {
   "cell_type": "code",
   "execution_count": 86,
   "id": "3da58a6b",
   "metadata": {},
   "outputs": [],
   "source": [
    "model_1 = 'logpgp95 ~ avexpr'\n",
    "results_1= smf.ols(model_1, data=data2).fit(cov_type='HC1')"
   ]
  },
  {
   "cell_type": "code",
   "execution_count": 95,
   "id": "bbae0d46",
   "metadata": {},
   "outputs": [],
   "source": [
    "model_2 = 'logpgp95 ~ avexpr'\n",
    "results_2 = smf.ols(model_2, data=data2[data2['baseco'] == 1.0]).fit(cov_type='HC1')"
   ]
  },
  {
   "cell_type": "code",
   "execution_count": 96,
   "id": "f8f2355c",
   "metadata": {},
   "outputs": [],
   "source": [
    "model_3 = 'logpgp95 ~ avexpr + lat_abst'\n",
    "results_3 = smf.ols(model_3, data=data2).fit(cov_type='HC1')"
   ]
  },
  {
   "cell_type": "code",
   "execution_count": 97,
   "id": "e176120c",
   "metadata": {},
   "outputs": [],
   "source": [
    "model_4 = 'logpgp95 ~ avexpr + lat_abst + africa + asia + other'\n",
    "results_4 = smf.ols(model_3, data=data2).fit(cov_type='HC1')"
   ]
  },
  {
   "cell_type": "code",
   "execution_count": 98,
   "id": "4382b8af",
   "metadata": {},
   "outputs": [],
   "source": [
    "model_5 = 'logpgp95 ~ avexpr + lat_abst'\n",
    "results_5 = smf.ols(model_2, data=data2[data2['baseco'] == 1.0]).fit(cov_type='HC1')"
   ]
  },
  {
   "cell_type": "code",
   "execution_count": 99,
   "id": "3f7eb037",
   "metadata": {},
   "outputs": [],
   "source": [
    "model_6 = 'logpgp95 ~ avexpr + lat_abst + africa + asia + other'\n",
    "results_6 = smf.ols(model_3, data=data2[data2['baseco'] == 1.0]).fit(cov_type='HC1')"
   ]
  },
  {
   "cell_type": "code",
   "execution_count": 100,
   "id": "df22b6a8",
   "metadata": {},
   "outputs": [],
   "source": [
    "model_7 = 'logpgp95 ~ loghjypl'\n",
    "results_7 = smf.ols(model_1, data=data2).fit(cov_type='HC1')"
   ]
  },
  {
   "cell_type": "code",
   "execution_count": 101,
   "id": "fcd765d7",
   "metadata": {},
   "outputs": [],
   "source": [
    "model_8 = 'logpgp95 ~ loghjypl'\n",
    "results_8 = smf.ols(model_2, data=data2[data2['baseco'] == 1.0]).fit(cov_type='HC1')"
   ]
  },
  {
   "cell_type": "code",
   "execution_count": 112,
   "id": "ef75e2a9",
   "metadata": {},
   "outputs": [],
   "source": [
    "results_8 = smf.ols(model_2, data=data2[data2['baseco'] == 1.0]).fit(cov_type='HC1')"
   ]
  },
  {
   "cell_type": "code",
   "execution_count": 115,
   "id": "1e5e066b",
   "metadata": {},
   "outputs": [
    {
     "ename": "NameError",
     "evalue": "name 'Stargazer' is not defined",
     "output_type": "error",
     "traceback": [
      "\u001b[1;31m---------------------------------------------------------------------------\u001b[0m",
      "\u001b[1;31mNameError\u001b[0m                                 Traceback (most recent call last)",
      "\u001b[1;32m~\\AppData\\Local\\Temp/ipykernel_24536/4288776098.py\u001b[0m in \u001b[0;36m<module>\u001b[1;34m\u001b[0m\n\u001b[1;32m----> 1\u001b[1;33m \u001b[0mstargazer\u001b[0m \u001b[1;33m=\u001b[0m \u001b[0mStargazer\u001b[0m\u001b[1;33m(\u001b[0m\u001b[1;33m[\u001b[0m\u001b[0mresults_1\u001b[0m\u001b[1;33m,\u001b[0m \u001b[0mresults_2\u001b[0m\u001b[1;33m,\u001b[0m \u001b[0mresults_3\u001b[0m\u001b[1;33m,\u001b[0m \u001b[0mresults_4\u001b[0m\u001b[1;33m,\u001b[0m \u001b[0mresults_5\u001b[0m\u001b[1;33m,\u001b[0m \u001b[0mresults_6\u001b[0m\u001b[1;33m,\u001b[0m \u001b[0mresults_7\u001b[0m\u001b[1;33m,\u001b[0m \u001b[0mresults_8\u001b[0m\u001b[1;33m]\u001b[0m\u001b[1;33m)\u001b[0m\u001b[1;33m\u001b[0m\u001b[1;33m\u001b[0m\u001b[0m\n\u001b[0m",
      "\u001b[1;31mNameError\u001b[0m: name 'Stargazer' is not defined"
     ]
    }
   ],
   "source": [
    "stargazer = Stargazer([results_1, results_2, results_3, results_4, results_5, results_6, results_7, results_8])"
   ]
  },
  {
   "cell_type": "code",
   "execution_count": 116,
   "id": "f30384a7",
   "metadata": {},
   "outputs": [
    {
     "ename": "NameError",
     "evalue": "name 'HTML' is not defined",
     "output_type": "error",
     "traceback": [
      "\u001b[1;31m---------------------------------------------------------------------------\u001b[0m",
      "\u001b[1;31mNameError\u001b[0m                                 Traceback (most recent call last)",
      "\u001b[1;32m~\\AppData\\Local\\Temp/ipykernel_24536/3441721460.py\u001b[0m in \u001b[0;36m<module>\u001b[1;34m\u001b[0m\n\u001b[1;32m----> 1\u001b[1;33m \u001b[0mHTML\u001b[0m\u001b[1;33m(\u001b[0m\u001b[0mstargazer\u001b[0m\u001b[1;33m.\u001b[0m\u001b[0mrender_html\u001b[0m\u001b[1;33m(\u001b[0m\u001b[1;33m)\u001b[0m\u001b[1;33m)\u001b[0m\u001b[1;33m\u001b[0m\u001b[1;33m\u001b[0m\u001b[0m\n\u001b[0m",
      "\u001b[1;31mNameError\u001b[0m: name 'HTML' is not defined"
     ]
    }
   ],
   "source": [
    "HTML(stargazer.render_html())"
   ]
  },
  {
   "cell_type": "markdown",
   "id": "843e8533",
   "metadata": {},
   "source": [
    "From the correlations obtained, it can be determined that there is a strong correlation between the average protection against expropiation risk and income per capita. Also, it shows that there is an impact of the institutions variable on income per capita. In addtition, the results show that lattitude has also a significant effect on the GPD per capita. Finally, in general, the table shows a strong correlation between institutions and economic performance."
   ]
  }
 ],
 "metadata": {
  "kernelspec": {
   "display_name": "Python 3 (ipykernel)",
   "language": "python",
   "name": "python3"
  },
  "language_info": {
   "codemirror_mode": {
    "name": "ipython",
    "version": 3
   },
   "file_extension": ".py",
   "mimetype": "text/x-python",
   "name": "python",
   "nbconvert_exporter": "python",
   "pygments_lexer": "ipython3",
   "version": "3.9.7"
  }
 },
 "nbformat": 4,
 "nbformat_minor": 5
}
