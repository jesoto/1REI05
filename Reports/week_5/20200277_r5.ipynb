{
 "cells": [
  {
   "cell_type": "code",
   "execution_count": null,
   "id": "2cf06d0f",
   "metadata": {},
   "outputs": [],
   "source": [
    "# Report section"
   ]
  },
  {
   "cell_type": "markdown",
   "id": "d8bd9db6",
   "metadata": {},
   "source": [
    "The objective of this document is to evaluate the effects of increases in the RMV on wages and employment. To do this, his research has data from a decade, covering a total of five increases in the minimum living wage (RMV). However, his study focuses on the analysis of the first four increases in the minimum living wage.\n",
    "\n",
    "Among the recorded strengths, the first would be that it uses different complementary methodologies to show the validity of its result and explains the relevance of each type of methodology. The first, which is the descriptive tabulated data, underlines the strong association between the level of the RMV in relation to average remuneration and the rate of non-compliance. The second methodology, which is the analysis of wage distributions, indicates that the minimum wage has no effect on it, if there is an effect it is weak and only in the formal sector.\n",
    "\n",
    "Third, the econometric analysis exploits the quarterly rotating panel of the Permanent Employment Survey (EPE) and focuses on different groups of workers: wage earners, formal wage earners, informal wage earners, and self-employment. The very fact that it focuses on the informal sector and self-employment makes it possible to have a broader panorama within the research, since normally for economic calculations such as GDP, for example, these are not included in its study. In addition, to show the objectivity of his study, he has two sample groups, those workers who were affected by the rise in the RMV and those who were not affected by it, the latter being the control group.\n",
    "\n",
    "At the same time, another strength that can be mentioned is that to carry out hypothesis tests, the limitations of the procedures used are established and additional calculation methods are implemented that allow greater validity of the results. For example, to validate that the Peruvian minimum wage is lower than that of its peers in the region. First, the minimum wage of Latin American countries is compared based on purchasing power. However, its main limitation is the variation in the value of the dollar in each country and the inequalities in development between countries are not shown. As such, the ratio between the minimum wage and GDP per capita for the countries of the region is used.\n",
    "\n",
    "At this point, it is necessary to mention that even in the presentation of each graph and table, notes are included describing where the data is obtained and the formulas used to arrive at the results presented. Likewise, it is important to mention that each time the author reaches a conclusion after analyzing the study variables, the impact of these results on practical life and their causal effects is explained, an example of this is the mention that the higher the RMV with respect to the minimum wage, the greater the compliance and the less effective the policy is in reaching its objectives.\n",
    "\n",
    "Although it has a very centralized point of view in the capital, the special treatment it has towards Lima may require that it be because it has a more developed market. But, it should find the causes that because in regions there is a higher regional average salary that even exceeds that of Lima, and in exceptional cases they have a percentage of non-compliance equal to Lima with a ratio of the RMV in relation to the minimum salary average remuneration higher of the Lima average. The particularities of these cases should be evaluated because, despite the high rate of informality found in regions, some of them have better results than those found in the capital. However, within the econometric analysis, variables such as gender, and the size of the company where you work, are grouped into a single variable. This constitutes a weakness since in tables prior to this analysis it is mentioned that there is a difference and the increase in the RMV especially affects women, rural workers, and the youngest. These findings are relegated and it tries to homogenize the workers, despite the heterogeneities that had been previously presented.\n",
    "\n",
    "The main contribution of the document is the use of the implemented methodologies, they allow to explore all the variations of the RMV during the last decade and its application in the Peruvian case since as it has been demonstrated in the review of the literature, there is no precedent. in Peruvian history. Likewise, the use of longitudinal data to observe the changes in the variables of the labor market of individuals affected and not affected by changes in the minimum wage, especially for its evaluation carried out quarterly.\n",
    "\n",
    "Another contribution is that it analyzes the effects both in the formal and informal sectors, even trying to set principles of how the rise in the RMV affects the informal field. On the other hand, although he does not do it in detail, with his analysis of the rate of non-compliance with minimum wage policies among the regions of Peru, he makes us glimpse the concern about the great inequalities in the application of policies and their lack of congruence with the regions since default rates reach more than 50%. These new perspectives of analysis draw attention to future work in the same area of study.\n",
    "\n",
    "Steps to continue on this topic would first be the examination of the peculiarities of the regions with exceptional cases, those where they have shown to have a higher regional average minimum wage than in the capital itself, as is the case of Moquegua, despite the fact that It is in Lima, according to the author, where the policy for minimum wages is applied with greater rigor. And even more so, to analyze why, despite the fact that in the regions there are higher rates of informality, for example, Ica maintains the same percentage of non-compliance with minimum wage policies as Lima. Second, it would be interesting to study the RMV and its relationship with the great heterogeneity in productivity levels throughout the different regions (to analyze whether or not there was an increase in productivity after the rise in the minimum wage). In addition, to look for those patterns of the reason for the high rates of non-compliance with policies about minimum wages within the Peruvian regions."
   ]
  },
  {
   "cell_type": "code",
   "execution_count": 1,
   "id": "1010354d",
   "metadata": {},
   "outputs": [],
   "source": [
    "# Codification section"
   ]
  },
  {
   "cell_type": "code",
   "execution_count": 3,
   "id": "bda0a18f",
   "metadata": {},
   "outputs": [],
   "source": [
    "# 1.First-Stage Relationship Between Settler Mortality And Expropiation Risk"
   ]
  },
  {
   "cell_type": "code",
   "execution_count": 8,
   "id": "e9433169",
   "metadata": {},
   "outputs": [],
   "source": [
    "import warnings\n",
    "warnings.filterwarnings('ignore')"
   ]
  },
  {
   "cell_type": "code",
   "execution_count": 9,
   "id": "cf8fc767",
   "metadata": {},
   "outputs": [],
   "source": [
    "import numpy as np\n",
    "import pandas as pd"
   ]
  },
  {
   "cell_type": "code",
   "execution_count": 10,
   "id": "3abffbf9",
   "metadata": {},
   "outputs": [],
   "source": [
    "import matplotlib.pyplot as plt \n",
    "import seaborn as sns"
   ]
  },
  {
   "cell_type": "code",
   "execution_count": 11,
   "id": "5834ca88",
   "metadata": {},
   "outputs": [
    {
     "data": {
      "text/html": [
       "<div>\n",
       "<style scoped>\n",
       "    .dataframe tbody tr th:only-of-type {\n",
       "        vertical-align: middle;\n",
       "    }\n",
       "\n",
       "    .dataframe tbody tr th {\n",
       "        vertical-align: top;\n",
       "    }\n",
       "\n",
       "    .dataframe thead th {\n",
       "        text-align: right;\n",
       "    }\n",
       "</style>\n",
       "<table border=\"1\" class=\"dataframe\">\n",
       "  <thead>\n",
       "    <tr style=\"text-align: right;\">\n",
       "      <th></th>\n",
       "      <th>longname</th>\n",
       "      <th>shortnam</th>\n",
       "      <th>logmort0</th>\n",
       "      <th>risk</th>\n",
       "      <th>loggdp</th>\n",
       "      <th>campaign</th>\n",
       "      <th>source0</th>\n",
       "      <th>slave</th>\n",
       "      <th>latitude</th>\n",
       "      <th>neoeuro</th>\n",
       "      <th>...</th>\n",
       "      <th>logmortjam</th>\n",
       "      <th>logmortcap250</th>\n",
       "      <th>logmortjam250</th>\n",
       "      <th>wandcafrica</th>\n",
       "      <th>malfal94</th>\n",
       "      <th>wacacontested</th>\n",
       "      <th>mortnaval2250</th>\n",
       "      <th>logmortnaval2250</th>\n",
       "      <th>mortnaval1250</th>\n",
       "      <th>logmortnaval1250</th>\n",
       "    </tr>\n",
       "  </thead>\n",
       "  <tbody>\n",
       "    <tr>\n",
       "      <th>0</th>\n",
       "      <td>Bangladesh</td>\n",
       "      <td>BGD</td>\n",
       "      <td>4.268438</td>\n",
       "      <td>5.140000</td>\n",
       "      <td>6.88</td>\n",
       "      <td>1</td>\n",
       "      <td>1</td>\n",
       "      <td>0</td>\n",
       "      <td>0.2667</td>\n",
       "      <td>0</td>\n",
       "      <td>...</td>\n",
       "      <td>4.268438</td>\n",
       "      <td>4.268438</td>\n",
       "      <td>4.268438</td>\n",
       "      <td>0</td>\n",
       "      <td>0.12008</td>\n",
       "      <td>0</td>\n",
       "      <td>71.410004</td>\n",
       "      <td>4.268438</td>\n",
       "      <td>71.410004</td>\n",
       "      <td>4.268438</td>\n",
       "    </tr>\n",
       "    <tr>\n",
       "      <th>1</th>\n",
       "      <td>Canada</td>\n",
       "      <td>CAN</td>\n",
       "      <td>2.778819</td>\n",
       "      <td>9.729999</td>\n",
       "      <td>9.99</td>\n",
       "      <td>0</td>\n",
       "      <td>1</td>\n",
       "      <td>0</td>\n",
       "      <td>0.6667</td>\n",
       "      <td>1</td>\n",
       "      <td>...</td>\n",
       "      <td>2.778819</td>\n",
       "      <td>2.778819</td>\n",
       "      <td>2.778819</td>\n",
       "      <td>0</td>\n",
       "      <td>0.00000</td>\n",
       "      <td>0</td>\n",
       "      <td>16.100000</td>\n",
       "      <td>2.778819</td>\n",
       "      <td>16.100000</td>\n",
       "      <td>2.778819</td>\n",
       "    </tr>\n",
       "    <tr>\n",
       "      <th>2</th>\n",
       "      <td>Congo</td>\n",
       "      <td>COG</td>\n",
       "      <td>5.480639</td>\n",
       "      <td>4.680000</td>\n",
       "      <td>7.42</td>\n",
       "      <td>0</td>\n",
       "      <td>1</td>\n",
       "      <td>1</td>\n",
       "      <td>0.0111</td>\n",
       "      <td>0</td>\n",
       "      <td>...</td>\n",
       "      <td>5.480639</td>\n",
       "      <td>5.480639</td>\n",
       "      <td>5.480639</td>\n",
       "      <td>1</td>\n",
       "      <td>0.95000</td>\n",
       "      <td>0</td>\n",
       "      <td>240.000000</td>\n",
       "      <td>5.480639</td>\n",
       "      <td>240.000000</td>\n",
       "      <td>5.480639</td>\n",
       "    </tr>\n",
       "    <tr>\n",
       "      <th>3</th>\n",
       "      <td>Algeria</td>\n",
       "      <td>DZA</td>\n",
       "      <td>4.359270</td>\n",
       "      <td>6.500000</td>\n",
       "      <td>8.39</td>\n",
       "      <td>1</td>\n",
       "      <td>1</td>\n",
       "      <td>0</td>\n",
       "      <td>0.3111</td>\n",
       "      <td>0</td>\n",
       "      <td>...</td>\n",
       "      <td>4.359270</td>\n",
       "      <td>4.359270</td>\n",
       "      <td>4.359270</td>\n",
       "      <td>0</td>\n",
       "      <td>0.00000</td>\n",
       "      <td>0</td>\n",
       "      <td>78.199997</td>\n",
       "      <td>4.359270</td>\n",
       "      <td>78.199997</td>\n",
       "      <td>4.359270</td>\n",
       "    </tr>\n",
       "    <tr>\n",
       "      <th>4</th>\n",
       "      <td>Egypt</td>\n",
       "      <td>EGY</td>\n",
       "      <td>4.216562</td>\n",
       "      <td>6.770000</td>\n",
       "      <td>7.95</td>\n",
       "      <td>1</td>\n",
       "      <td>1</td>\n",
       "      <td>0</td>\n",
       "      <td>0.3000</td>\n",
       "      <td>0</td>\n",
       "      <td>...</td>\n",
       "      <td>4.216562</td>\n",
       "      <td>4.216562</td>\n",
       "      <td>4.216562</td>\n",
       "      <td>0</td>\n",
       "      <td>0.00000</td>\n",
       "      <td>0</td>\n",
       "      <td>67.800003</td>\n",
       "      <td>4.216562</td>\n",
       "      <td>67.800003</td>\n",
       "      <td>4.216562</td>\n",
       "    </tr>\n",
       "  </tbody>\n",
       "</table>\n",
       "<p>5 rows × 31 columns</p>\n",
       "</div>"
      ],
      "text/plain": [
       "     longname shortnam  logmort0      risk  loggdp  campaign  source0  slave  \\\n",
       "0  Bangladesh      BGD  4.268438  5.140000    6.88         1        1      0   \n",
       "1      Canada      CAN  2.778819  9.729999    9.99         0        1      0   \n",
       "2       Congo      COG  5.480639  4.680000    7.42         0        1      1   \n",
       "3     Algeria      DZA  4.359270  6.500000    8.39         1        1      0   \n",
       "4       Egypt      EGY  4.216562  6.770000    7.95         1        1      0   \n",
       "\n",
       "   latitude  neoeuro  ...  logmortjam  logmortcap250  logmortjam250  \\\n",
       "0    0.2667        0  ...    4.268438       4.268438       4.268438   \n",
       "1    0.6667        1  ...    2.778819       2.778819       2.778819   \n",
       "2    0.0111        0  ...    5.480639       5.480639       5.480639   \n",
       "3    0.3111        0  ...    4.359270       4.359270       4.359270   \n",
       "4    0.3000        0  ...    4.216562       4.216562       4.216562   \n",
       "\n",
       "   wandcafrica  malfal94  wacacontested  mortnaval2250  logmortnaval2250  \\\n",
       "0            0   0.12008              0      71.410004          4.268438   \n",
       "1            0   0.00000              0      16.100000          2.778819   \n",
       "2            1   0.95000              0     240.000000          5.480639   \n",
       "3            0   0.00000              0      78.199997          4.359270   \n",
       "4            0   0.00000              0      67.800003          4.216562   \n",
       "\n",
       "   mortnaval1250  logmortnaval1250  \n",
       "0      71.410004          4.268438  \n",
       "1      16.100000          2.778819  \n",
       "2     240.000000          5.480639  \n",
       "3      78.199997          4.359270  \n",
       "4      67.800003          4.216562  \n",
       "\n",
       "[5 rows x 31 columns]"
      ]
     },
     "execution_count": 11,
     "metadata": {},
     "output_type": "execute_result"
    }
   ],
   "source": [
    "data = pd.DataFrame(pd.read_csv(\"acemoglu_2001.csv\"))\n",
    "data.head()"
   ]
  },
  {
   "cell_type": "code",
   "execution_count": 12,
   "id": "dfd1c8bd",
   "metadata": {},
   "outputs": [
    {
     "data": {
      "text/plain": [
       "<bound method DataFrame.info of                longname shortnam  logmort0       risk     loggdp  campaign  \\\n",
       "0            Bangladesh      BGD  4.268438   5.140000   6.880000         1   \n",
       "1                Canada      CAN  2.778819   9.729999   9.990000         0   \n",
       "2                 Congo      COG  5.480639   4.680000   7.420000         0   \n",
       "3               Algeria      DZA  4.359270   6.500000   8.390000         1   \n",
       "4                 Egypt      EGY  4.216562   6.770000   7.950000         1   \n",
       "5              Ethiopia      ETH  3.258097   5.730000   6.110000         1   \n",
       "6                 Ghana      GHA  6.504288   6.270000   7.370000         1   \n",
       "7                Gambia      GMB  7.293018   8.270001   7.270000         1   \n",
       "8             Indonesia      IDN  5.135798   7.590000   7.330000         1   \n",
       "9                 India      IND  3.884241   8.270001   7.330000         0   \n",
       "10              Jamaica      JAM  4.867535   7.090000   8.190000         0   \n",
       "11                Kenya      KEN  4.976734   6.050000   7.060000         0   \n",
       "12            Sri Lanka      LKA  4.245634   6.050000   7.730000         0   \n",
       "13           Madagascar      MDG  6.284209   4.450000   6.840000         1   \n",
       "14               Mexico      MEX  4.262680   7.500000   8.940000         1   \n",
       "15                 Mali      MLI  7.986165   4.000000   6.570000         1   \n",
       "16                Malta      MLT  2.791165   7.230000   9.430000         0   \n",
       "17             Malaysia      MYS  2.873565   7.950000   8.890000         0   \n",
       "18              Nigeria      NGA  7.602900   5.550000   6.810000         1   \n",
       "19          New Zealand      NZL  2.145931   9.729999   9.760000         0   \n",
       "20                Sudan      SDN  4.479607   4.000000   7.310000         1   \n",
       "21              Senegal      SEN  5.103883   6.000000   7.400000         0   \n",
       "22         Sierra Leone      SLE  6.180016   5.820000   6.250000         1   \n",
       "23  Trinidad and Tobago      TTO  4.442651   7.450000   8.770001         0   \n",
       "24              Tunisia      TUN  4.143135   6.450000   8.479999         1   \n",
       "25                  USA      USA  2.708050  10.000000  10.220000         0   \n",
       "26              Vietnam      VNM  4.941642   6.410000   7.280000         1   \n",
       "27         South Africa      ZAF  2.740840   6.860000   8.890000         0   \n",
       "\n",
       "    source0  slave  latitude  neoeuro  ...  logmortjam  logmortcap250  \\\n",
       "0         1      0    0.2667        0  ...    4.268438       4.268438   \n",
       "1         1      0    0.6667        1  ...    2.778819       2.778819   \n",
       "2         1      1    0.0111        0  ...    5.480639       5.480639   \n",
       "3         1      0    0.3111        0  ...    4.359270       4.359270   \n",
       "4         1      0    0.3000        0  ...    4.216562       4.216562   \n",
       "5         1      0    0.0889        0  ...    3.258097       3.258097   \n",
       "6         1      0    0.0889        0  ...    6.504288       5.521461   \n",
       "7         1      0    0.1476        0  ...    7.293018       5.521461   \n",
       "8         1      0    0.0556        0  ...    5.135798       5.135798   \n",
       "9         1      0    0.2222        0  ...    3.884241       3.884241   \n",
       "10        1      0    0.2017        0  ...    4.867535       4.867535   \n",
       "11        1      1    0.0111        0  ...    4.976734       4.976734   \n",
       "12        1      0    0.0778        0  ...    4.245634       4.245634   \n",
       "13        1      0    0.2222        0  ...    6.284209       5.521461   \n",
       "14        1      0    0.2556        0  ...    4.262680       4.262680   \n",
       "15        1      0    0.1889        0  ...    7.986165       5.521461   \n",
       "16        1      0    0.3944        0  ...    2.791165       2.791165   \n",
       "17        1      0    0.0256        0  ...    2.873565       2.873565   \n",
       "18        1      0    0.1111        0  ...    7.602900       5.521461   \n",
       "19        1      0    0.4556        1  ...    2.145931       2.145931   \n",
       "20        1      0    0.1667        0  ...    4.479607       4.479607   \n",
       "21        1      0    0.1556        0  ...    5.103883       5.103883   \n",
       "22        1      0    0.0922        0  ...    6.180016       5.521461   \n",
       "23        1      0    0.1222        0  ...    4.442651       4.442651   \n",
       "24        1      0    0.3778        0  ...    4.143135       4.143135   \n",
       "25        1      0    0.4222        1  ...    2.708050       2.708050   \n",
       "26        1      0    0.1778        0  ...    4.941642       4.941642   \n",
       "27        1      0    0.3222        0  ...    2.740840       2.740840   \n",
       "\n",
       "    logmortjam250  wandcafrica  malfal94  wacacontested  mortnaval2250  \\\n",
       "0        4.268438            0   0.12008              0      71.410004   \n",
       "1        2.778819            0   0.00000              0      16.100000   \n",
       "2        5.480639            1   0.95000              0     240.000000   \n",
       "3        4.359270            0   0.00000              0      78.199997   \n",
       "4        4.216562            0   0.00000              0      67.800003   \n",
       "5        3.258097            1   0.55100              0      26.000000   \n",
       "6        5.521461            1   0.95000              0     250.000000   \n",
       "7        5.521461            1   0.95000              0     250.000000   \n",
       "8        5.135798            0   0.17873              0     170.000000   \n",
       "9        3.884241            0   0.23596              0      48.630001   \n",
       "10       4.867535            0   0.00000              0     130.000000   \n",
       "11       4.976734            1   0.79800              0     145.000000   \n",
       "12       4.245634            0   0.13800              0      69.800003   \n",
       "13       5.521461            1   0.95000              0     250.000000   \n",
       "14       4.262680            0   0.00042              0      71.000000   \n",
       "15       5.521461            1   0.94050              0     250.000000   \n",
       "16       2.791165            0       NaN              0      16.299999   \n",
       "17       2.873565            0   0.23331              0      17.700001   \n",
       "18       5.521461            1   0.95000              0     250.000000   \n",
       "19       2.145931            0   0.00000              0       8.550000   \n",
       "20       4.479607            1   0.93100              0      88.199997   \n",
       "21       5.103883            1   0.95000              0     164.660000   \n",
       "22       5.521461            1   0.95000              0     250.000000   \n",
       "23       4.442651            0   0.00000              0      85.000000   \n",
       "24       4.143135            0   0.00000              0      63.000000   \n",
       "25       2.708050            0   0.00000              0      15.000000   \n",
       "26       4.941642            0   0.70110              0     140.000000   \n",
       "27       2.740840            0   0.10450              0      15.500000   \n",
       "\n",
       "    logmortnaval2250  mortnaval1250  logmortnaval1250  \n",
       "0           4.268438      71.410004          4.268438  \n",
       "1           2.778819      16.100000          2.778819  \n",
       "2           5.480639     240.000000          5.480639  \n",
       "3           4.359270      78.199997          4.359270  \n",
       "4           4.216562      67.800003          4.216562  \n",
       "5           3.258097      26.000000          3.258097  \n",
       "6           5.521461     250.000000          5.521461  \n",
       "7           5.521461     250.000000          5.521461  \n",
       "8           5.135798     170.000000          5.135798  \n",
       "9           3.884241      48.630001          3.884241  \n",
       "10          4.867535     130.000000          4.867535  \n",
       "11          4.976734     145.000000          4.976734  \n",
       "12          4.245634      69.800003          4.245634  \n",
       "13          5.521461     250.000000          5.521461  \n",
       "14          4.262680      71.000000          4.262680  \n",
       "15          5.521461     250.000000          5.521461  \n",
       "16          2.791165      16.299999          2.791165  \n",
       "17          2.873565      17.700001          2.873565  \n",
       "18          5.521461     250.000000          5.521461  \n",
       "19          2.145931       8.550000          2.145931  \n",
       "20          4.479607      88.199997          4.479607  \n",
       "21          5.103883     164.660000          5.103883  \n",
       "22          5.521461     250.000000          5.521461  \n",
       "23          4.442651      85.000000          4.442651  \n",
       "24          4.143135      63.000000          4.143135  \n",
       "25          2.708050      15.000000          2.708050  \n",
       "26          4.941642     140.000000          4.941642  \n",
       "27          2.740840      15.500000          2.740840  \n",
       "\n",
       "[28 rows x 31 columns]>"
      ]
     },
     "execution_count": 12,
     "metadata": {},
     "output_type": "execute_result"
    }
   ],
   "source": [
    "data.info"
   ]
  },
  {
   "cell_type": "code",
   "execution_count": 13,
   "id": "cc53baf4",
   "metadata": {},
   "outputs": [
    {
     "data": {
      "text/plain": [
       "longname            0\n",
       "shortnam            0\n",
       "logmort0            0\n",
       "risk                0\n",
       "loggdp              0\n",
       "campaign            0\n",
       "source0             0\n",
       "slave               0\n",
       "latitude            0\n",
       "neoeuro             0\n",
       "asia                0\n",
       "africa              0\n",
       "other               0\n",
       "edes1975            0\n",
       "campaignsj          0\n",
       "campaignsj2         0\n",
       "mortnaval1          0\n",
       "logmortnaval1       0\n",
       "mortnaval2          0\n",
       "logmortnaval2       0\n",
       "mortjam             0\n",
       "logmortjam          0\n",
       "logmortcap250       0\n",
       "logmortjam250       0\n",
       "wandcafrica         0\n",
       "malfal94            1\n",
       "wacacontested       0\n",
       "mortnaval2250       0\n",
       "logmortnaval2250    0\n",
       "mortnaval1250       0\n",
       "logmortnaval1250    0\n",
       "dtype: int64"
      ]
     },
     "execution_count": 13,
     "metadata": {},
     "output_type": "execute_result"
    }
   ],
   "source": [
    "data.isnull().sum()"
   ]
  },
  {
   "cell_type": "code",
   "execution_count": 13,
   "id": "5d27596d",
   "metadata": {},
   "outputs": [],
   "source": [
    "import statsmodels.api as sm"
   ]
  },
  {
   "cell_type": "code",
   "execution_count": 14,
   "id": "9b9552a0",
   "metadata": {},
   "outputs": [],
   "source": [
    "X = data['logmort0']\n",
    "y = data['risk']"
   ]
  },
  {
   "cell_type": "code",
   "execution_count": 15,
   "id": "59c9435c",
   "metadata": {},
   "outputs": [],
   "source": [
    "from sklearn.model_selection import train_test_split\n",
    "X_train, X_test, y_train, y_test = train_test_split(X, y, train_size = 0.7, test_size = 0.3, random_state = 100)"
   ]
  },
  {
   "cell_type": "code",
   "execution_count": 17,
   "id": "39d3fceb",
   "metadata": {},
   "outputs": [
    {
     "data": {
      "text/plain": [
       "(28, 31)"
      ]
     },
     "execution_count": 17,
     "metadata": {},
     "output_type": "execute_result"
    }
   ],
   "source": [
    "data.shape"
   ]
  },
  {
   "cell_type": "code",
   "execution_count": 20,
   "id": "76f8da95",
   "metadata": {},
   "outputs": [
    {
     "data": {
      "text/plain": [
       "((19,), (9,))"
      ]
     },
     "execution_count": 20,
     "metadata": {},
     "output_type": "execute_result"
    }
   ],
   "source": [
    "y_train.shape, y_test.shape"
   ]
  },
  {
   "cell_type": "code",
   "execution_count": 21,
   "id": "1de8b91c",
   "metadata": {},
   "outputs": [
    {
     "data": {
      "text/plain": [
       "13    6.284209\n",
       "20    4.479607\n",
       "4     4.216562\n",
       "27    2.740840\n",
       "0     4.268438\n",
       "Name: logmort0, dtype: float64"
      ]
     },
     "execution_count": 21,
     "metadata": {},
     "output_type": "execute_result"
    }
   ],
   "source": [
    "X_train.head()"
   ]
  },
  {
   "cell_type": "code",
   "execution_count": 22,
   "id": "50060cf4",
   "metadata": {},
   "outputs": [
    {
     "data": {
      "text/plain": [
       "13    4.45\n",
       "20    4.00\n",
       "4     6.77\n",
       "27    6.86\n",
       "0     5.14\n",
       "Name: risk, dtype: float64"
      ]
     },
     "execution_count": 22,
     "metadata": {},
     "output_type": "execute_result"
    }
   ],
   "source": [
    "y_train.head()"
   ]
  },
  {
   "cell_type": "code",
   "execution_count": 24,
   "id": "0f8bc358",
   "metadata": {},
   "outputs": [],
   "source": [
    "X_train_sm = sm.add_constant(X_train)\n",
    "lr = sm.OLS(y_train, X_train_sm).fit()"
   ]
  },
  {
   "cell_type": "code",
   "execution_count": 25,
   "id": "b60be4e4",
   "metadata": {},
   "outputs": [
    {
     "data": {
      "text/plain": [
       "const       9.309412\n",
       "logmort0   -0.566502\n",
       "dtype: float64"
      ]
     },
     "execution_count": 25,
     "metadata": {},
     "output_type": "execute_result"
    }
   ],
   "source": [
    "lr.params"
   ]
  },
  {
   "cell_type": "code",
   "execution_count": 26,
   "id": "64423016",
   "metadata": {},
   "outputs": [
    {
     "name": "stdout",
     "output_type": "stream",
     "text": [
      "                            OLS Regression Results                            \n",
      "==============================================================================\n",
      "Dep. Variable:                   risk   R-squared:                       0.315\n",
      "Model:                            OLS   Adj. R-squared:                  0.274\n",
      "Method:                 Least Squares   F-statistic:                     7.806\n",
      "Date:                Sat, 07 May 2022   Prob (F-statistic):             0.0125\n",
      "Time:                        08:00:17   Log-Likelihood:                -33.012\n",
      "No. Observations:                  19   AIC:                             70.02\n",
      "Df Residuals:                      17   BIC:                             71.91\n",
      "Df Model:                           1                                         \n",
      "Covariance Type:            nonrobust                                         \n",
      "==============================================================================\n",
      "                 coef    std err          t      P>|t|      [0.025      0.975]\n",
      "------------------------------------------------------------------------------\n",
      "const          9.3094      0.998      9.327      0.000       7.204      11.415\n",
      "logmort0      -0.5665      0.203     -2.794      0.012      -0.994      -0.139\n",
      "==============================================================================\n",
      "Omnibus:                        0.428   Durbin-Watson:                   1.858\n",
      "Prob(Omnibus):                  0.807   Jarque-Bera (JB):                0.157\n",
      "Skew:                           0.213   Prob(JB):                        0.924\n",
      "Kurtosis:                       2.867   Cond. No.                         15.3\n",
      "==============================================================================\n",
      "\n",
      "Notes:\n",
      "[1] Standard Errors assume that the covariance matrix of the errors is correctly specified.\n"
     ]
    }
   ],
   "source": [
    "print(lr.summary())"
   ]
  },
  {
   "cell_type": "code",
   "execution_count": 93,
   "id": "7f11cb80",
   "metadata": {},
   "outputs": [
    {
     "data": {
      "image/png": "[encoded data removed]",
      "text/plain": [
       "<Figure size 648x432 with 1 Axes>"
      ]
     },
     "metadata": {},
     "output_type": "display_data"
    }
   ],
   "source": [
    "sns.pairplot(data, x_vars=[\"logmort0\"], y_vars=[\"risk\"], height=6, aspect=1.5, palette='Set1', kind=\"scatter\",)\n",
    "plt.plot(X_train, 9.3094 -0.5665*X_train, 'r',)\n",
    "for i, label in enumerate(data.shortnam):\n",
    "    plt.text(X[i], y[i],label)\n",
    "plt.xlabel(\"Log of Settler Mortality\")\n",
    "plt.ylabel(\"Average Expropriation Risk 1985-95\")\n",
    "plt.title(\"Figure 3. First-Stage Relationship Between Settler Mortality And Expropiation Risk\")\n",
    "plt.show()"
   ]
  },
  {
   "cell_type": "markdown",
   "id": "c9287aee",
   "metadata": {},
   "source": [
    "Graph 3 shows the relationship between the log of settler mortality and the average risk of expropriation during the period 1985 to 1995. The variable logarithm of mortality is the determinant of the existence of institutions in the sample of selected colonies. The relationship between both variables is negative since the higher the mortality rate of the settlers, the lower the average risk of expropriation. That is, in colonies where there was a lower mortality rate, it is where the strongest institutions were.\n",
    "\n",
    "Although there are several outliers such as the United States where the log of settler mortality is low, it has a high risk of expropriation. There is a group that concentrates its statistics on the case of the tail mortality logarithm around 4-5 and the average risk of expropriation ranges between 6 and 8. Which hardly shows the negative relationship.\n",
    "\n",
    "On the other hand, cases such as those of Mali favor the explanation that where there is a high log of settler mortality, there is a low average risk of expropriation. "
   ]
  },
  {
   "cell_type": "code",
   "execution_count": null,
   "id": "9cd6f67e",
   "metadata": {},
   "outputs": [],
   "source": [
    "# Table 2 - OLS Regressions"
   ]
  },
  {
   "cell_type": "code",
   "execution_count": 72,
   "id": "725076c7",
   "metadata": {},
   "outputs": [],
   "source": [
    "import numpy as np\n",
    "import pandas as pd\n",
    "import matplotlib.pyplot as plt\n",
    "import seaborn as sns"
   ]
  },
  {
   "cell_type": "code",
   "execution_count": 98,
   "id": "1194095b",
   "metadata": {},
   "outputs": [],
   "source": [
    "base = pd.DataFrame(pd.read_csv(\"acemoglu_2001_regression.csv.csv\"))"
   ]
  },
  {
   "cell_type": "code",
   "execution_count": 74,
   "id": "4d6a5daf",
   "metadata": {},
   "outputs": [
    {
     "data": {
      "text/html": [
       "<div>\n",
       "<style scoped>\n",
       "    .dataframe tbody tr th:only-of-type {\n",
       "        vertical-align: middle;\n",
       "    }\n",
       "\n",
       "    .dataframe tbody tr th {\n",
       "        vertical-align: top;\n",
       "    }\n",
       "\n",
       "    .dataframe thead th {\n",
       "        text-align: right;\n",
       "    }\n",
       "</style>\n",
       "<table border=\"1\" class=\"dataframe\">\n",
       "  <thead>\n",
       "    <tr style=\"text-align: right;\">\n",
       "      <th></th>\n",
       "      <th>shortnam</th>\n",
       "      <th>africa</th>\n",
       "      <th>lat_abst</th>\n",
       "      <th>avexpr</th>\n",
       "      <th>logpgp95</th>\n",
       "      <th>other</th>\n",
       "      <th>asia</th>\n",
       "      <th>loghjypl</th>\n",
       "      <th>baseco</th>\n",
       "    </tr>\n",
       "  </thead>\n",
       "  <tbody>\n",
       "    <tr>\n",
       "      <th>0</th>\n",
       "      <td>AFG</td>\n",
       "      <td>0</td>\n",
       "      <td>0.366667</td>\n",
       "      <td>NaN</td>\n",
       "      <td>NaN</td>\n",
       "      <td>0</td>\n",
       "      <td>1</td>\n",
       "      <td>NaN</td>\n",
       "      <td>NaN</td>\n",
       "    </tr>\n",
       "    <tr>\n",
       "      <th>1</th>\n",
       "      <td>AGO</td>\n",
       "      <td>1</td>\n",
       "      <td>0.136667</td>\n",
       "      <td>5.363637</td>\n",
       "      <td>7.770645</td>\n",
       "      <td>0</td>\n",
       "      <td>0</td>\n",
       "      <td>-3.411248</td>\n",
       "      <td>1.0</td>\n",
       "    </tr>\n",
       "    <tr>\n",
       "      <th>2</th>\n",
       "      <td>ARE</td>\n",
       "      <td>0</td>\n",
       "      <td>0.266667</td>\n",
       "      <td>7.181818</td>\n",
       "      <td>9.804219</td>\n",
       "      <td>0</td>\n",
       "      <td>1</td>\n",
       "      <td>NaN</td>\n",
       "      <td>NaN</td>\n",
       "    </tr>\n",
       "    <tr>\n",
       "      <th>3</th>\n",
       "      <td>ARG</td>\n",
       "      <td>0</td>\n",
       "      <td>0.377778</td>\n",
       "      <td>6.386363</td>\n",
       "      <td>9.133459</td>\n",
       "      <td>0</td>\n",
       "      <td>0</td>\n",
       "      <td>-0.872274</td>\n",
       "      <td>1.0</td>\n",
       "    </tr>\n",
       "    <tr>\n",
       "      <th>4</th>\n",
       "      <td>ARM</td>\n",
       "      <td>0</td>\n",
       "      <td>0.444444</td>\n",
       "      <td>NaN</td>\n",
       "      <td>7.682482</td>\n",
       "      <td>0</td>\n",
       "      <td>1</td>\n",
       "      <td>NaN</td>\n",
       "      <td>NaN</td>\n",
       "    </tr>\n",
       "  </tbody>\n",
       "</table>\n",
       "</div>"
      ],
      "text/plain": [
       "  shortnam  africa  lat_abst    avexpr  logpgp95  other  asia  loghjypl  \\\n",
       "0      AFG       0  0.366667       NaN       NaN      0     1       NaN   \n",
       "1      AGO       1  0.136667  5.363637  7.770645      0     0 -3.411248   \n",
       "2      ARE       0  0.266667  7.181818  9.804219      0     1       NaN   \n",
       "3      ARG       0  0.377778  6.386363  9.133459      0     0 -0.872274   \n",
       "4      ARM       0  0.444444       NaN  7.682482      0     1       NaN   \n",
       "\n",
       "   baseco  \n",
       "0     NaN  \n",
       "1     1.0  \n",
       "2     NaN  \n",
       "3     1.0  \n",
       "4     NaN  "
      ]
     },
     "execution_count": 74,
     "metadata": {},
     "output_type": "execute_result"
    }
   ],
   "source": [
    "base.head()"
   ]
  },
  {
   "cell_type": "code",
   "execution_count": 108,
   "id": "8f12e042",
   "metadata": {},
   "outputs": [
    {
     "ename": "SyntaxError",
     "evalue": "invalid syntax (Temp/ipykernel_2460/1425774259.py, line 1)",
     "output_type": "error",
     "traceback": [
      "\u001b[1;36m  File \u001b[1;32m\"C:\\Users\\Xiomara\\AppData\\Local\\Temp/ipykernel_2460/1425774259.py\"\u001b[1;36m, line \u001b[1;32m1\u001b[0m\n\u001b[1;33m    conda install-c conda-forge {{Stargazer}}\u001b[0m\n\u001b[1;37m          ^\u001b[0m\n\u001b[1;31mSyntaxError\u001b[0m\u001b[1;31m:\u001b[0m invalid syntax\n"
     ]
    }
   ],
   "source": [
    "conda install-c conda-forge {{Stargazer}}\n",
    "conda install-c conda-forge {{ipython}}"
   ]
  },
  {
   "cell_type": "code",
   "execution_count": 106,
   "id": "a2246cc4",
   "metadata": {},
   "outputs": [
    {
     "ename": "SyntaxError",
     "evalue": "invalid syntax (Temp/ipykernel_2460/889352283.py, line 1)",
     "output_type": "error",
     "traceback": [
      "\u001b[1;36m  File \u001b[1;32m\"C:\\Users\\Xiomara\\AppData\\Local\\Temp/ipykernel_2460/889352283.py\"\u001b[1;36m, line \u001b[1;32m1\u001b[0m\n\u001b[1;33m    conda install-c conda-forge {{Stargazer}}\u001b[0m\n\u001b[1;37m          ^\u001b[0m\n\u001b[1;31mSyntaxError\u001b[0m\u001b[1;31m:\u001b[0m invalid syntax\n"
     ]
    }
   ],
   "source": [
    "import pandas as pd\n",
    "import statsmodels.api as sm\n",
    "import statsmodels.formula.api as smf\n",
    "from stargazer.stargazer import Stargazer\n",
    "from IPython.core.display import HTML"
   ]
  },
  {
   "cell_type": "code",
   "execution_count": 76,
   "id": "30e6cb54",
   "metadata": {},
   "outputs": [],
   "source": [
    "model_2 = 'logpgp95 ~ avexpr'\n",
    "results_2 = smf.ols(model_2, data=base[base['baseco'] == 1]).fit(cov_type='HC1')"
   ]
  },
  {
   "cell_type": "code",
   "execution_count": 77,
   "id": "408a4c30",
   "metadata": {},
   "outputs": [],
   "source": [
    "model_3 = 'logpgp95 ~ avexpr + lat_abst'\n",
    "results_3 = smf.ols(model_3, data=base).fit(cov_type='HC1')"
   ]
  },
  {
   "cell_type": "code",
   "execution_count": 78,
   "id": "2df1b6ba",
   "metadata": {},
   "outputs": [],
   "source": [
    "model_4 = 'logpgp95 ~ avexpr + lat_abst + africa + asia + other'\n",
    "results_4 = smf.ols(model_3, data=base).fit(cov_type='HC1')"
   ]
  },
  {
   "cell_type": "code",
   "execution_count": 79,
   "id": "519773b0",
   "metadata": {},
   "outputs": [],
   "source": [
    "model_5 = 'logpgp95 ~ avexpr + lat_abst'\n",
    "results_5 = smf.ols(model_2, data=base[base['baseco'] == 1]).fit(cov_type='HC1')"
   ]
  },
  {
   "cell_type": "code",
   "execution_count": 80,
   "id": "d0b73503",
   "metadata": {},
   "outputs": [],
   "source": [
    "model_6 = 'logpgp95 ~ avexpr + lat_abst + africa + asia + other'\n",
    "results_6 = smf.ols(model_3, data=base[base['baseco'] == 1]).fit(cov_type='HC1')"
   ]
  },
  {
   "cell_type": "code",
   "execution_count": 81,
   "id": "e9e01a42",
   "metadata": {},
   "outputs": [],
   "source": [
    "model_7 = 'logpgp95 ~ loghjypl'\n",
    "results_7 = smf.ols(model_1, data=base).fit(cov_type='HC1')"
   ]
  },
  {
   "cell_type": "code",
   "execution_count": 82,
   "id": "9fcd6777",
   "metadata": {},
   "outputs": [],
   "source": [
    "model_8 = 'logpgp95 ~ loghjypl'\n",
    "results_8 = smf.ols(model_2, data=base[base['baseco'] == 1]).fit(cov_type='HC1')"
   ]
  },
  {
   "cell_type": "code",
   "execution_count": 109,
   "id": "58f41642",
   "metadata": {},
   "outputs": [
    {
     "ename": "NameError",
     "evalue": "name 'Stargazer' is not defined",
     "output_type": "error",
     "traceback": [
      "\u001b[1;31m---------------------------------------------------------------------------\u001b[0m",
      "\u001b[1;31mNameError\u001b[0m                                 Traceback (most recent call last)",
      "\u001b[1;32m~\\AppData\\Local\\Temp/ipykernel_2460/3512729052.py\u001b[0m in \u001b[0;36m<module>\u001b[1;34m\u001b[0m\n\u001b[1;32m----> 1\u001b[1;33m \u001b[0mstargazer\u001b[0m \u001b[1;33m=\u001b[0m \u001b[0mStargazer\u001b[0m\u001b[1;33m(\u001b[0m\u001b[1;33m[\u001b[0m\u001b[0mresults_1\u001b[0m\u001b[1;33m,\u001b[0m \u001b[0mresults_2\u001b[0m\u001b[1;33m,\u001b[0m \u001b[0mresults_3\u001b[0m\u001b[1;33m,\u001b[0m \u001b[0mresults_4\u001b[0m\u001b[1;33m,\u001b[0m \u001b[0mresults_5\u001b[0m\u001b[1;33m,\u001b[0m \u001b[0mresults_6\u001b[0m\u001b[1;33m,\u001b[0m \u001b[0mresults_7\u001b[0m\u001b[1;33m,\u001b[0m \u001b[0mresults_8\u001b[0m\u001b[1;33m]\u001b[0m\u001b[1;33m)\u001b[0m\u001b[1;33m\u001b[0m\u001b[1;33m\u001b[0m\u001b[0m\n\u001b[0m\u001b[0;32m      2\u001b[0m \u001b[0mHTML\u001b[0m\u001b[1;33m(\u001b[0m\u001b[0mstargazer\u001b[0m\u001b[1;33m.\u001b[0m\u001b[0mrender_html\u001b[0m\u001b[1;33m(\u001b[0m\u001b[1;33m)\u001b[0m\u001b[1;33m)\u001b[0m\u001b[1;33m\u001b[0m\u001b[1;33m\u001b[0m\u001b[0m\n",
      "\u001b[1;31mNameError\u001b[0m: name 'Stargazer' is not defined"
     ]
    }
   ],
   "source": [
    "stargazer = Stargazer([results_1, results_2, results_3, results_4, results_5, results_6, results_7, results_8])\n",
    "HTML(stargazer.render_html())"
   ]
  },
  {
   "cell_type": "markdown",
   "id": "de5c8fe8",
   "metadata": {},
   "source": [
    "There is a strong correlation between the measure of the institutions (average protection against expropriation) and per capita income, in the eight groups evaluated, all except one exceed 0.5, which demonstrates to a certain degree the relationship studied. Also, note that there are atypical cases where their squared r even exceeds 0.7, this happens in group 1 of Whole world and in group Whole world 4.\n",
    "\n",
    "However, if the relationship between the dependent variable of the log output per worker in 1988 and the average risk of expropriation is observed, unreliable data is observed since its r square has the numbers closest to zero."
   ]
  }
 ],
 "metadata": {
  "kernelspec": {
   "display_name": "Python 3 (ipykernel)",
   "language": "python",
   "name": "python3"
  },
  "language_info": {
   "codemirror_mode": {
    "name": "ipython",
    "version": 3
   },
   "file_extension": ".py",
   "mimetype": "text/x-python",
   "name": "python",
   "nbconvert_exporter": "python",
   "pygments_lexer": "ipython3",
   "version": "3.9.7"
  }
 },
 "nbformat": 4,
 "nbformat_minor": 5
}
