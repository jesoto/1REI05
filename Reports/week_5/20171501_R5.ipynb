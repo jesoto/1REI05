{
 "cells": [
  {
   "cell_type": "markdown",
   "id": "271851e5",
   "metadata": {},
   "source": [
    "# Report 5 "
   ]
  },
  {
   "cell_type": "markdown",
   "id": "4b7cd541",
   "metadata": {},
   "source": [
    "The article analyses how the raise of minimum wage has affected Peruvian experience between 2000-2010. Jaramillo studies the effects of this increment on income and employment rate, explaining that, as the international studies has commonly been non conclusive and in Peru there’re not that much papers about, he has found himself interested in this topic and intends to improve the area of investigation. \n",
    "\n",
    "The article results particularly interesting as in Latin America the political context is commonly the reason behind a decision to raise of the minimum wage, according to the author the RMV in Peru does not correspond to the average of salary in all the regions, he claims that it’s a political decision based only in the capital situation.Precisely because of this reasons, one of its strengths is that builds and illustrates the path of Peruvian minimum wage in a way that promote to continue the investigation, as the paper announces itself, there is much more issues to investigate. \n",
    "\n",
    "One of the weakness that we can find in the article is that does not mention how to deal with this situation, while it mentions the problem and what implicates that the RMV doesn’t work outside Lima, it also ignores how to deal with the problem in the regions, as a matter of public politics, and how to study further the topic.  \n",
    "\n",
    "I consider that one of the nexts steps that needs to be the analisis is the last raise of the minimum wage, the increase in the middle of the pandemic should be one of the principal topics to study, as the increase has been made reacting to the inflation and for an improvised government that can barely handle what we can identify until now as the end of the pandemic. In addition i consider that we would need to look after the possible apparition of natural experiments that allow us to study the differential effect for the minimum wage, because Peru has a much bigger population that doesn’t works legally it wouldn’t result as helpful to imitate other countries, having that in count further investigation would be a necessity. \n"
   ]
  },
  {
   "cell_type": "code",
   "execution_count": 23,
   "id": "711c4713",
   "metadata": {},
   "outputs": [],
   "source": [
    "import numpy as np\n",
    "import pandas as pd\n",
    "import matplotlib.pyplot as plt\n",
    "import warnings \n",
    "import seaborn as sns\n",
    "import statistics\n",
    "import seaborn as sns"
   ]
  },
  {
   "cell_type": "code",
   "execution_count": 60,
   "id": "ab44a78d",
   "metadata": {},
   "outputs": [
    {
     "data": {
      "text/plain": [
       "<bound method NDFrame.describe of                longname shortnam  logmort0       risk     loggdp  campaign  \\\n",
       "0            Bangladesh      BGD  4.268438   5.140000   6.880000         1   \n",
       "1                Canada      CAN  2.778819   9.729999   9.990000         0   \n",
       "2                 Congo      COG  5.480639   4.680000   7.420000         0   \n",
       "3               Algeria      DZA  4.359270   6.500000   8.390000         1   \n",
       "4                 Egypt      EGY  4.216562   6.770000   7.950000         1   \n",
       "5              Ethiopia      ETH  3.258097   5.730000   6.110000         1   \n",
       "6                 Ghana      GHA  6.504288   6.270000   7.370000         1   \n",
       "7                Gambia      GMB  7.293018   8.270001   7.270000         1   \n",
       "8             Indonesia      IDN  5.135798   7.590000   7.330000         1   \n",
       "9                 India      IND  3.884241   8.270001   7.330000         0   \n",
       "10              Jamaica      JAM  4.867535   7.090000   8.190000         0   \n",
       "11                Kenya      KEN  4.976734   6.050000   7.060000         0   \n",
       "12            Sri Lanka      LKA  4.245634   6.050000   7.730000         0   \n",
       "13           Madagascar      MDG  6.284209   4.450000   6.840000         1   \n",
       "14               Mexico      MEX  4.262680   7.500000   8.940000         1   \n",
       "15                 Mali      MLI  7.986165   4.000000   6.570000         1   \n",
       "16                Malta      MLT  2.791165   7.230000   9.430000         0   \n",
       "17             Malaysia      MYS  2.873565   7.950000   8.890000         0   \n",
       "18              Nigeria      NGA  7.602900   5.550000   6.810000         1   \n",
       "19          New Zealand      NZL  2.145931   9.729999   9.760000         0   \n",
       "20                Sudan      SDN  4.479607   4.000000   7.310000         1   \n",
       "21              Senegal      SEN  5.103883   6.000000   7.400000         0   \n",
       "22         Sierra Leone      SLE  6.180016   5.820000   6.250000         1   \n",
       "23  Trinidad and Tobago      TTO  4.442651   7.450000   8.770001         0   \n",
       "24              Tunisia      TUN  4.143135   6.450000   8.479999         1   \n",
       "25                  USA      USA  2.708050  10.000000  10.220000         0   \n",
       "26              Vietnam      VNM  4.941642   6.410000   7.280000         1   \n",
       "27         South Africa      ZAF  2.740840   6.860000   8.890000         0   \n",
       "\n",
       "    source0  slave  latitude  neoeuro  ...  logmortjam  logmortcap250  \\\n",
       "0         1      0    0.2667        0  ...    4.268438       4.268438   \n",
       "1         1      0    0.6667        1  ...    2.778819       2.778819   \n",
       "2         1      1    0.0111        0  ...    5.480639       5.480639   \n",
       "3         1      0    0.3111        0  ...    4.359270       4.359270   \n",
       "4         1      0    0.3000        0  ...    4.216562       4.216562   \n",
       "5         1      0    0.0889        0  ...    3.258097       3.258097   \n",
       "6         1      0    0.0889        0  ...    6.504288       5.521461   \n",
       "7         1      0    0.1476        0  ...    7.293018       5.521461   \n",
       "8         1      0    0.0556        0  ...    5.135798       5.135798   \n",
       "9         1      0    0.2222        0  ...    3.884241       3.884241   \n",
       "10        1      0    0.2017        0  ...    4.867535       4.867535   \n",
       "11        1      1    0.0111        0  ...    4.976734       4.976734   \n",
       "12        1      0    0.0778        0  ...    4.245634       4.245634   \n",
       "13        1      0    0.2222        0  ...    6.284209       5.521461   \n",
       "14        1      0    0.2556        0  ...    4.262680       4.262680   \n",
       "15        1      0    0.1889        0  ...    7.986165       5.521461   \n",
       "16        1      0    0.3944        0  ...    2.791165       2.791165   \n",
       "17        1      0    0.0256        0  ...    2.873565       2.873565   \n",
       "18        1      0    0.1111        0  ...    7.602900       5.521461   \n",
       "19        1      0    0.4556        1  ...    2.145931       2.145931   \n",
       "20        1      0    0.1667        0  ...    4.479607       4.479607   \n",
       "21        1      0    0.1556        0  ...    5.103883       5.103883   \n",
       "22        1      0    0.0922        0  ...    6.180016       5.521461   \n",
       "23        1      0    0.1222        0  ...    4.442651       4.442651   \n",
       "24        1      0    0.3778        0  ...    4.143135       4.143135   \n",
       "25        1      0    0.4222        1  ...    2.708050       2.708050   \n",
       "26        1      0    0.1778        0  ...    4.941642       4.941642   \n",
       "27        1      0    0.3222        0  ...    2.740840       2.740840   \n",
       "\n",
       "    logmortjam250  wandcafrica  malfal94  wacacontested  mortnaval2250  \\\n",
       "0        4.268438            0   0.12008              0      71.410004   \n",
       "1        2.778819            0   0.00000              0      16.100000   \n",
       "2        5.480639            1   0.95000              0     240.000000   \n",
       "3        4.359270            0   0.00000              0      78.199997   \n",
       "4        4.216562            0   0.00000              0      67.800003   \n",
       "5        3.258097            1   0.55100              0      26.000000   \n",
       "6        5.521461            1   0.95000              0     250.000000   \n",
       "7        5.521461            1   0.95000              0     250.000000   \n",
       "8        5.135798            0   0.17873              0     170.000000   \n",
       "9        3.884241            0   0.23596              0      48.630001   \n",
       "10       4.867535            0   0.00000              0     130.000000   \n",
       "11       4.976734            1   0.79800              0     145.000000   \n",
       "12       4.245634            0   0.13800              0      69.800003   \n",
       "13       5.521461            1   0.95000              0     250.000000   \n",
       "14       4.262680            0   0.00042              0      71.000000   \n",
       "15       5.521461            1   0.94050              0     250.000000   \n",
       "16       2.791165            0       NaN              0      16.299999   \n",
       "17       2.873565            0   0.23331              0      17.700001   \n",
       "18       5.521461            1   0.95000              0     250.000000   \n",
       "19       2.145931            0   0.00000              0       8.550000   \n",
       "20       4.479607            1   0.93100              0      88.199997   \n",
       "21       5.103883            1   0.95000              0     164.660000   \n",
       "22       5.521461            1   0.95000              0     250.000000   \n",
       "23       4.442651            0   0.00000              0      85.000000   \n",
       "24       4.143135            0   0.00000              0      63.000000   \n",
       "25       2.708050            0   0.00000              0      15.000000   \n",
       "26       4.941642            0   0.70110              0     140.000000   \n",
       "27       2.740840            0   0.10450              0      15.500000   \n",
       "\n",
       "    logmortnaval2250  mortnaval1250  logmortnaval1250  \n",
       "0           4.268438      71.410004          4.268438  \n",
       "1           2.778819      16.100000          2.778819  \n",
       "2           5.480639     240.000000          5.480639  \n",
       "3           4.359270      78.199997          4.359270  \n",
       "4           4.216562      67.800003          4.216562  \n",
       "5           3.258097      26.000000          3.258097  \n",
       "6           5.521461     250.000000          5.521461  \n",
       "7           5.521461     250.000000          5.521461  \n",
       "8           5.135798     170.000000          5.135798  \n",
       "9           3.884241      48.630001          3.884241  \n",
       "10          4.867535     130.000000          4.867535  \n",
       "11          4.976734     145.000000          4.976734  \n",
       "12          4.245634      69.800003          4.245634  \n",
       "13          5.521461     250.000000          5.521461  \n",
       "14          4.262680      71.000000          4.262680  \n",
       "15          5.521461     250.000000          5.521461  \n",
       "16          2.791165      16.299999          2.791165  \n",
       "17          2.873565      17.700001          2.873565  \n",
       "18          5.521461     250.000000          5.521461  \n",
       "19          2.145931       8.550000          2.145931  \n",
       "20          4.479607      88.199997          4.479607  \n",
       "21          5.103883     164.660000          5.103883  \n",
       "22          5.521461     250.000000          5.521461  \n",
       "23          4.442651      85.000000          4.442651  \n",
       "24          4.143135      63.000000          4.143135  \n",
       "25          2.708050      15.000000          2.708050  \n",
       "26          4.941642     140.000000          4.941642  \n",
       "27          2.740840      15.500000          2.740840  \n",
       "\n",
       "[28 rows x 31 columns]>"
      ]
     },
     "execution_count": 60,
     "metadata": {},
     "output_type": "execute_result"
    }
   ],
   "source": [
    "data = pd.read_csv('C:/Users/DELL/Documents/GitHub/1REI05/Reports/data/acemoglu_2001.csv')\n",
    "data.describe"
   ]
  },
  {
   "cell_type": "code",
   "execution_count": 105,
   "id": "e3f8549f",
   "metadata": {},
   "outputs": [
    {
     "data": {
      "text/plain": [
       "<Figure size 3600x3600 with 0 Axes>"
      ]
     },
     "metadata": {},
     "output_type": "display_data"
    },
    {
     "data": {
      "image/png": "[encoded data removed]",
      "text/plain": [
       "<Figure size 360x360 with 1 Axes>"
      ]
     },
     "metadata": {},
     "output_type": "display_data"
    }
   ],
   "source": [
    "plt_1 = plt.figure(figsize=(50,50)) \n",
    "plt_1 = sns.lmplot(x = 'logmort0', y= 'risk', data=data)\n",
    "plt.title('First-Step Relationship Between Setler Mortality and Expropriation Risk') \n",
    "plt.xlabel('Log of Settler Mortality ')\n",
    "plt.ylabel('Average Expropiation Risk 1985-95')\n",
    "plt.show()\n"
   ]
  },
  {
   "cell_type": "markdown",
   "id": "6ae55367",
   "metadata": {},
   "source": [
    "# Part2:\n"
   ]
  },
  {
   "cell_type": "code",
   "execution_count": 80,
   "id": "80d00a97",
   "metadata": {
    "scrolled": true
   },
   "outputs": [
    {
     "data": {
      "text/html": [
       "<div>\n",
       "<style scoped>\n",
       "    .dataframe tbody tr th:only-of-type {\n",
       "        vertical-align: middle;\n",
       "    }\n",
       "\n",
       "    .dataframe tbody tr th {\n",
       "        vertical-align: top;\n",
       "    }\n",
       "\n",
       "    .dataframe thead th {\n",
       "        text-align: right;\n",
       "    }\n",
       "</style>\n",
       "<table border=\"1\" class=\"dataframe\">\n",
       "  <thead>\n",
       "    <tr style=\"text-align: right;\">\n",
       "      <th></th>\n",
       "      <th>africa</th>\n",
       "      <th>lat_abst</th>\n",
       "      <th>avexpr</th>\n",
       "      <th>logpgp95</th>\n",
       "      <th>other</th>\n",
       "      <th>asia</th>\n",
       "      <th>loghjypl</th>\n",
       "      <th>baseco</th>\n",
       "    </tr>\n",
       "  </thead>\n",
       "  <tbody>\n",
       "    <tr>\n",
       "      <th>count</th>\n",
       "      <td>163.000000</td>\n",
       "      <td>162.000000</td>\n",
       "      <td>121.000000</td>\n",
       "      <td>148.000000</td>\n",
       "      <td>163.000000</td>\n",
       "      <td>163.000000</td>\n",
       "      <td>123.000000</td>\n",
       "      <td>64.0</td>\n",
       "    </tr>\n",
       "    <tr>\n",
       "      <th>mean</th>\n",
       "      <td>0.306748</td>\n",
       "      <td>0.295550</td>\n",
       "      <td>7.066491</td>\n",
       "      <td>8.302509</td>\n",
       "      <td>0.024540</td>\n",
       "      <td>0.257669</td>\n",
       "      <td>-1.731106</td>\n",
       "      <td>1.0</td>\n",
       "    </tr>\n",
       "    <tr>\n",
       "      <th>std</th>\n",
       "      <td>0.462565</td>\n",
       "      <td>0.190379</td>\n",
       "      <td>1.804287</td>\n",
       "      <td>1.105342</td>\n",
       "      <td>0.155195</td>\n",
       "      <td>0.438698</td>\n",
       "      <td>1.083726</td>\n",
       "      <td>0.0</td>\n",
       "    </tr>\n",
       "    <tr>\n",
       "      <th>min</th>\n",
       "      <td>0.000000</td>\n",
       "      <td>0.000000</td>\n",
       "      <td>1.636364</td>\n",
       "      <td>6.109248</td>\n",
       "      <td>0.000000</td>\n",
       "      <td>0.000000</td>\n",
       "      <td>-3.540459</td>\n",
       "      <td>1.0</td>\n",
       "    </tr>\n",
       "    <tr>\n",
       "      <th>25%</th>\n",
       "      <td>0.000000</td>\n",
       "      <td>0.144444</td>\n",
       "      <td>5.886363</td>\n",
       "      <td>7.376192</td>\n",
       "      <td>0.000000</td>\n",
       "      <td>0.000000</td>\n",
       "      <td>-2.741120</td>\n",
       "      <td>1.0</td>\n",
       "    </tr>\n",
       "    <tr>\n",
       "      <th>50%</th>\n",
       "      <td>0.000000</td>\n",
       "      <td>0.266667</td>\n",
       "      <td>7.045454</td>\n",
       "      <td>8.265764</td>\n",
       "      <td>0.000000</td>\n",
       "      <td>0.000000</td>\n",
       "      <td>-1.560648</td>\n",
       "      <td>1.0</td>\n",
       "    </tr>\n",
       "    <tr>\n",
       "      <th>75%</th>\n",
       "      <td>1.000000</td>\n",
       "      <td>0.446944</td>\n",
       "      <td>8.272727</td>\n",
       "      <td>9.216229</td>\n",
       "      <td>0.000000</td>\n",
       "      <td>1.000000</td>\n",
       "      <td>-0.831277</td>\n",
       "      <td>1.0</td>\n",
       "    </tr>\n",
       "    <tr>\n",
       "      <th>max</th>\n",
       "      <td>1.000000</td>\n",
       "      <td>0.722222</td>\n",
       "      <td>10.000000</td>\n",
       "      <td>10.288750</td>\n",
       "      <td>1.000000</td>\n",
       "      <td>1.000000</td>\n",
       "      <td>0.000000</td>\n",
       "      <td>1.0</td>\n",
       "    </tr>\n",
       "  </tbody>\n",
       "</table>\n",
       "</div>"
      ],
      "text/plain": [
       "           africa    lat_abst      avexpr    logpgp95       other        asia  \\\n",
       "count  163.000000  162.000000  121.000000  148.000000  163.000000  163.000000   \n",
       "mean     0.306748    0.295550    7.066491    8.302509    0.024540    0.257669   \n",
       "std      0.462565    0.190379    1.804287    1.105342    0.155195    0.438698   \n",
       "min      0.000000    0.000000    1.636364    6.109248    0.000000    0.000000   \n",
       "25%      0.000000    0.144444    5.886363    7.376192    0.000000    0.000000   \n",
       "50%      0.000000    0.266667    7.045454    8.265764    0.000000    0.000000   \n",
       "75%      1.000000    0.446944    8.272727    9.216229    0.000000    1.000000   \n",
       "max      1.000000    0.722222   10.000000   10.288750    1.000000    1.000000   \n",
       "\n",
       "         loghjypl  baseco  \n",
       "count  123.000000    64.0  \n",
       "mean    -1.731106     1.0  \n",
       "std      1.083726     0.0  \n",
       "min     -3.540459     1.0  \n",
       "25%     -2.741120     1.0  \n",
       "50%     -1.560648     1.0  \n",
       "75%     -0.831277     1.0  \n",
       "max      0.000000     1.0  "
      ]
     },
     "execution_count": 80,
     "metadata": {},
     "output_type": "execute_result"
    }
   ],
   "source": [
    "import pandas as pd\n",
    "import statsmodels.formula.api as smf\n",
    "data2=pd.read_csv('C:/Users/DELL/Documents/GitHub/1REI05/Reports/data/acemoglu_2001_regression.csv')\n",
    "data2.describe()\n"
   ]
  },
  {
   "cell_type": "code",
   "execution_count": 100,
   "id": "5efd15cf",
   "metadata": {},
   "outputs": [],
   "source": [
    " "
   ]
  },
  {
   "cell_type": "markdown",
   "id": "33ac9cce",
   "metadata": {},
   "source": [
    "## Tablas"
   ]
  },
  {
   "cell_type": "code",
   "execution_count": 108,
   "id": "a4234c7d",
   "metadata": {},
   "outputs": [
    {
     "name": "stdout",
     "output_type": "stream",
     "text": [
      "                            OLS Regression Results                            \n",
      "==============================================================================\n",
      "Dep. Variable:               logpgp95   R-squared:                       0.611\n",
      "Model:                            OLS   Adj. R-squared:                  0.608\n",
      "Method:                 Least Squares   F-statistic:                     334.8\n",
      "Date:                Sat, 07 May 2022   Prob (F-statistic):           5.14e-35\n",
      "Time:                        17:49:25   Log-Likelihood:                -119.71\n",
      "No. Observations:                 111   AIC:                             243.4\n",
      "Df Residuals:                     109   BIC:                             248.8\n",
      "Df Model:                           1                                         \n",
      "Covariance Type:                  HC1                                         \n",
      "==============================================================================\n",
      "                 coef    std err          z      P>|z|      [0.025      0.975]\n",
      "------------------------------------------------------------------------------\n",
      "Intercept      4.6261      0.241     19.222      0.000       4.154       5.098\n",
      "avexpr         0.5319      0.029     18.297      0.000       0.475       0.589\n",
      "==============================================================================\n",
      "Omnibus:                        9.251   Durbin-Watson:                   1.689\n",
      "Prob(Omnibus):                  0.010   Jarque-Bera (JB):                9.170\n",
      "Skew:                          -0.680   Prob(JB):                       0.0102\n",
      "Kurtosis:                       3.362   Cond. No.                         33.2\n",
      "==============================================================================\n",
      "\n",
      "Notes:\n",
      "[1] Standard Errors are heteroscedasticity robust (HC1)\n"
     ]
    }
   ],
   "source": [
    "model_1= 'logpgp95 ~ avexpr'\n",
    "result1 = smf.ols(model_1, data=data2).fit(cov_type='HC1')\n",
    "print(result1.summary())"
   ]
  },
  {
   "cell_type": "code",
   "execution_count": 113,
   "id": "c31e8f1c",
   "metadata": {},
   "outputs": [
    {
     "name": "stdout",
     "output_type": "stream",
     "text": [
      "                            OLS Regression Results                            \n",
      "==============================================================================\n",
      "Dep. Variable:               logpgp95   R-squared:                       0.540\n",
      "Model:                            OLS   Adj. R-squared:                  0.533\n",
      "Method:                 Least Squares   F-statistic:                     109.4\n",
      "Date:                Sat, 07 May 2022   Prob (F-statistic):           2.57e-15\n",
      "Time:                        17:54:29   Log-Likelihood:                -68.168\n",
      "No. Observations:                  64   AIC:                             140.3\n",
      "Df Residuals:                      62   BIC:                             144.7\n",
      "Df Model:                           1                                         \n",
      "Covariance Type:                  HC1                                         \n",
      "==============================================================================\n",
      "                 coef    std err          z      P>|z|      [0.025      0.975]\n",
      "------------------------------------------------------------------------------\n",
      "Intercept      4.6604      0.320     14.558      0.000       4.033       5.288\n",
      "avexpr         0.5221      0.050     10.458      0.000       0.424       0.620\n",
      "==============================================================================\n",
      "Omnibus:                        7.098   Durbin-Watson:                   2.064\n",
      "Prob(Omnibus):                  0.029   Jarque-Bera (JB):                6.657\n",
      "Skew:                          -0.781   Prob(JB):                       0.0358\n",
      "Kurtosis:                       3.234   Cond. No.                         31.2\n",
      "==============================================================================\n",
      "\n",
      "Notes:\n",
      "[1] Standard Errors are heteroscedasticity robust (HC1)\n"
     ]
    }
   ],
   "source": [
    "model_2= 'logpgp95 ~ avexpr'\n",
    "basic_results2 = smf.ols(model_2, data=data2[data2['baseco']==1.0]).fit(cov_type='HC1') \n",
    "print(basic_results2.summary())"
   ]
  },
  {
   "cell_type": "code",
   "execution_count": 114,
   "id": "1890b48e",
   "metadata": {},
   "outputs": [
    {
     "name": "stdout",
     "output_type": "stream",
     "text": [
      "                            OLS Regression Results                            \n",
      "==============================================================================\n",
      "Dep. Variable:               logpgp95   R-squared:                       0.574\n",
      "Model:                            OLS   Adj. R-squared:                  0.561\n",
      "Method:                 Least Squares   F-statistic:                     64.91\n",
      "Date:                Sat, 07 May 2022   Prob (F-statistic):           7.83e-16\n",
      "Time:                        17:56:50   Log-Likelihood:                -65.681\n",
      "No. Observations:                  64   AIC:                             137.4\n",
      "Df Residuals:                      61   BIC:                             143.8\n",
      "Df Model:                           2                                         \n",
      "Covariance Type:                  HC1                                         \n",
      "==============================================================================\n",
      "                 coef    std err          z      P>|z|      [0.025      0.975]\n",
      "------------------------------------------------------------------------------\n",
      "Intercept      4.7281      0.341     13.850      0.000       4.059       5.397\n",
      "avexpr         0.4679      0.063      7.465      0.000       0.345       0.591\n",
      "lat_abst       1.5769      0.651      2.424      0.015       0.302       2.852\n",
      "==============================================================================\n",
      "Omnibus:                        4.588   Durbin-Watson:                   2.183\n",
      "Prob(Omnibus):                  0.101   Jarque-Bera (JB):                4.302\n",
      "Skew:                          -0.634   Prob(JB):                        0.116\n",
      "Kurtosis:                       2.933   Cond. No.                         55.6\n",
      "==============================================================================\n",
      "\n",
      "Notes:\n",
      "[1] Standard Errors are heteroscedasticity robust (HC1)\n"
     ]
    }
   ],
   "source": [
    "model_3= 'logpgp95 ~ avexpr+lat_abst'\n",
    "results3 = smf.ols(model_3, data=data2[data2['baseco']==1.0]).fit(cov_type='HC1')\n",
    "print(results3.summary())"
   ]
  },
  {
   "cell_type": "code",
   "execution_count": null,
   "id": "11533c7c",
   "metadata": {},
   "outputs": [],
   "source": []
  },
  {
   "cell_type": "code",
   "execution_count": 115,
   "id": "98a7d21a",
   "metadata": {},
   "outputs": [
    {
     "name": "stdout",
     "output_type": "stream",
     "text": [
      "                            OLS Regression Results                            \n",
      "==============================================================================\n",
      "Dep. Variable:               logpgp95   R-squared:                       0.715\n",
      "Model:                            OLS   Adj. R-squared:                  0.702\n",
      "Method:                 Least Squares   F-statistic:                     97.09\n",
      "Date:                Sat, 07 May 2022   Prob (F-statistic):           9.39e-38\n",
      "Time:                        17:56:55   Log-Likelihood:                -102.45\n",
      "No. Observations:                 111   AIC:                             216.9\n",
      "Df Residuals:                     105   BIC:                             233.2\n",
      "Df Model:                           5                                         \n",
      "Covariance Type:                  HC1                                         \n",
      "==============================================================================\n",
      "                 coef    std err          z      P>|z|      [0.025      0.975]\n",
      "------------------------------------------------------------------------------\n",
      "Intercept      5.8511      0.293     19.936      0.000       5.276       6.426\n",
      "avexpr         0.3896      0.051      7.638      0.000       0.290       0.490\n",
      "lat_abst       0.3326      0.442      0.752      0.452      -0.535       1.200\n",
      "africa        -0.9164      0.154     -5.946      0.000      -1.218      -0.614\n",
      "asia          -0.1531      0.181     -0.848      0.396      -0.507       0.201\n",
      "other          0.3035      0.174      1.741      0.082      -0.038       0.645\n",
      "==============================================================================\n",
      "Omnibus:                        4.342   Durbin-Watson:                   1.865\n",
      "Prob(Omnibus):                  0.114   Jarque-Bera (JB):                3.936\n",
      "Skew:                          -0.457   Prob(JB):                        0.140\n",
      "Kurtosis:                       3.126   Cond. No.                         58.2\n",
      "==============================================================================\n",
      "\n",
      "Notes:\n",
      "[1] Standard Errors are heteroscedasticity robust (HC1)\n"
     ]
    }
   ],
   "source": [
    "model_4= 'logpgp95 ~ avexpr+lat_abst+africa+asia+other'\n",
    "results4 = smf.ols(model_4, data=data2).fit(cov_type='HC1')\n",
    "print(results4.summary())"
   ]
  },
  {
   "cell_type": "code",
   "execution_count": null,
   "id": "495db22e",
   "metadata": {},
   "outputs": [],
   "source": []
  },
  {
   "cell_type": "code",
   "execution_count": 116,
   "id": "d4f3abfd",
   "metadata": {},
   "outputs": [
    {
     "name": "stdout",
     "output_type": "stream",
     "text": [
      "                            OLS Regression Results                            \n",
      "==============================================================================\n",
      "Dep. Variable:               logpgp95   R-squared:                       0.574\n",
      "Model:                            OLS   Adj. R-squared:                  0.561\n",
      "Method:                 Least Squares   F-statistic:                     64.91\n",
      "Date:                Sat, 07 May 2022   Prob (F-statistic):           7.83e-16\n",
      "Time:                        17:57:41   Log-Likelihood:                -65.681\n",
      "No. Observations:                  64   AIC:                             137.4\n",
      "Df Residuals:                      61   BIC:                             143.8\n",
      "Df Model:                           2                                         \n",
      "Covariance Type:                  HC1                                         \n",
      "==============================================================================\n",
      "                 coef    std err          z      P>|z|      [0.025      0.975]\n",
      "------------------------------------------------------------------------------\n",
      "Intercept      4.7281      0.341     13.850      0.000       4.059       5.397\n",
      "avexpr         0.4679      0.063      7.465      0.000       0.345       0.591\n",
      "lat_abst       1.5769      0.651      2.424      0.015       0.302       2.852\n",
      "==============================================================================\n",
      "Omnibus:                        4.588   Durbin-Watson:                   2.183\n",
      "Prob(Omnibus):                  0.101   Jarque-Bera (JB):                4.302\n",
      "Skew:                          -0.634   Prob(JB):                        0.116\n",
      "Kurtosis:                       2.933   Cond. No.                         55.6\n",
      "==============================================================================\n",
      "\n",
      "Notes:\n",
      "[1] Standard Errors are heteroscedasticity robust (HC1)\n"
     ]
    }
   ],
   "source": [
    "model_5= 'logpgp95 ~ avexpr+lat_abst'\n",
    "results5 = smf.ols(model_5, data=data2[data2['baseco']==1.0]).fit(cov_type='HC1')  \n",
    "print(results5.summary())"
   ]
  },
  {
   "cell_type": "code",
   "execution_count": 117,
   "id": "ec1569bd",
   "metadata": {},
   "outputs": [
    {
     "name": "stdout",
     "output_type": "stream",
     "text": [
      "                            OLS Regression Results                            \n",
      "==============================================================================\n",
      "Dep. Variable:               logpgp95   R-squared:                       0.714\n",
      "Model:                            OLS   Adj. R-squared:                  0.689\n",
      "Method:                 Least Squares   F-statistic:                     53.79\n",
      "Date:                Sat, 07 May 2022   Prob (F-statistic):           1.57e-20\n",
      "Time:                        17:57:45   Log-Likelihood:                -52.979\n",
      "No. Observations:                  64   AIC:                             118.0\n",
      "Df Residuals:                      58   BIC:                             130.9\n",
      "Df Model:                           5                                         \n",
      "Covariance Type:                  HC1                                         \n",
      "==============================================================================\n",
      "                 coef    std err          z      P>|z|      [0.025      0.975]\n",
      "------------------------------------------------------------------------------\n",
      "Intercept      5.7367      0.389     14.735      0.000       4.974       6.500\n",
      "avexpr         0.4013      0.064      6.264      0.000       0.276       0.527\n",
      "lat_abst       0.8753      0.614      1.425      0.154      -0.329       2.079\n",
      "africa        -0.8807      0.156     -5.663      0.000      -1.186      -0.576\n",
      "asia          -0.5768      0.299     -1.928      0.054      -1.163       0.010\n",
      "other          0.1072      0.223      0.481      0.631      -0.330       0.544\n",
      "==============================================================================\n",
      "Omnibus:                        1.057   Durbin-Watson:                   2.347\n",
      "Prob(Omnibus):                  0.589   Jarque-Bera (JB):                0.448\n",
      "Skew:                          -0.073   Prob(JB):                        0.799\n",
      "Kurtosis:                       3.383   Cond. No.                         59.4\n",
      "==============================================================================\n",
      "\n",
      "Notes:\n",
      "[1] Standard Errors are heteroscedasticity robust (HC1)\n"
     ]
    }
   ],
   "source": [
    "model_6= 'logpgp95 ~ avexpr+lat_abst+africa+asia+other'\n",
    "results6 = smf.ols(model_6, data=data2[data2['baseco']==1.0]).fit(cov_type='HC1') \n",
    "print(results6.summary())"
   ]
  },
  {
   "cell_type": "code",
   "execution_count": 118,
   "id": "93179600",
   "metadata": {},
   "outputs": [
    {
     "name": "stdout",
     "output_type": "stream",
     "text": [
      "                            OLS Regression Results                            \n",
      "==============================================================================\n",
      "Dep. Variable:               logpgp95   R-squared:                       0.715\n",
      "Model:                            OLS   Adj. R-squared:                  0.702\n",
      "Method:                 Least Squares   F-statistic:                     97.09\n",
      "Date:                Sat, 07 May 2022   Prob (F-statistic):           9.39e-38\n",
      "Time:                        17:57:48   Log-Likelihood:                -102.45\n",
      "No. Observations:                 111   AIC:                             216.9\n",
      "Df Residuals:                     105   BIC:                             233.2\n",
      "Df Model:                           5                                         \n",
      "Covariance Type:                  HC1                                         \n",
      "==============================================================================\n",
      "                 coef    std err          z      P>|z|      [0.025      0.975]\n",
      "------------------------------------------------------------------------------\n",
      "Intercept      5.8511      0.293     19.936      0.000       5.276       6.426\n",
      "avexpr         0.3896      0.051      7.638      0.000       0.290       0.490\n",
      "lat_abst       0.3326      0.442      0.752      0.452      -0.535       1.200\n",
      "africa        -0.9164      0.154     -5.946      0.000      -1.218      -0.614\n",
      "asia          -0.1531      0.181     -0.848      0.396      -0.507       0.201\n",
      "other          0.3035      0.174      1.741      0.082      -0.038       0.645\n",
      "==============================================================================\n",
      "Omnibus:                        4.342   Durbin-Watson:                   1.865\n",
      "Prob(Omnibus):                  0.114   Jarque-Bera (JB):                3.936\n",
      "Skew:                          -0.457   Prob(JB):                        0.140\n",
      "Kurtosis:                       3.126   Cond. No.                         58.2\n",
      "==============================================================================\n",
      "\n",
      "Notes:\n",
      "[1] Standard Errors are heteroscedasticity robust (HC1)\n"
     ]
    }
   ],
   "source": [
    "model_7= 'logpgp95 ~ avexpr+lat_abst+africa+asia+other'\n",
    "results7 = smf.ols(model_7, data=data2).fit(cov_type='HC1')\n",
    "print(results7.summary())"
   ]
  },
  {
   "cell_type": "code",
   "execution_count": 119,
   "id": "a59d6999",
   "metadata": {},
   "outputs": [
    {
     "name": "stdout",
     "output_type": "stream",
     "text": [
      "                            OLS Regression Results                            \n",
      "==============================================================================\n",
      "Dep. Variable:               logpgp95   R-squared:                       0.854\n",
      "Model:                            OLS   Adj. R-squared:                  0.852\n",
      "Method:                 Least Squares   F-statistic:                     351.5\n",
      "Date:                Sat, 07 May 2022   Prob (F-statistic):           1.57e-26\n",
      "Time:                        17:57:51   Log-Likelihood:                -28.638\n",
      "No. Observations:                  61   AIC:                             61.28\n",
      "Df Residuals:                      59   BIC:                             65.50\n",
      "Df Model:                           1                                         \n",
      "Covariance Type:                  HC1                                         \n",
      "==============================================================================\n",
      "                 coef    std err          z      P>|z|      [0.025      0.975]\n",
      "------------------------------------------------------------------------------\n",
      "Intercept      9.9490      0.101     98.476      0.000       9.751      10.147\n",
      "loghjypl       0.9627      0.051     18.747      0.000       0.862       1.063\n",
      "==============================================================================\n",
      "Omnibus:                        3.336   Durbin-Watson:                   2.132\n",
      "Prob(Omnibus):                  0.189   Jarque-Bera (JB):                3.108\n",
      "Skew:                          -0.108   Prob(JB):                        0.211\n",
      "Kurtosis:                       4.085   Cond. No.                         5.67\n",
      "==============================================================================\n",
      "\n",
      "Notes:\n",
      "[1] Standard Errors are heteroscedasticity robust (HC1)\n"
     ]
    }
   ],
   "source": [
    "model_8= 'logpgp95 ~ loghjypl'\n",
    "results8 = smf.ols(model_8, data=data2[data2['baseco']==1.0]).fit(cov_type='HC1')\n",
    "print(results8.summary())"
   ]
  }
 ],
 "metadata": {
  "kernelspec": {
   "display_name": "Python 3 (ipykernel)",
   "language": "python",
   "name": "python3"
  },
  "language_info": {
   "codemirror_mode": {
    "name": "ipython",
    "version": 3
   },
   "file_extension": ".py",
   "mimetype": "text/x-python",
   "name": "python",
   "nbconvert_exporter": "python",
   "pygments_lexer": "ipython3",
   "version": "3.9.7"
  }
 },
 "nbformat": 4,
 "nbformat_minor": 5
}
