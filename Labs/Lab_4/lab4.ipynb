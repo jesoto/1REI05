{
 "cells": [
  {
   "cell_type": "markdown",
   "id": "92dba0ef",
   "metadata": {},
   "source": [
    "# Tarea 1: Ploteo de series"
   ]
  },
  {
   "cell_type": "code",
   "execution_count": 14,
   "id": "761b6522",
   "metadata": {},
   "outputs": [],
   "source": [
    "#cargamos librerias\n",
    "import pandas as pd\n",
    "import matplotlib.pyplot as plt\n",
    "import seaborn as sns"
   ]
  },
  {
   "cell_type": "code",
   "execution_count": 2,
   "id": "b395c5fa",
   "metadata": {},
   "outputs": [],
   "source": [
    "data = pd.read_excel('datos_bcrp.xlsx')"
   ]
  },
  {
   "cell_type": "code",
   "execution_count": 4,
   "id": "659b89ad",
   "metadata": {},
   "outputs": [
    {
     "data": {
      "text/html": [
       "<div>\n",
       "<style scoped>\n",
       "    .dataframe tbody tr th:only-of-type {\n",
       "        vertical-align: middle;\n",
       "    }\n",
       "\n",
       "    .dataframe tbody tr th {\n",
       "        vertical-align: top;\n",
       "    }\n",
       "\n",
       "    .dataframe thead th {\n",
       "        text-align: right;\n",
       "    }\n",
       "</style>\n",
       "<table border=\"1\" class=\"dataframe\">\n",
       "  <thead>\n",
       "    <tr style=\"text-align: right;\">\n",
       "      <th></th>\n",
       "      <th>fecha</th>\n",
       "      <th>PBI</th>\n",
       "      <th>poblacion</th>\n",
       "    </tr>\n",
       "  </thead>\n",
       "  <tbody>\n",
       "    <tr>\n",
       "      <th>0</th>\n",
       "      <td>1950</td>\n",
       "      <td>40920.0</td>\n",
       "      <td>7.632460e+06</td>\n",
       "    </tr>\n",
       "    <tr>\n",
       "      <th>1</th>\n",
       "      <td>1951</td>\n",
       "      <td>44711.0</td>\n",
       "      <td>7.826262e+06</td>\n",
       "    </tr>\n",
       "    <tr>\n",
       "      <th>2</th>\n",
       "      <td>1952</td>\n",
       "      <td>47347.0</td>\n",
       "      <td>8.025721e+06</td>\n",
       "    </tr>\n",
       "    <tr>\n",
       "      <th>3</th>\n",
       "      <td>1953</td>\n",
       "      <td>50085.0</td>\n",
       "      <td>8.232177e+06</td>\n",
       "    </tr>\n",
       "    <tr>\n",
       "      <th>4</th>\n",
       "      <td>1954</td>\n",
       "      <td>52762.0</td>\n",
       "      <td>8.446997e+06</td>\n",
       "    </tr>\n",
       "  </tbody>\n",
       "</table>\n",
       "</div>"
      ],
      "text/plain": [
       "   fecha      PBI     poblacion\n",
       "0   1950  40920.0  7.632460e+06\n",
       "1   1951  44711.0  7.826262e+06\n",
       "2   1952  47347.0  8.025721e+06\n",
       "3   1953  50085.0  8.232177e+06\n",
       "4   1954  52762.0  8.446997e+06"
      ]
     },
     "execution_count": 4,
     "metadata": {},
     "output_type": "execute_result"
    }
   ],
   "source": [
    "data.head()"
   ]
  },
  {
   "cell_type": "code",
   "execution_count": 5,
   "id": "5f046fd8",
   "metadata": {},
   "outputs": [
    {
     "data": {
      "text/html": [
       "<div>\n",
       "<style scoped>\n",
       "    .dataframe tbody tr th:only-of-type {\n",
       "        vertical-align: middle;\n",
       "    }\n",
       "\n",
       "    .dataframe tbody tr th {\n",
       "        vertical-align: top;\n",
       "    }\n",
       "\n",
       "    .dataframe thead th {\n",
       "        text-align: right;\n",
       "    }\n",
       "</style>\n",
       "<table border=\"1\" class=\"dataframe\">\n",
       "  <thead>\n",
       "    <tr style=\"text-align: right;\">\n",
       "      <th></th>\n",
       "      <th>fecha</th>\n",
       "      <th>PBI</th>\n",
       "      <th>poblacion</th>\n",
       "    </tr>\n",
       "  </thead>\n",
       "  <tbody>\n",
       "    <tr>\n",
       "      <th>count</th>\n",
       "      <td>70.000000</td>\n",
       "      <td>70.000000</td>\n",
       "      <td>7.000000e+01</td>\n",
       "    </tr>\n",
       "    <tr>\n",
       "      <th>mean</th>\n",
       "      <td>1984.500000</td>\n",
       "      <td>199705.073585</td>\n",
       "      <td>1.950144e+07</td>\n",
       "    </tr>\n",
       "    <tr>\n",
       "      <th>std</th>\n",
       "      <td>20.351085</td>\n",
       "      <td>133709.465531</td>\n",
       "      <td>7.883751e+06</td>\n",
       "    </tr>\n",
       "    <tr>\n",
       "      <th>min</th>\n",
       "      <td>1950.000000</td>\n",
       "      <td>40920.000000</td>\n",
       "      <td>7.632460e+06</td>\n",
       "    </tr>\n",
       "    <tr>\n",
       "      <th>25%</th>\n",
       "      <td>1967.250000</td>\n",
       "      <td>109081.500000</td>\n",
       "      <td>1.221807e+07</td>\n",
       "    </tr>\n",
       "    <tr>\n",
       "      <th>50%</th>\n",
       "      <td>1984.500000</td>\n",
       "      <td>160764.500000</td>\n",
       "      <td>1.929721e+07</td>\n",
       "    </tr>\n",
       "    <tr>\n",
       "      <th>75%</th>\n",
       "      <td>2001.750000</td>\n",
       "      <td>232724.604284</td>\n",
       "      <td>2.664617e+07</td>\n",
       "    </tr>\n",
       "    <tr>\n",
       "      <th>max</th>\n",
       "      <td>2019.000000</td>\n",
       "      <td>546650.369947</td>\n",
       "      <td>3.249551e+07</td>\n",
       "    </tr>\n",
       "  </tbody>\n",
       "</table>\n",
       "</div>"
      ],
      "text/plain": [
       "             fecha            PBI     poblacion\n",
       "count    70.000000      70.000000  7.000000e+01\n",
       "mean   1984.500000  199705.073585  1.950144e+07\n",
       "std      20.351085  133709.465531  7.883751e+06\n",
       "min    1950.000000   40920.000000  7.632460e+06\n",
       "25%    1967.250000  109081.500000  1.221807e+07\n",
       "50%    1984.500000  160764.500000  1.929721e+07\n",
       "75%    2001.750000  232724.604284  2.664617e+07\n",
       "max    2019.000000  546650.369947  3.249551e+07"
      ]
     },
     "execution_count": 5,
     "metadata": {},
     "output_type": "execute_result"
    }
   ],
   "source": [
    "data.describe()"
   ]
  },
  {
   "cell_type": "code",
   "execution_count": 9,
   "id": "9fbd9c1f",
   "metadata": {},
   "outputs": [],
   "source": [
    "data['growth_rate'] = data[\"PBI\"].pct_change()*100"
   ]
  },
  {
   "cell_type": "code",
   "execution_count": 10,
   "id": "bcf446d1",
   "metadata": {},
   "outputs": [
    {
     "data": {
      "text/html": [
       "<div>\n",
       "<style scoped>\n",
       "    .dataframe tbody tr th:only-of-type {\n",
       "        vertical-align: middle;\n",
       "    }\n",
       "\n",
       "    .dataframe tbody tr th {\n",
       "        vertical-align: top;\n",
       "    }\n",
       "\n",
       "    .dataframe thead th {\n",
       "        text-align: right;\n",
       "    }\n",
       "</style>\n",
       "<table border=\"1\" class=\"dataframe\">\n",
       "  <thead>\n",
       "    <tr style=\"text-align: right;\">\n",
       "      <th></th>\n",
       "      <th>fecha</th>\n",
       "      <th>PBI</th>\n",
       "      <th>poblacion</th>\n",
       "      <th>growth_rate</th>\n",
       "    </tr>\n",
       "  </thead>\n",
       "  <tbody>\n",
       "    <tr>\n",
       "      <th>0</th>\n",
       "      <td>1950</td>\n",
       "      <td>40920.000000</td>\n",
       "      <td>7.632460e+06</td>\n",
       "      <td>NaN</td>\n",
       "    </tr>\n",
       "    <tr>\n",
       "      <th>1</th>\n",
       "      <td>1951</td>\n",
       "      <td>44711.000000</td>\n",
       "      <td>7.826262e+06</td>\n",
       "      <td>9.264418</td>\n",
       "    </tr>\n",
       "    <tr>\n",
       "      <th>2</th>\n",
       "      <td>1952</td>\n",
       "      <td>47347.000000</td>\n",
       "      <td>8.025721e+06</td>\n",
       "      <td>5.895641</td>\n",
       "    </tr>\n",
       "    <tr>\n",
       "      <th>3</th>\n",
       "      <td>1953</td>\n",
       "      <td>50085.000000</td>\n",
       "      <td>8.232177e+06</td>\n",
       "      <td>5.782837</td>\n",
       "    </tr>\n",
       "    <tr>\n",
       "      <th>4</th>\n",
       "      <td>1954</td>\n",
       "      <td>52762.000000</td>\n",
       "      <td>8.446997e+06</td>\n",
       "      <td>5.344914</td>\n",
       "    </tr>\n",
       "    <tr>\n",
       "      <th>...</th>\n",
       "      <td>...</td>\n",
       "      <td>...</td>\n",
       "      <td>...</td>\n",
       "      <td>...</td>\n",
       "    </tr>\n",
       "    <tr>\n",
       "      <th>65</th>\n",
       "      <td>2015</td>\n",
       "      <td>482676.378219</td>\n",
       "      <td>3.115164e+07</td>\n",
       "      <td>3.273577</td>\n",
       "    </tr>\n",
       "    <tr>\n",
       "      <th>66</th>\n",
       "      <td>2016</td>\n",
       "      <td>502224.739846</td>\n",
       "      <td>3.148862e+07</td>\n",
       "      <td>4.049993</td>\n",
       "    </tr>\n",
       "    <tr>\n",
       "      <th>67</th>\n",
       "      <td>2017</td>\n",
       "      <td>514655.036137</td>\n",
       "      <td>3.182602e+07</td>\n",
       "      <td>2.475047</td>\n",
       "    </tr>\n",
       "    <tr>\n",
       "      <th>68</th>\n",
       "      <td>2018</td>\n",
       "      <td>535082.879128</td>\n",
       "      <td>3.216218e+07</td>\n",
       "      <td>3.969230</td>\n",
       "    </tr>\n",
       "    <tr>\n",
       "      <th>69</th>\n",
       "      <td>2019</td>\n",
       "      <td>546650.369947</td>\n",
       "      <td>3.249551e+07</td>\n",
       "      <td>2.161813</td>\n",
       "    </tr>\n",
       "  </tbody>\n",
       "</table>\n",
       "<p>70 rows × 4 columns</p>\n",
       "</div>"
      ],
      "text/plain": [
       "    fecha            PBI     poblacion  growth_rate\n",
       "0    1950   40920.000000  7.632460e+06          NaN\n",
       "1    1951   44711.000000  7.826262e+06     9.264418\n",
       "2    1952   47347.000000  8.025721e+06     5.895641\n",
       "3    1953   50085.000000  8.232177e+06     5.782837\n",
       "4    1954   52762.000000  8.446997e+06     5.344914\n",
       "..    ...            ...           ...          ...\n",
       "65   2015  482676.378219  3.115164e+07     3.273577\n",
       "66   2016  502224.739846  3.148862e+07     4.049993\n",
       "67   2017  514655.036137  3.182602e+07     2.475047\n",
       "68   2018  535082.879128  3.216218e+07     3.969230\n",
       "69   2019  546650.369947  3.249551e+07     2.161813\n",
       "\n",
       "[70 rows x 4 columns]"
      ]
     },
     "execution_count": 10,
     "metadata": {},
     "output_type": "execute_result"
    }
   ],
   "source": [
    "data"
   ]
  },
  {
   "cell_type": "code",
   "execution_count": 11,
   "id": "a840486f",
   "metadata": {},
   "outputs": [],
   "source": [
    "data[\"pbipercap\"] = data[\"PBI\"]/data[\"poblacion\"] * 1000000"
   ]
  },
  {
   "cell_type": "code",
   "execution_count": 12,
   "id": "27e63e90",
   "metadata": {},
   "outputs": [
    {
     "data": {
      "text/html": [
       "<div>\n",
       "<style scoped>\n",
       "    .dataframe tbody tr th:only-of-type {\n",
       "        vertical-align: middle;\n",
       "    }\n",
       "\n",
       "    .dataframe tbody tr th {\n",
       "        vertical-align: top;\n",
       "    }\n",
       "\n",
       "    .dataframe thead th {\n",
       "        text-align: right;\n",
       "    }\n",
       "</style>\n",
       "<table border=\"1\" class=\"dataframe\">\n",
       "  <thead>\n",
       "    <tr style=\"text-align: right;\">\n",
       "      <th></th>\n",
       "      <th>fecha</th>\n",
       "      <th>PBI</th>\n",
       "      <th>poblacion</th>\n",
       "      <th>growth_rate</th>\n",
       "      <th>pbipercap</th>\n",
       "    </tr>\n",
       "  </thead>\n",
       "  <tbody>\n",
       "    <tr>\n",
       "      <th>0</th>\n",
       "      <td>1950</td>\n",
       "      <td>40920.000000</td>\n",
       "      <td>7.632460e+06</td>\n",
       "      <td>NaN</td>\n",
       "      <td>5361.312214</td>\n",
       "    </tr>\n",
       "    <tr>\n",
       "      <th>1</th>\n",
       "      <td>1951</td>\n",
       "      <td>44711.000000</td>\n",
       "      <td>7.826262e+06</td>\n",
       "      <td>9.264418</td>\n",
       "      <td>5712.944443</td>\n",
       "    </tr>\n",
       "    <tr>\n",
       "      <th>2</th>\n",
       "      <td>1952</td>\n",
       "      <td>47347.000000</td>\n",
       "      <td>8.025721e+06</td>\n",
       "      <td>5.895641</td>\n",
       "      <td>5899.407667</td>\n",
       "    </tr>\n",
       "    <tr>\n",
       "      <th>3</th>\n",
       "      <td>1953</td>\n",
       "      <td>50085.000000</td>\n",
       "      <td>8.232177e+06</td>\n",
       "      <td>5.782837</td>\n",
       "      <td>6084.052857</td>\n",
       "    </tr>\n",
       "    <tr>\n",
       "      <th>4</th>\n",
       "      <td>1954</td>\n",
       "      <td>52762.000000</td>\n",
       "      <td>8.446997e+06</td>\n",
       "      <td>5.344914</td>\n",
       "      <td>6246.243487</td>\n",
       "    </tr>\n",
       "    <tr>\n",
       "      <th>...</th>\n",
       "      <td>...</td>\n",
       "      <td>...</td>\n",
       "      <td>...</td>\n",
       "      <td>...</td>\n",
       "      <td>...</td>\n",
       "    </tr>\n",
       "    <tr>\n",
       "      <th>65</th>\n",
       "      <td>2015</td>\n",
       "      <td>482676.378219</td>\n",
       "      <td>3.115164e+07</td>\n",
       "      <td>3.273577</td>\n",
       "      <td>15494.411586</td>\n",
       "    </tr>\n",
       "    <tr>\n",
       "      <th>66</th>\n",
       "      <td>2016</td>\n",
       "      <td>502224.739846</td>\n",
       "      <td>3.148862e+07</td>\n",
       "      <td>4.049993</td>\n",
       "      <td>15949.402041</td>\n",
       "    </tr>\n",
       "    <tr>\n",
       "      <th>67</th>\n",
       "      <td>2017</td>\n",
       "      <td>514655.036137</td>\n",
       "      <td>3.182602e+07</td>\n",
       "      <td>2.475047</td>\n",
       "      <td>16170.889998</td>\n",
       "    </tr>\n",
       "    <tr>\n",
       "      <th>68</th>\n",
       "      <td>2018</td>\n",
       "      <td>535082.879128</td>\n",
       "      <td>3.216218e+07</td>\n",
       "      <td>3.969230</td>\n",
       "      <td>16637.019399</td>\n",
       "    </tr>\n",
       "    <tr>\n",
       "      <th>69</th>\n",
       "      <td>2019</td>\n",
       "      <td>546650.369947</td>\n",
       "      <td>3.249551e+07</td>\n",
       "      <td>2.161813</td>\n",
       "      <td>16822.335453</td>\n",
       "    </tr>\n",
       "  </tbody>\n",
       "</table>\n",
       "<p>70 rows × 5 columns</p>\n",
       "</div>"
      ],
      "text/plain": [
       "    fecha            PBI     poblacion  growth_rate     pbipercap\n",
       "0    1950   40920.000000  7.632460e+06          NaN   5361.312214\n",
       "1    1951   44711.000000  7.826262e+06     9.264418   5712.944443\n",
       "2    1952   47347.000000  8.025721e+06     5.895641   5899.407667\n",
       "3    1953   50085.000000  8.232177e+06     5.782837   6084.052857\n",
       "4    1954   52762.000000  8.446997e+06     5.344914   6246.243487\n",
       "..    ...            ...           ...          ...           ...\n",
       "65   2015  482676.378219  3.115164e+07     3.273577  15494.411586\n",
       "66   2016  502224.739846  3.148862e+07     4.049993  15949.402041\n",
       "67   2017  514655.036137  3.182602e+07     2.475047  16170.889998\n",
       "68   2018  535082.879128  3.216218e+07     3.969230  16637.019399\n",
       "69   2019  546650.369947  3.249551e+07     2.161813  16822.335453\n",
       "\n",
       "[70 rows x 5 columns]"
      ]
     },
     "execution_count": 12,
     "metadata": {},
     "output_type": "execute_result"
    }
   ],
   "source": [
    "data"
   ]
  },
  {
   "cell_type": "code",
   "execution_count": 20,
   "id": "4e80bcb8",
   "metadata": {},
   "outputs": [
    {
     "data": {
      "text/plain": [
       "Text(0.5, 1.0, 'Tasa de crecimiento del PBI del 1950-2019')"
      ]
     },
     "execution_count": 20,
     "metadata": {},
     "output_type": "execute_result"
    },
    {
     "data": {
      "image/png": "[encoded data removed]",
      "text/plain": [
       "<Figure size 864x432 with 1 Axes>"
      ]
     },
     "metadata": {
      "needs_background": "light"
     },
     "output_type": "display_data"
    }
   ],
   "source": [
    "plt.figure(figsize=(12,6))\n",
    "sns.lineplot(x = 'fecha', y= 'growth_rate', data=data, color = \"red\")\n",
    "plt.xlabel(\"Años\")\n",
    "plt.ylabel(\"Tasa de crecimiento del PBI\")\n",
    "plt.title(\"Tasa de crecimiento del PBI del 1950-2019\")"
   ]
  },
  {
   "cell_type": "code",
   "execution_count": 21,
   "id": "b47163bb",
   "metadata": {},
   "outputs": [
    {
     "data": {
      "text/plain": [
       "[<matplotlib.lines.Line2D at 0x15ea53eabe0>]"
      ]
     },
     "execution_count": 21,
     "metadata": {},
     "output_type": "execute_result"
    },
    {
     "data": {
      "image/png": "[encoded data removed]",
      "text/plain": [
       "<Figure size 432x288 with 1 Axes>"
      ]
     },
     "metadata": {
      "needs_background": "light"
     },
     "output_type": "display_data"
    }
   ],
   "source": [
    "plt.plot(data.fecha, data.pbipercap)"
   ]
  },
  {
   "cell_type": "code",
   "execution_count": 22,
   "id": "b10d784f",
   "metadata": {},
   "outputs": [
    {
     "data": {
      "text/plain": [
       "[<matplotlib.lines.Line2D at 0x15ea5587ee0>]"
      ]
     },
     "execution_count": 22,
     "metadata": {},
     "output_type": "execute_result"
    },
    {
     "data": {
      "image/png": "[encoded data removed]",
      "text/plain": [
       "<Figure size 432x288 with 1 Axes>"
      ]
     },
     "metadata": {
      "needs_background": "light"
     },
     "output_type": "display_data"
    }
   ],
   "source": [
    "plt.plot(data.fecha, data.PBI)"
   ]
  }
 ],
 "metadata": {
  "kernelspec": {
   "display_name": "Python 3 (ipykernel)",
   "language": "python",
   "name": "python3"
  },
  "language_info": {
   "codemirror_mode": {
    "name": "ipython",
    "version": 3
   },
   "file_extension": ".py",
   "mimetype": "text/x-python",
   "name": "python",
   "nbconvert_exporter": "python",
   "pygments_lexer": "ipython3",
   "version": "3.9.7"
  }
 },
 "nbformat": 4,
 "nbformat_minor": 5
}
