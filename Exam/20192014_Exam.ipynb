{
 "cells": [
  {
   "cell_type": "markdown",
   "id": "22d4189a",
   "metadata": {},
   "source": [
    "PARCIAL                                     \n",
    "Mariana Sosa Larriega - 20192014"
   ]
  },
  {
   "cell_type": "markdown",
   "id": "c73bac98",
   "metadata": {},
   "source": [
    "**1. Suppose you are given the following information for the country Poldan:**   \n",
    "\n",
    "a. What is Poldan’s GDP?                 \n",
    "• GDP per capita = GDP/Total population                     \n",
    "• 15 500 = x/175000000"
   ]
  },
  {
   "cell_type": "code",
   "execution_count": 11,
   "id": "2f34dc9d",
   "metadata": {},
   "outputs": [
    {
     "data": {
      "text/plain": [
       "2712500000000"
      ]
     },
     "execution_count": 11,
     "metadata": {},
     "output_type": "execute_result"
    }
   ],
   "source": [
    "x = 15500*175000000 \n",
    "x"
   ]
  },
  {
   "cell_type": "markdown",
   "id": "b16f8136",
   "metadata": {},
   "source": [
    "Poldan's GDP is €2712500000000."
   ]
  },
  {
   "cell_type": "markdown",
   "id": "9ea52ae3",
   "metadata": {},
   "source": [
    "b. What is the number of employed people in Poldan?             \n",
    "• GDP per worker = GDP/Number of people in employment         \n",
    "• 29,166.667 = 2,712,500,000,000/x"
   ]
  },
  {
   "cell_type": "code",
   "execution_count": 13,
   "id": "9dfbd9b0",
   "metadata": {},
   "outputs": [
    {
     "data": {
      "text/plain": [
       "92999998.93714286"
      ]
     },
     "execution_count": 13,
     "metadata": {},
     "output_type": "execute_result"
    }
   ],
   "source": [
    "x = 2712500000000/29166.667\n",
    "x"
   ]
  },
  {
   "cell_type": "markdown",
   "id": "3f464427",
   "metadata": {},
   "source": [
    "The number of employed people in Poldan is almost 93 million. "
   ]
  },
  {
   "cell_type": "markdown",
   "id": "9f29201e",
   "metadata": {},
   "source": [
    "**2. The following table gives you the same information for the country, Manyger**          \n",
    "\n",
    "a. What is Manyger’s GDP per capita.                               \n",
    "• GDP per capita = GDP/Total population "
   ]
  },
  {
   "cell_type": "code",
   "execution_count": 17,
   "id": "a4faaf6b",
   "metadata": {},
   "outputs": [
    {
     "data": {
      "text/plain": [
       "24719.101123595505"
      ]
     },
     "execution_count": 17,
     "metadata": {},
     "output_type": "execute_result"
    }
   ],
   "source": [
    "x = 2200000000000/89000000\n",
    "x"
   ]
  },
  {
   "cell_type": "markdown",
   "id": "5b18f643",
   "metadata": {},
   "source": [
    "Manyger’s GDP per capita is €24719.1011."
   ]
  },
  {
   "cell_type": "markdown",
   "id": "8ce7731e",
   "metadata": {},
   "source": [
    "b. What is Manyger’s GDP per worker?                                    \n",
    "• GDP per worker = GDP/Number of people in employment "
   ]
  },
  {
   "cell_type": "code",
   "execution_count": 16,
   "id": "ffc37228",
   "metadata": {},
   "outputs": [
    {
     "data": {
      "text/plain": [
       "43137.25490196078"
      ]
     },
     "execution_count": 16,
     "metadata": {},
     "output_type": "execute_result"
    }
   ],
   "source": [
    "x = 2200000000000/51000000\n",
    "x"
   ]
  },
  {
   "cell_type": "markdown",
   "id": "72be47fb",
   "metadata": {},
   "source": [
    "Manyger’s GDP per worker is €43137.2549."
   ]
  },
  {
   "cell_type": "markdown",
   "id": "fa051278",
   "metadata": {},
   "source": [
    "c. Based on the given information, which country would be considered more productive? Explain your answer.\n",
    "                     \n",
    "According to Acemoglu, Laibson and List, GDP per worker helps us to understand and compare productivity among the countries. In this case, the country with higher GDP per worker is Manyger with €43,137.2549, so it can be said it is more productive than Poldan, whose GDP per worker is €29,166.667. \n",
    "                           \n",
    "d. Which country do you think has higher living standards?                 \n",
    "         \n",
    "Following the arguments of the same authors, they hold that GDP per capita is the first measure we need to take into account when comparing the living standars. In this case, is also Manyger the country that has higher living standars because of its GDP per capita: €24,719.1011; while Poldan stays behind with €15,500.\n"
   ]
  },
  {
   "cell_type": "markdown",
   "id": "b0bd36ca",
   "metadata": {},
   "source": [
    "**3. In this question, we will use what you learned in Lectures 3 and 4 to compare the performance of an economy in two different time periods, as its physical capital stock and efficiency units of labor change.**\n",
    "                       \n",
    "a. Suppose that from period 1 to period 2, the unemployment rate in the economy decreases. Everything else remains unchanged. What happens to the total efficiency units of labor? Express your results formally as an inequality, using the formula for total efficiency units of labor presented in the chapter (in particular, recall that total efficiency units of labor in two periods can be written as H1 = L1 * h1 and H2 = L2 * h2; where L is the total number of employed workers)."
   ]
  },
  {
   "cell_type": "markdown",
   "id": "589a4e29",
   "metadata": {},
   "source": [
    "Values:                                                           \n",
    "h = constant                                             \n",
    "H1 = efficiency units of labor                              \n",
    "x = change caused by the deacrease in the unemployment rate               \n",
    "L2 = x * L1                                                           \n",
    "H1 = L1 * h                                                             \n",
    "H2 = L2 * h                                                            \n",
    "H2 = new value of H1                                                    "
   ]
  },
  {
   "cell_type": "markdown",
   "id": "8a9fbdca",
   "metadata": {},
   "source": [
    "Now we reformulate the new equation taking into account the deacrease in the unemployment rate while the other values are intact:                \n",
    "H2 = L2 * h                                                        \n",
    "H2 = x * L1 * h                                          \n",
    "H2 = x * H1 -> efficiency units of labor increases                         "
   ]
  },
  {
   "cell_type": "markdown",
   "id": "c6ea7ced",
   "metadata": {},
   "source": [
    "The inequality would be H2>H1"
   ]
  },
  {
   "cell_type": "markdown",
   "id": "ae79be46",
   "metadata": {},
   "source": [
    "b. What are the consequences of this decrease in unemployment for GDP? Express your results formally as an inequality, using the aggregate production function presented in the chapter.                            \n",
    "                                                                     \n",
    "If there is more people working, the GDP would increase. Assuming K and H add up to 1:                              \n",
    "\n",
    "Values:                                                      \n",
    "PBI = Y1                                                      \n",
    "PBI2 = Y2                                                      \n",
    "K = L * k                                                      \n",
    "H = h * L                                                      \n",
    "K2 = X * K1                                                      \n",
    "                                                                \n",
    "Equation:                                                      \n",
    "Y1 = A * K1/3 * H12/3                                                    \n",
    "Y2 = A * K21/3 * H22/3                                                    \n",
    "Y2 = A * (X * K2)1/3 * (X * H1)2/3                           \n",
    "Y2 = X * (A * K1/2  * H12/3) -> We replace it for Y1                      \n",
    "Y2 = X * Y1"
   ]
  },
  {
   "cell_type": "markdown",
   "id": "8e684e01",
   "metadata": {},
   "source": [
    "The inequation is then Y2>Y1"
   ]
  },
  {
   "cell_type": "markdown",
   "id": "b16e78cc",
   "metadata": {},
   "source": [
    "c. What are the consequences for GDP per capita and GDP per worker?       \n"
   ]
  },
  {
   "cell_type": "markdown",
   "id": "b94a42fd",
   "metadata": {},
   "source": [
    "They both increase in the same proportion. \n",
    "                                                                     \n",
    "Given the values:                                                        \n",
    "w = Y/L1                                                   \n",
    "W1 = Y1/L1                                                   \n",
    "W2 = Y2/L2 = X * Y1/X * L1                                                 \n",
    "Y2 = X * Y1                                                   \n",
    "L2 = X * L1\n"
   ]
  },
  {
   "cell_type": "markdown",
   "id": "2f0e2d58",
   "metadata": {},
   "source": [
    "d. Suppose that there is a technological advance from period 1 to period 2 and, at the same time, an increase in physical capital stock? Can you say whether GDP will increase or decrease? Why or why not?                                                                                                                                                                                                                                        \n",
    "First, it is important to take into account the law of diminishing marginal productivity, this law sustains that when physical capital increases, so does GDP but the increase would be each time less than before.                                                                   However, if there is a technological advance and also an increase in physical capital stock then GDP and its relationship with the physical capital stock shifts up. "
   ]
  },
  {
   "cell_type": "markdown",
   "id": "6f327534",
   "metadata": {},
   "source": [
    "**4. Currently, some of the fastest-growing countries in the world remain desperately poor. For example, of the top five fastest-growing economies in 2016, three—Iraq, Burma, and Nauru—had real per capita GDPs that are 101st, 162nd, and 112th in the world, respectively. (Source: CIA, The World Factbook estimates for 2016, PPP basis.) This seems like something of a contradiction. Using the equations for growth given in lectures 3 & 4, explain why a country that has a very low real per capita GDP can also have a very high growth rate.**"
   ]
  },
  {
   "cell_type": "markdown",
   "id": "97e51224",
   "metadata": {},
   "source": [
    "Given the equation:                                                     \n",
    "Growth t, t+1 = (Yt+1 - Yt)/Yt"
   ]
  },
  {
   "cell_type": "markdown",
   "id": "ca41819d",
   "metadata": {},
   "source": [
    "Growth is based on what the countries had before. Some countries as the ones presented in the Macroeconomics book have grown faster than countries like United Stated but still have not reached US's GDP per capita. But why? Taking a look at the equation, is much easier for a country with a small base than a country with a large GDP to have a larger growth rate. For example, if Yt (denominator) and (Yt+1 - Yt) had both a small value for a country with a small GDP, the result would be a large growth rate comparing with a country with the same increase in the GDP per capita but a bigger GDP. "
   ]
  },
  {
   "cell_type": "markdown",
   "id": "03724b87",
   "metadata": {},
   "source": [
    "**5. Increasingly, independent programmers are making their code “open source.” The programming language “Python,” for example, is completely free and open; anyone can submit a new package of specialized functions. How might open-source technology affect growth in developing countries? Imagine every technology company in the United States suddenly made their code open-source; would this increase growth in developing countries? Explain.**"
   ]
  },
  {
   "cell_type": "markdown",
   "id": "6c56c2d1",
   "metadata": {},
   "source": [
    "The reason why open source technology has the power to increase growth in developing countries is because it gives for free the resources to stimulate the productivity. But it is  also important for these countries to have the machines and basic means for the programming language to correctly work. Which means that first, the countries will have to invest in these tools before getting the open source technology and so they will have to wait until that happens to see a growth in the GDP."
   ]
  },
  {
   "cell_type": "markdown",
   "id": "f670b60c",
   "metadata": {},
   "source": [
    "**6. The following table shows the employment level, unemployment level, and the labor force participation rate in Greece for the month of March of every year from 2008 to 2020. Use the given data to complete the table and answer the following questions. (Note: All rates are in percent.) Fill the table using Python. And answer the questions below.**"
   ]
  },
  {
   "cell_type": "code",
   "execution_count": 1,
   "id": "37ddba61",
   "metadata": {},
   "outputs": [],
   "source": [
    "import warnings\n",
    "warnings.filterwarnings('ignore')"
   ]
  },
  {
   "cell_type": "code",
   "execution_count": 76,
   "id": "2dd08245",
   "metadata": {},
   "outputs": [],
   "source": [
    "import numpy as np\n",
    "import pandas as pd"
   ]
  },
  {
   "cell_type": "code",
   "execution_count": 61,
   "id": "15a286d3",
   "metadata": {
    "scrolled": false
   },
   "outputs": [
    {
     "data": {
      "text/html": [
       "<div>\n",
       "<style scoped>\n",
       "    .dataframe tbody tr th:only-of-type {\n",
       "        vertical-align: middle;\n",
       "    }\n",
       "\n",
       "    .dataframe tbody tr th {\n",
       "        vertical-align: top;\n",
       "    }\n",
       "\n",
       "    .dataframe thead th {\n",
       "        text-align: right;\n",
       "    }\n",
       "</style>\n",
       "<table border=\"1\" class=\"dataframe\">\n",
       "  <thead>\n",
       "    <tr style=\"text-align: right;\">\n",
       "      <th></th>\n",
       "      <th>Year</th>\n",
       "      <th>Number Unemployed (in thousands)</th>\n",
       "      <th>Number Employed (in thousands)</th>\n",
       "      <th>Labor Force Participation Rate</th>\n",
       "      <th>Labor force</th>\n",
       "      <th>Unemployment rate</th>\n",
       "      <th>Employment rate</th>\n",
       "      <th>Adult Population</th>\n",
       "      <th>Percentage of Adults out of Labor Force</th>\n",
       "    </tr>\n",
       "  </thead>\n",
       "  <tbody>\n",
       "    <tr>\n",
       "      <th>0</th>\n",
       "      <td>2008</td>\n",
       "      <td>454.1000</td>\n",
       "      <td>4537.4000</td>\n",
       "      <td>52.9%</td>\n",
       "      <td>4991.5000</td>\n",
       "      <td>9.097466</td>\n",
       "      <td>43.802534</td>\n",
       "      <td>9435.727788</td>\n",
       "      <td>51.90</td>\n",
       "    </tr>\n",
       "    <tr>\n",
       "      <th>1</th>\n",
       "      <td>2009</td>\n",
       "      <td>475.1000</td>\n",
       "      <td>4535.5000</td>\n",
       "      <td>53.2%</td>\n",
       "      <td>5010.6000</td>\n",
       "      <td>9.481898</td>\n",
       "      <td>43.718102</td>\n",
       "      <td>9418.421053</td>\n",
       "      <td>52.20</td>\n",
       "    </tr>\n",
       "    <tr>\n",
       "      <th>2</th>\n",
       "      <td>2010</td>\n",
       "      <td>594.9000</td>\n",
       "      <td>4432.1000</td>\n",
       "      <td>53.6%</td>\n",
       "      <td>5027.0000</td>\n",
       "      <td>11.834096</td>\n",
       "      <td>41.765904</td>\n",
       "      <td>9378.731343</td>\n",
       "      <td>52.60</td>\n",
       "    </tr>\n",
       "    <tr>\n",
       "      <th>3</th>\n",
       "      <td>2011</td>\n",
       "      <td>828.3000</td>\n",
       "      <td>4126.0000</td>\n",
       "      <td>53.0%</td>\n",
       "      <td>4954.3000</td>\n",
       "      <td>16.718810</td>\n",
       "      <td>36.281190</td>\n",
       "      <td>9347.735849</td>\n",
       "      <td>52.00</td>\n",
       "    </tr>\n",
       "    <tr>\n",
       "      <th>4</th>\n",
       "      <td>2012</td>\n",
       "      <td>1130.4000</td>\n",
       "      <td>3745.6000</td>\n",
       "      <td>52.4%</td>\n",
       "      <td>4876.0000</td>\n",
       "      <td>23.182937</td>\n",
       "      <td>29.217063</td>\n",
       "      <td>9305.343511</td>\n",
       "      <td>51.40</td>\n",
       "    </tr>\n",
       "    <tr>\n",
       "      <th>5</th>\n",
       "      <td>2013</td>\n",
       "      <td>1302.8000</td>\n",
       "      <td>3491.0000</td>\n",
       "      <td>52.0%</td>\n",
       "      <td>4793.8000</td>\n",
       "      <td>27.176770</td>\n",
       "      <td>24.823230</td>\n",
       "      <td>9218.846154</td>\n",
       "      <td>51.00</td>\n",
       "    </tr>\n",
       "    <tr>\n",
       "      <th>6</th>\n",
       "      <td>2014</td>\n",
       "      <td>1343.4000</td>\n",
       "      <td>3495.6000</td>\n",
       "      <td>51.9%</td>\n",
       "      <td>4839.0000</td>\n",
       "      <td>27.761934</td>\n",
       "      <td>24.138066</td>\n",
       "      <td>9323.699422</td>\n",
       "      <td>50.90</td>\n",
       "    </tr>\n",
       "    <tr>\n",
       "      <th>7</th>\n",
       "      <td>2015</td>\n",
       "      <td>1299.4000</td>\n",
       "      <td>3438.1000</td>\n",
       "      <td>51.6%</td>\n",
       "      <td>4737.5000</td>\n",
       "      <td>27.427968</td>\n",
       "      <td>24.172032</td>\n",
       "      <td>9181.201550</td>\n",
       "      <td>50.60</td>\n",
       "    </tr>\n",
       "    <tr>\n",
       "      <th>8</th>\n",
       "      <td>2016</td>\n",
       "      <td>1189.9000</td>\n",
       "      <td>3600.7000</td>\n",
       "      <td>52.04%</td>\n",
       "      <td>4790.6000</td>\n",
       "      <td>24.838225</td>\n",
       "      <td>27.201775</td>\n",
       "      <td>9205.611068</td>\n",
       "      <td>51.04</td>\n",
       "    </tr>\n",
       "    <tr>\n",
       "      <th>9</th>\n",
       "      <td>2017</td>\n",
       "      <td>1079.7170</td>\n",
       "      <td>3669.1972</td>\n",
       "      <td>51.9%</td>\n",
       "      <td>4748.9142</td>\n",
       "      <td>22.736081</td>\n",
       "      <td>29.163919</td>\n",
       "      <td>9150.123699</td>\n",
       "      <td>50.90</td>\n",
       "    </tr>\n",
       "    <tr>\n",
       "      <th>10</th>\n",
       "      <td>2018</td>\n",
       "      <td>973.5729</td>\n",
       "      <td>3768.6290</td>\n",
       "      <td>51.6%</td>\n",
       "      <td>4742.2019</td>\n",
       "      <td>20.529976</td>\n",
       "      <td>31.070024</td>\n",
       "      <td>9190.313760</td>\n",
       "      <td>50.60</td>\n",
       "    </tr>\n",
       "    <tr>\n",
       "      <th>11</th>\n",
       "      <td>2019</td>\n",
       "      <td>844.0380</td>\n",
       "      <td>3846.3319</td>\n",
       "      <td>51.8%</td>\n",
       "      <td>4690.3699</td>\n",
       "      <td>17.995127</td>\n",
       "      <td>33.804873</td>\n",
       "      <td>9054.768147</td>\n",
       "      <td>50.80</td>\n",
       "    </tr>\n",
       "    <tr>\n",
       "      <th>12</th>\n",
       "      <td>2020</td>\n",
       "      <td>665.3619</td>\n",
       "      <td>3813.0379</td>\n",
       "      <td>50.6%</td>\n",
       "      <td>4478.3998</td>\n",
       "      <td>14.857135</td>\n",
       "      <td>35.742865</td>\n",
       "      <td>8850.592490</td>\n",
       "      <td>49.60</td>\n",
       "    </tr>\n",
       "  </tbody>\n",
       "</table>\n",
       "</div>"
      ],
      "text/plain": [
       "    Year  Number Unemployed (in thousands)  Number Employed (in thousands)  \\\n",
       "0   2008                          454.1000                       4537.4000   \n",
       "1   2009                          475.1000                       4535.5000   \n",
       "2   2010                          594.9000                       4432.1000   \n",
       "3   2011                          828.3000                       4126.0000   \n",
       "4   2012                         1130.4000                       3745.6000   \n",
       "5   2013                         1302.8000                       3491.0000   \n",
       "6   2014                         1343.4000                       3495.6000   \n",
       "7   2015                         1299.4000                       3438.1000   \n",
       "8   2016                         1189.9000                       3600.7000   \n",
       "9   2017                         1079.7170                       3669.1972   \n",
       "10  2018                          973.5729                       3768.6290   \n",
       "11  2019                          844.0380                       3846.3319   \n",
       "12  2020                          665.3619                       3813.0379   \n",
       "\n",
       "   Labor Force Participation Rate  Labor force  Unemployment rate  \\\n",
       "0                           52.9%    4991.5000           9.097466   \n",
       "1                           53.2%    5010.6000           9.481898   \n",
       "2                           53.6%    5027.0000          11.834096   \n",
       "3                           53.0%    4954.3000          16.718810   \n",
       "4                           52.4%    4876.0000          23.182937   \n",
       "5                           52.0%    4793.8000          27.176770   \n",
       "6                           51.9%    4839.0000          27.761934   \n",
       "7                           51.6%    4737.5000          27.427968   \n",
       "8                          52.04%    4790.6000          24.838225   \n",
       "9                           51.9%    4748.9142          22.736081   \n",
       "10                          51.6%    4742.2019          20.529976   \n",
       "11                          51.8%    4690.3699          17.995127   \n",
       "12                          50.6%    4478.3998          14.857135   \n",
       "\n",
       "    Employment rate  Adult Population  Percentage of Adults out of Labor Force  \n",
       "0         43.802534       9435.727788                                    51.90  \n",
       "1         43.718102       9418.421053                                    52.20  \n",
       "2         41.765904       9378.731343                                    52.60  \n",
       "3         36.281190       9347.735849                                    52.00  \n",
       "4         29.217063       9305.343511                                    51.40  \n",
       "5         24.823230       9218.846154                                    51.00  \n",
       "6         24.138066       9323.699422                                    50.90  \n",
       "7         24.172032       9181.201550                                    50.60  \n",
       "8         27.201775       9205.611068                                    51.04  \n",
       "9         29.163919       9150.123699                                    50.90  \n",
       "10        31.070024       9190.313760                                    50.60  \n",
       "11        33.804873       9054.768147                                    50.80  \n",
       "12        35.742865       8850.592490                                    49.60  "
      ]
     },
     "execution_count": 61,
     "metadata": {},
     "output_type": "execute_result"
    }
   ],
   "source": [
    "# crear lists\n",
    "year = [2008,2009,2010,2011,2012,2013,2014,2015,2016,2017,2018,2019,2020]\n",
    "unemployed = [454.1,475.1,594.9,828.3,1130.4,1302.8,1343.4,1299.4,1189.9,1079.717,973.5729,844.038,665.3619]\n",
    "employed = [4537.4,4535.5,4432.1,4126,3745.6,3491,3495.6,3438.1,3600.7,3669.1972,3768.629,3846.3319,3813.0379]\n",
    "participation = [52.9,53.2,53.6,53,52.4,52,51.9,51.6,52.04,51.9,51.6,51.8,50.6]\n",
    "# Make a dictionary\n",
    "grades = {\"Year\": year, \"Number Unemployed (in thousands)\": unemployed, \"Number Employed (in thousands)\":employed, \"Labor Force Participation Rate\":participation}\n",
    "df=pd.DataFrame(grades)\n",
    "df[\"Labor force\"]=df[\"Number Employed (in thousands)\"]+df[\"Number Unemployed (in thousands)\"]\n",
    "df[\"Unemployment rate\"]=(df[\"Number Unemployed (in thousands)\"]/df[\"Labor force\"])*100 \n",
    "df[\"Employment rate\"]=df[\"Labor Force Participation Rate\"]-df[\"Unemployment rate\"]\n",
    "df[\"Adult Population\"]=df[\"Labor force\"]/(df[\"Labor Force Participation Rate\"]/100)\n",
    "df[\"Percentage of Adults out of Labor Force\"]=-1*(1-df[\"Labor Force Participation Rate\"])\n",
    "df[\"Labor Force Participation Rate\"]=df[\"Labor Force Participation Rate\"].apply(lambda x: str(x) + \"%\")\n",
    "df"
   ]
  },
  {
   "cell_type": "markdown",
   "id": "3756786d",
   "metadata": {},
   "source": [
    "a. In which years did the economy witness increases in the unemployment rate? What could possibly explain this?                                                                                                                                                                                 \n",
    "Greek economy sees an increase in the unemployment rate starting from 2010 when it reaches 11% and it does not stop increasing until 2014, when it finally starts to slowly decrease, which is surprising for a economy that had its unemployment rate oscillating between 9% and 9.48% in the period 2008 - 2009. Even though Greece already had debt and public deficit problems, a research made by Simeon Karafolas and Alexndros Alexandrakis (2015) from the Technological Educational Institute of Western Macedonia points the financial crisis in the late decade of this century to be the main reason why the situation got worse. However, it is not untill the application of the Greek Economic Adjustment Programme (GEAP) that Greek economy started to experience economic recession, what directly caused this increase before mentioned."
   ]
  },
  {
   "cell_type": "markdown",
   "id": "bc0c773e",
   "metadata": {},
   "source": [
    "b. Use the data on the size of the labor force and potential workers to compute the percentage of adults out of the labor force for the year 2017. Verify that your calculation is equal to one minus the labor force participation rate."
   ]
  },
  {
   "cell_type": "code",
   "execution_count": 60,
   "id": "edb8cfb1",
   "metadata": {},
   "outputs": [
    {
     "data": {
      "text/html": [
       "<div>\n",
       "<style scoped>\n",
       "    .dataframe tbody tr th:only-of-type {\n",
       "        vertical-align: middle;\n",
       "    }\n",
       "\n",
       "    .dataframe tbody tr th {\n",
       "        vertical-align: top;\n",
       "    }\n",
       "\n",
       "    .dataframe thead th {\n",
       "        text-align: right;\n",
       "    }\n",
       "</style>\n",
       "<table border=\"1\" class=\"dataframe\">\n",
       "  <thead>\n",
       "    <tr style=\"text-align: right;\">\n",
       "      <th></th>\n",
       "      <th>Year</th>\n",
       "      <th>Number Unemployed (in thousands)</th>\n",
       "      <th>Number Employed (in thousands)</th>\n",
       "      <th>Labor Force Participation Rate</th>\n",
       "      <th>Labor force</th>\n",
       "      <th>Unemployment rate</th>\n",
       "      <th>Employment rate</th>\n",
       "      <th>Adult Population</th>\n",
       "      <th>Percentage of Adults out of Labor Force</th>\n",
       "      <th>Adults out of Labor Force</th>\n",
       "    </tr>\n",
       "  </thead>\n",
       "  <tbody>\n",
       "    <tr>\n",
       "      <th>0</th>\n",
       "      <td>2008</td>\n",
       "      <td>454.1000</td>\n",
       "      <td>4537.4000</td>\n",
       "      <td>52.9%</td>\n",
       "      <td>4991.5000</td>\n",
       "      <td>9.097466</td>\n",
       "      <td>43.802534</td>\n",
       "      <td>9435.727788</td>\n",
       "      <td>51.90</td>\n",
       "      <td>4444.227788</td>\n",
       "    </tr>\n",
       "    <tr>\n",
       "      <th>1</th>\n",
       "      <td>2009</td>\n",
       "      <td>475.1000</td>\n",
       "      <td>4535.5000</td>\n",
       "      <td>53.2%</td>\n",
       "      <td>5010.6000</td>\n",
       "      <td>9.481898</td>\n",
       "      <td>43.718102</td>\n",
       "      <td>9418.421053</td>\n",
       "      <td>52.20</td>\n",
       "      <td>4407.821053</td>\n",
       "    </tr>\n",
       "    <tr>\n",
       "      <th>2</th>\n",
       "      <td>2010</td>\n",
       "      <td>594.9000</td>\n",
       "      <td>4432.1000</td>\n",
       "      <td>53.6%</td>\n",
       "      <td>5027.0000</td>\n",
       "      <td>11.834096</td>\n",
       "      <td>41.765904</td>\n",
       "      <td>9378.731343</td>\n",
       "      <td>52.60</td>\n",
       "      <td>4351.731343</td>\n",
       "    </tr>\n",
       "    <tr>\n",
       "      <th>3</th>\n",
       "      <td>2011</td>\n",
       "      <td>828.3000</td>\n",
       "      <td>4126.0000</td>\n",
       "      <td>53.0%</td>\n",
       "      <td>4954.3000</td>\n",
       "      <td>16.718810</td>\n",
       "      <td>36.281190</td>\n",
       "      <td>9347.735849</td>\n",
       "      <td>52.00</td>\n",
       "      <td>4393.435849</td>\n",
       "    </tr>\n",
       "    <tr>\n",
       "      <th>4</th>\n",
       "      <td>2012</td>\n",
       "      <td>1130.4000</td>\n",
       "      <td>3745.6000</td>\n",
       "      <td>52.4%</td>\n",
       "      <td>4876.0000</td>\n",
       "      <td>23.182937</td>\n",
       "      <td>29.217063</td>\n",
       "      <td>9305.343511</td>\n",
       "      <td>51.40</td>\n",
       "      <td>4429.343511</td>\n",
       "    </tr>\n",
       "    <tr>\n",
       "      <th>5</th>\n",
       "      <td>2013</td>\n",
       "      <td>1302.8000</td>\n",
       "      <td>3491.0000</td>\n",
       "      <td>52.0%</td>\n",
       "      <td>4793.8000</td>\n",
       "      <td>27.176770</td>\n",
       "      <td>24.823230</td>\n",
       "      <td>9218.846154</td>\n",
       "      <td>51.00</td>\n",
       "      <td>4425.046154</td>\n",
       "    </tr>\n",
       "    <tr>\n",
       "      <th>6</th>\n",
       "      <td>2014</td>\n",
       "      <td>1343.4000</td>\n",
       "      <td>3495.6000</td>\n",
       "      <td>51.9%</td>\n",
       "      <td>4839.0000</td>\n",
       "      <td>27.761934</td>\n",
       "      <td>24.138066</td>\n",
       "      <td>9323.699422</td>\n",
       "      <td>50.90</td>\n",
       "      <td>4484.699422</td>\n",
       "    </tr>\n",
       "    <tr>\n",
       "      <th>7</th>\n",
       "      <td>2015</td>\n",
       "      <td>1299.4000</td>\n",
       "      <td>3438.1000</td>\n",
       "      <td>51.6%</td>\n",
       "      <td>4737.5000</td>\n",
       "      <td>27.427968</td>\n",
       "      <td>24.172032</td>\n",
       "      <td>9181.201550</td>\n",
       "      <td>50.60</td>\n",
       "      <td>4443.701550</td>\n",
       "    </tr>\n",
       "    <tr>\n",
       "      <th>8</th>\n",
       "      <td>2016</td>\n",
       "      <td>1189.9000</td>\n",
       "      <td>3600.7000</td>\n",
       "      <td>52.04%</td>\n",
       "      <td>4790.6000</td>\n",
       "      <td>24.838225</td>\n",
       "      <td>27.201775</td>\n",
       "      <td>9205.611068</td>\n",
       "      <td>51.04</td>\n",
       "      <td>4415.011068</td>\n",
       "    </tr>\n",
       "    <tr>\n",
       "      <th>9</th>\n",
       "      <td>2017</td>\n",
       "      <td>1079.7170</td>\n",
       "      <td>3669.1972</td>\n",
       "      <td>51.9%</td>\n",
       "      <td>4748.9142</td>\n",
       "      <td>22.736081</td>\n",
       "      <td>29.163919</td>\n",
       "      <td>9150.123699</td>\n",
       "      <td>50.90</td>\n",
       "      <td>4401.209499</td>\n",
       "    </tr>\n",
       "    <tr>\n",
       "      <th>10</th>\n",
       "      <td>2018</td>\n",
       "      <td>973.5729</td>\n",
       "      <td>3768.6290</td>\n",
       "      <td>51.6%</td>\n",
       "      <td>4742.2019</td>\n",
       "      <td>20.529976</td>\n",
       "      <td>31.070024</td>\n",
       "      <td>9190.313760</td>\n",
       "      <td>50.60</td>\n",
       "      <td>4448.111860</td>\n",
       "    </tr>\n",
       "    <tr>\n",
       "      <th>11</th>\n",
       "      <td>2019</td>\n",
       "      <td>844.0380</td>\n",
       "      <td>3846.3319</td>\n",
       "      <td>51.8%</td>\n",
       "      <td>4690.3699</td>\n",
       "      <td>17.995127</td>\n",
       "      <td>33.804873</td>\n",
       "      <td>9054.768147</td>\n",
       "      <td>50.80</td>\n",
       "      <td>4364.398247</td>\n",
       "    </tr>\n",
       "    <tr>\n",
       "      <th>12</th>\n",
       "      <td>2020</td>\n",
       "      <td>665.3619</td>\n",
       "      <td>3813.0379</td>\n",
       "      <td>50.6%</td>\n",
       "      <td>4478.3998</td>\n",
       "      <td>14.857135</td>\n",
       "      <td>35.742865</td>\n",
       "      <td>8850.592490</td>\n",
       "      <td>49.60</td>\n",
       "      <td>4372.192690</td>\n",
       "    </tr>\n",
       "  </tbody>\n",
       "</table>\n",
       "</div>"
      ],
      "text/plain": [
       "    Year  Number Unemployed (in thousands)  Number Employed (in thousands)  \\\n",
       "0   2008                          454.1000                       4537.4000   \n",
       "1   2009                          475.1000                       4535.5000   \n",
       "2   2010                          594.9000                       4432.1000   \n",
       "3   2011                          828.3000                       4126.0000   \n",
       "4   2012                         1130.4000                       3745.6000   \n",
       "5   2013                         1302.8000                       3491.0000   \n",
       "6   2014                         1343.4000                       3495.6000   \n",
       "7   2015                         1299.4000                       3438.1000   \n",
       "8   2016                         1189.9000                       3600.7000   \n",
       "9   2017                         1079.7170                       3669.1972   \n",
       "10  2018                          973.5729                       3768.6290   \n",
       "11  2019                          844.0380                       3846.3319   \n",
       "12  2020                          665.3619                       3813.0379   \n",
       "\n",
       "   Labor Force Participation Rate  Labor force  Unemployment rate  \\\n",
       "0                           52.9%    4991.5000           9.097466   \n",
       "1                           53.2%    5010.6000           9.481898   \n",
       "2                           53.6%    5027.0000          11.834096   \n",
       "3                           53.0%    4954.3000          16.718810   \n",
       "4                           52.4%    4876.0000          23.182937   \n",
       "5                           52.0%    4793.8000          27.176770   \n",
       "6                           51.9%    4839.0000          27.761934   \n",
       "7                           51.6%    4737.5000          27.427968   \n",
       "8                          52.04%    4790.6000          24.838225   \n",
       "9                           51.9%    4748.9142          22.736081   \n",
       "10                          51.6%    4742.2019          20.529976   \n",
       "11                          51.8%    4690.3699          17.995127   \n",
       "12                          50.6%    4478.3998          14.857135   \n",
       "\n",
       "    Employment rate  Adult Population  \\\n",
       "0         43.802534       9435.727788   \n",
       "1         43.718102       9418.421053   \n",
       "2         41.765904       9378.731343   \n",
       "3         36.281190       9347.735849   \n",
       "4         29.217063       9305.343511   \n",
       "5         24.823230       9218.846154   \n",
       "6         24.138066       9323.699422   \n",
       "7         24.172032       9181.201550   \n",
       "8         27.201775       9205.611068   \n",
       "9         29.163919       9150.123699   \n",
       "10        31.070024       9190.313760   \n",
       "11        33.804873       9054.768147   \n",
       "12        35.742865       8850.592490   \n",
       "\n",
       "    Percentage of Adults out of Labor Force  Adults out of Labor Force  \n",
       "0                                     51.90                4444.227788  \n",
       "1                                     52.20                4407.821053  \n",
       "2                                     52.60                4351.731343  \n",
       "3                                     52.00                4393.435849  \n",
       "4                                     51.40                4429.343511  \n",
       "5                                     51.00                4425.046154  \n",
       "6                                     50.90                4484.699422  \n",
       "7                                     50.60                4443.701550  \n",
       "8                                     51.04                4415.011068  \n",
       "9                                     50.90                4401.209499  \n",
       "10                                    50.60                4448.111860  \n",
       "11                                    50.80                4364.398247  \n",
       "12                                    49.60                4372.192690  "
      ]
     },
     "execution_count": 60,
     "metadata": {},
     "output_type": "execute_result"
    }
   ],
   "source": [
    "df[\"Adults out of Labor Force\"]=df[\"Adult Population\"]-df[\"Labor force\"]\n",
    "df"
   ]
  },
  {
   "cell_type": "markdown",
   "id": "9ecad2a6",
   "metadata": {},
   "source": [
    "The percentage of adults out of the labor force for the year 2017 is 50.9%."
   ]
  },
  {
   "cell_type": "markdown",
   "id": "091ac338",
   "metadata": {},
   "source": [
    "c. What are the general trends that you observe in the data?"
   ]
  },
  {
   "cell_type": "code",
   "execution_count": 73,
   "id": "41832c2d",
   "metadata": {
    "scrolled": true
   },
   "outputs": [
    {
     "data": {
      "image/png": "[encoded data removed]",
      "text/plain": [
       "<Figure size 432x288 with 1 Axes>"
      ]
     },
     "metadata": {
      "needs_background": "light"
     },
     "output_type": "display_data"
    }
   ],
   "source": [
    "import pandas as pd\n",
    "import matplotlib.pyplot as plt\n",
    "data = {'Year': [2008,2009,2010,2011,2012,2013,2014,2015,2016,2017,2018,2019,2020],\n",
    "        'Employment_Rate': [43.802534,43.718102,41.765904,36.281190,29.217063,24.823230,24.138066,24.172032,27.201775,29.163919,31.070024,33.804873,35.742865]\n",
    "    }\n",
    "\n",
    "df = pd.DataFrame(data,columns=['Year','Employment_Rate'])\n",
    "df.plot(x ='Year', y='Employment_Rate', kind = 'line')\n",
    "plt.show()"
   ]
  },
  {
   "cell_type": "markdown",
   "id": "3db45734",
   "metadata": {},
   "source": [
    "Since 2010 there is a rapid increase in the greek unemployment rate until 2014 when it starts to decrease slowly. What it is surprising it is the fact that by 2020, the numer of employed people have not got up to were it was in 2008. Also, it is more clear when looking at the employment rate: in 2008, it was 43.8% of employment while in 2020 it remains in 35.74%. As shown in the graphic, it is complicated for the employment to get back as what it was in the past, there is even a there is a three-year period where the employment rate stagnates in 24% between 2013 and 2015. With all these said, it seems the consequences of the economic recession are still being shown until these days and greek economy has not fully recovered for it yet."
   ]
  },
  {
   "cell_type": "markdown",
   "id": "a21dc87e",
   "metadata": {},
   "source": [
    "**7. Assume that 1 million immigrants enter Peru from Venezuela this year and that some of these immigrants work in the home construction industry.**"
   ]
  },
  {
   "cell_type": "markdown",
   "id": "aa6f4c9f",
   "metadata": {},
   "source": [
    "a. Graph the impact of immigration on the supply of labor and the resulting new equilibrium wage and quantity."
   ]
  },
  {
   "cell_type": "code",
   "execution_count": 149,
   "id": "6ccfc5ea",
   "metadata": {},
   "outputs": [],
   "source": [
    "%matplotlib inline\n",
    "import matplotlib.pyplot as plt\n",
    "import numpy as np\n",
    "import sympy as sy"
   ]
  },
  {
   "cell_type": "code",
   "execution_count": 150,
   "id": "6fb78008",
   "metadata": {},
   "outputs": [],
   "source": [
    "def S(q):\n",
    "    return (q**2)\n",
    "\n",
    "def D(q):\n",
    "    return (q - 20)**2\n",
    "\n",
    "q = np.linspace(0, 16, 1000)"
   ]
  },
  {
   "cell_type": "markdown",
   "id": "76d581f1",
   "metadata": {},
   "source": [
    "Supply and Demand curves before the inmigrants come to Peru:"
   ]
  },
  {
   "cell_type": "code",
   "execution_count": 182,
   "id": "b2cd1760",
   "metadata": {
    "scrolled": false
   },
   "outputs": [
    {
     "data": {
      "text/plain": [
       "Text(0, 0.5, 'Price')"
      ]
     },
     "execution_count": 182,
     "metadata": {},
     "output_type": "execute_result"
    },
    {
     "data": {
      "image/png": "[encoded data removed]",
      "text/plain": [
       "<Figure size 432x288 with 1 Axes>"
      ]
     },
     "metadata": {
      "needs_background": "light"
     },
     "output_type": "display_data"
    }
   ],
   "source": [
    "plt.plot(q, D(q), label = \"Demand Curve\")\n",
    "plt.plot([0,16],[100,450],color='tab:grey', label = \"Supply Curve\")\n",
    "plt.title(\"Supply and Demand\")\n",
    "plt.legend(frameon = False)\n",
    "plt.xlabel(\"Quantity $q$\")\n",
    "plt.ylabel(\"Price\")"
   ]
  },
  {
   "cell_type": "markdown",
   "id": "279d47ae",
   "metadata": {},
   "source": [
    "New equilibrium wage and quantity:                                                                                             \n",
    "The supply curve raises because there is more workers offering their work to the firms."
   ]
  },
  {
   "cell_type": "code",
   "execution_count": 200,
   "id": "a0a63c1d",
   "metadata": {
    "scrolled": true
   },
   "outputs": [
    {
     "data": {
      "text/plain": [
       "Text(0, 0.5, 'Price')"
      ]
     },
     "execution_count": 200,
     "metadata": {},
     "output_type": "execute_result"
    },
    {
     "data": {
      "image/png": "[encoded data removed]",
      "text/plain": [
       "<Figure size 432x288 with 1 Axes>"
      ]
     },
     "metadata": {
      "needs_background": "light"
     },
     "output_type": "display_data"
    }
   ],
   "source": [
    "plt.plot(q, D(q), label = \"Demand Curve\")\n",
    "plt.plot([0,16],[0,400],color='tab:grey', label = \"Supply Curve\")\n",
    "plt.plot(8, 200, 'o', markersize = 14)\n",
    "plt.annotate(s='New Equilibrium', xy=(8,210),xytext=(8,320),arrowprops = dict(arrowstyle='->'))\n",
    "\n",
    "plt.title(\"Supply and Demand\")\n",
    "plt.legend(frameon = False)\n",
    "plt.xlabel(\"Quantity $q$\")\n",
    "plt.ylabel(\"Price\")"
   ]
  },
  {
   "cell_type": "markdown",
   "id": "f32b6931",
   "metadata": {},
   "source": [
    "b. These new immigrants also increase the demand for housing. Graph the change in the demand for labor in the home construction industry due to the increased demand for housing. Without considering the increase in the supply of labor, how does the equilibrium wage and quantity of workers hired change?"
   ]
  },
  {
   "cell_type": "code",
   "execution_count": 224,
   "id": "d9b37090",
   "metadata": {},
   "outputs": [
    {
     "data": {
      "text/plain": [
       "Text(0, 0.5, 'Price')"
      ]
     },
     "execution_count": 224,
     "metadata": {},
     "output_type": "execute_result"
    },
    {
     "data": {
      "image/png": "[encoded data removed]",
      "text/plain": [
       "<Figure size 432x288 with 1 Axes>"
      ]
     },
     "metadata": {
      "needs_background": "light"
     },
     "output_type": "display_data"
    }
   ],
   "source": [
    "plt.plot([2,16],[400,0],color='tab:green', label = \"Demand Curve\")\n",
    "plt.plot([0,16],[0,400],color='tab:grey', label = \"Supply Curve\")\n",
    "plt.plot(8.5, 220, 'o', markersize = 14)\n",
    "plt.annotate(s='New Equilibrium', xy=(8.5,240),xytext=(8.5,320),arrowprops = dict(arrowstyle='->'))\n",
    "\n",
    "plt.title(\"Supply and Demand\")\n",
    "plt.legend(frameon = False)\n",
    "plt.xlabel(\"Quantity $q$\")\n",
    "plt.ylabel(\"Price\")"
   ]
  },
  {
   "cell_type": "markdown",
   "id": "e34e6af0",
   "metadata": {},
   "source": [
    "In the first place, due to an increase for the demand of housing, the demand for labor in the home construction industry would expand to the right. Considering the increase in the supply of labor, the new equilibrium wage would keep the same quantity of workers, what it does increase is their value. Why?We need to take into account the increase on the demand, what happens next is a chain effect: when the demand increases, the marginal produces also does and at the same time that impacts on the salary of the workers (also get increased and makes them more valuable). "
   ]
  },
  {
   "cell_type": "markdown",
   "id": "7d293ee2",
   "metadata": {},
   "source": [
    "c. Considering both the change in the supply and the demand for labor in the home construction industry, what can you conclude about the change in the equilibrium wage and quantity of workers hired?"
   ]
  },
  {
   "cell_type": "markdown",
   "id": "689428fa",
   "metadata": {},
   "source": [
    "The immigrantion brought expansions for both of our curves: demand and supply. If these both increases, the equilibrium wage moves to the right horizontally, which means it still remains as the same amount and the quantity of workers hired is also the same. "
   ]
  },
  {
   "cell_type": "markdown",
   "id": "35e3ca24",
   "metadata": {},
   "source": [
    "**8. You have to replicate the results from Card and Kruger 1994. For this, you need to read the next sources:**"
   ]
  },
  {
   "cell_type": "markdown",
   "id": "73c1dd6d",
   "metadata": {},
   "source": [
    "Use this example and replicate the results using Python:                                                               \n",
    "To replicate the results you will need to use this data"
   ]
  },
  {
   "cell_type": "code",
   "execution_count": 119,
   "id": "cc76a1ca",
   "metadata": {},
   "outputs": [],
   "source": [
    "import pandas as pd\n",
    "import matplotlib.pyplot as plt\n",
    "import warnings \n",
    "import seaborn as sns\n",
    "import statsmodels.api as sm\n",
    "import statsmodels.formula.api as smf\n",
    "import numpy as np "
   ]
  },
  {
   "cell_type": "code",
   "execution_count": 121,
   "id": "65987f96",
   "metadata": {
    "scrolled": true
   },
   "outputs": [
    {
     "data": {
      "text/html": [
       "<div>\n",
       "<style scoped>\n",
       "    .dataframe tbody tr th:only-of-type {\n",
       "        vertical-align: middle;\n",
       "    }\n",
       "\n",
       "    .dataframe tbody tr th {\n",
       "        vertical-align: top;\n",
       "    }\n",
       "\n",
       "    .dataframe thead th {\n",
       "        text-align: right;\n",
       "    }\n",
       "</style>\n",
       "<table border=\"1\" class=\"dataframe\">\n",
       "  <thead>\n",
       "    <tr style=\"text-align: right;\">\n",
       "      <th></th>\n",
       "      <th>CO_OWNED</th>\n",
       "      <th>SOUTHJ</th>\n",
       "      <th>CENTRALJ</th>\n",
       "      <th>PA1</th>\n",
       "      <th>PA2</th>\n",
       "      <th>DEMP</th>\n",
       "      <th>nj</th>\n",
       "      <th>bk</th>\n",
       "      <th>kfc</th>\n",
       "      <th>roys</th>\n",
       "      <th>wendys</th>\n",
       "      <th>d</th>\n",
       "      <th>d_nj</th>\n",
       "      <th>fte</th>\n",
       "    </tr>\n",
       "  </thead>\n",
       "  <tbody>\n",
       "    <tr>\n",
       "      <th>0</th>\n",
       "      <td>0</td>\n",
       "      <td>0</td>\n",
       "      <td>1</td>\n",
       "      <td>0</td>\n",
       "      <td>0</td>\n",
       "      <td>12.00</td>\n",
       "      <td>1</td>\n",
       "      <td>1</td>\n",
       "      <td>0</td>\n",
       "      <td>0</td>\n",
       "      <td>0</td>\n",
       "      <td>0</td>\n",
       "      <td>0</td>\n",
       "      <td>15.00</td>\n",
       "    </tr>\n",
       "    <tr>\n",
       "      <th>1</th>\n",
       "      <td>0</td>\n",
       "      <td>0</td>\n",
       "      <td>1</td>\n",
       "      <td>0</td>\n",
       "      <td>0</td>\n",
       "      <td>6.50</td>\n",
       "      <td>1</td>\n",
       "      <td>1</td>\n",
       "      <td>0</td>\n",
       "      <td>0</td>\n",
       "      <td>0</td>\n",
       "      <td>0</td>\n",
       "      <td>0</td>\n",
       "      <td>15.00</td>\n",
       "    </tr>\n",
       "    <tr>\n",
       "      <th>2</th>\n",
       "      <td>0</td>\n",
       "      <td>0</td>\n",
       "      <td>1</td>\n",
       "      <td>0</td>\n",
       "      <td>0</td>\n",
       "      <td>-1.00</td>\n",
       "      <td>1</td>\n",
       "      <td>0</td>\n",
       "      <td>0</td>\n",
       "      <td>1</td>\n",
       "      <td>0</td>\n",
       "      <td>0</td>\n",
       "      <td>0</td>\n",
       "      <td>24.00</td>\n",
       "    </tr>\n",
       "    <tr>\n",
       "      <th>3</th>\n",
       "      <td>1</td>\n",
       "      <td>0</td>\n",
       "      <td>0</td>\n",
       "      <td>0</td>\n",
       "      <td>0</td>\n",
       "      <td>2.25</td>\n",
       "      <td>1</td>\n",
       "      <td>0</td>\n",
       "      <td>0</td>\n",
       "      <td>1</td>\n",
       "      <td>0</td>\n",
       "      <td>0</td>\n",
       "      <td>0</td>\n",
       "      <td>19.25</td>\n",
       "    </tr>\n",
       "    <tr>\n",
       "      <th>4</th>\n",
       "      <td>0</td>\n",
       "      <td>0</td>\n",
       "      <td>0</td>\n",
       "      <td>0</td>\n",
       "      <td>0</td>\n",
       "      <td>13.00</td>\n",
       "      <td>1</td>\n",
       "      <td>1</td>\n",
       "      <td>0</td>\n",
       "      <td>0</td>\n",
       "      <td>0</td>\n",
       "      <td>0</td>\n",
       "      <td>0</td>\n",
       "      <td>21.50</td>\n",
       "    </tr>\n",
       "    <tr>\n",
       "      <th>...</th>\n",
       "      <td>...</td>\n",
       "      <td>...</td>\n",
       "      <td>...</td>\n",
       "      <td>...</td>\n",
       "      <td>...</td>\n",
       "      <td>...</td>\n",
       "      <td>...</td>\n",
       "      <td>...</td>\n",
       "      <td>...</td>\n",
       "      <td>...</td>\n",
       "      <td>...</td>\n",
       "      <td>...</td>\n",
       "      <td>...</td>\n",
       "      <td>...</td>\n",
       "    </tr>\n",
       "    <tr>\n",
       "      <th>815</th>\n",
       "      <td>1</td>\n",
       "      <td>0</td>\n",
       "      <td>0</td>\n",
       "      <td>0</td>\n",
       "      <td>1</td>\n",
       "      <td>-2.50</td>\n",
       "      <td>0</td>\n",
       "      <td>0</td>\n",
       "      <td>0</td>\n",
       "      <td>1</td>\n",
       "      <td>0</td>\n",
       "      <td>1</td>\n",
       "      <td>0</td>\n",
       "      <td>12.50</td>\n",
       "    </tr>\n",
       "    <tr>\n",
       "      <th>816</th>\n",
       "      <td>0</td>\n",
       "      <td>0</td>\n",
       "      <td>0</td>\n",
       "      <td>0</td>\n",
       "      <td>1</td>\n",
       "      <td>16.00</td>\n",
       "      <td>0</td>\n",
       "      <td>0</td>\n",
       "      <td>0</td>\n",
       "      <td>1</td>\n",
       "      <td>0</td>\n",
       "      <td>1</td>\n",
       "      <td>0</td>\n",
       "      <td>34.00</td>\n",
       "    </tr>\n",
       "    <tr>\n",
       "      <th>817</th>\n",
       "      <td>1</td>\n",
       "      <td>0</td>\n",
       "      <td>0</td>\n",
       "      <td>0</td>\n",
       "      <td>1</td>\n",
       "      <td>-10.25</td>\n",
       "      <td>0</td>\n",
       "      <td>0</td>\n",
       "      <td>0</td>\n",
       "      <td>1</td>\n",
       "      <td>0</td>\n",
       "      <td>1</td>\n",
       "      <td>0</td>\n",
       "      <td>10.00</td>\n",
       "    </tr>\n",
       "    <tr>\n",
       "      <th>818</th>\n",
       "      <td>0</td>\n",
       "      <td>0</td>\n",
       "      <td>0</td>\n",
       "      <td>1</td>\n",
       "      <td>0</td>\n",
       "      <td>-1.50</td>\n",
       "      <td>0</td>\n",
       "      <td>1</td>\n",
       "      <td>0</td>\n",
       "      <td>0</td>\n",
       "      <td>0</td>\n",
       "      <td>1</td>\n",
       "      <td>0</td>\n",
       "      <td>14.00</td>\n",
       "    </tr>\n",
       "    <tr>\n",
       "      <th>819</th>\n",
       "      <td>0</td>\n",
       "      <td>0</td>\n",
       "      <td>0</td>\n",
       "      <td>1</td>\n",
       "      <td>0</td>\n",
       "      <td>-3.50</td>\n",
       "      <td>0</td>\n",
       "      <td>1</td>\n",
       "      <td>0</td>\n",
       "      <td>0</td>\n",
       "      <td>0</td>\n",
       "      <td>1</td>\n",
       "      <td>0</td>\n",
       "      <td>17.50</td>\n",
       "    </tr>\n",
       "  </tbody>\n",
       "</table>\n",
       "<p>820 rows × 14 columns</p>\n",
       "</div>"
      ],
      "text/plain": [
       "     CO_OWNED  SOUTHJ  CENTRALJ  PA1  PA2   DEMP  nj  bk  kfc  roys  wendys  \\\n",
       "0           0       0         1    0    0  12.00   1   1    0     0       0   \n",
       "1           0       0         1    0    0   6.50   1   1    0     0       0   \n",
       "2           0       0         1    0    0  -1.00   1   0    0     1       0   \n",
       "3           1       0         0    0    0   2.25   1   0    0     1       0   \n",
       "4           0       0         0    0    0  13.00   1   1    0     0       0   \n",
       "..        ...     ...       ...  ...  ...    ...  ..  ..  ...   ...     ...   \n",
       "815         1       0         0    0    1  -2.50   0   0    0     1       0   \n",
       "816         0       0         0    0    1  16.00   0   0    0     1       0   \n",
       "817         1       0         0    0    1 -10.25   0   0    0     1       0   \n",
       "818         0       0         0    1    0  -1.50   0   1    0     0       0   \n",
       "819         0       0         0    1    0  -3.50   0   1    0     0       0   \n",
       "\n",
       "     d  d_nj    fte  \n",
       "0    0     0  15.00  \n",
       "1    0     0  15.00  \n",
       "2    0     0  24.00  \n",
       "3    0     0  19.25  \n",
       "4    0     0  21.50  \n",
       "..  ..   ...    ...  \n",
       "815  1     0  12.50  \n",
       "816  1     0  34.00  \n",
       "817  1     0  10.00  \n",
       "818  1     0  14.00  \n",
       "819  1     0  17.50  \n",
       "\n",
       "[820 rows x 14 columns]"
      ]
     },
     "execution_count": 121,
     "metadata": {},
     "output_type": "execute_result"
    }
   ],
   "source": [
    "url1 = \"https://raw.githubusercontent.com/Alejangro19/Macro/main/njmin3_1.csv\"\n",
    "data = pd.read_csv(url1)\n",
    "data"
   ]
  },
  {
   "cell_type": "code",
   "execution_count": 125,
   "id": "7278b98c",
   "metadata": {},
   "outputs": [],
   "source": [
    "import pandas as pd\n",
    "import statsmodels.formula.api as smf \n",
    "import statsmodels.api as sm  \n",
    "import seaborn as sns\n",
    "import matplotlib.pyplot as plt "
   ]
  },
  {
   "cell_type": "code",
   "execution_count": 129,
   "id": "60ee800a",
   "metadata": {},
   "outputs": [
    {
     "name": "stdout",
     "output_type": "stream",
     "text": [
      "                            OLS Regression Results                            \n",
      "==============================================================================\n",
      "Dep. Variable:                    fte   R-squared:                       0.219\n",
      "Model:                            OLS   Adj. R-squared:                  0.211\n",
      "Method:                 Least Squares   F-statistic:                     27.47\n",
      "Date:                Sat, 21 May 2022   Prob (F-statistic):           9.44e-38\n",
      "Time:                        00:29:56   Log-Likelihood:                -2809.2\n",
      "No. Observations:                 794   AIC:                             5636.\n",
      "Df Residuals:                     785   BIC:                             5679.\n",
      "Df Model:                           8                                         \n",
      "Covariance Type:            nonrobust                                         \n",
      "==============================================================================\n",
      "                 coef    std err          t      P>|t|      [0.025      0.975]\n",
      "------------------------------------------------------------------------------\n",
      "Intercept     24.3532      0.601     40.549      0.000      23.174      25.532\n",
      "d_nj           0.6401      0.630      1.016      0.310      -0.597       1.877\n",
      "kfc          -10.0556      0.845    -11.899      0.000     -11.714      -8.397\n",
      "roys          -1.7036      0.858     -1.985      0.048      -3.389      -0.019\n",
      "wendys        -1.0349      0.921     -1.124      0.261      -2.842       0.772\n",
      "CO_OWNED      -0.7064      0.719     -0.983      0.326      -2.117       0.704\n",
      "SOUTHJ        -3.6672      0.755     -4.857      0.000      -5.149      -2.185\n",
      "CENTRALJ       0.0452      0.878      0.052      0.959      -1.677       1.768\n",
      "PA1            0.7740      1.130      0.685      0.494      -1.444       2.992\n",
      "==============================================================================\n",
      "Omnibus:                      296.588   Durbin-Watson:                   2.041\n",
      "Prob(Omnibus):                  0.000   Jarque-Bera (JB):             1861.874\n",
      "Skew:                           1.553   Prob(JB):                         0.00\n",
      "Kurtosis:                       9.828   Cond. No.                         5.17\n",
      "==============================================================================\n",
      "\n",
      "Notes:\n",
      "[1] Standard Errors assume that the covariance matrix of the errors is correctly specified.\n"
     ]
    }
   ],
   "source": [
    "model = smf.ols(formula = \"fte ~ d_nj + kfc + roys + wendys + CO_OWNED + SOUTHJ + CENTRALJ + PA1\", data = data).fit()\n",
    "print(model.summary())"
   ]
  },
  {
   "cell_type": "code",
   "execution_count": 132,
   "id": "86452d41",
   "metadata": {},
   "outputs": [
    {
     "data": {
      "text/plain": [
       "[20.439408099688475,\n",
       " 21.02742946708464,\n",
       " 23.33116883116883,\n",
       " 21.165584415584416,\n",
       " 20.439408099688475,\n",
       " 17.547647368208118]"
      ]
     },
     "execution_count": 132,
     "metadata": {},
     "output_type": "execute_result"
    }
   ],
   "source": [
    "NJ_before = data.loc[(data['nj']==1) & (data['d']!=1),'fte'].mean()\n",
    "NJ_after  = data.loc[(data['nj']==1) & (data['d']==1),'fte'].mean()\n",
    "\n",
    "PA_before = data.loc[(data['nj']!=1) & (data['d']!=1),'fte'].mean()\n",
    "PA_after  = data.loc[(data['nj']!=1) & (data['d']==1),'fte'].mean()\n",
    "\n",
    "NJ_counterfactual = NJ_before + ( NJ_before - PA_before )\n",
    "\n",
    "[NJ_before, NJ_after,\n",
    " PA_before,PA_after,\n",
    " NJ_before, NJ_counterfactual]"
   ]
  },
  {
   "cell_type": "markdown",
   "id": "8250df62",
   "metadata": {},
   "source": [
    "Does the minimum wage have an impact on employment?"
   ]
  },
  {
   "cell_type": "markdown",
   "id": "c8328622",
   "metadata": {},
   "source": [
    "The research aims to measure how employment in that city (New Jersey) fared after the minimum wage was raised. It is shown that, contrary to the traditional conception of the economy, raising the minimum wage does not reduce employment. In fact, the experiment did not have a negative impact on employment at all because instead of doing it, it increaed employment."
   ]
  },
  {
   "cell_type": "markdown",
   "id": "1f9de004",
   "metadata": {},
   "source": [
    "What is the difference and difference method and explain in detail using figures and/or equations?"
   ]
  },
  {
   "cell_type": "markdown",
   "id": "cfc10ba4",
   "metadata": {},
   "source": [
    "It is an experimental method that based on long periods of time compares changes between a treatment group and a comparison group, so differences can be made before and after the experiment in reference to the two groups. "
   ]
  },
  {
   "cell_type": "code",
   "execution_count": 225,
   "id": "c2b75c2e",
   "metadata": {
    "scrolled": true
   },
   "outputs": [
    {
     "data": {
      "text/plain": [
       "Text(0.5, 1.0, 'Difference-in-difference: Before and After')"
      ]
     },
     "execution_count": 225,
     "metadata": {},
     "output_type": "execute_result"
    },
    {
     "data": {
      "text/plain": [
       "<Figure size 320x240 with 0 Axes>"
      ]
     },
     "metadata": {},
     "output_type": "display_data"
    },
    {
     "data": {
      "image/png": "[encoded data removed]",
      "text/plain": [
       "<Figure size 432x288 with 1 Axes>"
      ]
     },
     "metadata": {
      "needs_background": "light"
     },
     "output_type": "display_data"
    }
   ],
   "source": [
    "plt.figure(num=None, figsize=(4, 3), dpi=80, facecolor='w', edgecolor='k')\n",
    "fig, ax = plt.subplots()\n",
    "lineNJ, = ax.plot(['0', '1'], [NJ_before, NJ_after],color='blue',label='NJ before and after')\n",
    "linePA, = ax.plot(['0', '1'], [PA_before, PA_after],color = 'red',label = 'PA before and after')\n",
    "lineNJ0, = ax.plot(['0', '1'], [NJ_before, NJ_counterfactual],color = 'blue',linestyle='dashed',label='NJ counterfactual')\n",
    "ax.legend()\n",
    "plt.ylim(15, 28)  \n",
    "plt.title(\"Difference-in-difference: Before and After\", fontsize=\"14\")"
   ]
  },
  {
   "cell_type": "markdown",
   "id": "a448a3da",
   "metadata": {},
   "source": [
    "How this method is used to calculate the impact of minimum wage on employment?"
   ]
  },
  {
   "cell_type": "markdown",
   "id": "d961152b",
   "metadata": {},
   "source": [
    "In this case the treatment group was New Jersey as shown in the graphic, while Philadelphia was the comparison group, which is the group is not included to the program. The increase of minimum wage in New Jersey did not bring any negative effects on employment as shown after the experiment, denying the traditional economic model of the minimum wage, which states it would have negatives effects on it. In fact, the comparison proved minimum wage increased employment."
   ]
  },
  {
   "cell_type": "code",
   "execution_count": 195,
   "id": "d132ac91",
   "metadata": {},
   "outputs": [
    {
     "data": {
      "text/plain": [
       "Text(61, 175, 'Marginal\\nDisutulity\\nof Labour\\nSupply')"
      ]
     },
     "execution_count": 195,
     "metadata": {},
     "output_type": "execute_result"
    },
    {
     "data": {
      "image/png": "[encoded data removed]",
      "text/plain": [
       "<Figure size 432x288 with 1 Axes>"
      ]
     },
     "metadata": {
      "needs_background": "light"
     },
     "output_type": "display_data"
    }
   ],
   "source": [
    "plt.title('Employment Impact of a Minimum Wage')\n",
    "\n",
    "plt.xlim(10,70)\n",
    "plt.ylim(130,200)\n",
    "   \n",
    "plt.plot([10,30],[150,150],color='b')\n",
    "plt.text(10.5,140.0,\"Marginal\\nDisutility\\nof Labour\",size=8,color='b')\n",
    "   \n",
    "plt.plot([10,40],[160,160],color='lightgrey',linestyle='--')\n",
    "plt.plot([40,40],[130,160],color='lightgrey',linestyle='--')\n",
    "   \n",
    "plt.annotate(s='', xy=(30,138),xytext=(40,138),arrowprops = dict(arrowstyle='<->'))\n",
    "plt.text(31,140,\"Employment\\nLoss\",size=8, color='k')\n",
    "\n",
    "plt.plot([30,40],[158,158],color='plum',linestyle='--')\n",
    "\n",
    "plt.annotate(s='', xy=(32,158),xytext=(40,175),arrowprops = dict(arrowstyle='->',color='purple'))\n",
    "plt.text(40,175,\"Shadow Price of\\nLabour\",size=8, color='purple')\n",
    "\n",
    "plt.axhspan(170,150,xmin=0.0,xmax=20/60,alpha=0.5,color='red')\n",
    "plt.annotate(s='Additional Surplus to\\nEmployed', xy=(20,162),xytext=(30,185),arrowprops = dict(arrowstyle='->'))\n",
    "\n",
    "\n",
    "trianglex=[30,30,40,30]\n",
    "triangley=[150,170,160,150]\n",
    "plt.plot(trianglex,triangley, color='y')\n",
    "plt.fill(trianglex,triangley,color='y')\n",
    "\n",
    "plt.plot([10,30],[170,170],'tab:red')\n",
    "plt.plot([30,30],[130,170],'tab:red')\n",
    "plt.plot([50,50],[130,170],'tab:red')\n",
    "plt.text(11,171,\"Wage Rate\",size=8,color='r')\n",
    "\n",
    "\n",
    "#Demand Curve\n",
    "plt.plot([20,60],[180,140],color='tab:grey')\n",
    "plt.text(61,135,\"Marginal\\nProduct\\nof Labour\\nDemand\",size=8,color='k')\n",
    "\n",
    "#Supply Curve\n",
    "plt.plot([20,60],[140,180],color='tab:grey')\n",
    "plt.text(61,175,\"Marginal\\nDisutulity\\nof Labour\\nSupply\",size=8,color='k')"
   ]
  },
  {
   "cell_type": "markdown",
   "id": "1f6b410f",
   "metadata": {},
   "source": [
    "BIBLIOGRAFÍA:                                                              \n",
    "    - Karafolas, S. and Alexandrakis, A. (2015). Unemployment Effects of the Greek Crisis: A Regional Examination. _Procedia Economics and Finance, 19._ 82-90. https://www.sciencedirect.com/science/article/pii/S2212567115000106"
   ]
  },
  {
   "cell_type": "code",
   "execution_count": null,
   "id": "10407e51",
   "metadata": {},
   "outputs": [],
   "source": []
  }
 ],
 "metadata": {
  "kernelspec": {
   "display_name": "Python 3 (ipykernel)",
   "language": "python",
   "name": "python3"
  },
  "language_info": {
   "codemirror_mode": {
    "name": "ipython",
    "version": 3
   },
   "file_extension": ".py",
   "mimetype": "text/x-python",
   "name": "python",
   "nbconvert_exporter": "python",
   "pygments_lexer": "ipython3",
   "version": "3.9.7"
  }
 },
 "nbformat": 4,
 "nbformat_minor": 5
}
