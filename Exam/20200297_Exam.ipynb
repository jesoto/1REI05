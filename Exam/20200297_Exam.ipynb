{
 "cells": [
  {
   "cell_type": "markdown",
   "id": "f367c6c6",
   "metadata": {},
   "source": [
    "Mid Term:\n",
    "\n",
    "Name: Alexandra Gonzalez Saldaña\n",
    "Code: 20200297 "
   ]
  },
  {
   "cell_type": "markdown",
   "id": "6534aebc",
   "metadata": {},
   "source": []
  },
  {
   "cell_type": "markdown",
   "id": "beb3382c",
   "metadata": {},
   "source": [
    "Question 1"
   ]
  },
  {
   "cell_type": "markdown",
   "id": "57394726",
   "metadata": {},
   "source": [
    "a) What is Poldan’s GDP?"
   ]
  },
  {
   "cell_type": "markdown",
   "id": "400f5178",
   "metadata": {},
   "source": [
    "GDP per capita = GDP/(Total population) \n",
    "\n",
    "15 500 = GDP/ 175 000 000\n",
    "\n",
    "GDP= 2 712 500 000 000 "
   ]
  },
  {
   "cell_type": "markdown",
   "id": "d0c49f8e",
   "metadata": {},
   "source": [
    "b) What is the number of employed people in Poldan? "
   ]
  },
  {
   "cell_type": "markdown",
   "id": "9bc44dbc",
   "metadata": {},
   "source": [
    "GDP per worker = GDP/(Number of people in employment) \n",
    "\n",
    "29 166.667 = 2 712 500 000 000  / Number of people in employment\n",
    "\n",
    "Number of people in employment = 92,999,998.94 "
   ]
  },
  {
   "cell_type": "markdown",
   "id": "f6310606",
   "metadata": {},
   "source": []
  },
  {
   "cell_type": "markdown",
   "id": "88a9ff68",
   "metadata": {},
   "source": [
    "Question 2"
   ]
  },
  {
   "cell_type": "markdown",
   "id": "2d4f9f16",
   "metadata": {},
   "source": [
    "a) What is Manyger’s GDP per capita?"
   ]
  },
  {
   "cell_type": "markdown",
   "id": "a0835ce9",
   "metadata": {},
   "source": [
    "GDP per capita = GDP/(Total population) \n",
    "\n",
    "GDP per capita = 2 200 billion / 89 million\n",
    "\n",
    "GDP per capita = 24 719.10"
   ]
  },
  {
   "cell_type": "markdown",
   "id": "0b9fd315",
   "metadata": {},
   "source": [
    "b) What is Manyger’s GDP per worker?"
   ]
  },
  {
   "cell_type": "markdown",
   "id": "686e3a0b",
   "metadata": {},
   "source": [
    "GDP per worker = GDP/ Number of people in employment\n",
    "\n",
    "GDP per worker = 2 200 billion/51 million\n",
    "\n",
    "GDP per worker = 43 137.25"
   ]
  },
  {
   "cell_type": "markdown",
   "id": "fb5837c5",
   "metadata": {},
   "source": [
    "c) Based on the given information, which country would be considered more productive? Explain your answer."
   ]
  },
  {
   "cell_type": "markdown",
   "id": "e3fbd378",
   "metadata": {},
   "source": [
    "We are aware that the GDP is an economic indicator that reflects the monetary value of the goods and services produced by a territory in a defined period of time. Observing the results, we see that Poldan's gdp is greater than Manyger's. This means that there is a higher productivity, however, the difference is not too much, so they may actually have a similar productivity that is affected by exogenous variables that limit that small difference. On the other hand, something interesting is that labor productivity is higher in Manyger, with a notable difference. Despite this, it is clear that Poldan has higher productivity since, despite having lower labor productivity, it has a higher GDP, in addition to having a greater number of workers, which means that there is greater productivity."
   ]
  },
  {
   "cell_type": "markdown",
   "id": "ba248658",
   "metadata": {},
   "source": [
    "d) Which country do you think has higher living standards?"
   ]
  },
  {
   "cell_type": "markdown",
   "id": "f9cae052",
   "metadata": {},
   "source": [
    "I can say that despite the fact that Manyger has a better GDP per worker, this does not really mean a better quality of life since there are variables that are not studied, for example, it omits the depreciation of capital as a consequence of wear and tear\n",
    "\n",
    "In other words, since there are fewer workers it requires a higher demand so it can actually be worse for living standards. Consequently, I can affirm that there is a higher standard of living in Poldan due to its GDP and the number of workers."
   ]
  },
  {
   "cell_type": "markdown",
   "id": "d87e171c",
   "metadata": {},
   "source": []
  },
  {
   "cell_type": "markdown",
   "id": "35333123",
   "metadata": {},
   "source": [
    "Question 3"
   ]
  },
  {
   "cell_type": "markdown",
   "id": "d9e724f0",
   "metadata": {},
   "source": [
    "a) Suppose that from period 1 to period 2, the unemployment rate in the economy decreases. Everything else remains unchanged. What happens to the total efficiency units of labor? Express your results formally as an inequality, using the formula for total efficiency units of labor presented in the chapter (in particular, recall that total efficiency units of labor in two periods can be written as H1 = L1 * h1 and H2 = L2 * h2; where L is the total number of employed workers)."
   ]
  },
  {
   "cell_type": "markdown",
   "id": "765bd653",
   "metadata": {},
   "source": [
    "Total efficiency units of labor are defined as the product of the total number of workers and the average human capital (efficiency) of employed workers:\n",
    "\n",
    "H = L x h\n",
    "\n",
    "H: Total efficiency units of labor\n",
    "L: Total number of employed workers\n",
    "h: Working hours\n",
    "\n",
    "So, if the unemployment rate decreases from period 1 to 2, it means that there are more employed workers. Then suppose that the increase in employed workers is twice its initial value, so the formula would be:\n",
    "\n",
    "H1 = L1 x h1 < H2 = 2L1 x h2\n",
    "\n",
    "Consequently, H2 will be greater than H1 because the decrease in unemployment means that there are more workers, which means that the product of employed workers per hours is greater."
   ]
  },
  {
   "cell_type": "markdown",
   "id": "79b3011f",
   "metadata": {},
   "source": [
    "b) What are the consequences of this decrease in unemployment for GDP? Express your results formally as an inequality, using the aggregate production function presented in the chapter."
   ]
  },
  {
   "cell_type": "markdown",
   "id": "7f952e9b",
   "metadata": {},
   "source": [
    "The aggegate production function is:\n",
    "\n",
    "Y = A × F(K , H)\n",
    "\n",
    "Let's imagine that the reduction in unemployment causes human capital to double, then the exchange rate formula is as follows.\n",
    "\n",
    "Y = A x F(K , 2H) = A x k^1/3 x (2H)^2/3\n",
    "\n",
    "\n",
    "This means that there will be an increase in GDP because the reduction in unemployment means the increase in human capital."
   ]
  },
  {
   "cell_type": "markdown",
   "id": "b6eb7a1d",
   "metadata": {},
   "source": [
    "c) What are the consequences for GDP per capita and GDP per worker?"
   ]
  },
  {
   "cell_type": "markdown",
   "id": "29bfe82b",
   "metadata": {},
   "source": [
    "We know that the formula for GDP per capita is: << GDP per capita = GDP/(Total population) >> then, to the extent that GDP increases as a result of the reduction in unemployment, the economic production of the nation per person will increase too. \n",
    "\n",
    "On the other hand, the GDP per worker is equal to \" A (K/L)^1/3 * h^2/3\" so if there is an increase in workers the number of working hours decreases, consequently the GDP per worker decreases ."
   ]
  },
  {
   "cell_type": "markdown",
   "id": "e1f536b0",
   "metadata": {},
   "source": [
    "d) Suppose that there is a technological advance from period 1 to period 2 and, at the same time, an increase in physical capital stock? Can you say whether GDP will increase or decrease? Why or why not?"
   ]
  },
  {
   "cell_type": "markdown",
   "id": "49689722",
   "metadata": {},
   "source": [
    "Let's re-imagine that the increase in physical capital leads to doubling its initial value. So:\n",
    "\n",
    "Y = A x F(2K , H) = A x (2k)^1/3 x H^2/3\n",
    "\n",
    "We can say that there will also be an increase in GDP because we have a constant return scale. So if there is an increase in physical and/or human capital in addition to a technological advance, Y which is equal to GDP will increase because there will be greater productivity and because the sum of the powers of physical and human capital is equal to 1 , which means that if they increase the gdp will do it too."
   ]
  },
  {
   "cell_type": "markdown",
   "id": "9d4e6bf4",
   "metadata": {},
   "source": []
  },
  {
   "cell_type": "markdown",
   "id": "220a4332",
   "metadata": {},
   "source": [
    "Question 4"
   ]
  },
  {
   "cell_type": "markdown",
   "id": "73f7c328",
   "metadata": {},
   "source": [
    "a)Currently, some of the fastest-growing countries in the world remain desperately poor. For example, of the top five fastest-growing economies in 2016, three—Iraq, Burma, and Nauru—had real per capita GDPs that are 101st, 162nd, and 112th in the world, respectively. (Source: CIA, The World Factbook estimates for 2016, PPP basis.) This seems like something of a contradiction. Using the equations for growth given in lectures 3 & 4, explain why a country that has a very low real per capita GDP can also have a very high growth rate."
   ]
  },
  {
   "cell_type": "markdown",
   "id": "9e99ca14",
   "metadata": {},
   "source": [
    "\n",
    "\n",
    "\n"
   ]
  },
  {
   "cell_type": "markdown",
   "id": "85aa83b0",
   "metadata": {},
   "source": [
    "We know that the formula for growth is:\n",
    "\n",
    "Growtht,t+1 = (yt+1 − yt)/yt\n",
    "\n",
    "This represents the difference between the GDP of the year after the base year and the base year divided by the base year, although it may seem reasonable, it must be taken into account that it can present quite large biases. Given that the gdp does not measure certain aspects such as poverty, it is logical that there is no relationship between the result of growth and the increase in poverty.\n",
    "\n",
    "This is also due to the polarization of income, this means that the upper classes are the ones that are most favored with growth while the less favored populations continue to have higher rates of poverty despite the \"illusion\" of constant growth as a nation. "
   ]
  },
  {
   "cell_type": "markdown",
   "id": "8dc2a7bf",
   "metadata": {},
   "source": [
    "Question 5"
   ]
  },
  {
   "cell_type": "markdown",
   "id": "9b3442ea",
   "metadata": {},
   "source": [
    "a) Increasingly, independent programmers are making their code “open source.” The programming language “Python,” for example, is completely free and open; anyone can submit a new package of specialized functions. How might open-source technology affect growth in developing countries? Imagine every technology company in the United States suddenly made their code open-source; would this increase growth in developing countries? Explain."
   ]
  },
  {
   "cell_type": "markdown",
   "id": "42ff91a8",
   "metadata": {},
   "source": [
    "The use of the Python language is part of the technological innovations that make up what we now call technological globalization, in this sense it is a tool for countries to be connected to each other. The fact that Python is a free programming language means that a large percentage of the population uses it. In this way, an international community is created that is responsible for creating codes that are useful in multiple areas of society. For example, in social sciences it is a great prediction tool in politics, which for developing countries is quite useful as it allows them to see the effectiveness of the government through models created in Python. The same happens with the economic field, the productivity of a country that seeks to grow can be analyzed objectively through these codes, and can also be supported by international models.\n",
    "\n",
    "On the other hand, the fact that the hegemon of the modern international system has technology companies that make their code open would be really good, since it would allow many countries to replicate certain studies that favor their growth and reduce the intensity of various problems. It is clear that it would be something extremely positive, however, is it possible? The fact that the country is willing to reduce its level of sovereignty over the technological area of ​​its country would be a matter of debate."
   ]
  },
  {
   "cell_type": "markdown",
   "id": "af5092af",
   "metadata": {},
   "source": []
  },
  {
   "cell_type": "markdown",
   "id": "8f2b76c0",
   "metadata": {},
   "source": [
    "Question 6"
   ]
  },
  {
   "cell_type": "code",
   "execution_count": 1,
   "id": "9c461b19",
   "metadata": {},
   "outputs": [],
   "source": [
    "import pandas as pd\n",
    "import statsmodels.api as sm  \n",
    "import matplotlib.pyplot as plt\n",
    "import warnings \n",
    "import seaborn as sns\n",
    "import statsmodels.formula.api as smf\n",
    "import statistics\n",
    "import numpy as np"
   ]
  },
  {
   "cell_type": "code",
   "execution_count": 4,
   "id": "2e0ec6d5",
   "metadata": {},
   "outputs": [
    {
     "data": {
      "text/html": [
       "<div>\n",
       "<style scoped>\n",
       "    .dataframe tbody tr th:only-of-type {\n",
       "        vertical-align: middle;\n",
       "    }\n",
       "\n",
       "    .dataframe tbody tr th {\n",
       "        vertical-align: top;\n",
       "    }\n",
       "\n",
       "    .dataframe thead th {\n",
       "        text-align: right;\n",
       "    }\n",
       "</style>\n",
       "<table border=\"1\" class=\"dataframe\">\n",
       "  <thead>\n",
       "    <tr style=\"text-align: right;\">\n",
       "      <th></th>\n",
       "      <th>Year</th>\n",
       "      <th>Number Unemployed (in thousands)</th>\n",
       "      <th>Number Employed       (in thousands)</th>\n",
       "      <th>Labor Force Participation Rate</th>\n",
       "      <th>Employment Rate (Porcentage)</th>\n",
       "      <th>Unemployment Rate</th>\n",
       "      <th>Labor Force</th>\n",
       "      <th>Adult Population</th>\n",
       "    </tr>\n",
       "  </thead>\n",
       "  <tbody>\n",
       "    <tr>\n",
       "      <th>0</th>\n",
       "      <td>2008</td>\n",
       "      <td>454.1000</td>\n",
       "      <td>4537.4000</td>\n",
       "      <td>52.90</td>\n",
       "      <td>90.902534</td>\n",
       "      <td>9.097466</td>\n",
       "      <td>4991.5000</td>\n",
       "      <td>9435.727788</td>\n",
       "    </tr>\n",
       "    <tr>\n",
       "      <th>1</th>\n",
       "      <td>2009</td>\n",
       "      <td>475.1000</td>\n",
       "      <td>4535.5000</td>\n",
       "      <td>53.20</td>\n",
       "      <td>90.518102</td>\n",
       "      <td>9.481898</td>\n",
       "      <td>5010.6000</td>\n",
       "      <td>9418.421053</td>\n",
       "    </tr>\n",
       "    <tr>\n",
       "      <th>2</th>\n",
       "      <td>2010</td>\n",
       "      <td>594.9000</td>\n",
       "      <td>4432.1000</td>\n",
       "      <td>53.60</td>\n",
       "      <td>88.165904</td>\n",
       "      <td>11.834096</td>\n",
       "      <td>5027.0000</td>\n",
       "      <td>9378.731343</td>\n",
       "    </tr>\n",
       "    <tr>\n",
       "      <th>3</th>\n",
       "      <td>2011</td>\n",
       "      <td>828.3000</td>\n",
       "      <td>4126.0000</td>\n",
       "      <td>53.00</td>\n",
       "      <td>83.281190</td>\n",
       "      <td>16.718810</td>\n",
       "      <td>4954.3000</td>\n",
       "      <td>9347.735849</td>\n",
       "    </tr>\n",
       "    <tr>\n",
       "      <th>4</th>\n",
       "      <td>2012</td>\n",
       "      <td>1130.4000</td>\n",
       "      <td>3745.6000</td>\n",
       "      <td>52.40</td>\n",
       "      <td>76.817063</td>\n",
       "      <td>23.182937</td>\n",
       "      <td>4876.0000</td>\n",
       "      <td>9305.343511</td>\n",
       "    </tr>\n",
       "    <tr>\n",
       "      <th>5</th>\n",
       "      <td>2013</td>\n",
       "      <td>1302.8000</td>\n",
       "      <td>3491.0000</td>\n",
       "      <td>52.00</td>\n",
       "      <td>72.823230</td>\n",
       "      <td>27.176770</td>\n",
       "      <td>4793.8000</td>\n",
       "      <td>9218.846154</td>\n",
       "    </tr>\n",
       "    <tr>\n",
       "      <th>6</th>\n",
       "      <td>2014</td>\n",
       "      <td>1343.4000</td>\n",
       "      <td>3495.6000</td>\n",
       "      <td>51.90</td>\n",
       "      <td>72.238066</td>\n",
       "      <td>27.761934</td>\n",
       "      <td>4839.0000</td>\n",
       "      <td>9323.699422</td>\n",
       "    </tr>\n",
       "    <tr>\n",
       "      <th>7</th>\n",
       "      <td>2015</td>\n",
       "      <td>1299.4000</td>\n",
       "      <td>3438.1000</td>\n",
       "      <td>51.60</td>\n",
       "      <td>72.572032</td>\n",
       "      <td>27.427968</td>\n",
       "      <td>4737.5000</td>\n",
       "      <td>9181.201550</td>\n",
       "    </tr>\n",
       "    <tr>\n",
       "      <th>8</th>\n",
       "      <td>2016</td>\n",
       "      <td>1189.9000</td>\n",
       "      <td>3600.7000</td>\n",
       "      <td>52.04</td>\n",
       "      <td>75.161775</td>\n",
       "      <td>24.838225</td>\n",
       "      <td>4790.6000</td>\n",
       "      <td>9205.611068</td>\n",
       "    </tr>\n",
       "    <tr>\n",
       "      <th>9</th>\n",
       "      <td>2017</td>\n",
       "      <td>1079.7170</td>\n",
       "      <td>3669.1972</td>\n",
       "      <td>51.90</td>\n",
       "      <td>77.263919</td>\n",
       "      <td>22.736081</td>\n",
       "      <td>4748.9142</td>\n",
       "      <td>9150.123699</td>\n",
       "    </tr>\n",
       "    <tr>\n",
       "      <th>10</th>\n",
       "      <td>2018</td>\n",
       "      <td>973.5729</td>\n",
       "      <td>3768.6290</td>\n",
       "      <td>51.60</td>\n",
       "      <td>79.470024</td>\n",
       "      <td>20.529976</td>\n",
       "      <td>4742.2019</td>\n",
       "      <td>9190.313760</td>\n",
       "    </tr>\n",
       "    <tr>\n",
       "      <th>11</th>\n",
       "      <td>2019</td>\n",
       "      <td>844.0380</td>\n",
       "      <td>3846.3319</td>\n",
       "      <td>51.80</td>\n",
       "      <td>82.004873</td>\n",
       "      <td>17.995127</td>\n",
       "      <td>4690.3699</td>\n",
       "      <td>9054.768147</td>\n",
       "    </tr>\n",
       "    <tr>\n",
       "      <th>12</th>\n",
       "      <td>2020</td>\n",
       "      <td>6665.3619</td>\n",
       "      <td>3813.0379</td>\n",
       "      <td>50.60</td>\n",
       "      <td>36.389506</td>\n",
       "      <td>63.610494</td>\n",
       "      <td>10478.3998</td>\n",
       "      <td>20708.300000</td>\n",
       "    </tr>\n",
       "  </tbody>\n",
       "</table>\n",
       "</div>"
      ],
      "text/plain": [
       "    Year  Number Unemployed (in thousands)  \\\n",
       "0   2008                          454.1000   \n",
       "1   2009                          475.1000   \n",
       "2   2010                          594.9000   \n",
       "3   2011                          828.3000   \n",
       "4   2012                         1130.4000   \n",
       "5   2013                         1302.8000   \n",
       "6   2014                         1343.4000   \n",
       "7   2015                         1299.4000   \n",
       "8   2016                         1189.9000   \n",
       "9   2017                         1079.7170   \n",
       "10  2018                          973.5729   \n",
       "11  2019                          844.0380   \n",
       "12  2020                         6665.3619   \n",
       "\n",
       "    Number Employed       (in thousands)  Labor Force Participation Rate  \\\n",
       "0                              4537.4000                           52.90   \n",
       "1                              4535.5000                           53.20   \n",
       "2                              4432.1000                           53.60   \n",
       "3                              4126.0000                           53.00   \n",
       "4                              3745.6000                           52.40   \n",
       "5                              3491.0000                           52.00   \n",
       "6                              3495.6000                           51.90   \n",
       "7                              3438.1000                           51.60   \n",
       "8                              3600.7000                           52.04   \n",
       "9                              3669.1972                           51.90   \n",
       "10                             3768.6290                           51.60   \n",
       "11                             3846.3319                           51.80   \n",
       "12                             3813.0379                           50.60   \n",
       "\n",
       "    Employment Rate (Porcentage)  Unemployment Rate  Labor Force  \\\n",
       "0                      90.902534           9.097466    4991.5000   \n",
       "1                      90.518102           9.481898    5010.6000   \n",
       "2                      88.165904          11.834096    5027.0000   \n",
       "3                      83.281190          16.718810    4954.3000   \n",
       "4                      76.817063          23.182937    4876.0000   \n",
       "5                      72.823230          27.176770    4793.8000   \n",
       "6                      72.238066          27.761934    4839.0000   \n",
       "7                      72.572032          27.427968    4737.5000   \n",
       "8                      75.161775          24.838225    4790.6000   \n",
       "9                      77.263919          22.736081    4748.9142   \n",
       "10                     79.470024          20.529976    4742.2019   \n",
       "11                     82.004873          17.995127    4690.3699   \n",
       "12                     36.389506          63.610494   10478.3998   \n",
       "\n",
       "    Adult Population  \n",
       "0        9435.727788  \n",
       "1        9418.421053  \n",
       "2        9378.731343  \n",
       "3        9347.735849  \n",
       "4        9305.343511  \n",
       "5        9218.846154  \n",
       "6        9323.699422  \n",
       "7        9181.201550  \n",
       "8        9205.611068  \n",
       "9        9150.123699  \n",
       "10       9190.313760  \n",
       "11       9054.768147  \n",
       "12      20708.300000  "
      ]
     },
     "execution_count": 4,
     "metadata": {},
     "output_type": "execute_result"
    }
   ],
   "source": [
    "data=pd.io.excel.read_excel(\"C:/Users/ALEXANDRA/Desktop/UNIVERSIDAD/2022-1/Fundamentos de Macroeconomía/SEMANA 9/Cuadro.xlsx\")\n",
    "data"
   ]
  },
  {
   "cell_type": "markdown",
   "id": "d568317b",
   "metadata": {},
   "source": [
    "a) In which years did the economy witness increases in the unemployment rate? What could possibly explain this?"
   ]
  },
  {
   "cell_type": "markdown",
   "id": "b374cc9a",
   "metadata": {},
   "source": [
    "We can see that there is a growth in the unemployment rate in the years from 2013 to 2015, this may be a consequence of the sovereign debt crisis in Greece that begins in 2009 and ends in 2018 but that actually presents the highest indebtedness during these three years years according to Oxford Economics. However, these increases are not as extreme as that of 2020, with 63%, 2020 has the highest rate of unemployment and it can be attributed to the start of the pandemic."
   ]
  },
  {
   "cell_type": "markdown",
   "id": "3683e143",
   "metadata": {},
   "source": [
    "b) Use the data on the size of the labor force and potential workers to compute the percentage of adults out of the labor force for the year 2017. Verify that your calculation is equal to one minus the labor force participation rate."
   ]
  },
  {
   "cell_type": "markdown",
   "id": "2fcdda12",
   "metadata": {},
   "source": [
    "100% - Labor Force Participation Rate (2017) = Percentage of adults out of the labor force (2017)\n",
    "\n",
    "100% - 51.90% = 48.1%"
   ]
  },
  {
   "cell_type": "markdown",
   "id": "087e82bf",
   "metadata": {},
   "source": [
    "c) What are the general trends that you observe in the data?"
   ]
  },
  {
   "cell_type": "markdown",
   "id": "ef424222",
   "metadata": {},
   "source": [
    "We can mention that there is a radical change in the data given in 2020. As a consequence of COVID-19, the number of unemployed people increases excessively. On the other hand, something extremely interesting is that during 2008 and 2009 the lowest rate of unemployment was presented. With approximately 9%, the data reflects that there are fewer unemployed people and they reached -in those same years- the highest employment rate of the decade, later this changes due to the crisis."
   ]
  },
  {
   "cell_type": "markdown",
   "id": "fbe3762c",
   "metadata": {},
   "source": []
  },
  {
   "cell_type": "markdown",
   "id": "45b23c63",
   "metadata": {},
   "source": [
    "Question 7"
   ]
  },
  {
   "cell_type": "markdown",
   "id": "df68d45f",
   "metadata": {},
   "source": [
    "a) Graph the impact of immigration on the supply of labor and the resulting new equilibrium wage and quantity"
   ]
  },
  {
   "cell_type": "code",
   "execution_count": 85,
   "id": "d48a7237",
   "metadata": {},
   "outputs": [],
   "source": [
    "%matplotlib inline\n",
    "import matplotlib.pyplot as plt\n",
    "import numpy as np\n",
    "import sympy as sy\n",
    "def S(q):\n",
    "    return (q**2)\n",
    "def T(q):\n",
    "    return (q**1.5)\n",
    "def D(q):\n",
    "    return (q - 20)**2\n",
    "def D2(q):\n",
    "    return (q - 18)**2"
   ]
  },
  {
   "cell_type": "code",
   "execution_count": 102,
   "id": "b22dc099",
   "metadata": {},
   "outputs": [
    {
     "data": {
      "image/png": "[encoded data removed]",
      "text/plain": [
       "<Figure size 576x432 with 1 Axes>"
      ]
     },
     "metadata": {
      "needs_background": "light"
     },
     "output_type": "display_data"
    }
   ],
   "source": [
    "plt.plot(q, D(q), label = \"Demand\", color = \"blue\")\n",
    "plt.plot(q, S(q), label = \"Supply 1\", color = \"red\")\n",
    "plt.plot(q, T(q), label = \"Supply 2\", color = \"green\")\n",
    "plt.plot(13, 50, 'o', markersize = 14)\n",
    "plt.annotate(text ='New Equilibrium', xy=(13,52),xytext=(8,320),arrowprops = dict(arrowstyle='->'))\n",
    "\n",
    "plt.title(\"New equilibrium wage and quantity\")\n",
    "plt.legend(frameon = False)\n",
    "plt.xlabel(\"Quantity\")\n",
    "plt.ylabel(\"Wage\")\n",
    "plt.rcParams[\"figure.figsize\"] = (8, 6)"
   ]
  },
  {
   "cell_type": "markdown",
   "id": "fd5ed888",
   "metadata": {},
   "source": [
    "b) These new immigrants also increase the demand for housing. Graph the change in the demand for labor in the home construction industry due to the increased demand for housing. Without considering the increase in the supply of labor, how does the equilibrium wage and quantity of workers hired change?"
   ]
  },
  {
   "cell_type": "code",
   "execution_count": 106,
   "id": "d60f76ca",
   "metadata": {},
   "outputs": [
    {
     "data": {
      "image/png": "[encoded data removed]",
      "text/plain": [
       "<Figure size 576x432 with 1 Axes>"
      ]
     },
     "metadata": {
      "needs_background": "light"
     },
     "output_type": "display_data"
    }
   ],
   "source": [
    "plt.plot(q, D(q), label = \"Demand 1\",color=\"blue\")\n",
    "plt.plot(q, D2(q), label = \"Demand 2\", color = \"red\")\n",
    "plt.plot(q, S(q), label = \"Supply 1\", color =\"orange\")\n",
    "plt.plot(q, T(q), label = \"Supply 2\",color = \"green\")\n",
    "\n",
    "plt.title(\"Change in the demand for labor in the home construction\")\n",
    "plt.legend(frameon = False)\n",
    "plt.xlabel(\"Quantity\")\n",
    "plt.ylabel(\"Wage\")\n",
    "plt.rcParams[\"figure.figsize\"] = (8, 6)"
   ]
  },
  {
   "cell_type": "markdown",
   "id": "54525b80",
   "metadata": {},
   "source": [
    "c) Considering both the change in the supply and the demand for labor in the home construction industry, what can you conclude about the change in the equilibrium wage and quantity of workers hired?"
   ]
  },
  {
   "cell_type": "markdown",
   "id": "f6e7127a",
   "metadata": {},
   "source": [
    "We can appreciate the migratory flow has a direct relationship with the requirement of housing since more people older is the need to acquire a place to live. Similarly, if we talk about wages and workers, it follows that there should be better wages in relation to the construction industry, in addition to a greater supply of workers. However, since there is a greater supply of workers as a result of the increase in inhabitants, wages decrease."
   ]
  },
  {
   "cell_type": "markdown",
   "id": "b7548965",
   "metadata": {},
   "source": [
    "QUESTION 8"
   ]
  },
  {
   "cell_type": "code",
   "execution_count": 124,
   "id": "35df75b0",
   "metadata": {},
   "outputs": [],
   "source": [
    "import pandas as pd\n",
    "import statsmodels.api as sm  \n",
    "import matplotlib.pyplot as plt\n",
    "import warnings \n",
    "import seaborn as sns\n",
    "import statsmodels.formula.api as smf\n",
    "import statistics\n",
    "import numpy as np"
   ]
  },
  {
   "cell_type": "code",
   "execution_count": 126,
   "id": "2969d2f1",
   "metadata": {
    "scrolled": false
   },
   "outputs": [
    {
     "data": {
      "text/html": [
       "<div>\n",
       "<style scoped>\n",
       "    .dataframe tbody tr th:only-of-type {\n",
       "        vertical-align: middle;\n",
       "    }\n",
       "\n",
       "    .dataframe tbody tr th {\n",
       "        vertical-align: top;\n",
       "    }\n",
       "\n",
       "    .dataframe thead th {\n",
       "        text-align: right;\n",
       "    }\n",
       "</style>\n",
       "<table border=\"1\" class=\"dataframe\">\n",
       "  <thead>\n",
       "    <tr style=\"text-align: right;\">\n",
       "      <th></th>\n",
       "      <th>CO_OWNED</th>\n",
       "      <th>SOUTHJ</th>\n",
       "      <th>CENTRALJ</th>\n",
       "      <th>PA1</th>\n",
       "      <th>PA2</th>\n",
       "      <th>DEMP</th>\n",
       "      <th>nj</th>\n",
       "      <th>bk</th>\n",
       "      <th>kfc</th>\n",
       "      <th>roys</th>\n",
       "      <th>wendys</th>\n",
       "      <th>d</th>\n",
       "      <th>d_nj</th>\n",
       "      <th>fte</th>\n",
       "    </tr>\n",
       "  </thead>\n",
       "  <tbody>\n",
       "    <tr>\n",
       "      <th>0</th>\n",
       "      <td>0</td>\n",
       "      <td>0</td>\n",
       "      <td>1</td>\n",
       "      <td>0</td>\n",
       "      <td>0</td>\n",
       "      <td>12.00</td>\n",
       "      <td>1</td>\n",
       "      <td>1</td>\n",
       "      <td>0</td>\n",
       "      <td>0</td>\n",
       "      <td>0</td>\n",
       "      <td>0</td>\n",
       "      <td>0</td>\n",
       "      <td>15.00</td>\n",
       "    </tr>\n",
       "    <tr>\n",
       "      <th>1</th>\n",
       "      <td>0</td>\n",
       "      <td>0</td>\n",
       "      <td>1</td>\n",
       "      <td>0</td>\n",
       "      <td>0</td>\n",
       "      <td>6.50</td>\n",
       "      <td>1</td>\n",
       "      <td>1</td>\n",
       "      <td>0</td>\n",
       "      <td>0</td>\n",
       "      <td>0</td>\n",
       "      <td>0</td>\n",
       "      <td>0</td>\n",
       "      <td>15.00</td>\n",
       "    </tr>\n",
       "    <tr>\n",
       "      <th>2</th>\n",
       "      <td>0</td>\n",
       "      <td>0</td>\n",
       "      <td>1</td>\n",
       "      <td>0</td>\n",
       "      <td>0</td>\n",
       "      <td>-1.00</td>\n",
       "      <td>1</td>\n",
       "      <td>0</td>\n",
       "      <td>0</td>\n",
       "      <td>1</td>\n",
       "      <td>0</td>\n",
       "      <td>0</td>\n",
       "      <td>0</td>\n",
       "      <td>24.00</td>\n",
       "    </tr>\n",
       "    <tr>\n",
       "      <th>3</th>\n",
       "      <td>1</td>\n",
       "      <td>0</td>\n",
       "      <td>0</td>\n",
       "      <td>0</td>\n",
       "      <td>0</td>\n",
       "      <td>2.25</td>\n",
       "      <td>1</td>\n",
       "      <td>0</td>\n",
       "      <td>0</td>\n",
       "      <td>1</td>\n",
       "      <td>0</td>\n",
       "      <td>0</td>\n",
       "      <td>0</td>\n",
       "      <td>19.25</td>\n",
       "    </tr>\n",
       "    <tr>\n",
       "      <th>4</th>\n",
       "      <td>0</td>\n",
       "      <td>0</td>\n",
       "      <td>0</td>\n",
       "      <td>0</td>\n",
       "      <td>0</td>\n",
       "      <td>13.00</td>\n",
       "      <td>1</td>\n",
       "      <td>1</td>\n",
       "      <td>0</td>\n",
       "      <td>0</td>\n",
       "      <td>0</td>\n",
       "      <td>0</td>\n",
       "      <td>0</td>\n",
       "      <td>21.50</td>\n",
       "    </tr>\n",
       "    <tr>\n",
       "      <th>...</th>\n",
       "      <td>...</td>\n",
       "      <td>...</td>\n",
       "      <td>...</td>\n",
       "      <td>...</td>\n",
       "      <td>...</td>\n",
       "      <td>...</td>\n",
       "      <td>...</td>\n",
       "      <td>...</td>\n",
       "      <td>...</td>\n",
       "      <td>...</td>\n",
       "      <td>...</td>\n",
       "      <td>...</td>\n",
       "      <td>...</td>\n",
       "      <td>...</td>\n",
       "    </tr>\n",
       "    <tr>\n",
       "      <th>815</th>\n",
       "      <td>1</td>\n",
       "      <td>0</td>\n",
       "      <td>0</td>\n",
       "      <td>0</td>\n",
       "      <td>1</td>\n",
       "      <td>-2.50</td>\n",
       "      <td>0</td>\n",
       "      <td>0</td>\n",
       "      <td>0</td>\n",
       "      <td>1</td>\n",
       "      <td>0</td>\n",
       "      <td>1</td>\n",
       "      <td>0</td>\n",
       "      <td>12.50</td>\n",
       "    </tr>\n",
       "    <tr>\n",
       "      <th>816</th>\n",
       "      <td>0</td>\n",
       "      <td>0</td>\n",
       "      <td>0</td>\n",
       "      <td>0</td>\n",
       "      <td>1</td>\n",
       "      <td>16.00</td>\n",
       "      <td>0</td>\n",
       "      <td>0</td>\n",
       "      <td>0</td>\n",
       "      <td>1</td>\n",
       "      <td>0</td>\n",
       "      <td>1</td>\n",
       "      <td>0</td>\n",
       "      <td>34.00</td>\n",
       "    </tr>\n",
       "    <tr>\n",
       "      <th>817</th>\n",
       "      <td>1</td>\n",
       "      <td>0</td>\n",
       "      <td>0</td>\n",
       "      <td>0</td>\n",
       "      <td>1</td>\n",
       "      <td>-10.25</td>\n",
       "      <td>0</td>\n",
       "      <td>0</td>\n",
       "      <td>0</td>\n",
       "      <td>1</td>\n",
       "      <td>0</td>\n",
       "      <td>1</td>\n",
       "      <td>0</td>\n",
       "      <td>10.00</td>\n",
       "    </tr>\n",
       "    <tr>\n",
       "      <th>818</th>\n",
       "      <td>0</td>\n",
       "      <td>0</td>\n",
       "      <td>0</td>\n",
       "      <td>1</td>\n",
       "      <td>0</td>\n",
       "      <td>-1.50</td>\n",
       "      <td>0</td>\n",
       "      <td>1</td>\n",
       "      <td>0</td>\n",
       "      <td>0</td>\n",
       "      <td>0</td>\n",
       "      <td>1</td>\n",
       "      <td>0</td>\n",
       "      <td>14.00</td>\n",
       "    </tr>\n",
       "    <tr>\n",
       "      <th>819</th>\n",
       "      <td>0</td>\n",
       "      <td>0</td>\n",
       "      <td>0</td>\n",
       "      <td>1</td>\n",
       "      <td>0</td>\n",
       "      <td>-3.50</td>\n",
       "      <td>0</td>\n",
       "      <td>1</td>\n",
       "      <td>0</td>\n",
       "      <td>0</td>\n",
       "      <td>0</td>\n",
       "      <td>1</td>\n",
       "      <td>0</td>\n",
       "      <td>17.50</td>\n",
       "    </tr>\n",
       "  </tbody>\n",
       "</table>\n",
       "<p>820 rows × 14 columns</p>\n",
       "</div>"
      ],
      "text/plain": [
       "     CO_OWNED  SOUTHJ  CENTRALJ  PA1  PA2   DEMP  nj  bk  kfc  roys  wendys  \\\n",
       "0           0       0         1    0    0  12.00   1   1    0     0       0   \n",
       "1           0       0         1    0    0   6.50   1   1    0     0       0   \n",
       "2           0       0         1    0    0  -1.00   1   0    0     1       0   \n",
       "3           1       0         0    0    0   2.25   1   0    0     1       0   \n",
       "4           0       0         0    0    0  13.00   1   1    0     0       0   \n",
       "..        ...     ...       ...  ...  ...    ...  ..  ..  ...   ...     ...   \n",
       "815         1       0         0    0    1  -2.50   0   0    0     1       0   \n",
       "816         0       0         0    0    1  16.00   0   0    0     1       0   \n",
       "817         1       0         0    0    1 -10.25   0   0    0     1       0   \n",
       "818         0       0         0    1    0  -1.50   0   1    0     0       0   \n",
       "819         0       0         0    1    0  -3.50   0   1    0     0       0   \n",
       "\n",
       "     d  d_nj    fte  \n",
       "0    0     0  15.00  \n",
       "1    0     0  15.00  \n",
       "2    0     0  24.00  \n",
       "3    0     0  19.25  \n",
       "4    0     0  21.50  \n",
       "..  ..   ...    ...  \n",
       "815  1     0  12.50  \n",
       "816  1     0  34.00  \n",
       "817  1     0  10.00  \n",
       "818  1     0  14.00  \n",
       "819  1     0  17.50  \n",
       "\n",
       "[820 rows x 14 columns]"
      ]
     },
     "execution_count": 126,
     "metadata": {},
     "output_type": "execute_result"
    }
   ],
   "source": [
    "data2 = pd.read_csv(\"C:/Users/ALEXANDRA/Desktop/njmin3_1.csv\", sep=';')\n",
    "data2"
   ]
  },
  {
   "cell_type": "code",
   "execution_count": 127,
   "id": "a67a2a08",
   "metadata": {},
   "outputs": [
    {
     "data": {
      "text/html": [
       "<div>\n",
       "<style scoped>\n",
       "    .dataframe tbody tr th:only-of-type {\n",
       "        vertical-align: middle;\n",
       "    }\n",
       "\n",
       "    .dataframe tbody tr th {\n",
       "        vertical-align: top;\n",
       "    }\n",
       "\n",
       "    .dataframe thead th {\n",
       "        text-align: right;\n",
       "    }\n",
       "</style>\n",
       "<table border=\"1\" class=\"dataframe\">\n",
       "  <thead>\n",
       "    <tr style=\"text-align: right;\">\n",
       "      <th></th>\n",
       "      <th>CO_OWNED</th>\n",
       "      <th>SOUTHJ</th>\n",
       "      <th>CENTRALJ</th>\n",
       "      <th>PA1</th>\n",
       "      <th>PA2</th>\n",
       "      <th>DEMP</th>\n",
       "      <th>nj</th>\n",
       "      <th>bk</th>\n",
       "      <th>kfc</th>\n",
       "      <th>roys</th>\n",
       "      <th>wendys</th>\n",
       "      <th>d</th>\n",
       "      <th>d_nj</th>\n",
       "      <th>fte</th>\n",
       "    </tr>\n",
       "  </thead>\n",
       "  <tbody>\n",
       "    <tr>\n",
       "      <th>count</th>\n",
       "      <td>820.000000</td>\n",
       "      <td>820.000000</td>\n",
       "      <td>820.000000</td>\n",
       "      <td>820.000000</td>\n",
       "      <td>820.000000</td>\n",
       "      <td>768.000000</td>\n",
       "      <td>820.000000</td>\n",
       "      <td>820.000000</td>\n",
       "      <td>820.000000</td>\n",
       "      <td>820.000000</td>\n",
       "      <td>820.000000</td>\n",
       "      <td>820.000000</td>\n",
       "      <td>820.000000</td>\n",
       "      <td>794.000000</td>\n",
       "    </tr>\n",
       "    <tr>\n",
       "      <th>mean</th>\n",
       "      <td>0.343902</td>\n",
       "      <td>0.226829</td>\n",
       "      <td>0.153659</td>\n",
       "      <td>0.087805</td>\n",
       "      <td>0.104878</td>\n",
       "      <td>-0.070443</td>\n",
       "      <td>0.807317</td>\n",
       "      <td>0.417073</td>\n",
       "      <td>0.195122</td>\n",
       "      <td>0.241463</td>\n",
       "      <td>0.146341</td>\n",
       "      <td>0.500000</td>\n",
       "      <td>0.403659</td>\n",
       "      <td>21.026511</td>\n",
       "    </tr>\n",
       "    <tr>\n",
       "      <th>std</th>\n",
       "      <td>0.475299</td>\n",
       "      <td>0.419037</td>\n",
       "      <td>0.360841</td>\n",
       "      <td>0.283184</td>\n",
       "      <td>0.306583</td>\n",
       "      <td>9.016441</td>\n",
       "      <td>0.394647</td>\n",
       "      <td>0.493376</td>\n",
       "      <td>0.396536</td>\n",
       "      <td>0.428232</td>\n",
       "      <td>0.353664</td>\n",
       "      <td>0.500305</td>\n",
       "      <td>0.490930</td>\n",
       "      <td>9.422746</td>\n",
       "    </tr>\n",
       "    <tr>\n",
       "      <th>min</th>\n",
       "      <td>0.000000</td>\n",
       "      <td>0.000000</td>\n",
       "      <td>0.000000</td>\n",
       "      <td>0.000000</td>\n",
       "      <td>0.000000</td>\n",
       "      <td>-41.500000</td>\n",
       "      <td>0.000000</td>\n",
       "      <td>0.000000</td>\n",
       "      <td>0.000000</td>\n",
       "      <td>0.000000</td>\n",
       "      <td>0.000000</td>\n",
       "      <td>0.000000</td>\n",
       "      <td>0.000000</td>\n",
       "      <td>0.000000</td>\n",
       "    </tr>\n",
       "    <tr>\n",
       "      <th>25%</th>\n",
       "      <td>0.000000</td>\n",
       "      <td>0.000000</td>\n",
       "      <td>0.000000</td>\n",
       "      <td>0.000000</td>\n",
       "      <td>0.000000</td>\n",
       "      <td>-4.000000</td>\n",
       "      <td>1.000000</td>\n",
       "      <td>0.000000</td>\n",
       "      <td>0.000000</td>\n",
       "      <td>0.000000</td>\n",
       "      <td>0.000000</td>\n",
       "      <td>0.000000</td>\n",
       "      <td>0.000000</td>\n",
       "      <td>14.500000</td>\n",
       "    </tr>\n",
       "    <tr>\n",
       "      <th>50%</th>\n",
       "      <td>0.000000</td>\n",
       "      <td>0.000000</td>\n",
       "      <td>0.000000</td>\n",
       "      <td>0.000000</td>\n",
       "      <td>0.000000</td>\n",
       "      <td>0.000000</td>\n",
       "      <td>1.000000</td>\n",
       "      <td>0.000000</td>\n",
       "      <td>0.000000</td>\n",
       "      <td>0.000000</td>\n",
       "      <td>0.000000</td>\n",
       "      <td>0.500000</td>\n",
       "      <td>0.000000</td>\n",
       "      <td>20.000000</td>\n",
       "    </tr>\n",
       "    <tr>\n",
       "      <th>75%</th>\n",
       "      <td>1.000000</td>\n",
       "      <td>0.000000</td>\n",
       "      <td>0.000000</td>\n",
       "      <td>0.000000</td>\n",
       "      <td>0.000000</td>\n",
       "      <td>4.000000</td>\n",
       "      <td>1.000000</td>\n",
       "      <td>1.000000</td>\n",
       "      <td>0.000000</td>\n",
       "      <td>0.000000</td>\n",
       "      <td>0.000000</td>\n",
       "      <td>1.000000</td>\n",
       "      <td>1.000000</td>\n",
       "      <td>25.500000</td>\n",
       "    </tr>\n",
       "    <tr>\n",
       "      <th>max</th>\n",
       "      <td>1.000000</td>\n",
       "      <td>1.000000</td>\n",
       "      <td>1.000000</td>\n",
       "      <td>1.000000</td>\n",
       "      <td>1.000000</td>\n",
       "      <td>34.000000</td>\n",
       "      <td>1.000000</td>\n",
       "      <td>1.000000</td>\n",
       "      <td>1.000000</td>\n",
       "      <td>1.000000</td>\n",
       "      <td>1.000000</td>\n",
       "      <td>1.000000</td>\n",
       "      <td>1.000000</td>\n",
       "      <td>85.000000</td>\n",
       "    </tr>\n",
       "  </tbody>\n",
       "</table>\n",
       "</div>"
      ],
      "text/plain": [
       "         CO_OWNED      SOUTHJ    CENTRALJ         PA1         PA2        DEMP  \\\n",
       "count  820.000000  820.000000  820.000000  820.000000  820.000000  768.000000   \n",
       "mean     0.343902    0.226829    0.153659    0.087805    0.104878   -0.070443   \n",
       "std      0.475299    0.419037    0.360841    0.283184    0.306583    9.016441   \n",
       "min      0.000000    0.000000    0.000000    0.000000    0.000000  -41.500000   \n",
       "25%      0.000000    0.000000    0.000000    0.000000    0.000000   -4.000000   \n",
       "50%      0.000000    0.000000    0.000000    0.000000    0.000000    0.000000   \n",
       "75%      1.000000    0.000000    0.000000    0.000000    0.000000    4.000000   \n",
       "max      1.000000    1.000000    1.000000    1.000000    1.000000   34.000000   \n",
       "\n",
       "               nj          bk         kfc        roys      wendys           d  \\\n",
       "count  820.000000  820.000000  820.000000  820.000000  820.000000  820.000000   \n",
       "mean     0.807317    0.417073    0.195122    0.241463    0.146341    0.500000   \n",
       "std      0.394647    0.493376    0.396536    0.428232    0.353664    0.500305   \n",
       "min      0.000000    0.000000    0.000000    0.000000    0.000000    0.000000   \n",
       "25%      1.000000    0.000000    0.000000    0.000000    0.000000    0.000000   \n",
       "50%      1.000000    0.000000    0.000000    0.000000    0.000000    0.500000   \n",
       "75%      1.000000    1.000000    0.000000    0.000000    0.000000    1.000000   \n",
       "max      1.000000    1.000000    1.000000    1.000000    1.000000    1.000000   \n",
       "\n",
       "             d_nj         fte  \n",
       "count  820.000000  794.000000  \n",
       "mean     0.403659   21.026511  \n",
       "std      0.490930    9.422746  \n",
       "min      0.000000    0.000000  \n",
       "25%      0.000000   14.500000  \n",
       "50%      0.000000   20.000000  \n",
       "75%      1.000000   25.500000  \n",
       "max      1.000000   85.000000  "
      ]
     },
     "execution_count": 127,
     "metadata": {},
     "output_type": "execute_result"
    }
   ],
   "source": [
    "data2.describe()"
   ]
  },
  {
   "cell_type": "code",
   "execution_count": 128,
   "id": "2bde5ba2",
   "metadata": {},
   "outputs": [
    {
     "name": "stdout",
     "output_type": "stream",
     "text": [
      "                            OLS Regression Results                            \n",
      "==============================================================================\n",
      "Dep. Variable:                    fte   R-squared:                       0.219\n",
      "Model:                            OLS   Adj. R-squared:                  0.211\n",
      "Method:                 Least Squares   F-statistic:                     27.47\n",
      "Date:                Sat, 21 May 2022   Prob (F-statistic):           9.44e-38\n",
      "Time:                        12:03:29   Log-Likelihood:                -2809.2\n",
      "No. Observations:                 794   AIC:                             5636.\n",
      "Df Residuals:                     785   BIC:                             5679.\n",
      "Df Model:                           8                                         \n",
      "Covariance Type:            nonrobust                                         \n",
      "==============================================================================\n",
      "                 coef    std err          t      P>|t|      [0.025      0.975]\n",
      "------------------------------------------------------------------------------\n",
      "Intercept     24.3532      0.601     40.549      0.000      23.174      25.532\n",
      "d_nj           0.6401      0.630      1.016      0.310      -0.597       1.877\n",
      "kfc          -10.0556      0.845    -11.899      0.000     -11.714      -8.397\n",
      "roys          -1.7036      0.858     -1.985      0.048      -3.389      -0.019\n",
      "wendys        -1.0349      0.921     -1.124      0.261      -2.842       0.772\n",
      "CO_OWNED      -0.7064      0.719     -0.983      0.326      -2.117       0.704\n",
      "SOUTHJ        -3.6672      0.755     -4.857      0.000      -5.149      -2.185\n",
      "CENTRALJ       0.0452      0.878      0.052      0.959      -1.677       1.768\n",
      "PA1            0.7740      1.130      0.685      0.494      -1.444       2.992\n",
      "==============================================================================\n",
      "Omnibus:                      296.588   Durbin-Watson:                   2.041\n",
      "Prob(Omnibus):                  0.000   Jarque-Bera (JB):             1861.874\n",
      "Skew:                           1.553   Prob(JB):                         0.00\n",
      "Kurtosis:                       9.828   Cond. No.                         5.17\n",
      "==============================================================================\n",
      "\n",
      "Notes:\n",
      "[1] Standard Errors assume that the covariance matrix of the errors is correctly specified.\n"
     ]
    }
   ],
   "source": [
    "model = smf.ols(formula = \"fte ~ d_nj + kfc + roys + wendys  + CO_OWNED + SOUTHJ + CENTRALJ + PA1\", data = data2).fit()\n",
    "print(model.summary())"
   ]
  },
  {
   "cell_type": "code",
   "execution_count": 129,
   "id": "205c04b8",
   "metadata": {},
   "outputs": [
    {
     "data": {
      "text/plain": [
       "[20.439408099688475,\n",
       " 21.02742946708464,\n",
       " 23.33116883116883,\n",
       " 21.165584415584416,\n",
       " 20.439408099688475,\n",
       " 17.547647368208118]"
      ]
     },
     "execution_count": 129,
     "metadata": {},
     "output_type": "execute_result"
    }
   ],
   "source": [
    "# NJ Before and after\n",
    "NJ_before = data2.loc[(data2['nj']==1) & (data2['d']!=1),'fte'].mean()\n",
    "NJ_after  = data2.loc[(data2['nj']==1) & (data2['d']==1),'fte'].mean()\n",
    "\n",
    "# PA Before and after\n",
    "PA_before = data2.loc[(data2['nj']!=1) & (data2['d']!=1),'fte'].mean()\n",
    "PA_after  = data2.loc[(data2['nj']!=1) & (data2['d']==1),'fte'].mean()\n",
    "\n",
    "# NJ counterfactual (if no treatment)\n",
    "NJ_counterfactual = NJ_before + ( NJ_before - PA_before )\n",
    "\n",
    "[NJ_before, NJ_after,PA_before,PA_after,NJ_before, NJ_counterfactual]"
   ]
  },
  {
   "cell_type": "code",
   "execution_count": 130,
   "id": "f764f00e",
   "metadata": {},
   "outputs": [
    {
     "data": {
      "text/plain": [
       "Text(0.5, 1.0, 'Difference-in-difference: Before and After')"
      ]
     },
     "execution_count": 130,
     "metadata": {},
     "output_type": "execute_result"
    },
    {
     "data": {
      "text/plain": [
       "<Figure size 320x240 with 0 Axes>"
      ]
     },
     "metadata": {},
     "output_type": "display_data"
    },
    {
     "data": {
      "image/png": "[encoded data removed]",
      "text/plain": [
       "<Figure size 576x432 with 1 Axes>"
      ]
     },
     "metadata": {
      "needs_background": "light"
     },
     "output_type": "display_data"
    }
   ],
   "source": [
    "plt.figure(num=None, figsize=(4, 3), dpi=80, facecolor='w', edgecolor='k')\n",
    "fig, ax = plt.subplots()\n",
    "lineNJ, = ax.plot(['0', '1'], [NJ_before, NJ_after],color='blue',label='NJ before and after')\n",
    "linePA, = ax.plot(['0', '1'], [PA_before, PA_after],color = 'red',label = 'PA before and after')\n",
    "lineNJ0, = ax.plot(['0', '1'], [NJ_before, NJ_counterfactual],color = 'blue',linestyle='dashed',label='NJ counterfactual')\n",
    "ax.legend()\n",
    "plt.ylim(15, 28)  \n",
    "plt.title(\"Difference-in-difference: Before and After\", fontsize=\"14\")"
   ]
  },
  {
   "cell_type": "markdown",
   "id": "8f2e655f",
   "metadata": {},
   "source": [
    "a) Does the minimum wage have an impact on employment?"
   ]
  },
  {
   "cell_type": "markdown",
   "id": "b661c54e",
   "metadata": {},
   "source": [
    "According to the study, it is mentioned that there is no evidence that the increase in the minimum wage in New Jersey has reduced employment in fast food restaurants in the state."
   ]
  },
  {
   "cell_type": "markdown",
   "id": "7e12c76f",
   "metadata": {},
   "source": [
    "b) What is the difference and difference method and explain in detail using figures and/or equations?"
   ]
  },
  {
   "cell_type": "markdown",
   "id": "9367cc6d",
   "metadata": {},
   "source": [
    "It is a technique used to measure the impact of a model in a given period of time. It usually compares the changes in the treatment group and the comparison group given a defined amount of time."
   ]
  },
  {
   "cell_type": "markdown",
   "id": "6e8e75f2",
   "metadata": {},
   "source": [
    "c) How this method is used to calculate the impact of minimum wage on employment?"
   ]
  },
  {
   "cell_type": "markdown",
   "id": "164a39cb",
   "metadata": {},
   "source": [
    "This method helps to the extent that it studies the impact of the minimum wage in a defined time interval, this allows a much more precise estimate to be reached, taking into account the level of variance that can be given by different variables."
   ]
  }
 ],
 "metadata": {
  "kernelspec": {
   "display_name": "Python 3 (ipykernel)",
   "language": "python",
   "name": "python3"
  },
  "language_info": {
   "codemirror_mode": {
    "name": "ipython",
    "version": 3
   },
   "file_extension": ".py",
   "mimetype": "text/x-python",
   "name": "python",
   "nbconvert_exporter": "python",
   "pygments_lexer": "ipython3",
   "version": "3.9.7"
  }
 },
 "nbformat": 4,
 "nbformat_minor": 5
}
