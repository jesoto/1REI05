{
 "cells": [
  {
   "cell_type": "code",
   "execution_count": 33,
   "id": "7a363fe8",
   "metadata": {},
   "outputs": [
    {
     "name": "stdout",
     "output_type": "stream",
     "text": [
      "Student: Jorge Sebastián Castro Schebesta\n"
     ]
    }
   ],
   "source": [
    "print(\"Student: Jorge Sebastián Castro Schebesta\")"
   ]
  },
  {
   "cell_type": "code",
   "execution_count": 34,
   "id": "adc1f1ea",
   "metadata": {},
   "outputs": [
    {
     "name": "stdout",
     "output_type": "stream",
     "text": [
      "Code: 20195578\n"
     ]
    }
   ],
   "source": [
    "print(\"Code: 20195578\")"
   ]
  },
  {
   "cell_type": "code",
   "execution_count": 17,
   "id": "b314af85",
   "metadata": {},
   "outputs": [
    {
     "name": "stdout",
     "output_type": "stream",
     "text": [
      "Exercise 1\n"
     ]
    }
   ],
   "source": [
    "print(\"Exercise 1\")\n"
   ]
  },
  {
   "cell_type": "code",
   "execution_count": 18,
   "id": "438aa65a",
   "metadata": {},
   "outputs": [
    {
     "data": {
      "text/plain": [
       "2712500000000"
      ]
     },
     "execution_count": 18,
     "metadata": {},
     "output_type": "execute_result"
    }
   ],
   "source": [
    "15500*175000000"
   ]
  },
  {
   "cell_type": "code",
   "execution_count": 19,
   "id": "5d7d5c03",
   "metadata": {},
   "outputs": [
    {
     "name": "stdout",
     "output_type": "stream",
     "text": [
      "Total GDP is the product of GDP per capita multiplied by the total population. Following this logic, Poldan's GDP is 2712500000000.\n"
     ]
    }
   ],
   "source": [
    "print(\"Total GDP is the product of GDP per capita multiplied by the total population. Following this logic, Poldan's GDP is 2712500000000.\")"
   ]
  },
  {
   "cell_type": "code",
   "execution_count": 28,
   "id": "b995833b",
   "metadata": {},
   "outputs": [
    {
     "data": {
      "text/plain": [
       "92999998.93714286"
      ]
     },
     "execution_count": 28,
     "metadata": {},
     "output_type": "execute_result"
    }
   ],
   "source": [
    "2712500000000/29166.667"
   ]
  },
  {
   "cell_type": "code",
   "execution_count": 30,
   "id": "a70e3f8d",
   "metadata": {},
   "outputs": [
    {
     "name": "stdout",
     "output_type": "stream",
     "text": [
      "The number of people employed is the division between the total GDP and the GDP per worker. So the number of people employed in Poldan is approximately 92999999.\n"
     ]
    }
   ],
   "source": [
    "print(\"The number of people employed is the division between the total GDP and the GDP per worker. So the number of people employed in Poldan is approximately 92999999.\")"
   ]
  },
  {
   "cell_type": "code",
   "execution_count": 5,
   "id": "086452e1",
   "metadata": {},
   "outputs": [
    {
     "name": "stdout",
     "output_type": "stream",
     "text": [
      "Exercise 2\n"
     ]
    }
   ],
   "source": [
    "print(\"Exercise 2\")"
   ]
  },
  {
   "cell_type": "code",
   "execution_count": 7,
   "id": "11f12ed9",
   "metadata": {},
   "outputs": [
    {
     "data": {
      "text/plain": [
       "24719101.123595506"
      ]
     },
     "execution_count": 7,
     "metadata": {},
     "output_type": "execute_result"
    }
   ],
   "source": [
    "2200000000000000/89000000"
   ]
  },
  {
   "cell_type": "code",
   "execution_count": 10,
   "id": "00142087",
   "metadata": {},
   "outputs": [
    {
     "name": "stdout",
     "output_type": "stream",
     "text": [
      "GDP per capita is the division between total GDP and the total population that exists, so Manyger's GDP per capita is 24719101.123595506.\n"
     ]
    }
   ],
   "source": [
    "print(\"GDP per capita is the division between total GDP and the total population that exists, so Manyger's GDP per capita is 24719101.123595506.\")"
   ]
  },
  {
   "cell_type": "code",
   "execution_count": 24,
   "id": "f4fbf248",
   "metadata": {},
   "outputs": [
    {
     "data": {
      "text/plain": [
       "43137254.90196078"
      ]
     },
     "execution_count": 24,
     "metadata": {},
     "output_type": "execute_result"
    }
   ],
   "source": [
    "2200000000000000/51000000"
   ]
  },
  {
   "cell_type": "code",
   "execution_count": 25,
   "id": "0fc46064",
   "metadata": {},
   "outputs": [
    {
     "name": "stdout",
     "output_type": "stream",
     "text": [
      "The GDP per worker is the division between the total GDP and the number of people employed. Under this logic, Manyger's GDP per worker is 43137254.90196078.\n"
     ]
    }
   ],
   "source": [
    "print(\"The GDP per worker is the division between the total GDP and the number of people employed. Under this logic, Manyger's GDP per worker is 43137254.90196078.\")"
   ]
  },
  {
   "cell_type": "code",
   "execution_count": 35,
   "id": "214fff52",
   "metadata": {},
   "outputs": [
    {
     "name": "stdout",
     "output_type": "stream",
     "text": [
      "The most productive country is the one with a higher GDP per worker (higher technology, higher physical capital and higher human capital): if Manyger's GDP per worker is 43137254.90196078, and Poldan's GDP per worker is 29166.667, the most productive country is Manyger.\n"
     ]
    }
   ],
   "source": [
    "print(\"The most productive country is the one with a higher GDP per worker (higher technology, higher physical capital and higher human capital): if Manyger's GDP per worker is 43137254.90196078, and Poldan's GDP per worker is 29166.667, the most productive country is Manyger.\")"
   ]
  },
  {
   "cell_type": "code",
   "execution_count": 37,
   "id": "4283404e",
   "metadata": {},
   "outputs": [
    {
     "name": "stdout",
     "output_type": "stream",
     "text": [
      "The country with the highest living standards is the one with the highest GDP per capita (this measure incorporates the demanding public goods such as health and education): if Manyger's GDP per capita is 24719101, and Poldan's GDP per capita is 15500, the country with the highest living standards is Manyger.\n"
     ]
    }
   ],
   "source": [
    "print(\"The country with the highest living standards is the one with the highest GDP per capita (this measure incorporates the demanding public goods such as health and education): if Manyger's GDP per capita is 24719101, and Poldan's GDP per capita is 15500, the country with the highest living standards is Manyger.\")"
   ]
  },
  {
   "cell_type": "code",
   "execution_count": 38,
   "id": "2819fd03",
   "metadata": {},
   "outputs": [
    {
     "name": "stdout",
     "output_type": "stream",
     "text": [
      "Exercise 3\n"
     ]
    }
   ],
   "source": [
    "print(\"Exercise 3\")"
   ]
  },
  {
   "cell_type": "code",
   "execution_count": 42,
   "id": "b1877b6e",
   "metadata": {},
   "outputs": [
    {
     "name": "stdout",
     "output_type": "stream",
     "text": [
      "The unemployment rate is equal to the division of the number of unemployed people by the labor force, multiplied by 100%. L refers to the total number of workers. h refers to the number of actual hours worked. If the unemployment rate decreases, wages will also decrease, and therefore the hours worked. For example, a woman employed in a Peruvian supermarket works 9 hours a day and for every hour she earns 15 soles, but in the context of the decrease in the unemployment rate, there would be a greater number of supermarket employees, and the woman would no longer earn 15 soles per hour, but 5. Except for necessity (as is the case of many compatriots), the woman would have fewer incentives to work the same number of hours a day for a lower salary. In conclusion, the efficiency units of labor (consisting of the total number of workers and the number of hours worked) could present a decrease.\n"
     ]
    }
   ],
   "source": [
    "print(\"The unemployment rate is equal to the division of the number of unemployed people by the labor force, multiplied by 100%. L refers to the total number of workers. h refers to the number of actual hours worked. If the unemployment rate decreases, wages will also decrease, and therefore the hours worked. For example, a woman employed in a Peruvian supermarket works 9 hours a day and for every hour she earns 15 soles, but in the context of the decrease in the unemployment rate, there would be a greater number of supermarket employees, and the woman would no longer earn 15 soles per hour, but 5. Except for necessity (as is the case of many compatriots), the woman would have fewer incentives to work the same number of hours a day for a lower salary. In conclusion, the efficiency units of labor (consisting of the total number of workers and the number of hours worked) could present a decrease.\")"
   ]
  },
  {
   "cell_type": "code",
   "execution_count": 43,
   "id": "7abedb37",
   "metadata": {},
   "outputs": [
    {
     "name": "stdout",
     "output_type": "stream",
     "text": [
      "The aggregate production formula is the product of the technology index multiplied by the physical capital stock of the nation (raised to the 1/3) multiplied by the efficiency units of labor (raised to the 2/3). If H decreases, then so does GDP, as can be seen in the following example:\n"
     ]
    }
   ],
   "source": [
    "print(\"The aggregate production formula is the product of the technology index multiplied by the physical capital stock of the nation (raised to the 1/3) multiplied by the efficiency units of labor (raised to the 2/3). If H decreases, then so does GDP, as can be seen in the following example:\")"
   ]
  },
  {
   "cell_type": "code",
   "execution_count": 44,
   "id": "e18c5bd4",
   "metadata": {},
   "outputs": [
    {
     "name": "stdout",
     "output_type": "stream",
     "text": [
      "If in the situation before the decrease in the unemployment rate, A is equal to 6, K is 6, and H is 8, the aggregate production is approximately 43.6. However, in the context of the decrease in the unemployment rate, if H is 2, then the aggregate production would be approximately 17.3. The lower H, the lower GDP.\n"
     ]
    }
   ],
   "source": [
    "print(\"If in the situation before the decrease in the unemployment rate, A is equal to 6, K is 6, and H is 8, the aggregate production is approximately 43.6. However, in the context of the decrease in the unemployment rate, if H is 2, then the aggregate production would be approximately 17.3. The lower H, the lower GDP.\")"
   ]
  },
  {
   "cell_type": "code",
   "execution_count": 45,
   "id": "3c9a9256",
   "metadata": {},
   "outputs": [
    {
     "name": "stdout",
     "output_type": "stream",
     "text": [
      "The lower the GDP, the lower the standards of living and the lower the productivity, that is, the lower the GDP per capita and the lower the GDP per worker.\n"
     ]
    }
   ],
   "source": [
    "print(\"The lower the GDP, the lower the standards of living and the lower the productivity, that is, the lower the GDP per capita and the lower the GDP per worker.\")"
   ]
  },
  {
   "cell_type": "code",
   "execution_count": 46,
   "id": "e4c3312a",
   "metadata": {},
   "outputs": [
    {
     "name": "stdout",
     "output_type": "stream",
     "text": [
      "The greater the technological advance (A) and the greater the physical capital stock (K), the greater the productivity in economic terms, therefore, the GDP will increase.\n"
     ]
    }
   ],
   "source": [
    "print(\"The greater the technological advance (A) and the greater the physical capital stock (K), the greater the productivity in economic terms, therefore, the GDP will increase.\")"
   ]
  },
  {
   "cell_type": "code",
   "execution_count": 47,
   "id": "824c4bd1",
   "metadata": {},
   "outputs": [
    {
     "name": "stdout",
     "output_type": "stream",
     "text": [
      "Exercise 4\n"
     ]
    }
   ],
   "source": [
    "print(\"Exercise 4\")"
   ]
  },
  {
   "cell_type": "code",
   "execution_count": 52,
   "id": "beb8600e",
   "metadata": {},
   "outputs": [
    {
     "name": "stdout",
     "output_type": "stream",
     "text": [
      "Economic growth is the result of an economy increasing its physical capital, increasing the human capital of its workers (so that it has more efficient work units for a given workforce size), and improving its technology. Economic growth measures how much real GDP per capita grows over time. Probably the reason why countries like Iraq, Burma and Nauru have high economic growth but low GDP per capita is socio-economic inequality, and especially poor investment in technology: there is no sustained growth. Achieving sustained growth with the accumulation of physical and human capital alone is an implausible (almost impossible) task because of the diminishing marginal product of physical capital and the limits on how much each worker can invest in their human capital before joining the labor force.\n"
     ]
    }
   ],
   "source": [
    "print(\"Economic growth is the result of an economy increasing its physical capital, increasing the human capital of its workers (so that it has more efficient work units for a given workforce size), and improving its technology. Economic growth measures how much real GDP per capita grows over time. Probably the reason why countries like Iraq, Burma and Nauru have high economic growth but low GDP per capita is socio-economic inequality, and especially poor investment in technology: there is no sustained growth. Achieving sustained growth with the accumulation of physical and human capital alone is an implausible (almost impossible) task because of the diminishing marginal product of physical capital and the limits on how much each worker can invest in their human capital before joining the labor force.\")"
   ]
  },
  {
   "cell_type": "code",
   "execution_count": 48,
   "id": "87902e57",
   "metadata": {},
   "outputs": [
    {
     "name": "stdout",
     "output_type": "stream",
     "text": [
      "Exercise 5\n"
     ]
    }
   ],
   "source": [
    "print(\"Exercise 5\")"
   ]
  },
  {
   "cell_type": "code",
   "execution_count": 53,
   "id": "8be0a920",
   "metadata": {},
   "outputs": [
    {
     "name": "stdout",
     "output_type": "stream",
     "text": [
      "Open language technology like Python can positively impact the growth of developing countries through the design of web applications, data analysis, automation of operations and the creation of scalable and reliable business applications. Probably, if all American companies turned to open source, growth in developing countries would increase: with software development without limits, growth in developing countries would not have to present barriers.\n"
     ]
    }
   ],
   "source": [
    "print(\"Open language technology like Python can positively impact the growth of developing countries through the design of web applications, data analysis, automation of operations and the creation of scalable and reliable business applications. Probably, if all American companies turned to open source, growth in developing countries would increase: with software development without limits, growth in developing countries would not have to present barriers.\")"
   ]
  },
  {
   "cell_type": "code",
   "execution_count": 49,
   "id": "359aa1eb",
   "metadata": {},
   "outputs": [
    {
     "name": "stdout",
     "output_type": "stream",
     "text": [
      "Exercise 6\n"
     ]
    }
   ],
   "source": [
    "print(\"Exercise 6\")"
   ]
  },
  {
   "cell_type": "code",
   "execution_count": 18,
   "id": "82cac925",
   "metadata": {},
   "outputs": [
    {
     "name": "stdout",
     "output_type": "stream",
     "text": [
      "Considering that the formula for the unemployment rate is the division between the number of unemployed people and the labor force (everything multiplied by 100%), and that the formula for the labor force is the sum of the employed plus the unemployed, the data (obtained by calculator) to complete in the table are the following:\n"
     ]
    }
   ],
   "source": [
    "print(\"Considering that the formula for the unemployment rate is the division between the number of unemployed people and the labor force (everything multiplied by 100%), and that the formula for the labor force is the sum of the employed plus the unemployed, the data (obtained by calculator) to complete in the table are the following:\")"
   ]
  },
  {
   "cell_type": "code",
   "execution_count": 19,
   "id": "fb2d6c1f",
   "metadata": {},
   "outputs": [
    {
     "name": "stdout",
     "output_type": "stream",
     "text": [
      "Year 2008: Labor force is 49915. Unemployment rate is 0.09097465691; so it´s approximately 9,1%. Employment rate is approximately 90,9%.\n"
     ]
    }
   ],
   "source": [
    "print(\"Year 2008: Labor force is 49915. Unemployment rate is 0.09097465691; so it´s approximately 9,1%. Employment rate is approximately 90,9%.\")"
   ]
  },
  {
   "cell_type": "code",
   "execution_count": 20,
   "id": "92882b3f",
   "metadata": {},
   "outputs": [
    {
     "name": "stdout",
     "output_type": "stream",
     "text": [
      "Year 2009: Labor force is 50106. Unemployment rate is 0.09481898375; so it´s approximately 9.5%. Employment rate is approximately 90.5%.\n"
     ]
    }
   ],
   "source": [
    "print(\"Year 2009: Labor force is 50106. Unemployment rate is 0.09481898375; so it´s approximately 9.5%. Employment rate is approximately 90.5%.\")"
   ]
  },
  {
   "cell_type": "code",
   "execution_count": 21,
   "id": "34ffc63a",
   "metadata": {},
   "outputs": [
    {
     "name": "stdout",
     "output_type": "stream",
     "text": [
      "Year 2010: Labor force is 50270. Unemployment rate is 0.11834095882; so it´s approximately 11,8%. Employment rate is approximately 88.2%.\n"
     ]
    }
   ],
   "source": [
    "print(\"Year 2010: Labor force is 50270. Unemployment rate is 0.11834095882; so it´s approximately 11,8%. Employment rate is approximately 88.2%.\")"
   ]
  },
  {
   "cell_type": "code",
   "execution_count": 22,
   "id": "98fa756e",
   "metadata": {},
   "outputs": [
    {
     "name": "stdout",
     "output_type": "stream",
     "text": [
      "Year 2011: Labor force is 12409. Unemployment rate is 0.6674993956; so it´s approximately 66,7%. Employment rate is approximately 33.3%.\n"
     ]
    }
   ],
   "source": [
    "print(\"Year 2011: Labor force is 12409. Unemployment rate is 0.6674993956; so it´s approximately 66,7%. Employment rate is approximately 33.3%.\")"
   ]
  },
  {
   "cell_type": "code",
   "execution_count": 23,
   "id": "f4fcb642",
   "metadata": {},
   "outputs": [
    {
     "name": "stdout",
     "output_type": "stream",
     "text": [
      "Year 2012: Labor force is 48760. Unemployment rate is 0.23182936833; so it´s approximately 23,2%. Employment rate is approximately 76,8%.\n"
     ]
    }
   ],
   "source": [
    "print(\"Year 2012: Labor force is 48760. Unemployment rate is 0.23182936833; so it´s approximately 23,2%. Employment rate is approximately 76,8%.\")"
   ]
  },
  {
   "cell_type": "code",
   "execution_count": 25,
   "id": "adc6f8a5",
   "metadata": {},
   "outputs": [
    {
     "name": "stdout",
     "output_type": "stream",
     "text": [
      "Year 2013: Labor force is 16519. Unemployment rate is 0.78866759489; so it´s approximately 78,9%. Employment rate is approximately 21.1%.\n"
     ]
    }
   ],
   "source": [
    "print(\"Year 2013: Labor force is 16519. Unemployment rate is 0.78866759489; so it´s approximately 78,9%. Employment rate is approximately 21.1%.\")"
   ]
  },
  {
   "cell_type": "code",
   "execution_count": 28,
   "id": "f9571507",
   "metadata": {},
   "outputs": [
    {
     "name": "stdout",
     "output_type": "stream",
     "text": [
      "Year 2014: Labor force is 48390. Unemployment rate is 0.27761934283; so it´s approximately 27,8%. Employment rate is approximately 72,2%.\n"
     ]
    }
   ],
   "source": [
    "print(\"Year 2014: Labor force is 48390. Unemployment rate is 0.27761934283; so it´s approximately 27,8%. Employment rate is approximately 72,2%.\")"
   ]
  },
  {
   "cell_type": "code",
   "execution_count": 29,
   "id": "37619a9f",
   "metadata": {},
   "outputs": [
    {
     "name": "stdout",
     "output_type": "stream",
     "text": [
      "Year 2015: Labor force is 47375. Unemployment rate is 0.27427968337; so it´s approximately 27,4%. Employment rate is approximately 72.6%.\n"
     ]
    }
   ],
   "source": [
    "print(\"Year 2015: Labor force is 47375. Unemployment rate is 0.27427968337; so it´s approximately 27,4%. Employment rate is approximately 72.6%.\")"
   ]
  },
  {
   "cell_type": "code",
   "execution_count": 30,
   "id": "6f090cc1",
   "metadata": {},
   "outputs": [
    {
     "name": "stdout",
     "output_type": "stream",
     "text": [
      "Year 2016: Labor force is 47906. Unemployment rate is 0.24838224857; so it´s approximately 24,8%. Employment rate is approximately 75.2.\n"
     ]
    }
   ],
   "source": [
    "print(\"Year 2016: Labor force is 47906. Unemployment rate is 0.24838224857; so it´s approximately 24,8%. Employment rate is approximately 75.2.\")"
   ]
  },
  {
   "cell_type": "code",
   "execution_count": 31,
   "id": "ae6e6c71",
   "metadata": {},
   "outputs": [
    {
     "name": "stdout",
     "output_type": "stream",
     "text": [
      "Year 2017: Labor force is 37771689. Unemployment rate is 0.02858535131; so it´s approximately 2,8%. Employment rate is approximately 97.2%.\n"
     ]
    }
   ],
   "source": [
    "print(\"Year 2017: Labor force is 37771689. Unemployment rate is 0.02858535131; so it´s approximately 2,8%. Employment rate is approximately 97.2%.\")"
   ]
  },
  {
   "cell_type": "code",
   "execution_count": 32,
   "id": "f2b244a0",
   "metadata": {},
   "outputs": [
    {
     "name": "stdout",
     "output_type": "stream",
     "text": [
      "Year 2018: Labor force is 13504358. Unemployment rate is 0.72093238345; so it´s approximately 72,1%. Employment rate is approximately 27.9%.\n"
     ]
    }
   ],
   "source": [
    "print(\"Year 2018: Labor force is 13504358. Unemployment rate is 0.72093238345; so it´s approximately 72,1%. Employment rate is approximately 27.9%.\")"
   ]
  },
  {
   "cell_type": "code",
   "execution_count": 34,
   "id": "2de209af",
   "metadata": {},
   "outputs": [
    {
     "name": "stdout",
     "output_type": "stream",
     "text": [
      "Year 2019: Labor force is 39307357. Unemployment rate is 0.02147277416; so it´s approximately 2.1%. Employment rate is approximately 97,9%.\n"
     ]
    }
   ],
   "source": [
    "print(\"Year 2019: Labor force is 39307357. Unemployment rate is 0.02147277416; so it´s approximately 2.1%. Employment rate is approximately 97,9%.\")"
   ]
  },
  {
   "cell_type": "code",
   "execution_count": 35,
   "id": "ccdcc505",
   "metadata": {},
   "outputs": [
    {
     "name": "stdout",
     "output_type": "stream",
     "text": [
      "Year 2020: Labor force is 44783998. Unemployment rate is 0.14857134907; so it´s approximately 14,9%. Employment rate is approximately 85,1%.\n"
     ]
    }
   ],
   "source": [
    "print(\"Year 2020: Labor force is 44783998. Unemployment rate is 0.14857134907; so it´s approximately 14,9%. Employment rate is approximately 85,1%.\")"
   ]
  },
  {
   "cell_type": "code",
   "execution_count": 36,
   "id": "dea47271",
   "metadata": {},
   "outputs": [
    {
     "name": "stdout",
     "output_type": "stream",
     "text": [
      "Some years of the 2010s saw an increase in the unemployment rate in Greece, due to the huge sovereign debt crisis it was facing. In addition, there was an increase in the unemployment rate in 2020 due to the negative impact of the covid 19 pandemic on the economy: business closures, staff cuts, unemployment, etc.\n"
     ]
    }
   ],
   "source": [
    "print(\"Some years of the 2010s saw an increase in the unemployment rate in Greece, due to the huge sovereign debt crisis it was facing. In addition, there was an increase in the unemployment rate in 2020 due to the negative impact of the covid 19 pandemic on the economy: business closures, staff cuts, unemployment, etc.\")"
   ]
  },
  {
   "cell_type": "code",
   "execution_count": 37,
   "id": "df84e9e7",
   "metadata": {},
   "outputs": [
    {
     "name": "stdout",
     "output_type": "stream",
     "text": [
      "Using data on the size of the labor force and potential workers, the percentage of adults outside the workforce for the year 2017 is approximately 50.9%.Using data on the size of the labor force and potential workers, the percentage of adults outside the workforce for the year 2017 is approximately 50.9%.\n"
     ]
    }
   ],
   "source": [
    "print(\"Using data on the size of the labor force and potential workers, the percentage of adults outside the workforce for the year 2017 is approximately 50.9%.Using data on the size of the labor force and potential workers, the percentage of adults outside the workforce for the year 2017 is approximately 50.9%.\")"
   ]
  },
  {
   "cell_type": "code",
   "execution_count": 38,
   "id": "56e9eb4f",
   "metadata": {},
   "outputs": [
    {
     "name": "stdout",
     "output_type": "stream",
     "text": [
      "Despite the series of increases in the unemployment rate that Greece faced due to the proposed crises, that country is an example that everything returns to a balance.\n"
     ]
    }
   ],
   "source": [
    "print(\"Despite the series of increases in the unemployment rate that Greece faced due to the proposed crises, that country is an example that everything returns to a balance.\")"
   ]
  },
  {
   "cell_type": "code",
   "execution_count": 50,
   "id": "307e3d12",
   "metadata": {},
   "outputs": [
    {
     "name": "stdout",
     "output_type": "stream",
     "text": [
      "Exercise 7\n"
     ]
    }
   ],
   "source": [
    "print(\"Exercise 7\")"
   ]
  },
  {
   "cell_type": "markdown",
   "id": "635285ab",
   "metadata": {},
   "source": [
    "[Imagen](https://github.com/SebasCastroSchebesta/Exam/blob/d8466797345c6c7faf2d3fbf26187e0bf58ae80c/OFERTA.jpg)"
   ]
  },
  {
   "cell_type": "code",
   "execution_count": 39,
   "id": "9fd4b02d",
   "metadata": {},
   "outputs": [
    {
     "name": "stdout",
     "output_type": "stream",
     "text": [
      "As a result of the immigration wave, there is more labor offered, but for a lower salary than before (as can be seen in the image).\n"
     ]
    }
   ],
   "source": [
    "print(\"As a result of the immigration wave, there is more labor offered, but for a lower salary than before (as can be seen in the image).\")"
   ]
  },
  {
   "cell_type": "markdown",
   "id": "2a449653",
   "metadata": {},
   "source": [
    "[Imagen](https://github.com/SebasCastroSchebesta/Exam/blob/6e4e6c843a23811b740712af7977f65e4c8c65a1/DEMANDA.jpg)"
   ]
  },
  {
   "cell_type": "code",
   "execution_count": 40,
   "id": "25b410bb",
   "metadata": {},
   "outputs": [
    {
     "name": "stdout",
     "output_type": "stream",
     "text": [
      "A country with larger inhabitants requires more housing. Therefore, more workers and fair wages are demanded in relation to their homebuilding trade.\n"
     ]
    }
   ],
   "source": [
    "print(\"A country with larger inhabitants requires more housing. Therefore, more workers and fair wages are demanded in relation to their homebuilding trade.\")"
   ]
  },
  {
   "cell_type": "code",
   "execution_count": 41,
   "id": "62b3fac0",
   "metadata": {},
   "outputs": [
    {
     "name": "stdout",
     "output_type": "stream",
     "text": [
      "In conclusion, in a context with a larger labor force due to the wave of migration in the country, as the number of workers increases, wages experience a decrease to what they were before the demographic phenomenon.\n"
     ]
    }
   ],
   "source": [
    "print(\"In conclusion, in a context with a larger labor force due to the wave of migration in the country, as the number of workers increases, wages experience a decrease to what they were before the demographic phenomenon.\")"
   ]
  },
  {
   "cell_type": "code",
   "execution_count": 51,
   "id": "a4043901",
   "metadata": {},
   "outputs": [
    {
     "name": "stdout",
     "output_type": "stream",
     "text": [
      "Exercise 8\n"
     ]
    }
   ],
   "source": [
    "print(\"Exercise 8\")"
   ]
  },
  {
   "cell_type": "code",
   "execution_count": 82,
   "id": "af2a3ed6",
   "metadata": {},
   "outputs": [],
   "source": [
    "import pandas as pd\n",
    "import matplotlib.pyplot as plt\n",
    "import warnings \n",
    "import seaborn as sns\n",
    "import statistics\n",
    "import numpy as np\n",
    "import statsmodels.formula.api as smf \n",
    "import statsmodels.api as sm  "
   ]
  },
  {
   "cell_type": "code",
   "execution_count": 67,
   "id": "e27f1429",
   "metadata": {},
   "outputs": [],
   "source": [
    "path = 'njmin3.xlsx' "
   ]
  },
  {
   "cell_type": "code",
   "execution_count": 68,
   "id": "4cd5c443",
   "metadata": {},
   "outputs": [
    {
     "data": {
      "text/html": [
       "<div>\n",
       "<style scoped>\n",
       "    .dataframe tbody tr th:only-of-type {\n",
       "        vertical-align: middle;\n",
       "    }\n",
       "\n",
       "    .dataframe tbody tr th {\n",
       "        vertical-align: top;\n",
       "    }\n",
       "\n",
       "    .dataframe thead th {\n",
       "        text-align: right;\n",
       "    }\n",
       "</style>\n",
       "<table border=\"1\" class=\"dataframe\">\n",
       "  <thead>\n",
       "    <tr style=\"text-align: right;\">\n",
       "      <th></th>\n",
       "      <th>CO_OWNED</th>\n",
       "      <th>SOUTHJ</th>\n",
       "      <th>CENTRALJ</th>\n",
       "      <th>PA1</th>\n",
       "      <th>PA2</th>\n",
       "      <th>DEMP</th>\n",
       "      <th>nj</th>\n",
       "      <th>bk</th>\n",
       "      <th>kfc</th>\n",
       "      <th>roys</th>\n",
       "      <th>wendys</th>\n",
       "      <th>d</th>\n",
       "      <th>d_nj</th>\n",
       "      <th>fte</th>\n",
       "    </tr>\n",
       "  </thead>\n",
       "  <tbody>\n",
       "    <tr>\n",
       "      <th>0</th>\n",
       "      <td>0</td>\n",
       "      <td>0</td>\n",
       "      <td>1</td>\n",
       "      <td>0</td>\n",
       "      <td>0</td>\n",
       "      <td>12.00</td>\n",
       "      <td>1</td>\n",
       "      <td>1</td>\n",
       "      <td>0</td>\n",
       "      <td>0</td>\n",
       "      <td>0</td>\n",
       "      <td>0</td>\n",
       "      <td>0</td>\n",
       "      <td>15.00</td>\n",
       "    </tr>\n",
       "    <tr>\n",
       "      <th>1</th>\n",
       "      <td>0</td>\n",
       "      <td>0</td>\n",
       "      <td>1</td>\n",
       "      <td>0</td>\n",
       "      <td>0</td>\n",
       "      <td>6.50</td>\n",
       "      <td>1</td>\n",
       "      <td>1</td>\n",
       "      <td>0</td>\n",
       "      <td>0</td>\n",
       "      <td>0</td>\n",
       "      <td>0</td>\n",
       "      <td>0</td>\n",
       "      <td>15.00</td>\n",
       "    </tr>\n",
       "    <tr>\n",
       "      <th>2</th>\n",
       "      <td>0</td>\n",
       "      <td>0</td>\n",
       "      <td>1</td>\n",
       "      <td>0</td>\n",
       "      <td>0</td>\n",
       "      <td>-1.00</td>\n",
       "      <td>1</td>\n",
       "      <td>0</td>\n",
       "      <td>0</td>\n",
       "      <td>1</td>\n",
       "      <td>0</td>\n",
       "      <td>0</td>\n",
       "      <td>0</td>\n",
       "      <td>24.00</td>\n",
       "    </tr>\n",
       "    <tr>\n",
       "      <th>3</th>\n",
       "      <td>1</td>\n",
       "      <td>0</td>\n",
       "      <td>0</td>\n",
       "      <td>0</td>\n",
       "      <td>0</td>\n",
       "      <td>2.25</td>\n",
       "      <td>1</td>\n",
       "      <td>0</td>\n",
       "      <td>0</td>\n",
       "      <td>1</td>\n",
       "      <td>0</td>\n",
       "      <td>0</td>\n",
       "      <td>0</td>\n",
       "      <td>19.25</td>\n",
       "    </tr>\n",
       "    <tr>\n",
       "      <th>4</th>\n",
       "      <td>0</td>\n",
       "      <td>0</td>\n",
       "      <td>0</td>\n",
       "      <td>0</td>\n",
       "      <td>0</td>\n",
       "      <td>13.00</td>\n",
       "      <td>1</td>\n",
       "      <td>1</td>\n",
       "      <td>0</td>\n",
       "      <td>0</td>\n",
       "      <td>0</td>\n",
       "      <td>0</td>\n",
       "      <td>0</td>\n",
       "      <td>21.50</td>\n",
       "    </tr>\n",
       "    <tr>\n",
       "      <th>...</th>\n",
       "      <td>...</td>\n",
       "      <td>...</td>\n",
       "      <td>...</td>\n",
       "      <td>...</td>\n",
       "      <td>...</td>\n",
       "      <td>...</td>\n",
       "      <td>...</td>\n",
       "      <td>...</td>\n",
       "      <td>...</td>\n",
       "      <td>...</td>\n",
       "      <td>...</td>\n",
       "      <td>...</td>\n",
       "      <td>...</td>\n",
       "      <td>...</td>\n",
       "    </tr>\n",
       "    <tr>\n",
       "      <th>815</th>\n",
       "      <td>1</td>\n",
       "      <td>0</td>\n",
       "      <td>0</td>\n",
       "      <td>0</td>\n",
       "      <td>1</td>\n",
       "      <td>-2.50</td>\n",
       "      <td>0</td>\n",
       "      <td>0</td>\n",
       "      <td>0</td>\n",
       "      <td>1</td>\n",
       "      <td>0</td>\n",
       "      <td>1</td>\n",
       "      <td>0</td>\n",
       "      <td>12.50</td>\n",
       "    </tr>\n",
       "    <tr>\n",
       "      <th>816</th>\n",
       "      <td>0</td>\n",
       "      <td>0</td>\n",
       "      <td>0</td>\n",
       "      <td>0</td>\n",
       "      <td>1</td>\n",
       "      <td>16.00</td>\n",
       "      <td>0</td>\n",
       "      <td>0</td>\n",
       "      <td>0</td>\n",
       "      <td>1</td>\n",
       "      <td>0</td>\n",
       "      <td>1</td>\n",
       "      <td>0</td>\n",
       "      <td>34.00</td>\n",
       "    </tr>\n",
       "    <tr>\n",
       "      <th>817</th>\n",
       "      <td>1</td>\n",
       "      <td>0</td>\n",
       "      <td>0</td>\n",
       "      <td>0</td>\n",
       "      <td>1</td>\n",
       "      <td>-10.25</td>\n",
       "      <td>0</td>\n",
       "      <td>0</td>\n",
       "      <td>0</td>\n",
       "      <td>1</td>\n",
       "      <td>0</td>\n",
       "      <td>1</td>\n",
       "      <td>0</td>\n",
       "      <td>10.00</td>\n",
       "    </tr>\n",
       "    <tr>\n",
       "      <th>818</th>\n",
       "      <td>0</td>\n",
       "      <td>0</td>\n",
       "      <td>0</td>\n",
       "      <td>1</td>\n",
       "      <td>0</td>\n",
       "      <td>-1.50</td>\n",
       "      <td>0</td>\n",
       "      <td>1</td>\n",
       "      <td>0</td>\n",
       "      <td>0</td>\n",
       "      <td>0</td>\n",
       "      <td>1</td>\n",
       "      <td>0</td>\n",
       "      <td>14.00</td>\n",
       "    </tr>\n",
       "    <tr>\n",
       "      <th>819</th>\n",
       "      <td>0</td>\n",
       "      <td>0</td>\n",
       "      <td>0</td>\n",
       "      <td>1</td>\n",
       "      <td>0</td>\n",
       "      <td>-3.50</td>\n",
       "      <td>0</td>\n",
       "      <td>1</td>\n",
       "      <td>0</td>\n",
       "      <td>0</td>\n",
       "      <td>0</td>\n",
       "      <td>1</td>\n",
       "      <td>0</td>\n",
       "      <td>17.50</td>\n",
       "    </tr>\n",
       "  </tbody>\n",
       "</table>\n",
       "<p>820 rows × 14 columns</p>\n",
       "</div>"
      ],
      "text/plain": [
       "     CO_OWNED  SOUTHJ  CENTRALJ  PA1  PA2   DEMP  nj  bk  kfc  roys  wendys  \\\n",
       "0           0       0         1    0    0  12.00   1   1    0     0       0   \n",
       "1           0       0         1    0    0   6.50   1   1    0     0       0   \n",
       "2           0       0         1    0    0  -1.00   1   0    0     1       0   \n",
       "3           1       0         0    0    0   2.25   1   0    0     1       0   \n",
       "4           0       0         0    0    0  13.00   1   1    0     0       0   \n",
       "..        ...     ...       ...  ...  ...    ...  ..  ..  ...   ...     ...   \n",
       "815         1       0         0    0    1  -2.50   0   0    0     1       0   \n",
       "816         0       0         0    0    1  16.00   0   0    0     1       0   \n",
       "817         1       0         0    0    1 -10.25   0   0    0     1       0   \n",
       "818         0       0         0    1    0  -1.50   0   1    0     0       0   \n",
       "819         0       0         0    1    0  -3.50   0   1    0     0       0   \n",
       "\n",
       "     d  d_nj    fte  \n",
       "0    0     0  15.00  \n",
       "1    0     0  15.00  \n",
       "2    0     0  24.00  \n",
       "3    0     0  19.25  \n",
       "4    0     0  21.50  \n",
       "..  ..   ...    ...  \n",
       "815  1     0  12.50  \n",
       "816  1     0  34.00  \n",
       "817  1     0  10.00  \n",
       "818  1     0  14.00  \n",
       "819  1     0  17.50  \n",
       "\n",
       "[820 rows x 14 columns]"
      ]
     },
     "execution_count": 68,
     "metadata": {},
     "output_type": "execute_result"
    }
   ],
   "source": [
    "pd.read_excel(path)"
   ]
  },
  {
   "cell_type": "code",
   "execution_count": 70,
   "id": "cadcf23f",
   "metadata": {},
   "outputs": [
    {
     "data": {
      "text/html": [
       "<div>\n",
       "<style scoped>\n",
       "    .dataframe tbody tr th:only-of-type {\n",
       "        vertical-align: middle;\n",
       "    }\n",
       "\n",
       "    .dataframe tbody tr th {\n",
       "        vertical-align: top;\n",
       "    }\n",
       "\n",
       "    .dataframe thead th {\n",
       "        text-align: right;\n",
       "    }\n",
       "</style>\n",
       "<table border=\"1\" class=\"dataframe\">\n",
       "  <thead>\n",
       "    <tr style=\"text-align: right;\">\n",
       "      <th></th>\n",
       "      <th>CO_OWNED</th>\n",
       "      <th>SOUTHJ</th>\n",
       "      <th>CENTRALJ</th>\n",
       "      <th>PA1</th>\n",
       "      <th>PA2</th>\n",
       "      <th>DEMP</th>\n",
       "      <th>nj</th>\n",
       "      <th>bk</th>\n",
       "      <th>kfc</th>\n",
       "      <th>roys</th>\n",
       "      <th>wendys</th>\n",
       "      <th>d</th>\n",
       "      <th>d_nj</th>\n",
       "      <th>fte</th>\n",
       "    </tr>\n",
       "  </thead>\n",
       "  <tbody>\n",
       "    <tr>\n",
       "      <th>count</th>\n",
       "      <td>820.000000</td>\n",
       "      <td>820.000000</td>\n",
       "      <td>820.000000</td>\n",
       "      <td>820.000000</td>\n",
       "      <td>820.000000</td>\n",
       "      <td>768.000000</td>\n",
       "      <td>820.000000</td>\n",
       "      <td>820.000000</td>\n",
       "      <td>820.000000</td>\n",
       "      <td>820.000000</td>\n",
       "      <td>820.000000</td>\n",
       "      <td>820.000000</td>\n",
       "      <td>820.000000</td>\n",
       "      <td>794.000000</td>\n",
       "    </tr>\n",
       "    <tr>\n",
       "      <th>mean</th>\n",
       "      <td>0.343902</td>\n",
       "      <td>0.226829</td>\n",
       "      <td>0.153659</td>\n",
       "      <td>0.087805</td>\n",
       "      <td>0.104878</td>\n",
       "      <td>-0.070443</td>\n",
       "      <td>0.807317</td>\n",
       "      <td>0.417073</td>\n",
       "      <td>0.195122</td>\n",
       "      <td>0.241463</td>\n",
       "      <td>0.146341</td>\n",
       "      <td>0.500000</td>\n",
       "      <td>0.403659</td>\n",
       "      <td>21.026511</td>\n",
       "    </tr>\n",
       "    <tr>\n",
       "      <th>std</th>\n",
       "      <td>0.475299</td>\n",
       "      <td>0.419037</td>\n",
       "      <td>0.360841</td>\n",
       "      <td>0.283184</td>\n",
       "      <td>0.306583</td>\n",
       "      <td>9.016441</td>\n",
       "      <td>0.394647</td>\n",
       "      <td>0.493376</td>\n",
       "      <td>0.396536</td>\n",
       "      <td>0.428232</td>\n",
       "      <td>0.353664</td>\n",
       "      <td>0.500305</td>\n",
       "      <td>0.490930</td>\n",
       "      <td>9.422746</td>\n",
       "    </tr>\n",
       "    <tr>\n",
       "      <th>min</th>\n",
       "      <td>0.000000</td>\n",
       "      <td>0.000000</td>\n",
       "      <td>0.000000</td>\n",
       "      <td>0.000000</td>\n",
       "      <td>0.000000</td>\n",
       "      <td>-41.500000</td>\n",
       "      <td>0.000000</td>\n",
       "      <td>0.000000</td>\n",
       "      <td>0.000000</td>\n",
       "      <td>0.000000</td>\n",
       "      <td>0.000000</td>\n",
       "      <td>0.000000</td>\n",
       "      <td>0.000000</td>\n",
       "      <td>0.000000</td>\n",
       "    </tr>\n",
       "    <tr>\n",
       "      <th>25%</th>\n",
       "      <td>0.000000</td>\n",
       "      <td>0.000000</td>\n",
       "      <td>0.000000</td>\n",
       "      <td>0.000000</td>\n",
       "      <td>0.000000</td>\n",
       "      <td>-4.000000</td>\n",
       "      <td>1.000000</td>\n",
       "      <td>0.000000</td>\n",
       "      <td>0.000000</td>\n",
       "      <td>0.000000</td>\n",
       "      <td>0.000000</td>\n",
       "      <td>0.000000</td>\n",
       "      <td>0.000000</td>\n",
       "      <td>14.500000</td>\n",
       "    </tr>\n",
       "    <tr>\n",
       "      <th>50%</th>\n",
       "      <td>0.000000</td>\n",
       "      <td>0.000000</td>\n",
       "      <td>0.000000</td>\n",
       "      <td>0.000000</td>\n",
       "      <td>0.000000</td>\n",
       "      <td>0.000000</td>\n",
       "      <td>1.000000</td>\n",
       "      <td>0.000000</td>\n",
       "      <td>0.000000</td>\n",
       "      <td>0.000000</td>\n",
       "      <td>0.000000</td>\n",
       "      <td>0.500000</td>\n",
       "      <td>0.000000</td>\n",
       "      <td>20.000000</td>\n",
       "    </tr>\n",
       "    <tr>\n",
       "      <th>75%</th>\n",
       "      <td>1.000000</td>\n",
       "      <td>0.000000</td>\n",
       "      <td>0.000000</td>\n",
       "      <td>0.000000</td>\n",
       "      <td>0.000000</td>\n",
       "      <td>4.000000</td>\n",
       "      <td>1.000000</td>\n",
       "      <td>1.000000</td>\n",
       "      <td>0.000000</td>\n",
       "      <td>0.000000</td>\n",
       "      <td>0.000000</td>\n",
       "      <td>1.000000</td>\n",
       "      <td>1.000000</td>\n",
       "      <td>25.500000</td>\n",
       "    </tr>\n",
       "    <tr>\n",
       "      <th>max</th>\n",
       "      <td>1.000000</td>\n",
       "      <td>1.000000</td>\n",
       "      <td>1.000000</td>\n",
       "      <td>1.000000</td>\n",
       "      <td>1.000000</td>\n",
       "      <td>34.000000</td>\n",
       "      <td>1.000000</td>\n",
       "      <td>1.000000</td>\n",
       "      <td>1.000000</td>\n",
       "      <td>1.000000</td>\n",
       "      <td>1.000000</td>\n",
       "      <td>1.000000</td>\n",
       "      <td>1.000000</td>\n",
       "      <td>85.000000</td>\n",
       "    </tr>\n",
       "  </tbody>\n",
       "</table>\n",
       "</div>"
      ],
      "text/plain": [
       "         CO_OWNED      SOUTHJ    CENTRALJ         PA1         PA2        DEMP  \\\n",
       "count  820.000000  820.000000  820.000000  820.000000  820.000000  768.000000   \n",
       "mean     0.343902    0.226829    0.153659    0.087805    0.104878   -0.070443   \n",
       "std      0.475299    0.419037    0.360841    0.283184    0.306583    9.016441   \n",
       "min      0.000000    0.000000    0.000000    0.000000    0.000000  -41.500000   \n",
       "25%      0.000000    0.000000    0.000000    0.000000    0.000000   -4.000000   \n",
       "50%      0.000000    0.000000    0.000000    0.000000    0.000000    0.000000   \n",
       "75%      1.000000    0.000000    0.000000    0.000000    0.000000    4.000000   \n",
       "max      1.000000    1.000000    1.000000    1.000000    1.000000   34.000000   \n",
       "\n",
       "               nj          bk         kfc        roys      wendys           d  \\\n",
       "count  820.000000  820.000000  820.000000  820.000000  820.000000  820.000000   \n",
       "mean     0.807317    0.417073    0.195122    0.241463    0.146341    0.500000   \n",
       "std      0.394647    0.493376    0.396536    0.428232    0.353664    0.500305   \n",
       "min      0.000000    0.000000    0.000000    0.000000    0.000000    0.000000   \n",
       "25%      1.000000    0.000000    0.000000    0.000000    0.000000    0.000000   \n",
       "50%      1.000000    0.000000    0.000000    0.000000    0.000000    0.500000   \n",
       "75%      1.000000    1.000000    0.000000    0.000000    0.000000    1.000000   \n",
       "max      1.000000    1.000000    1.000000    1.000000    1.000000    1.000000   \n",
       "\n",
       "             d_nj         fte  \n",
       "count  820.000000  794.000000  \n",
       "mean     0.403659   21.026511  \n",
       "std      0.490930    9.422746  \n",
       "min      0.000000    0.000000  \n",
       "25%      0.000000   14.500000  \n",
       "50%      0.000000   20.000000  \n",
       "75%      1.000000   25.500000  \n",
       "max      1.000000   85.000000  "
      ]
     },
     "execution_count": 70,
     "metadata": {},
     "output_type": "execute_result"
    }
   ],
   "source": [
    "data.describe()"
   ]
  },
  {
   "cell_type": "code",
   "execution_count": 84,
   "id": "6cf6fb4e",
   "metadata": {},
   "outputs": [
    {
     "name": "stdout",
     "output_type": "stream",
     "text": [
      "                            OLS Regression Results                            \n",
      "==============================================================================\n",
      "Dep. Variable:                    fte   R-squared:                       0.219\n",
      "Model:                            OLS   Adj. R-squared:                  0.211\n",
      "Method:                 Least Squares   F-statistic:                     27.47\n",
      "Date:                Thu, 19 May 2022   Prob (F-statistic):           9.44e-38\n",
      "Time:                        23:31:54   Log-Likelihood:                -2809.2\n",
      "No. Observations:                 794   AIC:                             5636.\n",
      "Df Residuals:                     785   BIC:                             5679.\n",
      "Df Model:                           8                                         \n",
      "Covariance Type:            nonrobust                                         \n",
      "==============================================================================\n",
      "                 coef    std err          t      P>|t|      [0.025      0.975]\n",
      "------------------------------------------------------------------------------\n",
      "Intercept     24.3532      0.601     40.549      0.000      23.174      25.532\n",
      "d_nj           0.6401      0.630      1.016      0.310      -0.597       1.877\n",
      "kfc          -10.0556      0.845    -11.899      0.000     -11.714      -8.397\n",
      "roys          -1.7036      0.858     -1.985      0.048      -3.389      -0.019\n",
      "wendys        -1.0349      0.921     -1.124      0.261      -2.842       0.772\n",
      "CO_OWNED      -0.7064      0.719     -0.983      0.326      -2.117       0.704\n",
      "SOUTHJ        -3.6672      0.755     -4.857      0.000      -5.149      -2.185\n",
      "CENTRALJ       0.0452      0.878      0.052      0.959      -1.677       1.768\n",
      "PA1            0.7740      1.130      0.685      0.494      -1.444       2.992\n",
      "==============================================================================\n",
      "Omnibus:                      296.588   Durbin-Watson:                   2.041\n",
      "Prob(Omnibus):                  0.000   Jarque-Bera (JB):             1861.874\n",
      "Skew:                           1.553   Prob(JB):                         0.00\n",
      "Kurtosis:                       9.828   Cond. No.                         5.17\n",
      "==============================================================================\n",
      "\n",
      "Notes:\n",
      "[1] Standard Errors assume that the covariance matrix of the errors is correctly specified.\n"
     ]
    }
   ],
   "source": [
    "model = smf.ols(formula = \"fte ~ d_nj + kfc + roys + wendys + CO_OWNED + SOUTHJ + CENTRALJ + PA1\", data = data).fit()\n",
    "print(model.summary())"
   ]
  },
  {
   "cell_type": "code",
   "execution_count": 86,
   "id": "a48be345",
   "metadata": {},
   "outputs": [
    {
     "data": {
      "text/plain": [
       "[20.439408099688475,\n",
       " 21.02742946708464,\n",
       " 23.33116883116883,\n",
       " 21.165584415584416,\n",
       " 20.439408099688475,\n",
       " 17.547647368208118]"
      ]
     },
     "execution_count": 86,
     "metadata": {},
     "output_type": "execute_result"
    }
   ],
   "source": [
    "# NJ Before and after\n",
    "NJ_before = data.loc[(data['nj']==1) & (data['d']!=1),'fte'].mean()\n",
    "NJ_after  = data.loc[(data['nj']==1) & (data['d']==1),'fte'].mean()\n",
    "\n",
    "# PA Before and after\n",
    "PA_before = data.loc[(data['nj']!=1) & (data['d']!=1),'fte'].mean()\n",
    "PA_after  = data.loc[(data['nj']!=1) & (data['d']==1),'fte'].mean()\n",
    "\n",
    "# NJ counterfactual (if no treatment)\n",
    "NJ_counterfactual = NJ_before + ( NJ_before - PA_before )\n",
    "\n",
    "[NJ_before, NJ_after, PA_before, PA_after, NJ_before, NJ_counterfactual]"
   ]
  },
  {
   "cell_type": "code",
   "execution_count": 87,
   "id": "59f40b4c",
   "metadata": {},
   "outputs": [
    {
     "data": {
      "text/plain": [
       "Text(0.5, 1.0, 'Difference-in-difference: Before and After')"
      ]
     },
     "execution_count": 87,
     "metadata": {},
     "output_type": "execute_result"
    },
    {
     "data": {
      "text/plain": [
       "<Figure size 320x240 with 0 Axes>"
      ]
     },
     "metadata": {},
     "output_type": "display_data"
    },
    {
     "data": {
      "image/png": "[encoded data removed]",
      "text/plain": [
       "<Figure size 432x288 with 1 Axes>"
      ]
     },
     "metadata": {
      "needs_background": "light"
     },
     "output_type": "display_data"
    }
   ],
   "source": [
    "plt.figure(num=None, figsize=(4, 3), dpi=80, facecolor='w', edgecolor='k')\n",
    "fig, ax = plt.subplots()\n",
    "lineNJ, = ax.plot(['0', '1'], [NJ_before, NJ_after],color='blue',label='NJ before and after')\n",
    "linePA, = ax.plot(['0', '1'], [PA_before, PA_after],color = 'red',label = 'PA before and after')\n",
    "lineNJ0, = ax.plot(['0', '1'], [NJ_before, NJ_counterfactual],color = 'blue',linestyle='dashed',label='NJ counterfactual')\n",
    "ax.legend()\n",
    "plt.ylim(15, 28)  \n",
    "plt.title(\"Difference-in-difference: Before and After\", fontsize=\"14\")"
   ]
  },
  {
   "cell_type": "code",
   "execution_count": 73,
   "id": "7005c115",
   "metadata": {},
   "outputs": [
    {
     "name": "stdout",
     "output_type": "stream",
     "text": [
      "Card and Krueger found no evidence that increasing New Jersey's minimum wage reduced employment at fast-food restaurants in the state. However, regardless of their academic work, it is important to note that the increase in the minimum wage can generate a new equilibrium point located on the line of demand, which can, in turn, result in involuntary unemployment.\n"
     ]
    }
   ],
   "source": [
    "print(\"Card and Krueger found no evidence that increasing New Jersey's minimum wage reduced employment at fast-food restaurants in the state. However, regardless of their academic work, it is important to note that the increase in the minimum wage can generate a new equilibrium point located on the line of demand, which can, in turn, result in involuntary unemployment.\")"
   ]
  },
  {
   "cell_type": "code",
   "execution_count": 69,
   "id": "1d0faf30",
   "metadata": {},
   "outputs": [
    {
     "name": "stdout",
     "output_type": "stream",
     "text": [
      "The difference and difference method is associated with the hammering of the assumption of parallel trends, represented by the first difference in the second line. For example, as long as parallel trends hold in this situation, the second term will go to zero and the 2×2 DD will collapse to the ATT: The 2×2 DD requires differentiating employment in New Jersey and Pennsylvania, and then differentiate those first differences.\n"
     ]
    }
   ],
   "source": [
    "print(\"The difference and difference method is associated with the hammering of the assumption of parallel trends, represented by the first difference in the second line. For example, as long as parallel trends hold in this situation, the second term will go to zero and the 2×2 DD will collapse to the ATT: The 2×2 DD requires differentiating employment in New Jersey and Pennsylvania, and then differentiate those first differences.\")"
   ]
  },
  {
   "cell_type": "markdown",
   "id": "c960917e",
   "metadata": {},
   "source": [
    "[Imagen](https://github.com/SebasCastroSchebesta/Exam/blob/89e61d970c21e25bfedeb631502d0f8ded6b6721/ecuaci%C3%B3n.PNG)"
   ]
  },
  {
   "cell_type": "markdown",
   "id": "1fb32fab",
   "metadata": {},
   "source": [
    "[Imagen](https://github.com/SebasCastroSchebesta/Exam/blob/89e61d970c21e25bfedeb631502d0f8ded6b6721/diagrama%20de%20regresi%C3%B3n.PNG)"
   ]
  },
  {
   "cell_type": "code",
   "execution_count": 72,
   "id": "25892c39",
   "metadata": {},
   "outputs": [
    {
     "name": "stdout",
     "output_type": "stream",
     "text": [
      "This method has a positive impact on how the minimum wage is studied: through the equation already proposed, it controls the most appropriate covariates, has the power to reduce the residual variance and potentially improves the precision of its estimate.\n"
     ]
    }
   ],
   "source": [
    "print(\"This method has a positive impact on how the minimum wage is studied: through the equation already proposed, it controls the most appropriate covariates, has the power to reduce the residual variance and potentially improves the precision of its estimate.\")"
   ]
  }
 ],
 "metadata": {
  "kernelspec": {
   "display_name": "Python 3 (ipykernel)",
   "language": "python",
   "name": "python3"
  },
  "language_info": {
   "codemirror_mode": {
    "name": "ipython",
    "version": 3
   },
   "file_extension": ".py",
   "mimetype": "text/x-python",
   "name": "python",
   "nbconvert_exporter": "python",
   "pygments_lexer": "ipython3",
   "version": "3.9.7"
  }
 },
 "nbformat": 4,
 "nbformat_minor": 5
}
