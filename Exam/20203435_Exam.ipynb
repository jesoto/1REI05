{
 "cells": [
  {
   "cell_type": "markdown",
   "id": "31e9d2b0",
   "metadata": {},
   "source": [
    "# Name: Alexandra Brun Coronado\n",
    "## Code: 20203435"
   ]
  },
  {
   "cell_type": "markdown",
   "id": "c7dae0a0",
   "metadata": {},
   "source": [
    "### QUESTION 1"
   ]
  },
  {
   "cell_type": "markdown",
   "id": "41acdf11",
   "metadata": {},
   "source": [
    "a) Poldan's GDP = 15 500 * 175 000 000\n",
    "                = 2 712 500 millions\n",
    "                \n",
    "b) Number of employed people in Poldan = 2 712 500 000 000 / 29 166,667\n",
    "                                       = 92, 99 million people"
   ]
  },
  {
   "cell_type": "markdown",
   "id": "795dc780",
   "metadata": {},
   "source": [
    "### QUESTION 2"
   ]
  },
  {
   "cell_type": "markdown",
   "id": "c65be646",
   "metadata": {},
   "source": [
    "a) GDP per capita = 2 200 000 000 000 / 89 000 000\n",
    "                  = € 24 719,10\n",
    "\n",
    "b) GDP per worker = 2 200 000 000 000 / 51 000 000\n",
    "                  = € 43 137,25\n",
    "                  \n",
    "c) Productivity refers to the value of goods and services that a worker generates for each hour of work. And taking into account that the GDP per worker and productivity are very closely related, we can say that Manyger would be considered more productive than Poldan. The first country has a GDP per worker of €43 137, 25 while Poldan has a GDP per worker of €29 166.667. Both countries have approximately the same percentage of their population employed (Manyger 57% and Poldan 53%). Thus, we must consider other factors such as the capital per worker or the human capital per worker, making Manyger more productive.\n",
    "\n",
    "d) If we consider the GDP per capita as a reasonably good predictor of average life satisfaction, Manyger would be the country with higher living standards. However, another indicator could be that Manyger is more productive because one of the factors that made that possible is the human capital per worker, which represents the years of scholarship and training of the worker. Therefore, Manyger possibly is a country with higher standards of living because it offers better education and training to its population."
   ]
  },
  {
   "cell_type": "markdown",
   "id": "4fdeced0",
   "metadata": {},
   "source": [
    "### QUESTION 3"
   ]
  },
  {
   "cell_type": "markdown",
   "id": "df590d11",
   "metadata": {},
   "source": [
    "a) \n",
    "- L: total number of workers\n",
    "- H1 = L1/h1 --> decrease in uneployment rate --> Increase in L (L1 < L2) --> H1 < H2 assuming and increase in L and ceteris paribus.\n",
    "\n",
    "b) \n",
    "- GDP: Y = AF(K,H)\n",
    "- H1 < H2\n",
    "- Y2 = A * [K^(1/3)] * [H2^(2/3]\n",
    "- Y1 < Y2 --> El GDP aumenta por el aumento en el total efficiency units of labor.\n",
    "\n",
    "c) \n",
    "- [Y = AF(K, H)] / L\n",
    "- y1 = A[(K/L1)^(1/3)] * h^(2/3) --> decrease in unemployment rate --> Increase in L (L1 < L2) --> y2 = A[(K/L2)^(1/3)] * h^(2/3) --> y1 > y2\n",
    "- This is because as there are more workers, capital per worker decreases because there is less availability of machines per worker.\n",
    "- In the case of GDP per capita, it increases because GDP (b) increases. It should be noted that there is no change in population, which is the quantity by which GDP is divided to find GDP per capita.\n",
    "\n",
    "d)\n",
    "- It is not possible to say if there is going to be an increase or a decrease in GDP. This is because, first of all, it is true that technology is a factor that can increase production exponentially. However, secondly, when physical capital is analyzed it is necessary to take into account the depreciation rate, a fact that we do not have. Therefore, we cannot know for sure if the GDP would increase or not in this situation.\n",
    "- Know = (1 - DR)Klastyear +I\n"
   ]
  },
  {
   "cell_type": "markdown",
   "id": "6e0069bf",
   "metadata": {},
   "source": [
    "### QUESTION 4"
   ]
  },
  {
   "cell_type": "markdown",
   "id": "e0732aef",
   "metadata": {},
   "source": [
    "According to the growth rate formula, the three countries mentioned can have a high growth rate because, indeed, they can show a significant increase in the GDP of one year compared to the previous one. However, the issue here is real GDP per capita. The real GDP is calculated based on the prices of a certain year to reflect the true growth in production. Therefore, it is most likely that the growth in GDP of these countries is due to an increase in prices and not to an increase in production. Therefore, although these countries may have a high growth rate, their problem is that their production does not increase and this is reflected in real GDP."
   ]
  },
  {
   "cell_type": "markdown",
   "id": "9cd6def3",
   "metadata": {},
   "source": [
    "### QUESTION 5"
   ]
  },
  {
   "cell_type": "markdown",
   "id": "a82c2205",
   "metadata": {},
   "source": [
    "First of all, it is important to highlight the role that technology has in allowing a higher level of growth to be achieved. As can be seen in the aggregate production function, technology is a factor that intervenes in GDP. Technology, being of an exponential nature (it ensures that the improvement in productive capacity increases not by a constant amount, but by a constant percentage), can be considered as the most plausible engine for sustained growth. However, for the case presented, it is necessary to take into account the inverse relationship between the return for entering the market and the number of entrepreneurs. Once the technology is open-sourced, a large number of people will want to enter that new market. Entrepreneurs may initially see benefits and this may be reflected in GDP. But, since the technology is open-source and there are benefits in the market, more people will enter and the profits will be lower, so there will be fewer incentives to enter that market, which will influence the country's growth. Despite all of the above, open-source technology would indeed increase the growth of developing countries, but only in the short-medium term and not in a sustained manner."
   ]
  },
  {
   "cell_type": "markdown",
   "id": "86f8df12",
   "metadata": {},
   "source": [
    "### QUESTION 6"
   ]
  },
  {
   "cell_type": "code",
   "execution_count": 5,
   "id": "1a27ce34",
   "metadata": {},
   "outputs": [],
   "source": [
    "import pandas as pd\n",
    "import matplotlib.pyplot as plt\n",
    "import seaborn as sns"
   ]
  },
  {
   "cell_type": "code",
   "execution_count": 7,
   "id": "940b4fa3",
   "metadata": {},
   "outputs": [
    {
     "data": {
      "text/html": [
       "<div>\n",
       "<style scoped>\n",
       "    .dataframe tbody tr th:only-of-type {\n",
       "        vertical-align: middle;\n",
       "    }\n",
       "\n",
       "    .dataframe tbody tr th {\n",
       "        vertical-align: top;\n",
       "    }\n",
       "\n",
       "    .dataframe thead th {\n",
       "        text-align: right;\n",
       "    }\n",
       "</style>\n",
       "<table border=\"1\" class=\"dataframe\">\n",
       "  <thead>\n",
       "    <tr style=\"text-align: right;\">\n",
       "      <th></th>\n",
       "      <th>Year</th>\n",
       "      <th>Number Unemployed (in thousands)</th>\n",
       "      <th>Number Employed (in thousands)</th>\n",
       "      <th>Labor Force Participation Rate</th>\n",
       "    </tr>\n",
       "  </thead>\n",
       "  <tbody>\n",
       "    <tr>\n",
       "      <th>0</th>\n",
       "      <td>2008</td>\n",
       "      <td>454.1</td>\n",
       "      <td>4537.4</td>\n",
       "      <td>0.529</td>\n",
       "    </tr>\n",
       "    <tr>\n",
       "      <th>1</th>\n",
       "      <td>2009</td>\n",
       "      <td>475.1</td>\n",
       "      <td>4535.5</td>\n",
       "      <td>0.532</td>\n",
       "    </tr>\n",
       "    <tr>\n",
       "      <th>2</th>\n",
       "      <td>2010</td>\n",
       "      <td>594.9</td>\n",
       "      <td>4432.1</td>\n",
       "      <td>0.536</td>\n",
       "    </tr>\n",
       "    <tr>\n",
       "      <th>3</th>\n",
       "      <td>2011</td>\n",
       "      <td>828.3</td>\n",
       "      <td>4126.0</td>\n",
       "      <td>0.530</td>\n",
       "    </tr>\n",
       "    <tr>\n",
       "      <th>4</th>\n",
       "      <td>2012</td>\n",
       "      <td>1130.4</td>\n",
       "      <td>3745.6</td>\n",
       "      <td>0.524</td>\n",
       "    </tr>\n",
       "  </tbody>\n",
       "</table>\n",
       "</div>"
      ],
      "text/plain": [
       "   Year  Number Unemployed (in thousands)  Number Employed (in thousands)  \\\n",
       "0  2008                             454.1                          4537.4   \n",
       "1  2009                             475.1                          4535.5   \n",
       "2  2010                             594.9                          4432.1   \n",
       "3  2011                             828.3                          4126.0   \n",
       "4  2012                            1130.4                          3745.6   \n",
       "\n",
       "   Labor Force Participation Rate  \n",
       "0                           0.529  \n",
       "1                           0.532  \n",
       "2                           0.536  \n",
       "3                           0.530  \n",
       "4                           0.524  "
      ]
     },
     "execution_count": 7,
     "metadata": {},
     "output_type": "execute_result"
    }
   ],
   "source": [
    "data = pd.read_excel('Greece.xlsx')\n",
    "data.head()"
   ]
  },
  {
   "cell_type": "code",
   "execution_count": 24,
   "id": "d69ee4bf",
   "metadata": {},
   "outputs": [],
   "source": [
    "data['Labor Force'] = data['Number Unemployed (in thousands)'] + data['Number Employed (in thousands)']\n",
    "\n",
    "data['Employment Rate'] = (data['Number Employed (in thousands)'] / data['Labor Force']).pct_change()*100\n",
    "\n",
    "data['Unemployment Rate'] = (data['Number Unemployed (in thousands)'] / data['Labor Force']).pct_change()*100\n",
    "\n",
    "data['Adult Population'] = data['Number Unemployed (in thousands)'] + data['Number Employed (in thousands)'] + (data['Labor Force'] / data['Labor Force Participation Rate'])"
   ]
  },
  {
   "cell_type": "code",
   "execution_count": 27,
   "id": "5ae82a95",
   "metadata": {},
   "outputs": [
    {
     "data": {
      "text/html": [
       "<div>\n",
       "<style scoped>\n",
       "    .dataframe tbody tr th:only-of-type {\n",
       "        vertical-align: middle;\n",
       "    }\n",
       "\n",
       "    .dataframe tbody tr th {\n",
       "        vertical-align: top;\n",
       "    }\n",
       "\n",
       "    .dataframe thead th {\n",
       "        text-align: right;\n",
       "    }\n",
       "</style>\n",
       "<table border=\"1\" class=\"dataframe\">\n",
       "  <thead>\n",
       "    <tr style=\"text-align: right;\">\n",
       "      <th></th>\n",
       "      <th>Year</th>\n",
       "      <th>Number Unemployed (in thousands)</th>\n",
       "      <th>Number Employed (in thousands)</th>\n",
       "      <th>Labor Force Participation Rate</th>\n",
       "      <th>Labor Force</th>\n",
       "      <th>Employment Rate</th>\n",
       "      <th>Unemployment Rate</th>\n",
       "      <th>Adult Population</th>\n",
       "      <th>Labor Force (in thousands)</th>\n",
       "    </tr>\n",
       "  </thead>\n",
       "  <tbody>\n",
       "    <tr>\n",
       "      <th>0</th>\n",
       "      <td>2008</td>\n",
       "      <td>454.1000</td>\n",
       "      <td>4537.4000</td>\n",
       "      <td>0.5290</td>\n",
       "      <td>4991.5000</td>\n",
       "      <td>NaN</td>\n",
       "      <td>NaN</td>\n",
       "      <td>14427.227788</td>\n",
       "      <td>4991.5000</td>\n",
       "    </tr>\n",
       "    <tr>\n",
       "      <th>1</th>\n",
       "      <td>2009</td>\n",
       "      <td>475.1000</td>\n",
       "      <td>4535.5000</td>\n",
       "      <td>0.5320</td>\n",
       "      <td>5010.6000</td>\n",
       "      <td>-0.422906</td>\n",
       "      <td>4.225712</td>\n",
       "      <td>14429.021053</td>\n",
       "      <td>5010.6000</td>\n",
       "    </tr>\n",
       "    <tr>\n",
       "      <th>2</th>\n",
       "      <td>2010</td>\n",
       "      <td>594.9000</td>\n",
       "      <td>4432.1000</td>\n",
       "      <td>0.5360</td>\n",
       "      <td>5027.0000</td>\n",
       "      <td>-2.598594</td>\n",
       "      <td>24.807242</td>\n",
       "      <td>14405.731343</td>\n",
       "      <td>5027.0000</td>\n",
       "    </tr>\n",
       "    <tr>\n",
       "      <th>3</th>\n",
       "      <td>2011</td>\n",
       "      <td>828.3000</td>\n",
       "      <td>4126.0000</td>\n",
       "      <td>0.5300</td>\n",
       "      <td>4954.3000</td>\n",
       "      <td>-5.540366</td>\n",
       "      <td>41.276614</td>\n",
       "      <td>14302.035849</td>\n",
       "      <td>4954.3000</td>\n",
       "    </tr>\n",
       "    <tr>\n",
       "      <th>4</th>\n",
       "      <td>2012</td>\n",
       "      <td>1130.4000</td>\n",
       "      <td>3745.6000</td>\n",
       "      <td>0.5240</td>\n",
       "      <td>4876.0000</td>\n",
       "      <td>-7.761809</td>\n",
       "      <td>38.663798</td>\n",
       "      <td>14181.343511</td>\n",
       "      <td>4876.0000</td>\n",
       "    </tr>\n",
       "    <tr>\n",
       "      <th>5</th>\n",
       "      <td>2013</td>\n",
       "      <td>1302.8000</td>\n",
       "      <td>3491.0000</td>\n",
       "      <td>0.5200</td>\n",
       "      <td>4793.8000</td>\n",
       "      <td>-5.199148</td>\n",
       "      <td>17.227469</td>\n",
       "      <td>14012.646154</td>\n",
       "      <td>4793.8000</td>\n",
       "    </tr>\n",
       "    <tr>\n",
       "      <th>6</th>\n",
       "      <td>2014</td>\n",
       "      <td>1343.4000</td>\n",
       "      <td>3495.6000</td>\n",
       "      <td>0.5190</td>\n",
       "      <td>4839.0000</td>\n",
       "      <td>-0.803541</td>\n",
       "      <td>2.153178</td>\n",
       "      <td>14162.699422</td>\n",
       "      <td>4839.0000</td>\n",
       "    </tr>\n",
       "    <tr>\n",
       "      <th>7</th>\n",
       "      <td>2015</td>\n",
       "      <td>1299.4000</td>\n",
       "      <td>3438.1000</td>\n",
       "      <td>0.5160</td>\n",
       "      <td>4737.5000</td>\n",
       "      <td>0.462313</td>\n",
       "      <td>-1.202964</td>\n",
       "      <td>13918.701550</td>\n",
       "      <td>4737.5000</td>\n",
       "    </tr>\n",
       "    <tr>\n",
       "      <th>8</th>\n",
       "      <td>2016</td>\n",
       "      <td>1189.9000</td>\n",
       "      <td>3600.7000</td>\n",
       "      <td>0.5204</td>\n",
       "      <td>4790.6000</td>\n",
       "      <td>3.568515</td>\n",
       "      <td>-9.441981</td>\n",
       "      <td>13996.211068</td>\n",
       "      <td>4790.6000</td>\n",
       "    </tr>\n",
       "    <tr>\n",
       "      <th>9</th>\n",
       "      <td>2017</td>\n",
       "      <td>1079.7170</td>\n",
       "      <td>3669.1972</td>\n",
       "      <td>0.5190</td>\n",
       "      <td>4748.9142</td>\n",
       "      <td>2.796825</td>\n",
       "      <td>-8.463340</td>\n",
       "      <td>13899.037899</td>\n",
       "      <td>4748.9142</td>\n",
       "    </tr>\n",
       "    <tr>\n",
       "      <th>10</th>\n",
       "      <td>2018</td>\n",
       "      <td>973.5729</td>\n",
       "      <td>3768.6290</td>\n",
       "      <td>0.5160</td>\n",
       "      <td>4742.2019</td>\n",
       "      <td>2.855286</td>\n",
       "      <td>-9.703104</td>\n",
       "      <td>13932.515660</td>\n",
       "      <td>4742.2019</td>\n",
       "    </tr>\n",
       "    <tr>\n",
       "      <th>11</th>\n",
       "      <td>2019</td>\n",
       "      <td>844.0380</td>\n",
       "      <td>3846.3319</td>\n",
       "      <td>0.5180</td>\n",
       "      <td>4690.3699</td>\n",
       "      <td>3.189692</td>\n",
       "      <td>-12.347064</td>\n",
       "      <td>13745.138047</td>\n",
       "      <td>4690.3699</td>\n",
       "    </tr>\n",
       "    <tr>\n",
       "      <th>12</th>\n",
       "      <td>2020</td>\n",
       "      <td>665.3619</td>\n",
       "      <td>3813.0379</td>\n",
       "      <td>0.5060</td>\n",
       "      <td>4478.3998</td>\n",
       "      <td>3.826592</td>\n",
       "      <td>-17.438008</td>\n",
       "      <td>13328.992290</td>\n",
       "      <td>4478.3998</td>\n",
       "    </tr>\n",
       "  </tbody>\n",
       "</table>\n",
       "</div>"
      ],
      "text/plain": [
       "    Year  Number Unemployed (in thousands)  Number Employed (in thousands)  \\\n",
       "0   2008                          454.1000                       4537.4000   \n",
       "1   2009                          475.1000                       4535.5000   \n",
       "2   2010                          594.9000                       4432.1000   \n",
       "3   2011                          828.3000                       4126.0000   \n",
       "4   2012                         1130.4000                       3745.6000   \n",
       "5   2013                         1302.8000                       3491.0000   \n",
       "6   2014                         1343.4000                       3495.6000   \n",
       "7   2015                         1299.4000                       3438.1000   \n",
       "8   2016                         1189.9000                       3600.7000   \n",
       "9   2017                         1079.7170                       3669.1972   \n",
       "10  2018                          973.5729                       3768.6290   \n",
       "11  2019                          844.0380                       3846.3319   \n",
       "12  2020                          665.3619                       3813.0379   \n",
       "\n",
       "    Labor Force Participation Rate  Labor Force  Employment Rate  \\\n",
       "0                           0.5290    4991.5000              NaN   \n",
       "1                           0.5320    5010.6000        -0.422906   \n",
       "2                           0.5360    5027.0000        -2.598594   \n",
       "3                           0.5300    4954.3000        -5.540366   \n",
       "4                           0.5240    4876.0000        -7.761809   \n",
       "5                           0.5200    4793.8000        -5.199148   \n",
       "6                           0.5190    4839.0000        -0.803541   \n",
       "7                           0.5160    4737.5000         0.462313   \n",
       "8                           0.5204    4790.6000         3.568515   \n",
       "9                           0.5190    4748.9142         2.796825   \n",
       "10                          0.5160    4742.2019         2.855286   \n",
       "11                          0.5180    4690.3699         3.189692   \n",
       "12                          0.5060    4478.3998         3.826592   \n",
       "\n",
       "    Unemployment Rate  Adult Population  Labor Force (in thousands)  \n",
       "0                 NaN      14427.227788                   4991.5000  \n",
       "1            4.225712      14429.021053                   5010.6000  \n",
       "2           24.807242      14405.731343                   5027.0000  \n",
       "3           41.276614      14302.035849                   4954.3000  \n",
       "4           38.663798      14181.343511                   4876.0000  \n",
       "5           17.227469      14012.646154                   4793.8000  \n",
       "6            2.153178      14162.699422                   4839.0000  \n",
       "7           -1.202964      13918.701550                   4737.5000  \n",
       "8           -9.441981      13996.211068                   4790.6000  \n",
       "9           -8.463340      13899.037899                   4748.9142  \n",
       "10          -9.703104      13932.515660                   4742.2019  \n",
       "11         -12.347064      13745.138047                   4690.3699  \n",
       "12         -17.438008      13328.992290                   4478.3998  "
      ]
     },
     "execution_count": 27,
     "metadata": {},
     "output_type": "execute_result"
    }
   ],
   "source": [
    "data"
   ]
  },
  {
   "cell_type": "markdown",
   "id": "f9f23f9b",
   "metadata": {},
   "source": [
    "a) According to the table, between the years 2009 and 2012 the unemployment rate in Greece increased. Most likely, this was due to the serious consequences that this country had to face due to the 2008 crisis."
   ]
  },
  {
   "cell_type": "markdown",
   "id": "5d63b186",
   "metadata": {},
   "source": [
    "b)"
   ]
  },
  {
   "cell_type": "code",
   "execution_count": 30,
   "id": "6105f228",
   "metadata": {},
   "outputs": [],
   "source": [
    "data['Potential Workers'] = data['Labor Force'] / data['Labor Force Participation Rate']\n",
    "\n",
    "data['Adults out of the labor force'] = data['Potential Workers'] - data['Number Unemployed (in thousands)'] - data['Number Employed (in thousands)']\n",
    "\n",
    "data['Percentage of adults out of the labor force'] = (data['Adults out of the labor force'] / data['Potential Workers'])"
   ]
  },
  {
   "cell_type": "code",
   "execution_count": 31,
   "id": "1dff383e",
   "metadata": {},
   "outputs": [
    {
     "data": {
      "text/html": [
       "<div>\n",
       "<style scoped>\n",
       "    .dataframe tbody tr th:only-of-type {\n",
       "        vertical-align: middle;\n",
       "    }\n",
       "\n",
       "    .dataframe tbody tr th {\n",
       "        vertical-align: top;\n",
       "    }\n",
       "\n",
       "    .dataframe thead th {\n",
       "        text-align: right;\n",
       "    }\n",
       "</style>\n",
       "<table border=\"1\" class=\"dataframe\">\n",
       "  <thead>\n",
       "    <tr style=\"text-align: right;\">\n",
       "      <th></th>\n",
       "      <th>Year</th>\n",
       "      <th>Number Unemployed (in thousands)</th>\n",
       "      <th>Number Employed (in thousands)</th>\n",
       "      <th>Labor Force Participation Rate</th>\n",
       "      <th>Labor Force</th>\n",
       "      <th>Employment Rate</th>\n",
       "      <th>Unemployment Rate</th>\n",
       "      <th>Adult Population</th>\n",
       "      <th>Labor Force (in thousands)</th>\n",
       "      <th>Potential Workers</th>\n",
       "      <th>Adults out of the labor force</th>\n",
       "      <th>Percentage of adults out of the labor force</th>\n",
       "    </tr>\n",
       "  </thead>\n",
       "  <tbody>\n",
       "    <tr>\n",
       "      <th>0</th>\n",
       "      <td>2008</td>\n",
       "      <td>454.1000</td>\n",
       "      <td>4537.4000</td>\n",
       "      <td>0.5290</td>\n",
       "      <td>4991.5000</td>\n",
       "      <td>NaN</td>\n",
       "      <td>NaN</td>\n",
       "      <td>14427.227788</td>\n",
       "      <td>4991.5000</td>\n",
       "      <td>9435.727788</td>\n",
       "      <td>4444.227788</td>\n",
       "      <td>0.4710</td>\n",
       "    </tr>\n",
       "    <tr>\n",
       "      <th>1</th>\n",
       "      <td>2009</td>\n",
       "      <td>475.1000</td>\n",
       "      <td>4535.5000</td>\n",
       "      <td>0.5320</td>\n",
       "      <td>5010.6000</td>\n",
       "      <td>-0.422906</td>\n",
       "      <td>4.225712</td>\n",
       "      <td>14429.021053</td>\n",
       "      <td>5010.6000</td>\n",
       "      <td>9418.421053</td>\n",
       "      <td>4407.821053</td>\n",
       "      <td>0.4680</td>\n",
       "    </tr>\n",
       "    <tr>\n",
       "      <th>2</th>\n",
       "      <td>2010</td>\n",
       "      <td>594.9000</td>\n",
       "      <td>4432.1000</td>\n",
       "      <td>0.5360</td>\n",
       "      <td>5027.0000</td>\n",
       "      <td>-2.598594</td>\n",
       "      <td>24.807242</td>\n",
       "      <td>14405.731343</td>\n",
       "      <td>5027.0000</td>\n",
       "      <td>9378.731343</td>\n",
       "      <td>4351.731343</td>\n",
       "      <td>0.4640</td>\n",
       "    </tr>\n",
       "    <tr>\n",
       "      <th>3</th>\n",
       "      <td>2011</td>\n",
       "      <td>828.3000</td>\n",
       "      <td>4126.0000</td>\n",
       "      <td>0.5300</td>\n",
       "      <td>4954.3000</td>\n",
       "      <td>-5.540366</td>\n",
       "      <td>41.276614</td>\n",
       "      <td>14302.035849</td>\n",
       "      <td>4954.3000</td>\n",
       "      <td>9347.735849</td>\n",
       "      <td>4393.435849</td>\n",
       "      <td>0.4700</td>\n",
       "    </tr>\n",
       "    <tr>\n",
       "      <th>4</th>\n",
       "      <td>2012</td>\n",
       "      <td>1130.4000</td>\n",
       "      <td>3745.6000</td>\n",
       "      <td>0.5240</td>\n",
       "      <td>4876.0000</td>\n",
       "      <td>-7.761809</td>\n",
       "      <td>38.663798</td>\n",
       "      <td>14181.343511</td>\n",
       "      <td>4876.0000</td>\n",
       "      <td>9305.343511</td>\n",
       "      <td>4429.343511</td>\n",
       "      <td>0.4760</td>\n",
       "    </tr>\n",
       "    <tr>\n",
       "      <th>5</th>\n",
       "      <td>2013</td>\n",
       "      <td>1302.8000</td>\n",
       "      <td>3491.0000</td>\n",
       "      <td>0.5200</td>\n",
       "      <td>4793.8000</td>\n",
       "      <td>-5.199148</td>\n",
       "      <td>17.227469</td>\n",
       "      <td>14012.646154</td>\n",
       "      <td>4793.8000</td>\n",
       "      <td>9218.846154</td>\n",
       "      <td>4425.046154</td>\n",
       "      <td>0.4800</td>\n",
       "    </tr>\n",
       "    <tr>\n",
       "      <th>6</th>\n",
       "      <td>2014</td>\n",
       "      <td>1343.4000</td>\n",
       "      <td>3495.6000</td>\n",
       "      <td>0.5190</td>\n",
       "      <td>4839.0000</td>\n",
       "      <td>-0.803541</td>\n",
       "      <td>2.153178</td>\n",
       "      <td>14162.699422</td>\n",
       "      <td>4839.0000</td>\n",
       "      <td>9323.699422</td>\n",
       "      <td>4484.699422</td>\n",
       "      <td>0.4810</td>\n",
       "    </tr>\n",
       "    <tr>\n",
       "      <th>7</th>\n",
       "      <td>2015</td>\n",
       "      <td>1299.4000</td>\n",
       "      <td>3438.1000</td>\n",
       "      <td>0.5160</td>\n",
       "      <td>4737.5000</td>\n",
       "      <td>0.462313</td>\n",
       "      <td>-1.202964</td>\n",
       "      <td>13918.701550</td>\n",
       "      <td>4737.5000</td>\n",
       "      <td>9181.201550</td>\n",
       "      <td>4443.701550</td>\n",
       "      <td>0.4840</td>\n",
       "    </tr>\n",
       "    <tr>\n",
       "      <th>8</th>\n",
       "      <td>2016</td>\n",
       "      <td>1189.9000</td>\n",
       "      <td>3600.7000</td>\n",
       "      <td>0.5204</td>\n",
       "      <td>4790.6000</td>\n",
       "      <td>3.568515</td>\n",
       "      <td>-9.441981</td>\n",
       "      <td>13996.211068</td>\n",
       "      <td>4790.6000</td>\n",
       "      <td>9205.611068</td>\n",
       "      <td>4415.011068</td>\n",
       "      <td>0.4796</td>\n",
       "    </tr>\n",
       "    <tr>\n",
       "      <th>9</th>\n",
       "      <td>2017</td>\n",
       "      <td>1079.7170</td>\n",
       "      <td>3669.1972</td>\n",
       "      <td>0.5190</td>\n",
       "      <td>4748.9142</td>\n",
       "      <td>2.796825</td>\n",
       "      <td>-8.463340</td>\n",
       "      <td>13899.037899</td>\n",
       "      <td>4748.9142</td>\n",
       "      <td>9150.123699</td>\n",
       "      <td>4401.209499</td>\n",
       "      <td>0.4810</td>\n",
       "    </tr>\n",
       "    <tr>\n",
       "      <th>10</th>\n",
       "      <td>2018</td>\n",
       "      <td>973.5729</td>\n",
       "      <td>3768.6290</td>\n",
       "      <td>0.5160</td>\n",
       "      <td>4742.2019</td>\n",
       "      <td>2.855286</td>\n",
       "      <td>-9.703104</td>\n",
       "      <td>13932.515660</td>\n",
       "      <td>4742.2019</td>\n",
       "      <td>9190.313760</td>\n",
       "      <td>4448.111860</td>\n",
       "      <td>0.4840</td>\n",
       "    </tr>\n",
       "    <tr>\n",
       "      <th>11</th>\n",
       "      <td>2019</td>\n",
       "      <td>844.0380</td>\n",
       "      <td>3846.3319</td>\n",
       "      <td>0.5180</td>\n",
       "      <td>4690.3699</td>\n",
       "      <td>3.189692</td>\n",
       "      <td>-12.347064</td>\n",
       "      <td>13745.138047</td>\n",
       "      <td>4690.3699</td>\n",
       "      <td>9054.768147</td>\n",
       "      <td>4364.398247</td>\n",
       "      <td>0.4820</td>\n",
       "    </tr>\n",
       "    <tr>\n",
       "      <th>12</th>\n",
       "      <td>2020</td>\n",
       "      <td>665.3619</td>\n",
       "      <td>3813.0379</td>\n",
       "      <td>0.5060</td>\n",
       "      <td>4478.3998</td>\n",
       "      <td>3.826592</td>\n",
       "      <td>-17.438008</td>\n",
       "      <td>13328.992290</td>\n",
       "      <td>4478.3998</td>\n",
       "      <td>8850.592490</td>\n",
       "      <td>4372.192690</td>\n",
       "      <td>0.4940</td>\n",
       "    </tr>\n",
       "  </tbody>\n",
       "</table>\n",
       "</div>"
      ],
      "text/plain": [
       "    Year  Number Unemployed (in thousands)  Number Employed (in thousands)  \\\n",
       "0   2008                          454.1000                       4537.4000   \n",
       "1   2009                          475.1000                       4535.5000   \n",
       "2   2010                          594.9000                       4432.1000   \n",
       "3   2011                          828.3000                       4126.0000   \n",
       "4   2012                         1130.4000                       3745.6000   \n",
       "5   2013                         1302.8000                       3491.0000   \n",
       "6   2014                         1343.4000                       3495.6000   \n",
       "7   2015                         1299.4000                       3438.1000   \n",
       "8   2016                         1189.9000                       3600.7000   \n",
       "9   2017                         1079.7170                       3669.1972   \n",
       "10  2018                          973.5729                       3768.6290   \n",
       "11  2019                          844.0380                       3846.3319   \n",
       "12  2020                          665.3619                       3813.0379   \n",
       "\n",
       "    Labor Force Participation Rate  Labor Force  Employment Rate  \\\n",
       "0                           0.5290    4991.5000              NaN   \n",
       "1                           0.5320    5010.6000        -0.422906   \n",
       "2                           0.5360    5027.0000        -2.598594   \n",
       "3                           0.5300    4954.3000        -5.540366   \n",
       "4                           0.5240    4876.0000        -7.761809   \n",
       "5                           0.5200    4793.8000        -5.199148   \n",
       "6                           0.5190    4839.0000        -0.803541   \n",
       "7                           0.5160    4737.5000         0.462313   \n",
       "8                           0.5204    4790.6000         3.568515   \n",
       "9                           0.5190    4748.9142         2.796825   \n",
       "10                          0.5160    4742.2019         2.855286   \n",
       "11                          0.5180    4690.3699         3.189692   \n",
       "12                          0.5060    4478.3998         3.826592   \n",
       "\n",
       "    Unemployment Rate  Adult Population  Labor Force (in thousands)  \\\n",
       "0                 NaN      14427.227788                   4991.5000   \n",
       "1            4.225712      14429.021053                   5010.6000   \n",
       "2           24.807242      14405.731343                   5027.0000   \n",
       "3           41.276614      14302.035849                   4954.3000   \n",
       "4           38.663798      14181.343511                   4876.0000   \n",
       "5           17.227469      14012.646154                   4793.8000   \n",
       "6            2.153178      14162.699422                   4839.0000   \n",
       "7           -1.202964      13918.701550                   4737.5000   \n",
       "8           -9.441981      13996.211068                   4790.6000   \n",
       "9           -8.463340      13899.037899                   4748.9142   \n",
       "10          -9.703104      13932.515660                   4742.2019   \n",
       "11         -12.347064      13745.138047                   4690.3699   \n",
       "12         -17.438008      13328.992290                   4478.3998   \n",
       "\n",
       "    Potential Workers  Adults out of the labor force  \\\n",
       "0         9435.727788                    4444.227788   \n",
       "1         9418.421053                    4407.821053   \n",
       "2         9378.731343                    4351.731343   \n",
       "3         9347.735849                    4393.435849   \n",
       "4         9305.343511                    4429.343511   \n",
       "5         9218.846154                    4425.046154   \n",
       "6         9323.699422                    4484.699422   \n",
       "7         9181.201550                    4443.701550   \n",
       "8         9205.611068                    4415.011068   \n",
       "9         9150.123699                    4401.209499   \n",
       "10        9190.313760                    4448.111860   \n",
       "11        9054.768147                    4364.398247   \n",
       "12        8850.592490                    4372.192690   \n",
       "\n",
       "    Percentage of adults out of the labor force  \n",
       "0                                        0.4710  \n",
       "1                                        0.4680  \n",
       "2                                        0.4640  \n",
       "3                                        0.4700  \n",
       "4                                        0.4760  \n",
       "5                                        0.4800  \n",
       "6                                        0.4810  \n",
       "7                                        0.4840  \n",
       "8                                        0.4796  \n",
       "9                                        0.4810  \n",
       "10                                       0.4840  \n",
       "11                                       0.4820  \n",
       "12                                       0.4940  "
      ]
     },
     "execution_count": 31,
     "metadata": {},
     "output_type": "execute_result"
    }
   ],
   "source": [
    "data"
   ]
  },
  {
   "cell_type": "markdown",
   "id": "a1f979fd",
   "metadata": {},
   "source": [
    "c) In addition to what is mentioned in point a) it can be seen that as of 2012, Greece has presented an improvement in unemployment. Likewise, a decrease in the number of potential workers can be observed. Also, we can see that the adult population has not changed much over time."
   ]
  },
  {
   "cell_type": "markdown",
   "id": "4649ab1e",
   "metadata": {},
   "source": [
    "### QUESTION 7"
   ]
  },
  {
   "cell_type": "markdown",
   "id": "77b68198",
   "metadata": {},
   "source": [
    "(*) For reasons of ease, the perfectly inelastic part of the supply curve was not plotted."
   ]
  },
  {
   "cell_type": "code",
   "execution_count": 14,
   "id": "7b794494",
   "metadata": {},
   "outputs": [],
   "source": [
    "import matplotlib.pyplot as plt\n",
    "import pandas as pd\n",
    "import seaborn as sns\n",
    "import numpy as np"
   ]
  },
  {
   "cell_type": "markdown",
   "id": "455c9d1f",
   "metadata": {},
   "source": [
    "Part a"
   ]
  },
  {
   "cell_type": "code",
   "execution_count": 13,
   "id": "77245da8",
   "metadata": {},
   "outputs": [
    {
     "data": {
      "image/png": "[encoded data removed]",
      "text/plain": [
       "<Figure size 720x504 with 1 Axes>"
      ]
     },
     "metadata": {
      "needs_background": "light"
     },
     "output_type": "display_data"
    }
   ],
   "source": [
    "demand1 = np.arange(1000, 200, -125)\n",
    "price1 = np.arange(500, 1200, 100)\n",
    "\n",
    "supply1 = np.arange(500, 1400, 50)\n",
    "price_supply1 = np.arange(400, 1300, 50)\n",
    "\n",
    "supply2 = np.arange(800, 1700, 50)\n",
    "price_supply2 = np.arange(500, 1400, 50)\n",
    "\n",
    "plt.figure(figsize=(10,7))\n",
    "\n",
    "plt.axis((0, 1900, 300, 1500))\n",
    "\n",
    "plt.plot(demand1, price1, 'grey', supply1, price_supply1, 'grey', supply2, price_supply2, 'red', linewidth = 5.0)\n",
    "\n",
    "plt.xlabel('Quantity(Q)')\n",
    "plt.ylabel('Price(P)')\n",
    "\n",
    "plt.annotate('D1', xy=(230,1120))\n",
    "plt.annotate('Supply1', xy=(1350, 1270))\n",
    "plt.annotate('Supply2', xy=(1650, 1380))\n",
    "plt.annotate('E1', xy=(750, 710))\n",
    "plt.annotate('E2', xy=(875, 610))\n",
    "\n",
    "plt.show()"
   ]
  },
  {
   "cell_type": "markdown",
   "id": "33be1184",
   "metadata": {},
   "source": [
    "As can be seen in the graph, Venezuelan immigration affects the supply of the labor market (Suppy1) by shifting it to the right, that is, it expands it (Supply2). This causes the market equilibrium (E1) to shift. Now the new equilibrium has a lower price but a higher quantity (E2). This means that given the increase in the supply of workers willing to work, more people will be hired, but with a lower salary."
   ]
  },
  {
   "cell_type": "markdown",
   "id": "3af726b2",
   "metadata": {},
   "source": [
    "Part b"
   ]
  },
  {
   "cell_type": "code",
   "execution_count": 19,
   "id": "d65f1ebd",
   "metadata": {},
   "outputs": [
    {
     "data": {
      "image/png": "[encoded data removed]",
      "text/plain": [
       "<Figure size 720x504 with 1 Axes>"
      ]
     },
     "metadata": {
      "needs_background": "light"
     },
     "output_type": "display_data"
    }
   ],
   "source": [
    "demand1 = np.arange(1000, 200, -125)\n",
    "price1 = np.arange(500, 1200, 100)\n",
    "\n",
    "supply1 = np.arange(500, 1400, 50)\n",
    "price_supply1 = np.arange(400, 1300, 50)\n",
    "\n",
    "demand2 = np.arange(1600, 800, -125)\n",
    "price2 = np.arange(400, 1100, 100)\n",
    "\n",
    "plt.figure(figsize=(10,7))\n",
    "\n",
    "plt.axis((0, 1900, 300, 1500))\n",
    "\n",
    "plt.plot(demand1, price1, 'grey', supply1, price_supply1, 'grey', demand2, price2, 'dodgerblue', linewidth = 5.0)\n",
    "\n",
    "plt.xlabel('Quantity(Q)')\n",
    "plt.ylabel('Price(P)')\n",
    "\n",
    "plt.annotate('D1', xy=(230,1120))\n",
    "plt.annotate('Supply1', xy=(1350, 1270))\n",
    "plt.annotate('D2', xy=(830, 1020))\n",
    "plt.annotate('E1', xy=(750, 710))\n",
    "plt.annotate('E3', xy=(970, 940))\n",
    "\n",
    "plt.show()"
   ]
  },
  {
   "cell_type": "markdown",
   "id": "27739a31",
   "metadata": {},
   "source": [
    "b) Without taking into account the increase in labor supply, Venezuelan immigrants expand the demand for labor in the housing construction industry. This is reflected in the shift to the right of the demand curve (D1 --> D2). Consequently, the market equilibrium also changes. In the new equilibrium (E3) it is observed that the number of workers demanded has increased, and the same can be said of the salary that those hired would earn."
   ]
  },
  {
   "cell_type": "markdown",
   "id": "900dcd7b",
   "metadata": {},
   "source": [
    "Part c"
   ]
  },
  {
   "cell_type": "code",
   "execution_count": 28,
   "id": "c985abc6",
   "metadata": {},
   "outputs": [
    {
     "data": {
      "image/png": "[encoded data removed]",
      "text/plain": [
       "<Figure size 720x504 with 1 Axes>"
      ]
     },
     "metadata": {
      "needs_background": "light"
     },
     "output_type": "display_data"
    }
   ],
   "source": [
    "demand1 = np.arange(1000, 200, -125)\n",
    "price1 = np.arange(500, 1200, 100)\n",
    "\n",
    "supply1 = np.arange(500, 1400, 50)\n",
    "price_supply1 = np.arange(400, 1300, 50)\n",
    "\n",
    "supply2 = np.arange(800, 1700, 50)\n",
    "price_supply2 = np.arange(500, 1400, 50)\n",
    "\n",
    "demand2 = np.arange(1600, 800, -125)\n",
    "price2 = np.arange(400, 1100, 100)\n",
    "\n",
    "plt.figure(figsize=(10,7))\n",
    "\n",
    "plt.axis((0, 1900, 300, 1500))\n",
    "\n",
    "plt.plot(demand1, price1, 'grey', supply1, price_supply1, 'grey', demand2, price2, 'dodgerblue', supply2, price_supply2, 'red', linewidth = 5.0)\n",
    "\n",
    "plt.xlabel('Quantity(Q)')\n",
    "plt.ylabel('Price(P)')\n",
    "\n",
    "plt.annotate('D1', xy=(230,1120))\n",
    "plt.annotate('Supply1', xy=(1350, 1270))\n",
    "plt.annotate('Supply2', xy=(1650, 1380))\n",
    "plt.annotate('D2', xy=(830, 1020))\n",
    "plt.annotate('E1', xy=(750, 710))\n",
    "plt.annotate('E4', xy=(1080, 840))\n",
    "\n",
    "plt.show()"
   ]
  },
  {
   "cell_type": "markdown",
   "id": "958241fa",
   "metadata": {},
   "source": [
    "c) Taking into account the expansion of both curves due to Venezuelan immigration, it can be concluded that the new final equilibrium is higher in both price and quantity (E4) compared to the initial equilibrium (E1). This means that Venezuelan immigration has an effect both on the number of workers looking for work and on the demand from employers who need more workers to build more houses. However, how much the equilibrium wage and quantity increase will depend on the magnitudes by which labor market supply and demand expand. In this particular example, an increase in demand of greater magnitude than supply was plotted. However, the opposite may happen or even the expansion in the curves is of the same magnitude."
   ]
  },
  {
   "cell_type": "markdown",
   "id": "83efd742",
   "metadata": {},
   "source": [
    "### QUESTION 8"
   ]
  },
  {
   "cell_type": "code",
   "execution_count": 11,
   "id": "2793d28f",
   "metadata": {},
   "outputs": [],
   "source": [
    "import pandas as pd\n",
    "import statsmodels.formula.api as smf\n",
    "import statsmodels.api as sm\n",
    "import seaborn as sns\n",
    "import matplotlib.pyplot as plt"
   ]
  },
  {
   "cell_type": "code",
   "execution_count": 8,
   "id": "154b83da",
   "metadata": {},
   "outputs": [],
   "source": [
    "data2 = pd.read_excel('njmin3.xlsx')"
   ]
  },
  {
   "cell_type": "code",
   "execution_count": 9,
   "id": "018b9c93",
   "metadata": {},
   "outputs": [
    {
     "data": {
      "text/html": [
       "<div>\n",
       "<style scoped>\n",
       "    .dataframe tbody tr th:only-of-type {\n",
       "        vertical-align: middle;\n",
       "    }\n",
       "\n",
       "    .dataframe tbody tr th {\n",
       "        vertical-align: top;\n",
       "    }\n",
       "\n",
       "    .dataframe thead th {\n",
       "        text-align: right;\n",
       "    }\n",
       "</style>\n",
       "<table border=\"1\" class=\"dataframe\">\n",
       "  <thead>\n",
       "    <tr style=\"text-align: right;\">\n",
       "      <th></th>\n",
       "      <th>CO_OWNED</th>\n",
       "      <th>SOUTHJ</th>\n",
       "      <th>CENTRALJ</th>\n",
       "      <th>PA1</th>\n",
       "      <th>PA2</th>\n",
       "      <th>DEMP</th>\n",
       "      <th>nj</th>\n",
       "      <th>bk</th>\n",
       "      <th>kfc</th>\n",
       "      <th>roys</th>\n",
       "      <th>wendys</th>\n",
       "      <th>d</th>\n",
       "      <th>d_nj</th>\n",
       "      <th>fte</th>\n",
       "    </tr>\n",
       "  </thead>\n",
       "  <tbody>\n",
       "    <tr>\n",
       "      <th>0</th>\n",
       "      <td>0</td>\n",
       "      <td>0</td>\n",
       "      <td>1</td>\n",
       "      <td>0</td>\n",
       "      <td>0</td>\n",
       "      <td>12.00</td>\n",
       "      <td>1</td>\n",
       "      <td>1</td>\n",
       "      <td>0</td>\n",
       "      <td>0</td>\n",
       "      <td>0</td>\n",
       "      <td>0</td>\n",
       "      <td>0</td>\n",
       "      <td>15.00</td>\n",
       "    </tr>\n",
       "    <tr>\n",
       "      <th>1</th>\n",
       "      <td>0</td>\n",
       "      <td>0</td>\n",
       "      <td>1</td>\n",
       "      <td>0</td>\n",
       "      <td>0</td>\n",
       "      <td>6.50</td>\n",
       "      <td>1</td>\n",
       "      <td>1</td>\n",
       "      <td>0</td>\n",
       "      <td>0</td>\n",
       "      <td>0</td>\n",
       "      <td>0</td>\n",
       "      <td>0</td>\n",
       "      <td>15.00</td>\n",
       "    </tr>\n",
       "    <tr>\n",
       "      <th>2</th>\n",
       "      <td>0</td>\n",
       "      <td>0</td>\n",
       "      <td>1</td>\n",
       "      <td>0</td>\n",
       "      <td>0</td>\n",
       "      <td>-1.00</td>\n",
       "      <td>1</td>\n",
       "      <td>0</td>\n",
       "      <td>0</td>\n",
       "      <td>1</td>\n",
       "      <td>0</td>\n",
       "      <td>0</td>\n",
       "      <td>0</td>\n",
       "      <td>24.00</td>\n",
       "    </tr>\n",
       "    <tr>\n",
       "      <th>3</th>\n",
       "      <td>1</td>\n",
       "      <td>0</td>\n",
       "      <td>0</td>\n",
       "      <td>0</td>\n",
       "      <td>0</td>\n",
       "      <td>2.25</td>\n",
       "      <td>1</td>\n",
       "      <td>0</td>\n",
       "      <td>0</td>\n",
       "      <td>1</td>\n",
       "      <td>0</td>\n",
       "      <td>0</td>\n",
       "      <td>0</td>\n",
       "      <td>19.25</td>\n",
       "    </tr>\n",
       "    <tr>\n",
       "      <th>4</th>\n",
       "      <td>0</td>\n",
       "      <td>0</td>\n",
       "      <td>0</td>\n",
       "      <td>0</td>\n",
       "      <td>0</td>\n",
       "      <td>13.00</td>\n",
       "      <td>1</td>\n",
       "      <td>1</td>\n",
       "      <td>0</td>\n",
       "      <td>0</td>\n",
       "      <td>0</td>\n",
       "      <td>0</td>\n",
       "      <td>0</td>\n",
       "      <td>21.50</td>\n",
       "    </tr>\n",
       "  </tbody>\n",
       "</table>\n",
       "</div>"
      ],
      "text/plain": [
       "   CO_OWNED  SOUTHJ  CENTRALJ  PA1  PA2   DEMP  nj  bk  kfc  roys  wendys  d  \\\n",
       "0         0       0         1    0    0  12.00   1   1    0     0       0  0   \n",
       "1         0       0         1    0    0   6.50   1   1    0     0       0  0   \n",
       "2         0       0         1    0    0  -1.00   1   0    0     1       0  0   \n",
       "3         1       0         0    0    0   2.25   1   0    0     1       0  0   \n",
       "4         0       0         0    0    0  13.00   1   1    0     0       0  0   \n",
       "\n",
       "   d_nj    fte  \n",
       "0     0  15.00  \n",
       "1     0  15.00  \n",
       "2     0  24.00  \n",
       "3     0  19.25  \n",
       "4     0  21.50  "
      ]
     },
     "execution_count": 9,
     "metadata": {},
     "output_type": "execute_result"
    }
   ],
   "source": [
    "data2.head()"
   ]
  },
  {
   "cell_type": "code",
   "execution_count": 16,
   "id": "5cf0d13c",
   "metadata": {},
   "outputs": [
    {
     "name": "stdout",
     "output_type": "stream",
     "text": [
      "                            OLS Regression Results                            \n",
      "==============================================================================\n",
      "Dep. Variable:                    fte   R-squared:                       0.219\n",
      "Model:                            OLS   Adj. R-squared:                  0.211\n",
      "Method:                 Least Squares   F-statistic:                     27.47\n",
      "Date:                Sat, 21 May 2022   Prob (F-statistic):           9.44e-38\n",
      "Time:                        09:55:16   Log-Likelihood:                -2809.2\n",
      "No. Observations:                 794   AIC:                             5636.\n",
      "Df Residuals:                     785   BIC:                             5679.\n",
      "Df Model:                           8                                         \n",
      "Covariance Type:            nonrobust                                         \n",
      "==============================================================================\n",
      "                 coef    std err          t      P>|t|      [0.025      0.975]\n",
      "------------------------------------------------------------------------------\n",
      "Intercept     24.3532      0.601     40.549      0.000      23.174      25.532\n",
      "d_nj           0.6401      0.630      1.016      0.310      -0.597       1.877\n",
      "kfc          -10.0556      0.845    -11.899      0.000     -11.714      -8.397\n",
      "roys          -1.7036      0.858     -1.985      0.048      -3.389      -0.019\n",
      "wendys        -1.0349      0.921     -1.124      0.261      -2.842       0.772\n",
      "CO_OWNED      -0.7064      0.719     -0.983      0.326      -2.117       0.704\n",
      "SOUTHJ        -3.6672      0.755     -4.857      0.000      -5.149      -2.185\n",
      "CENTRALJ       0.0452      0.878      0.052      0.959      -1.677       1.768\n",
      "PA1            0.7740      1.130      0.685      0.494      -1.444       2.992\n",
      "==============================================================================\n",
      "Omnibus:                      296.588   Durbin-Watson:                   2.041\n",
      "Prob(Omnibus):                  0.000   Jarque-Bera (JB):             1861.874\n",
      "Skew:                           1.553   Prob(JB):                         0.00\n",
      "Kurtosis:                       9.828   Cond. No.                         5.17\n",
      "==============================================================================\n",
      "\n",
      "Notes:\n",
      "[1] Standard Errors assume that the covariance matrix of the errors is correctly specified.\n"
     ]
    }
   ],
   "source": [
    "model = smf.ols(formula = \"fte ~ d_nj + kfc + roys + wendys + CO_OWNED + SOUTHJ + CENTRALJ + PA1\", data = data2).fit()\n",
    "print(model.summary())"
   ]
  },
  {
   "cell_type": "code",
   "execution_count": 17,
   "id": "d69d08eb",
   "metadata": {},
   "outputs": [
    {
     "data": {
      "text/plain": [
       "[20.439408099688475,\n",
       " 21.02742946708464,\n",
       " 23.33116883116883,\n",
       " 21.165584415584416,\n",
       " 20.439408099688475,\n",
       " 17.547647368208118]"
      ]
     },
     "execution_count": 17,
     "metadata": {},
     "output_type": "execute_result"
    }
   ],
   "source": [
    "NJ_before = data2.loc[(data2['nj']==1) & (data2['d']!=1),'fte'].mean()\n",
    "NJ_after  = data2.loc[(data2['nj']==1) & (data2['d']==1),'fte'].mean()\n",
    "\n",
    "PA_before = data2.loc[(data2['nj']!=1) & (data2['d']!=1),'fte'].mean()\n",
    "PA_after  = data2.loc[(data2['nj']!=1) & (data2['d']==1),'fte'].mean()\n",
    "\n",
    "NJ_counterfactual = NJ_before + (NJ_before - PA_before)\n",
    "\n",
    "[NJ_before, NJ_after,\n",
    " PA_before,PA_after,\n",
    " NJ_before, NJ_counterfactual]"
   ]
  },
  {
   "cell_type": "code",
   "execution_count": 18,
   "id": "2788d755",
   "metadata": {},
   "outputs": [
    {
     "data": {
      "text/plain": [
       "Text(0.5, 1.0, 'Difference-in-difference: Before and After')"
      ]
     },
     "execution_count": 18,
     "metadata": {},
     "output_type": "execute_result"
    },
    {
     "data": {
      "text/plain": [
       "<Figure size 320x240 with 0 Axes>"
      ]
     },
     "metadata": {},
     "output_type": "display_data"
    },
    {
     "data": {
      "image/png": "[encoded data removed]",
      "text/plain": [
       "<Figure size 432x288 with 1 Axes>"
      ]
     },
     "metadata": {
      "needs_background": "light"
     },
     "output_type": "display_data"
    }
   ],
   "source": [
    "plt.figure(num=None, figsize=(4, 3), dpi=80, facecolor='w', edgecolor='k')\n",
    "fig, ax = plt.subplots()\n",
    "lineNJ, = ax.plot(['0', '1'], [NJ_before, NJ_after],color='blue',label='NJ before and after')\n",
    "linePA, = ax.plot(['0', '1'], [PA_before, PA_after],color = 'red',label = 'PA before and after')\n",
    "lineNJ0, = ax.plot(['0', '1'], [NJ_before, NJ_counterfactual],color = 'blue',linestyle='dashed',label='NJ counterfactual')\n",
    "ax.legend()\n",
    "plt.ylim(15, 28)  \n",
    "plt.title(\"Difference-in-difference: Before and After\", fontsize=\"14\")"
   ]
  },
  {
   "cell_type": "markdown",
   "id": "d4b9e576",
   "metadata": {},
   "source": [
    "a) The authors conclude that they found no evidence that the increase in New Jersey's minimum wage has reduced employment in fast-food restaurants in that state. Their results were that in New Jersey, employment expanded in low-wage stores (those paying $4.25 per hour) and contracted in high-wage stores (those paying $5.00 or more per hour). However, this result cannot necessarily be extrapolated to all countries or all industries. The effect of an increase in the minimum wage on employment will depend on many contextual factors at the local level."
   ]
  },
  {
   "cell_type": "markdown",
   "id": "01f10376",
   "metadata": {},
   "source": [
    "b)\n",
    "- This method requires observing two different groups of individuals at at least two different moments in time. One of these groups must have been affected by a change. The objective is to estimate the causal effect of the change.\n",
    "- In a simple example, each observation will be characterized by three variables (Yi, Gi, Ti):\n",
    "* Yi --> The variable of interest.\n",
    "* Gi = {0,1] --> Group 1 is the one affected by the change.\n",
    "* Ti = {0,1} --> Group 1 is before the change.\n",
    "- The first thing to do is calculate the means of each group at both moments of time.\n",
    "- Then we proceed to calculate the estimator of differences in differences. This represents the difference in the average change of the variable of interest of the affected group with respect to the unaffected group."
   ]
  },
  {
   "cell_type": "code",
   "execution_count": 5,
   "id": "bd5648d6",
   "metadata": {},
   "outputs": [
    {
     "data": {
      "image/png": "[encoded data removed]",
      "text/plain": [
       "<PIL.PngImagePlugin.PngImageFile image mode=RGBA size=387x42 at 0x18EB739F610>"
      ]
     },
     "metadata": {},
     "output_type": "display_data"
    }
   ],
   "source": [
    "import IPython.display as display\n",
    "from PIL import Image\n",
    "display.display(Image.open('Image1.png'))"
   ]
  },
  {
   "cell_type": "markdown",
   "id": "9c58c101",
   "metadata": {},
   "source": [
    "This can also be estimated using an OLS regression."
   ]
  },
  {
   "cell_type": "code",
   "execution_count": 6,
   "id": "339297ef",
   "metadata": {},
   "outputs": [
    {
     "data": {
      "image/png": "[encoded data removed]",
      "text/plain": [
       "<PIL.PngImagePlugin.PngImageFile image mode=RGBA size=348x49 at 0x18EB71D78E0>"
      ]
     },
     "metadata": {},
     "output_type": "display_data"
    }
   ],
   "source": [
    "import IPython.display as display\n",
    "from PIL import Image\n",
    "display.display(Image.open('Image2.png'))"
   ]
  },
  {
   "cell_type": "markdown",
   "id": "91ee61f7",
   "metadata": {},
   "source": [
    "- In this model, the group that is affected by the change functions as a control group. If we do not have the information of said group, the procedure would be to compare the variable of interest before and after the change. However, in that case it would not be possible to distinguish whether the variation was due to the change affecting the groups. --> The assumption is that in the absence of change, the group affected by the change would have had a trend equal to that of the control group."
   ]
  },
  {
   "cell_type": "markdown",
   "id": "92f42fd1",
   "metadata": {},
   "source": [
    "c)\n",
    "Los investigadores compararon el empelo en restaurantes de comida rápida entre las ciudades cercanas entre Nueva Jersey y Pensilvania (KFC, Burger King, Wendy's and Roy Rogers). Decidieron comida rápida porque las unidades de análisis tienen que ser similares. En efecto, esos restaurantes tienen similar average food prices, store hours, and employment levels. Luego, procedieron a hacer entrevistas a 410 restaurantes tanto antes como después del incremento en el salario mínimo en New Jersey. Lo que procedieron a hacer fue sacar la media de salarios. Antes del incrmeneto, average employment was 23.3 full-time equivalent workers per store in Pennsylvania, compared with an average of 20.4 in New Jersey. El siguiente paso fue sacar los salarios promedios luego del incremento para realizar la diferencia entre los dos grupos de antes y después de la política. El rsultado fue que a pesar del incremento en los salarios, full-time equivalent employment increased in New Jersey relative to Pennsylvania."
   ]
  }
 ],
 "metadata": {
  "kernelspec": {
   "display_name": "Python 3 (ipykernel)",
   "language": "python",
   "name": "python3"
  },
  "language_info": {
   "codemirror_mode": {
    "name": "ipython",
    "version": 3
   },
   "file_extension": ".py",
   "mimetype": "text/x-python",
   "name": "python",
   "nbconvert_exporter": "python",
   "pygments_lexer": "ipython3",
   "version": "3.9.7"
  }
 },
 "nbformat": 4,
 "nbformat_minor": 5
}
