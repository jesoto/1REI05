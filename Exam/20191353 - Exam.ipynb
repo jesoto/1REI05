{
 "cells": [
  {
   "cell_type": "markdown",
   "id": "f17dac20",
   "metadata": {},
   "source": [
    "Mid Term - Exam"
   ]
  },
  {
   "cell_type": "markdown",
   "id": "f3849a2d",
   "metadata": {},
   "source": [
    "Alejandro Llerena"
   ]
  },
  {
   "cell_type": "markdown",
   "id": "811ef82b",
   "metadata": {},
   "source": [
    "Question 1"
   ]
  },
  {
   "cell_type": "raw",
   "id": "59591f08",
   "metadata": {},
   "source": [
    "GDP per capita = GDP/Total population\n",
    "GDP per worker = GDP/Number of people in employment\n",
    "\n",
    "Values in Poldan\n",
    "Total population = 175 000 000\n",
    "GDP per worker = 29166.667\n",
    "GDP per Capita = 15500\n",
    "A = GDP \n",
    "B = number of employed people in Poldan"
   ]
  },
  {
   "cell_type": "code",
   "execution_count": 1,
   "id": "02cf7337",
   "metadata": {},
   "outputs": [
    {
     "data": {
      "text/plain": [
       "2712500000000"
      ]
     },
     "execution_count": 1,
     "metadata": {},
     "output_type": "execute_result"
    }
   ],
   "source": [
    "A = 15500*175000000\n",
    "A"
   ]
  },
  {
   "cell_type": "code",
   "execution_count": 2,
   "id": "3b09fe99",
   "metadata": {},
   "outputs": [
    {
     "data": {
      "text/plain": [
       "92999999"
      ]
     },
     "execution_count": 2,
     "metadata": {},
     "output_type": "execute_result"
    }
   ],
   "source": [
    "B = A/29166.667\n",
    "round (B) "
   ]
  },
  {
   "cell_type": "markdown",
   "id": "2d06cca3",
   "metadata": {},
   "source": [
    "Question 2"
   ]
  },
  {
   "cell_type": "raw",
   "id": "078eacfa",
   "metadata": {},
   "source": [
    "2.1) Value for Manyger\n",
    "Total population = 89 000 000\n",
    "Employment = 51 000 000\n",
    "GDP = 2 200 000 000 000\n",
    "GDP per capita = C\n",
    "GDP per worker = D"
   ]
  },
  {
   "cell_type": "code",
   "execution_count": 3,
   "id": "e9f35e9e",
   "metadata": {},
   "outputs": [
    {
     "data": {
      "text/plain": [
       "24719.101123595505"
      ]
     },
     "execution_count": 3,
     "metadata": {},
     "output_type": "execute_result"
    }
   ],
   "source": [
    "C = 2200000000000/89000000 \n",
    "C"
   ]
  },
  {
   "cell_type": "code",
   "execution_count": 4,
   "id": "0489e2c6",
   "metadata": {},
   "outputs": [
    {
     "data": {
      "text/plain": [
       "43137.25490196078"
      ]
     },
     "execution_count": 4,
     "metadata": {},
     "output_type": "execute_result"
    }
   ],
   "source": [
    "D = 2200000000000/51000000\n",
    "D"
   ]
  },
  {
   "cell_type": "markdown",
   "id": "edb977ce",
   "metadata": {},
   "source": [
    "2.3) As productivity here refers to the value of goods and services that a worker generates, we will compare the GDP per worker of each country to have a resolution about which is country is more productive. In this case, I support that Manyger is more productive as its GDP per worker is higher. "
   ]
  },
  {
   "cell_type": "markdown",
   "id": "6b522fb2",
   "metadata": {},
   "source": [
    "2.4) When we Talk about higher living standards, it is better to use GDP per capita because it is a good predictor of living standards and happiness. As is expected, Manyger also shows a higher GDP per capita thus have higher living standards. "
   ]
  },
  {
   "cell_type": "markdown",
   "id": "5a212cd9",
   "metadata": {},
   "source": [
    "Question 3"
   ]
  },
  {
   "cell_type": "raw",
   "id": "7c550fc2",
   "metadata": {},
   "source": [
    "3.1) Considering that the total efficiency units of labor (H) can be represented as \n",
    "    H = L*h \n",
    "in which L is the total number of workers and h is the average efficiency of workers, an increased in both the number of workers and the average efficency would been translated in an increased of H. Based on that, I can said that if the unemployment rate in the economy decreases, the total efficiency units of labor will increased. \n",
    "If, H1 = L1*h,\n",
    "    H2 = L2*h and \n",
    "    L2 = L1*x, then\n",
    "    H2 = L1*x*h or H2 = H1*x. Based on that, H2 > H1    "
   ]
  },
  {
   "cell_type": "code",
   "execution_count": 5,
   "id": "42d7c02d",
   "metadata": {},
   "outputs": [
    {
     "data": {
      "text/plain": [
       "True"
      ]
     },
     "execution_count": 5,
     "metadata": {},
     "output_type": "execute_result"
    }
   ],
   "source": [
    "H1=\"L1*h\"\n",
    "H2=\"L2*h\"\n",
    "L2=\"L1*x\"\n",
    "H2>H1 "
   ]
  },
  {
   "cell_type": "raw",
   "id": "a72a2aaa",
   "metadata": {},
   "source": [
    "3.2) Here is the aggregate production function:\n",
    "    Y = A * K**1/3 * H**2/3\n",
    "also is important noted that:\n",
    "    K=L*k and H=L*h\n",
    "According to this, when we see an increased in the employment, both K(physical capital) and H (human capital) will been affected positively and as a result \"Y\" that is GDP will increased. If L, total of workers, increased by X, then: \n",
    "    Y = A * K**1/3 * H**2/3\n",
    "    Y2 = A * (XK)**1/3 * (XH)**2/3\n",
    "    Y2 = A * X**1/3 * K**1/3 * X**2/3 * H**2/3\n",
    "    Y2 = A * (X**1/3 * X**2/3) * K**1/3 * H**2/3 \n",
    "    Y2 = A * X * K**1/3 * H**2/3\n",
    "    Y2 = Y*X\n",
    "Y, the GDP, will increase X times. "
   ]
  },
  {
   "cell_type": "markdown",
   "id": "4957ff7c",
   "metadata": {},
   "source": [
    "3.3) Taking account that just employment increased, the GDP per capita will increased because the total population does not change while GDP does. However, we do not have any effect in the GDP per worker as the employment and the total of workers increased in the same proportion.  "
   ]
  },
  {
   "cell_type": "markdown",
   "id": "b13549af",
   "metadata": {},
   "source": [
    "3.4) According to the aggregate production function, an increased in physical capital and technology will make GDP increased. However, there is some thing to considered. As the law of diminishing marginal productivity states, when an advantage is gained in a factor of production, the productivity gained from each subsequent unit produced will only increase marginally from one unit to the next. Based on that even if the GDP will percieved an increased when physical capital is higher, this increase wil be lower by each unit. Nevertheless, the effect of the law of diminishing marginal productivity would been recuced because of the technological advance. As technology allows an economy better uses of its inputs, the relationship between GDP and the physical capital stock shifts up."
   ]
  },
  {
   "cell_type": "markdown",
   "id": "4fd079bc",
   "metadata": {},
   "source": [
    "Question 4"
   ]
  },
  {
   "cell_type": "raw",
   "id": "e46da6ce",
   "metadata": {},
   "source": [
    "Rather than have a contradiction, this happen because the calculation of growth rate and real GDP per capita works with diferent logics. While the last is thinking about a result in a date (semester, year, etc) , the growth rate refers to the change in real GDP per capita between two dates, relative to the baseline quantity. So if we considered the baseline as \"Q\" and the next date as \"Q+1\", we can said that:\n",
    "    Growht rate = (Q+1 + Q)/Q,\n",
    "because of that, a low real GDP per capita is not an interference for growth rate. These countries are presented a real growht and even if this do not have an important effect immediately, it will do with the years because of the exponential growth's logic.  "
   ]
  },
  {
   "cell_type": "markdown",
   "id": "c416c042",
   "metadata": {},
   "source": [
    "Question 5"
   ]
  },
  {
   "cell_type": "markdown",
   "id": "a4954874",
   "metadata": {},
   "source": [
    "In this situation, if growth increased will depend on each developing countries' context. Remembering the aggegate production function, we have to consider labor, human capital, physical capital and technology. Then, what we will change with this open source codes? In the begginingn not much. Even with the access of this codes, most of the developing countries do not have the neccesary human capital or pyshical capital to have a big impact in the production using this codes. Thus developing countries will not be able, at least immediately, to exploit developed countries' technology. Furthermore, even in the long term the effects would depends in others factors, for example, as it is an open source code, consumers with the knowledge will use the codes and that will not account for the GDP.     "
   ]
  },
  {
   "cell_type": "markdown",
   "id": "32a21a78",
   "metadata": {},
   "source": [
    "Question 6"
   ]
  },
  {
   "cell_type": "code",
   "execution_count": 6,
   "id": "942d1157",
   "metadata": {},
   "outputs": [],
   "source": [
    "import pandas as pd\n",
    "data = {\"Year\": [\"2008\",\"2009\",\"2010\",\"2011\",\"2012\",\"2013\",\"2014\",\"2015\",\"2016\",\"2017\",\"2018\",\"2019\",\"2020\"], \n",
    "        \"Number Unemployed(in thousands)\": [454.1, 475.1, 594.9, 828.3, 1130.4, 1302.8, 1343.4, 1299.4, 1189.9, 1079.717, 973.5729, 844.038, 665.3619],\n",
    "        \"Number Employed(in thousands)\": [4537.4, 4535.5, 4432.1, 4126, 3745.6, 3491, 3495.6, 3438.1, 3600.7, 3669.1972, 3768.629, 3846.3319, 3813.0379],\n",
    "        \"Labor force participation rate\": [52.9, 53.2, 53.6, 53, 52.4, 52, 51.9, 51.6, 52.04, 51.9, 51.6, 51.8, 50.6],\n",
    "        \"Employment Rate\":\"\",\n",
    "        \"Unemployment Rate\":\"\",\n",
    "        \"Labor Force\":\"\",\n",
    "        \"Adult Population\":\"\"}\n",
    "df = pd.DataFrame(data)"
   ]
  },
  {
   "cell_type": "code",
   "execution_count": 7,
   "id": "640da3fa",
   "metadata": {},
   "outputs": [],
   "source": [
    "df[\"Labor Force\"] = (df[\"Number Unemployed(in thousands)\"]+df[\"Number Employed(in thousands)\"])"
   ]
  },
  {
   "cell_type": "code",
   "execution_count": 8,
   "id": "dc50e22b",
   "metadata": {},
   "outputs": [
    {
     "data": {
      "text/html": [
       "<div>\n",
       "<style scoped>\n",
       "    .dataframe tbody tr th:only-of-type {\n",
       "        vertical-align: middle;\n",
       "    }\n",
       "\n",
       "    .dataframe tbody tr th {\n",
       "        vertical-align: top;\n",
       "    }\n",
       "\n",
       "    .dataframe thead th {\n",
       "        text-align: right;\n",
       "    }\n",
       "</style>\n",
       "<table border=\"1\" class=\"dataframe\">\n",
       "  <thead>\n",
       "    <tr style=\"text-align: right;\">\n",
       "      <th></th>\n",
       "      <th>Year</th>\n",
       "      <th>Number Unemployed(in thousands)</th>\n",
       "      <th>Number Employed(in thousands)</th>\n",
       "      <th>Labor force participation rate</th>\n",
       "      <th>Employment Rate</th>\n",
       "      <th>Unemployment Rate</th>\n",
       "      <th>Labor Force</th>\n",
       "      <th>Adult Population</th>\n",
       "    </tr>\n",
       "  </thead>\n",
       "  <tbody>\n",
       "    <tr>\n",
       "      <th>0</th>\n",
       "      <td>2008</td>\n",
       "      <td>454.1000</td>\n",
       "      <td>4537.4000</td>\n",
       "      <td>52.90</td>\n",
       "      <td>90.902534</td>\n",
       "      <td>9.097466</td>\n",
       "      <td>4991.5000</td>\n",
       "      <td>9435.727788</td>\n",
       "    </tr>\n",
       "    <tr>\n",
       "      <th>1</th>\n",
       "      <td>2009</td>\n",
       "      <td>475.1000</td>\n",
       "      <td>4535.5000</td>\n",
       "      <td>53.20</td>\n",
       "      <td>90.518102</td>\n",
       "      <td>9.481898</td>\n",
       "      <td>5010.6000</td>\n",
       "      <td>9418.421053</td>\n",
       "    </tr>\n",
       "    <tr>\n",
       "      <th>2</th>\n",
       "      <td>2010</td>\n",
       "      <td>594.9000</td>\n",
       "      <td>4432.1000</td>\n",
       "      <td>53.60</td>\n",
       "      <td>88.165904</td>\n",
       "      <td>11.834096</td>\n",
       "      <td>5027.0000</td>\n",
       "      <td>9378.731343</td>\n",
       "    </tr>\n",
       "    <tr>\n",
       "      <th>3</th>\n",
       "      <td>2011</td>\n",
       "      <td>828.3000</td>\n",
       "      <td>4126.0000</td>\n",
       "      <td>53.00</td>\n",
       "      <td>83.281190</td>\n",
       "      <td>16.718810</td>\n",
       "      <td>4954.3000</td>\n",
       "      <td>9347.735849</td>\n",
       "    </tr>\n",
       "    <tr>\n",
       "      <th>4</th>\n",
       "      <td>2012</td>\n",
       "      <td>1130.4000</td>\n",
       "      <td>3745.6000</td>\n",
       "      <td>52.40</td>\n",
       "      <td>76.817063</td>\n",
       "      <td>23.182937</td>\n",
       "      <td>4876.0000</td>\n",
       "      <td>9305.343511</td>\n",
       "    </tr>\n",
       "    <tr>\n",
       "      <th>5</th>\n",
       "      <td>2013</td>\n",
       "      <td>1302.8000</td>\n",
       "      <td>3491.0000</td>\n",
       "      <td>52.00</td>\n",
       "      <td>72.823230</td>\n",
       "      <td>27.176770</td>\n",
       "      <td>4793.8000</td>\n",
       "      <td>9218.846154</td>\n",
       "    </tr>\n",
       "    <tr>\n",
       "      <th>6</th>\n",
       "      <td>2014</td>\n",
       "      <td>1343.4000</td>\n",
       "      <td>3495.6000</td>\n",
       "      <td>51.90</td>\n",
       "      <td>72.238066</td>\n",
       "      <td>27.761934</td>\n",
       "      <td>4839.0000</td>\n",
       "      <td>9323.699422</td>\n",
       "    </tr>\n",
       "    <tr>\n",
       "      <th>7</th>\n",
       "      <td>2015</td>\n",
       "      <td>1299.4000</td>\n",
       "      <td>3438.1000</td>\n",
       "      <td>51.60</td>\n",
       "      <td>72.572032</td>\n",
       "      <td>27.427968</td>\n",
       "      <td>4737.5000</td>\n",
       "      <td>9181.201550</td>\n",
       "    </tr>\n",
       "    <tr>\n",
       "      <th>8</th>\n",
       "      <td>2016</td>\n",
       "      <td>1189.9000</td>\n",
       "      <td>3600.7000</td>\n",
       "      <td>52.04</td>\n",
       "      <td>75.161775</td>\n",
       "      <td>24.838225</td>\n",
       "      <td>4790.6000</td>\n",
       "      <td>9205.611068</td>\n",
       "    </tr>\n",
       "    <tr>\n",
       "      <th>9</th>\n",
       "      <td>2017</td>\n",
       "      <td>1079.7170</td>\n",
       "      <td>3669.1972</td>\n",
       "      <td>51.90</td>\n",
       "      <td>77.263919</td>\n",
       "      <td>22.736081</td>\n",
       "      <td>4748.9142</td>\n",
       "      <td>9150.123699</td>\n",
       "    </tr>\n",
       "    <tr>\n",
       "      <th>10</th>\n",
       "      <td>2018</td>\n",
       "      <td>973.5729</td>\n",
       "      <td>3768.6290</td>\n",
       "      <td>51.60</td>\n",
       "      <td>79.470024</td>\n",
       "      <td>20.529976</td>\n",
       "      <td>4742.2019</td>\n",
       "      <td>9190.313760</td>\n",
       "    </tr>\n",
       "    <tr>\n",
       "      <th>11</th>\n",
       "      <td>2019</td>\n",
       "      <td>844.0380</td>\n",
       "      <td>3846.3319</td>\n",
       "      <td>51.80</td>\n",
       "      <td>82.004873</td>\n",
       "      <td>17.995127</td>\n",
       "      <td>4690.3699</td>\n",
       "      <td>9054.768147</td>\n",
       "    </tr>\n",
       "    <tr>\n",
       "      <th>12</th>\n",
       "      <td>2020</td>\n",
       "      <td>665.3619</td>\n",
       "      <td>3813.0379</td>\n",
       "      <td>50.60</td>\n",
       "      <td>85.142865</td>\n",
       "      <td>14.857135</td>\n",
       "      <td>4478.3998</td>\n",
       "      <td>8850.592490</td>\n",
       "    </tr>\n",
       "  </tbody>\n",
       "</table>\n",
       "</div>"
      ],
      "text/plain": [
       "    Year  Number Unemployed(in thousands)  Number Employed(in thousands)  \\\n",
       "0   2008                         454.1000                      4537.4000   \n",
       "1   2009                         475.1000                      4535.5000   \n",
       "2   2010                         594.9000                      4432.1000   \n",
       "3   2011                         828.3000                      4126.0000   \n",
       "4   2012                        1130.4000                      3745.6000   \n",
       "5   2013                        1302.8000                      3491.0000   \n",
       "6   2014                        1343.4000                      3495.6000   \n",
       "7   2015                        1299.4000                      3438.1000   \n",
       "8   2016                        1189.9000                      3600.7000   \n",
       "9   2017                        1079.7170                      3669.1972   \n",
       "10  2018                         973.5729                      3768.6290   \n",
       "11  2019                         844.0380                      3846.3319   \n",
       "12  2020                         665.3619                      3813.0379   \n",
       "\n",
       "    Labor force participation rate  Employment Rate  Unemployment Rate  \\\n",
       "0                            52.90        90.902534           9.097466   \n",
       "1                            53.20        90.518102           9.481898   \n",
       "2                            53.60        88.165904          11.834096   \n",
       "3                            53.00        83.281190          16.718810   \n",
       "4                            52.40        76.817063          23.182937   \n",
       "5                            52.00        72.823230          27.176770   \n",
       "6                            51.90        72.238066          27.761934   \n",
       "7                            51.60        72.572032          27.427968   \n",
       "8                            52.04        75.161775          24.838225   \n",
       "9                            51.90        77.263919          22.736081   \n",
       "10                           51.60        79.470024          20.529976   \n",
       "11                           51.80        82.004873          17.995127   \n",
       "12                           50.60        85.142865          14.857135   \n",
       "\n",
       "    Labor Force  Adult Population  \n",
       "0     4991.5000       9435.727788  \n",
       "1     5010.6000       9418.421053  \n",
       "2     5027.0000       9378.731343  \n",
       "3     4954.3000       9347.735849  \n",
       "4     4876.0000       9305.343511  \n",
       "5     4793.8000       9218.846154  \n",
       "6     4839.0000       9323.699422  \n",
       "7     4737.5000       9181.201550  \n",
       "8     4790.6000       9205.611068  \n",
       "9     4748.9142       9150.123699  \n",
       "10    4742.2019       9190.313760  \n",
       "11    4690.3699       9054.768147  \n",
       "12    4478.3998       8850.592490  "
      ]
     },
     "metadata": {},
     "output_type": "display_data"
    }
   ],
   "source": [
    "df[\"Employment Rate\"] = (df[\"Number Employed(in thousands)\"]/df[\"Labor Force\"])*100\n",
    "df[\"Unemployment Rate\"] = (df[\"Number Unemployed(in thousands)\"]/df[\"Labor Force\"])*100\n",
    "df[\"Adult Population\"] = (df[\"Labor Force\"]/df[\"Labor force participation rate\"])*100\n",
    "display(df)"
   ]
  },
  {
   "cell_type": "markdown",
   "id": "e2736281",
   "metadata": {},
   "source": [
    "6.1) We can see an increase in the unemployment rate from 2008 to 2014. This will have been cause by the 2008's economic crisis. Greece'd had lots of problems with international debts and after some adjusments, the economy becames worth and suffer a recession.   "
   ]
  },
  {
   "cell_type": "markdown",
   "id": "e8f21e5e",
   "metadata": {},
   "source": [
    "6.2) Percentage of adults out of the labor force for the year 2017."
   ]
  },
  {
   "cell_type": "code",
   "execution_count": 9,
   "id": "943bde05",
   "metadata": {},
   "outputs": [
    {
     "data": {
      "text/plain": [
       "48.09999999760659"
      ]
     },
     "execution_count": 9,
     "metadata": {},
     "output_type": "execute_result"
    }
   ],
   "source": [
    "(1-(4748.9142/9150.123699))*100"
   ]
  },
  {
   "cell_type": "markdown",
   "id": "9800bbda",
   "metadata": {},
   "source": [
    "6.3) There is a decrease in the employment rate from 2008 to 2014. Naturally, that means that the unemployment rate increase in the same period. Then, since 2014 the employment starts to growh. However, it is importat to highlight that even with the constant growh since 2014, Grecee can not get back to the 2008 employment's level that is the higher in the data. "
   ]
  },
  {
   "cell_type": "markdown",
   "id": "c7d50bf7",
   "metadata": {},
   "source": [
    "Question 7"
   ]
  },
  {
   "cell_type": "code",
   "execution_count": 10,
   "id": "9113ccac",
   "metadata": {},
   "outputs": [],
   "source": [
    "%matplotlib inline\n",
    "import matplotlib.pyplot as plt\n",
    "import numpy as np\n",
    "import sympy as sy"
   ]
  },
  {
   "cell_type": "code",
   "execution_count": 11,
   "id": "63bc4626",
   "metadata": {},
   "outputs": [],
   "source": [
    "def S(q):\n",
    "    return (q**2)\n",
    "def T(q):\n",
    "    return (q**1.5)\n",
    "def D(q):\n",
    "    return (q - 20)**2\n",
    "q = np.linspace(0, 20, 50, 1000)"
   ]
  },
  {
   "cell_type": "code",
   "execution_count": 12,
   "id": "19e031b9",
   "metadata": {},
   "outputs": [
    {
     "data": {
      "text/plain": [
       "Text(0, 0.5, 'Wage')"
      ]
     },
     "execution_count": 12,
     "metadata": {},
     "output_type": "execute_result"
    },
    {
     "data": {
      "image/png": "[encoded data removed]",
      "text/plain": [
       "<Figure size 432x288 with 1 Axes>"
      ]
     },
     "metadata": {
      "needs_background": "light"
     },
     "output_type": "display_data"
    }
   ],
   "source": [
    "plt.plot(q, S(q), label = \"Supply Curve\")\n",
    "plt.plot(q, T(q), label = \"Supply Curve 2\")\n",
    "plt.plot(q, D(q), label = \"Demand Curve\")\n",
    "plt.title(\"Supply and Demand\")\n",
    "plt.legend(frameon = False)\n",
    "plt.xlabel(\"Quantity $q$\")\n",
    "plt.ylabel(\"Wage\")"
   ]
  },
  {
   "cell_type": "markdown",
   "id": "fabc2934",
   "metadata": {},
   "source": [
    "7.1) As we see in the next graph, because of the inmigration the curve supply of labor have an expantion. That is that the offer of workers increased causing a new equilibrium. In the \"Supply curve 2\", we will see that the new equilibrium present more workers(quantity) with a low wage. If there is more offer, the value of those workers decrease. "
   ]
  },
  {
   "cell_type": "code",
   "execution_count": 13,
   "id": "ad9b7df5",
   "metadata": {},
   "outputs": [],
   "source": [
    "def V(A):\n",
    "    return (A**2)\n",
    "def N(A):\n",
    "    return (A - 15)**2\n",
    "def G(A):\n",
    "    return (A - 20)**2\n",
    "A = np.linspace(0, 20, 50, 1000)"
   ]
  },
  {
   "cell_type": "code",
   "execution_count": 14,
   "id": "e750ffa9",
   "metadata": {},
   "outputs": [
    {
     "data": {
      "text/plain": [
       "Text(0, 0.5, 'Wage')"
      ]
     },
     "execution_count": 14,
     "metadata": {},
     "output_type": "execute_result"
    },
    {
     "data": {
      "image/png": "[encoded data removed]",
      "text/plain": [
       "<Figure size 432x288 with 1 Axes>"
      ]
     },
     "metadata": {
      "needs_background": "light"
     },
     "output_type": "display_data"
    }
   ],
   "source": [
    "plt.plot(A, V(A), label = \"Supply Curve\")\n",
    "plt.plot(A, N(A), label = \"Demand Curve\")\n",
    "plt.plot(A, G(A), label = \"Demand Curve 2\")\n",
    "plt.title(\"Supply and Demand\")\n",
    "plt.legend(frameon = False)\n",
    "plt.xlabel(\"Quantity $q$\")\n",
    "plt.ylabel(\"Wage\")"
   ]
  },
  {
   "cell_type": "markdown",
   "id": "a49e1178",
   "metadata": {},
   "source": [
    "7.2) This graphs allow us to see that the demand curve for workers in the construction industry would have an expansion (moves to the right). If we consider that the supply of labor remains static then due to the increase in demand, the value of the marginal product of the workers would increase, resulting in an increase in their wage. Because of that, the equilibrium in the \"Demand Curve 2\" presents a higher wage."
   ]
  },
  {
   "cell_type": "markdown",
   "id": "03dc3fd7",
   "metadata": {},
   "source": [
    "7.3) An expansion of both curves would lead to the equilibrium wage will move horizontaly to the right. We will see an increase in people hired due to the increase in the demand for labor in the home construction industry. However, since the supply of labor increased along with the demand, the value of workers and their wage do not change. Of course, this is considering that the expansion of both curves were proportional, in other cases the effect on the equilibrium wage and quantity of workers hired wil depends in the offer and demands relation. "
   ]
  },
  {
   "cell_type": "markdown",
   "id": "058aee55",
   "metadata": {},
   "source": [
    "Question 8"
   ]
  },
  {
   "cell_type": "code",
   "execution_count": 15,
   "id": "3e683d9f",
   "metadata": {
    "scrolled": false
   },
   "outputs": [],
   "source": [
    "import pandas as pd\n",
    "import statsmodels.formula.api as smf \n",
    "import statsmodels.api as sm  \n",
    "import seaborn as sns\n",
    "import matplotlib.pyplot as plt "
   ]
  },
  {
   "cell_type": "code",
   "execution_count": 16,
   "id": "d042b6dc",
   "metadata": {},
   "outputs": [
    {
     "data": {
      "text/html": [
       "<div>\n",
       "<style scoped>\n",
       "    .dataframe tbody tr th:only-of-type {\n",
       "        vertical-align: middle;\n",
       "    }\n",
       "\n",
       "    .dataframe tbody tr th {\n",
       "        vertical-align: top;\n",
       "    }\n",
       "\n",
       "    .dataframe thead th {\n",
       "        text-align: right;\n",
       "    }\n",
       "</style>\n",
       "<table border=\"1\" class=\"dataframe\">\n",
       "  <thead>\n",
       "    <tr style=\"text-align: right;\">\n",
       "      <th></th>\n",
       "      <th>CO_OWNED</th>\n",
       "      <th>SOUTHJ</th>\n",
       "      <th>CENTRALJ</th>\n",
       "      <th>PA1</th>\n",
       "      <th>PA2</th>\n",
       "      <th>DEMP</th>\n",
       "      <th>nj</th>\n",
       "      <th>bk</th>\n",
       "      <th>kfc</th>\n",
       "      <th>roys</th>\n",
       "      <th>wendys</th>\n",
       "      <th>d</th>\n",
       "      <th>d_nj</th>\n",
       "      <th>fte</th>\n",
       "    </tr>\n",
       "  </thead>\n",
       "  <tbody>\n",
       "    <tr>\n",
       "      <th>0</th>\n",
       "      <td>0</td>\n",
       "      <td>0</td>\n",
       "      <td>1</td>\n",
       "      <td>0</td>\n",
       "      <td>0</td>\n",
       "      <td>12.00</td>\n",
       "      <td>1</td>\n",
       "      <td>1</td>\n",
       "      <td>0</td>\n",
       "      <td>0</td>\n",
       "      <td>0</td>\n",
       "      <td>0</td>\n",
       "      <td>0</td>\n",
       "      <td>15.00</td>\n",
       "    </tr>\n",
       "    <tr>\n",
       "      <th>1</th>\n",
       "      <td>0</td>\n",
       "      <td>0</td>\n",
       "      <td>1</td>\n",
       "      <td>0</td>\n",
       "      <td>0</td>\n",
       "      <td>6.50</td>\n",
       "      <td>1</td>\n",
       "      <td>1</td>\n",
       "      <td>0</td>\n",
       "      <td>0</td>\n",
       "      <td>0</td>\n",
       "      <td>0</td>\n",
       "      <td>0</td>\n",
       "      <td>15.00</td>\n",
       "    </tr>\n",
       "    <tr>\n",
       "      <th>2</th>\n",
       "      <td>0</td>\n",
       "      <td>0</td>\n",
       "      <td>1</td>\n",
       "      <td>0</td>\n",
       "      <td>0</td>\n",
       "      <td>-1.00</td>\n",
       "      <td>1</td>\n",
       "      <td>0</td>\n",
       "      <td>0</td>\n",
       "      <td>1</td>\n",
       "      <td>0</td>\n",
       "      <td>0</td>\n",
       "      <td>0</td>\n",
       "      <td>24.00</td>\n",
       "    </tr>\n",
       "    <tr>\n",
       "      <th>3</th>\n",
       "      <td>1</td>\n",
       "      <td>0</td>\n",
       "      <td>0</td>\n",
       "      <td>0</td>\n",
       "      <td>0</td>\n",
       "      <td>2.25</td>\n",
       "      <td>1</td>\n",
       "      <td>0</td>\n",
       "      <td>0</td>\n",
       "      <td>1</td>\n",
       "      <td>0</td>\n",
       "      <td>0</td>\n",
       "      <td>0</td>\n",
       "      <td>19.25</td>\n",
       "    </tr>\n",
       "    <tr>\n",
       "      <th>4</th>\n",
       "      <td>0</td>\n",
       "      <td>0</td>\n",
       "      <td>0</td>\n",
       "      <td>0</td>\n",
       "      <td>0</td>\n",
       "      <td>13.00</td>\n",
       "      <td>1</td>\n",
       "      <td>1</td>\n",
       "      <td>0</td>\n",
       "      <td>0</td>\n",
       "      <td>0</td>\n",
       "      <td>0</td>\n",
       "      <td>0</td>\n",
       "      <td>21.50</td>\n",
       "    </tr>\n",
       "    <tr>\n",
       "      <th>...</th>\n",
       "      <td>...</td>\n",
       "      <td>...</td>\n",
       "      <td>...</td>\n",
       "      <td>...</td>\n",
       "      <td>...</td>\n",
       "      <td>...</td>\n",
       "      <td>...</td>\n",
       "      <td>...</td>\n",
       "      <td>...</td>\n",
       "      <td>...</td>\n",
       "      <td>...</td>\n",
       "      <td>...</td>\n",
       "      <td>...</td>\n",
       "      <td>...</td>\n",
       "    </tr>\n",
       "    <tr>\n",
       "      <th>815</th>\n",
       "      <td>1</td>\n",
       "      <td>0</td>\n",
       "      <td>0</td>\n",
       "      <td>0</td>\n",
       "      <td>1</td>\n",
       "      <td>-2.50</td>\n",
       "      <td>0</td>\n",
       "      <td>0</td>\n",
       "      <td>0</td>\n",
       "      <td>1</td>\n",
       "      <td>0</td>\n",
       "      <td>1</td>\n",
       "      <td>0</td>\n",
       "      <td>12.50</td>\n",
       "    </tr>\n",
       "    <tr>\n",
       "      <th>816</th>\n",
       "      <td>0</td>\n",
       "      <td>0</td>\n",
       "      <td>0</td>\n",
       "      <td>0</td>\n",
       "      <td>1</td>\n",
       "      <td>16.00</td>\n",
       "      <td>0</td>\n",
       "      <td>0</td>\n",
       "      <td>0</td>\n",
       "      <td>1</td>\n",
       "      <td>0</td>\n",
       "      <td>1</td>\n",
       "      <td>0</td>\n",
       "      <td>34.00</td>\n",
       "    </tr>\n",
       "    <tr>\n",
       "      <th>817</th>\n",
       "      <td>1</td>\n",
       "      <td>0</td>\n",
       "      <td>0</td>\n",
       "      <td>0</td>\n",
       "      <td>1</td>\n",
       "      <td>-10.25</td>\n",
       "      <td>0</td>\n",
       "      <td>0</td>\n",
       "      <td>0</td>\n",
       "      <td>1</td>\n",
       "      <td>0</td>\n",
       "      <td>1</td>\n",
       "      <td>0</td>\n",
       "      <td>10.00</td>\n",
       "    </tr>\n",
       "    <tr>\n",
       "      <th>818</th>\n",
       "      <td>0</td>\n",
       "      <td>0</td>\n",
       "      <td>0</td>\n",
       "      <td>1</td>\n",
       "      <td>0</td>\n",
       "      <td>-1.50</td>\n",
       "      <td>0</td>\n",
       "      <td>1</td>\n",
       "      <td>0</td>\n",
       "      <td>0</td>\n",
       "      <td>0</td>\n",
       "      <td>1</td>\n",
       "      <td>0</td>\n",
       "      <td>14.00</td>\n",
       "    </tr>\n",
       "    <tr>\n",
       "      <th>819</th>\n",
       "      <td>0</td>\n",
       "      <td>0</td>\n",
       "      <td>0</td>\n",
       "      <td>1</td>\n",
       "      <td>0</td>\n",
       "      <td>-3.50</td>\n",
       "      <td>0</td>\n",
       "      <td>1</td>\n",
       "      <td>0</td>\n",
       "      <td>0</td>\n",
       "      <td>0</td>\n",
       "      <td>1</td>\n",
       "      <td>0</td>\n",
       "      <td>17.50</td>\n",
       "    </tr>\n",
       "  </tbody>\n",
       "</table>\n",
       "<p>820 rows × 14 columns</p>\n",
       "</div>"
      ],
      "text/plain": [
       "     CO_OWNED  SOUTHJ  CENTRALJ  PA1  PA2   DEMP  nj  bk  kfc  roys  wendys  \\\n",
       "0           0       0         1    0    0  12.00   1   1    0     0       0   \n",
       "1           0       0         1    0    0   6.50   1   1    0     0       0   \n",
       "2           0       0         1    0    0  -1.00   1   0    0     1       0   \n",
       "3           1       0         0    0    0   2.25   1   0    0     1       0   \n",
       "4           0       0         0    0    0  13.00   1   1    0     0       0   \n",
       "..        ...     ...       ...  ...  ...    ...  ..  ..  ...   ...     ...   \n",
       "815         1       0         0    0    1  -2.50   0   0    0     1       0   \n",
       "816         0       0         0    0    1  16.00   0   0    0     1       0   \n",
       "817         1       0         0    0    1 -10.25   0   0    0     1       0   \n",
       "818         0       0         0    1    0  -1.50   0   1    0     0       0   \n",
       "819         0       0         0    1    0  -3.50   0   1    0     0       0   \n",
       "\n",
       "     d  d_nj    fte  \n",
       "0    0     0  15.00  \n",
       "1    0     0  15.00  \n",
       "2    0     0  24.00  \n",
       "3    0     0  19.25  \n",
       "4    0     0  21.50  \n",
       "..  ..   ...    ...  \n",
       "815  1     0  12.50  \n",
       "816  1     0  34.00  \n",
       "817  1     0  10.00  \n",
       "818  1     0  14.00  \n",
       "819  1     0  17.50  \n",
       "\n",
       "[820 rows x 14 columns]"
      ]
     },
     "execution_count": 16,
     "metadata": {},
     "output_type": "execute_result"
    }
   ],
   "source": [
    "url = \"https://raw.githubusercontent.com/Alejangro19/Macro/main/njmin3_1.csv\"\n",
    "df = pd.read_csv(url)\n",
    "df"
   ]
  },
  {
   "cell_type": "code",
   "execution_count": 17,
   "id": "d126e1fe",
   "metadata": {},
   "outputs": [
    {
     "data": {
      "text/plain": [
       "[20.439408099688475,\n",
       " 21.02742946708464,\n",
       " 23.33116883116883,\n",
       " 21.165584415584416,\n",
       " 17.547647368208118]"
      ]
     },
     "execution_count": 17,
     "metadata": {},
     "output_type": "execute_result"
    }
   ],
   "source": [
    "# New Jersey Before and after\n",
    "NJ_before = df.loc[(df['nj']==1) & (df['d']!=1),'fte'].mean()\n",
    "NJ_after  = df.loc[(df['nj']==1) & (df['d']==1),'fte'].mean()\n",
    "\n",
    "# Philadelfia Before and after\n",
    "PA_before = df.loc[(df['nj']!=1) & (df['d']!=1),'fte'].mean()\n",
    "PA_after  = df.loc[(df['nj']!=1) & (df['d']==1),'fte'].mean()\n",
    "\n",
    "# New Jersey counterfactual (if no treatment)\n",
    "NJ_counterfactual = NJ_before + ( NJ_before - PA_before )\n",
    "\n",
    "[NJ_before, NJ_after,\n",
    " PA_before,PA_after, NJ_counterfactual]"
   ]
  },
  {
   "cell_type": "code",
   "execution_count": 18,
   "id": "4aec1b6e",
   "metadata": {},
   "outputs": [
    {
     "data": {
      "text/html": [
       "<div>\n",
       "<style scoped>\n",
       "    .dataframe tbody tr th:only-of-type {\n",
       "        vertical-align: middle;\n",
       "    }\n",
       "\n",
       "    .dataframe tbody tr th {\n",
       "        vertical-align: top;\n",
       "    }\n",
       "\n",
       "    .dataframe thead th {\n",
       "        text-align: right;\n",
       "    }\n",
       "</style>\n",
       "<table border=\"1\" class=\"dataframe\">\n",
       "  <thead>\n",
       "    <tr style=\"text-align: right;\">\n",
       "      <th></th>\n",
       "      <th>City</th>\n",
       "      <th>Before</th>\n",
       "      <th>After</th>\n",
       "      <th>Difference</th>\n",
       "    </tr>\n",
       "  </thead>\n",
       "  <tbody>\n",
       "    <tr>\n",
       "      <th>0</th>\n",
       "      <td>New Jersey</td>\n",
       "      <td>20.439</td>\n",
       "      <td>21.027</td>\n",
       "      <td>0.588</td>\n",
       "    </tr>\n",
       "    <tr>\n",
       "      <th>1</th>\n",
       "      <td>Philadelfia</td>\n",
       "      <td>23.331</td>\n",
       "      <td>21.166</td>\n",
       "      <td>-2.165</td>\n",
       "    </tr>\n",
       "  </tbody>\n",
       "</table>\n",
       "</div>"
      ],
      "text/plain": [
       "          City  Before   After  Difference\n",
       "0   New Jersey  20.439  21.027       0.588\n",
       "1  Philadelfia  23.331  21.166      -2.165"
      ]
     },
     "metadata": {},
     "output_type": "display_data"
    }
   ],
   "source": [
    "DID = {\"City\":[\"New Jersey\",\"Philadelfia\"] ,\n",
    "        \"Before\":[20.439,23.331],\n",
    "        \"After\":[21.027,21.166] ,\n",
    "        \"Difference\":\"\"}\n",
    "DID = pd.DataFrame(DID)\n",
    "DID[\"Difference\"] = (DID[\"After\"]-DID[\"Before\"])\n",
    "display(DID)"
   ]
  },
  {
   "cell_type": "code",
   "execution_count": 19,
   "id": "6bf673fa",
   "metadata": {},
   "outputs": [
    {
     "data": {
      "text/plain": [
       "2.753"
      ]
     },
     "execution_count": 19,
     "metadata": {},
     "output_type": "execute_result"
    }
   ],
   "source": [
    "0.588-(-2.165)"
   ]
  },
  {
   "cell_type": "markdown",
   "id": "7684c612",
   "metadata": {},
   "source": [
    "8.1) As we can see, the diference in diference is 2.75. This mean that after the increase of the minimun wage, New Jersey had an increase of 2.75 full-time equivalents(FTE). in employment. Based on that, we can support that the minimum wage had an impact on employment. However, rather than have a negative impact in employment, it makes employment increase. Furthermore, according to the counterfactual, without the increase in the minimum wage, New Jersey woul had a decreased in its employment. We can see graphed all the FTEs. "
   ]
  },
  {
   "cell_type": "code",
   "execution_count": 20,
   "id": "6ce1144e",
   "metadata": {},
   "outputs": [
    {
     "data": {
      "text/plain": [
       "Text(0.5, 1.0, 'Difference-in-difference: Before and After')"
      ]
     },
     "execution_count": 20,
     "metadata": {},
     "output_type": "execute_result"
    },
    {
     "data": {
      "text/plain": [
       "<Figure size 320x240 with 0 Axes>"
      ]
     },
     "metadata": {},
     "output_type": "display_data"
    },
    {
     "data": {
      "image/png": "[encoded data removed]",
      "text/plain": [
       "<Figure size 432x288 with 1 Axes>"
      ]
     },
     "metadata": {
      "needs_background": "light"
     },
     "output_type": "display_data"
    }
   ],
   "source": [
    "plt.figure(num=None, figsize=(4, 3), dpi=80, facecolor='w', edgecolor='k')\n",
    "fig, ax = plt.subplots()\n",
    "lineNJ, = ax.plot(['0', '1'], [NJ_before, NJ_after],color='green',label='NJ before and after')\n",
    "linePA, = ax.plot(['0', '1'], [PA_before, PA_after],color = 'pink',label = 'PA before and after')\n",
    "lineNJ0, = ax.plot(['0', '1'], [NJ_before, NJ_counterfactual],color = 'green',linestyle='dashed',label='NJ counterfactual')\n",
    "ax.legend()\n",
    "plt.ylim(15, 28)  \n",
    "plt.title(\"Difference-in-difference: Before and After\", fontsize=\"14\")"
   ]
  },
  {
   "cell_type": "markdown",
   "id": "eeaf3fbd",
   "metadata": {},
   "source": [
    "8.2) The difference and difference method is an econometric and quasi experimental method. It is quasi experimental because it doesn't make random assignments of the study units. Instead, it take advantage of what is called a natural experiment in order to study if there is an effect of some event as a politic change using the affected group(treatment) and other that wasn't affected(Control). For that, we calculate the difference between the after and before mean of the outcome for both the control and the treatment case. Then, the differencies in differencis will be the differencies of those results.  "
   ]
  },
  {
   "cell_type": "code",
   "execution_count": 21,
   "id": "89f4cecf",
   "metadata": {},
   "outputs": [
    {
     "data": {
      "text/html": [
       "<div>\n",
       "<style scoped>\n",
       "    .dataframe tbody tr th:only-of-type {\n",
       "        vertical-align: middle;\n",
       "    }\n",
       "\n",
       "    .dataframe tbody tr th {\n",
       "        vertical-align: top;\n",
       "    }\n",
       "\n",
       "    .dataframe thead th {\n",
       "        text-align: right;\n",
       "    }\n",
       "</style>\n",
       "<table border=\"1\" class=\"dataframe\">\n",
       "  <thead>\n",
       "    <tr style=\"text-align: right;\">\n",
       "      <th></th>\n",
       "      <th>Case</th>\n",
       "      <th>Before</th>\n",
       "      <th>After</th>\n",
       "      <th>Difference</th>\n",
       "    </tr>\n",
       "  </thead>\n",
       "  <tbody>\n",
       "    <tr>\n",
       "      <th>0</th>\n",
       "      <td>treatment</td>\n",
       "      <td>X1</td>\n",
       "      <td>X2</td>\n",
       "      <td>X2-X1</td>\n",
       "    </tr>\n",
       "    <tr>\n",
       "      <th>1</th>\n",
       "      <td>control</td>\n",
       "      <td>Y1</td>\n",
       "      <td>Y2</td>\n",
       "      <td>Y2-Y1</td>\n",
       "    </tr>\n",
       "  </tbody>\n",
       "</table>\n",
       "</div>"
      ],
      "text/plain": [
       "        Case Before After Difference\n",
       "0  treatment     X1    X2      X2-X1\n",
       "1    control     Y1    Y2      Y2-Y1"
      ]
     },
     "metadata": {},
     "output_type": "display_data"
    }
   ],
   "source": [
    "DiD = {\"Case\":[\"treatment\",\"control\"] ,\n",
    "        \"Before\":[\"X1\",\"Y1\"],\n",
    "        \"After\":[\"X2\",\"Y2\"],\n",
    "        \"Difference\":[\"X2-X1\",\"Y2-Y1\"]}\n",
    "DiD = pd.DataFrame(DiD)\n",
    "display(DiD)"
   ]
  },
  {
   "cell_type": "markdown",
   "id": "7c3111b8",
   "metadata": {},
   "source": [
    "8.3) Taking advantage of the natural experiments, this method helps us to show how a treatment case changed respect to the control case. In the case of wage, we have the natural experiment that Card and Kruger used in their paper. Showing that the change in the minimum wage have an effect in emplyment, they used the method to support that the effect was positive. "
   ]
  }
 ],
 "metadata": {
  "kernelspec": {
   "display_name": "Python 3 (ipykernel)",
   "language": "python",
   "name": "python3"
  },
  "language_info": {
   "codemirror_mode": {
    "name": "ipython",
    "version": 3
   },
   "file_extension": ".py",
   "mimetype": "text/x-python",
   "name": "python",
   "nbconvert_exporter": "python",
   "pygments_lexer": "ipython3",
   "version": "3.9.7"
  }
 },
 "nbformat": 4,
 "nbformat_minor": 5
}
