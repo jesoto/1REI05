{
 "cells": [
  {
   "cell_type": "markdown",
   "id": "1e1be877",
   "metadata": {},
   "source": [
    "MID TERM EXAM"
   ]
  },
  {
   "cell_type": "markdown",
   "id": "d200fa4e",
   "metadata": {},
   "source": [
    "Name: María Fernanda Carrasco Sebastián"
   ]
  },
  {
   "cell_type": "markdown",
   "id": "a2208aa0",
   "metadata": {},
   "source": [
    "Code:20193352"
   ]
  },
  {
   "cell_type": "markdown",
   "id": "438dfa56",
   "metadata": {},
   "source": [
    "Question 1"
   ]
  },
  {
   "cell_type": "markdown",
   "id": "32c2135a",
   "metadata": {},
   "source": [
    "What is Poldan’s GDP? GDP per capita * Total population "
   ]
  },
  {
   "cell_type": "code",
   "execution_count": 7,
   "id": "75ac4292",
   "metadata": {},
   "outputs": [
    {
     "data": {
      "text/plain": [
       "27125000000000"
      ]
     },
     "execution_count": 7,
     "metadata": {},
     "output_type": "execute_result"
    }
   ],
   "source": [
    "155000*175000000"
   ]
  },
  {
   "cell_type": "markdown",
   "id": "e323d652",
   "metadata": {},
   "source": [
    " Outcome: Total Poldan's GDP is 2712500000000"
   ]
  },
  {
   "cell_type": "markdown",
   "id": "efe03a4f",
   "metadata": {},
   "source": [
    "What is the number of employed people in Poldan? Total Poldan's GDP/ GDP per work"
   ]
  },
  {
   "cell_type": "code",
   "execution_count": 4,
   "id": "8c7b60de",
   "metadata": {},
   "outputs": [
    {
     "data": {
      "text/plain": [
       "92999998.93714286"
      ]
     },
     "execution_count": 4,
     "metadata": {},
     "output_type": "execute_result"
    }
   ],
   "source": [
    "2712500000000/29166.667"
   ]
  },
  {
   "cell_type": "markdown",
   "id": "83916b2b",
   "metadata": {},
   "source": [
    " Outcome:the number of employed people in Poldan is 92999999."
   ]
  },
  {
   "cell_type": "markdown",
   "id": "afcc414c",
   "metadata": {},
   "source": [
    "Question 2"
   ]
  },
  {
   "cell_type": "markdown",
   "id": "976b5b1f",
   "metadata": {},
   "source": [
    "What is Manyger’s GDP per capita? GDP/ Total Population"
   ]
  },
  {
   "cell_type": "code",
   "execution_count": 5,
   "id": "33977916",
   "metadata": {},
   "outputs": [
    {
     "data": {
      "text/plain": [
       "24719101.123595506"
      ]
     },
     "execution_count": 5,
     "metadata": {},
     "output_type": "execute_result"
    }
   ],
   "source": [
    "2200000000000000/89000000"
   ]
  },
  {
   "cell_type": "markdown",
   "id": "32164ab9",
   "metadata": {},
   "source": [
    " Outcome: Manyger’s GDP per capita is 24719101.123595506."
   ]
  },
  {
   "cell_type": "markdown",
   "id": "f98c2c43",
   "metadata": {},
   "source": [
    "What is Manyger’s GDP per worker? GDP/Employment"
   ]
  },
  {
   "cell_type": "code",
   "execution_count": 6,
   "id": "72624a4e",
   "metadata": {},
   "outputs": [
    {
     "data": {
      "text/plain": [
       "43137254.90196078"
      ]
     },
     "execution_count": 6,
     "metadata": {},
     "output_type": "execute_result"
    }
   ],
   "source": [
    "2200000000000000/51000000"
   ]
  },
  {
   "cell_type": "markdown",
   "id": "0674ce2e",
   "metadata": {},
   "source": [
    " Outcome: The Manyger's GDP per worker is 43137254.90196078."
   ]
  },
  {
   "cell_type": "markdown",
   "id": "e70a944d",
   "metadata": {},
   "source": [
    "Based on the given information, which country would be considered more productive? Explain your answer."
   ]
  },
  {
   "cell_type": "markdown",
   "id": "de361e7f",
   "metadata": {},
   "source": [
    "Based on the results, it is shown that the most productive country is Manyger. This is taking into account the GDP per worker. It addresses productivity, rather than general economic well-being, and adjusts for changes in the composition of the population among those who are employed. This is an important economic indicator related to economic growth, competitiveness and standard of living. Comparing the results, we see that Manyger's GDP per worker (43137254.90196078) is higher than Poldan's (29166.667)."
   ]
  },
  {
   "cell_type": "markdown",
   "id": "b7f4e8e5",
   "metadata": {},
   "source": [
    "Which country do you think has higher living standards?"
   ]
  },
  {
   "cell_type": "markdown",
   "id": "f127cc9c",
   "metadata": {},
   "source": [
    "To estimate the country with the highest living standards, it is necessary to use the GDP per capita, the income per person. In this way, Manyger would have higher living standards as it has a GDP per capita of 24719101, unlike Poldan which has a GDP per capita of 15500."
   ]
  },
  {
   "cell_type": "markdown",
   "id": "38438a8c",
   "metadata": {},
   "source": [
    "Question 3"
   ]
  },
  {
   "cell_type": "markdown",
   "id": "bc15d39c",
   "metadata": {},
   "source": [
    "Instrucction:  In this question, we will use what you learned in Lectures 3 and 4 to compare the performance of an economy in two different time periods, as its physical capital stock and efficiency units of labor change."
   ]
  },
  {
   "cell_type": "markdown",
   "id": "112d074e",
   "metadata": {},
   "source": [
    "Part 1"
   ]
  },
  {
   "cell_type": "markdown",
   "id": "7aafd9ee",
   "metadata": {},
   "source": [
    "Total efficiency units of labor= H = L(Total number of employed workers)x h(working hours)"
   ]
  },
  {
   "cell_type": "markdown",
   "id": "9c164955",
   "metadata": {},
   "source": [
    "H1: represents the efficiency units of labor\n",
    "h: constant \n",
    "x = change caused by the deacrease in the unemployment rate\n",
    "H2 = value H1"
   ]
  },
  {
   "cell_type": "markdown",
   "id": "d6911bcd",
   "metadata": {},
   "source": [
    "We use these values to make the equation:"
   ]
  },
  {
   "cell_type": "markdown",
   "id": "9f5edd89",
   "metadata": {},
   "source": [
    "H1=L1*h\n",
    "H2=L2*h\n",
    "L2=L1*x\n",
    "\n",
    "H2>H1 "
   ]
  },
  {
   "cell_type": "markdown",
   "id": "ef678229",
   "metadata": {},
   "source": [
    "Outcome:  The inequality would be H2>H1"
   ]
  },
  {
   "cell_type": "markdown",
   "id": "99517c58",
   "metadata": {},
   "source": [
    "Part 2"
   ]
  },
  {
   "cell_type": "markdown",
   "id": "00f11806",
   "metadata": {},
   "source": [
    "Instruction: What are the consequences of this decrease in unemployment for GDP? Express your results formally as an inequality"
   ]
  },
  {
   "cell_type": "markdown",
   "id": "a5a313e1",
   "metadata": {},
   "source": [
    "Inequality"
   ]
  },
  {
   "cell_type": "markdown",
   "id": "b659c7c2",
   "metadata": {},
   "source": [
    "F=  A × F(K , H)"
   ]
  },
  {
   "cell_type": "markdown",
   "id": "9b4131c9",
   "metadata": {},
   "source": [
    "Y1 = A K1/3 H12/3\n",
    "Y2 = A K21/3 H22/3\n",
    "Y2 = A (X K2)1/3 (X H1)2/3\n",
    "Y2 = X (A K1/2 H12/3)\n",
    "Y2 = X Y1\n",
    "Y2>Y1"
   ]
  },
  {
   "cell_type": "markdown",
   "id": "25b13ae1",
   "metadata": {},
   "source": [
    "Outcome:The inequation is then Y2>Y1. This shows that a decrease in unemployment would mean an increase in GDP due to human capital."
   ]
  },
  {
   "cell_type": "markdown",
   "id": "f8e1c7a9",
   "metadata": {},
   "source": [
    "Part 3"
   ]
  },
  {
   "cell_type": "markdown",
   "id": "d378c504",
   "metadata": {},
   "source": [
    "Instruction: What are the consequences for GDP per capita and GDP per worker?"
   ]
  },
  {
   "cell_type": "markdown",
   "id": "66b53b4e",
   "metadata": {},
   "source": [
    "Due to the results, the consequences of the GDP per capita would be that to the extent that there is an increase in it, there is a reduction in unemployment and economic growth.\n",
    "\n",
    "In addition, the increase in GDP per worker has consequences for the people employed and for work. if there is an increase in workers, the number of working hours consequently decreases."
   ]
  },
  {
   "cell_type": "markdown",
   "id": "9dfdd5bb",
   "metadata": {},
   "source": [
    "Part 4"
   ]
  },
  {
   "cell_type": "markdown",
   "id": "458ecde1",
   "metadata": {},
   "source": [
    "Instruction:Suppose that there is a technological advance from period 1 to period 2 and, at the same time, an increase in physical capital stock? Can you say whether GDP will increase or decrease? Why or why not?"
   ]
  },
  {
   "cell_type": "markdown",
   "id": "92f94463",
   "metadata": {},
   "source": [
    "Indeed, assuming that a technological advance occurs from period 1 to period 2 and, at the same time, there is an increase in the stock of physical capital, GDP would increase. This is due in part to the law of diminishing marginal productivity, which argues that when there is an increase in the stock of physical capital, as seen in the example, so does GDP. However, the increase would be less and less than before. In addition, if a technological advance occurs, this would be related to the increase in GDP and the stock of physical capital increase."
   ]
  },
  {
   "cell_type": "markdown",
   "id": "bba7b033",
   "metadata": {},
   "source": [
    "Question 5"
   ]
  },
  {
   "cell_type": "markdown",
   "id": "a2550c75",
   "metadata": {},
   "source": [
    "Instruction: Using the equations for growth given in lectures 3 & 4, explain why a country that has a very low real per capita GDP can also have a very high growth rate."
   ]
  },
  {
   "cell_type": "markdown",
   "id": "e54117fa",
   "metadata": {},
   "source": [
    "Question 6 "
   ]
  },
  {
   "cell_type": "markdown",
   "id": "3f127ce9",
   "metadata": {},
   "source": [
    "Instruction:Increasingly, independent programmers are making their code “open source.” The programming language “Python,” for example, is completely free and open; anyone can submit a new package of specialized functions. How might open-source technology affect growth in developing countries? Imagine every technology company in the United States suddenly made their code open-source; would this increase growth in developing countries? Explain."
   ]
  },
  {
   "cell_type": "markdown",
   "id": "8366f2f5",
   "metadata": {},
   "source": [
    "Open-source technology has the capacity to influence the growth of developed countries, because it is important to stimulate productivity growth and, therefore, economic growth. However, it is necessary that as developed countries, they have the necessary means to face these digitizing processes and technological progress. In addition, these technological technologies also expand our production capabilities, thus bringing about the creation of new jobs, which would influence the advances in GDP."
   ]
  },
  {
   "cell_type": "markdown",
   "id": "c5dc8b65",
   "metadata": {},
   "source": [
    "Question 7"
   ]
  },
  {
   "cell_type": "markdown",
   "id": "fa1e9901",
   "metadata": {},
   "source": [
    "I: Fill the table using Python."
   ]
  },
  {
   "cell_type": "code",
   "execution_count": null,
   "id": "145100c3",
   "metadata": {},
   "outputs": [],
   "source": [
    "import numpy as np\n",
    "import pandas as pd"
   ]
  },
  {
   "cell_type": "code",
   "execution_count": 23,
   "id": "5f09d286",
   "metadata": {},
   "outputs": [
    {
     "data": {
      "text/html": [
       "<div>\n",
       "<style scoped>\n",
       "    .dataframe tbody tr th:only-of-type {\n",
       "        vertical-align: middle;\n",
       "    }\n",
       "\n",
       "    .dataframe tbody tr th {\n",
       "        vertical-align: top;\n",
       "    }\n",
       "\n",
       "    .dataframe thead th {\n",
       "        text-align: right;\n",
       "    }\n",
       "</style>\n",
       "<table border=\"1\" class=\"dataframe\">\n",
       "  <thead>\n",
       "    <tr style=\"text-align: right;\">\n",
       "      <th></th>\n",
       "      <th>Year</th>\n",
       "      <th>Number Unemployed(in thousands)</th>\n",
       "      <th>Number Employed(in thousands)</th>\n",
       "      <th>Labor force participation rate</th>\n",
       "      <th>Employment Rate</th>\n",
       "      <th>Unemployment Rate</th>\n",
       "      <th>Labor Force</th>\n",
       "      <th>Adult Population</th>\n",
       "    </tr>\n",
       "  </thead>\n",
       "  <tbody>\n",
       "    <tr>\n",
       "      <th>0</th>\n",
       "      <td>2008</td>\n",
       "      <td>454.1000</td>\n",
       "      <td>4537.4000</td>\n",
       "      <td>52.90</td>\n",
       "      <td>90.902534</td>\n",
       "      <td>9.097466</td>\n",
       "      <td>4991.5000</td>\n",
       "      <td>9435.727788</td>\n",
       "    </tr>\n",
       "    <tr>\n",
       "      <th>1</th>\n",
       "      <td>2009</td>\n",
       "      <td>475.1000</td>\n",
       "      <td>4535.5000</td>\n",
       "      <td>53.20</td>\n",
       "      <td>90.518102</td>\n",
       "      <td>9.481898</td>\n",
       "      <td>5010.6000</td>\n",
       "      <td>9418.421053</td>\n",
       "    </tr>\n",
       "    <tr>\n",
       "      <th>2</th>\n",
       "      <td>2010</td>\n",
       "      <td>594.9000</td>\n",
       "      <td>4432.1000</td>\n",
       "      <td>53.60</td>\n",
       "      <td>88.165904</td>\n",
       "      <td>11.834096</td>\n",
       "      <td>5027.0000</td>\n",
       "      <td>9378.731343</td>\n",
       "    </tr>\n",
       "    <tr>\n",
       "      <th>3</th>\n",
       "      <td>2011</td>\n",
       "      <td>828.3000</td>\n",
       "      <td>4126.0000</td>\n",
       "      <td>53.00</td>\n",
       "      <td>83.281190</td>\n",
       "      <td>16.718810</td>\n",
       "      <td>4954.3000</td>\n",
       "      <td>9347.735849</td>\n",
       "    </tr>\n",
       "    <tr>\n",
       "      <th>4</th>\n",
       "      <td>2012</td>\n",
       "      <td>1130.4000</td>\n",
       "      <td>3745.6000</td>\n",
       "      <td>52.40</td>\n",
       "      <td>76.817063</td>\n",
       "      <td>23.182937</td>\n",
       "      <td>4876.0000</td>\n",
       "      <td>9305.343511</td>\n",
       "    </tr>\n",
       "    <tr>\n",
       "      <th>5</th>\n",
       "      <td>2013</td>\n",
       "      <td>1302.8000</td>\n",
       "      <td>3491.0000</td>\n",
       "      <td>52.00</td>\n",
       "      <td>72.823230</td>\n",
       "      <td>27.176770</td>\n",
       "      <td>4793.8000</td>\n",
       "      <td>9218.846154</td>\n",
       "    </tr>\n",
       "    <tr>\n",
       "      <th>6</th>\n",
       "      <td>2014</td>\n",
       "      <td>1343.4000</td>\n",
       "      <td>3495.6000</td>\n",
       "      <td>51.90</td>\n",
       "      <td>72.238066</td>\n",
       "      <td>27.761934</td>\n",
       "      <td>4839.0000</td>\n",
       "      <td>9323.699422</td>\n",
       "    </tr>\n",
       "    <tr>\n",
       "      <th>7</th>\n",
       "      <td>2015</td>\n",
       "      <td>1299.4000</td>\n",
       "      <td>3438.1000</td>\n",
       "      <td>51.60</td>\n",
       "      <td>72.572032</td>\n",
       "      <td>27.427968</td>\n",
       "      <td>4737.5000</td>\n",
       "      <td>9181.201550</td>\n",
       "    </tr>\n",
       "    <tr>\n",
       "      <th>8</th>\n",
       "      <td>2016</td>\n",
       "      <td>1189.9000</td>\n",
       "      <td>3600.7000</td>\n",
       "      <td>52.04</td>\n",
       "      <td>75.161775</td>\n",
       "      <td>24.838225</td>\n",
       "      <td>4790.6000</td>\n",
       "      <td>9205.611068</td>\n",
       "    </tr>\n",
       "    <tr>\n",
       "      <th>9</th>\n",
       "      <td>2017</td>\n",
       "      <td>1079.7170</td>\n",
       "      <td>3669.1972</td>\n",
       "      <td>51.90</td>\n",
       "      <td>77.263919</td>\n",
       "      <td>22.736081</td>\n",
       "      <td>4748.9142</td>\n",
       "      <td>9150.123699</td>\n",
       "    </tr>\n",
       "    <tr>\n",
       "      <th>10</th>\n",
       "      <td>2018</td>\n",
       "      <td>973.5729</td>\n",
       "      <td>3768.6290</td>\n",
       "      <td>51.60</td>\n",
       "      <td>79.470024</td>\n",
       "      <td>20.529976</td>\n",
       "      <td>4742.2019</td>\n",
       "      <td>9190.313760</td>\n",
       "    </tr>\n",
       "    <tr>\n",
       "      <th>11</th>\n",
       "      <td>2019</td>\n",
       "      <td>844.0380</td>\n",
       "      <td>3846.3319</td>\n",
       "      <td>51.80</td>\n",
       "      <td>82.004873</td>\n",
       "      <td>17.995127</td>\n",
       "      <td>4690.3699</td>\n",
       "      <td>9054.768147</td>\n",
       "    </tr>\n",
       "    <tr>\n",
       "      <th>12</th>\n",
       "      <td>2020</td>\n",
       "      <td>665.3619</td>\n",
       "      <td>3813.0379</td>\n",
       "      <td>50.60</td>\n",
       "      <td>85.142865</td>\n",
       "      <td>14.857135</td>\n",
       "      <td>4478.3998</td>\n",
       "      <td>8850.592490</td>\n",
       "    </tr>\n",
       "  </tbody>\n",
       "</table>\n",
       "</div>"
      ],
      "text/plain": [
       "    Year  Number Unemployed(in thousands)  Number Employed(in thousands)  \\\n",
       "0   2008                         454.1000                      4537.4000   \n",
       "1   2009                         475.1000                      4535.5000   \n",
       "2   2010                         594.9000                      4432.1000   \n",
       "3   2011                         828.3000                      4126.0000   \n",
       "4   2012                        1130.4000                      3745.6000   \n",
       "5   2013                        1302.8000                      3491.0000   \n",
       "6   2014                        1343.4000                      3495.6000   \n",
       "7   2015                        1299.4000                      3438.1000   \n",
       "8   2016                        1189.9000                      3600.7000   \n",
       "9   2017                        1079.7170                      3669.1972   \n",
       "10  2018                         973.5729                      3768.6290   \n",
       "11  2019                         844.0380                      3846.3319   \n",
       "12  2020                         665.3619                      3813.0379   \n",
       "\n",
       "    Labor force participation rate  Employment Rate  Unemployment Rate  \\\n",
       "0                            52.90        90.902534           9.097466   \n",
       "1                            53.20        90.518102           9.481898   \n",
       "2                            53.60        88.165904          11.834096   \n",
       "3                            53.00        83.281190          16.718810   \n",
       "4                            52.40        76.817063          23.182937   \n",
       "5                            52.00        72.823230          27.176770   \n",
       "6                            51.90        72.238066          27.761934   \n",
       "7                            51.60        72.572032          27.427968   \n",
       "8                            52.04        75.161775          24.838225   \n",
       "9                            51.90        77.263919          22.736081   \n",
       "10                           51.60        79.470024          20.529976   \n",
       "11                           51.80        82.004873          17.995127   \n",
       "12                           50.60        85.142865          14.857135   \n",
       "\n",
       "    Labor Force  Adult Population  \n",
       "0     4991.5000       9435.727788  \n",
       "1     5010.6000       9418.421053  \n",
       "2     5027.0000       9378.731343  \n",
       "3     4954.3000       9347.735849  \n",
       "4     4876.0000       9305.343511  \n",
       "5     4793.8000       9218.846154  \n",
       "6     4839.0000       9323.699422  \n",
       "7     4737.5000       9181.201550  \n",
       "8     4790.6000       9205.611068  \n",
       "9     4748.9142       9150.123699  \n",
       "10    4742.2019       9190.313760  \n",
       "11    4690.3699       9054.768147  \n",
       "12    4478.3998       8850.592490  "
      ]
     },
     "execution_count": 23,
     "metadata": {},
     "output_type": "execute_result"
    }
   ],
   "source": [
    "data = {\"Year\": [\"2008\",\"2009\",\"2010\",\"2011\",\"2012\",\"2013\",\"2014\",\"2015\",\"2016\",\"2017\",\"2018\",\"2019\",\"2020\"], \n",
    "        \"Number Unemployed(in thousands)\": [454.1, 475.1, 594.9, 828.3, 1130.4, 1302.8, 1343.4, 1299.4, 1189.9, 1079.717, 973.5729, 844.038, 665.3619],\n",
    "        \"Number Employed(in thousands)\": [4537.4, 4535.5, 4432.1, 4126, 3745.6, 3491, 3495.6, 3438.1, 3600.7, 3669.1972, 3768.629, 3846.3319, 3813.0379],\n",
    "        \"Labor force participation rate\": [52.9, 53.2, 53.6, 53, 52.4, 52, 51.9, 51.6, 52.04, 51.9, 51.6, 51.8, 50.6],\n",
    "        \"Employment Rate\":\"\",\n",
    "        \"Unemployment Rate\":\"\",\n",
    "        \"Labor Force\":\"\",\n",
    "        \"Adult Population\":\"\"}\n",
    "df = pd.DataFrame(data)\n",
    "df[\"Labor Force\"] = (df[\"Number Unemployed(in thousands)\"]+df[\"Number Employed(in thousands)\"])\n",
    "df[\"Employment Rate\"] = (df[\"Number Employed(in thousands)\"]/df[\"Labor Force\"])*100\n",
    "df[\"Unemployment Rate\"] = (df[\"Number Unemployed(in thousands)\"]/df[\"Labor Force\"])*100\n",
    "df[\"Adult Population\"] = (df[\"Labor Force\"]/df[\"Labor force participation rate\"])*100\n",
    "df"
   ]
  },
  {
   "cell_type": "markdown",
   "id": "02b86cc1",
   "metadata": {},
   "source": []
  },
  {
   "cell_type": "markdown",
   "id": "4fe2168d",
   "metadata": {},
   "source": [
    "Part 1(6.1): In which years did the economy witness increases in the unemployment rate? What could possibly explain this?"
   ]
  },
  {
   "cell_type": "markdown",
   "id": "cf7b9302",
   "metadata": {},
   "source": [
    "As can be seen, there is an increase in the unemployment rate from 2012 to 2015. This is due to the sovereign debt crisis in Greece. This juncture of changes began at the end of 2009 as one of the first four sovereign debt crises in the eurozone and officially ended in June 2018. This event filled the country with international debt."
   ]
  },
  {
   "cell_type": "markdown",
   "id": "e61fa16e",
   "metadata": {},
   "source": [
    "Part 2(6.2):Use the data on the size of the labor force and potential workers to compute the percentage of adults out of the labor force for the year 2017. Verify that your calculation is equal to one minus the labor force participation rate."
   ]
  },
  {
   "cell_type": "markdown",
   "id": "c3608787",
   "metadata": {},
   "source": [
    "Formula: percentage of adults out of the labor force for the year 2017"
   ]
  },
  {
   "cell_type": "code",
   "execution_count": 24,
   "id": "43a87caf",
   "metadata": {},
   "outputs": [
    {
     "data": {
      "text/plain": [
       "48.09999999760659"
      ]
     },
     "execution_count": 24,
     "metadata": {},
     "output_type": "execute_result"
    }
   ],
   "source": [
    "(1-(4748.9142/9150.123699))*100"
   ]
  },
  {
   "cell_type": "markdown",
   "id": "b2ce2e41",
   "metadata": {},
   "source": [
    "Outcome: 48%"
   ]
  },
  {
   "cell_type": "markdown",
   "id": "17599e9b",
   "metadata": {},
   "source": [
    "Part3(6.3) "
   ]
  },
  {
   "cell_type": "markdown",
   "id": "8c8db9d3",
   "metadata": {},
   "source": [
    "What are the general trends that you observe in the data?"
   ]
  },
  {
   "cell_type": "markdown",
   "id": "d34dce3f",
   "metadata": {},
   "source": [
    "The data shows that the largest decrease in unemployment occurred in the years 2013 to 2015. In addition, because the crisis began at the end of 2009, in 2008, employment remained stable. Likewise, it is seen that there is an increase in unemployment since 2020, this may be a reason for the health pandemic."
   ]
  },
  {
   "cell_type": "markdown",
   "id": "5e3b4561",
   "metadata": {},
   "source": [
    "Question 7"
   ]
  },
  {
   "cell_type": "markdown",
   "id": "c01b5c4a",
   "metadata": {},
   "source": [
    "Instruction: Assume that 1 million immigrants enter Peru from Venezuela this year and that some of these immigrants work in the home construction industry."
   ]
  },
  {
   "cell_type": "markdown",
   "id": "a3c631fc",
   "metadata": {},
   "source": [
    "Part 1 (7.1): Graph the impact of immigration on the supply of labor and the resulting new equilibrium wage and quantity."
   ]
  },
  {
   "cell_type": "code",
   "execution_count": 35,
   "id": "9a443daa",
   "metadata": {},
   "outputs": [],
   "source": [
    "%matplotlib inline\n",
    "import matplotlib.pyplot as plt\n",
    "import numpy as np\n",
    "import sympy as sy\n",
    "def S(q):\n",
    "    return (q**2)\n",
    "def T(q):\n",
    "    return (q**1.5)\n",
    "def D(q):\n",
    "    return (q - 20)**2"
   ]
  },
  {
   "cell_type": "code",
   "execution_count": 37,
   "id": "5dd874aa",
   "metadata": {},
   "outputs": [
    {
     "data": {
      "text/plain": [
       "Text(0, 0.5, 'Wage')"
      ]
     },
     "execution_count": 37,
     "metadata": {},
     "output_type": "execute_result"
    },
    {
     "data": {
      "image/png": "[encoded data removed]",
      "text/plain": [
       "<Figure size 576x432 with 1 Axes>"
      ]
     },
     "metadata": {
      "needs_background": "light"
     },
     "output_type": "display_data"
    }
   ],
   "source": [
    "plt.plot(q, D(q), label = \"Demand\", color = \"grey\")\n",
    "plt.plot(q, S(q), label = \"Supply 1\", color = \"blue\")\n",
    "plt.plot(q, T(q), label = \"Supply 2\", color = \"green\")\n",
    "plt.plot(13, 50, 'o', markersize = 14)\n",
    "plt.annotate(text ='New Equilibrium', xy=(13,52),xytext=(8,320),arrowprops = dict(arrowstyle='->'))\n",
    "\n",
    "plt.title(\"New equilibrium wage and quantity\")\n",
    "plt.legend(frameon = False)\n",
    "plt.xlabel(\"Quantity\")\n",
    "plt.ylabel(\"Wage\")"
   ]
  },
  {
   "cell_type": "markdown",
   "id": "64d6ec38",
   "metadata": {},
   "source": [
    "Interpretation: The graph shows that with immigration, the curve supply of labor has an effect, since it expands.This creates a new equilibrium."
   ]
  },
  {
   "cell_type": "markdown",
   "id": "696ed94c",
   "metadata": {},
   "source": [
    "Part 2 (7.2):These new immigrants also increase the demand for housing. Graph the change in the demand for labor in the home construction industry due to the increased demand for housing. Without considering the increase in the supply of labor, how does the equilibrium wage and quantity of workers hired change?"
   ]
  },
  {
   "cell_type": "markdown",
   "id": "184197ba",
   "metadata": {},
   "source": [
    "Graphic 2"
   ]
  },
  {
   "cell_type": "code",
   "execution_count": 42,
   "id": "ea30b524",
   "metadata": {},
   "outputs": [
    {
     "data": {
      "image/png": "[encoded data removed]",
      "text/plain": [
       "<Figure size 576x432 with 1 Axes>"
      ]
     },
     "metadata": {
      "needs_background": "light"
     },
     "output_type": "display_data"
    }
   ],
   "source": [
    "def V(A):\n",
    "    return (A**2)\n",
    "def N(A):\n",
    "    return (A - 15)**2\n",
    "def G(A):\n",
    "    return (A - 20)**2\n",
    "A = np.linspace(0, 20, 50, 1000)\n",
    "plt.plot(A, V(A), label = \"Supply Curve\",color=\"grey\")\n",
    "plt.plot(A, N(A), label = \"Demand Curve\", color=\"red\")\n",
    "plt.plot(A, G(A), label = \"Demand Curve 2\")\n",
    "plt.title(\"Supply and Demand\")\n",
    "plt.legend(frameon = False)\n",
    "plt.xlabel(\"Quantity $q$\")\n",
    "plt.ylabel(\"Wage\")\n",
    "plt.rcParams[\"figure.figsize\"] = (8, 6)"
   ]
  },
  {
   "cell_type": "markdown",
   "id": "f2a1d8ab",
   "metadata": {},
   "source": []
  },
  {
   "cell_type": "markdown",
   "id": "44a14323",
   "metadata": {},
   "source": [
    "Part 3 (7.3):"
   ]
  },
  {
   "cell_type": "markdown",
   "id": "6ae66378",
   "metadata": {},
   "source": [
    "Instruction: Considering both the change in the supply and the demand for labor in the home construction industry, what can you conclude about the change in the equilibrium wage and quantity of workers hired?"
   ]
  },
  {
   "cell_type": "markdown",
   "id": "57955be0",
   "metadata": {},
   "source": [
    "Assuming that immigration brought a change in demand and supply in the demand for labor in the homebuilding industry, then the equilibrium wage does not have a change (because the curve moves to the right) , by increasing the number of workers hired."
   ]
  },
  {
   "cell_type": "markdown",
   "id": "fbd1b97b",
   "metadata": {},
   "source": [
    "Question 8"
   ]
  },
  {
   "cell_type": "markdown",
   "id": "ea677c3e",
   "metadata": {},
   "source": [
    "(8.1):Replicate the results from Card and Kruger 1994. For this, you need to read the next sources"
   ]
  },
  {
   "cell_type": "code",
   "execution_count": 1,
   "id": "7648ee76",
   "metadata": {},
   "outputs": [],
   "source": [
    "import pandas as pd\n",
    "import statsmodels.formula.api as smf \n",
    "import statsmodels.api as sm  \n",
    "import seaborn as sns\n",
    "import matplotlib.pyplot as plt "
   ]
  },
  {
   "cell_type": "code",
   "execution_count": 11,
   "id": "cfa2ab98",
   "metadata": {},
   "outputs": [
    {
     "data": {
      "text/html": [
       "<div>\n",
       "<style scoped>\n",
       "    .dataframe tbody tr th:only-of-type {\n",
       "        vertical-align: middle;\n",
       "    }\n",
       "\n",
       "    .dataframe tbody tr th {\n",
       "        vertical-align: top;\n",
       "    }\n",
       "\n",
       "    .dataframe thead th {\n",
       "        text-align: right;\n",
       "    }\n",
       "</style>\n",
       "<table border=\"1\" class=\"dataframe\">\n",
       "  <thead>\n",
       "    <tr style=\"text-align: right;\">\n",
       "      <th></th>\n",
       "      <th>CO_OWNED</th>\n",
       "      <th>SOUTHJ</th>\n",
       "      <th>CENTRALJ</th>\n",
       "      <th>PA1</th>\n",
       "      <th>PA2</th>\n",
       "      <th>DEMP</th>\n",
       "      <th>nj</th>\n",
       "      <th>bk</th>\n",
       "      <th>kfc</th>\n",
       "      <th>roys</th>\n",
       "      <th>wendys</th>\n",
       "      <th>d</th>\n",
       "      <th>d_nj</th>\n",
       "      <th>fte</th>\n",
       "    </tr>\n",
       "  </thead>\n",
       "  <tbody>\n",
       "    <tr>\n",
       "      <th>0</th>\n",
       "      <td>0</td>\n",
       "      <td>0</td>\n",
       "      <td>1</td>\n",
       "      <td>0</td>\n",
       "      <td>0</td>\n",
       "      <td>12.00</td>\n",
       "      <td>1</td>\n",
       "      <td>1</td>\n",
       "      <td>0</td>\n",
       "      <td>0</td>\n",
       "      <td>0</td>\n",
       "      <td>0</td>\n",
       "      <td>0</td>\n",
       "      <td>15.00</td>\n",
       "    </tr>\n",
       "    <tr>\n",
       "      <th>1</th>\n",
       "      <td>0</td>\n",
       "      <td>0</td>\n",
       "      <td>1</td>\n",
       "      <td>0</td>\n",
       "      <td>0</td>\n",
       "      <td>6.50</td>\n",
       "      <td>1</td>\n",
       "      <td>1</td>\n",
       "      <td>0</td>\n",
       "      <td>0</td>\n",
       "      <td>0</td>\n",
       "      <td>0</td>\n",
       "      <td>0</td>\n",
       "      <td>15.00</td>\n",
       "    </tr>\n",
       "    <tr>\n",
       "      <th>2</th>\n",
       "      <td>0</td>\n",
       "      <td>0</td>\n",
       "      <td>1</td>\n",
       "      <td>0</td>\n",
       "      <td>0</td>\n",
       "      <td>-1.00</td>\n",
       "      <td>1</td>\n",
       "      <td>0</td>\n",
       "      <td>0</td>\n",
       "      <td>1</td>\n",
       "      <td>0</td>\n",
       "      <td>0</td>\n",
       "      <td>0</td>\n",
       "      <td>24.00</td>\n",
       "    </tr>\n",
       "    <tr>\n",
       "      <th>3</th>\n",
       "      <td>1</td>\n",
       "      <td>0</td>\n",
       "      <td>0</td>\n",
       "      <td>0</td>\n",
       "      <td>0</td>\n",
       "      <td>2.25</td>\n",
       "      <td>1</td>\n",
       "      <td>0</td>\n",
       "      <td>0</td>\n",
       "      <td>1</td>\n",
       "      <td>0</td>\n",
       "      <td>0</td>\n",
       "      <td>0</td>\n",
       "      <td>19.25</td>\n",
       "    </tr>\n",
       "    <tr>\n",
       "      <th>4</th>\n",
       "      <td>0</td>\n",
       "      <td>0</td>\n",
       "      <td>0</td>\n",
       "      <td>0</td>\n",
       "      <td>0</td>\n",
       "      <td>13.00</td>\n",
       "      <td>1</td>\n",
       "      <td>1</td>\n",
       "      <td>0</td>\n",
       "      <td>0</td>\n",
       "      <td>0</td>\n",
       "      <td>0</td>\n",
       "      <td>0</td>\n",
       "      <td>21.50</td>\n",
       "    </tr>\n",
       "    <tr>\n",
       "      <th>...</th>\n",
       "      <td>...</td>\n",
       "      <td>...</td>\n",
       "      <td>...</td>\n",
       "      <td>...</td>\n",
       "      <td>...</td>\n",
       "      <td>...</td>\n",
       "      <td>...</td>\n",
       "      <td>...</td>\n",
       "      <td>...</td>\n",
       "      <td>...</td>\n",
       "      <td>...</td>\n",
       "      <td>...</td>\n",
       "      <td>...</td>\n",
       "      <td>...</td>\n",
       "    </tr>\n",
       "    <tr>\n",
       "      <th>815</th>\n",
       "      <td>1</td>\n",
       "      <td>0</td>\n",
       "      <td>0</td>\n",
       "      <td>0</td>\n",
       "      <td>1</td>\n",
       "      <td>-2.50</td>\n",
       "      <td>0</td>\n",
       "      <td>0</td>\n",
       "      <td>0</td>\n",
       "      <td>1</td>\n",
       "      <td>0</td>\n",
       "      <td>1</td>\n",
       "      <td>0</td>\n",
       "      <td>12.50</td>\n",
       "    </tr>\n",
       "    <tr>\n",
       "      <th>816</th>\n",
       "      <td>0</td>\n",
       "      <td>0</td>\n",
       "      <td>0</td>\n",
       "      <td>0</td>\n",
       "      <td>1</td>\n",
       "      <td>16.00</td>\n",
       "      <td>0</td>\n",
       "      <td>0</td>\n",
       "      <td>0</td>\n",
       "      <td>1</td>\n",
       "      <td>0</td>\n",
       "      <td>1</td>\n",
       "      <td>0</td>\n",
       "      <td>34.00</td>\n",
       "    </tr>\n",
       "    <tr>\n",
       "      <th>817</th>\n",
       "      <td>1</td>\n",
       "      <td>0</td>\n",
       "      <td>0</td>\n",
       "      <td>0</td>\n",
       "      <td>1</td>\n",
       "      <td>-10.25</td>\n",
       "      <td>0</td>\n",
       "      <td>0</td>\n",
       "      <td>0</td>\n",
       "      <td>1</td>\n",
       "      <td>0</td>\n",
       "      <td>1</td>\n",
       "      <td>0</td>\n",
       "      <td>10.00</td>\n",
       "    </tr>\n",
       "    <tr>\n",
       "      <th>818</th>\n",
       "      <td>0</td>\n",
       "      <td>0</td>\n",
       "      <td>0</td>\n",
       "      <td>1</td>\n",
       "      <td>0</td>\n",
       "      <td>-1.50</td>\n",
       "      <td>0</td>\n",
       "      <td>1</td>\n",
       "      <td>0</td>\n",
       "      <td>0</td>\n",
       "      <td>0</td>\n",
       "      <td>1</td>\n",
       "      <td>0</td>\n",
       "      <td>14.00</td>\n",
       "    </tr>\n",
       "    <tr>\n",
       "      <th>819</th>\n",
       "      <td>0</td>\n",
       "      <td>0</td>\n",
       "      <td>0</td>\n",
       "      <td>1</td>\n",
       "      <td>0</td>\n",
       "      <td>-3.50</td>\n",
       "      <td>0</td>\n",
       "      <td>1</td>\n",
       "      <td>0</td>\n",
       "      <td>0</td>\n",
       "      <td>0</td>\n",
       "      <td>1</td>\n",
       "      <td>0</td>\n",
       "      <td>17.50</td>\n",
       "    </tr>\n",
       "  </tbody>\n",
       "</table>\n",
       "<p>820 rows × 14 columns</p>\n",
       "</div>"
      ],
      "text/plain": [
       "     CO_OWNED  SOUTHJ  CENTRALJ  PA1  PA2   DEMP  nj  bk  kfc  roys  wendys  \\\n",
       "0           0       0         1    0    0  12.00   1   1    0     0       0   \n",
       "1           0       0         1    0    0   6.50   1   1    0     0       0   \n",
       "2           0       0         1    0    0  -1.00   1   0    0     1       0   \n",
       "3           1       0         0    0    0   2.25   1   0    0     1       0   \n",
       "4           0       0         0    0    0  13.00   1   1    0     0       0   \n",
       "..        ...     ...       ...  ...  ...    ...  ..  ..  ...   ...     ...   \n",
       "815         1       0         0    0    1  -2.50   0   0    0     1       0   \n",
       "816         0       0         0    0    1  16.00   0   0    0     1       0   \n",
       "817         1       0         0    0    1 -10.25   0   0    0     1       0   \n",
       "818         0       0         0    1    0  -1.50   0   1    0     0       0   \n",
       "819         0       0         0    1    0  -3.50   0   1    0     0       0   \n",
       "\n",
       "     d  d_nj    fte  \n",
       "0    0     0  15.00  \n",
       "1    0     0  15.00  \n",
       "2    0     0  24.00  \n",
       "3    0     0  19.25  \n",
       "4    0     0  21.50  \n",
       "..  ..   ...    ...  \n",
       "815  1     0  12.50  \n",
       "816  1     0  34.00  \n",
       "817  1     0  10.00  \n",
       "818  1     0  14.00  \n",
       "819  1     0  17.50  \n",
       "\n",
       "[820 rows x 14 columns]"
      ]
     },
     "execution_count": 11,
     "metadata": {},
     "output_type": "execute_result"
    }
   ],
   "source": [
    "\n",
    "data = pd.read_csv('njmin3.csv', sep=';')\n",
    "data"
   ]
  },
  {
   "cell_type": "code",
   "execution_count": 12,
   "id": "9f21e2e4",
   "metadata": {},
   "outputs": [
    {
     "data": {
      "text/html": [
       "<div>\n",
       "<style scoped>\n",
       "    .dataframe tbody tr th:only-of-type {\n",
       "        vertical-align: middle;\n",
       "    }\n",
       "\n",
       "    .dataframe tbody tr th {\n",
       "        vertical-align: top;\n",
       "    }\n",
       "\n",
       "    .dataframe thead th {\n",
       "        text-align: right;\n",
       "    }\n",
       "</style>\n",
       "<table border=\"1\" class=\"dataframe\">\n",
       "  <thead>\n",
       "    <tr style=\"text-align: right;\">\n",
       "      <th></th>\n",
       "      <th>CO_OWNED</th>\n",
       "      <th>SOUTHJ</th>\n",
       "      <th>CENTRALJ</th>\n",
       "      <th>PA1</th>\n",
       "      <th>PA2</th>\n",
       "      <th>DEMP</th>\n",
       "      <th>nj</th>\n",
       "      <th>bk</th>\n",
       "      <th>kfc</th>\n",
       "      <th>roys</th>\n",
       "      <th>wendys</th>\n",
       "      <th>d</th>\n",
       "      <th>d_nj</th>\n",
       "      <th>fte</th>\n",
       "    </tr>\n",
       "  </thead>\n",
       "  <tbody>\n",
       "    <tr>\n",
       "      <th>count</th>\n",
       "      <td>820.000000</td>\n",
       "      <td>820.000000</td>\n",
       "      <td>820.000000</td>\n",
       "      <td>820.000000</td>\n",
       "      <td>820.000000</td>\n",
       "      <td>768.000000</td>\n",
       "      <td>820.000000</td>\n",
       "      <td>820.000000</td>\n",
       "      <td>820.000000</td>\n",
       "      <td>820.000000</td>\n",
       "      <td>820.000000</td>\n",
       "      <td>820.000000</td>\n",
       "      <td>820.000000</td>\n",
       "      <td>794.000000</td>\n",
       "    </tr>\n",
       "    <tr>\n",
       "      <th>mean</th>\n",
       "      <td>0.343902</td>\n",
       "      <td>0.226829</td>\n",
       "      <td>0.153659</td>\n",
       "      <td>0.087805</td>\n",
       "      <td>0.104878</td>\n",
       "      <td>-0.070443</td>\n",
       "      <td>0.807317</td>\n",
       "      <td>0.417073</td>\n",
       "      <td>0.195122</td>\n",
       "      <td>0.241463</td>\n",
       "      <td>0.146341</td>\n",
       "      <td>0.500000</td>\n",
       "      <td>0.403659</td>\n",
       "      <td>21.026511</td>\n",
       "    </tr>\n",
       "    <tr>\n",
       "      <th>std</th>\n",
       "      <td>0.475299</td>\n",
       "      <td>0.419037</td>\n",
       "      <td>0.360841</td>\n",
       "      <td>0.283184</td>\n",
       "      <td>0.306583</td>\n",
       "      <td>9.016441</td>\n",
       "      <td>0.394647</td>\n",
       "      <td>0.493376</td>\n",
       "      <td>0.396536</td>\n",
       "      <td>0.428232</td>\n",
       "      <td>0.353664</td>\n",
       "      <td>0.500305</td>\n",
       "      <td>0.490930</td>\n",
       "      <td>9.422746</td>\n",
       "    </tr>\n",
       "    <tr>\n",
       "      <th>min</th>\n",
       "      <td>0.000000</td>\n",
       "      <td>0.000000</td>\n",
       "      <td>0.000000</td>\n",
       "      <td>0.000000</td>\n",
       "      <td>0.000000</td>\n",
       "      <td>-41.500000</td>\n",
       "      <td>0.000000</td>\n",
       "      <td>0.000000</td>\n",
       "      <td>0.000000</td>\n",
       "      <td>0.000000</td>\n",
       "      <td>0.000000</td>\n",
       "      <td>0.000000</td>\n",
       "      <td>0.000000</td>\n",
       "      <td>0.000000</td>\n",
       "    </tr>\n",
       "    <tr>\n",
       "      <th>25%</th>\n",
       "      <td>0.000000</td>\n",
       "      <td>0.000000</td>\n",
       "      <td>0.000000</td>\n",
       "      <td>0.000000</td>\n",
       "      <td>0.000000</td>\n",
       "      <td>-4.000000</td>\n",
       "      <td>1.000000</td>\n",
       "      <td>0.000000</td>\n",
       "      <td>0.000000</td>\n",
       "      <td>0.000000</td>\n",
       "      <td>0.000000</td>\n",
       "      <td>0.000000</td>\n",
       "      <td>0.000000</td>\n",
       "      <td>14.500000</td>\n",
       "    </tr>\n",
       "    <tr>\n",
       "      <th>50%</th>\n",
       "      <td>0.000000</td>\n",
       "      <td>0.000000</td>\n",
       "      <td>0.000000</td>\n",
       "      <td>0.000000</td>\n",
       "      <td>0.000000</td>\n",
       "      <td>0.000000</td>\n",
       "      <td>1.000000</td>\n",
       "      <td>0.000000</td>\n",
       "      <td>0.000000</td>\n",
       "      <td>0.000000</td>\n",
       "      <td>0.000000</td>\n",
       "      <td>0.500000</td>\n",
       "      <td>0.000000</td>\n",
       "      <td>20.000000</td>\n",
       "    </tr>\n",
       "    <tr>\n",
       "      <th>75%</th>\n",
       "      <td>1.000000</td>\n",
       "      <td>0.000000</td>\n",
       "      <td>0.000000</td>\n",
       "      <td>0.000000</td>\n",
       "      <td>0.000000</td>\n",
       "      <td>4.000000</td>\n",
       "      <td>1.000000</td>\n",
       "      <td>1.000000</td>\n",
       "      <td>0.000000</td>\n",
       "      <td>0.000000</td>\n",
       "      <td>0.000000</td>\n",
       "      <td>1.000000</td>\n",
       "      <td>1.000000</td>\n",
       "      <td>25.500000</td>\n",
       "    </tr>\n",
       "    <tr>\n",
       "      <th>max</th>\n",
       "      <td>1.000000</td>\n",
       "      <td>1.000000</td>\n",
       "      <td>1.000000</td>\n",
       "      <td>1.000000</td>\n",
       "      <td>1.000000</td>\n",
       "      <td>34.000000</td>\n",
       "      <td>1.000000</td>\n",
       "      <td>1.000000</td>\n",
       "      <td>1.000000</td>\n",
       "      <td>1.000000</td>\n",
       "      <td>1.000000</td>\n",
       "      <td>1.000000</td>\n",
       "      <td>1.000000</td>\n",
       "      <td>85.000000</td>\n",
       "    </tr>\n",
       "  </tbody>\n",
       "</table>\n",
       "</div>"
      ],
      "text/plain": [
       "         CO_OWNED      SOUTHJ    CENTRALJ         PA1         PA2        DEMP  \\\n",
       "count  820.000000  820.000000  820.000000  820.000000  820.000000  768.000000   \n",
       "mean     0.343902    0.226829    0.153659    0.087805    0.104878   -0.070443   \n",
       "std      0.475299    0.419037    0.360841    0.283184    0.306583    9.016441   \n",
       "min      0.000000    0.000000    0.000000    0.000000    0.000000  -41.500000   \n",
       "25%      0.000000    0.000000    0.000000    0.000000    0.000000   -4.000000   \n",
       "50%      0.000000    0.000000    0.000000    0.000000    0.000000    0.000000   \n",
       "75%      1.000000    0.000000    0.000000    0.000000    0.000000    4.000000   \n",
       "max      1.000000    1.000000    1.000000    1.000000    1.000000   34.000000   \n",
       "\n",
       "               nj          bk         kfc        roys      wendys           d  \\\n",
       "count  820.000000  820.000000  820.000000  820.000000  820.000000  820.000000   \n",
       "mean     0.807317    0.417073    0.195122    0.241463    0.146341    0.500000   \n",
       "std      0.394647    0.493376    0.396536    0.428232    0.353664    0.500305   \n",
       "min      0.000000    0.000000    0.000000    0.000000    0.000000    0.000000   \n",
       "25%      1.000000    0.000000    0.000000    0.000000    0.000000    0.000000   \n",
       "50%      1.000000    0.000000    0.000000    0.000000    0.000000    0.500000   \n",
       "75%      1.000000    1.000000    0.000000    0.000000    0.000000    1.000000   \n",
       "max      1.000000    1.000000    1.000000    1.000000    1.000000    1.000000   \n",
       "\n",
       "             d_nj         fte  \n",
       "count  820.000000  794.000000  \n",
       "mean     0.403659   21.026511  \n",
       "std      0.490930    9.422746  \n",
       "min      0.000000    0.000000  \n",
       "25%      0.000000   14.500000  \n",
       "50%      0.000000   20.000000  \n",
       "75%      1.000000   25.500000  \n",
       "max      1.000000   85.000000  "
      ]
     },
     "execution_count": 12,
     "metadata": {},
     "output_type": "execute_result"
    }
   ],
   "source": [
    "data.describe()"
   ]
  },
  {
   "cell_type": "markdown",
   "id": "14bfa047",
   "metadata": {},
   "source": [
    "Model "
   ]
  },
  {
   "cell_type": "code",
   "execution_count": 17,
   "id": "d6363de1",
   "metadata": {},
   "outputs": [
    {
     "name": "stdout",
     "output_type": "stream",
     "text": [
      "                            OLS Regression Results                            \n",
      "==============================================================================\n",
      "Dep. Variable:                    fte   R-squared:                       0.219\n",
      "Model:                            OLS   Adj. R-squared:                  0.211\n",
      "Method:                 Least Squares   F-statistic:                     27.47\n",
      "Date:                Sat, 21 May 2022   Prob (F-statistic):           9.44e-38\n",
      "Time:                        16:08:37   Log-Likelihood:                -2809.2\n",
      "No. Observations:                 794   AIC:                             5636.\n",
      "Df Residuals:                     785   BIC:                             5679.\n",
      "Df Model:                           8                                         \n",
      "Covariance Type:            nonrobust                                         \n",
      "==============================================================================\n",
      "                 coef    std err          t      P>|t|      [0.025      0.975]\n",
      "------------------------------------------------------------------------------\n",
      "Intercept     24.3532      0.601     40.549      0.000      23.174      25.532\n",
      "d_nj           0.6401      0.630      1.016      0.310      -0.597       1.877\n",
      "kfc          -10.0556      0.845    -11.899      0.000     -11.714      -8.397\n",
      "roys          -1.7036      0.858     -1.985      0.048      -3.389      -0.019\n",
      "CO_OWNED      -0.7064      0.719     -0.983      0.326      -2.117       0.704\n",
      "wendys        -1.0349      0.921     -1.124      0.261      -2.842       0.772\n",
      "SOUTHJ        -3.6672      0.755     -4.857      0.000      -5.149      -2.185\n",
      "CENTRALJ       0.0452      0.878      0.052      0.959      -1.677       1.768\n",
      "PA1            0.7740      1.130      0.685      0.494      -1.444       2.992\n",
      "==============================================================================\n",
      "Omnibus:                      296.588   Durbin-Watson:                   2.041\n",
      "Prob(Omnibus):                  0.000   Jarque-Bera (JB):             1861.874\n",
      "Skew:                           1.553   Prob(JB):                         0.00\n",
      "Kurtosis:                       9.828   Cond. No.                         5.17\n",
      "==============================================================================\n",
      "\n",
      "Notes:\n",
      "[1] Standard Errors assume that the covariance matrix of the errors is correctly specified.\n"
     ]
    }
   ],
   "source": [
    "model = smf.ols(formula = \"fte ~ d_nj + kfc + roys+ CO_OWNED + wendys + SOUTHJ + CENTRALJ + PA1\", data = data).fit()\n",
    "print(model.summary())"
   ]
  },
  {
   "cell_type": "code",
   "execution_count": 21,
   "id": "d503636e",
   "metadata": {},
   "outputs": [
    {
     "data": {
      "text/plain": [
       "[20.439408099688475,\n",
       " 21.02742946708464,\n",
       " 23.33116883116883,\n",
       " 21.165584415584416,\n",
       " 17.547647368208118]"
      ]
     },
     "execution_count": 21,
     "metadata": {},
     "output_type": "execute_result"
    }
   ],
   "source": [
    "# New Jersey Before and after\n",
    "NJ_before = data.loc[(data['nj']==1) & (data['d']!=1),'fte'].mean()\n",
    "NJ_after  = data.loc[(data['nj']==1) & (data['d']==1),'fte'].mean()\n",
    "\n",
    "# Philadelfia Before and after\n",
    "PA_before = data.loc[(data['nj']!=1) & (data['d']!=1),'fte'].mean()\n",
    "PA_after  = data.loc[(data['nj']!=1) & (data['d']==1),'fte'].mean()\n",
    "\n",
    "# New Jersey counterfactual (if no treatment)\n",
    "NJ_counterfactual = NJ_before + ( NJ_before - PA_before )\n",
    "\n",
    "[NJ_before, NJ_after,\n",
    " PA_before,PA_after, NJ_counterfactual]"
   ]
  },
  {
   "cell_type": "markdown",
   "id": "72297a02",
   "metadata": {},
   "source": [
    "Plot: Difference-in-difference: Before and After "
   ]
  },
  {
   "cell_type": "code",
   "execution_count": 25,
   "id": "931dbd31",
   "metadata": {},
   "outputs": [
    {
     "data": {
      "text/plain": [
       "Text(0.5, 1.0, 'Difference-in-difference: Before and After')"
      ]
     },
     "execution_count": 25,
     "metadata": {},
     "output_type": "execute_result"
    },
    {
     "data": {
      "text/plain": [
       "<Figure size 320x240 with 0 Axes>"
      ]
     },
     "metadata": {},
     "output_type": "display_data"
    },
    {
     "data": {
      "image/png": "[encoded data removed]",
      "text/plain": [
       "<Figure size 432x288 with 1 Axes>"
      ]
     },
     "metadata": {
      "needs_background": "light"
     },
     "output_type": "display_data"
    }
   ],
   "source": [
    "plt.figure(num=None, figsize=(4, 3), dpi=80, facecolor='w', edgecolor='k')\n",
    "fig, ax = plt.subplots()\n",
    "lineNJ, = ax.plot(['0', '1'], [NJ_before, NJ_after],color='grey',label='NJ before and after')\n",
    "linePA, = ax.plot(['0', '1'], [PA_before, PA_after],color = 'yellow',label = 'PA before and after')\n",
    "lineNJ0, = ax.plot(['0', '1'], [NJ_before, NJ_counterfactual],color = 'blue',linestyle='dashed',label='NJ counterfactual')\n",
    "ax.legend()\n",
    "plt.ylim(15, 28)  \n",
    "plt.title(\"Difference-in-difference: Before and After\", fontsize=\"8\")"
   ]
  },
  {
   "cell_type": "markdown",
   "id": "e9064eac",
   "metadata": {},
   "source": [
    "Questions"
   ]
  },
  {
   "cell_type": "markdown",
   "id": "d919573e",
   "metadata": {},
   "source": [
    "8.1: Does the minimum wage have an impact on employment?"
   ]
  },
  {
   "cell_type": "markdown",
   "id": "65079e3b",
   "metadata": {},
   "source": [
    "To answer this question we must make use of the analysis done by David Card and Alan Krueguer. They concluded that an increase in this minimum wage in the state of New Jersey had no impact on employment, as it did not reduce employment in fast food restaurants in the region. However, this result cannot be generalized to all industries."
   ]
  },
  {
   "cell_type": "markdown",
   "id": "ca4804aa",
   "metadata": {},
   "source": [
    "8.2: What is the difference and difference method and explain in detail using figures and/or equations?"
   ]
  },
  {
   "cell_type": "markdown",
   "id": "c017e3f3",
   "metadata": {},
   "source": [
    "The difference-in-differences design is a very popular research design in the quantitative social sciences and an early quasi-experimental identification technique used to estimate causal effects that precedes the randomized experiment by long periods of time."
   ]
  },
  {
   "cell_type": "markdown",
   "id": "678ff936",
   "metadata": {},
   "source": [
    "Equation"
   ]
  },
  {
   "cell_type": "code",
   "execution_count": 27,
   "id": "6e648d1c",
   "metadata": {},
   "outputs": [
    {
     "data": {
      "text/html": [
       "<div>\n",
       "<style scoped>\n",
       "    .dataframe tbody tr th:only-of-type {\n",
       "        vertical-align: middle;\n",
       "    }\n",
       "\n",
       "    .dataframe tbody tr th {\n",
       "        vertical-align: top;\n",
       "    }\n",
       "\n",
       "    .dataframe thead th {\n",
       "        text-align: right;\n",
       "    }\n",
       "</style>\n",
       "<table border=\"1\" class=\"dataframe\">\n",
       "  <thead>\n",
       "    <tr style=\"text-align: right;\">\n",
       "      <th></th>\n",
       "      <th>Groups</th>\n",
       "      <th>Before</th>\n",
       "      <th>After</th>\n",
       "    </tr>\n",
       "  </thead>\n",
       "  <tbody>\n",
       "    <tr>\n",
       "      <th>0</th>\n",
       "      <td>Tratment group</td>\n",
       "      <td>X1</td>\n",
       "      <td>X2</td>\n",
       "    </tr>\n",
       "    <tr>\n",
       "      <th>1</th>\n",
       "      <td>Control group</td>\n",
       "      <td>Y1</td>\n",
       "      <td>Y2</td>\n",
       "    </tr>\n",
       "    <tr>\n",
       "      <th>2</th>\n",
       "      <td>Difference in differences</td>\n",
       "      <td></td>\n",
       "      <td></td>\n",
       "    </tr>\n",
       "  </tbody>\n",
       "</table>\n",
       "</div>"
      ],
      "text/plain": [
       "                      Groups Before After\n",
       "0             Tratment group     X1    X2\n",
       "1              Control group     Y1    Y2\n",
       "2  Difference in differences             "
      ]
     },
     "metadata": {},
     "output_type": "display_data"
    }
   ],
   "source": [
    "dataframe = pd.DataFrame()\n",
    "\n",
    "dataframe['Groups'] = ['Tratment group', 'Control group', 'Difference in differences']\n",
    "dataframe['Before'] = ['X1', 'Y1', '']\n",
    "dataframe['After'] = ['X2', 'Y2', '']\n",
    "display(dataframe)"
   ]
  },
  {
   "cell_type": "markdown",
   "id": "8cfbaca3",
   "metadata": {},
   "source": [
    "8.3: How this method is used to calculate the impact of minimum wage on employment?"
   ]
  },
  {
   "cell_type": "markdown",
   "id": "69d17117",
   "metadata": {},
   "source": [
    "This method of difference and difference helps us to study the impact of the minimum wage on employment in this case because it allows us to focus it on a certain period of time. In addition, this allowed us to assess the effects of fluctuations in salary."
   ]
  }
 ],
 "metadata": {
  "kernelspec": {
   "display_name": "Python 3 (ipykernel)",
   "language": "python",
   "name": "python3"
  },
  "language_info": {
   "codemirror_mode": {
    "name": "ipython",
    "version": 3
   },
   "file_extension": ".py",
   "mimetype": "text/x-python",
   "name": "python",
   "nbconvert_exporter": "python",
   "pygments_lexer": "ipython3",
   "version": "3.9.7"
  }
 },
 "nbformat": 4,
 "nbformat_minor": 5
}
