{
 "cells": [
  {
   "cell_type": "markdown",
   "id": "236d7b7e",
   "metadata": {},
   "source": [
    "# Mid Term Exam"
   ]
  },
  {
   "cell_type": "markdown",
   "id": "948abf13",
   "metadata": {},
   "source": [
    "Alessa Camila Garcia Garcia\n",
    "20171501"
   ]
  },
  {
   "cell_type": "markdown",
   "id": "dfde341b",
   "metadata": {},
   "source": [
    "EXERCISE 1. \n",
    "What is Poldan’s GDP?\n",
    "\n",
    "total GDP= GDPpercapita * total population\n",
    "Answer: Poldan’s GDP is 2712500000000"
   ]
  },
  {
   "cell_type": "code",
   "execution_count": 3,
   "id": "eaf0a556",
   "metadata": {},
   "outputs": [
    {
     "data": {
      "text/plain": [
       "2712500000000"
      ]
     },
     "execution_count": 3,
     "metadata": {},
     "output_type": "execute_result"
    }
   ],
   "source": [
    "15500*175000000"
   ]
  },
  {
   "cell_type": "markdown",
   "id": "02f2f5a2",
   "metadata": {},
   "source": [
    "What is the number of employed people in Poldan?\n",
    "\n",
    "N Employed people=total GDP/ GDP per worker\n",
    "Answer: the number of people employed in Poldan is aproximate 92999998"
   ]
  },
  {
   "cell_type": "code",
   "execution_count": 6,
   "id": "fd0a62b8",
   "metadata": {},
   "outputs": [
    {
     "data": {
      "text/plain": [
       "92999998.93714286"
      ]
     },
     "execution_count": 6,
     "metadata": {},
     "output_type": "execute_result"
    }
   ],
   "source": [
    "2712500000000/29166.667"
   ]
  },
  {
   "cell_type": "markdown",
   "id": "03c05904",
   "metadata": {},
   "source": [
    "EXERCISE 2.\n",
    "What is Manyger’s GDP per capita?\n",
    "\n",
    "GDPpercapita= total GDP/total population\n",
    "\n",
    "Answer: Manyger’s GDP per capita is 24719101.123595506"
   ]
  },
  {
   "cell_type": "code",
   "execution_count": 7,
   "id": "5267c3b3",
   "metadata": {},
   "outputs": [
    {
     "data": {
      "text/plain": [
       "24719101.123595506"
      ]
     },
     "execution_count": 7,
     "metadata": {},
     "output_type": "execute_result"
    }
   ],
   "source": [
    "2200000000000000/89000000"
   ]
  },
  {
   "cell_type": "markdown",
   "id": "e6483e84",
   "metadata": {},
   "source": [
    "What is Manyger’s GDP per worker?\n",
    "\n",
    "GDPperworker=totalGDP/total employed people\n",
    "\n",
    "Answer: Manyger’s GDP per worker is 43137254.90196078"
   ]
  },
  {
   "cell_type": "code",
   "execution_count": 9,
   "id": "fa8ff869",
   "metadata": {},
   "outputs": [
    {
     "data": {
      "text/plain": [
       "43137254.90196078"
      ]
     },
     "execution_count": 9,
     "metadata": {},
     "output_type": "execute_result"
    }
   ],
   "source": [
    "2200000000000000/51000000"
   ]
  },
  {
   "cell_type": "markdown",
   "id": "0fe4085e",
   "metadata": {},
   "source": [
    "Based on the given information, which country would be considered more productive? Explain your answer.\n",
    "\n",
    "The most productive country should be the one with more tools, indeed the one with higher GDP per worker, which in this case is  Manyger. "
   ]
  },
  {
   "cell_type": "markdown",
   "id": "8c54e8c0",
   "metadata": {},
   "source": [
    "Which country do you think has higher living standards?\n",
    "\n",
    "The country with higher living standars is the one with higher GDP per capita then it should be also Manyger, with 24719101.123595506"
   ]
  },
  {
   "cell_type": "markdown",
   "id": "6ad92395",
   "metadata": {},
   "source": [
    "EXERCISE 3.\n",
    "In this question, we will use what you learned in Lectures 3 and 4 to compare the performance of an economy in two different time periods, as its physical capital stock and efficiency units of labor change.\n",
    "---Suppose that from period 1 to period 2, the unemployment rate in the economy decreases. Everything else remains unchanged. What happens to the total efficiency units of labor? Express your results formally as an inequality, using the formula for total efficiency units of labor presented in the chapter (in particular, recall that total efficiency units of labor in two periods can be written as H1 = L1 * h1 and H2 = L2 * h2; where L is the total number of employed workers).\n",
    "\n",
    "Answer:\n",
    "Unemployed rate= (unemployed people/ labor force )*100\n",
    "H1 = L1 * h1\n",
    "L:total number of workers\n",
    "h: worked hours \n",
    "When the unemployment rate decreases it means more people are employed if thats the case people would earn less.\n",
    "H1 = L1 * h1 / L1 auments usually the salary would also reduce, but if everything remains it would mean that as there is more people working, the total efficiency units of labor would increace\n",
    "\n",
    "\n",
    "-What are the consequences of this decrease in unemployment for GDP? Express your results formally as an inequality, using the aggregate production function presented in the chapter.\n",
    "\n",
    "Answer:\n",
    "Agregate production formula=Tecnology *Physical capital(1/3)* efficiency units of labor(2/3)\n",
    "In this context if the unemployment decrease it also means that efficiency units of labor would increase then the agregate production should also present a increase\n",
    "= 9(1/3)* 9(2/3)= 9 \n",
    "= 9(1/3)* 64(2/3)= 48   \n",
    "\n",
    "\n",
    "\n",
    "-What are the consequences for GDP per capita and GDP per worker?\n",
    "Suppose that there is a technological advance from period 1 to period 2 and, at the same time, an increase in physical capital stock? Can you say whether GDP will increase or decrease? Why or why not?\n",
    "\n",
    "GDPpercapita= total GDP/total population\n",
    "GDPperworker=totalGDP/total employed people\n",
    "\n",
    "Answer:\n",
    "As the employment raises, and the total efficiency units of labor increase, it also should affect the GDP per capita, causing it increase, but about GDP per worker, depending of how much the GDP and employed people increases, the GDP per worker could remain the same, or be reduced."
   ]
  },
  {
   "cell_type": "markdown",
   "id": "ed821faf",
   "metadata": {},
   "source": [
    "EXERCISE 4\n",
    "(2 points) Currently, some of the fastest-growing countries in the world remain desperately poor. For example, of the top five fastest-growing economies in 2016, three—Iraq, Burma, and Nauru—had real per capita GDPs that are 101st, 162nd, and 112th in the world, respectively. (Source: CIA, The World Factbook estimates for 2016, PPP basis.) This seems like something of a contradiction. Using the equations for growth given in lectures 3 & 4, explain why a country that has a very low real per capita GDP can also have a very high growth rate.\n",
    "\n",
    "As we read GDP itself is a good indicator of how happy is the people with their country's lifestyle, that can be true, but also it does not mean that is always the case, GDP does not have in count wealth distribution, so while the country GDP can growth, it does not necesarily mean that this growth is going to reach every citizen in the country, Iraq, Burma, and Nauru are good examples of how this inequality works."
   ]
  },
  {
   "cell_type": "markdown",
   "id": "e26622cf",
   "metadata": {},
   "source": [
    "EXERCISE 5\n",
    "(2 Points) Increasingly, independent programmers are making their code “open source.” The programming language “Python,” for example, is completely free and open; anyone can submit a new package of specialized functions. How might open-source technology affect growth in developing countries? Imagine every technology company in the United States suddenly made their code open-source; would this increase growth in developing countries? Explain.\n",
    "\n",
    "While we can never assure how would an action effect, we can say that the open sources as Phyton are pretty new for anyone, and while we would have to calculate how many people are actually able to use or learn it in developing countries, in short term it would affect how big enterprises works as data analysis have always been important and elite universities. In long term i believe it would became part of how goverments work."
   ]
  },
  {
   "cell_type": "markdown",
   "id": "9fdc268f",
   "metadata": {},
   "source": [
    "EXERCISE 6\n",
    "(3 Points) The following table shows the employment level, unemployment level, and the labor force participation rate in Greece for the month of March of every year from 2008 to 2020. Use the given data to complete the table and answer the following questions. (Note: All rates are in percent.) Fill the table using Python. And answer the questions below.\n",
    "\n",
    "As the following formulas are \n",
    "Unemployment rate=(unemployed people /labor force)*100%\n",
    "labor force= Employed + Unemployed\n",
    "the result should be per year\n",
    "(Labor force is in thousands)"
   ]
  },
  {
   "cell_type": "code",
   "execution_count": null,
   "id": "cb4051f5",
   "metadata": {},
   "outputs": [],
   "source": [
    "Year 2008: Labor force is 4991.5/ Unemployment rate is 0.09097465691 *100 = 9,1% / Employment rate is 90,9% aprox"
   ]
  },
  {
   "cell_type": "code",
   "execution_count": null,
   "id": "1b6af9ac",
   "metadata": {},
   "outputs": [],
   "source": [
    "Year 2009: Labor force is 5010.6/ Unemployment rate is 0.09481898375 *100 = 9,5% / Employment rate is 90,5% aprox"
   ]
  },
  {
   "cell_type": "code",
   "execution_count": null,
   "id": "c7d37515",
   "metadata": {},
   "outputs": [],
   "source": [
    "Year 2010: Labor force is 5027.0/ Unemployment rate is 0.11834095882 *100 = 11,8% / Employment rate is 88,2% aprox"
   ]
  },
  {
   "cell_type": "code",
   "execution_count": null,
   "id": "2c663b54",
   "metadata": {},
   "outputs": [],
   "source": [
    "Year 2011: Labor force is 4954.3/ Unemployment rate is 0.1671880992 *100 = 16,7% / Employment rate is 83,2% aprox"
   ]
  },
  {
   "cell_type": "code",
   "execution_count": null,
   "id": "24846604",
   "metadata": {},
   "outputs": [],
   "source": [
    "Year 2012: Labor force is 4876.0/ Unemployment rate is 0.23182936833 *100 = 23,2% / Employment rate is 76,8% aprox"
   ]
  },
  {
   "cell_type": "code",
   "execution_count": null,
   "id": "d9c4523c",
   "metadata": {},
   "outputs": [],
   "source": [
    "Year 2013: Labor force is 4793.8/ Unemployment rate is 0.2717676999 *100 = 27.1% / Employment rate is 72,8% aprox"
   ]
  },
  {
   "cell_type": "code",
   "execution_count": null,
   "id": "721b34b5",
   "metadata": {},
   "outputs": [],
   "source": [
    "Year 2014: Labor force is 4839/ Unemployment rate is 0.2776193428 *100 = 27,7% / Employment rate is 72,3% aprox"
   ]
  },
  {
   "cell_type": "code",
   "execution_count": null,
   "id": "0e44c6d8",
   "metadata": {},
   "outputs": [],
   "source": [
    "Year 2015: Labor force is 4737.5/ Unemployment rate is 0.2742796833 *100 = 27,4% / Employment rate is 72,5% aprox"
   ]
  },
  {
   "cell_type": "code",
   "execution_count": null,
   "id": "6b386283",
   "metadata": {},
   "outputs": [],
   "source": [
    "Year 2016: Labor force is 4790.6/ Unemployment rate is 0.2483822485 *100 = 24,8% / Employment rate is 75,1% aprox"
   ]
  },
  {
   "cell_type": "code",
   "execution_count": null,
   "id": "dbf8a17d",
   "metadata": {},
   "outputs": [],
   "source": [
    "Year 2017: Labor force is 4748.9/ Unemployment rate is 0.227361492 *100 = 22,7% / Employment rate is 77,2% aprox"
   ]
  },
  {
   "cell_type": "code",
   "execution_count": null,
   "id": "a36c74c4",
   "metadata": {},
   "outputs": [],
   "source": [
    "Year 2018: Labor force is 4742.2/ Unemployment rate is 0.2052998397 *100 = 20,5% / Employment rate is 79,4% aprox"
   ]
  },
  {
   "cell_type": "code",
   "execution_count": null,
   "id": "0566e311",
   "metadata": {},
   "outputs": [],
   "source": [
    "Year 2019: Labor force is 4690.3/ Unemployment rate is 0.1799539475 *100 = 17,9% / Employment rate is 82,0% aprox"
   ]
  },
  {
   "cell_type": "code",
   "execution_count": null,
   "id": "b695fdcb",
   "metadata": {},
   "outputs": [],
   "source": [
    "Year 2020: Labor force is 4478.3/ Unemployment rate is 0.1485746600 *100 = 14,8% / Employment rate is 85,1% aprox"
   ]
  },
  {
   "cell_type": "markdown",
   "id": "63d79a59",
   "metadata": {},
   "source": [
    "-In which years did the economy witness increases in the unemployment rate? What could possibly explain this?\n",
    "2009, 2010, 2011, 2012, 2013, 2014 the increase is not high, employed people were less from 2009 to 2015, so it would possibly mean that there were less employers\n",
    "\n",
    "-Use the data on the size of the labor force and potential workers to compute the percentage of adults out of the labor force for the year 2017. Verify that your calculation is equal to one minus the labor force participation rate.\n",
    "\n",
    "\n",
    "-What are the general trends that you observe in the data?\n",
    "From 2009 to 2015 there was a decrease in employed people, but from 2016 to 2020 there was an increase,even thought is not enought to get back the same employment rate,apart from that the numbers do not change much.\n",
    "\n",
    "\n"
   ]
  },
  {
   "cell_type": "markdown",
   "id": "aa654345",
   "metadata": {},
   "source": [
    "EXERCISE 7\n",
    "(3 Points)Assume that 1 million immigrants enter Peru from Venezuela this year and that some of these immigrants work in the home construction industry.\n",
    "\n",
    "Answer:\n",
    "An inmigration wave would bring more workers, qualified or not, but it said that some of them work in home construction industry, if these inmigrants are not looking forward to build a house for themselves what is probably because the inmigrant wave that we have is not exactly rich or middle class, then the workers salaries of these area would decrease.\n",
    "As our total population and employed people (at least in theory) would increase, our GDP should also increase.\n",
    "GDPperworker=totalGDP/total employed people\n",
    "total GDP= GDPpercapita * total population"
   ]
  },
  {
   "cell_type": "code",
   "execution_count": null,
   "id": "0a5f0df5",
   "metadata": {},
   "outputs": [],
   "source": []
  },
  {
   "cell_type": "markdown",
   "id": "7960b75c",
   "metadata": {},
   "source": [
    "8\n",
    "(5 Points)You have to replicate the results from Card and Kruger 1994. For this, you need to read the next sources"
   ]
  },
  {
   "cell_type": "code",
   "execution_count": 160,
   "id": "be656e79",
   "metadata": {},
   "outputs": [
    {
     "data": {
      "text/html": [
       "<div>\n",
       "<style scoped>\n",
       "    .dataframe tbody tr th:only-of-type {\n",
       "        vertical-align: middle;\n",
       "    }\n",
       "\n",
       "    .dataframe tbody tr th {\n",
       "        vertical-align: top;\n",
       "    }\n",
       "\n",
       "    .dataframe thead th {\n",
       "        text-align: right;\n",
       "    }\n",
       "</style>\n",
       "<table border=\"1\" class=\"dataframe\">\n",
       "  <thead>\n",
       "    <tr style=\"text-align: right;\">\n",
       "      <th></th>\n",
       "      <th>CO_OWNED</th>\n",
       "      <th>SOUTHJ</th>\n",
       "      <th>CENTRALJ</th>\n",
       "      <th>PA1</th>\n",
       "      <th>PA2</th>\n",
       "      <th>DEMP</th>\n",
       "      <th>nj</th>\n",
       "      <th>bk</th>\n",
       "      <th>kfc</th>\n",
       "      <th>roys</th>\n",
       "      <th>wendys</th>\n",
       "      <th>d</th>\n",
       "      <th>d_nj</th>\n",
       "      <th>fte</th>\n",
       "    </tr>\n",
       "  </thead>\n",
       "  <tbody>\n",
       "    <tr>\n",
       "      <th>0</th>\n",
       "      <td>0</td>\n",
       "      <td>0</td>\n",
       "      <td>1</td>\n",
       "      <td>0</td>\n",
       "      <td>0</td>\n",
       "      <td>12.00</td>\n",
       "      <td>1</td>\n",
       "      <td>1</td>\n",
       "      <td>0</td>\n",
       "      <td>0</td>\n",
       "      <td>0</td>\n",
       "      <td>0</td>\n",
       "      <td>0</td>\n",
       "      <td>15.00</td>\n",
       "    </tr>\n",
       "    <tr>\n",
       "      <th>1</th>\n",
       "      <td>0</td>\n",
       "      <td>0</td>\n",
       "      <td>1</td>\n",
       "      <td>0</td>\n",
       "      <td>0</td>\n",
       "      <td>6.50</td>\n",
       "      <td>1</td>\n",
       "      <td>1</td>\n",
       "      <td>0</td>\n",
       "      <td>0</td>\n",
       "      <td>0</td>\n",
       "      <td>0</td>\n",
       "      <td>0</td>\n",
       "      <td>15.00</td>\n",
       "    </tr>\n",
       "    <tr>\n",
       "      <th>2</th>\n",
       "      <td>0</td>\n",
       "      <td>0</td>\n",
       "      <td>1</td>\n",
       "      <td>0</td>\n",
       "      <td>0</td>\n",
       "      <td>-1.00</td>\n",
       "      <td>1</td>\n",
       "      <td>0</td>\n",
       "      <td>0</td>\n",
       "      <td>1</td>\n",
       "      <td>0</td>\n",
       "      <td>0</td>\n",
       "      <td>0</td>\n",
       "      <td>24.00</td>\n",
       "    </tr>\n",
       "    <tr>\n",
       "      <th>3</th>\n",
       "      <td>1</td>\n",
       "      <td>0</td>\n",
       "      <td>0</td>\n",
       "      <td>0</td>\n",
       "      <td>0</td>\n",
       "      <td>2.25</td>\n",
       "      <td>1</td>\n",
       "      <td>0</td>\n",
       "      <td>0</td>\n",
       "      <td>1</td>\n",
       "      <td>0</td>\n",
       "      <td>0</td>\n",
       "      <td>0</td>\n",
       "      <td>19.25</td>\n",
       "    </tr>\n",
       "    <tr>\n",
       "      <th>4</th>\n",
       "      <td>0</td>\n",
       "      <td>0</td>\n",
       "      <td>0</td>\n",
       "      <td>0</td>\n",
       "      <td>0</td>\n",
       "      <td>13.00</td>\n",
       "      <td>1</td>\n",
       "      <td>1</td>\n",
       "      <td>0</td>\n",
       "      <td>0</td>\n",
       "      <td>0</td>\n",
       "      <td>0</td>\n",
       "      <td>0</td>\n",
       "      <td>21.50</td>\n",
       "    </tr>\n",
       "    <tr>\n",
       "      <th>...</th>\n",
       "      <td>...</td>\n",
       "      <td>...</td>\n",
       "      <td>...</td>\n",
       "      <td>...</td>\n",
       "      <td>...</td>\n",
       "      <td>...</td>\n",
       "      <td>...</td>\n",
       "      <td>...</td>\n",
       "      <td>...</td>\n",
       "      <td>...</td>\n",
       "      <td>...</td>\n",
       "      <td>...</td>\n",
       "      <td>...</td>\n",
       "      <td>...</td>\n",
       "    </tr>\n",
       "    <tr>\n",
       "      <th>815</th>\n",
       "      <td>1</td>\n",
       "      <td>0</td>\n",
       "      <td>0</td>\n",
       "      <td>0</td>\n",
       "      <td>1</td>\n",
       "      <td>-2.50</td>\n",
       "      <td>0</td>\n",
       "      <td>0</td>\n",
       "      <td>0</td>\n",
       "      <td>1</td>\n",
       "      <td>0</td>\n",
       "      <td>1</td>\n",
       "      <td>0</td>\n",
       "      <td>12.50</td>\n",
       "    </tr>\n",
       "    <tr>\n",
       "      <th>816</th>\n",
       "      <td>0</td>\n",
       "      <td>0</td>\n",
       "      <td>0</td>\n",
       "      <td>0</td>\n",
       "      <td>1</td>\n",
       "      <td>16.00</td>\n",
       "      <td>0</td>\n",
       "      <td>0</td>\n",
       "      <td>0</td>\n",
       "      <td>1</td>\n",
       "      <td>0</td>\n",
       "      <td>1</td>\n",
       "      <td>0</td>\n",
       "      <td>34.00</td>\n",
       "    </tr>\n",
       "    <tr>\n",
       "      <th>817</th>\n",
       "      <td>1</td>\n",
       "      <td>0</td>\n",
       "      <td>0</td>\n",
       "      <td>0</td>\n",
       "      <td>1</td>\n",
       "      <td>-10.25</td>\n",
       "      <td>0</td>\n",
       "      <td>0</td>\n",
       "      <td>0</td>\n",
       "      <td>1</td>\n",
       "      <td>0</td>\n",
       "      <td>1</td>\n",
       "      <td>0</td>\n",
       "      <td>10.00</td>\n",
       "    </tr>\n",
       "    <tr>\n",
       "      <th>818</th>\n",
       "      <td>0</td>\n",
       "      <td>0</td>\n",
       "      <td>0</td>\n",
       "      <td>1</td>\n",
       "      <td>0</td>\n",
       "      <td>-1.50</td>\n",
       "      <td>0</td>\n",
       "      <td>1</td>\n",
       "      <td>0</td>\n",
       "      <td>0</td>\n",
       "      <td>0</td>\n",
       "      <td>1</td>\n",
       "      <td>0</td>\n",
       "      <td>14.00</td>\n",
       "    </tr>\n",
       "    <tr>\n",
       "      <th>819</th>\n",
       "      <td>0</td>\n",
       "      <td>0</td>\n",
       "      <td>0</td>\n",
       "      <td>1</td>\n",
       "      <td>0</td>\n",
       "      <td>-3.50</td>\n",
       "      <td>0</td>\n",
       "      <td>1</td>\n",
       "      <td>0</td>\n",
       "      <td>0</td>\n",
       "      <td>0</td>\n",
       "      <td>1</td>\n",
       "      <td>0</td>\n",
       "      <td>17.50</td>\n",
       "    </tr>\n",
       "  </tbody>\n",
       "</table>\n",
       "<p>820 rows × 14 columns</p>\n",
       "</div>"
      ],
      "text/plain": [
       "     CO_OWNED  SOUTHJ  CENTRALJ  PA1  PA2   DEMP  nj  bk  kfc  roys  wendys  \\\n",
       "0           0       0         1    0    0  12.00   1   1    0     0       0   \n",
       "1           0       0         1    0    0   6.50   1   1    0     0       0   \n",
       "2           0       0         1    0    0  -1.00   1   0    0     1       0   \n",
       "3           1       0         0    0    0   2.25   1   0    0     1       0   \n",
       "4           0       0         0    0    0  13.00   1   1    0     0       0   \n",
       "..        ...     ...       ...  ...  ...    ...  ..  ..  ...   ...     ...   \n",
       "815         1       0         0    0    1  -2.50   0   0    0     1       0   \n",
       "816         0       0         0    0    1  16.00   0   0    0     1       0   \n",
       "817         1       0         0    0    1 -10.25   0   0    0     1       0   \n",
       "818         0       0         0    1    0  -1.50   0   1    0     0       0   \n",
       "819         0       0         0    1    0  -3.50   0   1    0     0       0   \n",
       "\n",
       "     d  d_nj    fte  \n",
       "0    0     0  15.00  \n",
       "1    0     0  15.00  \n",
       "2    0     0  24.00  \n",
       "3    0     0  19.25  \n",
       "4    0     0  21.50  \n",
       "..  ..   ...    ...  \n",
       "815  1     0  12.50  \n",
       "816  1     0  34.00  \n",
       "817  1     0  10.00  \n",
       "818  1     0  14.00  \n",
       "819  1     0  17.50  \n",
       "\n",
       "[820 rows x 14 columns]"
      ]
     },
     "execution_count": 160,
     "metadata": {},
     "output_type": "execute_result"
    }
   ],
   "source": [
    "import pandas as pd\n",
    "import matplotlib.pyplot as plt   \n",
    "import warnings\n",
    "import numpy as np\n",
    "import seaborn as sns\n",
    "import statistics\n",
    "import statsmodels.formula.api as smf \n",
    "import statsmodels.api as sm\n",
    "\n",
    "\n",
    "df = \"C:/Users/DELL/Desktop/njmin3.xlsx\"\n",
    "pd.read_excel(df)"
   ]
  },
  {
   "cell_type": "code",
   "execution_count": null,
   "id": "fb21e738",
   "metadata": {},
   "outputs": [
    {
     "name": "stdout",
     "output_type": "stream",
     "text": [
      "ERROR! Session/line number was not unique in database. History logging moved to new session 83\n"
     ]
    }
   ],
   "source": [
    "M= smf.ols(formula=\"fte~ d_nj+kfc+ roys+ CO_OWNED+ SOUTHJ +wendys+ CENTRALJ + PA1\", data = df).fit()\n",
    "print(M.summary())"
   ]
  },
  {
   "cell_type": "code",
   "execution_count": 161,
   "id": "4921ebf4",
   "metadata": {
    "scrolled": true
   },
   "outputs": [
    {
     "ename": "AttributeError",
     "evalue": "'str' object has no attribute 'loc'",
     "output_type": "error",
     "traceback": [
      "\u001b[1;31m---------------------------------------------------------------------------\u001b[0m",
      "\u001b[1;31mAttributeError\u001b[0m                            Traceback (most recent call last)",
      "\u001b[1;32m~\\AppData\\Local\\Temp/ipykernel_5748/2881622892.py\u001b[0m in \u001b[0;36m<module>\u001b[1;34m\u001b[0m\n\u001b[0;32m      1\u001b[0m \u001b[1;31m#NJ Before and after\u001b[0m\u001b[1;33m\u001b[0m\u001b[1;33m\u001b[0m\u001b[0m\n\u001b[1;32m----> 2\u001b[1;33m \u001b[0mNJ_before\u001b[0m \u001b[1;33m=\u001b[0m \u001b[0mdf\u001b[0m\u001b[1;33m.\u001b[0m\u001b[0mloc\u001b[0m\u001b[1;33m[\u001b[0m\u001b[1;33m(\u001b[0m\u001b[0mdf\u001b[0m\u001b[1;33m[\u001b[0m\u001b[1;34m'nj'\u001b[0m\u001b[1;33m]\u001b[0m\u001b[1;33m==\u001b[0m\u001b[1;36m1\u001b[0m\u001b[1;33m)\u001b[0m \u001b[1;33m&\u001b[0m \u001b[1;33m(\u001b[0m\u001b[0mdf\u001b[0m\u001b[1;33m[\u001b[0m\u001b[1;34m'd'\u001b[0m\u001b[1;33m]\u001b[0m\u001b[1;33m!=\u001b[0m\u001b[1;36m1\u001b[0m\u001b[1;33m)\u001b[0m\u001b[1;33m,\u001b[0m\u001b[1;34m'fte'\u001b[0m\u001b[1;33m]\u001b[0m\u001b[1;33m.\u001b[0m\u001b[0mmean\u001b[0m\u001b[1;33m(\u001b[0m\u001b[1;33m)\u001b[0m\u001b[1;33m\u001b[0m\u001b[1;33m\u001b[0m\u001b[0m\n\u001b[0m\u001b[0;32m      3\u001b[0m \u001b[0mNJ_after\u001b[0m  \u001b[1;33m=\u001b[0m \u001b[0mdf\u001b[0m\u001b[1;33m.\u001b[0m\u001b[0mloc\u001b[0m\u001b[1;33m[\u001b[0m\u001b[1;33m(\u001b[0m\u001b[0mdf\u001b[0m\u001b[1;33m[\u001b[0m\u001b[1;34m'nj'\u001b[0m\u001b[1;33m]\u001b[0m\u001b[1;33m==\u001b[0m\u001b[1;36m1\u001b[0m\u001b[1;33m)\u001b[0m \u001b[1;33m&\u001b[0m \u001b[1;33m(\u001b[0m\u001b[0mdf\u001b[0m\u001b[1;33m[\u001b[0m\u001b[1;34m'd'\u001b[0m\u001b[1;33m]\u001b[0m\u001b[1;33m==\u001b[0m\u001b[1;36m1\u001b[0m\u001b[1;33m)\u001b[0m\u001b[1;33m,\u001b[0m\u001b[1;34m'fte'\u001b[0m\u001b[1;33m]\u001b[0m\u001b[1;33m.\u001b[0m\u001b[0mmean\u001b[0m\u001b[1;33m(\u001b[0m\u001b[1;33m)\u001b[0m\u001b[1;33m\u001b[0m\u001b[1;33m\u001b[0m\u001b[0m\n",
      "\u001b[1;31mAttributeError\u001b[0m: 'str' object has no attribute 'loc'"
     ]
    },
    {
     "name": "stdout",
     "output_type": "stream",
     "text": [
      "ERROR! Session/line number was not unique in database. History logging moved to new session 82\n"
     ]
    }
   ],
   "source": [
    "#NJ Before and after\n",
    "NJ_before = df.loc[(df['nj']==1) & (df['d']!=1),'fte'].mean()\n",
    "NJ_after  = df.loc[(df['nj']==1) & (df['d']==1),'fte'].mean()"
   ]
  },
  {
   "cell_type": "code",
   "execution_count": 158,
   "id": "f2a2f9c2",
   "metadata": {},
   "outputs": [
    {
     "ename": "AttributeError",
     "evalue": "'str' object has no attribute 'loc'",
     "output_type": "error",
     "traceback": [
      "\u001b[1;31m---------------------------------------------------------------------------\u001b[0m",
      "\u001b[1;31mAttributeError\u001b[0m                            Traceback (most recent call last)",
      "\u001b[1;32m~\\AppData\\Local\\Temp/ipykernel_5748/647266880.py\u001b[0m in \u001b[0;36m<module>\u001b[1;34m\u001b[0m\n\u001b[0;32m      1\u001b[0m \u001b[1;31m# PA Before and after\u001b[0m\u001b[1;33m\u001b[0m\u001b[1;33m\u001b[0m\u001b[0m\n\u001b[1;32m----> 2\u001b[1;33m \u001b[0mPA_before\u001b[0m \u001b[1;33m=\u001b[0m \u001b[0mdf\u001b[0m\u001b[1;33m.\u001b[0m\u001b[0mloc\u001b[0m\u001b[1;33m[\u001b[0m\u001b[1;33m(\u001b[0m\u001b[0mdf\u001b[0m\u001b[1;33m[\u001b[0m\u001b[1;34m'nj'\u001b[0m\u001b[1;33m]\u001b[0m\u001b[1;33m!=\u001b[0m\u001b[1;36m1\u001b[0m\u001b[1;33m)\u001b[0m \u001b[1;33m&\u001b[0m \u001b[1;33m(\u001b[0m\u001b[0mdf\u001b[0m\u001b[1;33m[\u001b[0m\u001b[1;34m'd'\u001b[0m\u001b[1;33m]\u001b[0m\u001b[1;33m!=\u001b[0m\u001b[1;36m1\u001b[0m\u001b[1;33m)\u001b[0m\u001b[1;33m,\u001b[0m\u001b[1;34m'fte'\u001b[0m\u001b[1;33m]\u001b[0m\u001b[1;33m.\u001b[0m\u001b[0mmean\u001b[0m\u001b[1;33m(\u001b[0m\u001b[1;33m)\u001b[0m\u001b[1;33m\u001b[0m\u001b[1;33m\u001b[0m\u001b[0m\n\u001b[0m\u001b[0;32m      3\u001b[0m \u001b[0mPA_after\u001b[0m  \u001b[1;33m=\u001b[0m \u001b[0mdf\u001b[0m\u001b[1;33m.\u001b[0m\u001b[0mloc\u001b[0m\u001b[1;33m[\u001b[0m\u001b[1;33m(\u001b[0m\u001b[0mdf\u001b[0m\u001b[1;33m[\u001b[0m\u001b[1;34m'nj'\u001b[0m\u001b[1;33m]\u001b[0m\u001b[1;33m!=\u001b[0m\u001b[1;36m1\u001b[0m\u001b[1;33m)\u001b[0m \u001b[1;33m&\u001b[0m \u001b[1;33m(\u001b[0m\u001b[0mdf\u001b[0m\u001b[1;33m[\u001b[0m\u001b[1;34m'd'\u001b[0m\u001b[1;33m]\u001b[0m\u001b[1;33m==\u001b[0m\u001b[1;36m1\u001b[0m\u001b[1;33m)\u001b[0m\u001b[1;33m,\u001b[0m\u001b[1;34m'fte'\u001b[0m\u001b[1;33m]\u001b[0m\u001b[1;33m.\u001b[0m\u001b[0mmean\u001b[0m\u001b[1;33m(\u001b[0m\u001b[1;33m)\u001b[0m\u001b[1;33m\u001b[0m\u001b[1;33m\u001b[0m\u001b[0m\n",
      "\u001b[1;31mAttributeError\u001b[0m: 'str' object has no attribute 'loc'"
     ]
    }
   ],
   "source": [
    "# PA Before and after\n",
    "PA_before = df.loc[(df['nj']!=1) & (df['d']!=1),'fte'].mean()\n",
    "PA_after  = df.loc[(df['nj']!=1) & (df['d']==1),'fte'].mean()"
   ]
  },
  {
   "cell_type": "code",
   "execution_count": 157,
   "id": "c7af976d",
   "metadata": {},
   "outputs": [
    {
     "ename": "SyntaxError",
     "evalue": "invalid syntax (Temp/ipykernel_5748/186796561.py, line 1)",
     "output_type": "error",
     "traceback": [
      "\u001b[1;36m  File \u001b[1;32m\"C:\\Users\\DELL\\AppData\\Local\\Temp/ipykernel_5748/186796561.py\"\u001b[1;36m, line \u001b[1;32m1\u001b[0m\n\u001b[1;33m    NJ counterfactual (if no treatment)\u001b[0m\n\u001b[1;37m       ^\u001b[0m\n\u001b[1;31mSyntaxError\u001b[0m\u001b[1;31m:\u001b[0m invalid syntax\n"
     ]
    }
   ],
   "source": [
    " NJ counterfactual (if no treatment)\n",
    "NJ_counterfactual = NJ_before + ( NJ_before - PA_before )"
   ]
  },
  {
   "cell_type": "code",
   "execution_count": 156,
   "id": "5127c35d",
   "metadata": {},
   "outputs": [
    {
     "ename": "NameError",
     "evalue": "name 'NJ_before' is not defined",
     "output_type": "error",
     "traceback": [
      "\u001b[1;31m---------------------------------------------------------------------------\u001b[0m",
      "\u001b[1;31mNameError\u001b[0m                                 Traceback (most recent call last)",
      "\u001b[1;32m~\\AppData\\Local\\Temp/ipykernel_5748/1200270414.py\u001b[0m in \u001b[0;36m<module>\u001b[1;34m\u001b[0m\n\u001b[1;32m----> 1\u001b[1;33m [NJ_before, NJ_after,\n\u001b[0m\u001b[0;32m      2\u001b[0m  \u001b[0mPA_before\u001b[0m\u001b[1;33m,\u001b[0m\u001b[0mPA_after\u001b[0m\u001b[1;33m,\u001b[0m\u001b[1;33m\u001b[0m\u001b[1;33m\u001b[0m\u001b[0m\n\u001b[0;32m      3\u001b[0m  NJ_before, NJ_counterfactual]\n",
      "\u001b[1;31mNameError\u001b[0m: name 'NJ_before' is not defined"
     ]
    }
   ],
   "source": [
    "[NJ_before, NJ_after,\n",
    " PA_before,PA_after,\n",
    " NJ_before, NJ_counterfactual]"
   ]
  },
  {
   "cell_type": "code",
   "execution_count": 155,
   "id": "e878d979",
   "metadata": {},
   "outputs": [
    {
     "ename": "NameError",
     "evalue": "name 'NJ_before' is not defined",
     "output_type": "error",
     "traceback": [
      "\u001b[1;31m---------------------------------------------------------------------------\u001b[0m",
      "\u001b[1;31mNameError\u001b[0m                                 Traceback (most recent call last)",
      "\u001b[1;32m~\\AppData\\Local\\Temp/ipykernel_5748/427415746.py\u001b[0m in \u001b[0;36m<module>\u001b[1;34m\u001b[0m\n\u001b[0;32m      1\u001b[0m \u001b[0mplt\u001b[0m\u001b[1;33m.\u001b[0m\u001b[0mfigure\u001b[0m\u001b[1;33m(\u001b[0m\u001b[0mnum\u001b[0m\u001b[1;33m=\u001b[0m\u001b[1;32mNone\u001b[0m\u001b[1;33m,\u001b[0m \u001b[0mfigsize\u001b[0m\u001b[1;33m=\u001b[0m\u001b[1;33m(\u001b[0m\u001b[1;36m4\u001b[0m\u001b[1;33m,\u001b[0m \u001b[1;36m3\u001b[0m\u001b[1;33m)\u001b[0m\u001b[1;33m,\u001b[0m \u001b[0mdpi\u001b[0m\u001b[1;33m=\u001b[0m\u001b[1;36m80\u001b[0m\u001b[1;33m,\u001b[0m \u001b[0mfacecolor\u001b[0m\u001b[1;33m=\u001b[0m\u001b[1;34m'w'\u001b[0m\u001b[1;33m,\u001b[0m \u001b[0medgecolor\u001b[0m\u001b[1;33m=\u001b[0m\u001b[1;34m'k'\u001b[0m\u001b[1;33m)\u001b[0m\u001b[1;33m\u001b[0m\u001b[1;33m\u001b[0m\u001b[0m\n\u001b[0;32m      2\u001b[0m \u001b[0mfig\u001b[0m\u001b[1;33m,\u001b[0m \u001b[0max\u001b[0m \u001b[1;33m=\u001b[0m \u001b[0mplt\u001b[0m\u001b[1;33m.\u001b[0m\u001b[0msubplots\u001b[0m\u001b[1;33m(\u001b[0m\u001b[1;33m)\u001b[0m\u001b[1;33m\u001b[0m\u001b[1;33m\u001b[0m\u001b[0m\n\u001b[1;32m----> 3\u001b[1;33m \u001b[0mlineNJ\u001b[0m\u001b[1;33m,\u001b[0m \u001b[1;33m=\u001b[0m \u001b[0max\u001b[0m\u001b[1;33m.\u001b[0m\u001b[0mplot\u001b[0m\u001b[1;33m(\u001b[0m\u001b[1;33m[\u001b[0m\u001b[1;34m'0'\u001b[0m\u001b[1;33m,\u001b[0m \u001b[1;34m'1'\u001b[0m\u001b[1;33m]\u001b[0m\u001b[1;33m,\u001b[0m \u001b[1;33m[\u001b[0m\u001b[0mNJ_before\u001b[0m\u001b[1;33m,\u001b[0m \u001b[0mNJ_after\u001b[0m\u001b[1;33m]\u001b[0m\u001b[1;33m,\u001b[0m\u001b[0mcolor\u001b[0m\u001b[1;33m=\u001b[0m\u001b[1;34m'blue'\u001b[0m\u001b[1;33m,\u001b[0m\u001b[0mlabel\u001b[0m\u001b[1;33m=\u001b[0m\u001b[1;34m'NJ before and after'\u001b[0m\u001b[1;33m)\u001b[0m\u001b[1;33m\u001b[0m\u001b[1;33m\u001b[0m\u001b[0m\n\u001b[0m\u001b[0;32m      4\u001b[0m \u001b[0mlinePA\u001b[0m\u001b[1;33m,\u001b[0m \u001b[1;33m=\u001b[0m \u001b[0max\u001b[0m\u001b[1;33m.\u001b[0m\u001b[0mplot\u001b[0m\u001b[1;33m(\u001b[0m\u001b[1;33m[\u001b[0m\u001b[1;34m'0'\u001b[0m\u001b[1;33m,\u001b[0m \u001b[1;34m'1'\u001b[0m\u001b[1;33m]\u001b[0m\u001b[1;33m,\u001b[0m \u001b[1;33m[\u001b[0m\u001b[0mPA_before\u001b[0m\u001b[1;33m,\u001b[0m \u001b[0mPA_after\u001b[0m\u001b[1;33m]\u001b[0m\u001b[1;33m,\u001b[0m\u001b[0mcolor\u001b[0m \u001b[1;33m=\u001b[0m \u001b[1;34m'red'\u001b[0m\u001b[1;33m,\u001b[0m\u001b[0mlabel\u001b[0m \u001b[1;33m=\u001b[0m \u001b[1;34m'PA before and after'\u001b[0m\u001b[1;33m)\u001b[0m\u001b[1;33m\u001b[0m\u001b[1;33m\u001b[0m\u001b[0m\n\u001b[0;32m      5\u001b[0m \u001b[0mlineNJ0\u001b[0m\u001b[1;33m,\u001b[0m \u001b[1;33m=\u001b[0m \u001b[0max\u001b[0m\u001b[1;33m.\u001b[0m\u001b[0mplot\u001b[0m\u001b[1;33m(\u001b[0m\u001b[1;33m[\u001b[0m\u001b[1;34m'0'\u001b[0m\u001b[1;33m,\u001b[0m \u001b[1;34m'1'\u001b[0m\u001b[1;33m]\u001b[0m\u001b[1;33m,\u001b[0m \u001b[1;33m[\u001b[0m\u001b[0mNJ_before\u001b[0m\u001b[1;33m,\u001b[0m \u001b[0mNJ_counterfactual\u001b[0m\u001b[1;33m]\u001b[0m\u001b[1;33m,\u001b[0m\u001b[0mcolor\u001b[0m \u001b[1;33m=\u001b[0m \u001b[1;34m'blue'\u001b[0m\u001b[1;33m,\u001b[0m\u001b[0mlinestyle\u001b[0m\u001b[1;33m=\u001b[0m\u001b[1;34m'dashed'\u001b[0m\u001b[1;33m,\u001b[0m\u001b[0mlabel\u001b[0m\u001b[1;33m=\u001b[0m\u001b[1;34m'NJ counterfactual'\u001b[0m\u001b[1;33m)\u001b[0m\u001b[1;33m\u001b[0m\u001b[1;33m\u001b[0m\u001b[0m\n",
      "\u001b[1;31mNameError\u001b[0m: name 'NJ_before' is not defined"
     ]
    },
    {
     "data": {
      "text/plain": [
       "<Figure size 320x240 with 0 Axes>"
      ]
     },
     "metadata": {},
     "output_type": "display_data"
    },
    {
     "data": {
      "image/png": "[encoded data removed]",
      "text/plain": [
       "<Figure size 432x288 with 1 Axes>"
      ]
     },
     "metadata": {
      "needs_background": "light"
     },
     "output_type": "display_data"
    }
   ],
   "source": [
    "plt.figure(num=None, figsize=(4, 3), dpi=80, facecolor='w', edgecolor='k')\n",
    "fig, ax = plt.subplots()\n",
    "lineNJ, = ax.plot(['0', '1'], [NJ_before, NJ_after],color='blue',label='NJ before and after')\n",
    "linePA, = ax.plot(['0', '1'], [PA_before, PA_after],color = 'red',label = 'PA before and after')\n",
    "lineNJ0, = ax.plot(['0', '1'], [NJ_before, NJ_counterfactual],color = 'blue',linestyle='dashed',label='NJ counterfactual')\n",
    "ax.legend()\n",
    "plt.ylim(15, 28)  \n",
    "plt.title(\"Difference-in-difference: Before and After\", fontsize=\"14\")"
   ]
  },
  {
   "cell_type": "code",
   "execution_count": null,
   "id": "bb05cbdf",
   "metadata": {},
   "outputs": [],
   "source": []
  },
  {
   "cell_type": "code",
   "execution_count": null,
   "id": "dfa4e5eb",
   "metadata": {},
   "outputs": [],
   "source": []
  },
  {
   "cell_type": "code",
   "execution_count": null,
   "id": "58df4132",
   "metadata": {},
   "outputs": [],
   "source": []
  }
 ],
 "metadata": {
  "kernelspec": {
   "display_name": "Python 3 (ipykernel)",
   "language": "python",
   "name": "python3"
  },
  "language_info": {
   "codemirror_mode": {
    "name": "ipython",
    "version": 3
   },
   "file_extension": ".py",
   "mimetype": "text/x-python",
   "name": "python",
   "nbconvert_exporter": "python",
   "pygments_lexer": "ipython3",
   "version": "3.9.7"
  }
 },
 "nbformat": 4,
 "nbformat_minor": 5
}
