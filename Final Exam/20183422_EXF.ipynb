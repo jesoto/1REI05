{
 "cells": [
  {
   "cell_type": "markdown",
   "id": "b9ac669c",
   "metadata": {},
   "source": [
    "<h1>Final Exam</h1>"
   ]
  },
  {
   "cell_type": "markdown",
   "id": "4b58a514",
   "metadata": {},
   "source": [
    "**Student**:Fiorella Maria Lazo Gutierrez"
   ]
  },
  {
   "cell_type": "markdown",
   "id": "e0295da6",
   "metadata": {},
   "source": [
    "**Code**: 20183422"
   ]
  },
  {
   "cell_type": "code",
   "execution_count": 18,
   "id": "b30ac479",
   "metadata": {},
   "outputs": [],
   "source": [
    "%matplotlib inline\n",
    "import matplotlib.pyplot as plt\n",
    "import numpy as np\n",
    "import sympy as sy"
   ]
  },
  {
   "cell_type": "markdown",
   "id": "acca4e16",
   "metadata": {},
   "source": [
    "<h1>The Keynesian Income-Expenditure model</h1>"
   ]
  },
  {
   "cell_type": "markdown",
   "id": "a326e698",
   "metadata": {},
   "source": [
    "* **Find the Equilibrium equation for the Aggregate Income. Please, write all the equations in steps.**"
   ]
  },
  {
   "cell_type": "markdown",
   "id": "9a4b9eed",
   "metadata": {},
   "source": [
    "DA=C+I+G+X-M\n",
    "\n",
    "\n",
    "DA=C0+b*(Y-t*Y)+I0-h*r+G0+X0-m*(Y-t*Y)\n",
    "\n",
    "\n",
    "DA=C0+Y*(1-t)*b+I0-h*r+G0+X0-(1-t)*m*Y\n",
    "\n",
    "\n",
    "DA=C0+I0+G0+X0-h*r+(b-m)*(1-t)*Y"
   ]
  },
  {
   "cell_type": "markdown",
   "id": "c7e3b4e9",
   "metadata": {},
   "source": [
    "* **Using Python, plot the next figure and explain what Y  and DA  represent in :**"
   ]
  },
  {
   "cell_type": "code",
   "execution_count": 19,
   "id": "168d2949",
   "metadata": {},
   "outputs": [],
   "source": [
    "Y_size = 100\n",
    "\n",
    "C0 = 20   \n",
    "G0 = 25   \n",
    "I0 = 10   \n",
    "X0 = 2    \n",
    "h = 1     \n",
    "m = 0.05   \n",
    "t = 0.9   \n",
    "b = 2.1   \n",
    "r=0.2\n",
    "\n",
    "alfa0 = (C0+I0+G0+X0-h*r)\n",
    "alfa1 = (b-m)*(1-t)\n",
    "\n",
    "Y = np.arange(Y_size)\n",
    "\n"
   ]
  },
  {
   "cell_type": "code",
   "execution_count": 4,
   "id": "5d89eee1",
   "metadata": {},
   "outputs": [
    {
     "data": {
      "text/plain": [
       "array([ 0,  1,  2,  3,  4,  5,  6,  7,  8,  9, 10, 11, 12, 13, 14, 15, 16,\n",
       "       17, 18, 19, 20, 21, 22, 23, 24, 25, 26, 27, 28, 29, 30, 31, 32, 33,\n",
       "       34, 35, 36, 37, 38, 39, 40, 41, 42, 43, 44, 45, 46, 47, 48, 49, 50,\n",
       "       51, 52, 53, 54, 55, 56, 57, 58, 59, 60, 61, 62, 63, 64, 65, 66, 67,\n",
       "       68, 69, 70, 71, 72, 73, 74, 75, 76, 77, 78, 79, 80, 81, 82, 83, 84,\n",
       "       85, 86, 87, 88, 89, 90, 91, 92, 93, 94, 95, 96, 97, 98, 99])"
      ]
     },
     "execution_count": 4,
     "metadata": {},
     "output_type": "execute_result"
    }
   ],
   "source": [
    "def P_AD(alfa0, alfa1, Y):\n",
    "    P_AD = (alfa0+(alfa1*Y))\n",
    "    return P_AD\n",
    "\n",
    "P_AD = P_AD(alfa0, alfa1, Y)\n",
    "P_AD\n",
    "\n",
    "\n",
    "\n",
    "def P_45(Y):\n",
    "    P_45 = Y\n",
    "    return P_45\n",
    "\n",
    "P_45 = P_45(Y)\n",
    "P_45"
   ]
  },
  {
   "cell_type": "code",
   "execution_count": 20,
   "id": "f6b6bb69",
   "metadata": {},
   "outputs": [
    {
     "data": {
      "image/png": "[encoded data removed]",
      "text/plain": [
       "<Figure size 720x576 with 1 Axes>"
      ]
     },
     "metadata": {
      "needs_background": "light"
     },
     "output_type": "display_data"
    }
   ],
   "source": [
    "y_max = np.max(P_AD)\n",
    "v = [0, Y_size, 0, y_max]\n",
    "fig, ax = plt.subplots(figsize=(10, 8))\n",
    "ax.set(title=\"Aggregate Demand\", xlabel= r'Y', ylabel= r'DA')\n",
    "ax.plot(Y, P_AD, \"k-\", label = \"DA\")  \n",
    "ax.plot(Y, P_45, \"k-\", label = \"DA\") \n",
    "\n",
    "plt.axvline(x=71.45,  ymin= 0, ymax= 0.71, linestyle = \":\", color = \"black\")\n",
    "plt.axhline(y=71.45, xmin= 0, xmax= 0.71, linestyle = \":\", color = \"black\")\n",
    "plt.axhline(y=56.8, xmin= 0, xmax= 0.71, linestyle = \":\", color = \"black\")\n",
    "plt.plot(0, 0, marker=\"o\", color=\"black\", label = \"45\")\n",
    "plt.text(1, -1.6, ')45', fontsize = 14, color = 'black')\n",
    "\n",
    "\n",
    "ax.legend()\n",
    "plt.show()\n"
   ]
  },
  {
   "cell_type": "markdown",
   "id": "c861a367",
   "metadata": {},
   "source": [
    "represent the equilibrium of the model"
   ]
  },
  {
   "cell_type": "markdown",
   "id": "59316dba",
   "metadata": {},
   "source": [
    "* **What happens if the Marginal Propensity to Consume increases. Explain using intuition, Math, and a Figure.**"
   ]
  },
  {
   "cell_type": "markdown",
   "id": "1d50dd01",
   "metadata": {},
   "source": [
    "I assume that the marginal propensity to consume increases, therefore consumption increases, this increases aggregate demand which becomes greater than production, so production increases."
   ]
  },
  {
   "cell_type": "markdown",
   "id": "bbbcb1a1",
   "metadata": {},
   "source": [
    "Δb>0\n",
    "\n",
    "\n",
    "b ↑ →C ↑ →DA ↑ →DA>Y →Y ↑"
   ]
  },
  {
   "cell_type": "markdown",
   "id": "39d5ed99",
   "metadata": {},
   "source": [
    "ΔY=((1-t) Δb)/(((1-(1-t)*(b-m)) ^2) >0\n",
    "\n",
    "\n",
    "ΔDA= Δb*(1-t)* ΔY >0"
   ]
  },
  {
   "cell_type": "markdown",
   "id": "dfa8b770",
   "metadata": {},
   "source": [
    "<h1>The Keynesian Income-Expenditure model2</h1>"
   ]
  },
  {
   "cell_type": "markdown",
   "id": "dbb8f975",
   "metadata": {},
   "source": [
    "* **Find the Equilibrium equation for the Aggregate Income. Please, write all the equations in steps** ."
   ]
  },
  {
   "cell_type": "markdown",
   "id": "14e9e1e9",
   "metadata": {},
   "source": [
    "DA=C+I+G\n",
    "\n",
    "\n",
    "DA=C0+b*(Y-T0)+I0+G0\n",
    "\n",
    "\n",
    "C0+b*Y-b*T0+I0+G0=Y\n",
    "\n",
    "\n",
    "C0-b*T0+I0+G0=Y*(1-b)\n",
    "\n",
    "\n",
    "Y=1/(1-b)*(C0-b*T0+I0+G0)"
   ]
  },
  {
   "cell_type": "markdown",
   "id": "89095d70",
   "metadata": {},
   "source": [
    "* **Using Python, plot the next figure and explain what Y  and DA  represent in :**"
   ]
  },
  {
   "cell_type": "code",
   "execution_count": 21,
   "id": "a5215412",
   "metadata": {},
   "outputs": [],
   "source": [
    "Y_size = 100\n",
    "\n",
    "C0 = 10   \n",
    "G0 = 18   \n",
    "I0 = 5   \n",
    "T0 = 1   \n",
    "b = 0.5   \n",
    "\n",
    "alfa0 = (C0+I0+G0-(T0*b))\n",
    "alfa1 = b\n",
    "\n",
    "Y = np.arange(Y_size)\n"
   ]
  },
  {
   "cell_type": "code",
   "execution_count": 22,
   "id": "ee26d6e9",
   "metadata": {},
   "outputs": [
    {
     "data": {
      "text/plain": [
       "array([ 0,  1,  2,  3,  4,  5,  6,  7,  8,  9, 10, 11, 12, 13, 14, 15, 16,\n",
       "       17, 18, 19, 20, 21, 22, 23, 24, 25, 26, 27, 28, 29, 30, 31, 32, 33,\n",
       "       34, 35, 36, 37, 38, 39, 40, 41, 42, 43, 44, 45, 46, 47, 48, 49, 50,\n",
       "       51, 52, 53, 54, 55, 56, 57, 58, 59, 60, 61, 62, 63, 64, 65, 66, 67,\n",
       "       68, 69, 70, 71, 72, 73, 74, 75, 76, 77, 78, 79, 80, 81, 82, 83, 84,\n",
       "       85, 86, 87, 88, 89, 90, 91, 92, 93, 94, 95, 96, 97, 98, 99])"
      ]
     },
     "execution_count": 22,
     "metadata": {},
     "output_type": "execute_result"
    }
   ],
   "source": [
    "def P_AD(alfa0, alfa1, Y):\n",
    "    P_AD = (alfa0+(alfa1*Y))\n",
    "    return P_AD\n",
    "\n",
    "P_AD = P_AD(alfa0, alfa1, Y)\n",
    "P_AD\n",
    "\n",
    "\n",
    "\n",
    "def P_45(Y):\n",
    "    P_45 = Y\n",
    "    return P_45\n",
    "\n",
    "P_45 = P_45(Y)\n",
    "P_45"
   ]
  },
  {
   "cell_type": "code",
   "execution_count": 23,
   "id": "a2cbaa50",
   "metadata": {},
   "outputs": [
    {
     "data": {
      "image/png": "[encoded data removed]",
      "text/plain": [
       "<Figure size 720x576 with 1 Axes>"
      ]
     },
     "metadata": {
      "needs_background": "light"
     },
     "output_type": "display_data"
    }
   ],
   "source": [
    "y_max = np.max(P_AD)\n",
    "v = [0, Y_size, 0, y_max]\n",
    "fig, ax = plt.subplots(figsize=(10, 8))\n",
    "ax.set(title=\"Aggregate Demand\", xlabel= r'Y', ylabel= r'DA')\n",
    "ax.plot(Y, P_AD, \"k-\", label = \"DA\")  \n",
    "ax.plot(Y, P_45, \"k-\", label = \"DA\") \n",
    "\n",
    "\n",
    "plt.plot(0, 0, marker=\"o\", color=\"black\", label = \"45\")\n",
    "plt.text(1, -1.6, ')45', fontsize = 14, color = 'black')\n",
    "\n",
    "plt.axvline(x=65,  ymin= 0, ymax= 0.65, linestyle = \":\", color = \"black\")\n",
    "plt.axhline(y=65, xmin= 0, xmax= 0.65, linestyle = \":\", color = \"black\")\n",
    "plt.axhline(y=32.5, xmin= 0, xmax= 0.65, linestyle = \":\", color = \"black\")\n",
    "\n",
    "\n",
    "ax.legend()\n",
    "plt.show()"
   ]
  },
  {
   "cell_type": "markdown",
   "id": "d986edb2",
   "metadata": {},
   "source": [
    "represent the equilibrium of the model."
   ]
  },
  {
   "cell_type": "markdown",
   "id": "c38eea69",
   "metadata": {},
   "source": [
    "* **What happens with the endogenous variables if the government increases its spending and at the same time increases taxes by the same magnitude to keep the budget balanced; that is Δ𝑇 = Δ𝐺. Explain using intuition, Math, and a Figure.**"
   ]
  },
  {
   "cell_type": "markdown",
   "id": "d1172a63",
   "metadata": {},
   "source": [
    "**intuition**\n",
    "\n",
    "\n",
    "ΔG0>0 ,  ΔT0>0 , ΔG0= ΔT0\n",
    "\n",
    "\n",
    "G0 ↑ →DA ↑ →DA>Y →Y ↑\n",
    "\n",
    "\n",
    "T0 ↑ →C ↓ →DA ↓ →DA<Y →Y ↓\n",
    "\n",
    "\n",
    "→ ΔY =0"
   ]
  },
  {
   "cell_type": "markdown",
   "id": "2e391c15",
   "metadata": {},
   "source": [
    "**mathematics**\n",
    "\n",
    "\n",
    "ΔY= 1/(1-b)(-b ΔT+ ΔG )=0\n",
    "\n",
    "\n",
    "ΔDA= ΔG- ΔT=0"
   ]
  },
  {
   "cell_type": "markdown",
   "id": "e330e2e6",
   "metadata": {},
   "source": [
    "<h1>IS-LM</h1>"
   ]
  },
  {
   "cell_type": "markdown",
   "id": "3cba33be",
   "metadata": {},
   "source": [
    "* **Show the derivation of the IS curve from equilibrium Y=DA. Explain using intuition, Math, and a Figure.**"
   ]
  },
  {
   "cell_type": "markdown",
   "id": "bc65676a",
   "metadata": {},
   "source": [
    "DA=C+I+G+X-M\n",
    "\n",
    "\n",
    "Y=C0+b*Y^d+I0-h*r+G0+X0-m*Y^d\n",
    "\n",
    "\n",
    "Y=C0+I0-h*r+G0+X0+(b-m)*(1-t)*Y\n",
    "\n",
    "\n",
    "Y=(1/(1-(b-m)(1-t)))(C0+I0+G0+X0-h*r)"
   ]
  },
  {
   "cell_type": "markdown",
   "id": "a09ed895",
   "metadata": {},
   "source": [
    "* **Derive the IS curve from the Save-Investment Equilibrium.**"
   ]
  },
  {
   "cell_type": "markdown",
   "id": "f5421862",
   "metadata": {},
   "source": [
    "Sp+Sg+Se=I=I0-h*r\n",
    "\n",
    "\n",
    "Y^d-(C0+b*Y^d)+T-G+(m*Y^d-X0)=I0-h*r\n",
    "\n",
    "\n",
    "(1-(b-m)*(1-t))*Y-(C0+G0+X0)=I0-h*r\n",
    "\n",
    "\n",
    "h*r=I0-(1-(b-m)*(1-t))*Y+(C0+G0+X0)\n",
    "\n",
    "\n",
    "h*r=(C0+G0+I0+X0)-(1-(b-m)*(1-t))*Y\n",
    "\n",
    "\n",
    "IS: r=(1/h)(C0+G0+I0+X0)-(1/h)(1-(b-m)*(1-t))*Y"
   ]
  },
  {
   "cell_type": "markdown",
   "id": "a280d148",
   "metadata": {},
   "source": [
    "* **Show the derivation of the LM curve from equilibrium M^s=M^d . Explain using intuition, Math, and a Figure.**"
   ]
  },
  {
   "cell_type": "markdown",
   "id": "01d20c3f",
   "metadata": {},
   "source": [
    "Md=k*Y-j*r\n",
    "\n",
    "\n",
    "Mo=Ms/P\n",
    "\n",
    "\n",
    "Ms/P=k*Y-j*r\n",
    "\n",
    "\n",
    "j*r=k*y-Ms/P\n",
    "\n",
    "\n",
    "r=k*Y/j-1/j*Ms/P\n",
    "\n",
    "\n",
    "LM: -1/j*Ms/P+k/j*Y"
   ]
  },
  {
   "cell_type": "markdown",
   "id": "d5ebf652",
   "metadata": {},
   "source": [
    "<h1>DA-OA Model</h1>"
   ]
  },
  {
   "cell_type": "markdown",
   "id": "63ff937e",
   "metadata": {},
   "source": [
    "* **Find the equilibrium equation of Y^e, P^e, and r^e.**"
   ]
  },
  {
   "cell_type": "markdown",
   "id": "a3bd22b3",
   "metadata": {},
   "source": [
    "M/P*1/k+j/k*r=(c+I+G)/(1-b*(1.t))-h/(1.b*(1-t))*r\n",
    "\n",
    "\n",
    "r(j/k+h/(1-b*(1-t)))=(c+I+G)/(1-b*(1-t))-Ms/p*1/k\n",
    "\n",
    "\n",
    "r=(c+I+G)/(j*(1-b*(1-t)))-(Ms*k(1-b*(1-t)))/(P*k*j*(1-b*(1-t))+k*h)\n",
    "\n",
    "\n",
    "r^e=(alpha0)/(j*(alpha1))-Ms/P*(alpha1)/(j*(alpha1)+h)\n",
    "\n",
    "\n",
    "\n",
    "Y^e=M/P*1/k+j/k*(r^e)"
   ]
  },
  {
   "cell_type": "markdown",
   "id": "b56cf1e9",
   "metadata": {},
   "source": [
    "* **Graph the Equilibrium in the IS-LM markets and also in the aggregate demand and supply. (In one figure, you have to use the r and Y axis, and in the other one, the P and Y-axis)**\n",
    "\n"
   ]
  },
  {
   "cell_type": "code",
   "execution_count": 182,
   "id": "8054ce89",
   "metadata": {},
   "outputs": [
    {
     "name": "stderr",
     "output_type": "stream",
     "text": [
      "C:\\Users\\catono\\AppData\\Local\\Temp/ipykernel_8760/1644527020.py:97: UserWarning: linestyle is redundantly defined by the 'linestyle' keyword argument and the fmt string \"b-\" (-> linestyle='-'). The keyword argument will take precedence.\n",
      "  ax.plot(Y, LM_1, \"b-\",linestyle = \":\", label=\"LM_1\")\n",
      "C:\\Users\\catono\\AppData\\Local\\Temp/ipykernel_8760/1644527020.py:99: UserWarning: linestyle is redundantly defined by the 'linestyle' keyword argument and the fmt string \"r-\" (-> linestyle='-'). The keyword argument will take precedence.\n",
      "  ax.plot(Y, i_1, \"r-\",linestyle=':',label=\"IS_1\")\n"
     ]
    },
    {
     "data": {
      "image/png": "[encoded data removed]",
      "text/plain": [
       "<Figure size 720x576 with 1 Axes>"
      ]
     },
     "metadata": {},
     "output_type": "display_data"
    }
   ],
   "source": [
    "\"1|IMPORT PACKAGES\"\n",
    "import numpy as np               # Package for scientific computing with Python\n",
    "import matplotlib.pyplot as plt  # Matplotlib is a 2D plotting library\n",
    "\n",
    "\"|DEFINE PARAMETERS OF LM_0 AND ARRAYS\"\n",
    "# Parameters\n",
    "Y_size = 100\n",
    "             # Precautionary money demand\n",
    "k = 20                # Transaction money demand\n",
    "j = 10                # Speculation money demand\n",
    "Ms = 20000             # Nominal money supply\n",
    "P  = 20                # Price level\n",
    "# Arrays\n",
    "Y = np.arange(Y_size)  # Array values of Y\n",
    "\n",
    "\"|DEFINE AND POPULATE THE LM-SCHEDULE\"\n",
    "def i_LM( k, j, Ms, P, Y):\n",
    "    i_LM = (-Ms/P)/j + k/j*Y\n",
    "    return i_LM\n",
    "LM_0 = i_LM( k, j, Ms, P, Y)\n",
    "#-------------------------------------   \n",
    "\"|DEFINE PARAMETERS OF LM_1 AND ARRAYS\"\n",
    "# Parameters\n",
    "Y_size = 100\n",
    "             # Precautionary money demand\n",
    "k = 20                # Transaction money demand\n",
    "j = 10                # Speculation money demand\n",
    "Ms = 10000             # Nominal money supply\n",
    "P  = 20                # Price level\n",
    "# Arrays\n",
    "Y = np.arange(Y_size)  # Array values of Y\n",
    "\n",
    "\"3|DEFINE AND POPULATE THE LM-SCHEDULE\"\n",
    "def i_LM( k, j, Ms, P, Y):\n",
    "    i_LM = (-Ms/P)/j + k/j*Y\n",
    "    return i_LM\n",
    "LM_1 = i_LM( k, j, Ms, P, Y)\n",
    "\n",
    "\n",
    "#------------------------------------- \n",
    "\n",
    "\"|DEFINE PARAMETERS OF IS_0 AND ARRAYS\"\n",
    "Y_size = 100\n",
    "c = 20                 # Autonomous consumption\n",
    "b = 0.01                # Marginal propensity to consume\n",
    "t = 0.9                  # Taxes\n",
    "I_bar = 10             # Investment intercept (when i = 0)\n",
    "G_bar = 50              # Government spending\n",
    "h = 1                  # Investment slope wrt to i\n",
    "# Arrays\n",
    "Y = np.arange(Y_size)  # Array values of Y\n",
    "\n",
    "\"3|DEFINE AND POPULATE THE IS-SCHEDULE\"\n",
    "def i_IS(c, b, t, I_bar, G_bar, h, Y):\n",
    "    i_IS = -((1-b*(1-t))*Y/h)+(c+I_bar+G_bar)/h\n",
    "    return i_IS\n",
    "\n",
    "def Y_IS(c, b, t, I_bar, G_bar, h, i):\n",
    "    Y_IS = (c+I_bar+G_bar)/(i-b(1-t))-(h*i)/(i-b(1-t))\n",
    "    return Y_IS\n",
    "\n",
    "\n",
    "i = i_IS(c, b, t, I_bar, G_bar, h, Y)\n",
    "\n",
    "#---------------------------------------------------\n",
    "\"|DEFINE PARAMETERS OF IS_1 AND ARRAYS\"\n",
    "Y_size = 100\n",
    "c = 20                 # Autonomous consumption\n",
    "b = 0.01                # Marginal propensity to consume\n",
    "t = 0.9                  # Taxes\n",
    "I_bar = 10             # Investment intercept (when i = 0)\n",
    "G_bar = 25             # Government spending\n",
    "h = 1                  # Investment slope wrt to i\n",
    "# Arrays\n",
    "Y = np.arange(Y_size)  # Array values of Y\n",
    "\n",
    "\"3|DEFINE AND POPULATE THE IS-SCHEDULE\"\n",
    "def i_IS(c, b, t, I_bar, G_bar, h, Y):\n",
    "    i_IS = -((1-b*(1-t))*Y/h)+(c+I_bar+G_bar)/h\n",
    "    return i_IS\n",
    "\n",
    "def Y_IS(c, b, t, I_bar, G_bar, h, i):\n",
    "    Y_IS = (c+I_bar+G_bar)/(i-b(1-t))-(h*i)/(i-b(1-t))\n",
    "    return Y_IS\n",
    "\n",
    "\n",
    "i_1 = i_IS(c, b, t, I_bar, G_bar, h, Y)\n",
    "\n",
    "\n",
    "\"PLOT THE IS-SCHEDULE\"\n",
    "y_max = np.max(i)\n",
    "\n",
    "v = [0, Y_size, 0, y_max]                       # Set the axes range\n",
    "fig, ax = plt.subplots(figsize=(10, 8))\n",
    "ax.set(title=\"LM SCHEDULE\", xlabel=r'Y', ylabel=r'i')\n",
    "ax.plot(Y, LM_0, \"b-\", label=\"LM_0\")\n",
    "ax.plot(Y, LM_1, \"b-\",linestyle = \":\", label=\"LM_1\")\n",
    "ax.plot(Y, i, \"r-\",label=\"IS_0\")\n",
    "ax.plot(Y, i_1, \"r-\",linestyle=':',label=\"IS_1\")\n",
    "ax.yaxis.set_major_locator(plt.NullLocator())   # Hide ticks\n",
    "ax.xaxis.set_major_locator(plt.NullLocator())   # Hide ticks\n",
    "plt.plot(60.02, 20.04, marker=\"o\", color=\"black\", label = \"E0\")\n",
    "plt.plot(51.68, 3.37, marker=\"o\", color=\"black\", label = \"E1\")\n",
    "plt.plot(43.35, 36.7, marker=\"o\", color=\"black\", label = \"E2\")\n",
    "\n",
    "plt.text(60.02, 25.20, 'E0', fontsize = 14, color = 'black')\n",
    "plt.text(51.68, 9.52, 'E1', fontsize = 14, color = 'black')\n",
    "plt.text(43.35, 43.12, 'E2', fontsize = 14, color = 'black')\n",
    "\n",
    "ax.legend()\n",
    "plt.show()\n",
    "\n",
    "\n",
    "\n",
    "\n",
    "\n",
    "\n",
    "\n",
    "\n"
   ]
  },
  {
   "cell_type": "markdown",
   "id": "494946da",
   "metadata": {},
   "source": [
    "**model2**"
   ]
  },
  {
   "cell_type": "code",
   "execution_count": 87,
   "id": "3a138a64",
   "metadata": {},
   "outputs": [],
   "source": [
    "#solid\n",
    "Y_size = 100\n",
    "\n",
    "C0 = 10   \n",
    "G0 = 25   \n",
    "I0 = 10   \n",
    "X0 = 2    \n",
    "h = 1     \n",
    "m = 0.9  \n",
    "t = 0.9   \n",
    "b = 0.5   \n",
    "r=0.2\n",
    "Y = np.arange(Y_size)\n",
    "\n",
    "alfa0 = (C0+I0+G0+X0-h*r)\n",
    "alfa1 = (b-m)*(1-t)\n",
    "\n",
    "\n",
    "def P_AD(alfa0, alfa1, Y):\n",
    "    P_AD = (alfa0+(alfa1*Y))\n",
    "    return P_AD\n",
    "\n",
    "P_AD1 = P_AD(alfa0, alfa1, Y)\n",
    "P_AD1\n",
    " \n",
    "y_max = np.max(P_AD1)\n",
    "\n",
    "\n"
   ]
  },
  {
   "cell_type": "code",
   "execution_count": 88,
   "id": "97fea750",
   "metadata": {},
   "outputs": [
    {
     "data": {
      "text/plain": [
       "array([44.8 , 44.76, 44.72, 44.68, 44.64, 44.6 , 44.56, 44.52, 44.48,\n",
       "       44.44, 44.4 , 44.36, 44.32, 44.28, 44.24, 44.2 , 44.16, 44.12,\n",
       "       44.08, 44.04, 44.  , 43.96, 43.92, 43.88, 43.84, 43.8 , 43.76,\n",
       "       43.72, 43.68, 43.64, 43.6 , 43.56, 43.52, 43.48, 43.44, 43.4 ,\n",
       "       43.36, 43.32, 43.28, 43.24, 43.2 , 43.16, 43.12, 43.08, 43.04,\n",
       "       43.  , 42.96, 42.92, 42.88, 42.84, 42.8 , 42.76, 42.72, 42.68,\n",
       "       42.64, 42.6 , 42.56, 42.52, 42.48, 42.44, 42.4 , 42.36, 42.32,\n",
       "       42.28, 42.24, 42.2 , 42.16, 42.12, 42.08, 42.04, 42.  , 41.96,\n",
       "       41.92, 41.88, 41.84, 41.8 , 41.76, 41.72, 41.68, 41.64, 41.6 ,\n",
       "       41.56, 41.52, 41.48, 41.44, 41.4 , 41.36, 41.32, 41.28, 41.24,\n",
       "       41.2 , 41.16, 41.12, 41.08, 41.04, 41.  , 40.96, 40.92, 40.88,\n",
       "       40.84])"
      ]
     },
     "execution_count": 88,
     "metadata": {},
     "output_type": "execute_result"
    }
   ],
   "source": [
    "##variation\n",
    "\n",
    "\n",
    "C0 = 10   \n",
    "G0 = 23   \n",
    "I0 = 10   \n",
    "X0 = 2    \n",
    "h = 1     \n",
    "m = 0.9   \n",
    "t = 0.9   \n",
    "b = 0.5   \n",
    "r=0.2\n",
    "Y = np.arange(Y_size) \n",
    "\n",
    "alfa0 = (C0+I0+G0+X0-h*r)\n",
    "alfa1 = (b-m)*(1-t)\n",
    "\n",
    "def P_AD(alfa0, alfa1, Y):\n",
    "    P_AD = (alfa0+(alfa1*Y))\n",
    "    return P_AD\n",
    "\n",
    "P_AD2 = P_AD(alfa0, alfa1, Y)\n",
    "P_AD2"
   ]
  },
  {
   "cell_type": "code",
   "execution_count": 101,
   "id": "37bb9525",
   "metadata": {},
   "outputs": [
    {
     "data": {
      "text/plain": [
       "array([45.8 , 45.76, 45.72, 45.68, 45.64, 45.6 , 45.56, 45.52, 45.48,\n",
       "       45.44, 45.4 , 45.36, 45.32, 45.28, 45.24, 45.2 , 45.16, 45.12,\n",
       "       45.08, 45.04, 45.  , 44.96, 44.92, 44.88, 44.84, 44.8 , 44.76,\n",
       "       44.72, 44.68, 44.64, 44.6 , 44.56, 44.52, 44.48, 44.44, 44.4 ,\n",
       "       44.36, 44.32, 44.28, 44.24, 44.2 , 44.16, 44.12, 44.08, 44.04,\n",
       "       44.  , 43.96, 43.92, 43.88, 43.84, 43.8 , 43.76, 43.72, 43.68,\n",
       "       43.64, 43.6 , 43.56, 43.52, 43.48, 43.44, 43.4 , 43.36, 43.32,\n",
       "       43.28, 43.24, 43.2 , 43.16, 43.12, 43.08, 43.04, 43.  , 42.96,\n",
       "       42.92, 42.88, 42.84, 42.8 , 42.76, 42.72, 42.68, 42.64, 42.6 ,\n",
       "       42.56, 42.52, 42.48, 42.44, 42.4 , 42.36, 42.32, 42.28, 42.24,\n",
       "       42.2 , 42.16, 42.12, 42.08, 42.04, 42.  , 41.96, 41.92, 41.88,\n",
       "       41.84])"
      ]
     },
     "execution_count": 101,
     "metadata": {},
     "output_type": "execute_result"
    }
   ],
   "source": [
    "#variation2\n",
    "\n",
    "\n",
    "C0 = 10   \n",
    "G0 = 25   \n",
    "I0 = 9   \n",
    "X0 = 2    \n",
    "h = 1     \n",
    "m = 0.9   \n",
    "t = 0.9   \n",
    "b = 0.5   \n",
    "r=0.2\n",
    "\n",
    "alfa0 = (C0+I0+G0+X0-h*r)\n",
    "alfa1 = (b-m)*(1-t)\n",
    "\n",
    "\n",
    "def P_AD(alfa0, alfa1, Y):\n",
    "    P_AD = (alfa0+(alfa1*Y))\n",
    "    return P_AD\n",
    "\n",
    "P_AD3 = P_AD(alfa0, alfa1, Y)\n",
    "P_AD3"
   ]
  },
  {
   "cell_type": "code",
   "execution_count": 107,
   "id": "c47ecbd2",
   "metadata": {},
   "outputs": [
    {
     "data": {
      "text/plain": [
       "array([44., 44., 44., 44., 44., 44., 44., 44., 44., 44., 44., 44., 44.,\n",
       "       44., 44., 44., 44., 44., 44., 44., 44., 44., 44., 44., 44., 44.,\n",
       "       44., 44., 44., 44., 44., 44., 44., 44., 44., 44., 44., 44., 44.,\n",
       "       44., 44., 44., 44., 44., 44., 44., 44., 44., 44., 44., 44., 44.,\n",
       "       44., 44., 44., 44., 44., 44., 44., 44., 44., 44., 44., 44., 44.,\n",
       "       44., 44., 44., 44., 44., 44., 44., 44., 44., 44., 44., 44., 44.,\n",
       "       44., 44., 44., 44., 44., 44., 44., 44., 44., 44., 44., 44., 44.,\n",
       "       44., 44., 44., 44., 44., 44., 44., 44., 44.])"
      ]
     },
     "execution_count": 107,
     "metadata": {},
     "output_type": "execute_result"
    }
   ],
   "source": [
    "#P_OA\n",
    "\n",
    "p0 = 10   \n",
    "p1 = 10   \n",
    "p2 = 10   \n",
    "p3 = 15    \n",
    "p4 = 1     \n",
    "y_bar = 0.9   \n",
    "theta1 = 0.9   \n",
    "y = 0.9  \n",
    "p5=1\n",
    "#p0+p1+p2+p3+p4+p5=pe\n",
    "#1-theta1=theta\n",
    "Y = np.arange(Y_size)\n",
    "\n",
    "pe = (p0+p1+p2+p3-p4*p5)\n",
    "alfa1 = (y-y_bar)*(1-theta1)\n",
    "\n",
    "\n",
    "def P_AD(pe, alfa1, Y):\n",
    "    P_AD = (pe+(alfa1*Y))\n",
    "    return P_AD\n",
    "\n",
    "P_OA = P_AD(alfa0, alfa1, Y)\n",
    "P_OA"
   ]
  },
  {
   "cell_type": "code",
   "execution_count": 123,
   "id": "5b9f7b82",
   "metadata": {},
   "outputs": [
    {
     "name": "stderr",
     "output_type": "stream",
     "text": [
      "C:\\Users\\catono\\AppData\\Local\\Temp/ipykernel_8760/4064409640.py:6: UserWarning: linestyle is redundantly defined by the 'linestyle' keyword argument and the fmt string \"k-\" (-> linestyle='-'). The keyword argument will take precedence.\n",
      "  ax.plot(Y, P_AD2, \"k-\",linestyle=':',color=\"red\", label = \"P_DA2\")\n",
      "C:\\Users\\catono\\AppData\\Local\\Temp/ipykernel_8760/4064409640.py:6: UserWarning: color is redundantly defined by the 'color' keyword argument and the fmt string \"k-\" (-> color='k'). The keyword argument will take precedence.\n",
      "  ax.plot(Y, P_AD2, \"k-\",linestyle=':',color=\"red\", label = \"P_DA2\")\n",
      "C:\\Users\\catono\\AppData\\Local\\Temp/ipykernel_8760/4064409640.py:7: UserWarning: linestyle is redundantly defined by the 'linestyle' keyword argument and the fmt string \"k-\" (-> linestyle='-'). The keyword argument will take precedence.\n",
      "  ax.plot(Y, P_AD3, \"k-\",linestyle=':',color=\"blue\", label = \"P_DA1\")\n",
      "C:\\Users\\catono\\AppData\\Local\\Temp/ipykernel_8760/4064409640.py:7: UserWarning: color is redundantly defined by the 'color' keyword argument and the fmt string \"k-\" (-> color='k'). The keyword argument will take precedence.\n",
      "  ax.plot(Y, P_AD3, \"k-\",linestyle=':',color=\"blue\", label = \"P_DA1\")\n"
     ]
    },
    {
     "data": {
      "image/png": "[encoded data removed]",
      "text/plain": [
       "<Figure size 720x576 with 1 Axes>"
      ]
     },
     "metadata": {
      "needs_background": "light"
     },
     "output_type": "display_data"
    }
   ],
   "source": [
    "y_max = np.max(P_AD)\n",
    "\n",
    "fig, ax = plt.subplots(figsize=(10, 8))\n",
    "ax.set(title=\"Aggregate Demand\", xlabel= r'Y', ylabel= r'P')\n",
    "ax.plot(Y, P_AD1, \"k-\", label = \"P_DA0\") \n",
    "ax.plot(Y, P_AD2, \"k-\",linestyle=':',color=\"red\", label = \"P_DA2\")\n",
    "ax.plot(Y, P_AD3, \"k-\",linestyle=':',color=\"blue\", label = \"P_DA1\") \n",
    "ax.plot(Y, P_OA, \"k-\", label = \"P_OA\") \n",
    "\n",
    "plt.plot(70, 44, marker=\"o\", color=\"black\", label = \"E0\")\n",
    "plt.plot(45, 44, marker=\"o\", color=\"black\", label = \"E1\")\n",
    "plt.plot(20, 44, marker=\"o\", color=\"black\", label = \"E2\")\n",
    "\n",
    "plt.text(70, 44.5, 'E0', fontsize = 14, color = 'black')\n",
    "plt.text(45, 44.5, 'E1', fontsize = 14, color = 'black')\n",
    "plt.text(20, 44.5, 'E2', fontsize = 14, color = 'black')\n",
    "\n",
    "ax.legend()\n",
    "plt.show()\n",
    "\n",
    "\n"
   ]
  },
  {
   "cell_type": "markdown",
   "id": "4baadb9b",
   "metadata": {},
   "source": [
    "* **What happens with the endogenous variables if G decreases? Explain using intuition, Math, and a Figure. (In one figure, you have to use the r and Y axis, and in the other one, the P and Y-axis)**"
   ]
  },
  {
   "cell_type": "markdown",
   "id": "52e896a6",
   "metadata": {},
   "source": [
    "**intuition**\n",
    "\n",
    "\n",
    "G →DA ↓ →DA>Y →Y ↓\n",
    "\n",
    "\n",
    "Y ↑ →Md ↓ →Md<Ms →r ↓\n",
    "\n",
    "\n",
    "r ↓ →I ↑ →DA ↑DA>Y →Y ↑ → minor effect"
   ]
  },
  {
   "cell_type": "markdown",
   "id": "4f320383",
   "metadata": {},
   "source": [
    "**mathematics**\n",
    "\n",
    "\n",
    "ΔPe=0\n",
    "\n",
    "\n",
    "Δr= ΔG/(j*alpha1)<0\n",
    "\n",
    "\n",
    "ΔYe=j/k* Δr<0"
   ]
  },
  {
   "cell_type": "markdown",
   "id": "d7a424d7",
   "metadata": {},
   "source": [
    "* **What happens with the endogenous variables if M0^s decreases? Explain using intuition, Math, and a Figure. (In one figure, you have to use the r and Y axis, and in the other one, the P and Y-axis)**"
   ]
  },
  {
   "cell_type": "markdown",
   "id": "b5bbd2df",
   "metadata": {},
   "source": [
    "**intuition**\n",
    "\n",
    "\n",
    "Ms ↓ →(Ms/P) <Md →r ↑\n",
    "\n",
    "\n",
    "r ↑ →I ↓ →DA ↓ →DA<Y →Y ↓"
   ]
  },
  {
   "cell_type": "markdown",
   "id": "640e177f",
   "metadata": {},
   "source": [
    "**mathematics**\n",
    "\n",
    "\n",
    "ΔP=0\n",
    "\n",
    "\n",
    "Δr=- ΔMs/P*(alpha1/(j*(alpha1)+h)>0\n",
    "\n",
    "\n",
    "ΔY= ΔMs/P*1/k+j/k*r<0"
   ]
  },
  {
   "cell_type": "markdown",
   "id": "a8842590",
   "metadata": {},
   "source": [
    "<h1>IS-LM Model with exogenous interest set by the central bank</h1>"
   ]
  },
  {
   "cell_type": "markdown",
   "id": "8d88db06",
   "metadata": {},
   "source": [
    "* **Find the equilibrium equation  of Y and M0^s.**"
   ]
  },
  {
   "cell_type": "markdown",
   "id": "e3d1900f",
   "metadata": {},
   "source": [
    "Y=C+I+G+X-M\n",
    "\n",
    "\n",
    "Y=C0+b*(1-t)*Y+I0-h*r+t*Y+X0-m*Y\n",
    "\n",
    "\n",
    "Y*(1-b*(1-t)-t+m9=C0+I0-h*r+X0\n",
    "\n",
    "\n",
    "IS: Y=(C0+I0-h*r+X0+G0)/(1-b*(1-t)-t+m)\n",
    "\n",
    "\n",
    "LM: r=k/j*Y-Ms/P*1/j\n",
    "\n",
    "\n",
    "Equilibrium Y=r :\n",
    "\n",
    "\n",
    "\n",
    "Y(1+h*k/j*(alpha1)=(alpha0)/(alpha1)"
   ]
  },
  {
   "cell_type": "markdown",
   "id": "4fcb2890",
   "metadata": {},
   "source": [
    "* **Graph the Equilibrium in the IS-LM markets and draw a horizontal line for the exogenous value of r.**"
   ]
  },
  {
   "cell_type": "code",
   "execution_count": 175,
   "id": "90725852",
   "metadata": {},
   "outputs": [
    {
     "data": {
      "text/plain": [
       "'PLOT THE IS-SCHEDULE'"
      ]
     },
     "execution_count": 175,
     "metadata": {},
     "output_type": "execute_result"
    }
   ],
   "source": [
    "\"1|IMPORT PACKAGES\"\n",
    "import numpy as np               # Package for scientific computing with Python\n",
    "import matplotlib.pyplot as plt  # Matplotlib is a 2D plotting library\n",
    "\n",
    "\"|DEFINE PARAMETERS OF LM_0 AND ARRAYS\"\n",
    "\n",
    "# Parameters\n",
    "Y_size = 100\n",
    "            \n",
    "k = 0              \n",
    "j = 10                \n",
    "Ms = 20000             \n",
    "P  = 80      \n",
    "\n",
    "#(Ms/P)/j + k/j*Y=re\n",
    "# Arrays\n",
    "Y = np.arange(Y_size)  # Array values of Y\n",
    "\n",
    "\"|DEFINE AND POPULATE THE LM-SCHEDULE\"\n",
    "def i_LM( k, j, Ms, P, Y):\n",
    "    i_LM = (Ms/P)/j + k/j*Y\n",
    "    return i_LM\n",
    "LM_0 = i_LM( k, j, Ms, P, Y)\n",
    "#-------------------------------------  \n",
    "\"|DEFINE PARAMETERS OF LM_1 AND ARRAYS\"\n",
    "# Parameters\n",
    "Y_size = 100\n",
    "            \n",
    "k = 0              \n",
    "j = 10                \n",
    "Ms = 30000             \n",
    "P  = 80               \n",
    "# Arrays\n",
    "Y = np.arange(Y_size)  # Array values of Y\n",
    "\n",
    "\"|DEFINE AND POPULATE THE LM-SCHEDULE\"\n",
    "def i_LM( k, j, Ms, P, Y):\n",
    "    i_LM = (Ms/P)/j + k/j*Y\n",
    "    return i_LM\n",
    "LM_1 = i_LM( k, j, Ms, P, Y)\n",
    "#-------------------------------------  \n",
    "\n",
    "\n",
    "\n",
    "\"|DEFINE PARAMETERS OF IS_0 AND ARRAYS\"\n",
    "Y_size = 100\n",
    "c = 20                 \n",
    "b = 0.01               \n",
    "t = 0.9                  \n",
    "I_bar = 10             \n",
    "G_bar = 25  \n",
    "X_bar=2\n",
    "h = 1                  \n",
    "# Arrays\n",
    "Y = np.arange(Y_size)  \n",
    "\n",
    "\"3|DEFINE AND POPULATE THE IS-SCHEDULE\"\n",
    "\n",
    "def i_IS(c, b, t, I_bar, G_bar, X_bar, h, Y):\n",
    "    i_IS = -((1-b*(1-t))*Y/h)+(c+I_bar+G_bar+X_bar)/h\n",
    "    return i_IS\n",
    "\n",
    "def Y_IS(c, b, t, I_bar, G_bar, X_bar, h, i):\n",
    "    Y_IS = (c+I_bar+G_bar+X_bar)/(i-b(1-t))-(h*i)/(i-b(1-t))\n",
    "    return Y_IS\n",
    "\n",
    "\n",
    "i_1 = i_IS(c, b, t, I_bar, G_bar, X_bar, h, Y)\n",
    "\n",
    "\n",
    "\"|DEFINE PARAMETERS OF IS_2 AND ARRAYS\"\n",
    "Y_size = 100\n",
    "c = 20                 \n",
    "b = 0.01               \n",
    "t = 0.9                  \n",
    "I_bar = 10             \n",
    "G_bar = 15  \n",
    "X_bar=2\n",
    "h = 1                  \n",
    "# Arrays\n",
    "Y = np.arange(Y_size)  \n",
    "\n",
    "\"3|DEFINE AND POPULATE THE IS-SCHEDULE\"\n",
    "\n",
    "def i_IS(c, b, t, I_bar, G_bar, X_bar, h, Y):\n",
    "    i_IS = -((1-b*(1-t))*Y/h)+(c+I_bar+G_bar+X_bar)/h\n",
    "    return i_IS\n",
    "\n",
    "def Y_IS(c, b, t, I_bar, G_bar, X_bar, h, i):\n",
    "    Y_IS = (c+I_bar+G_bar+X_bar)/(i-b(1-t))-(h*i)/(i-b(1-t))\n",
    "    return Y_IS\n",
    "\n",
    "\n",
    "i_2 = i_IS(c, b, t, I_bar, G_bar, X_bar, h, Y)\n",
    "\n",
    "\n",
    "\n",
    "\"|DEFINE PARAMETERS OF IS_3 AND ARRAYS\"\n",
    "Y_size = 100\n",
    "c = 20                 \n",
    "b = 0.01               \n",
    "t = 0.9                  \n",
    "I_bar = 30             \n",
    "G_bar = 25  \n",
    "X_bar=2\n",
    "h = 1                  \n",
    "# Arrays\n",
    "Y = np.arange(Y_size)  \n",
    "\n",
    "\"3|DEFINE AND POPULATE THE IS-SCHEDULE\"\n",
    "\n",
    "def i_IS(c, b, t, I_bar, G_bar, X_bar, h, Y):\n",
    "    i_IS = -((1-b*(1-t))*Y/h)+(c+I_bar+G_bar+X_bar)/h\n",
    "    return i_IS\n",
    "\n",
    "def Y_IS(c, b, t, I_bar, G_bar, X_bar, h, i):\n",
    "    Y_IS = (c+I_bar+G_bar+X_bar)/(i-b(1-t))-(h*i)/(i-b(1-t))\n",
    "    return Y_IS\n",
    "\n",
    "\n",
    "i_3 = i_IS(c, b, t, I_bar, G_bar, X_bar, h, Y)\n",
    "\n",
    "\n",
    "\n",
    "\n",
    "\n",
    "\"PLOT THE IS-SCHEDULE\"\n",
    "\n",
    "#---------------------------------------------------"
   ]
  },
  {
   "cell_type": "code",
   "execution_count": 181,
   "id": "9bc31756",
   "metadata": {},
   "outputs": [
    {
     "name": "stderr",
     "output_type": "stream",
     "text": [
      "C:\\Users\\catono\\AppData\\Local\\Temp/ipykernel_8760/594165860.py:6: UserWarning: color is redundantly defined by the 'color' keyword argument and the fmt string \"b-\" (-> color='b'). The keyword argument will take precedence.\n",
      "  ax.plot(Y, LM_0, \"b-\", color=\"black\", label=\"LM_0\")\n",
      "C:\\Users\\catono\\AppData\\Local\\Temp/ipykernel_8760/594165860.py:7: UserWarning: linestyle is redundantly defined by the 'linestyle' keyword argument and the fmt string \"b-\" (-> linestyle='-'). The keyword argument will take precedence.\n",
      "  ax.plot(Y, LM_1, \"b-\",linestyle=':', color=\"blue\", label=\"LM_1\")\n",
      "C:\\Users\\catono\\AppData\\Local\\Temp/ipykernel_8760/594165860.py:7: UserWarning: color is redundantly defined by the 'color' keyword argument and the fmt string \"b-\" (-> color='b'). The keyword argument will take precedence.\n",
      "  ax.plot(Y, LM_1, \"b-\",linestyle=':', color=\"blue\", label=\"LM_1\")\n",
      "C:\\Users\\catono\\AppData\\Local\\Temp/ipykernel_8760/594165860.py:8: UserWarning: color is redundantly defined by the 'color' keyword argument and the fmt string \"b-\" (-> color='b'). The keyword argument will take precedence.\n",
      "  ax.plot(Y, i_1, \"b-\", color=\"black\", label=\"i_0\")\n",
      "C:\\Users\\catono\\AppData\\Local\\Temp/ipykernel_8760/594165860.py:9: UserWarning: linestyle is redundantly defined by the 'linestyle' keyword argument and the fmt string \"b-\" (-> linestyle='-'). The keyword argument will take precedence.\n",
      "  ax.plot(Y, i_2, \"b-\",linestyle=':', color=\"red\", label=\"i_1\")\n",
      "C:\\Users\\catono\\AppData\\Local\\Temp/ipykernel_8760/594165860.py:9: UserWarning: color is redundantly defined by the 'color' keyword argument and the fmt string \"b-\" (-> color='b'). The keyword argument will take precedence.\n",
      "  ax.plot(Y, i_2, \"b-\",linestyle=':', color=\"red\", label=\"i_1\")\n",
      "C:\\Users\\catono\\AppData\\Local\\Temp/ipykernel_8760/594165860.py:10: UserWarning: linestyle is redundantly defined by the 'linestyle' keyword argument and the fmt string \"b-\" (-> linestyle='-'). The keyword argument will take precedence.\n",
      "  ax.plot(Y, i_3, \"b-\",linestyle=':', color=\"blue\", label=\"i_2\")\n",
      "C:\\Users\\catono\\AppData\\Local\\Temp/ipykernel_8760/594165860.py:10: UserWarning: color is redundantly defined by the 'color' keyword argument and the fmt string \"b-\" (-> color='b'). The keyword argument will take precedence.\n",
      "  ax.plot(Y, i_3, \"b-\",linestyle=':', color=\"blue\", label=\"i_2\")\n"
     ]
    },
    {
     "data": {
      "text/plain": [
       "Text(39.54, 38.5, 'E2')"
      ]
     },
     "execution_count": 181,
     "metadata": {},
     "output_type": "execute_result"
    },
    {
     "data": {
      "image/png": "[encoded data removed]",
      "text/plain": [
       "<Figure size 720x576 with 1 Axes>"
      ]
     },
     "metadata": {
      "needs_background": "light"
     },
     "output_type": "display_data"
    }
   ],
   "source": [
    "y_max = np.max(i_0)\n",
    "\n",
    "v = [0, Y_size, 0, y_max]                       # Set the axes range\n",
    "fig, ax = plt.subplots(figsize=(10, 8))\n",
    "ax.set(title=\"LM SCHEDULE\", xlabel=r'Y', ylabel=r'MS')\n",
    "ax.plot(Y, LM_0, \"b-\", color=\"black\", label=\"LM_0\")\n",
    "ax.plot(Y, LM_1, \"b-\",linestyle=':', color=\"blue\", label=\"LM_1\")\n",
    "ax.plot(Y, i_1, \"b-\", color=\"black\", label=\"i_0\")\n",
    "ax.plot(Y, i_2, \"b-\",linestyle=':', color=\"red\", label=\"i_1\")\n",
    "ax.plot(Y, i_3, \"b-\",linestyle=':', color=\"blue\", label=\"i_2\")\n",
    "\n",
    "\n",
    "\n",
    "plt.plot(32.03, 25, marker=\"o\", color=\"black\", label = \"E0\")\n",
    "plt.plot(22.02, 25, marker=\"o\", color=\"black\", label = \"E1\")\n",
    "plt.plot(39.54, 37.5, marker=\"o\", color=\"black\", label = \"E2\")\n",
    "\n",
    "plt.text(32.03, 26, 'E0', fontsize = 14, color = 'black')\n",
    "plt.text(22.02, 26, 'E1', fontsize = 14, color = 'black')\n",
    "plt.text(39.54, 38.5, 'E2', fontsize = 14, color = 'black')\n",
    "\n"
   ]
  },
  {
   "cell_type": "markdown",
   "id": "dad78087",
   "metadata": {},
   "source": [
    "* **What happens with the endogenous variables if G decreases? Explain using intuition, Math, and a Figure.**"
   ]
  },
  {
   "cell_type": "markdown",
   "id": "2ceb4d72",
   "metadata": {},
   "source": [
    "**intuition**\n",
    "\n",
    "\n",
    "G ↓→DA ↓ →DA<Y →Y ↓\n",
    "\n",
    "\n",
    "r=0\n",
    "\n"
   ]
  },
  {
   "cell_type": "markdown",
   "id": "af1becfa",
   "metadata": {},
   "source": [
    "**mathematics**\n",
    "\n",
    "\n",
    "ΔY= ΔG*j/(j*(alpha1)+h*k)<0\n",
    "\n",
    "\n",
    "Δr=0\n",
    "\n"
   ]
  },
  {
   "cell_type": "markdown",
   "id": "45be481b",
   "metadata": {},
   "source": [
    "* **What happens with the endogenous variables if r decreases? Explain using intuition, Math, and a Figure.**"
   ]
  },
  {
   "cell_type": "markdown",
   "id": "bbf088df",
   "metadata": {},
   "source": [
    "**intuition**\n",
    "\n",
    "\n",
    "r ↓ →I ↑ →DA ↑ →DA>Y →Y ↑\n",
    "\n",
    "\n",
    "\n"
   ]
  },
  {
   "cell_type": "markdown",
   "id": "76dc9b10",
   "metadata": {},
   "source": [
    "**mathematics**\n",
    "\n",
    "\n",
    "\n",
    "ΔY=-h Δr/(alpha1)>0\n",
    "\n",
    "\n",
    "Δr=<0"
   ]
  }
 ],
 "metadata": {
  "kernelspec": {
   "display_name": "Python 3 (ipykernel)",
   "language": "python",
   "name": "python3"
  },
  "language_info": {
   "codemirror_mode": {
    "name": "ipython",
    "version": 3
   },
   "file_extension": ".py",
   "mimetype": "text/x-python",
   "name": "python",
   "nbconvert_exporter": "python",
   "pygments_lexer": "ipython3",
   "version": "3.9.7"
  }
 },
 "nbformat": 4,
 "nbformat_minor": 5
}
